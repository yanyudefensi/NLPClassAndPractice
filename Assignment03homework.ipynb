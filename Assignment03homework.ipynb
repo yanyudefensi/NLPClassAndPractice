{
 "cells": [
  {
   "cell_type": "markdown",
   "metadata": {},
   "source": [
    "## Assignment-03 First Step of Machine Learning: Model and Evaluation"
   ]
  },
  {
   "cell_type": "markdown",
   "metadata": {},
   "source": [
    "同学们，今天我们的学习了基本的机器学习概念，相比你已经对机器学习的这些方法有一个基本的认识了。值得说明的是，机器学习不仅仅是一系列方法，更重要的是一种思维体系，即：依据以往的、现有的数据，构建某种方法来解决未见过的问题。而且决策树，贝叶斯只是实现这个目标的一个方法，包括之后的神经网络。很有可能有一天，神经网络也会被淘汰，但是重要的是我们要理解机器学习的目标，就是尽可能的自动化解决未知的问题。"
   ]
  },
  {
   "cell_type": "markdown",
   "metadata": {},
   "source": [
    "![](https://timgsa.baidu.com/timg?image&quality=80&size=b9999_10000&sec=1571556399207&di=4a97dc15ad08dd49d3748d1edf6109b3&imgtype=0&src=http%3A%2F%2Fc.hiphotos.baidu.com%2Fzhidao%2Fwh%3D450%2C600%2Fsign%3Dae742c6aedcd7b89e93932873a146e91%2F5d6034a85edf8db1b16050c40223dd54574e74c7.jpg)"
   ]
  },
  {
   "cell_type": "markdown",
   "metadata": {},
   "source": [
    "## Part-1 Programming Review 编程回顾"
   ]
  },
  {
   "cell_type": "markdown",
   "metadata": {},
   "source": [
    "#### 1. Re-code the Linear-Regression Model using scikit-learning(10 points)"
   ]
  },
  {
   "cell_type": "markdown",
   "metadata": {},
   "source": [
    "<评阅点>： \n",
    "> + 是否完成线性回归模型 (4')\n",
    "+ 能够进行预测新数据(3')\n",
    "+ 能够进行可视化操作(3')"
   ]
  },
  {
   "cell_type": "code",
   "execution_count": 13,
   "metadata": {
    "execution_event_id": "2ed3f451-546b-4164-833f-fbf45e38adf9",
    "last_executed_text": "from sklearn.linear_model import LinearRegression\nimport mglearn\nfrom sklearn.model_selection import train_test_split\nimport matplotlib.pyplot as plt\nimport seaborn as sns",
    "persistent_id": "99988cb7-657e-4b26-8f25-33b98788b204"
   },
   "outputs": [
    {
     "name": "stderr",
     "output_type": "stream",
     "text": [
      "/Users/junjiexie/opt/anaconda3/lib/python3.7/site-packages/sklearn/externals/six.py:31: DeprecationWarning: The module is deprecated in version 0.21 and will be removed in version 0.23 since we've dropped support for Python 2.7. Please rely on the official version of six (https://pypi.org/project/six/).\n",
      "  \"(https://pypi.org/project/six/).\", DeprecationWarning)\n",
      "/Users/junjiexie/opt/anaconda3/lib/python3.7/site-packages/sklearn/externals/joblib/__init__.py:15: DeprecationWarning: sklearn.externals.joblib is deprecated in 0.21 and will be removed in 0.23. Please import this functionality directly from joblib, which can be installed with: pip install joblib. If this warning is raised when loading pickled models, you may need to re-serialize those models with scikit-learn 0.21+.\n",
      "  warnings.warn(msg, category=DeprecationWarning)\n"
     ]
    }
   ],
   "source": [
    "from sklearn.linear_model import LinearRegression\n",
    "import mglearn\n",
    "from sklearn.model_selection import train_test_split\n",
    "import matplotlib.pyplot as plt\n",
    "import seaborn as sns"
   ]
  },
  {
   "cell_type": "code",
   "execution_count": 2,
   "metadata": {
    "execution_event_id": "955a2029-5649-4064-8881-04b4924a19c9",
    "last_executed_text": "# %matplotlib widget",
    "persistent_id": "cc92df7b-7576-420c-a46f-4cb0c1a9af47"
   },
   "outputs": [],
   "source": [
    "# %matplotlib widget"
   ]
  },
  {
   "cell_type": "code",
   "execution_count": 3,
   "metadata": {
    "execution_event_id": "a142338c-aa7d-4e1f-bdb2-aa1bb9053b6a",
    "last_executed_text": "X,y = mglearn.datasets.make_wave(n_samples=60)",
    "persistent_id": "5d95ceff-ce7f-41e5-aadd-48092f55b5c8"
   },
   "outputs": [],
   "source": [
    "X,y = mglearn.datasets.make_wave(n_samples=60)"
   ]
  },
  {
   "cell_type": "code",
   "execution_count": 4,
   "metadata": {
    "execution_event_id": "e700719c-fb37-4cac-8dbe-5be77664c1ff",
    "last_executed_text": "X_train,X_test,y_train,y_test = train_test_split(X,y)",
    "persistent_id": "8eed7098-fa96-4a60-a552-934f2ffc5cb2"
   },
   "outputs": [],
   "source": [
    "X_train,X_test,y_train,y_test = train_test_split(X,y)"
   ]
  },
  {
   "cell_type": "code",
   "execution_count": 5,
   "metadata": {
    "execution_event_id": "f70b93c2-4c36-4d1d-9a47-b4f88979dda8",
    "last_executed_text": "lr = LinearRegression().fit(X_train,y_train)",
    "persistent_id": "bd483e77-a316-4e9f-b20d-221f96b6f4f7"
   },
   "outputs": [],
   "source": [
    "lr = LinearRegression().fit(X_train,y_train)"
   ]
  },
  {
   "cell_type": "code",
   "execution_count": 6,
   "metadata": {
    "execution_event_id": "d75d5622-1837-4304-b731-07e96941b290",
    "last_executed_text": "print(\"training score is {:.2f}\".format(lr.score(X_train,y_train)))\nprint(\"testing score is {:.2f}\".format(lr.score(X_test,y_test))) #测试集就当做全新的数据",
    "persistent_id": "64581075-ad62-4acf-9396-eb02efc84d56"
   },
   "outputs": [
    {
     "name": "stdout",
     "output_type": "stream",
     "text": [
      "training score is 0.68\n",
      "testing score is 0.57\n"
     ]
    }
   ],
   "source": [
    "print(\"training score is {:.2f}\".format(lr.score(X_train,y_train)))\n",
    "print(\"testing score is {:.2f}\".format(lr.score(X_test,y_test))) #测试集就当做全新的数据"
   ]
  },
  {
   "cell_type": "code",
   "execution_count": 7,
   "metadata": {
    "execution_event_id": "094f26ad-63d7-4b52-866e-c0499b1a6117",
    "last_executed_text": "y_predict = lr.predict(X_test)",
    "persistent_id": "c66a57a9-3e16-41b1-badc-bf5d6ae2e3ac"
   },
   "outputs": [],
   "source": [
    "y_predict = lr.predict(X_test)"
   ]
  },
  {
   "cell_type": "code",
   "execution_count": 8,
   "metadata": {
    "execution_event_id": "f3f2c6be-3c23-4bad-b834-08ba7a46a724",
    "last_executed_text": "#针对新数据的可视化分析\nfig = plt.figure()\nax = fig.add_subplot(1,1,1)\nax.scatter(X_test,y_test)\nax.plot(X_test,y_predict,color=\"red\")",
    "persistent_id": "b561bd2a-2413-464d-adaa-a95905663d36"
   },
   "outputs": [
    {
     "data": {
      "text/plain": [
       "[<matplotlib.lines.Line2D at 0x1a1d1c1bd0>]"
      ]
     },
     "execution_count": 8,
     "metadata": {},
     "output_type": "execute_result"
    },
    {
     "data": {
      "image/png": "[encoded data removed]",
      "text/plain": [
       "<Figure size 432x288 with 1 Axes>"
      ]
     },
     "metadata": {
      "needs_background": "light"
     },
     "output_type": "display_data"
    }
   ],
   "source": [
    "#针对新数据的可视化分析\n",
    "fig = plt.figure()\n",
    "ax = fig.add_subplot(1,1,1)\n",
    "ax.scatter(X_test,y_test)\n",
    "ax.plot(X_test,y_predict,color=\"red\")"
   ]
  },
  {
   "cell_type": "markdown",
   "metadata": {},
   "source": [
    "#### 2. Complete the unfinished KNN Model using pure python to solve the previous Line-Regression problem. (8 points)"
   ]
  },
  {
   "cell_type": "markdown",
   "metadata": {},
   "source": [
    "<评阅点>:\n",
    "> + 是否完成了KNN模型 (4')\n",
    "+ 是否能够预测新的数据 (4')"
   ]
  },
  {
   "cell_type": "code",
   "execution_count": 20,
   "metadata": {
    "execution_event_id": "c400bd4c-0dec-49f1-9f70-05c79355ae74",
    "last_executed_text": "def model(X, y):\n    # 直接存储 X,y 即可\n    return [(Xi, yi) for Xi, yi in zip(X, y)]",
    "persistent_id": "e7ee282d-313f-4b83-b647-ed5f300916e6"
   },
   "outputs": [],
   "source": [
    "def model(X, y):\n",
    "    # 直接存储 X,y 即可\n",
    "    return [(Xi, yi) for Xi, yi in zip(X, y)]"
   ]
  },
  {
   "cell_type": "code",
   "execution_count": 21,
   "metadata": {
    "execution_event_id": "c71fd347-b7b1-47b8-b125-a3d66e2615f0",
    "last_executed_text": "from scipy.spatial.distance import cosine\nimport numpy as np",
    "persistent_id": "d162dc54-defe-45af-a0d9-6ed7ed9ec77f"
   },
   "outputs": [],
   "source": [
    "from scipy.spatial.distance import cosine\n",
    "import numpy as np"
   ]
  },
  {
   "cell_type": "code",
   "execution_count": 22,
   "metadata": {
    "execution_event_id": "398f1444-bcfb-4ff4-859c-89cbe891d59a",
    "last_executed_text": "def distance(x1, x2):\n    #这里以余弦距离作为距离衡量标准\n    return cosine(x1, x2)",
    "persistent_id": "8d3bb18f-b599-4d9a-bf38-1acf4430a4e7"
   },
   "outputs": [],
   "source": [
    "def distance(x1, x2):\n",
    "    #这里以余弦距离作为距离衡量标准\n",
    "    return cosine(x1, x2)"
   ]
  },
  {
   "cell_type": "code",
   "execution_count": 46,
   "metadata": {
    "execution_event_id": "d25777ae-6d51-4d4e-aee4-7a3e83b7417a",
    "last_executed_text": "def KNN_regression(x, k=5):\n    # 在predicate的时候，需要做大量的计算\n    most_similars = sorted(model(X, y), key=lambda xi: distance(xi[0], x))[:k]\n    \n    y_hats = [_y for x, _y in most_similars]\n    \n#     print(most_similars)\n    \n    return np.mean(y_hats)\n    # -> regression: numerical -> most_similars (y)\n    # -> classification: categorical -> most_similar (y)\n    \n    # 已经获得了最相似的数据集\n    # 然后呢，Counter() -> most_common() -> 就可以获得出现最多的这个y了 ",
    "persistent_id": "d8e7ee42-40e2-4800-bd06-ffcf117f35fa"
   },
   "outputs": [],
   "source": [
    "def KNN_regression(x, k=5):\n",
    "    # 在predicate的时候，需要做大量的计算\n",
    "    most_similars = sorted(model(X, y), key=lambda xi: distance(xi[0], x))[:k]\n",
    "    \n",
    "    y_hats = [_y for x, _y in most_similars]\n",
    "    \n",
    "#     print(most_similars)\n",
    "    \n",
    "    return np.mean(y_hats)\n",
    "    # -> regression: numerical -> most_similars (y)\n",
    "    # -> classification: categorical -> most_similar (y)\n",
    "    \n",
    "    # 已经获得了最相似的数据集\n",
    "    # 然后呢，Counter() -> most_common() -> 就可以获得出现最多的这个y了 "
   ]
  },
  {
   "cell_type": "code",
   "execution_count": 47,
   "metadata": {
    "execution_event_id": "46734c3a-d8f1-43bd-b1a4-2741f5d0e6ff",
    "last_executed_text": "knn_y_predict = [[KNN_regression(xi)] for xi in X_test]",
    "persistent_id": "fef8d150-11f2-4887-a9da-b18e703773a9"
   },
   "outputs": [],
   "source": [
    "knn_y_predict = [[KNN_regression(xi)] for xi in X_test]"
   ]
  },
  {
   "cell_type": "code",
   "execution_count": 48,
   "metadata": {
    "execution_event_id": "20934672-bc50-4deb-bc5c-67443b1a6cf9",
    "last_executed_text": "from sklearn.metrics import mean_squared_error",
    "persistent_id": "c8930f2a-0b11-48a3-b9a6-5c0ba82959c3"
   },
   "outputs": [],
   "source": [
    "from sklearn.metrics import mean_squared_error"
   ]
  },
  {
   "cell_type": "code",
   "execution_count": 49,
   "metadata": {
    "execution_event_id": "b0fcf18f-e99a-4cd3-bdf4-ce18a3a9e405",
    "last_executed_text": "print('线性回归的MSE为：',mean_squared_error(y_test,y_predict))\nprint('knn回归的MSE为：',mean_squared_error(y_test,knn_y_predict))",
    "persistent_id": "afef60e8-b714-4db9-9b0f-4dbd3920c99a"
   },
   "outputs": [
    {
     "name": "stdout",
     "output_type": "stream",
     "text": [
      "线性回归的MSE为： 0.3320399734592601\n",
      "knn回归的MSE为： 0.4212055464657437\n"
     ]
    }
   ],
   "source": [
    "print('线性回归的MSE为：',mean_squared_error(y_test,y_predict))\n",
    "print('knn回归的MSE为：',mean_squared_error(y_test,knn_y_predict))"
   ]
  },
  {
   "cell_type": "markdown",
   "metadata": {},
   "source": [
    "#### 3. Re-code the Decision Tree, which could sort the features by salience. (12 points)"
   ]
  },
  {
   "cell_type": "markdown",
   "metadata": {},
   "source": [
    "<评阅点>\n",
    "> + 是否实现了信息熵 (1' )\n",
    "+ 是否实现了最优先特征点的选择(5')\n",
    "+ 是否实现了持续的特征选则(6')"
   ]
  },
  {
   "cell_type": "code",
   "execution_count": 4,
   "metadata": {
    "execution_event_id": "857e4d2c-8db4-482d-b634-9e4c5c00cca0",
    "last_executed_text": "mock_data = {\n    'gender':['F', 'M', 'F', 'F', 'M', 'M', 'M'],\n    'income': ['+10', '-10', '+10', '+10', '+10', '+10', '-10'],\n    'family_number': [1, 1, 2, 1, 1, 1, 2],\n   # 'pet': [1, 1, 1, 0, 0, 0, 1],\n    'bought': [1, 1, 1, 0, 0, 0, 1],\n}",
    "persistent_id": "cd45b35d-ef65-41ef-ab5e-0c188895dae4"
   },
   "outputs": [],
   "source": [
    "mock_data = {\n",
    "    'gender':['F', 'M', 'F', 'F', 'M', 'M', 'M'],\n",
    "    'income': ['+10', '-10', '+10', '+10', '+10', '+10', '-10'],\n",
    "    'family_number': [1, 1, 2, 1, 1, 1, 2],\n",
    "   # 'pet': [1, 1, 1, 0, 0, 0, 1],\n",
    "    'bought': [1, 1, 1, 0, 0, 0, 1],\n",
    "}"
   ]
  },
  {
   "cell_type": "code",
   "execution_count": 11,
   "metadata": {
    "execution_event_id": "5648dc04-3e3c-403a-8b22-75445ad20dbf",
    "last_executed_text": "import pandas as pd\nfrom collections import Counter\nfrom icecream import ic\nimport numpy as np\ndataset = pd.DataFrame.from_dict(mock_data)",
    "persistent_id": "948bfebc-3f0f-44e1-ae12-0fee29ecaef3"
   },
   "outputs": [],
   "source": [
    "import pandas as pd\n",
    "from collections import Counter\n",
    "from icecream import ic\n",
    "import numpy as np\n",
    "dataset = pd.DataFrame.from_dict(mock_data)"
   ]
  },
  {
   "cell_type": "code",
   "execution_count": 6,
   "metadata": {
    "execution_event_id": "af7297d8-4b44-4f47-b357-9bdb36d81d68",
    "last_executed_text": "dataset",
    "persistent_id": "7b7c0c3b-f538-4f55-8307-39f1bd2f7537"
   },
   "outputs": [
    {
     "data": {
      "text/html": [
       "<div>\n",
       "<style scoped>\n",
       "    .dataframe tbody tr th:only-of-type {\n",
       "        vertical-align: middle;\n",
       "    }\n",
       "\n",
       "    .dataframe tbody tr th {\n",
       "        vertical-align: top;\n",
       "    }\n",
       "\n",
       "    .dataframe thead th {\n",
       "        text-align: right;\n",
       "    }\n",
       "</style>\n",
       "<table border=\"1\" class=\"dataframe\">\n",
       "  <thead>\n",
       "    <tr style=\"text-align: right;\">\n",
       "      <th></th>\n",
       "      <th>gender</th>\n",
       "      <th>income</th>\n",
       "      <th>family_number</th>\n",
       "      <th>bought</th>\n",
       "    </tr>\n",
       "  </thead>\n",
       "  <tbody>\n",
       "    <tr>\n",
       "      <td>0</td>\n",
       "      <td>F</td>\n",
       "      <td>+10</td>\n",
       "      <td>1</td>\n",
       "      <td>1</td>\n",
       "    </tr>\n",
       "    <tr>\n",
       "      <td>1</td>\n",
       "      <td>M</td>\n",
       "      <td>-10</td>\n",
       "      <td>1</td>\n",
       "      <td>1</td>\n",
       "    </tr>\n",
       "    <tr>\n",
       "      <td>2</td>\n",
       "      <td>F</td>\n",
       "      <td>+10</td>\n",
       "      <td>2</td>\n",
       "      <td>1</td>\n",
       "    </tr>\n",
       "    <tr>\n",
       "      <td>3</td>\n",
       "      <td>F</td>\n",
       "      <td>+10</td>\n",
       "      <td>1</td>\n",
       "      <td>0</td>\n",
       "    </tr>\n",
       "    <tr>\n",
       "      <td>4</td>\n",
       "      <td>M</td>\n",
       "      <td>+10</td>\n",
       "      <td>1</td>\n",
       "      <td>0</td>\n",
       "    </tr>\n",
       "    <tr>\n",
       "      <td>5</td>\n",
       "      <td>M</td>\n",
       "      <td>+10</td>\n",
       "      <td>1</td>\n",
       "      <td>0</td>\n",
       "    </tr>\n",
       "    <tr>\n",
       "      <td>6</td>\n",
       "      <td>M</td>\n",
       "      <td>-10</td>\n",
       "      <td>2</td>\n",
       "      <td>1</td>\n",
       "    </tr>\n",
       "  </tbody>\n",
       "</table>\n",
       "</div>"
      ],
      "text/plain": [
       "  gender income  family_number  bought\n",
       "0      F    +10              1       1\n",
       "1      M    -10              1       1\n",
       "2      F    +10              2       1\n",
       "3      F    +10              1       0\n",
       "4      M    +10              1       0\n",
       "5      M    +10              1       0\n",
       "6      M    -10              2       1"
      ]
     },
     "execution_count": 6,
     "metadata": {},
     "output_type": "execute_result"
    }
   ],
   "source": [
    "dataset"
   ]
  },
  {
   "cell_type": "code",
   "execution_count": 7,
   "metadata": {
    "execution_event_id": "cf91a821-5796-4613-952c-37cc48b7f437",
    "last_executed_text": "def entropy(elements):\n    '''群体的混乱程度，信息熵'''\n    counter = Counter(elements)\n    probs = [counter[c] / len(elements) for c in set(elements)]\n#     ic(probs)\n    return - sum(p * np.log(p) for p in probs)",
    "persistent_id": "71a10e16-219d-4fa7-adb1-f4bed4fcfefe"
   },
   "outputs": [],
   "source": [
    "def entropy(elements):\n",
    "    '''群体的混乱程度，信息熵'''\n",
    "    counter = Counter(elements)\n",
    "    probs = [counter[c] / len(elements) for c in set(elements)]\n",
    "#     ic(probs)\n",
    "    return - sum(p * np.log(p) for p in probs)"
   ]
  },
  {
   "cell_type": "code",
   "execution_count": 13,
   "metadata": {
    "execution_event_id": "6da4860a-5548-4a05-84af-18f67015d03c",
    "last_executed_text": "\"\"\"找到最佳的特征划分决策树，但仅限于一级，没有进一步延伸，加一个递归条件就可以改造成依次拓展每一层决策条件了\n(划分次数呈2^n增长），有时间再做\"\"\"\ndef find_the_optimal_spilter(training_data: pd.DataFrame, target: str) -> str:\n    x_fields = set(training_data.columns.tolist()) - {target}\n    \n    spliter = None\n    min_entropy = float('inf')\n    \n    for f in x_fields:\n        ic(f)\n        values = set(training_data[f])\n        ic(values)\n        for v in values:\n            sub_spliter_1 = training_data[training_data[f] == v][target].tolist()\n#             ic(sub_spliter_1)\n            # split by the current feature and one value\n            \n            entropy_1 = entropy(sub_spliter_1)\n#             ic(entropy_1)\n            \n            sub_spliter_2 = training_data[training_data[f] != v][target].tolist()\n#             ic(sub_split_2)\n            \n            entropy_2 = entropy(sub_spliter_2)\n#             ic(entropy_2)\n            \n            entropy_v = entropy_1 + entropy_2\n#             ic(entropy_v)\n            \n            if entropy_v < min_entropy:\n                min_entropy = entropy_v\n                spliter = (f, v)\n    \n    print('spliter is: {}'.format(spliter))\n    print('the min entropy is: {}'.format(min_entropy))\n    \n    return spliter",
    "persistent_id": "591c9dfc-264d-40d4-9301-7824ba2ceae8"
   },
   "outputs": [],
   "source": [
    "\"\"\"找到最佳的特征划分决策树，但仅限于一级，没有进一步延伸，加一个递归条件就可以改造成依次拓展每一层决策条件了\n",
    "(划分次数呈2^n增长），有时间再做\"\"\"\n",
    "def find_the_optimal_spilter(training_data: pd.DataFrame, target: str) -> str:\n",
    "    x_fields = set(training_data.columns.tolist()) - {target}\n",
    "    \n",
    "    spliter = None\n",
    "    min_entropy = float('inf')\n",
    "    \n",
    "    for f in x_fields:\n",
    "        ic(f)\n",
    "        values = set(training_data[f])\n",
    "        ic(values)\n",
    "        for v in values:\n",
    "            sub_spliter_1 = training_data[training_data[f] == v][target].tolist()\n",
    "#             ic(sub_spliter_1)\n",
    "            # split by the current feature and one value\n",
    "            \n",
    "            entropy_1 = entropy(sub_spliter_1)\n",
    "#             ic(entropy_1)\n",
    "            \n",
    "            sub_spliter_2 = training_data[training_data[f] != v][target].tolist()\n",
    "#             ic(sub_split_2)\n",
    "            \n",
    "            entropy_2 = entropy(sub_spliter_2)\n",
    "#             ic(entropy_2)\n",
    "            \n",
    "            entropy_v = entropy_1 + entropy_2\n",
    "#             ic(entropy_v)\n",
    "            \n",
    "            if entropy_v < min_entropy:\n",
    "                min_entropy = entropy_v\n",
    "                spliter = (f, v)\n",
    "    \n",
    "    print('spliter is: {}'.format(spliter))\n",
    "    print('the min entropy is: {}'.format(min_entropy))\n",
    "    \n",
    "    return spliter"
   ]
  },
  {
   "cell_type": "code",
   "execution_count": 17,
   "metadata": {
    "execution_event_id": "61041371-da92-4db6-8144-eea3f4b38460",
    "last_executed_text": "def persistent_spliter_choice(training_data: pd.DataFrame, target: str, count=0, spilter_list=None):\n     \n    if count == 0:\n        spilter_list = {}\n        \n        a_spiliter_choice = find_the_optimal_spilter(training_data = training_data, target = target)\n        count = count + 1\n        spilter_list[\"第\"+str(count)+\"次特征选择\"] = a_spiliter_choice\n\n    else:\n        #因为已经找到了最佳的分割点，有一方无法继续分割，向另外一方继续分割\n#         print(spilter_list[\"第\"+str(count-1)+\"次特征选择\"][0])\n#         print(spilter_list[\"第\"+str(count-1)+\"次特征选择\"][1])\n\n        a_spiliter_choice = find_the_optimal_spilter(training_data = training_data, target = target)\n    \n        #设置递归终止条件\n        if a_spiliter_choice == None:\n            return spilter_list\n        \n        count = count + 1\n        spilter_list[\"第\"+str(count)+\"次特征选择\"] = a_spiliter_choice\n        \n\n\n    key = spilter_list[\"第\"+str(count)+\"次特征选择\"][0]\n    value = spilter_list[\"第\"+str(count)+\"次特征选择\"][1]\n    new_training_data = training_data[training_data[key] != value]\n    print(new_training_data)\n            \n    return persistent_spliter_choice(training_data = new_training_data,target=target,count = count,spilter_list=spilter_list)",
    "persistent_id": "3292e0e6-21e1-40ec-88e9-f272265075ab"
   },
   "outputs": [],
   "source": [
    "def persistent_spliter_choice(training_data: pd.DataFrame, target: str, count=0, spilter_list=None):\n",
    "     \n",
    "    if count == 0:\n",
    "        spilter_list = {}\n",
    "        \n",
    "        a_spiliter_choice = find_the_optimal_spilter(training_data = training_data, target = target)\n",
    "        count = count + 1\n",
    "        spilter_list[\"第\"+str(count)+\"次特征选择\"] = a_spiliter_choice\n",
    "\n",
    "    else:\n",
    "        #因为已经找到了最佳的分割点，有一方无法继续分割，向另外一方继续分割\n",
    "#         print(spilter_list[\"第\"+str(count-1)+\"次特征选择\"][0])\n",
    "#         print(spilter_list[\"第\"+str(count-1)+\"次特征选择\"][1])\n",
    "\n",
    "        a_spiliter_choice = find_the_optimal_spilter(training_data = training_data, target = target)\n",
    "    \n",
    "        #设置递归终止条件\n",
    "        if a_spiliter_choice == None:\n",
    "            return spilter_list\n",
    "        \n",
    "        count = count + 1\n",
    "        spilter_list[\"第\"+str(count)+\"次特征选择\"] = a_spiliter_choice\n",
    "        \n",
    "\n",
    "\n",
    "    key = spilter_list[\"第\"+str(count)+\"次特征选择\"][0]\n",
    "    value = spilter_list[\"第\"+str(count)+\"次特征选择\"][1]\n",
    "    new_training_data = training_data[training_data[key] != value]\n",
    "    print(new_training_data)\n",
    "            \n",
    "    return persistent_spliter_choice(training_data = new_training_data,target=target,count = count,spilter_list=spilter_list)"
   ]
  },
  {
   "cell_type": "code",
   "execution_count": 18,
   "metadata": {
    "execution_event_id": "4ce32b78-5732-4d23-85ab-c0d2c9a865f7",
    "last_executed_text": "all_spliter_choice = persistent_spliter_choice(training_data=dataset, target='bought')",
    "persistent_id": "3fb2e02b-65bc-43bb-b372-a207226bdce4"
   },
   "outputs": [
    {
     "name": "stderr",
     "output_type": "stream",
     "text": [
      "ic| f: 'gender'\n",
      "ic| values: {'M', 'F'}\n",
      "ic| f: 'income'\n",
      "ic| values: {'-10', '+10'}\n",
      "ic| f: 'family_number'\n",
      "ic| values: {1, 2}\n",
      "ic| f: 'gender'\n",
      "ic| values: {'M', 'F'}\n",
      "ic| f: 'income'\n",
      "ic| values: {'+10'}\n",
      "ic| f: 'family_number'\n",
      "ic| values: {1, 2}\n",
      "ic| f: 'gender'\n",
      "ic| values: {'F'}\n",
      "ic| f: 'income'\n",
      "ic| values: {'+10'}\n",
      "ic| f: 'family_number'\n",
      "ic| values: {2}\n",
      "ic| f: 'gender'\n",
      "ic| values: set()\n",
      "ic| f: 'income'\n",
      "ic| values: set()\n",
      "ic| f: 'family_number'\n",
      "ic| values: set()\n"
     ]
    },
    {
     "name": "stdout",
     "output_type": "stream",
     "text": [
      "spliter is: ('income', '-10')\n",
      "the min entropy is: 0.6730116670092565\n",
      "  gender income  family_number  bought\n",
      "0      F    +10              1       1\n",
      "2      F    +10              2       1\n",
      "3      F    +10              1       0\n",
      "4      M    +10              1       0\n",
      "5      M    +10              1       0\n",
      "spliter is: ('family_number', 1)\n",
      "the min entropy is: 0.5623351446188083\n",
      "  gender income  family_number  bought\n",
      "2      F    +10              2       1\n",
      "spliter is: ('gender', 'F')\n",
      "the min entropy is: 0.0\n",
      "Empty DataFrame\n",
      "Columns: [gender, income, family_number, bought]\n",
      "Index: []\n",
      "spliter is: None\n",
      "the min entropy is: inf\n"
     ]
    }
   ],
   "source": [
    "all_spliter_choice = persistent_spliter_choice(training_data=dataset, target='bought')"
   ]
  },
  {
   "cell_type": "code",
   "execution_count": 19,
   "metadata": {
    "execution_event_id": "2d0d8596-af02-47c2-984e-c31413f9763f",
    "last_executed_text": "all_spliter_choice",
    "persistent_id": "3164d7f7-f7e9-4ab1-9cea-e953499a1d44"
   },
   "outputs": [
    {
     "data": {
      "text/plain": [
       "{'第1次特征选择': ('income', '-10'),\n",
       " '第2次特征选择': ('family_number', 1),\n",
       " '第3次特征选择': ('gender', 'F')}"
      ]
     },
     "execution_count": 19,
     "metadata": {},
     "output_type": "execute_result"
    }
   ],
   "source": [
    "all_spliter_choice"
   ]
  },
  {
   "cell_type": "markdown",
   "metadata": {},
   "source": [
    "#### 4. Finish the K-Means using 2-D matplotlib (8 points)"
   ]
  },
  {
   "cell_type": "markdown",
   "metadata": {},
   "source": [
    "<评阅点>\n",
    "> + 是否完成了KMeans模型，基于scikit-learning (3')\n",
    "+ 是否完成了可视化任务（5'）"
   ]
  },
  {
   "cell_type": "code",
   "execution_count": 107,
   "metadata": {
    "execution_event_id": "1a821b34-9681-4beb-867d-5fe23e7130bf",
    "last_executed_text": "from sklearn.cluster import KMeans\nimport numpy as np",
    "persistent_id": "018106e0-7211-45bb-b6c5-38c2f497c4c4"
   },
   "outputs": [],
   "source": [
    "from sklearn.cluster import KMeans\n",
    "import numpy as np"
   ]
  },
  {
   "cell_type": "code",
   "execution_count": 108,
   "metadata": {
    "execution_event_id": "7cd56df6-14da-4e89-8dd7-a9beffcbd48a",
    "last_executed_text": "X1 = [np.random.randint(0, 100) for _ in range(100)]\nX2 = [np.random.randint(0, 100) for _ in range(100)]",
    "persistent_id": "ed545d63-d82b-4fc7-905c-226c4a6d1504"
   },
   "outputs": [],
   "source": [
    "X1 = [np.random.randint(0, 100) for _ in range(100)]\n",
    "X2 = [np.random.randint(0, 100) for _ in range(100)]"
   ]
  },
  {
   "cell_type": "code",
   "execution_count": 109,
   "metadata": {
    "execution_event_id": "71068122-2e2b-43ae-8e9d-1bf3b5b54b76",
    "last_executed_text": "plt.scatter(X1, X2)",
    "persistent_id": "ca7288c5-469e-4966-a911-aaf4e36cba79"
   },
   "outputs": [
    {
     "data": {
      "text/plain": [
       "<matplotlib.collections.PathCollection at 0x1c2d8a8750>"
      ]
     },
     "execution_count": 109,
     "metadata": {},
     "output_type": "execute_result"
    },
    {
     "data": {
      "image/png": "[encoded data removed]",
      "text/plain": [
       "<Figure size 432x288 with 1 Axes>"
      ]
     },
     "metadata": {
      "needs_background": "light"
     },
     "output_type": "display_data"
    }
   ],
   "source": [
    "plt.scatter(X1, X2)"
   ]
  },
  {
   "cell_type": "code",
   "execution_count": 110,
   "metadata": {
    "execution_event_id": "09e0f300-0ec4-4060-809c-9e3b4630284a",
    "last_executed_text": "tranning_data = [[x1, x2] for x1, x2 in zip(X1, X2)]",
    "persistent_id": "f3e2345c-9d75-4688-9dc7-e1f08cd15321"
   },
   "outputs": [],
   "source": [
    "tranning_data = [[x1, x2] for x1, x2 in zip(X1, X2)]"
   ]
  },
  {
   "cell_type": "code",
   "execution_count": 111,
   "metadata": {
    "execution_event_id": "d57fd03c-c742-4598-b341-849dcb8e9f02",
    "last_executed_text": "cluster = KMeans(n_clusters=6, max_iter=500)\ncluster.fit(tranning_data)",
    "persistent_id": "9b891ace-fd8a-4259-be65-665ee4bec866"
   },
   "outputs": [
    {
     "data": {
      "text/plain": [
       "KMeans(algorithm='auto', copy_x=True, init='k-means++', max_iter=500,\n",
       "       n_clusters=6, n_init=10, n_jobs=None, precompute_distances='auto',\n",
       "       random_state=None, tol=0.0001, verbose=0)"
      ]
     },
     "execution_count": 111,
     "metadata": {},
     "output_type": "execute_result"
    }
   ],
   "source": [
    "cluster = KMeans(n_clusters=6, max_iter=500)\n",
    "cluster.fit(tranning_data)"
   ]
  },
  {
   "cell_type": "code",
   "execution_count": 112,
   "metadata": {
    "execution_event_id": "7e7f2f73-3b48-4970-828a-d74c1e83327e",
    "last_executed_text": "from collections import defaultdict\ncenters = defaultdict(list)",
    "persistent_id": "b08f568e-c5e6-4f01-b37e-f62eb2848381"
   },
   "outputs": [],
   "source": [
    "from collections import defaultdict\n",
    "centers = defaultdict(list)"
   ]
  },
  {
   "cell_type": "code",
   "execution_count": 113,
   "metadata": {
    "execution_event_id": "1437d157-69ef-484b-8435-62024a65ef5c",
    "last_executed_text": "for label, location in zip(cluster.labels_, tranning_data):\n    centers[label].append(location)",
    "persistent_id": "662a3eb1-df4e-4e9f-a50b-8787c70fc4c3"
   },
   "outputs": [],
   "source": [
    "for label, location in zip(cluster.labels_, tranning_data):\n",
    "    centers[label].append(location)"
   ]
  },
  {
   "cell_type": "code",
   "execution_count": 114,
   "metadata": {
    "execution_event_id": "3eb8c6bb-2e1b-46de-b910-c2485be8f504",
    "last_executed_text": "color = ['red', 'green', 'grey', 'black', 'yellow', 'orange']\n\nfor i, c in enumerate(centers):\n    for location in centers[c]:\n        plt.scatter(*location, c=color[i])\n        \nfor center in cluster.cluster_centers_:\n    plt.scatter(*center, s=100)",
    "persistent_id": "2981dd54-5b2d-4f61-a8e5-0892fb3059c9"
   },
   "outputs": [
    {
     "data": {
      "image/png": "[encoded data removed]",
      "text/plain": [
       "<Figure size 432x288 with 1 Axes>"
      ]
     },
     "metadata": {
      "needs_background": "light"
     },
     "output_type": "display_data"
    }
   ],
   "source": [
    "color = ['red', 'green', 'grey', 'black', 'yellow', 'orange']\n",
    "\n",
    "for i, c in enumerate(centers):\n",
    "    for location in centers[c]:\n",
    "        plt.scatter(*location, c=color[i])\n",
    "        \n",
    "for center in cluster.cluster_centers_:\n",
    "    plt.scatter(*center, s=100)"
   ]
  },
  {
   "cell_type": "markdown",
   "metadata": {},
   "source": [
    "## Part-2 Question and Answer 问答"
   ]
  },
  {
   "cell_type": "markdown",
   "metadata": {},
   "source": [
    "#### 1. What's the *model*? why  all the models are wrong, but some are useful? (5 points) "
   ]
  },
  {
   "cell_type": "markdown",
   "metadata": {},
   "source": [
    "Ans:"
   ]
  },
  {
   "cell_type": "markdown",
   "metadata": {},
   "source": [
    "<评阅点>\n",
    "> + 对模型的理解是否正确,对模型的抽象性是否正确(5')"
   ]
  },
  {
   "cell_type": "markdown",
   "metadata": {},
   "source": [
    "每个model都建立在一定的假设之上，所以所有的model均不能适用于所有的情况之下(现实）。只有在假设被满足时，也就是特定的情况下，模型能够可以对该特定情况的前因后果及其映射途径进行大致有用的描述或者拟合."
   ]
  },
  {
   "cell_type": "markdown",
   "metadata": {},
   "source": [
    "#### 2. What's the underfitting and overfitting? List the reasons that could make model overfitting or underfitting. (10 points)"
   ]
  },
  {
   "cell_type": "markdown",
   "metadata": {},
   "source": [
    "Ans:"
   ]
  },
  {
   "cell_type": "markdown",
   "metadata": {},
   "source": [
    "<评阅点>\n",
    "> + 对过拟合和欠拟合的理解是否正确 (3')\n",
    "+ 对欠拟合产生的原因是否理解正确(2')\n",
    "+ 对过拟合产生的原因是否理解正确(5')"
   ]
  },
  {
   "cell_type": "markdown",
   "metadata": {
    "execution_event_id": "1eb7cda2-f900-431a-b5bf-2f22c632c085",
    "last_executed_text": "欠拟合：欠拟合是指模型拟合程度不高，数据距离拟合曲线较远，或指模型没有很好地捕捉到数据特征，不能够很好地拟合数据。在训练集表现差，在测试集表现同样会很差，二者均体现高偏差特征。\n",
    "persistent_id": "06be4fd3-2a2d-4a6d-9325-0d6ce89697e7"
   },
   "source": [
    "欠拟合：欠拟合是指模型拟合程度不高，数据距离拟合曲线较远，或指模型没有很好地捕捉到数据特征，不能够很好地拟合数据。在训练集表现差，在测试集表现同样会很差，二者均体现高偏差特征。\n",
    "\n",
    "原因：“欠拟合”常常在模型学习能力(复杂度)较弱，而数据复杂度较高的情况出现，此时模型由于学习能力不足，无法学习到数据集中的“一般规律”，因而导致泛化能力弱。"
   ]
  },
  {
   "cell_type": "markdown",
   "metadata": {
    "execution_event_id": "2ee724cb-3348-4fec-ad2d-487700ec34b4",
    "last_executed_text": "过拟合：模型将训练集单个样本的数据特征都捕捉到，并将其认为是“一般规律”，导致模型泛化能力不足。在训练集中表现很好，但在测试集中表现很差，二者体现高方差特征。\n\n原因：”过拟合“常常在模型拟合能力过强或者训练数据过少的情况中出现。",
    "persistent_id": "628cf01c-a324-4ac1-9e46-56004921295e"
   },
   "source": [
    "过拟合：模型将训练集单个样本的数据特征都捕捉到，并将其认为是“一般规律”，导致模型泛化能力不足。在训练集中表现很好，但在测试集中表现很差，二者体现高方差特征。\n",
    "\n",
    "原因：”过拟合“常常在模型拟合能力过强或者训练数据过少的情况中出现。"
   ]
  },
  {
   "cell_type": "markdown",
   "metadata": {},
   "source": [
    "#### 3. What's the precision, recall, AUC, F1, F2score. What are they mainly target on? (12')"
   ]
  },
  {
   "cell_type": "markdown",
   "metadata": {},
   "source": [
    "Ans:"
   ]
  },
  {
   "cell_type": "markdown",
   "metadata": {},
   "source": [
    "<评阅点>\n",
    "> + 对precision, recall, AUC, F1, F2 理解是否正确(6‘)\n",
    "+ 对precision, recall, AUC, F1, F2的使用侧重点是否理解正确 (6’)"
   ]
  },
  {
   "cell_type": "markdown",
   "metadata": {
    "execution_event_id": "e1f68034-be8e-415f-bf9a-84e2b832be5f",
    "last_executed_text": "Accuracy: 预测的标签中预测正确的值的个数/总的预测的个数\nPrecision: 所有预测为对且正确的预测个数/所有为对的预测个数\nRecall: 所有预测为对且正确的预测个数/所有真正为对的标签个数",
    "persistent_id": "4cce8363-fa73-49b5-804d-434b213d115c"
   },
   "source": [
    "+ Accuracy: 预测的标签中预测正确的值的个数/总的预测的个数\n",
    "+ Precision: 所有预测为对且正确的预测个数/所有为对的预测个数\n",
    "+ Recall: 所有预测为对且正确的预测个数/所有真正为对的标签个数"
   ]
  },
  {
   "cell_type": "markdown",
   "metadata": {
    "execution_event_id": "a6ca560b-183e-4f35-a567-92842b43fe28",
    "last_executed_text": "F1 Score  = $ \\frac{2*precision*recall}{precision + recall} $",
    "persistent_id": "994b3d81-7343-415d-b4aa-1d84fa55a112"
   },
   "source": [
    "F Score  = $ \\frac{(1+β^2)*precision*recall}{β^2*precision + recall} $"
   ]
  },
  {
   "cell_type": "markdown",
   "metadata": {
    "execution_event_id": "9fd5d2ea-cb8b-4cb6-ac55-c2fe2be4d2a8",
    "last_executed_text": "当β=1时，即为F1 Score，这时召回率和精确率都很重要，权重相同。\n\n当β>1时，即为F2 Score，此时我们认为认为召回率更加重要，优先保证召回率",
    "persistent_id": "1bd72c15-01f4-40a9-961e-f9f97970ce02"
   },
   "source": [
    "当β=1时，即为F1 Score，这时召回率和精确率都很重要，权重相同。\n",
    "\n",
    "当β>1时，即为F2 Score，此时我们认为认为召回率更加重要，优先保证召回率"
   ]
  },
  {
   "cell_type": "markdown",
   "metadata": {
    "persistent_id": "23e5d06c-d07c-453f-9d88-a84dcd576eb9"
   },
   "source": [
    "Precision和Recall往往是互相矛盾的指标，若”宁可错杀一千，也不放过一个“，则优先保证Recall指标，否则保证Precision指标。"
   ]
  },
  {
   "cell_type": "markdown",
   "metadata": {},
   "source": [
    "#### 4. Based on our course and yourself mind, what's the machine learning?  (8')"
   ]
  },
  {
   "cell_type": "markdown",
   "metadata": {},
   "source": [
    "Ans:"
   ]
  },
  {
   "cell_type": "markdown",
   "metadata": {},
   "source": [
    "<评阅点> 开放式问题，是否能说出来机器学习这种思维方式和传统的分析式编程的区别（8'）"
   ]
  },
  {
   "cell_type": "markdown",
   "metadata": {
    "execution_event_id": "a08bf62d-3b29-4f2a-a69d-baeaafcc8610",
    "last_executed_text": "机器学习是数据驱动的，构建好ML算法，通过加载不同的数据，就能训练出一个个具体的ML应用模型，给应用模型新的数据输入，应用模型就能预测出新的结果",
    "persistent_id": "b7ba33c4-0542-425b-9ebb-3f7881fe40ef"
   },
   "source": [
    "机器学习是数据驱动的，研究人员构建好ML算法，通过加载不同的数据，就能训练出一个个具体的ML应用模型以适应不同的应用场景，给应用模型新的数据输入，应用模型就能预测出新的结果。"
   ]
  },
  {
   "cell_type": "markdown",
   "metadata": {
    "execution_event_id": "a6e7d9ba-4fdf-4432-8679-536860ff6a97",
    "last_executed_text": "分析式编程，工程师需要根据不同的应用场景，设计具体的模型和输入参数，若具体模型运行无误，将产生预期的结果",
    "persistent_id": "b6f78ca6-2ba5-4ab1-afdf-323182e4b54c"
   },
   "source": [
    "分析式编程，工程师需要根据不同的应用场景，设计具体的模型和输入参数，若具体模型运行无误，将产生预期的结果"
   ]
  },
  {
   "cell_type": "markdown",
   "metadata": {},
   "source": [
    "#### 5. \"正确定义了机器学习模型的评价标准(evaluation)， 问题基本上就已经解决一半\". 这句话是否正确？你是怎么看待的？ (8‘)"
   ]
  },
  {
   "cell_type": "markdown",
   "metadata": {
    "execution_event_id": "b609d258-dbb0-4407-8479-14c6c9903ea5",
    "last_executed_text": "我认为这句话是正确的，唯有确定模型的评价标准，机器学习才能够适用于不同的场景并落地而仅仅停留在研究论证阶段。例如在癌症CT照片的应用中，模型的应用标准就应该优先保证召回率，因为多检测的代价是可以",
    "persistent_id": "9821faa0-2c18-4926-8918-989134853c2c"
   },
   "source": [
    "我认为这句话是正确的，唯有确定模型的评价标准，机器学习才能够适用于不同的场景并落地而仅仅停留在研究论证阶段。例如在癌症CT照片的应用中，模型的应用标准就应该优先保证召回率，因为多检测的代价是可以接受的，但漏掉一个有癌症的病人代价是非常高昂的。唯有结合现实场景才设计模型的评价标准，机器学习模型才能更好地服务人们而不是造成灾难。"
   ]
  },
  {
   "cell_type": "markdown",
   "metadata": {},
   "source": [
    "<评阅点> 开放式问题，主要看能理解评价指标对机器学习模型的重要性."
   ]
  },
  {
   "cell_type": "markdown",
   "metadata": {},
   "source": [
    "## Part-03 Programming Practice 编程练习"
   ]
  },
  {
   "cell_type": "markdown",
   "metadata": {},
   "source": [
    "1. In our course and previous practice, we complete some importance components of Decision Tree. In this problem, you need to build a **completed** Decision Tree Model. You show finish a `predicate()` function, which accepts three parameters **<gender, income, family_number>**, and outputs the predicated 'bought': 1 or 0.  (20 points)"
   ]
  },
  {
   "cell_type": "code",
   "execution_count": null,
   "metadata": {
    "persistent_id": "c3932bff-d74c-46d1-acbb-5cfdb3a63dc3"
   },
   "outputs": [],
   "source": [
    "all_spliter_choice = persistent_spliter_choice(training_data=dataset, target='bought')"
   ]
  },
  {
   "cell_type": "code",
   "execution_count": 42,
   "metadata": {
    "execution_event_id": "2ed70f74-f2ee-49bb-8916-e559aaa40b7e",
    "last_executed_text": "all_spliter_choice",
    "persistent_id": "5decd9dc-7c7a-4931-b7ed-32482641f8f3"
   },
   "outputs": [
    {
     "data": {
      "text/plain": [
       "{'第1次特征选择': ('income', '-10'),\n",
       " '第2次特征选择': ('family_number', 1),\n",
       " '第3次特征选择': ('gender', 'F')}"
      ]
     },
     "execution_count": 42,
     "metadata": {},
     "output_type": "execute_result"
    }
   ],
   "source": [
    "all_spliter_choice"
   ]
  },
  {
   "cell_type": "code",
   "execution_count": 20,
   "metadata": {
    "execution_event_id": "65faa3d3-7dbc-4c31-9ba2-ff29985dcfd4",
    "last_executed_text": "for count,value in enumerate(all_spliter_choice.values()):\n    print(count,value)",
    "persistent_id": "6e9a5659-13f5-4651-9ad0-8c2845b46531"
   },
   "outputs": [
    {
     "name": "stdout",
     "output_type": "stream",
     "text": [
      "0 ('income', '-10')\n",
      "1 ('family_number', 1)\n",
      "2 ('gender', 'F')\n"
     ]
    }
   ],
   "source": [
    "for count,value in enumerate(all_spliter_choice.values()):\n",
    "    print(count,value)"
   ]
  },
  {
   "cell_type": "code",
   "execution_count": 127,
   "metadata": {
    "execution_event_id": "3095ec8c-f738-47b9-b7ed-9fb0c750729b",
    "last_executed_text": "dataset",
    "persistent_id": "0ea2f1de-c4fb-4c9d-8b47-41215db39ba2"
   },
   "outputs": [
    {
     "data": {
      "text/html": [
       "<div>\n",
       "<style scoped>\n",
       "    .dataframe tbody tr th:only-of-type {\n",
       "        vertical-align: middle;\n",
       "    }\n",
       "\n",
       "    .dataframe tbody tr th {\n",
       "        vertical-align: top;\n",
       "    }\n",
       "\n",
       "    .dataframe thead th {\n",
       "        text-align: right;\n",
       "    }\n",
       "</style>\n",
       "<table border=\"1\" class=\"dataframe\">\n",
       "  <thead>\n",
       "    <tr style=\"text-align: right;\">\n",
       "      <th></th>\n",
       "      <th>gender</th>\n",
       "      <th>income</th>\n",
       "      <th>family_number</th>\n",
       "      <th>bought</th>\n",
       "    </tr>\n",
       "  </thead>\n",
       "  <tbody>\n",
       "    <tr>\n",
       "      <td>0</td>\n",
       "      <td>F</td>\n",
       "      <td>+10</td>\n",
       "      <td>1</td>\n",
       "      <td>1</td>\n",
       "    </tr>\n",
       "    <tr>\n",
       "      <td>1</td>\n",
       "      <td>F</td>\n",
       "      <td>-10</td>\n",
       "      <td>1</td>\n",
       "      <td>1</td>\n",
       "    </tr>\n",
       "    <tr>\n",
       "      <td>2</td>\n",
       "      <td>F</td>\n",
       "      <td>+10</td>\n",
       "      <td>2</td>\n",
       "      <td>1</td>\n",
       "    </tr>\n",
       "    <tr>\n",
       "      <td>3</td>\n",
       "      <td>F</td>\n",
       "      <td>+10</td>\n",
       "      <td>1</td>\n",
       "      <td>0</td>\n",
       "    </tr>\n",
       "    <tr>\n",
       "      <td>4</td>\n",
       "      <td>M</td>\n",
       "      <td>+10</td>\n",
       "      <td>1</td>\n",
       "      <td>0</td>\n",
       "    </tr>\n",
       "    <tr>\n",
       "      <td>5</td>\n",
       "      <td>M</td>\n",
       "      <td>+10</td>\n",
       "      <td>1</td>\n",
       "      <td>0</td>\n",
       "    </tr>\n",
       "    <tr>\n",
       "      <td>6</td>\n",
       "      <td>M</td>\n",
       "      <td>-10</td>\n",
       "      <td>2</td>\n",
       "      <td>1</td>\n",
       "    </tr>\n",
       "  </tbody>\n",
       "</table>\n",
       "</div>"
      ],
      "text/plain": [
       "  gender income  family_number  bought\n",
       "0      F    +10              1       1\n",
       "1      F    -10              1       1\n",
       "2      F    +10              2       1\n",
       "3      F    +10              1       0\n",
       "4      M    +10              1       0\n",
       "5      M    +10              1       0\n",
       "6      M    -10              2       1"
      ]
     },
     "execution_count": 127,
     "metadata": {},
     "output_type": "execute_result"
    }
   ],
   "source": [
    "dataset"
   ]
  },
  {
   "cell_type": "code",
   "execution_count": 45,
   "metadata": {
    "execution_event_id": "a680a523-f2fb-4b0f-adc8-d194f45c47c0",
    "last_executed_text": "#发现有一个bug，当找不到最佳划分点时（比如两个特征划分增益熵相同，原代码时把遍历最后一个相同的增益熵当做最佳划分点），时间所限没去找相应情况处理方法。\ndef forest_predicate(gender,income,family_nubmer):\n    for count,value in enumerate(all_spliter_choice.values()):\n        #income\n        if count == 0 and value[1] == income:\n            return 1\n        else:\n            pass\n        #family_nubmer\n        if count == 1 and value[1] == family_nubmer:\n            return 1\n        else:\n            pass\n        #gender\n        if count == 2 and value[1] == gender:\n            return 1\n        else:\n            return 0 ",
    "persistent_id": "89fe5c51-f40a-46f7-ac06-34e4a442530e"
   },
   "outputs": [],
   "source": [
    "#发现有一个bug，当找不到最佳划分点时（比如两个特征划分增益熵相同，原代码时把遍历最后一个相同的增益熵当做最佳划分点），时间所限没去找相应情况处理方法。\n",
    "def forest_predicate(gender,income,family_nubmer):\n",
    "    for count,value in enumerate(all_spliter_choice.values()):\n",
    "        #income\n",
    "        if count == 0 and value[1] == income:\n",
    "            return 1\n",
    "        else:\n",
    "            pass\n",
    "        #family_nubmer\n",
    "        if count == 1 and value[1] == family_nubmer:\n",
    "            return 1\n",
    "        else:\n",
    "            pass\n",
    "        #gender\n",
    "        if count == 2 and value[1] == gender:\n",
    "            return 1\n",
    "        else:\n",
    "            return 0 "
   ]
  },
  {
   "cell_type": "code",
   "execution_count": 47,
   "metadata": {
    "execution_event_id": "764fbf8d-a82f-45c3-a89f-527cdd213533",
    "last_executed_text": "result = forest_predicate(gender = \"F\",income = +10,family_nubmer = +2)\nprint(result)",
    "persistent_id": "04f12c27-3063-489d-b774-6c08236dc075"
   },
   "outputs": [
    {
     "name": "stdout",
     "output_type": "stream",
     "text": [
      "0\n"
     ]
    }
   ],
   "source": [
    "result = forest_predicate(gender = \"F\",income = +10,family_nubmer = +2)\n",
    "print(result)"
   ]
  },
  {
   "cell_type": "markdown",
   "metadata": {},
   "source": [
    "<评阅点>\n",
    "> + 是否将之前的决策树模型的部分进行合并组装， predicate函数能够顺利运行(8')\n",
    "+ 是够能够输入未曾见过的X变量，例如gender, income, family_number 分别是： <M, -10, 1>, 模型能够预测出结果 (12')"
   ]
  },
  {
   "cell_type": "markdown",
   "metadata": {},
   "source": [
    "2. 将上一节课(第二节课)的线性回归问题中的Loss函数改成\"绝对值\"，并且改变其偏导的求值方式，观察其结果的变化。(19 point)"
   ]
  },
  {
   "cell_type": "code",
   "execution_count": 4,
   "metadata": {
    "execution_event_id": "d7ede322-192a-4178-a387-45fe87513d73",
    "last_executed_text": "from sklearn.datasets import load_boston\nimport random",
    "persistent_id": "1f6750c2-6972-4ee5-a74d-a421b823db09"
   },
   "outputs": [],
   "source": [
    "from sklearn.datasets import load_boston\n",
    "import random"
   ]
  },
  {
   "cell_type": "code",
   "execution_count": 5,
   "metadata": {
    "execution_event_id": "7d037ee3-4a96-46b4-a4c7-7b5df4cf099b",
    "last_executed_text": "dataset = load_boston()\nx,y=dataset['data'],dataset['target']",
    "persistent_id": "343c34da-2424-4ac4-bb45-96587ec3971d"
   },
   "outputs": [],
   "source": [
    "dataset = load_boston()\n",
    "x,y=dataset['data'],dataset['target']"
   ]
  },
  {
   "cell_type": "code",
   "execution_count": 6,
   "metadata": {
    "execution_event_id": "dbdfdcc9-65af-4eac-a829-24ebb8a9b93f",
    "last_executed_text": "X_rm = x[:,5]",
    "persistent_id": "d43a28e7-f299-459b-affd-5d4a09835e95"
   },
   "outputs": [],
   "source": [
    "X_rm = x[:,5]"
   ]
  },
  {
   "cell_type": "code",
   "execution_count": 7,
   "metadata": {
    "execution_event_id": "d4c48eaa-53f8-4a8d-b6c2-56be21c3ed19",
    "last_executed_text": "#define target function\ndef price(rm, k, b):\n    return k * rm + b",
    "persistent_id": "7c48d93f-b047-45c9-86cf-67a5a30e6afe"
   },
   "outputs": [],
   "source": [
    "#define target function\n",
    "def price(rm, k, b):\n",
    "    return k * rm + b"
   ]
  },
  {
   "cell_type": "code",
   "execution_count": 8,
   "metadata": {
    "execution_event_id": "a27d651b-e839-4113-977f-4178032b4627",
    "last_executed_text": "def loss_L1(y,y_hat):\n    return sum(abs(y_i - y_hat_i) for y_i, y_hat_i in zip(list(y),list(y_hat)))/len(list(y))",
    "persistent_id": "c0b8d38a-9f9e-4f30-82e4-77c75c017f86"
   },
   "outputs": [],
   "source": [
    "def loss_L1(y,y_hat):\n",
    "    return sum(abs(y_i - y_hat_i) for y_i, y_hat_i in zip(list(y),list(y_hat)))/len(list(y))"
   ]
  },
  {
   "cell_type": "code",
   "execution_count": 15,
   "metadata": {
    "execution_event_id": "a039e62c-67fc-455f-8d7b-39fca54815ef",
    "last_executed_text": "# define partial derivative \ndef partial_derivative_k(x, y, y_hat): \n    n = len(y)\n    gradient = 0\n    for x_i, y_i, y_hat_i in zip(list(x),list(y),list(y_hat)):\n        if y_hat_i <= y_i:\n            gradient += (y_i-x_i)\n        else:\n            gradient += (x_i-y_i) \n    return -1/n * gradient\n\ndef partial_derivative_b(y, y_hat):\n    n = len(y)\n    gradient = 0\n    for y_i, y_hat_i in zip(list(y),list(y_hat)):\n        if y_hat_i <= y_i:\n            gradient = (y_i-1)\n        else:\n            gradient = (1-y_i)\n    return -1/n * gradient",
    "persistent_id": "ec3c1605-b6f1-440b-8ba8-a7dc419cf3be"
   },
   "outputs": [],
   "source": [
    "# define partial derivative \n",
    "def partial_derivative_k(x, y, y_hat): \n",
    "    n = len(y)\n",
    "    gradient = 0\n",
    "    for x_i, y_i, y_hat_i in zip(list(x),list(y),list(y_hat)):\n",
    "        if y_hat_i <= y_i:\n",
    "            gradient += (y_i-x_i)\n",
    "        else:\n",
    "            gradient += (x_i-y_i) \n",
    "    return -1/n * gradient\n",
    "\n",
    "def partial_derivative_b(y, y_hat):\n",
    "    n = len(y)\n",
    "    gradient = 0\n",
    "    for y_i, y_hat_i in zip(list(y),list(y_hat)):\n",
    "        if y_hat_i <= y_i:\n",
    "            gradient = (y_i-1)\n",
    "        else:\n",
    "            gradient = (1-y_i)\n",
    "    return -1/n * gradient"
   ]
  },
  {
   "cell_type": "markdown",
   "metadata": {},
   "source": [
    "<评阅点>\n",
    "+ 是否将Loss改成了“绝对值”(3')\n",
    "+ 是否完成了偏导的重新定义(5')\n",
    "+ 新的模型Loss是否能够收敛 (11’)"
   ]
  },
  {
   "cell_type": "code",
   "execution_count": 19,
   "metadata": {
    "execution_event_id": "60ae615c-8f1d-4a09-acac-d12d1baf5149",
    "last_executed_text": "#initialized parameters,L2 loss\n\nk = random.random() * 200 - 100  # -100 100\nb = random.random() * 200 - 100  # -100 100\n\nlearning_rate = 0.01\n\niteration_num = 1000 \nlosses = []\nfor i in range(iteration_num):\n    \n    price_use_current_parameters = [price(r, k, b) for r in X_rm]  # \\hat{y}\n    \n    current_loss = loss_L1(y, price_use_current_parameters)\n    losses.append(current_loss)\n    if i%200 == 0:\n        print(\"Iteration {}, the loss is {}, parameters k is {} and b is {}\".format(i,current_loss,k,b))\n    \n    k_gradient = partial_derivative_k(X_rm, y, price_use_current_parameters)\n    b_gradient = partial_derivative_b(y, price_use_current_parameters)\n    \n    k = k + (-1 * k_gradient) * learning_rate\n    b = b + (-1 * b_gradient) * learning_rate\nbest_k = k\nbest_b = b",
    "persistent_id": "d9db3784-f825-4cab-9702-5c1284f32198"
   },
   "outputs": [
    {
     "name": "stdout",
     "output_type": "stream",
     "text": [
      "Iteration 0, the loss is 262.1529053565604, parameters k is 29.951931572648164 and b is 96.44877255159903\n",
      "Iteration 200, the loss is 57.88218218188966, parameters k is -2.544412300869501 and b is 96.40568954764566\n",
      "Iteration 400, the loss is 12.360031718466868, parameters k is -11.36395257754933 and b is 96.3626065436923\n",
      "Iteration 600, the loss is 12.356615272125094, parameters k is -11.357259889802272 and b is 96.31952353973892\n",
      "Iteration 800, the loss is 12.353198825783318, parameters k is -11.350567202055213 and b is 96.27644053578555\n"
     ]
    }
   ],
   "source": [
    "#initialized parameters,L2 loss\n",
    "\n",
    "k = random.random() * 200 - 100  # -100 100\n",
    "b = random.random() * 200 - 100  # -100 100\n",
    "\n",
    "learning_rate = 0.01\n",
    "\n",
    "iteration_num = 1000 \n",
    "losses = []\n",
    "for i in range(iteration_num):\n",
    "    \n",
    "    price_use_current_parameters = [price(r, k, b) for r in X_rm]  # \\hat{y}\n",
    "    \n",
    "    current_loss = loss_L1(y, price_use_current_parameters)\n",
    "    losses.append(current_loss)\n",
    "    if i%200 == 0:\n",
    "        print(\"Iteration {}, the loss is {}, parameters k is {} and b is {}\".format(i,current_loss,k,b))\n",
    "    \n",
    "    k_gradient = partial_derivative_k(X_rm, y, price_use_current_parameters)\n",
    "    b_gradient = partial_derivative_b(y, price_use_current_parameters)\n",
    "    \n",
    "    k = k + (-1 * k_gradient) * learning_rate\n",
    "    b = b + (-1 * b_gradient) * learning_rate\n",
    "best_k = k\n",
    "best_b = b"
   ]
  },
  {
   "cell_type": "code",
   "execution_count": 20,
   "metadata": {},
   "outputs": [
    {
     "data": {
      "text/plain": [
       "[<matplotlib.lines.Line2D at 0x1c1e4c7190>]"
      ]
     },
     "execution_count": 20,
     "metadata": {},
     "output_type": "execute_result"
    },
    {
     "data": {
      "image/png": "[encoded data removed]",
      "text/plain": [
       "<Figure size 432x288 with 1 Axes>"
      ]
     },
     "metadata": {
      "needs_background": "light"
     },
     "output_type": "display_data"
    }
   ],
   "source": [
    "plt.plot(list(range(iteration_num)),losses)"
   ]
  },
  {
   "cell_type": "code",
   "execution_count": null,
   "metadata": {},
   "outputs": [],
   "source": []
  }
 ],
 "metadata": {
  "history": [
   {
    "cell": {
     "executionCount": 1,
     "executionEventId": "c1132484-4c0d-4ee7-a3f1-461c3d1a5e4a",
     "hasError": false,
     "id": "fb62cc8e-99ee-4b21-822c-1918bea087f1",
     "outputs": [
      {
       "name": "stderr",
       "output_type": "stream",
       "text": "/Users/junjiexie/opt/anaconda3/lib/python3.7/importlib/_bootstrap.py:219: RuntimeWarning: numpy.ufunc size changed, may indicate binary incompatibility. Expected 192 from C header, got 216 from PyObject\n  return f(*args, **kwds)\n/Users/junjiexie/opt/anaconda3/lib/python3.7/importlib/_bootstrap.py:219: RuntimeWarning: numpy.ufunc size changed, may indicate binary incompatibility. Expected 192 from C header, got 216 from PyObject\n  return f(*args, **kwds)\n"
      }
     ],
     "persistentId": "99988cb7-657e-4b26-8f25-33b98788b204",
     "text": "from sklearn.linear_model import LinearRegression"
    },
    "executionTime": "2020-02-08T08:09:32.469Z"
   },
   {
    "cell": {
     "executionCount": 2,
     "executionEventId": "29263149-d403-4662-9dc6-10181fed26f7",
     "hasError": true,
     "id": "6d43ac53-cbb8-4136-a7d8-56049cae3cf2",
     "outputs": [
      {
       "ename": "NameError",
       "evalue": "name 'mglearn' is not defined",
       "output_type": "error",
       "traceback": [
        "\u001b[0;31m---------------------------------------------------------------------------\u001b[0m",
        "\u001b[0;31mNameError\u001b[0m                                 Traceback (most recent call last)",
        "\u001b[0;32m<ipython-input-2-25f0f19636ad>\u001b[0m in \u001b[0;36m<module>\u001b[0;34m\u001b[0m\n\u001b[0;32m----> 1\u001b[0;31m \u001b[0mX\u001b[0m\u001b[0;34m,\u001b[0m\u001b[0my\u001b[0m \u001b[0;34m=\u001b[0m \u001b[0mmglearn\u001b[0m\u001b[0;34m.\u001b[0m\u001b[0mdatasets\u001b[0m\u001b[0;34m.\u001b[0m\u001b[0mmake_wave\u001b[0m\u001b[0;34m(\u001b[0m\u001b[0mn_samples\u001b[0m\u001b[0;34m=\u001b[0m\u001b[0;36m60\u001b[0m\u001b[0;34m)\u001b[0m\u001b[0;34m\u001b[0m\u001b[0;34m\u001b[0m\u001b[0m\n\u001b[0m",
        "\u001b[0;31mNameError\u001b[0m: name 'mglearn' is not defined"
       ]
      }
     ],
     "persistentId": "5d95ceff-ce7f-41e5-aadd-48092f55b5c8",
     "text": "X,y = mglearn.datasets.make_wave(n_samples=60)"
    },
    "executionTime": "2020-02-08T08:10:30.646Z"
   },
   {
    "cell": {
     "executionCount": 3,
     "executionEventId": "10fc7ce0-2636-43bd-af58-e83d7c1eec5b",
     "hasError": true,
     "id": "fb62cc8e-99ee-4b21-822c-1918bea087f1",
     "outputs": [
      {
       "ename": "ModuleNotFoundError",
       "evalue": "No module named 'mglearn'",
       "output_type": "error",
       "traceback": [
        "\u001b[0;31m---------------------------------------------------------------------------\u001b[0m",
        "\u001b[0;31mModuleNotFoundError\u001b[0m                       Traceback (most recent call last)",
        "\u001b[0;32m<ipython-input-3-0110b7c4f336>\u001b[0m in \u001b[0;36m<module>\u001b[0;34m\u001b[0m\n\u001b[1;32m      1\u001b[0m \u001b[0;32mfrom\u001b[0m \u001b[0msklearn\u001b[0m\u001b[0;34m.\u001b[0m\u001b[0mlinear_model\u001b[0m \u001b[0;32mimport\u001b[0m \u001b[0mLinearRegression\u001b[0m\u001b[0;34m\u001b[0m\u001b[0;34m\u001b[0m\u001b[0m\n\u001b[0;32m----> 2\u001b[0;31m \u001b[0;32mimport\u001b[0m \u001b[0mmglearn\u001b[0m\u001b[0;34m\u001b[0m\u001b[0;34m\u001b[0m\u001b[0m\n\u001b[0m",
        "\u001b[0;31mModuleNotFoundError\u001b[0m: No module named 'mglearn'"
       ]
      }
     ],
     "persistentId": "99988cb7-657e-4b26-8f25-33b98788b204",
     "text": "from sklearn.linear_model import LinearRegression\nimport mglearn"
    },
    "executionTime": "2020-02-08T08:12:01.819Z"
   },
   {
    "cell": {
     "executionCount": 4,
     "executionEventId": "a61ba53d-743c-4c51-836a-6a3890e693b3",
     "hasError": true,
     "id": "fb62cc8e-99ee-4b21-822c-1918bea087f1",
     "outputs": [
      {
       "ename": "ModuleNotFoundError",
       "evalue": "No module named 'mglearn'",
       "output_type": "error",
       "traceback": [
        "\u001b[0;31m---------------------------------------------------------------------------\u001b[0m",
        "\u001b[0;31mModuleNotFoundError\u001b[0m                       Traceback (most recent call last)",
        "\u001b[0;32m<ipython-input-4-0110b7c4f336>\u001b[0m in \u001b[0;36m<module>\u001b[0;34m\u001b[0m\n\u001b[1;32m      1\u001b[0m \u001b[0;32mfrom\u001b[0m \u001b[0msklearn\u001b[0m\u001b[0;34m.\u001b[0m\u001b[0mlinear_model\u001b[0m \u001b[0;32mimport\u001b[0m \u001b[0mLinearRegression\u001b[0m\u001b[0;34m\u001b[0m\u001b[0;34m\u001b[0m\u001b[0m\n\u001b[0;32m----> 2\u001b[0;31m \u001b[0;32mimport\u001b[0m \u001b[0mmglearn\u001b[0m\u001b[0;34m\u001b[0m\u001b[0;34m\u001b[0m\u001b[0m\n\u001b[0m",
        "\u001b[0;31mModuleNotFoundError\u001b[0m: No module named 'mglearn'"
       ]
      }
     ],
     "persistentId": "99988cb7-657e-4b26-8f25-33b98788b204",
     "text": "from sklearn.linear_model import LinearRegression\nimport mglearn"
    },
    "executionTime": "2020-02-08T08:12:38.479Z"
   },
   {
    "cell": {
     "executionCount": 5,
     "executionEventId": "2b538c57-2020-42ff-b0e3-d7733ee13941",
     "hasError": false,
     "id": "fb62cc8e-99ee-4b21-822c-1918bea087f1",
     "outputs": [
      {
       "name": "stderr",
       "output_type": "stream",
       "text": "/Users/junjiexie/opt/anaconda3/lib/python3.7/importlib/_bootstrap.py:219: RuntimeWarning: numpy.ufunc size changed, may indicate binary incompatibility. Expected 192 from C header, got 216 from PyObject\n  return f(*args, **kwds)\n/Users/junjiexie/opt/anaconda3/lib/python3.7/importlib/_bootstrap.py:219: RuntimeWarning: numpy.ufunc size changed, may indicate binary incompatibility. Expected 192 from C header, got 216 from PyObject\n  return f(*args, **kwds)\n"
      }
     ],
     "persistentId": "99988cb7-657e-4b26-8f25-33b98788b204",
     "text": "from sklearn.linear_model import LinearRegression\nimport mglearn"
    },
    "executionTime": "2020-02-08T08:13:10.037Z"
   },
   {
    "cell": {
     "executionCount": 6,
     "executionEventId": "3ae84171-9a5f-4c8a-8d87-fd3c73846704",
     "hasError": false,
     "id": "6d43ac53-cbb8-4136-a7d8-56049cae3cf2",
     "outputs": [],
     "persistentId": "5d95ceff-ce7f-41e5-aadd-48092f55b5c8",
     "text": "X,y = mglearn.datasets.make_wave(n_samples=60)"
    },
    "executionTime": "2020-02-08T08:13:13.209Z"
   },
   {
    "cell": {
     "executionCount": 7,
     "executionEventId": "6277550a-434b-48c2-9aa1-ab866c0e6105",
     "hasError": false,
     "id": "fb62cc8e-99ee-4b21-822c-1918bea087f1",
     "outputs": [],
     "persistentId": "99988cb7-657e-4b26-8f25-33b98788b204",
     "text": "from sklearn.linear_model import LinearRegression\nimport mglearn\nfrom sklearn.model_selection import train_test_split"
    },
    "executionTime": "2020-02-08T08:14:41.657Z"
   },
   {
    "cell": {
     "executionCount": 8,
     "executionEventId": "6a90b9b9-3c2b-4995-8bea-a02dc1cd949f",
     "hasError": false,
     "id": "f1bc9891-ee74-4b92-883d-aa8ff9aa78c9",
     "outputs": [],
     "persistentId": "8eed7098-fa96-4a60-a552-934f2ffc5cb2",
     "text": "X_train,X_test,y_train,y_test = train_test_split(X,y)"
    },
    "executionTime": "2020-02-08T08:15:10.860Z"
   },
   {
    "cell": {
     "executionCount": 9,
     "executionEventId": "84940a84-d5ae-4940-94ae-36814976ebc6",
     "hasError": false,
     "id": "c1fa7188-79bb-49ec-b8a4-61f6e498e63d",
     "outputs": [],
     "persistentId": "bd483e77-a316-4e9f-b20d-221f96b6f4f7",
     "text": "lr = LinearRegression().fit(X_train,y_train)"
    },
    "executionTime": "2020-02-08T08:15:52.524Z"
   },
   {
    "cell": {
     "executionCount": 10,
     "executionEventId": "f9b3aea5-014c-4cbc-a91c-84755363acbe",
     "hasError": false,
     "id": "ce781629-2c1e-46a9-9be1-af10eda21671",
     "outputs": [
      {
       "name": "stdout",
       "output_type": "stream",
       "text": "training score is 0.71\ntesting score is 0.58\n"
      }
     ],
     "persistentId": "64581075-ad62-4acf-9396-eb02efc84d56",
     "text": "print(\"training score is {:.2f}\".format(lr.score(X_train,y_train)))\nprint(\"testing score is {:.2f}\".format(lr.score(X_test,y_test)))"
    },
    "executionTime": "2020-02-08T08:17:11.422Z"
   },
   {
    "cell": {
     "executionCount": 11,
     "executionEventId": "12344623-fb07-43f2-b58b-53ffb3b9b6a6",
     "hasError": true,
     "id": "2e00c53a-9386-406c-b5c2-6d755df60820",
     "outputs": [
      {
       "ename": "NameError",
       "evalue": "name 'x_test' is not defined",
       "output_type": "error",
       "traceback": [
        "\u001b[0;31m---------------------------------------------------------------------------\u001b[0m",
        "\u001b[0;31mNameError\u001b[0m                                 Traceback (most recent call last)",
        "\u001b[0;32m<ipython-input-11-525b47106c8c>\u001b[0m in \u001b[0;36m<module>\u001b[0;34m\u001b[0m\n\u001b[0;32m----> 1\u001b[0;31m \u001b[0my_predict\u001b[0m \u001b[0;34m=\u001b[0m \u001b[0mLinearRegression\u001b[0m\u001b[0;34m(\u001b[0m\u001b[0;34m)\u001b[0m\u001b[0;34m.\u001b[0m\u001b[0mpredict\u001b[0m\u001b[0;34m(\u001b[0m\u001b[0mx_test\u001b[0m\u001b[0;34m)\u001b[0m\u001b[0;34m\u001b[0m\u001b[0;34m\u001b[0m\u001b[0m\n\u001b[0m",
        "\u001b[0;31mNameError\u001b[0m: name 'x_test' is not defined"
       ]
      }
     ],
     "persistentId": "c66a57a9-3e16-41b1-badc-bf5d6ae2e3ac",
     "text": "y_predict = LinearRegression().predict(x_test)"
    },
    "executionTime": "2020-02-08T08:20:59.724Z"
   },
   {
    "cell": {
     "executionCount": 12,
     "executionEventId": "b1e5c6bc-b2a2-4447-b17a-c0b90f71e932",
     "hasError": true,
     "id": "2e00c53a-9386-406c-b5c2-6d755df60820",
     "outputs": [
      {
       "ename": "NotFittedError",
       "evalue": "This LinearRegression instance is not fitted yet. Call 'fit' with appropriate arguments before using this method.",
       "output_type": "error",
       "traceback": [
        "\u001b[0;31m---------------------------------------------------------------------------\u001b[0m",
        "\u001b[0;31mNotFittedError\u001b[0m                            Traceback (most recent call last)",
        "\u001b[0;32m<ipython-input-12-1540dcb57d8b>\u001b[0m in \u001b[0;36m<module>\u001b[0;34m\u001b[0m\n\u001b[0;32m----> 1\u001b[0;31m \u001b[0my_predict\u001b[0m \u001b[0;34m=\u001b[0m \u001b[0mLinearRegression\u001b[0m\u001b[0;34m(\u001b[0m\u001b[0;34m)\u001b[0m\u001b[0;34m.\u001b[0m\u001b[0mpredict\u001b[0m\u001b[0;34m(\u001b[0m\u001b[0mX_test\u001b[0m\u001b[0;34m)\u001b[0m\u001b[0;34m\u001b[0m\u001b[0;34m\u001b[0m\u001b[0m\n\u001b[0m",
        "\u001b[0;32m~/opt/anaconda3/lib/python3.7/site-packages/sklearn/linear_model/base.py\u001b[0m in \u001b[0;36mpredict\u001b[0;34m(self, X)\u001b[0m\n\u001b[1;32m    219\u001b[0m             \u001b[0mReturns\u001b[0m \u001b[0mpredicted\u001b[0m \u001b[0mvalues\u001b[0m\u001b[0;34m.\u001b[0m\u001b[0;34m\u001b[0m\u001b[0;34m\u001b[0m\u001b[0m\n\u001b[1;32m    220\u001b[0m         \"\"\"\n\u001b[0;32m--> 221\u001b[0;31m         \u001b[0;32mreturn\u001b[0m \u001b[0mself\u001b[0m\u001b[0;34m.\u001b[0m\u001b[0m_decision_function\u001b[0m\u001b[0;34m(\u001b[0m\u001b[0mX\u001b[0m\u001b[0;34m)\u001b[0m\u001b[0;34m\u001b[0m\u001b[0;34m\u001b[0m\u001b[0m\n\u001b[0m\u001b[1;32m    222\u001b[0m \u001b[0;34m\u001b[0m\u001b[0m\n\u001b[1;32m    223\u001b[0m     \u001b[0m_preprocess_data\u001b[0m \u001b[0;34m=\u001b[0m \u001b[0mstaticmethod\u001b[0m\u001b[0;34m(\u001b[0m\u001b[0m_preprocess_data\u001b[0m\u001b[0;34m)\u001b[0m\u001b[0;34m\u001b[0m\u001b[0;34m\u001b[0m\u001b[0m\n",
        "\u001b[0;32m~/opt/anaconda3/lib/python3.7/site-packages/sklearn/linear_model/base.py\u001b[0m in \u001b[0;36m_decision_function\u001b[0;34m(self, X)\u001b[0m\n\u001b[1;32m    200\u001b[0m \u001b[0;34m\u001b[0m\u001b[0m\n\u001b[1;32m    201\u001b[0m     \u001b[0;32mdef\u001b[0m \u001b[0m_decision_function\u001b[0m\u001b[0;34m(\u001b[0m\u001b[0mself\u001b[0m\u001b[0;34m,\u001b[0m \u001b[0mX\u001b[0m\u001b[0;34m)\u001b[0m\u001b[0;34m:\u001b[0m\u001b[0;34m\u001b[0m\u001b[0;34m\u001b[0m\u001b[0m\n\u001b[0;32m--> 202\u001b[0;31m         \u001b[0mcheck_is_fitted\u001b[0m\u001b[0;34m(\u001b[0m\u001b[0mself\u001b[0m\u001b[0;34m,\u001b[0m \u001b[0;34m\"coef_\"\u001b[0m\u001b[0;34m)\u001b[0m\u001b[0;34m\u001b[0m\u001b[0;34m\u001b[0m\u001b[0m\n\u001b[0m\u001b[1;32m    203\u001b[0m \u001b[0;34m\u001b[0m\u001b[0m\n\u001b[1;32m    204\u001b[0m         \u001b[0mX\u001b[0m \u001b[0;34m=\u001b[0m \u001b[0mcheck_array\u001b[0m\u001b[0;34m(\u001b[0m\u001b[0mX\u001b[0m\u001b[0;34m,\u001b[0m \u001b[0maccept_sparse\u001b[0m\u001b[0;34m=\u001b[0m\u001b[0;34m[\u001b[0m\u001b[0;34m'csr'\u001b[0m\u001b[0;34m,\u001b[0m \u001b[0;34m'csc'\u001b[0m\u001b[0;34m,\u001b[0m \u001b[0;34m'coo'\u001b[0m\u001b[0;34m]\u001b[0m\u001b[0;34m)\u001b[0m\u001b[0;34m\u001b[0m\u001b[0;34m\u001b[0m\u001b[0m\n",
        "\u001b[0;32m~/opt/anaconda3/lib/python3.7/site-packages/sklearn/utils/validation.py\u001b[0m in \u001b[0;36mcheck_is_fitted\u001b[0;34m(estimator, attributes, msg, all_or_any)\u001b[0m\n\u001b[1;32m    912\u001b[0m \u001b[0;34m\u001b[0m\u001b[0m\n\u001b[1;32m    913\u001b[0m     \u001b[0;32mif\u001b[0m \u001b[0;32mnot\u001b[0m \u001b[0mall_or_any\u001b[0m\u001b[0;34m(\u001b[0m\u001b[0;34m[\u001b[0m\u001b[0mhasattr\u001b[0m\u001b[0;34m(\u001b[0m\u001b[0mestimator\u001b[0m\u001b[0;34m,\u001b[0m \u001b[0mattr\u001b[0m\u001b[0;34m)\u001b[0m \u001b[0;32mfor\u001b[0m \u001b[0mattr\u001b[0m \u001b[0;32min\u001b[0m \u001b[0mattributes\u001b[0m\u001b[0;34m]\u001b[0m\u001b[0;34m)\u001b[0m\u001b[0;34m:\u001b[0m\u001b[0;34m\u001b[0m\u001b[0;34m\u001b[0m\u001b[0m\n\u001b[0;32m--> 914\u001b[0;31m         \u001b[0;32mraise\u001b[0m \u001b[0mNotFittedError\u001b[0m\u001b[0;34m(\u001b[0m\u001b[0mmsg\u001b[0m \u001b[0;34m%\u001b[0m \u001b[0;34m{\u001b[0m\u001b[0;34m'name'\u001b[0m\u001b[0;34m:\u001b[0m \u001b[0mtype\u001b[0m\u001b[0;34m(\u001b[0m\u001b[0mestimator\u001b[0m\u001b[0;34m)\u001b[0m\u001b[0;34m.\u001b[0m\u001b[0m__name__\u001b[0m\u001b[0;34m}\u001b[0m\u001b[0;34m)\u001b[0m\u001b[0;34m\u001b[0m\u001b[0;34m\u001b[0m\u001b[0m\n\u001b[0m\u001b[1;32m    915\u001b[0m \u001b[0;34m\u001b[0m\u001b[0m\n\u001b[1;32m    916\u001b[0m \u001b[0;34m\u001b[0m\u001b[0m\n",
        "\u001b[0;31mNotFittedError\u001b[0m: This LinearRegression instance is not fitted yet. Call 'fit' with appropriate arguments before using this method."
       ]
      }
     ],
     "persistentId": "c66a57a9-3e16-41b1-badc-bf5d6ae2e3ac",
     "text": "y_predict = LinearRegression().predict(X_test)"
    },
    "executionTime": "2020-02-08T08:21:06.526Z"
   },
   {
    "cell": {
     "executionCount": 13,
     "executionEventId": "db1542e9-ff01-41bf-8db0-99ae59433c1d",
     "hasError": false,
     "id": "2e00c53a-9386-406c-b5c2-6d755df60820",
     "outputs": [],
     "persistentId": "c66a57a9-3e16-41b1-badc-bf5d6ae2e3ac",
     "text": "y_predict = lr.predict(X_test)"
    },
    "executionTime": "2020-02-08T08:21:23.012Z"
   },
   {
    "cell": {
     "executionCount": 14,
     "executionEventId": "66920d7f-b33e-4cd0-a5a2-28e4d3923a6d",
     "hasError": false,
     "id": "fb62cc8e-99ee-4b21-822c-1918bea087f1",
     "outputs": [],
     "persistentId": "99988cb7-657e-4b26-8f25-33b98788b204",
     "text": "from sklearn.linear_model import LinearRegression\nimport mglearn\nfrom sklearn.model_selection import train_test_split\nimport matplotlib.pyplot as plt"
    },
    "executionTime": "2020-02-08T08:22:40.274Z"
   },
   {
    "cell": {
     "executionCount": 15,
     "executionEventId": "f3652249-6f22-4c47-b1a0-24f663af3a5a",
     "hasError": false,
     "id": "6a6fdd3a-bf89-4067-ad6b-047f0fd49f19",
     "outputs": [],
     "persistentId": "cc92df7b-7576-420c-a46f-4cb0c1a9af47",
     "text": "%matplotlib widget"
    },
    "executionTime": "2020-02-08T08:23:00.733Z"
   },
   {
    "cell": {
     "executionCount": 16,
     "executionEventId": "7edecae7-f757-445a-9ed1-bb3e45a44ce6",
     "hasError": false,
     "id": "fb62cc8e-99ee-4b21-822c-1918bea087f1",
     "outputs": [
      {
       "name": "stderr",
       "output_type": "stream",
       "text": "/Users/junjiexie/opt/anaconda3/lib/python3.7/importlib/_bootstrap.py:219: RuntimeWarning: numpy.ufunc size changed, may indicate binary incompatibility. Expected 192 from C header, got 216 from PyObject\n  return f(*args, **kwds)\n"
      }
     ],
     "persistentId": "99988cb7-657e-4b26-8f25-33b98788b204",
     "text": "from sklearn.linear_model import LinearRegression\nimport mglearn\nfrom sklearn.model_selection import train_test_split\nimport matplotlib.pyplot as plt\nimport seaborn as sns"
    },
    "executionTime": "2020-02-08T08:27:59.324Z"
   },
   {
    "cell": {
     "executionCount": 17,
     "executionEventId": "0dd3f0fa-30c9-4da8-bc07-4201fececc90",
     "hasError": true,
     "id": "a7d0d532-5ba7-4858-9141-fad6cd646b64",
     "outputs": [
      {
       "ename": "Exception",
       "evalue": "Data must be 1-dimensional",
       "output_type": "error",
       "traceback": [
        "\u001b[0;31m---------------------------------------------------------------------------\u001b[0m",
        "\u001b[0;31mException\u001b[0m                                 Traceback (most recent call last)",
        "\u001b[0;32m<ipython-input-17-87e793604871>\u001b[0m in \u001b[0;36m<module>\u001b[0;34m\u001b[0m\n\u001b[0;32m----> 1\u001b[0;31m \u001b[0msns\u001b[0m\u001b[0;34m.\u001b[0m\u001b[0mrelplot\u001b[0m\u001b[0;34m(\u001b[0m\u001b[0mx\u001b[0m\u001b[0;34m=\u001b[0m\u001b[0mX_test\u001b[0m\u001b[0;34m,\u001b[0m\u001b[0my\u001b[0m\u001b[0;34m=\u001b[0m\u001b[0my_predict\u001b[0m\u001b[0;34m)\u001b[0m\u001b[0;34m\u001b[0m\u001b[0;34m\u001b[0m\u001b[0m\n\u001b[0m",
        "\u001b[0;32m~/opt/anaconda3/lib/python3.7/site-packages/seaborn/relational.py\u001b[0m in \u001b[0;36mrelplot\u001b[0;34m(x, y, hue, size, style, data, row, col, col_wrap, row_order, col_order, palette, hue_order, hue_norm, sizes, size_order, size_norm, markers, dashes, style_order, legend, kind, height, aspect, facet_kws, **kwargs)\u001b[0m\n\u001b[1;32m   1574\u001b[0m         \u001b[0msizes\u001b[0m\u001b[0;34m=\u001b[0m\u001b[0msizes\u001b[0m\u001b[0;34m,\u001b[0m \u001b[0msize_order\u001b[0m\u001b[0;34m=\u001b[0m\u001b[0msize_order\u001b[0m\u001b[0;34m,\u001b[0m \u001b[0msize_norm\u001b[0m\u001b[0;34m=\u001b[0m\u001b[0msize_norm\u001b[0m\u001b[0;34m,\u001b[0m\u001b[0;34m\u001b[0m\u001b[0;34m\u001b[0m\u001b[0m\n\u001b[1;32m   1575\u001b[0m         \u001b[0mmarkers\u001b[0m\u001b[0;34m=\u001b[0m\u001b[0mmarkers\u001b[0m\u001b[0;34m,\u001b[0m \u001b[0mdashes\u001b[0m\u001b[0;34m=\u001b[0m\u001b[0mdashes\u001b[0m\u001b[0;34m,\u001b[0m \u001b[0mstyle_order\u001b[0m\u001b[0;34m=\u001b[0m\u001b[0mstyle_order\u001b[0m\u001b[0;34m,\u001b[0m\u001b[0;34m\u001b[0m\u001b[0;34m\u001b[0m\u001b[0m\n\u001b[0;32m-> 1576\u001b[0;31m         \u001b[0mlegend\u001b[0m\u001b[0;34m=\u001b[0m\u001b[0mlegend\u001b[0m\u001b[0;34m,\u001b[0m\u001b[0;34m\u001b[0m\u001b[0;34m\u001b[0m\u001b[0m\n\u001b[0m\u001b[1;32m   1577\u001b[0m     )\n\u001b[1;32m   1578\u001b[0m \u001b[0;34m\u001b[0m\u001b[0m\n",
        "\u001b[0;32m~/opt/anaconda3/lib/python3.7/site-packages/seaborn/relational.py\u001b[0m in \u001b[0;36m__init__\u001b[0;34m(self, x, y, hue, size, style, data, palette, hue_order, hue_norm, sizes, size_order, size_norm, dashes, markers, style_order, x_bins, y_bins, units, estimator, ci, n_boot, alpha, x_jitter, y_jitter, legend)\u001b[0m\n\u001b[1;32m    850\u001b[0m \u001b[0;34m\u001b[0m\u001b[0m\n\u001b[1;32m    851\u001b[0m         plot_data = self.establish_variables(\n\u001b[0;32m--> 852\u001b[0;31m             \u001b[0mx\u001b[0m\u001b[0;34m,\u001b[0m \u001b[0my\u001b[0m\u001b[0;34m,\u001b[0m \u001b[0mhue\u001b[0m\u001b[0;34m,\u001b[0m \u001b[0msize\u001b[0m\u001b[0;34m,\u001b[0m \u001b[0mstyle\u001b[0m\u001b[0;34m,\u001b[0m \u001b[0munits\u001b[0m\u001b[0;34m,\u001b[0m \u001b[0mdata\u001b[0m\u001b[0;34m\u001b[0m\u001b[0;34m\u001b[0m\u001b[0m\n\u001b[0m\u001b[1;32m    853\u001b[0m         )\n\u001b[1;32m    854\u001b[0m \u001b[0;34m\u001b[0m\u001b[0m\n",
        "\u001b[0;32m~/opt/anaconda3/lib/python3.7/site-packages/seaborn/relational.py\u001b[0m in \u001b[0;36mestablish_variables\u001b[0;34m(self, x, y, hue, size, style, units, data)\u001b[0m\n\u001b[1;32m    155\u001b[0m                 \u001b[0munits\u001b[0m\u001b[0;34m=\u001b[0m\u001b[0munits\u001b[0m\u001b[0;34m\u001b[0m\u001b[0;34m\u001b[0m\u001b[0m\n\u001b[1;32m    156\u001b[0m             )\n\u001b[0;32m--> 157\u001b[0;31m             \u001b[0mplot_data\u001b[0m \u001b[0;34m=\u001b[0m \u001b[0mpd\u001b[0m\u001b[0;34m.\u001b[0m\u001b[0mDataFrame\u001b[0m\u001b[0;34m(\u001b[0m\u001b[0mplot_data\u001b[0m\u001b[0;34m)\u001b[0m\u001b[0;34m\u001b[0m\u001b[0;34m\u001b[0m\u001b[0m\n\u001b[0m\u001b[1;32m    158\u001b[0m \u001b[0;34m\u001b[0m\u001b[0m\n\u001b[1;32m    159\u001b[0m         \u001b[0;31m# Option 3:\u001b[0m\u001b[0;34m\u001b[0m\u001b[0;34m\u001b[0m\u001b[0;34m\u001b[0m\u001b[0m\n",
        "\u001b[0;32m~/opt/anaconda3/lib/python3.7/site-packages/pandas/core/frame.py\u001b[0m in \u001b[0;36m__init__\u001b[0;34m(self, data, index, columns, dtype, copy)\u001b[0m\n\u001b[1;32m    409\u001b[0m             )\n\u001b[1;32m    410\u001b[0m         \u001b[0;32melif\u001b[0m \u001b[0misinstance\u001b[0m\u001b[0;34m(\u001b[0m\u001b[0mdata\u001b[0m\u001b[0;34m,\u001b[0m \u001b[0mdict\u001b[0m\u001b[0;34m)\u001b[0m\u001b[0;34m:\u001b[0m\u001b[0;34m\u001b[0m\u001b[0;34m\u001b[0m\u001b[0m\n\u001b[0;32m--> 411\u001b[0;31m             \u001b[0mmgr\u001b[0m \u001b[0;34m=\u001b[0m \u001b[0minit_dict\u001b[0m\u001b[0;34m(\u001b[0m\u001b[0mdata\u001b[0m\u001b[0;34m,\u001b[0m \u001b[0mindex\u001b[0m\u001b[0;34m,\u001b[0m \u001b[0mcolumns\u001b[0m\u001b[0;34m,\u001b[0m \u001b[0mdtype\u001b[0m\u001b[0;34m=\u001b[0m\u001b[0mdtype\u001b[0m\u001b[0;34m)\u001b[0m\u001b[0;34m\u001b[0m\u001b[0;34m\u001b[0m\u001b[0m\n\u001b[0m\u001b[1;32m    412\u001b[0m         \u001b[0;32melif\u001b[0m \u001b[0misinstance\u001b[0m\u001b[0;34m(\u001b[0m\u001b[0mdata\u001b[0m\u001b[0;34m,\u001b[0m \u001b[0mma\u001b[0m\u001b[0;34m.\u001b[0m\u001b[0mMaskedArray\u001b[0m\u001b[0;34m)\u001b[0m\u001b[0;34m:\u001b[0m\u001b[0;34m\u001b[0m\u001b[0;34m\u001b[0m\u001b[0m\n\u001b[1;32m    413\u001b[0m             \u001b[0;32mimport\u001b[0m \u001b[0mnumpy\u001b[0m\u001b[0;34m.\u001b[0m\u001b[0mma\u001b[0m\u001b[0;34m.\u001b[0m\u001b[0mmrecords\u001b[0m \u001b[0;32mas\u001b[0m \u001b[0mmrecords\u001b[0m\u001b[0;34m\u001b[0m\u001b[0;34m\u001b[0m\u001b[0m\n",
        "\u001b[0;32m~/opt/anaconda3/lib/python3.7/site-packages/pandas/core/internals/construction.py\u001b[0m in \u001b[0;36minit_dict\u001b[0;34m(data, index, columns, dtype)\u001b[0m\n\u001b[1;32m    255\u001b[0m             \u001b[0marr\u001b[0m \u001b[0;32mif\u001b[0m \u001b[0;32mnot\u001b[0m \u001b[0mis_datetime64tz_dtype\u001b[0m\u001b[0;34m(\u001b[0m\u001b[0marr\u001b[0m\u001b[0;34m)\u001b[0m \u001b[0;32melse\u001b[0m \u001b[0marr\u001b[0m\u001b[0;34m.\u001b[0m\u001b[0mcopy\u001b[0m\u001b[0;34m(\u001b[0m\u001b[0;34m)\u001b[0m \u001b[0;32mfor\u001b[0m \u001b[0marr\u001b[0m \u001b[0;32min\u001b[0m \u001b[0marrays\u001b[0m\u001b[0;34m\u001b[0m\u001b[0;34m\u001b[0m\u001b[0m\n\u001b[1;32m    256\u001b[0m         ]\n\u001b[0;32m--> 257\u001b[0;31m     \u001b[0;32mreturn\u001b[0m \u001b[0marrays_to_mgr\u001b[0m\u001b[0;34m(\u001b[0m\u001b[0marrays\u001b[0m\u001b[0;34m,\u001b[0m \u001b[0mdata_names\u001b[0m\u001b[0;34m,\u001b[0m \u001b[0mindex\u001b[0m\u001b[0;34m,\u001b[0m \u001b[0mcolumns\u001b[0m\u001b[0;34m,\u001b[0m \u001b[0mdtype\u001b[0m\u001b[0;34m=\u001b[0m\u001b[0mdtype\u001b[0m\u001b[0;34m)\u001b[0m\u001b[0;34m\u001b[0m\u001b[0;34m\u001b[0m\u001b[0m\n\u001b[0m\u001b[1;32m    258\u001b[0m \u001b[0;34m\u001b[0m\u001b[0m\n\u001b[1;32m    259\u001b[0m \u001b[0;34m\u001b[0m\u001b[0m\n",
        "\u001b[0;32m~/opt/anaconda3/lib/python3.7/site-packages/pandas/core/internals/construction.py\u001b[0m in \u001b[0;36marrays_to_mgr\u001b[0;34m(arrays, arr_names, index, columns, dtype)\u001b[0m\n\u001b[1;32m     80\u001b[0m \u001b[0;34m\u001b[0m\u001b[0m\n\u001b[1;32m     81\u001b[0m     \u001b[0;31m# don't force copy because getting jammed in an ndarray anyway\u001b[0m\u001b[0;34m\u001b[0m\u001b[0;34m\u001b[0m\u001b[0;34m\u001b[0m\u001b[0m\n\u001b[0;32m---> 82\u001b[0;31m     \u001b[0marrays\u001b[0m \u001b[0;34m=\u001b[0m \u001b[0m_homogenize\u001b[0m\u001b[0;34m(\u001b[0m\u001b[0marrays\u001b[0m\u001b[0;34m,\u001b[0m \u001b[0mindex\u001b[0m\u001b[0;34m,\u001b[0m \u001b[0mdtype\u001b[0m\u001b[0;34m)\u001b[0m\u001b[0;34m\u001b[0m\u001b[0;34m\u001b[0m\u001b[0m\n\u001b[0m\u001b[1;32m     83\u001b[0m \u001b[0;34m\u001b[0m\u001b[0m\n\u001b[1;32m     84\u001b[0m     \u001b[0;31m# from BlockManager perspective\u001b[0m\u001b[0;34m\u001b[0m\u001b[0;34m\u001b[0m\u001b[0;34m\u001b[0m\u001b[0m\n",
        "\u001b[0;32m~/opt/anaconda3/lib/python3.7/site-packages/pandas/core/internals/construction.py\u001b[0m in \u001b[0;36m_homogenize\u001b[0;34m(data, index, dtype)\u001b[0m\n\u001b[1;32m    321\u001b[0m                 \u001b[0mval\u001b[0m \u001b[0;34m=\u001b[0m \u001b[0mlib\u001b[0m\u001b[0;34m.\u001b[0m\u001b[0mfast_multiget\u001b[0m\u001b[0;34m(\u001b[0m\u001b[0mval\u001b[0m\u001b[0;34m,\u001b[0m \u001b[0moindex\u001b[0m\u001b[0;34m.\u001b[0m\u001b[0mvalues\u001b[0m\u001b[0;34m,\u001b[0m \u001b[0mdefault\u001b[0m\u001b[0;34m=\u001b[0m\u001b[0mnp\u001b[0m\u001b[0;34m.\u001b[0m\u001b[0mnan\u001b[0m\u001b[0;34m)\u001b[0m\u001b[0;34m\u001b[0m\u001b[0;34m\u001b[0m\u001b[0m\n\u001b[1;32m    322\u001b[0m             val = sanitize_array(\n\u001b[0;32m--> 323\u001b[0;31m                 \u001b[0mval\u001b[0m\u001b[0;34m,\u001b[0m \u001b[0mindex\u001b[0m\u001b[0;34m,\u001b[0m \u001b[0mdtype\u001b[0m\u001b[0;34m=\u001b[0m\u001b[0mdtype\u001b[0m\u001b[0;34m,\u001b[0m \u001b[0mcopy\u001b[0m\u001b[0;34m=\u001b[0m\u001b[0;32mFalse\u001b[0m\u001b[0;34m,\u001b[0m \u001b[0mraise_cast_failure\u001b[0m\u001b[0;34m=\u001b[0m\u001b[0;32mFalse\u001b[0m\u001b[0;34m\u001b[0m\u001b[0;34m\u001b[0m\u001b[0m\n\u001b[0m\u001b[1;32m    324\u001b[0m             )\n\u001b[1;32m    325\u001b[0m \u001b[0;34m\u001b[0m\u001b[0m\n",
        "\u001b[0;32m~/opt/anaconda3/lib/python3.7/site-packages/pandas/core/internals/construction.py\u001b[0m in \u001b[0;36msanitize_array\u001b[0;34m(data, index, dtype, copy, raise_cast_failure)\u001b[0m\n\u001b[1;32m    727\u001b[0m     \u001b[0;32melif\u001b[0m \u001b[0msubarr\u001b[0m\u001b[0;34m.\u001b[0m\u001b[0mndim\u001b[0m \u001b[0;34m>\u001b[0m \u001b[0;36m1\u001b[0m\u001b[0;34m:\u001b[0m\u001b[0;34m\u001b[0m\u001b[0;34m\u001b[0m\u001b[0m\n\u001b[1;32m    728\u001b[0m         \u001b[0;32mif\u001b[0m \u001b[0misinstance\u001b[0m\u001b[0;34m(\u001b[0m\u001b[0mdata\u001b[0m\u001b[0;34m,\u001b[0m \u001b[0mnp\u001b[0m\u001b[0;34m.\u001b[0m\u001b[0mndarray\u001b[0m\u001b[0;34m)\u001b[0m\u001b[0;34m:\u001b[0m\u001b[0;34m\u001b[0m\u001b[0;34m\u001b[0m\u001b[0m\n\u001b[0;32m--> 729\u001b[0;31m             \u001b[0;32mraise\u001b[0m \u001b[0mException\u001b[0m\u001b[0;34m(\u001b[0m\u001b[0;34m\"Data must be 1-dimensional\"\u001b[0m\u001b[0;34m)\u001b[0m\u001b[0;34m\u001b[0m\u001b[0;34m\u001b[0m\u001b[0m\n\u001b[0m\u001b[1;32m    730\u001b[0m         \u001b[0;32melse\u001b[0m\u001b[0;34m:\u001b[0m\u001b[0;34m\u001b[0m\u001b[0;34m\u001b[0m\u001b[0m\n\u001b[1;32m    731\u001b[0m             \u001b[0msubarr\u001b[0m \u001b[0;34m=\u001b[0m \u001b[0mcom\u001b[0m\u001b[0;34m.\u001b[0m\u001b[0masarray_tuplesafe\u001b[0m\u001b[0;34m(\u001b[0m\u001b[0mdata\u001b[0m\u001b[0;34m,\u001b[0m \u001b[0mdtype\u001b[0m\u001b[0;34m=\u001b[0m\u001b[0mdtype\u001b[0m\u001b[0;34m)\u001b[0m\u001b[0;34m\u001b[0m\u001b[0;34m\u001b[0m\u001b[0m\n",
        "\u001b[0;31mException\u001b[0m: Data must be 1-dimensional"
       ]
      }
     ],
     "persistentId": "b561bd2a-2413-464d-adaa-a95905663d36",
     "text": "sns.relplot(x=X_test,y=y_predict)"
    },
    "executionTime": "2020-02-08T08:30:47.266Z"
   },
   {
    "cell": {
     "executionCount": 18,
     "executionEventId": "2f7f5c13-48cb-44ad-b29c-f15895609817",
     "hasError": false,
     "id": "a7d0d532-5ba7-4858-9141-fad6cd646b64",
     "outputs": [
      {
       "data": {
        "application/vnd.jupyter.widget-view+json": {
         "model_id": "3e1b6f3f741f49908e0a4ab63b38b515",
         "version_major": 2,
         "version_minor": 0
        },
        "text/plain": "Canvas(toolbar=Toolbar(toolitems=[('Home', 'Reset original view', 'home', 'home'), ('Back', 'Back to previous …"
       },
       "metadata": {},
       "output_type": "display_data"
      },
      {
       "data": {
        "text/plain": "[<matplotlib.lines.Line2D at 0x1c2961a790>]"
       },
       "execution_count": 18,
       "metadata": {},
       "output_type": "execute_result"
      }
     ],
     "persistentId": "b561bd2a-2413-464d-adaa-a95905663d36",
     "text": "plt.scatter(X_test,y_test)\nplt.plot(X_test,y_predict,color=\"red\")"
    },
    "executionTime": "2020-02-08T08:33:36.187Z"
   },
   {
    "cell": {
     "executionCount": 19,
     "executionEventId": "51ee00fb-2e8b-40d3-a741-3acb4399ffe4",
     "hasError": false,
     "id": "4c458e52-1c57-40ef-a95e-2b389e6fc826",
     "outputs": [],
     "persistentId": "e7ee282d-313f-4b83-b647-ed5f300916e6",
     "text": "def model(X, y):\n    # 直接存储 X,y 即可\n    return [(Xi, yi) for Xi, yi in zip(X, y)]"
    },
    "executionTime": "2020-02-08T08:34:59.074Z"
   },
   {
    "cell": {
     "executionCount": 20,
     "executionEventId": "cc9bf4b2-7194-42a2-b3c4-1951524135f3",
     "hasError": false,
     "id": "32b54637-6038-4a15-8c01-b0900ddbecc4",
     "outputs": [],
     "persistentId": "d162dc54-defe-45af-a0d9-6ed7ed9ec77f",
     "text": "from scipy.spatial.distance import cosine"
    },
    "executionTime": "2020-02-08T08:35:38.171Z"
   },
   {
    "cell": {
     "executionCount": 21,
     "executionEventId": "26dbba93-d564-403a-b507-75ea176dbb91",
     "hasError": false,
     "id": "4c458e52-1c57-40ef-a95e-2b389e6fc826",
     "outputs": [],
     "persistentId": "e7ee282d-313f-4b83-b647-ed5f300916e6",
     "text": "def model(X, y):\n    # 直接存储 X,y 即可\n    return [(Xi, yi) for Xi, yi in zip(X, y)]"
    },
    "executionTime": "2020-02-08T08:36:36.991Z"
   },
   {
    "cell": {
     "executionCount": 22,
     "executionEventId": "07eec419-27e2-4dfa-b5b5-a5b9abd236d9",
     "hasError": false,
     "id": "32b54637-6038-4a15-8c01-b0900ddbecc4",
     "outputs": [],
     "persistentId": "d162dc54-defe-45af-a0d9-6ed7ed9ec77f",
     "text": "from scipy.spatial.distance import cosine"
    },
    "executionTime": "2020-02-08T08:36:37.454Z"
   },
   {
    "cell": {
     "executionCount": 23,
     "executionEventId": "19377f34-0e36-4755-a2f6-fe19b5506ad5",
     "hasError": false,
     "id": "1c2f0f0a-074a-4a5e-94b1-61c58a18bff7",
     "outputs": [],
     "persistentId": "8d3bb18f-b599-4d9a-bf38-1acf4430a4e7",
     "text": "def distance(x1, x2):\n    #这里以余弦距离作为距离衡量标准\n    return cosine(x1, x2)"
    },
    "executionTime": "2020-02-08T08:36:37.943Z"
   },
   {
    "cell": {
     "executionCount": 24,
     "executionEventId": "a66b006c-18e9-4244-b2ef-3a0ec819e102",
     "hasError": false,
     "id": "bf28837a-8a85-4e83-bd92-97d7025ea15b",
     "outputs": [],
     "persistentId": "d8e7ee42-40e2-4800-bd06-ffcf117f35fa",
     "text": "def KNN_regression(x, k=3):\n    # 在predicate的时候，需要做大量的计算\n    most_similars = sorted(model(X, y), key=lambda xi: distance(xi[0], x))[:k]\n    \n    y_hats = [_y for x, _y in most_similars]\n    \n#     print(most_similars)\n    \n    return np.mean(y_hats)\n    # -> regression: numerical -> most_similars (y)\n    # -> classification: categorical -> most_similar (y)\n    \n    # 已经获得了最相似的数据集\n    # 然后呢，Counter() -> most_common() -> 就可以获得出现最多的这个y了 "
    },
    "executionTime": "2020-02-08T08:36:38.449Z"
   },
   {
    "cell": {
     "executionCount": 25,
     "executionEventId": "ba16ceaa-70b8-4364-a055-5c48f5842cf6",
     "hasError": true,
     "id": "a25a2c41-87eb-493d-a85d-b3ddb86c4d7d",
     "outputs": [
      {
       "ename": "NameError",
       "evalue": "name 'np' is not defined",
       "output_type": "error",
       "traceback": [
        "\u001b[0;31m---------------------------------------------------------------------------\u001b[0m",
        "\u001b[0;31mNameError\u001b[0m                                 Traceback (most recent call last)",
        "\u001b[0;32m<ipython-input-25-f56f53019d82>\u001b[0m in \u001b[0;36m<module>\u001b[0;34m\u001b[0m\n\u001b[0;32m----> 1\u001b[0;31m \u001b[0mknn_y_predict\u001b[0m \u001b[0;34m=\u001b[0m \u001b[0;34m[\u001b[0m\u001b[0mKNN_regression\u001b[0m\u001b[0;34m(\u001b[0m\u001b[0mxi\u001b[0m\u001b[0;34m)\u001b[0m \u001b[0;32mfor\u001b[0m \u001b[0mxi\u001b[0m \u001b[0;32min\u001b[0m \u001b[0mX_test\u001b[0m\u001b[0;34m]\u001b[0m\u001b[0;34m\u001b[0m\u001b[0;34m\u001b[0m\u001b[0m\n\u001b[0m",
        "\u001b[0;32m<ipython-input-25-f56f53019d82>\u001b[0m in \u001b[0;36m<listcomp>\u001b[0;34m(.0)\u001b[0m\n\u001b[0;32m----> 1\u001b[0;31m \u001b[0mknn_y_predict\u001b[0m \u001b[0;34m=\u001b[0m \u001b[0;34m[\u001b[0m\u001b[0mKNN_regression\u001b[0m\u001b[0;34m(\u001b[0m\u001b[0mxi\u001b[0m\u001b[0;34m)\u001b[0m \u001b[0;32mfor\u001b[0m \u001b[0mxi\u001b[0m \u001b[0;32min\u001b[0m \u001b[0mX_test\u001b[0m\u001b[0;34m]\u001b[0m\u001b[0;34m\u001b[0m\u001b[0;34m\u001b[0m\u001b[0m\n\u001b[0m",
        "\u001b[0;32m<ipython-input-24-1f7bef4bd999>\u001b[0m in \u001b[0;36mKNN_regression\u001b[0;34m(x, k)\u001b[0m\n\u001b[1;32m      7\u001b[0m \u001b[0;31m#     print(most_similars)\u001b[0m\u001b[0;34m\u001b[0m\u001b[0;34m\u001b[0m\u001b[0;34m\u001b[0m\u001b[0m\n\u001b[1;32m      8\u001b[0m \u001b[0;34m\u001b[0m\u001b[0m\n\u001b[0;32m----> 9\u001b[0;31m     \u001b[0;32mreturn\u001b[0m \u001b[0mnp\u001b[0m\u001b[0;34m.\u001b[0m\u001b[0mmean\u001b[0m\u001b[0;34m(\u001b[0m\u001b[0my_hats\u001b[0m\u001b[0;34m)\u001b[0m\u001b[0;34m\u001b[0m\u001b[0;34m\u001b[0m\u001b[0m\n\u001b[0m\u001b[1;32m     10\u001b[0m     \u001b[0;31m# -> regression: numerical -> most_similars (y)\u001b[0m\u001b[0;34m\u001b[0m\u001b[0;34m\u001b[0m\u001b[0;34m\u001b[0m\u001b[0m\n\u001b[1;32m     11\u001b[0m     \u001b[0;31m# -> classification: categorical -> most_similar (y)\u001b[0m\u001b[0;34m\u001b[0m\u001b[0;34m\u001b[0m\u001b[0;34m\u001b[0m\u001b[0m\n",
        "\u001b[0;31mNameError\u001b[0m: name 'np' is not defined"
       ]
      }
     ],
     "persistentId": "fef8d150-11f2-4887-a9da-b18e703773a9",
     "text": "knn_y_predict = [KNN_regression(xi) for xi in X_test]"
    },
    "executionTime": "2020-02-08T08:37:18.231Z"
   },
   {
    "cell": {
     "executionCount": 26,
     "executionEventId": "d7129f9e-46ca-4c19-90c5-595d1408db09",
     "hasError": false,
     "id": "32b54637-6038-4a15-8c01-b0900ddbecc4",
     "outputs": [],
     "persistentId": "d162dc54-defe-45af-a0d9-6ed7ed9ec77f",
     "text": "from scipy.spatial.distance import cosine\nimport numpy"
    },
    "executionTime": "2020-02-08T08:37:32.035Z"
   },
   {
    "cell": {
     "executionCount": 27,
     "executionEventId": "e5e966bd-381a-49e3-8ec2-bb5d39e2ac15",
     "hasError": true,
     "id": "a25a2c41-87eb-493d-a85d-b3ddb86c4d7d",
     "outputs": [
      {
       "ename": "NameError",
       "evalue": "name 'np' is not defined",
       "output_type": "error",
       "traceback": [
        "\u001b[0;31m---------------------------------------------------------------------------\u001b[0m",
        "\u001b[0;31mNameError\u001b[0m                                 Traceback (most recent call last)",
        "\u001b[0;32m<ipython-input-27-f56f53019d82>\u001b[0m in \u001b[0;36m<module>\u001b[0;34m\u001b[0m\n\u001b[0;32m----> 1\u001b[0;31m \u001b[0mknn_y_predict\u001b[0m \u001b[0;34m=\u001b[0m \u001b[0;34m[\u001b[0m\u001b[0mKNN_regression\u001b[0m\u001b[0;34m(\u001b[0m\u001b[0mxi\u001b[0m\u001b[0;34m)\u001b[0m \u001b[0;32mfor\u001b[0m \u001b[0mxi\u001b[0m \u001b[0;32min\u001b[0m \u001b[0mX_test\u001b[0m\u001b[0;34m]\u001b[0m\u001b[0;34m\u001b[0m\u001b[0;34m\u001b[0m\u001b[0m\n\u001b[0m",
        "\u001b[0;32m<ipython-input-27-f56f53019d82>\u001b[0m in \u001b[0;36m<listcomp>\u001b[0;34m(.0)\u001b[0m\n\u001b[0;32m----> 1\u001b[0;31m \u001b[0mknn_y_predict\u001b[0m \u001b[0;34m=\u001b[0m \u001b[0;34m[\u001b[0m\u001b[0mKNN_regression\u001b[0m\u001b[0;34m(\u001b[0m\u001b[0mxi\u001b[0m\u001b[0;34m)\u001b[0m \u001b[0;32mfor\u001b[0m \u001b[0mxi\u001b[0m \u001b[0;32min\u001b[0m \u001b[0mX_test\u001b[0m\u001b[0;34m]\u001b[0m\u001b[0;34m\u001b[0m\u001b[0;34m\u001b[0m\u001b[0m\n\u001b[0m",
        "\u001b[0;32m<ipython-input-24-1f7bef4bd999>\u001b[0m in \u001b[0;36mKNN_regression\u001b[0;34m(x, k)\u001b[0m\n\u001b[1;32m      7\u001b[0m \u001b[0;31m#     print(most_similars)\u001b[0m\u001b[0;34m\u001b[0m\u001b[0;34m\u001b[0m\u001b[0;34m\u001b[0m\u001b[0m\n\u001b[1;32m      8\u001b[0m \u001b[0;34m\u001b[0m\u001b[0m\n\u001b[0;32m----> 9\u001b[0;31m     \u001b[0;32mreturn\u001b[0m \u001b[0mnp\u001b[0m\u001b[0;34m.\u001b[0m\u001b[0mmean\u001b[0m\u001b[0;34m(\u001b[0m\u001b[0my_hats\u001b[0m\u001b[0;34m)\u001b[0m\u001b[0;34m\u001b[0m\u001b[0;34m\u001b[0m\u001b[0m\n\u001b[0m\u001b[1;32m     10\u001b[0m     \u001b[0;31m# -> regression: numerical -> most_similars (y)\u001b[0m\u001b[0;34m\u001b[0m\u001b[0;34m\u001b[0m\u001b[0;34m\u001b[0m\u001b[0m\n\u001b[1;32m     11\u001b[0m     \u001b[0;31m# -> classification: categorical -> most_similar (y)\u001b[0m\u001b[0;34m\u001b[0m\u001b[0;34m\u001b[0m\u001b[0;34m\u001b[0m\u001b[0m\n",
        "\u001b[0;31mNameError\u001b[0m: name 'np' is not defined"
       ]
      }
     ],
     "persistentId": "fef8d150-11f2-4887-a9da-b18e703773a9",
     "text": "knn_y_predict = [KNN_regression(xi) for xi in X_test]"
    },
    "executionTime": "2020-02-08T08:37:34.945Z"
   },
   {
    "cell": {
     "executionCount": 28,
     "executionEventId": "7ff9b4ea-d40f-4e97-8019-bf02b63e92f9",
     "hasError": false,
     "id": "32b54637-6038-4a15-8c01-b0900ddbecc4",
     "outputs": [],
     "persistentId": "d162dc54-defe-45af-a0d9-6ed7ed9ec77f",
     "text": "from scipy.spatial.distance import cosine\nimport numpy as np"
    },
    "executionTime": "2020-02-08T08:37:43.696Z"
   },
   {
    "cell": {
     "executionCount": 29,
     "executionEventId": "10673da7-859f-4aa5-8c69-60cf04f4cf86",
     "hasError": false,
     "id": "a25a2c41-87eb-493d-a85d-b3ddb86c4d7d",
     "outputs": [],
     "persistentId": "fef8d150-11f2-4887-a9da-b18e703773a9",
     "text": "knn_y_predict = [KNN_regression(xi) for xi in X_test]"
    },
    "executionTime": "2020-02-08T08:37:52.839Z"
   },
   {
    "cell": {
     "executionCount": 30,
     "executionEventId": "e582558b-c972-4754-81fe-c503fdb6ca23",
     "hasError": false,
     "id": "d4c0d2e0-83fc-4c87-a183-3e09dc48e2eb",
     "outputs": [
      {
       "data": {
        "text/plain": "[<matplotlib.lines.Line2D at 0x1c29481810>]"
       },
       "execution_count": 30,
       "metadata": {},
       "output_type": "execute_result"
      }
     ],
     "persistentId": "be986d36-c062-4847-bb4c-5ec923835213",
     "text": "#针对新数据的可视化分析\nplt.scatter(X_test,y_test)\nplt.plot(X_test,knn_y_predict,color=\"red\")"
    },
    "executionTime": "2020-02-08T08:38:38.226Z"
   },
   {
    "cell": {
     "executionCount": 31,
     "executionEventId": "aa5eb683-815c-4164-b9d6-dadfb63aaf28",
     "hasError": false,
     "id": "a7d0d532-5ba7-4858-9141-fad6cd646b64",
     "outputs": [
      {
       "data": {
        "text/plain": "[<matplotlib.lines.Line2D at 0x1c296ebd50>]"
       },
       "execution_count": 31,
       "metadata": {},
       "output_type": "execute_result"
      }
     ],
     "persistentId": "b561bd2a-2413-464d-adaa-a95905663d36",
     "text": "#针对新数据的可视化分析\nplt.scatter(X_test,y_test)\nplt.plot(X_test,y_predict,color=\"red\")"
    },
    "executionTime": "2020-02-08T08:38:52.683Z"
   },
   {
    "cell": {
     "executionCount": 32,
     "executionEventId": "7abaf9e8-25e9-4804-9a23-fd6d75d155d9",
     "hasError": false,
     "id": "a7d0d532-5ba7-4858-9141-fad6cd646b64",
     "outputs": [
      {
       "data": {
        "text/plain": "[<matplotlib.lines.Line2D at 0x1c2977e990>]"
       },
       "execution_count": 32,
       "metadata": {},
       "output_type": "execute_result"
      }
     ],
     "persistentId": "b561bd2a-2413-464d-adaa-a95905663d36",
     "text": "#针对新数据的可视化分析\nplt.scatter(X_test,y_test)\nplt.plot(X_test,y_predict,color=\"red\")"
    },
    "executionTime": "2020-02-08T08:39:19.792Z"
   },
   {
    "cell": {
     "executionCount": 33,
     "executionEventId": "d3192a7a-07f6-4eb5-9168-c82437c64699",
     "hasError": false,
     "id": "a7d0d532-5ba7-4858-9141-fad6cd646b64",
     "outputs": [
      {
       "data": {
        "application/vnd.jupyter.widget-view+json": {
         "model_id": "7ad037b37f454b82b0345583836d6335",
         "version_major": 2,
         "version_minor": 0
        },
        "text/plain": "Canvas(toolbar=Toolbar(toolitems=[('Home', 'Reset original view', 'home', 'home'), ('Back', 'Back to previous …"
       },
       "metadata": {},
       "output_type": "display_data"
      },
      {
       "data": {
        "text/plain": "[<matplotlib.lines.Line2D at 0xa1c61dfd0>]"
       },
       "execution_count": 33,
       "metadata": {},
       "output_type": "execute_result"
      }
     ],
     "persistentId": "b561bd2a-2413-464d-adaa-a95905663d36",
     "text": "#针对新数据的可视化分析\nfig = plt.figure()\nax = fig.add_subplot(1,1,1)\nax.scatter(X_test,y_test)\nax.plot(X_test,y_predict,color=\"red\")"
    },
    "executionTime": "2020-02-08T08:41:02.405Z"
   },
   {
    "cell": {
     "executionCount": 34,
     "executionEventId": "52e48799-c456-468c-994b-7eeb2589694a",
     "hasError": false,
     "id": "d4c0d2e0-83fc-4c87-a183-3e09dc48e2eb",
     "outputs": [
      {
       "name": "stderr",
       "output_type": "stream",
       "text": "/Users/junjiexie/opt/anaconda3/lib/python3.7/site-packages/ipykernel_launcher.py:2: MatplotlibDeprecationWarning: Adding an axes using the same arguments as a previous axes currently reuses the earlier instance.  In a future version, a new instance will always be created and returned.  Meanwhile, this warning can be suppressed, and the future behavior ensured, by passing a unique label to each axes instance.\n  \n"
      },
      {
       "data": {
        "text/plain": "[<matplotlib.lines.Line2D at 0x1c2b964210>]"
       },
       "execution_count": 34,
       "metadata": {},
       "output_type": "execute_result"
      }
     ],
     "persistentId": "be986d36-c062-4847-bb4c-5ec923835213",
     "text": "#针对新数据的可视化分析\nax2 = fig.add_subplot(1,1,1)\nax2.scatter(X_test,y_test)\nax2.plot(X_test,knn_y_predict,color=\"red\")"
    },
    "executionTime": "2020-02-08T08:41:43.694Z"
   },
   {
    "cell": {
     "executionCount": 35,
     "executionEventId": "3a2a003f-d525-48f5-bba4-c4119bbd0b6b",
     "hasError": false,
     "id": "d4c0d2e0-83fc-4c87-a183-3e09dc48e2eb",
     "outputs": [
      {
       "name": "stderr",
       "output_type": "stream",
       "text": "/Users/junjiexie/opt/anaconda3/lib/python3.7/site-packages/ipykernel_launcher.py:2: MatplotlibDeprecationWarning: Adding an axes using the same arguments as a previous axes currently reuses the earlier instance.  In a future version, a new instance will always be created and returned.  Meanwhile, this warning can be suppressed, and the future behavior ensured, by passing a unique label to each axes instance.\n  \n"
      },
      {
       "data": {
        "text/plain": "<matplotlib.collections.PathCollection at 0x1c2b98d490>"
       },
       "execution_count": 35,
       "metadata": {},
       "output_type": "execute_result"
      }
     ],
     "persistentId": "be986d36-c062-4847-bb4c-5ec923835213",
     "text": "#针对新数据的可视化分析\nax2 = fig.add_subplot(1,1,1)\nax2.scatter(X_test,y_test)\nax2.scatter(X_test,knn_y_predict,color=\"blue\")"
    },
    "executionTime": "2020-02-08T08:42:44.176Z"
   },
   {
    "cell": {
     "executionCount": 36,
     "executionEventId": "64dad666-9c69-4cfa-8493-9990f86bb91a",
     "hasError": false,
     "id": "a7d0d532-5ba7-4858-9141-fad6cd646b64",
     "outputs": [
      {
       "data": {
        "application/vnd.jupyter.widget-view+json": {
         "model_id": "0ece3f9171fe408f9e7936a8f2c38458",
         "version_major": 2,
         "version_minor": 0
        },
        "text/plain": "Canvas(toolbar=Toolbar(toolitems=[('Home', 'Reset original view', 'home', 'home'), ('Back', 'Back to previous …"
       },
       "metadata": {},
       "output_type": "display_data"
      },
      {
       "data": {
        "text/plain": "[<matplotlib.lines.Line2D at 0x1c2b97e4d0>]"
       },
       "execution_count": 36,
       "metadata": {},
       "output_type": "execute_result"
      }
     ],
     "persistentId": "b561bd2a-2413-464d-adaa-a95905663d36",
     "text": "#针对新数据的可视化分析\nfig = plt.figure()\nax = fig.add_subplot(1,1,1)\nax.scatter(X_test,y_test)\nax.plot(X_test,y_predict,color=\"red\")"
    },
    "executionTime": "2020-02-08T08:42:52.935Z"
   },
   {
    "cell": {
     "executionCount": 37,
     "executionEventId": "dd8747f3-b049-4cd6-8eef-1d829a748dca",
     "hasError": false,
     "id": "d4c0d2e0-83fc-4c87-a183-3e09dc48e2eb",
     "outputs": [
      {
       "name": "stderr",
       "output_type": "stream",
       "text": "/Users/junjiexie/opt/anaconda3/lib/python3.7/site-packages/ipykernel_launcher.py:2: MatplotlibDeprecationWarning: Adding an axes using the same arguments as a previous axes currently reuses the earlier instance.  In a future version, a new instance will always be created and returned.  Meanwhile, this warning can be suppressed, and the future behavior ensured, by passing a unique label to each axes instance.\n  \n"
      },
      {
       "data": {
        "text/plain": "<matplotlib.collections.PathCollection at 0x1c2be0ff90>"
       },
       "execution_count": 37,
       "metadata": {},
       "output_type": "execute_result"
      }
     ],
     "persistentId": "be986d36-c062-4847-bb4c-5ec923835213",
     "text": "#针对新数据的可视化分析\nax2 = fig.add_subplot(1,1,1)\nax2.scatter(X_test,y_test)\nax2.scatter(X_test,knn_y_predict,color=\"blue\")"
    },
    "executionTime": "2020-02-08T08:43:03.951Z"
   },
   {
    "cell": {
     "executionCount": 38,
     "executionEventId": "dd7228ac-a140-4a28-9bc1-4c9ea95e834d",
     "hasError": false,
     "id": "a7d0d532-5ba7-4858-9141-fad6cd646b64",
     "outputs": [
      {
       "data": {
        "application/vnd.jupyter.widget-view+json": {
         "model_id": "02279d1b560842199e38a5127d1725f7",
         "version_major": 2,
         "version_minor": 0
        },
        "text/plain": "Canvas(toolbar=Toolbar(toolitems=[('Home', 'Reset original view', 'home', 'home'), ('Back', 'Back to previous …"
       },
       "metadata": {},
       "output_type": "display_data"
      },
      {
       "data": {
        "text/plain": "[<matplotlib.lines.Line2D at 0x1c2bd7ca90>]"
       },
       "execution_count": 38,
       "metadata": {},
       "output_type": "execute_result"
      }
     ],
     "persistentId": "b561bd2a-2413-464d-adaa-a95905663d36",
     "text": "#针对新数据的可视化分析\nfig = plt.figure()\nax = fig.add_subplot(1,1,1)\nax.scatter(X_test,y_test)\nax.plot(X_test,y_predict,color=\"red\")"
    },
    "executionTime": "2020-02-08T08:43:31.596Z"
   },
   {
    "cell": {
     "executionCount": 39,
     "executionEventId": "f38a7126-3c05-4c7d-aa56-af0dbcaaea1f",
     "hasError": false,
     "id": "a7d0d532-5ba7-4858-9141-fad6cd646b64",
     "outputs": [
      {
       "data": {
        "application/vnd.jupyter.widget-view+json": {
         "model_id": "8fb919ac2e6547029d6a6df3caab0500",
         "version_major": 2,
         "version_minor": 0
        },
        "text/plain": "Canvas(toolbar=Toolbar(toolitems=[('Home', 'Reset original view', 'home', 'home'), ('Back', 'Back to previous …"
       },
       "metadata": {},
       "output_type": "display_data"
      },
      {
       "data": {
        "text/plain": "[<matplotlib.lines.Line2D at 0x1c2bedc790>]"
       },
       "execution_count": 39,
       "metadata": {},
       "output_type": "execute_result"
      }
     ],
     "persistentId": "b561bd2a-2413-464d-adaa-a95905663d36",
     "text": "#针对新数据的可视化分析\nfig = plt.figure()\nax = fig.add_subplot(1,1,1)\nax.scatter(X_test,y_test)\nax.plot(X_test,y_predict,color=\"red\")"
    },
    "executionTime": "2020-02-08T08:43:46.032Z"
   },
   {
    "cell": {
     "executionCount": 1,
     "executionEventId": "8a2a1ad9-e53c-4647-9adc-927153c20edd",
     "hasError": false,
     "id": "fb62cc8e-99ee-4b21-822c-1918bea087f1",
     "outputs": [
      {
       "name": "stderr",
       "output_type": "stream",
       "text": "/Users/junjiexie/opt/anaconda3/lib/python3.7/site-packages/sklearn/externals/six.py:31: DeprecationWarning: The module is deprecated in version 0.21 and will be removed in version 0.23 since we've dropped support for Python 2.7. Please rely on the official version of six (https://pypi.org/project/six/).\n  \"(https://pypi.org/project/six/).\", DeprecationWarning)\n/Users/junjiexie/opt/anaconda3/lib/python3.7/site-packages/sklearn/externals/joblib/__init__.py:15: DeprecationWarning: sklearn.externals.joblib is deprecated in 0.21 and will be removed in 0.23. Please import this functionality directly from joblib, which can be installed with: pip install joblib. If this warning is raised when loading pickled models, you may need to re-serialize those models with scikit-learn 0.21+.\n  warnings.warn(msg, category=DeprecationWarning)\n"
      }
     ],
     "persistentId": "99988cb7-657e-4b26-8f25-33b98788b204",
     "text": "from sklearn.linear_model import LinearRegression\nimport mglearn\nfrom sklearn.model_selection import train_test_split\nimport matplotlib.pyplot as plt\nimport seaborn as sns"
    },
    "executionTime": "2020-02-08T08:44:04.108Z"
   },
   {
    "cell": {
     "executionCount": 2,
     "executionEventId": "955a2029-5649-4064-8881-04b4924a19c9",
     "hasError": false,
     "id": "6a6fdd3a-bf89-4067-ad6b-047f0fd49f19",
     "outputs": [],
     "persistentId": "cc92df7b-7576-420c-a46f-4cb0c1a9af47",
     "text": "# %matplotlib widget"
    },
    "executionTime": "2020-02-08T08:44:04.124Z"
   },
   {
    "cell": {
     "executionCount": 3,
     "executionEventId": "a142338c-aa7d-4e1f-bdb2-aa1bb9053b6a",
     "hasError": false,
     "id": "6d43ac53-cbb8-4136-a7d8-56049cae3cf2",
     "outputs": [],
     "persistentId": "5d95ceff-ce7f-41e5-aadd-48092f55b5c8",
     "text": "X,y = mglearn.datasets.make_wave(n_samples=60)"
    },
    "executionTime": "2020-02-08T08:44:04.135Z"
   },
   {
    "cell": {
     "executionCount": 4,
     "executionEventId": "e700719c-fb37-4cac-8dbe-5be77664c1ff",
     "hasError": false,
     "id": "f1bc9891-ee74-4b92-883d-aa8ff9aa78c9",
     "outputs": [],
     "persistentId": "8eed7098-fa96-4a60-a552-934f2ffc5cb2",
     "text": "X_train,X_test,y_train,y_test = train_test_split(X,y)"
    },
    "executionTime": "2020-02-08T08:44:04.155Z"
   },
   {
    "cell": {
     "executionCount": 5,
     "executionEventId": "f70b93c2-4c36-4d1d-9a47-b4f88979dda8",
     "hasError": false,
     "id": "c1fa7188-79bb-49ec-b8a4-61f6e498e63d",
     "outputs": [],
     "persistentId": "bd483e77-a316-4e9f-b20d-221f96b6f4f7",
     "text": "lr = LinearRegression().fit(X_train,y_train)"
    },
    "executionTime": "2020-02-08T08:44:04.187Z"
   },
   {
    "cell": {
     "executionCount": 6,
     "executionEventId": "d75d5622-1837-4304-b731-07e96941b290",
     "hasError": false,
     "id": "ce781629-2c1e-46a9-9be1-af10eda21671",
     "outputs": [
      {
       "name": "stdout",
       "output_type": "stream",
       "text": "training score is 0.68\ntesting score is 0.57\n"
      }
     ],
     "persistentId": "64581075-ad62-4acf-9396-eb02efc84d56",
     "text": "print(\"training score is {:.2f}\".format(lr.score(X_train,y_train)))\nprint(\"testing score is {:.2f}\".format(lr.score(X_test,y_test))) #测试集就当做全新的数据"
    },
    "executionTime": "2020-02-08T08:44:04.201Z"
   },
   {
    "cell": {
     "executionCount": 7,
     "executionEventId": "094f26ad-63d7-4b52-866e-c0499b1a6117",
     "hasError": false,
     "id": "2e00c53a-9386-406c-b5c2-6d755df60820",
     "outputs": [],
     "persistentId": "c66a57a9-3e16-41b1-badc-bf5d6ae2e3ac",
     "text": "y_predict = lr.predict(X_test)"
    },
    "executionTime": "2020-02-08T08:44:04.211Z"
   },
   {
    "cell": {
     "executionCount": 8,
     "executionEventId": "f3f2c6be-3c23-4bad-b834-08ba7a46a724",
     "hasError": false,
     "id": "a7d0d532-5ba7-4858-9141-fad6cd646b64",
     "outputs": [
      {
       "data": {
        "text/plain": "[<matplotlib.lines.Line2D at 0x1a1d1c1bd0>]"
       },
       "execution_count": 8,
       "metadata": {},
       "output_type": "execute_result"
      },
      {
       "data": {
        "image/png": "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\n",
        "text/plain": "<Figure size 432x288 with 1 Axes>"
       },
       "metadata": {
        "needs_background": "light"
       },
       "output_type": "display_data"
      }
     ],
     "persistentId": "b561bd2a-2413-464d-adaa-a95905663d36",
     "text": "#针对新数据的可视化分析\nfig = plt.figure()\nax = fig.add_subplot(1,1,1)\nax.scatter(X_test,y_test)\nax.plot(X_test,y_predict,color=\"red\")"
    },
    "executionTime": "2020-02-08T08:44:06.135Z"
   },
   {
    "cell": {
     "executionCount": 9,
     "executionEventId": "e8784367-f33f-4bb4-bdd4-bc4d075af9eb",
     "hasError": false,
     "id": "4c458e52-1c57-40ef-a95e-2b389e6fc826",
     "outputs": [],
     "persistentId": "e7ee282d-313f-4b83-b647-ed5f300916e6",
     "text": "def model(X, y):\n    # 直接存储 X,y 即可\n    return [(Xi, yi) for Xi, yi in zip(X, y)]"
    },
    "executionTime": "2020-02-08T08:44:13.644Z"
   },
   {
    "cell": {
     "executionCount": 10,
     "executionEventId": "9a44b204-3c52-4f10-839e-a92757224b1e",
     "hasError": false,
     "id": "32b54637-6038-4a15-8c01-b0900ddbecc4",
     "outputs": [],
     "persistentId": "d162dc54-defe-45af-a0d9-6ed7ed9ec77f",
     "text": "from scipy.spatial.distance import cosine\nimport numpy as np"
    },
    "executionTime": "2020-02-08T08:44:14.049Z"
   },
   {
    "cell": {
     "executionCount": 11,
     "executionEventId": "21d49864-f122-4fcd-83b8-70a447ecd74e",
     "hasError": false,
     "id": "1c2f0f0a-074a-4a5e-94b1-61c58a18bff7",
     "outputs": [],
     "persistentId": "8d3bb18f-b599-4d9a-bf38-1acf4430a4e7",
     "text": "def distance(x1, x2):\n    #这里以余弦距离作为距离衡量标准\n    return cosine(x1, x2)"
    },
    "executionTime": "2020-02-08T08:44:14.457Z"
   },
   {
    "cell": {
     "executionCount": 12,
     "executionEventId": "bc085212-5f7b-4d16-8991-79de49b1595d",
     "hasError": false,
     "id": "bf28837a-8a85-4e83-bd92-97d7025ea15b",
     "outputs": [],
     "persistentId": "d8e7ee42-40e2-4800-bd06-ffcf117f35fa",
     "text": "def KNN_regression(x, k=3):\n    # 在predicate的时候，需要做大量的计算\n    most_similars = sorted(model(X, y), key=lambda xi: distance(xi[0], x))[:k]\n    \n    y_hats = [_y for x, _y in most_similars]\n    \n#     print(most_similars)\n    \n    return np.mean(y_hats)\n    # -> regression: numerical -> most_similars (y)\n    # -> classification: categorical -> most_similar (y)\n    \n    # 已经获得了最相似的数据集\n    # 然后呢，Counter() -> most_common() -> 就可以获得出现最多的这个y了 "
    },
    "executionTime": "2020-02-08T08:44:14.881Z"
   },
   {
    "cell": {
     "executionCount": 13,
     "executionEventId": "4523824e-692d-47f8-8410-50783d3d4ec4",
     "hasError": false,
     "id": "a25a2c41-87eb-493d-a85d-b3ddb86c4d7d",
     "outputs": [],
     "persistentId": "fef8d150-11f2-4887-a9da-b18e703773a9",
     "text": "knn_y_predict = [KNN_regression(xi) for xi in X_test]"
    },
    "executionTime": "2020-02-08T08:44:15.495Z"
   },
   {
    "cell": {
     "executionCount": 14,
     "executionEventId": "afb01ff8-9368-484e-8b65-f026b6ff22f5",
     "hasError": false,
     "id": "d4c0d2e0-83fc-4c87-a183-3e09dc48e2eb",
     "outputs": [
      {
       "name": "stderr",
       "output_type": "stream",
       "text": "/Users/junjiexie/opt/anaconda3/lib/python3.7/site-packages/ipykernel_launcher.py:2: MatplotlibDeprecationWarning: Adding an axes using the same arguments as a previous axes currently reuses the earlier instance.  In a future version, a new instance will always be created and returned.  Meanwhile, this warning can be suppressed, and the future behavior ensured, by passing a unique label to each axes instance.\n  \n"
      },
      {
       "data": {
        "text/plain": "<matplotlib.collections.PathCollection at 0x1c1ee7ad50>"
       },
       "execution_count": 14,
       "metadata": {},
       "output_type": "execute_result"
      }
     ],
     "persistentId": "be986d36-c062-4847-bb4c-5ec923835213",
     "text": "#针对新数据的可视化分析\nax2 = fig.add_subplot(1,1,1)\nax2.scatter(X_test,y_test)\nax2.scatter(X_test,knn_y_predict,color=\"blue\")"
    },
    "executionTime": "2020-02-08T08:44:15.891Z"
   },
   {
    "cell": {
     "executionCount": 15,
     "executionEventId": "ebeece72-f723-47fc-9f10-e7f34685448e",
     "hasError": false,
     "id": "d4c0d2e0-83fc-4c87-a183-3e09dc48e2eb",
     "outputs": [
      {
       "name": "stderr",
       "output_type": "stream",
       "text": "/Users/junjiexie/opt/anaconda3/lib/python3.7/site-packages/ipykernel_launcher.py:2: MatplotlibDeprecationWarning: Adding an axes using the same arguments as a previous axes currently reuses the earlier instance.  In a future version, a new instance will always be created and returned.  Meanwhile, this warning can be suppressed, and the future behavior ensured, by passing a unique label to each axes instance.\n  \n"
      },
      {
       "data": {
        "text/plain": "<matplotlib.collections.PathCollection at 0x1c1ef83490>"
       },
       "execution_count": 15,
       "metadata": {},
       "output_type": "execute_result"
      }
     ],
     "persistentId": "be986d36-c062-4847-bb4c-5ec923835213",
     "text": "#针对新数据的可视化分析\nax2 = fig.add_subplot(1,1,1)\nax2.scatter(X_test,y_test)\nax2.scatter(X_test,knn_y_predict,color=\"blue\")"
    },
    "executionTime": "2020-02-08T08:44:26.606Z"
   },
   {
    "cell": {
     "executionCount": 16,
     "executionEventId": "2bde549a-dad1-4b72-a11f-9aceaa7588f8",
     "hasError": true,
     "id": "dbc0f85b-f110-4765-b83d-e4bfdfa0e4ad",
     "outputs": [
      {
       "ename": "SyntaxError",
       "evalue": "invalid syntax (<ipython-input-16-0fdae80a6e0b>, line 1)",
       "output_type": "error",
       "traceback": [
        "\u001b[0;36m  File \u001b[0;32m\"<ipython-input-16-0fdae80a6e0b>\"\u001b[0;36m, line \u001b[0;32m1\u001b[0m\n\u001b[0;31m    import sklearn.linear_model import LinearRegression.score\u001b[0m\n\u001b[0m                                     ^\u001b[0m\n\u001b[0;31mSyntaxError\u001b[0m\u001b[0;31m:\u001b[0m invalid syntax\n"
       ]
      }
     ],
     "persistentId": "66373eb6-86fc-4fee-bebe-3169ff227066",
     "text": "import sklearn.linear_model import LinearRegression.score"
    },
    "executionTime": "2020-02-08T08:46:44.659Z"
   },
   {
    "cell": {
     "executionCount": 17,
     "executionEventId": "7b310783-edc0-41a2-9c54-11399dbbc4c8",
     "hasError": true,
     "id": "dbc0f85b-f110-4765-b83d-e4bfdfa0e4ad",
     "outputs": [
      {
       "ename": "SyntaxError",
       "evalue": "invalid syntax (<ipython-input-17-e56818a5bb98>, line 1)",
       "output_type": "error",
       "traceback": [
        "\u001b[0;36m  File \u001b[0;32m\"<ipython-input-17-e56818a5bb98>\"\u001b[0;36m, line \u001b[0;32m1\u001b[0m\n\u001b[0;31m    import sklearn.linear_model import score\u001b[0m\n\u001b[0m                                     ^\u001b[0m\n\u001b[0;31mSyntaxError\u001b[0m\u001b[0;31m:\u001b[0m invalid syntax\n"
       ]
      }
     ],
     "persistentId": "66373eb6-86fc-4fee-bebe-3169ff227066",
     "text": "import sklearn.linear_model import score"
    },
    "executionTime": "2020-02-08T08:48:03.952Z"
   },
   {
    "cell": {
     "executionCount": 18,
     "executionEventId": "99c9c388-63e8-4e6c-9ae6-15e4d22c8fb2",
     "hasError": true,
     "id": "dbc0f85b-f110-4765-b83d-e4bfdfa0e4ad",
     "outputs": [
      {
       "ename": "NameError",
       "evalue": "name 'x_test' is not defined",
       "output_type": "error",
       "traceback": [
        "\u001b[0;31m---------------------------------------------------------------------------\u001b[0m",
        "\u001b[0;31mNameError\u001b[0m                                 Traceback (most recent call last)",
        "\u001b[0;32m<ipython-input-18-d815f8334501>\u001b[0m in \u001b[0;36m<module>\u001b[0;34m\u001b[0m\n\u001b[0;32m----> 1\u001b[0;31m \u001b[0mLinearRegression\u001b[0m\u001b[0;34m.\u001b[0m\u001b[0mscore\u001b[0m\u001b[0;34m(\u001b[0m\u001b[0mx_test\u001b[0m\u001b[0;34m,\u001b[0m\u001b[0mknn_y_predict\u001b[0m\u001b[0;34m)\u001b[0m\u001b[0;34m\u001b[0m\u001b[0;34m\u001b[0m\u001b[0m\n\u001b[0m",
        "\u001b[0;31mNameError\u001b[0m: name 'x_test' is not defined"
       ]
      }
     ],
     "persistentId": "66373eb6-86fc-4fee-bebe-3169ff227066",
     "text": "LinearRegression.score(x_test,knn_y_predict)"
    },
    "executionTime": "2020-02-08T08:49:17.825Z"
   },
   {
    "cell": {
     "executionCount": 19,
     "executionEventId": "ae437d95-ed83-4e46-95ed-14d85f63feaf",
     "hasError": true,
     "id": "dbc0f85b-f110-4765-b83d-e4bfdfa0e4ad",
     "outputs": [
      {
       "ename": "TypeError",
       "evalue": "score() missing 1 required positional argument: 'y'",
       "output_type": "error",
       "traceback": [
        "\u001b[0;31m---------------------------------------------------------------------------\u001b[0m",
        "\u001b[0;31mTypeError\u001b[0m                                 Traceback (most recent call last)",
        "\u001b[0;32m<ipython-input-19-1e66603706f7>\u001b[0m in \u001b[0;36m<module>\u001b[0;34m\u001b[0m\n\u001b[0;32m----> 1\u001b[0;31m \u001b[0mLinearRegression\u001b[0m\u001b[0;34m.\u001b[0m\u001b[0mscore\u001b[0m\u001b[0;34m(\u001b[0m\u001b[0mX_test\u001b[0m\u001b[0;34m,\u001b[0m\u001b[0mknn_y_predict\u001b[0m\u001b[0;34m)\u001b[0m\u001b[0;34m\u001b[0m\u001b[0;34m\u001b[0m\u001b[0m\n\u001b[0m",
        "\u001b[0;31mTypeError\u001b[0m: score() missing 1 required positional argument: 'y'"
       ]
      }
     ],
     "persistentId": "66373eb6-86fc-4fee-bebe-3169ff227066",
     "text": "LinearRegression.score(X_test,knn_y_predict)"
    },
    "executionTime": "2020-02-08T08:49:23.323Z"
   },
   {
    "cell": {
     "executionCount": 20,
     "executionEventId": "c400bd4c-0dec-49f1-9f70-05c79355ae74",
     "hasError": false,
     "id": "4c458e52-1c57-40ef-a95e-2b389e6fc826",
     "outputs": [],
     "persistentId": "e7ee282d-313f-4b83-b647-ed5f300916e6",
     "text": "def model(X, y):\n    # 直接存储 X,y 即可\n    return [(Xi, yi) for Xi, yi in zip(X, y)]"
    },
    "executionTime": "2020-02-08T08:49:34.013Z"
   },
   {
    "cell": {
     "executionCount": 21,
     "executionEventId": "c71fd347-b7b1-47b8-b125-a3d66e2615f0",
     "hasError": false,
     "id": "32b54637-6038-4a15-8c01-b0900ddbecc4",
     "outputs": [],
     "persistentId": "d162dc54-defe-45af-a0d9-6ed7ed9ec77f",
     "text": "from scipy.spatial.distance import cosine\nimport numpy as np"
    },
    "executionTime": "2020-02-08T08:49:34.353Z"
   },
   {
    "cell": {
     "executionCount": 22,
     "executionEventId": "398f1444-bcfb-4ff4-859c-89cbe891d59a",
     "hasError": false,
     "id": "1c2f0f0a-074a-4a5e-94b1-61c58a18bff7",
     "outputs": [],
     "persistentId": "8d3bb18f-b599-4d9a-bf38-1acf4430a4e7",
     "text": "def distance(x1, x2):\n    #这里以余弦距离作为距离衡量标准\n    return cosine(x1, x2)"
    },
    "executionTime": "2020-02-08T08:49:34.733Z"
   },
   {
    "cell": {
     "executionCount": 23,
     "executionEventId": "2463e482-e3e2-41dc-a9b0-ceea97a7c3cc",
     "hasError": false,
     "id": "bf28837a-8a85-4e83-bd92-97d7025ea15b",
     "outputs": [],
     "persistentId": "d8e7ee42-40e2-4800-bd06-ffcf117f35fa",
     "text": "def KNN_regression(x, k=3):\n    # 在predicate的时候，需要做大量的计算\n    most_similars = sorted(model(X, y), key=lambda xi: distance(xi[0], x))[:k]\n    \n    y_hats = [_y for x, _y in most_similars]\n    \n#     print(most_similars)\n    \n    return np.mean(y_hats)\n    # -> regression: numerical -> most_similars (y)\n    # -> classification: categorical -> most_similar (y)\n    \n    # 已经获得了最相似的数据集\n    # 然后呢，Counter() -> most_common() -> 就可以获得出现最多的这个y了 "
    },
    "executionTime": "2020-02-08T08:49:35.155Z"
   },
   {
    "cell": {
     "executionCount": 24,
     "executionEventId": "269c19b8-b9ab-475b-8f8e-dc6ef28acc63",
     "hasError": false,
     "id": "a25a2c41-87eb-493d-a85d-b3ddb86c4d7d",
     "outputs": [],
     "persistentId": "fef8d150-11f2-4887-a9da-b18e703773a9",
     "text": "knn_y_predict = [KNN_regression(xi) for xi in X_test]"
    },
    "executionTime": "2020-02-08T08:49:36.317Z"
   },
   {
    "cell": {
     "executionCount": 25,
     "executionEventId": "1c28f218-2864-4601-989d-f74da25788d2",
     "hasError": true,
     "id": "dbc0f85b-f110-4765-b83d-e4bfdfa0e4ad",
     "outputs": [
      {
       "ename": "TypeError",
       "evalue": "score() missing 1 required positional argument: 'y'",
       "output_type": "error",
       "traceback": [
        "\u001b[0;31m---------------------------------------------------------------------------\u001b[0m",
        "\u001b[0;31mTypeError\u001b[0m                                 Traceback (most recent call last)",
        "\u001b[0;32m<ipython-input-25-1e66603706f7>\u001b[0m in \u001b[0;36m<module>\u001b[0;34m\u001b[0m\n\u001b[0;32m----> 1\u001b[0;31m \u001b[0mLinearRegression\u001b[0m\u001b[0;34m.\u001b[0m\u001b[0mscore\u001b[0m\u001b[0;34m(\u001b[0m\u001b[0mX_test\u001b[0m\u001b[0;34m,\u001b[0m\u001b[0mknn_y_predict\u001b[0m\u001b[0;34m)\u001b[0m\u001b[0;34m\u001b[0m\u001b[0;34m\u001b[0m\u001b[0m\n\u001b[0m",
        "\u001b[0;31mTypeError\u001b[0m: score() missing 1 required positional argument: 'y'"
       ]
      }
     ],
     "persistentId": "66373eb6-86fc-4fee-bebe-3169ff227066",
     "text": "LinearRegression.score(X_test,knn_y_predict)"
    },
    "executionTime": "2020-02-08T08:49:37.104Z"
   },
   {
    "cell": {
     "executionCount": 26,
     "executionEventId": "16d280c3-8a5d-4458-876b-a0f5be648e24",
     "hasError": false,
     "id": "36e039ed-f6fc-4ca1-808e-fdedae041972",
     "outputs": [
      {
       "data": {
        "text/plain": "[-0.8346848227489055,\n -1.620920644497539,\n -1.4185178313572966,\n -0.785141568280388,\n 1.0361917049358416,\n 0.5243448652616055,\n 0.9186907343223994,\n -1.6570297907962184,\n 0.7035637531159674,\n 0.5705761027681664,\n 0.45643384565565676,\n 0.922626626844333,\n 0.6039499299455433,\n 0.9591069035099156,\n 0.9993693749492957]"
       },
       "execution_count": 26,
       "metadata": {},
       "output_type": "execute_result"
      }
     ],
     "persistentId": "a6c9964c-a86e-4032-84ba-ac4e3f624bbf",
     "text": "knn_y_predict"
    },
    "executionTime": "2020-02-08T08:49:46.134Z"
   },
   {
    "cell": {
     "executionCount": 27,
     "executionEventId": "727c1abc-84c1-4df0-805a-7b1fbe95aefd",
     "hasError": false,
     "id": "273bcb3a-7a92-4b2e-969b-40a360e3604a",
     "outputs": [
      {
       "data": {
        "text/plain": "array([[-2.72129752],\n       [-1.17454654],\n       [-2.65149833],\n       [-1.9090502 ],\n       [ 2.63699365],\n       [ 0.67111737],\n       [ 0.59195091],\n       [-2.06388816],\n       [ 2.7937922 ],\n       [ 2.81945911],\n       [ 1.65079694],\n       [ 0.14853859],\n       [ 2.45592241],\n       [ 0.64526911],\n       [ 1.39196365]])"
       },
       "execution_count": 27,
       "metadata": {},
       "output_type": "execute_result"
      }
     ],
     "persistentId": "afef60e8-b714-4db9-9b0f-4dbd3920c99a",
     "text": "X_test"
    },
    "executionTime": "2020-02-08T08:50:08.610Z"
   },
   {
    "cell": {
     "executionCount": 28,
     "executionEventId": "d2edc23c-a2b3-4c57-a972-d35888c60f1e",
     "hasError": true,
     "id": "36e039ed-f6fc-4ca1-808e-fdedae041972",
     "outputs": [
      {
       "ename": "NameError",
       "evalue": "name 'array' is not defined",
       "output_type": "error",
       "traceback": [
        "\u001b[0;31m---------------------------------------------------------------------------\u001b[0m",
        "\u001b[0;31mNameError\u001b[0m                                 Traceback (most recent call last)",
        "\u001b[0;32m<ipython-input-28-aa7502b8571a>\u001b[0m in \u001b[0;36m<module>\u001b[0;34m\u001b[0m\n\u001b[0;32m----> 1\u001b[0;31m \u001b[0marray\u001b[0m\u001b[0;34m(\u001b[0m\u001b[0mknn_y_predict\u001b[0m\u001b[0;34m)\u001b[0m\u001b[0;34m\u001b[0m\u001b[0;34m\u001b[0m\u001b[0m\n\u001b[0m",
        "\u001b[0;31mNameError\u001b[0m: name 'array' is not defined"
       ]
      }
     ],
     "persistentId": "a6c9964c-a86e-4032-84ba-ac4e3f624bbf",
     "text": "array(knn_y_predict)"
    },
    "executionTime": "2020-02-08T08:50:26.509Z"
   },
   {
    "cell": {
     "executionCount": 29,
     "executionEventId": "4aed4102-5ba8-45e0-a656-bfafef37fa9b",
     "hasError": false,
     "id": "36e039ed-f6fc-4ca1-808e-fdedae041972",
     "outputs": [
      {
       "data": {
        "text/plain": "array([-0.83468482, -1.62092064, -1.41851783, -0.78514157,  1.0361917 ,\n        0.52434487,  0.91869073, -1.65702979,  0.70356375,  0.5705761 ,\n        0.45643385,  0.92262663,  0.60394993,  0.9591069 ,  0.99936937])"
       },
       "execution_count": 29,
       "metadata": {},
       "output_type": "execute_result"
      }
     ],
     "persistentId": "a6c9964c-a86e-4032-84ba-ac4e3f624bbf",
     "text": "np.array(knn_y_predict)"
    },
    "executionTime": "2020-02-08T08:50:31.829Z"
   },
   {
    "cell": {
     "executionCount": 30,
     "executionEventId": "f22dd18f-d542-4b04-9841-0a0b55a5917d",
     "hasError": true,
     "id": "dbc0f85b-f110-4765-b83d-e4bfdfa0e4ad",
     "outputs": [
      {
       "ename": "TypeError",
       "evalue": "score() missing 1 required positional argument: 'y'",
       "output_type": "error",
       "traceback": [
        "\u001b[0;31m---------------------------------------------------------------------------\u001b[0m",
        "\u001b[0;31mTypeError\u001b[0m                                 Traceback (most recent call last)",
        "\u001b[0;32m<ipython-input-30-25e0cf985310>\u001b[0m in \u001b[0;36m<module>\u001b[0;34m\u001b[0m\n\u001b[0;32m----> 1\u001b[0;31m \u001b[0mLinearRegression\u001b[0m\u001b[0;34m.\u001b[0m\u001b[0mscore\u001b[0m\u001b[0;34m(\u001b[0m\u001b[0mX_test\u001b[0m\u001b[0;34m,\u001b[0m\u001b[0mknn_y_predict\u001b[0m\u001b[0;34m)\u001b[0m\u001b[0;34m.\u001b[0m\u001b[0mreshape\u001b[0m\u001b[0;34m(\u001b[0m\u001b[0;36m1\u001b[0m\u001b[0;34m,\u001b[0m\u001b[0;34m-\u001b[0m\u001b[0;36m1\u001b[0m\u001b[0;34m)\u001b[0m\u001b[0;34m\u001b[0m\u001b[0;34m\u001b[0m\u001b[0m\n\u001b[0m",
        "\u001b[0;31mTypeError\u001b[0m: score() missing 1 required positional argument: 'y'"
       ]
      }
     ],
     "persistentId": "66373eb6-86fc-4fee-bebe-3169ff227066",
     "text": "LinearRegression.score(X_test,knn_y_predict).reshape(1,-1)"
    },
    "executionTime": "2020-02-08T08:51:27.489Z"
   },
   {
    "cell": {
     "executionCount": 31,
     "executionEventId": "2b2a65fa-7618-4f6b-9165-ca11edbf86ca",
     "hasError": false,
     "id": "36e039ed-f6fc-4ca1-808e-fdedae041972",
     "outputs": [
      {
       "data": {
        "text/plain": "array([[-0.83468482, -1.62092064, -1.41851783, -0.78514157,  1.0361917 ,\n         0.52434487,  0.91869073, -1.65702979,  0.70356375,  0.5705761 ,\n         0.45643385,  0.92262663,  0.60394993,  0.9591069 ,  0.99936937]])"
       },
       "execution_count": 31,
       "metadata": {},
       "output_type": "execute_result"
      }
     ],
     "persistentId": "a6c9964c-a86e-4032-84ba-ac4e3f624bbf",
     "text": "np.array(knn_y_predict).reshape(1,-1)"
    },
    "executionTime": "2020-02-08T08:52:04.693Z"
   },
   {
    "cell": {
     "executionCount": 32,
     "executionEventId": "47aec7b7-a725-47db-b27a-d72bacda9175",
     "hasError": false,
     "id": "36e039ed-f6fc-4ca1-808e-fdedae041972",
     "outputs": [
      {
       "data": {
        "text/plain": "array([-0.83468482, -1.62092064, -1.41851783, -0.78514157,  1.0361917 ,\n        0.52434487,  0.91869073, -1.65702979,  0.70356375,  0.5705761 ,\n        0.45643385,  0.92262663,  0.60394993,  0.9591069 ,  0.99936937])"
       },
       "execution_count": 32,
       "metadata": {},
       "output_type": "execute_result"
      }
     ],
     "persistentId": "a6c9964c-a86e-4032-84ba-ac4e3f624bbf",
     "text": "np.array(knn_y_predict)"
    },
    "executionTime": "2020-02-08T08:52:16.165Z"
   },
   {
    "cell": {
     "executionCount": 33,
     "executionEventId": "2c305f3e-3473-4626-ac3e-4336cc657532",
     "hasError": false,
     "id": "a25a2c41-87eb-493d-a85d-b3ddb86c4d7d",
     "outputs": [],
     "persistentId": "fef8d150-11f2-4887-a9da-b18e703773a9",
     "text": "knn_y_predict = [[KNN_regression(xi)] for xi in X_test]"
    },
    "executionTime": "2020-02-08T08:52:50.737Z"
   },
   {
    "cell": {
     "executionCount": 34,
     "executionEventId": "748748a3-e7d5-4ba7-839e-285bab1fcbda",
     "hasError": false,
     "id": "273bcb3a-7a92-4b2e-969b-40a360e3604a",
     "outputs": [
      {
       "data": {
        "text/plain": "array([[-2.72129752],\n       [-1.17454654],\n       [-2.65149833],\n       [-1.9090502 ],\n       [ 2.63699365],\n       [ 0.67111737],\n       [ 0.59195091],\n       [-2.06388816],\n       [ 2.7937922 ],\n       [ 2.81945911],\n       [ 1.65079694],\n       [ 0.14853859],\n       [ 2.45592241],\n       [ 0.64526911],\n       [ 1.39196365]])"
       },
       "execution_count": 34,
       "metadata": {},
       "output_type": "execute_result"
      }
     ],
     "persistentId": "afef60e8-b714-4db9-9b0f-4dbd3920c99a",
     "text": "X_test"
    },
    "executionTime": "2020-02-08T08:52:51.680Z"
   },
   {
    "cell": {
     "executionCount": 35,
     "executionEventId": "20319993-71f6-45fb-93ea-9a21f42689e1",
     "hasError": false,
     "id": "36e039ed-f6fc-4ca1-808e-fdedae041972",
     "outputs": [
      {
       "data": {
        "text/plain": "array([[-0.83468482],\n       [-1.62092064],\n       [-1.41851783],\n       [-0.78514157],\n       [ 1.0361917 ],\n       [ 0.52434487],\n       [ 0.91869073],\n       [-1.65702979],\n       [ 0.70356375],\n       [ 0.5705761 ],\n       [ 0.45643385],\n       [ 0.92262663],\n       [ 0.60394993],\n       [ 0.9591069 ],\n       [ 0.99936937]])"
       },
       "execution_count": 35,
       "metadata": {},
       "output_type": "execute_result"
      }
     ],
     "persistentId": "a6c9964c-a86e-4032-84ba-ac4e3f624bbf",
     "text": "np.array(knn_y_predict)"
    },
    "executionTime": "2020-02-08T08:52:52.374Z"
   },
   {
    "cell": {
     "executionCount": 36,
     "executionEventId": "0dc4e544-e1c1-451f-a947-b1c02cec89da",
     "hasError": false,
     "id": "36e039ed-f6fc-4ca1-808e-fdedae041972",
     "outputs": [
      {
       "data": {
        "text/plain": "[[-0.8346848227489055],\n [-1.620920644497539],\n [-1.4185178313572966],\n [-0.785141568280388],\n [1.0361917049358416],\n [0.5243448652616055],\n [0.9186907343223994],\n [-1.6570297907962184],\n [0.7035637531159674],\n [0.5705761027681664],\n [0.45643384565565676],\n [0.922626626844333],\n [0.6039499299455433],\n [0.9591069035099156],\n [0.9993693749492957]]"
       },
       "execution_count": 36,
       "metadata": {},
       "output_type": "execute_result"
      }
     ],
     "persistentId": "a6c9964c-a86e-4032-84ba-ac4e3f624bbf",
     "text": "knn_y_predict"
    },
    "executionTime": "2020-02-08T08:53:08.507Z"
   },
   {
    "cell": {
     "executionCount": 37,
     "executionEventId": "98eec323-f681-4aef-99ca-a6625934784f",
     "hasError": true,
     "id": "a67786b0-fe01-400c-9338-1683b75bf378",
     "outputs": [
      {
       "ename": "TypeError",
       "evalue": "score() missing 1 required positional argument: 'y'",
       "output_type": "error",
       "traceback": [
        "\u001b[0;31m---------------------------------------------------------------------------\u001b[0m",
        "\u001b[0;31mTypeError\u001b[0m                                 Traceback (most recent call last)",
        "\u001b[0;32m<ipython-input-37-1e66603706f7>\u001b[0m in \u001b[0;36m<module>\u001b[0;34m\u001b[0m\n\u001b[0;32m----> 1\u001b[0;31m \u001b[0mLinearRegression\u001b[0m\u001b[0;34m.\u001b[0m\u001b[0mscore\u001b[0m\u001b[0;34m(\u001b[0m\u001b[0mX_test\u001b[0m\u001b[0;34m,\u001b[0m\u001b[0mknn_y_predict\u001b[0m\u001b[0;34m)\u001b[0m\u001b[0;34m\u001b[0m\u001b[0;34m\u001b[0m\u001b[0m\n\u001b[0m",
        "\u001b[0;31mTypeError\u001b[0m: score() missing 1 required positional argument: 'y'"
       ]
      }
     ],
     "persistentId": "31d832a4-ad82-4d73-9d7f-0b5bac63ebc7",
     "text": "LinearRegression.score(X_test,knn_y_predict)"
    },
    "executionTime": "2020-02-08T08:53:19.690Z"
   },
   {
    "cell": {
     "executionCount": 38,
     "executionEventId": "5a1426d3-44f9-46bf-aaff-67e7cba8ff63",
     "hasError": true,
     "id": "a67786b0-fe01-400c-9338-1683b75bf378",
     "outputs": [
      {
       "ename": "TypeError",
       "evalue": "score() missing 1 required positional argument: 'y'",
       "output_type": "error",
       "traceback": [
        "\u001b[0;31m---------------------------------------------------------------------------\u001b[0m",
        "\u001b[0;31mTypeError\u001b[0m                                 Traceback (most recent call last)",
        "\u001b[0;32m<ipython-input-38-6005403e47d4>\u001b[0m in \u001b[0;36m<module>\u001b[0;34m\u001b[0m\n\u001b[0;32m----> 1\u001b[0;31m \u001b[0mLinearRegression\u001b[0m\u001b[0;34m.\u001b[0m\u001b[0mscore\u001b[0m\u001b[0;34m(\u001b[0m\u001b[0mX_test\u001b[0m\u001b[0;34m,\u001b[0m\u001b[0mnp\u001b[0m\u001b[0;34m.\u001b[0m\u001b[0marray\u001b[0m\u001b[0;34m(\u001b[0m\u001b[0mknn_y_predict\u001b[0m\u001b[0;34m)\u001b[0m\u001b[0;34m)\u001b[0m\u001b[0;34m\u001b[0m\u001b[0;34m\u001b[0m\u001b[0m\n\u001b[0m",
        "\u001b[0;31mTypeError\u001b[0m: score() missing 1 required positional argument: 'y'"
       ]
      }
     ],
     "persistentId": "31d832a4-ad82-4d73-9d7f-0b5bac63ebc7",
     "text": "LinearRegression.score(X_test,np.array(knn_y_predict))"
    },
    "executionTime": "2020-02-08T08:53:30.880Z"
   },
   {
    "cell": {
     "executionCount": 39,
     "executionEventId": "2bef277c-1b9f-4b43-8bcf-5db754782201",
     "hasError": true,
     "id": "a67786b0-fe01-400c-9338-1683b75bf378",
     "outputs": [
      {
       "ename": "TypeError",
       "evalue": "score() missing 1 required positional argument: 'self'",
       "output_type": "error",
       "traceback": [
        "\u001b[0;31m---------------------------------------------------------------------------\u001b[0m",
        "\u001b[0;31mTypeError\u001b[0m                                 Traceback (most recent call last)",
        "\u001b[0;32m<ipython-input-39-8318d25a8818>\u001b[0m in \u001b[0;36m<module>\u001b[0;34m\u001b[0m\n\u001b[0;32m----> 1\u001b[0;31m \u001b[0mLinearRegression\u001b[0m\u001b[0;34m.\u001b[0m\u001b[0mscore\u001b[0m\u001b[0;34m(\u001b[0m\u001b[0mX\u001b[0m\u001b[0;34m=\u001b[0m\u001b[0mX_test\u001b[0m\u001b[0;34m,\u001b[0m\u001b[0my\u001b[0m\u001b[0;34m=\u001b[0m\u001b[0mnp\u001b[0m\u001b[0;34m.\u001b[0m\u001b[0marray\u001b[0m\u001b[0;34m(\u001b[0m\u001b[0mknn_y_predict\u001b[0m\u001b[0;34m)\u001b[0m\u001b[0;34m)\u001b[0m\u001b[0;34m\u001b[0m\u001b[0;34m\u001b[0m\u001b[0m\n\u001b[0m",
        "\u001b[0;31mTypeError\u001b[0m: score() missing 1 required positional argument: 'self'"
       ]
      }
     ],
     "persistentId": "31d832a4-ad82-4d73-9d7f-0b5bac63ebc7",
     "text": "LinearRegression.score(X=X_test,y=np.array(knn_y_predict))"
    },
    "executionTime": "2020-02-08T08:53:46.292Z"
   },
   {
    "cell": {
     "executionCount": 40,
     "executionEventId": "7f4ce500-becb-409f-9b1a-bb6ed7ff1146",
     "hasError": true,
     "id": "a67786b0-fe01-400c-9338-1683b75bf378",
     "outputs": [
      {
       "ename": "NameError",
       "evalue": "name 'self' is not defined",
       "output_type": "error",
       "traceback": [
        "\u001b[0;31m---------------------------------------------------------------------------\u001b[0m",
        "\u001b[0;31mNameError\u001b[0m                                 Traceback (most recent call last)",
        "\u001b[0;32m<ipython-input-40-215221dd647e>\u001b[0m in \u001b[0;36m<module>\u001b[0;34m\u001b[0m\n\u001b[0;32m----> 1\u001b[0;31m \u001b[0mLinearRegression\u001b[0m\u001b[0;34m.\u001b[0m\u001b[0mscore\u001b[0m\u001b[0;34m(\u001b[0m\u001b[0mself\u001b[0m\u001b[0;34m=\u001b[0m\u001b[0mself\u001b[0m\u001b[0;34m,\u001b[0m\u001b[0mX\u001b[0m\u001b[0;34m=\u001b[0m\u001b[0mX_test\u001b[0m\u001b[0;34m,\u001b[0m\u001b[0my\u001b[0m\u001b[0;34m=\u001b[0m\u001b[0mnp\u001b[0m\u001b[0;34m.\u001b[0m\u001b[0marray\u001b[0m\u001b[0;34m(\u001b[0m\u001b[0mknn_y_predict\u001b[0m\u001b[0;34m)\u001b[0m\u001b[0;34m)\u001b[0m\u001b[0;34m\u001b[0m\u001b[0;34m\u001b[0m\u001b[0m\n\u001b[0m",
        "\u001b[0;31mNameError\u001b[0m: name 'self' is not defined"
       ]
      }
     ],
     "persistentId": "31d832a4-ad82-4d73-9d7f-0b5bac63ebc7",
     "text": "LinearRegression.score(self=self,X=X_test,y=np.array(knn_y_predict))"
    },
    "executionTime": "2020-02-08T08:54:06.916Z"
   },
   {
    "cell": {
     "executionCount": 41,
     "executionEventId": "c4287f79-d033-44c6-9d63-b37b42edc79b",
     "hasError": true,
     "id": "a67786b0-fe01-400c-9338-1683b75bf378",
     "outputs": [
      {
       "ename": "AttributeError",
       "evalue": "'NoneType' object has no attribute 'predict'",
       "output_type": "error",
       "traceback": [
        "\u001b[0;31m---------------------------------------------------------------------------\u001b[0m",
        "\u001b[0;31mAttributeError\u001b[0m                            Traceback (most recent call last)",
        "\u001b[0;32m<ipython-input-41-f96140072f7c>\u001b[0m in \u001b[0;36m<module>\u001b[0;34m\u001b[0m\n\u001b[0;32m----> 1\u001b[0;31m \u001b[0mLinearRegression\u001b[0m\u001b[0;34m.\u001b[0m\u001b[0mscore\u001b[0m\u001b[0;34m(\u001b[0m\u001b[0mself\u001b[0m\u001b[0;34m=\u001b[0m\u001b[0;32mNone\u001b[0m\u001b[0;34m,\u001b[0m\u001b[0mX\u001b[0m\u001b[0;34m=\u001b[0m\u001b[0mX_test\u001b[0m\u001b[0;34m,\u001b[0m\u001b[0my\u001b[0m\u001b[0;34m=\u001b[0m\u001b[0mnp\u001b[0m\u001b[0;34m.\u001b[0m\u001b[0marray\u001b[0m\u001b[0;34m(\u001b[0m\u001b[0mknn_y_predict\u001b[0m\u001b[0;34m)\u001b[0m\u001b[0;34m)\u001b[0m\u001b[0;34m\u001b[0m\u001b[0;34m\u001b[0m\u001b[0m\n\u001b[0m",
        "\u001b[0;32m~/opt/anaconda3/lib/python3.7/site-packages/sklearn/base.py\u001b[0m in \u001b[0;36mscore\u001b[0;34m(self, X, y, sample_weight)\u001b[0m\n\u001b[1;32m    406\u001b[0m         \u001b[0;32mfrom\u001b[0m \u001b[0;34m.\u001b[0m\u001b[0mmetrics\u001b[0m \u001b[0;32mimport\u001b[0m \u001b[0mr2_score\u001b[0m\u001b[0;34m\u001b[0m\u001b[0;34m\u001b[0m\u001b[0m\n\u001b[1;32m    407\u001b[0m         \u001b[0;32mfrom\u001b[0m \u001b[0;34m.\u001b[0m\u001b[0mmetrics\u001b[0m\u001b[0;34m.\u001b[0m\u001b[0mregression\u001b[0m \u001b[0;32mimport\u001b[0m \u001b[0m_check_reg_targets\u001b[0m\u001b[0;34m\u001b[0m\u001b[0;34m\u001b[0m\u001b[0m\n\u001b[0;32m--> 408\u001b[0;31m         \u001b[0my_pred\u001b[0m \u001b[0;34m=\u001b[0m \u001b[0mself\u001b[0m\u001b[0;34m.\u001b[0m\u001b[0mpredict\u001b[0m\u001b[0;34m(\u001b[0m\u001b[0mX\u001b[0m\u001b[0;34m)\u001b[0m\u001b[0;34m\u001b[0m\u001b[0;34m\u001b[0m\u001b[0m\n\u001b[0m\u001b[1;32m    409\u001b[0m         \u001b[0;31m# XXX: Remove the check in 0.23\u001b[0m\u001b[0;34m\u001b[0m\u001b[0;34m\u001b[0m\u001b[0;34m\u001b[0m\u001b[0m\n\u001b[1;32m    410\u001b[0m         \u001b[0my_type\u001b[0m\u001b[0;34m,\u001b[0m \u001b[0m_\u001b[0m\u001b[0;34m,\u001b[0m \u001b[0m_\u001b[0m\u001b[0;34m,\u001b[0m \u001b[0m_\u001b[0m \u001b[0;34m=\u001b[0m \u001b[0m_check_reg_targets\u001b[0m\u001b[0;34m(\u001b[0m\u001b[0my\u001b[0m\u001b[0;34m,\u001b[0m \u001b[0my_pred\u001b[0m\u001b[0;34m,\u001b[0m \u001b[0;32mNone\u001b[0m\u001b[0;34m)\u001b[0m\u001b[0;34m\u001b[0m\u001b[0;34m\u001b[0m\u001b[0m\n",
        "\u001b[0;31mAttributeError\u001b[0m: 'NoneType' object has no attribute 'predict'"
       ]
      }
     ],
     "persistentId": "31d832a4-ad82-4d73-9d7f-0b5bac63ebc7",
     "text": "LinearRegression.score(self=None,X=X_test,y=np.array(knn_y_predict))"
    },
    "executionTime": "2020-02-08T08:54:14.927Z"
   },
   {
    "cell": {
     "executionCount": 42,
     "executionEventId": "d8f28caa-5ca4-4a48-a706-9c025e409a38",
     "hasError": true,
     "id": "a67786b0-fe01-400c-9338-1683b75bf378",
     "outputs": [
      {
       "ename": "TypeError",
       "evalue": "score() missing 1 required positional argument: 'self'",
       "output_type": "error",
       "traceback": [
        "\u001b[0;31m---------------------------------------------------------------------------\u001b[0m",
        "\u001b[0;31mTypeError\u001b[0m                                 Traceback (most recent call last)",
        "\u001b[0;32m<ipython-input-42-8318d25a8818>\u001b[0m in \u001b[0;36m<module>\u001b[0;34m\u001b[0m\n\u001b[0;32m----> 1\u001b[0;31m \u001b[0mLinearRegression\u001b[0m\u001b[0;34m.\u001b[0m\u001b[0mscore\u001b[0m\u001b[0;34m(\u001b[0m\u001b[0mX\u001b[0m\u001b[0;34m=\u001b[0m\u001b[0mX_test\u001b[0m\u001b[0;34m,\u001b[0m\u001b[0my\u001b[0m\u001b[0;34m=\u001b[0m\u001b[0mnp\u001b[0m\u001b[0;34m.\u001b[0m\u001b[0marray\u001b[0m\u001b[0;34m(\u001b[0m\u001b[0mknn_y_predict\u001b[0m\u001b[0;34m)\u001b[0m\u001b[0;34m)\u001b[0m\u001b[0;34m\u001b[0m\u001b[0;34m\u001b[0m\u001b[0m\n\u001b[0m",
        "\u001b[0;31mTypeError\u001b[0m: score() missing 1 required positional argument: 'self'"
       ]
      }
     ],
     "persistentId": "31d832a4-ad82-4d73-9d7f-0b5bac63ebc7",
     "text": "LinearRegression.score(X=X_test,y=np.array(knn_y_predict))"
    },
    "executionTime": "2020-02-08T08:55:00.927Z"
   },
   {
    "cell": {
     "executionCount": 43,
     "executionEventId": "cd07ae8e-ba4c-4b99-8a03-a36fd2050887",
     "hasError": false,
     "id": "63f4cbe0-59c7-40d5-aea6-1e4b9fe9450e",
     "outputs": [],
     "persistentId": "c8930f2a-0b11-48a3-b9a6-5c0ba82959c3",
     "text": "from sklearn.metrics import mean_squared_error"
    },
    "executionTime": "2020-02-08T08:59:20.532Z"
   },
   {
    "cell": {
     "executionCount": 44,
     "executionEventId": "768785aa-51e3-4844-973d-ab55d37725d5",
     "hasError": false,
     "id": "273bcb3a-7a92-4b2e-969b-40a360e3604a",
     "outputs": [
      {
       "name": "stdout",
       "output_type": "stream",
       "text": "线性回归的MSE为： 0.3320399734592601\n"
      }
     ],
     "persistentId": "afef60e8-b714-4db9-9b0f-4dbd3920c99a",
     "text": "print('线性回归的MSE为：',mean_squared_error(y_test,y_predict))"
    },
    "executionTime": "2020-02-08T09:00:12.968Z"
   },
   {
    "cell": {
     "executionCount": 45,
     "executionEventId": "28064415-bbd9-4f93-a193-f10138282b64",
     "hasError": false,
     "id": "273bcb3a-7a92-4b2e-969b-40a360e3604a",
     "outputs": [
      {
       "name": "stdout",
       "output_type": "stream",
       "text": "线性回归的MSE为： 0.3320399734592601\nknn回归的MSE为： 0.5673136703142398\n"
      }
     ],
     "persistentId": "afef60e8-b714-4db9-9b0f-4dbd3920c99a",
     "text": "print('线性回归的MSE为：',mean_squared_error(y_test,y_predict))\nprint('knn回归的MSE为：',mean_squared_error(y_test,knn_y_predict))"
    },
    "executionTime": "2020-02-08T09:00:53.058Z"
   },
   {
    "cell": {
     "executionCount": 46,
     "executionEventId": "d25777ae-6d51-4d4e-aee4-7a3e83b7417a",
     "hasError": false,
     "id": "bf28837a-8a85-4e83-bd92-97d7025ea15b",
     "outputs": [],
     "persistentId": "d8e7ee42-40e2-4800-bd06-ffcf117f35fa",
     "text": "def KNN_regression(x, k=5):\n    # 在predicate的时候，需要做大量的计算\n    most_similars = sorted(model(X, y), key=lambda xi: distance(xi[0], x))[:k]\n    \n    y_hats = [_y for x, _y in most_similars]\n    \n#     print(most_similars)\n    \n    return np.mean(y_hats)\n    # -> regression: numerical -> most_similars (y)\n    # -> classification: categorical -> most_similar (y)\n    \n    # 已经获得了最相似的数据集\n    # 然后呢，Counter() -> most_common() -> 就可以获得出现最多的这个y了 "
    },
    "executionTime": "2020-02-08T09:01:02.534Z"
   },
   {
    "cell": {
     "executionCount": 47,
     "executionEventId": "46734c3a-d8f1-43bd-b1a4-2741f5d0e6ff",
     "hasError": false,
     "id": "a25a2c41-87eb-493d-a85d-b3ddb86c4d7d",
     "outputs": [],
     "persistentId": "fef8d150-11f2-4887-a9da-b18e703773a9",
     "text": "knn_y_predict = [[KNN_regression(xi)] for xi in X_test]"
    },
    "executionTime": "2020-02-08T09:01:04.704Z"
   },
   {
    "cell": {
     "executionCount": 48,
     "executionEventId": "20934672-bc50-4deb-bc5c-67443b1a6cf9",
     "hasError": false,
     "id": "63f4cbe0-59c7-40d5-aea6-1e4b9fe9450e",
     "outputs": [],
     "persistentId": "c8930f2a-0b11-48a3-b9a6-5c0ba82959c3",
     "text": "from sklearn.metrics import mean_squared_error"
    },
    "executionTime": "2020-02-08T09:01:05.808Z"
   },
   {
    "cell": {
     "executionCount": 49,
     "executionEventId": "b0fcf18f-e99a-4cd3-bdf4-ce18a3a9e405",
     "hasError": false,
     "id": "273bcb3a-7a92-4b2e-969b-40a360e3604a",
     "outputs": [
      {
       "name": "stdout",
       "output_type": "stream",
       "text": "线性回归的MSE为： 0.3320399734592601\nknn回归的MSE为： 0.4212055464657437\n"
      }
     ],
     "persistentId": "afef60e8-b714-4db9-9b0f-4dbd3920c99a",
     "text": "print('线性回归的MSE为：',mean_squared_error(y_test,y_predict))\nprint('knn回归的MSE为：',mean_squared_error(y_test,knn_y_predict))"
    },
    "executionTime": "2020-02-08T09:01:06.296Z"
   },
   {
    "cell": {
     "executionCount": 50,
     "executionEventId": "395189d5-a367-41cd-9c32-8f3a2e92cf07",
     "hasError": false,
     "id": "8a2de46e-3b3b-405a-9dd7-1199ee3e7eed",
     "outputs": [],
     "persistentId": "cd45b35d-ef65-41ef-ab5e-0c188895dae4",
     "text": "mock_data = {\n    'gender':['F', 'F', 'F', 'F', 'M', 'M', 'M'],\n    'income': ['+10', '-10', '+10', '+10', '+10', '+10', '-10'],\n    'family_number': [1, 1, 2, 1, 1, 1, 2],\n   # 'pet': [1, 1, 1, 0, 0, 0, 1],\n    'bought': [1, 1, 1, 0, 0, 0, 1],\n}"
    },
    "executionTime": "2020-02-08T09:38:08.235Z"
   },
   {
    "cell": {
     "executionCount": 51,
     "executionEventId": "e813cd3d-564e-48f8-bf39-aabac6a16c47",
     "hasError": false,
     "id": "7beeb545-10b6-41a9-b1dc-7345d53ac14b",
     "outputs": [],
     "persistentId": "948bfebc-3f0f-44e1-ae12-0fee29ecaef3",
     "text": "import pandas as pd\ndataset = pd.DataFrame.from_dict(mock_data)"
    },
    "executionTime": "2020-02-08T09:38:39.445Z"
   },
   {
    "cell": {
     "executionCount": 52,
     "executionEventId": "482b6e35-1073-4657-aec4-536af0057c13",
     "hasError": false,
     "id": "7beeb545-10b6-41a9-b1dc-7345d53ac14b",
     "outputs": [],
     "persistentId": "948bfebc-3f0f-44e1-ae12-0fee29ecaef3",
     "text": "import pandas as pd\ndataset = pd.DataFrame.from_dict(mock_data)"
    },
    "executionTime": "2020-02-08T09:39:04.326Z"
   },
   {
    "cell": {
     "executionCount": 53,
     "executionEventId": "5fd7cd70-4d14-46c9-9e05-8a19f17c9ff8",
     "hasError": false,
     "id": "7beeb545-10b6-41a9-b1dc-7345d53ac14b",
     "outputs": [],
     "persistentId": "948bfebc-3f0f-44e1-ae12-0fee29ecaef3",
     "text": "import pandas as pd\nfrom collections import Counter\nfrom icecream import ic\ndataset = pd.DataFrame.from_dict(mock_data)"
    },
    "executionTime": "2020-02-08T09:41:06.122Z"
   },
   {
    "cell": {
     "executionCount": 54,
     "executionEventId": "cd1969ee-40de-4696-889f-c35db0015882",
     "hasError": false,
     "id": "e9cfb978-f49a-43cf-8ace-95d7e303bf9b",
     "outputs": [],
     "persistentId": "71a10e16-219d-4fa7-adb1-f4bed4fcfefe",
     "text": "def entropy(elements):\n    '''群体的混乱程度，信息熵'''\n    counter = Counter(elements)\n    probs = [counter[c] / len(elements) for c in set(elements)]\n    ic(probs)\n    return - sum(p * np.log(p) for p in probs)"
    },
    "executionTime": "2020-02-08T09:41:06.689Z"
   },
   {
    "cell": {
     "executionCount": 55,
     "executionEventId": "8c023996-befb-4c89-ad39-e939fed8e945",
     "hasError": false,
     "id": "e9cfb978-f49a-43cf-8ace-95d7e303bf9b",
     "outputs": [],
     "persistentId": "71a10e16-219d-4fa7-adb1-f4bed4fcfefe",
     "text": "def entropy(elements):\n    '''群体的混乱程度，信息熵'''\n    counter = Counter(elements)\n    probs = [counter[c] / len(elements) for c in set(elements)]\n#     ic(probs)\n    return - sum(p * np.log(p) for p in probs)"
    },
    "executionTime": "2020-02-08T09:42:32.197Z"
   },
   {
    "cell": {
     "executionCount": 56,
     "executionEventId": "0f77f161-6406-4c05-b371-6cb3705bdc4e",
     "hasError": false,
     "id": "80532f31-11fd-4b95-a5a8-49a828fcdf1a",
     "outputs": [],
     "persistentId": "591c9dfc-264d-40d4-9301-7824ba2ceae8",
     "text": "\"\"\"找到最佳的特征划分决策树，但仅限于一级，没有进一步延伸，加一个递归条件就可以改造成依次拓展每一层决策条件了\n(划分次数呈2^n增长），有时间再做\"\"\"\ndef find_the_optimal_spilter(training_data: pd.DataFrame, target: str) -> str:\n    x_fields = set(training_data.columns.tolist()) - {target}\n    \n    spliter = None\n    min_entropy = float('inf')\n    \n    for f in x_fields:\n        ic(f)\n        values = set(training_data[f])\n        ic(values)\n        for v in values:\n            sub_spliter_1 = training_data[training_data[f] == v][target].tolist()\n            ic(sub_split_1)\n            # split by the current feature and one value\n            \n            entropy_1 = entropy(sub_spliter_1)\n#             ic(entropy_1)\n            \n            sub_spliter_2 = training_data[training_data[f] != v][target].tolist()\n#             ic(sub_split_2)\n            \n            entropy_2 = entropy(sub_spliter_2)\n#             ic(entropy_2)\n            \n            entropy_v = entropy_1 + entropy_2\n#             ic(entropy_v)\n            \n            if entropy_v <= min_entropy:\n                min_entropy = entropy_v\n                spliter = (f, v)\n    \n    print('spliter is: {}'.format(spliter))\n    print('the min entropy is: {}'.format(min_entropy))\n    \n    return spliter"
    },
    "executionTime": "2020-02-08T09:42:32.700Z"
   },
   {
    "cell": {
     "executionCount": 57,
     "executionEventId": "e8f58b3c-8565-48f2-b2c9-5bb56b65f03f",
     "hasError": true,
     "id": "38715bfb-e08e-4a5e-b5dd-a1b888e132ce",
     "outputs": [
      {
       "name": "stderr",
       "output_type": "stream",
       "text": "ic| f: 'family_number'\nic| values: {1, 2}\n"
      },
      {
       "ename": "NameError",
       "evalue": "name 'sub_split_1' is not defined",
       "output_type": "error",
       "traceback": [
        "\u001b[0;31m---------------------------------------------------------------------------\u001b[0m",
        "\u001b[0;31mNameError\u001b[0m                                 Traceback (most recent call last)",
        "\u001b[0;32m<ipython-input-57-0fcfc0b1c94b>\u001b[0m in \u001b[0;36m<module>\u001b[0;34m\u001b[0m\n\u001b[0;32m----> 1\u001b[0;31m \u001b[0mfind_the_optimal_spilter\u001b[0m\u001b[0;34m(\u001b[0m\u001b[0mtraining_data\u001b[0m\u001b[0;34m=\u001b[0m\u001b[0mdataset\u001b[0m\u001b[0;34m,\u001b[0m \u001b[0mtarget\u001b[0m\u001b[0;34m=\u001b[0m\u001b[0;34m'bought'\u001b[0m\u001b[0;34m)\u001b[0m\u001b[0;34m\u001b[0m\u001b[0;34m\u001b[0m\u001b[0m\n\u001b[0m",
        "\u001b[0;32m<ipython-input-56-11566867558b>\u001b[0m in \u001b[0;36mfind_the_optimal_spilter\u001b[0;34m(training_data, target)\u001b[0m\n\u001b[1;32m     13\u001b[0m         \u001b[0;32mfor\u001b[0m \u001b[0mv\u001b[0m \u001b[0;32min\u001b[0m \u001b[0mvalues\u001b[0m\u001b[0;34m:\u001b[0m\u001b[0;34m\u001b[0m\u001b[0;34m\u001b[0m\u001b[0m\n\u001b[1;32m     14\u001b[0m             \u001b[0msub_spliter_1\u001b[0m \u001b[0;34m=\u001b[0m \u001b[0mtraining_data\u001b[0m\u001b[0;34m[\u001b[0m\u001b[0mtraining_data\u001b[0m\u001b[0;34m[\u001b[0m\u001b[0mf\u001b[0m\u001b[0;34m]\u001b[0m \u001b[0;34m==\u001b[0m \u001b[0mv\u001b[0m\u001b[0;34m]\u001b[0m\u001b[0;34m[\u001b[0m\u001b[0mtarget\u001b[0m\u001b[0;34m]\u001b[0m\u001b[0;34m.\u001b[0m\u001b[0mtolist\u001b[0m\u001b[0;34m(\u001b[0m\u001b[0;34m)\u001b[0m\u001b[0;34m\u001b[0m\u001b[0;34m\u001b[0m\u001b[0m\n\u001b[0;32m---> 15\u001b[0;31m             \u001b[0mic\u001b[0m\u001b[0;34m(\u001b[0m\u001b[0msub_split_1\u001b[0m\u001b[0;34m)\u001b[0m\u001b[0;34m\u001b[0m\u001b[0;34m\u001b[0m\u001b[0m\n\u001b[0m\u001b[1;32m     16\u001b[0m             \u001b[0;31m# split by the current feature and one value\u001b[0m\u001b[0;34m\u001b[0m\u001b[0;34m\u001b[0m\u001b[0;34m\u001b[0m\u001b[0m\n\u001b[1;32m     17\u001b[0m \u001b[0;34m\u001b[0m\u001b[0m\n",
        "\u001b[0;31mNameError\u001b[0m: name 'sub_split_1' is not defined"
       ]
      }
     ],
     "persistentId": "5f72a8a3-2373-435a-8316-8b1ff073b35e",
     "text": "find_the_optimal_spilter(training_data=dataset, target='bought')"
    },
    "executionTime": "2020-02-08T09:42:44.270Z"
   },
   {
    "cell": {
     "executionCount": 58,
     "executionEventId": "d0bbbe22-4076-4e8e-b50b-55bc6a86653b",
     "hasError": false,
     "id": "80532f31-11fd-4b95-a5a8-49a828fcdf1a",
     "outputs": [],
     "persistentId": "591c9dfc-264d-40d4-9301-7824ba2ceae8",
     "text": "\"\"\"找到最佳的特征划分决策树，但仅限于一级，没有进一步延伸，加一个递归条件就可以改造成依次拓展每一层决策条件了\n(划分次数呈2^n增长），有时间再做\"\"\"\ndef find_the_optimal_spilter(training_data: pd.DataFrame, target: str) -> str:\n    x_fields = set(training_data.columns.tolist()) - {target}\n    \n    spliter = None\n    min_entropy = float('inf')\n    \n    for f in x_fields:\n        ic(f)\n        values = set(training_data[f])\n        ic(values)\n        for v in values:\n            sub_spliter_1 = training_data[training_data[f] == v][target].tolist()\n#             ic(sub_spliter_1)\n            # split by the current feature and one value\n            \n            entropy_1 = entropy(sub_spliter_1)\n#             ic(entropy_1)\n            \n            sub_spliter_2 = training_data[training_data[f] != v][target].tolist()\n#             ic(sub_split_2)\n            \n            entropy_2 = entropy(sub_spliter_2)\n#             ic(entropy_2)\n            \n            entropy_v = entropy_1 + entropy_2\n#             ic(entropy_v)\n            \n            if entropy_v <= min_entropy:\n                min_entropy = entropy_v\n                spliter = (f, v)\n    \n    print('spliter is: {}'.format(spliter))\n    print('the min entropy is: {}'.format(min_entropy))\n    \n    return spliter"
    },
    "executionTime": "2020-02-08T09:43:38.766Z"
   },
   {
    "cell": {
     "executionCount": 59,
     "executionEventId": "575718d7-c379-4cb2-8e68-bc917b5cab25",
     "hasError": false,
     "id": "38715bfb-e08e-4a5e-b5dd-a1b888e132ce",
     "outputs": [
      {
       "name": "stderr",
       "output_type": "stream",
       "text": "ic| f: 'family_number'\nic| values: {1, 2}\nic| f: 'gender'\nic| values: {'F', 'M'}\nic| f: 'income'\nic| values: {'+10', '-10'}\n"
      },
      {
       "name": "stdout",
       "output_type": "stream",
       "text": "spliter is: ('income', '-10')\nthe min entropy is: 0.6730116670092565\n"
      },
      {
       "data": {
        "text/plain": "('income', '-10')"
       },
       "execution_count": 59,
       "metadata": {},
       "output_type": "execute_result"
      }
     ],
     "persistentId": "5f72a8a3-2373-435a-8316-8b1ff073b35e",
     "text": "find_the_optimal_spilter(training_data=dataset, target='bought')"
    },
    "executionTime": "2020-02-08T09:43:39.289Z"
   },
   {
    "cell": {
     "executionCount": 60,
     "executionEventId": "d1a8e45b-0e02-4659-8377-19200c414c1d",
     "hasError": false,
     "id": "38715bfb-e08e-4a5e-b5dd-a1b888e132ce",
     "outputs": [
      {
       "name": "stderr",
       "output_type": "stream",
       "text": "ic| f: 'family_number'\nic| values: {1, 2}\nic| f: 'gender'\nic| values: {'F', 'M'}\nic| f: 'income'\nic| values: {'+10', '-10'}\n"
      },
      {
       "name": "stdout",
       "output_type": "stream",
       "text": "spliter is: ('income', '-10')\nthe min entropy is: 0.6730116670092565\n"
      }
     ],
     "persistentId": "5f72a8a3-2373-435a-8316-8b1ff073b35e",
     "text": "a = find_the_optimal_spilter(training_data=dataset, target='bought')"
    },
    "executionTime": "2020-02-08T09:46:25.871Z"
   },
   {
    "cell": {
     "executionCount": 61,
     "executionEventId": "7256155e-8029-4b8f-9c1e-16f976745f9f",
     "hasError": false,
     "id": "990cd6ab-98f1-4099-b7fc-e421de5cd78e",
     "outputs": [
      {
       "data": {
        "text/plain": "('income', '-10')"
       },
       "execution_count": 61,
       "metadata": {},
       "output_type": "execute_result"
      }
     ],
     "persistentId": "3164d7f7-f7e9-4ab1-9cea-e953499a1d44",
     "text": "a"
    },
    "executionTime": "2020-02-08T09:46:30.623Z"
   },
   {
    "cell": {
     "executionCount": 62,
     "executionEventId": "ef001401-4c13-45ad-8a42-cd8107b2b9a5",
     "hasError": false,
     "id": "907e8137-2b66-4bdd-992d-b2fea2feb1b7",
     "outputs": [
      {
       "data": {
        "text/plain": "0    1\n1    1\n2    1\n3    0\n4    0\n5    0\n6    1\nName: bought, dtype: int64"
       },
       "execution_count": 62,
       "metadata": {},
       "output_type": "execute_result"
      }
     ],
     "persistentId": "cc552003-584b-4224-bd15-5bfec31e1056",
     "text": "dataset[\"bought\"]"
    },
    "executionTime": "2020-02-08T10:13:28.558Z"
   },
   {
    "cell": {
     "executionCount": 63,
     "executionEventId": "a1693a8a-7ba1-4d6f-8207-1a9765a8340f",
     "hasError": false,
     "id": "907e8137-2b66-4bdd-992d-b2fea2feb1b7",
     "outputs": [
      {
       "data": {
        "text/plain": "Counter({1: 4, 0: 3})"
       },
       "execution_count": 63,
       "metadata": {},
       "output_type": "execute_result"
      }
     ],
     "persistentId": "cc552003-584b-4224-bd15-5bfec31e1056",
     "text": "Counter(dataset[\"bought\"])"
    },
    "executionTime": "2020-02-08T10:13:46.218Z"
   },
   {
    "cell": {
     "executionCount": 64,
     "executionEventId": "bbc82e06-4e8e-44c0-9252-efbbe8817525",
     "hasError": false,
     "id": "907e8137-2b66-4bdd-992d-b2fea2feb1b7",
     "outputs": [
      {
       "data": {
        "text/plain": "2"
       },
       "execution_count": 64,
       "metadata": {},
       "output_type": "execute_result"
      }
     ],
     "persistentId": "cc552003-584b-4224-bd15-5bfec31e1056",
     "text": "len(Counter(dataset[\"bought\"]))"
    },
    "executionTime": "2020-02-08T10:13:55.466Z"
   },
   {
    "cell": {
     "executionCount": 65,
     "executionEventId": "63d59c57-c82d-4595-abfc-46084a7fb457",
     "hasError": false,
     "id": "5bb8ef8a-0acc-42a9-8366-07cbad69be0a",
     "outputs": [],
     "persistentId": "3292e0e6-21e1-40ec-88e9-f272265075ab",
     "text": "def persistent_spliter_choice(training_data: pd.DataFrame, target: str, count=0):\n    spilter_list = {}\n    new_training_data = training_data\n    \n    if count == 0:\n        a_spiliter_choice = find_the_optimal_spilter(training_data = training_data, target = target)\n        spliter_list[\"第\"+str(count)+\"次特征选择\"] = a_spiliter_choice\n    else:\n        #因为已经找到了最佳的分割点，有一方无法继续分割，向另外一方继续分割\n        new_training_data = new_training_data[new_training_data[str(spliter_list[\"第\"+str(count)+\"次特征选择\"][0]) != str(spliter_list[\"第\"+str(count)+\"次特征选择\"][1])]]\n        a_spiliter_choice = find_the_optimal_spilter(training_data = new_training_data, target = target)\n        spliter_list[\"第\"+str(count)+\"次特征选择\"] = a_spiliter_choice\n        \n    #设置递归终止条件 \n    if len(Counter(new_training_data[target])) == 1:\n        return spliter_list\n    else:\n        return persistent_spliter_choice(training_data = training_data,count = count + 1)"
    },
    "executionTime": "2020-02-08T10:19:53.239Z"
   },
   {
    "cell": {
     "executionCount": 66,
     "executionEventId": "80f4155d-9ec3-45b8-9f9e-d750ac533a0e",
     "hasError": true,
     "id": "b0b688d7-31eb-4cab-98da-6d028d128a68",
     "outputs": [
      {
       "name": "stderr",
       "output_type": "stream",
       "text": "ic| f: 'family_number'\nic| values: {1, 2}\nic| f: 'gender'\nic| values: {'F', 'M'}\nic| f: 'income'\nic| values: {'+10', '-10'}\n"
      },
      {
       "name": "stdout",
       "output_type": "stream",
       "text": "spliter is: ('income', '-10')\nthe min entropy is: 0.6730116670092565\n"
      },
      {
       "ename": "NameError",
       "evalue": "name 'spliter_list' is not defined",
       "output_type": "error",
       "traceback": [
        "\u001b[0;31m---------------------------------------------------------------------------\u001b[0m",
        "\u001b[0;31mNameError\u001b[0m                                 Traceback (most recent call last)",
        "\u001b[0;32m<ipython-input-66-ccaaa46ac2eb>\u001b[0m in \u001b[0;36m<module>\u001b[0;34m\u001b[0m\n\u001b[0;32m----> 1\u001b[0;31m \u001b[0mb\u001b[0m \u001b[0;34m=\u001b[0m \u001b[0mpersistent_spliter_choice\u001b[0m\u001b[0;34m(\u001b[0m\u001b[0mtraining_data\u001b[0m\u001b[0;34m=\u001b[0m\u001b[0mdataset\u001b[0m\u001b[0;34m,\u001b[0m \u001b[0mtarget\u001b[0m\u001b[0;34m=\u001b[0m\u001b[0;34m'bought'\u001b[0m\u001b[0;34m)\u001b[0m\u001b[0;34m\u001b[0m\u001b[0;34m\u001b[0m\u001b[0m\n\u001b[0m",
        "\u001b[0;32m<ipython-input-65-1d506311ee0e>\u001b[0m in \u001b[0;36mpersistent_spliter_choice\u001b[0;34m(training_data, target, count)\u001b[0m\n\u001b[1;32m      5\u001b[0m     \u001b[0;32mif\u001b[0m \u001b[0mcount\u001b[0m \u001b[0;34m==\u001b[0m \u001b[0;36m0\u001b[0m\u001b[0;34m:\u001b[0m\u001b[0;34m\u001b[0m\u001b[0;34m\u001b[0m\u001b[0m\n\u001b[1;32m      6\u001b[0m         \u001b[0ma_spiliter_choice\u001b[0m \u001b[0;34m=\u001b[0m \u001b[0mfind_the_optimal_spilter\u001b[0m\u001b[0;34m(\u001b[0m\u001b[0mtraining_data\u001b[0m \u001b[0;34m=\u001b[0m \u001b[0mtraining_data\u001b[0m\u001b[0;34m,\u001b[0m \u001b[0mtarget\u001b[0m \u001b[0;34m=\u001b[0m \u001b[0mtarget\u001b[0m\u001b[0;34m)\u001b[0m\u001b[0;34m\u001b[0m\u001b[0;34m\u001b[0m\u001b[0m\n\u001b[0;32m----> 7\u001b[0;31m         \u001b[0mspliter_list\u001b[0m\u001b[0;34m[\u001b[0m\u001b[0;34m\"第\"\u001b[0m\u001b[0;34m+\u001b[0m\u001b[0mstr\u001b[0m\u001b[0;34m(\u001b[0m\u001b[0mcount\u001b[0m\u001b[0;34m)\u001b[0m\u001b[0;34m+\u001b[0m\u001b[0;34m\"次特征选择\"\u001b[0m\u001b[0;34m]\u001b[0m \u001b[0;34m=\u001b[0m \u001b[0ma_spiliter_choice\u001b[0m\u001b[0;34m\u001b[0m\u001b[0;34m\u001b[0m\u001b[0m\n\u001b[0m\u001b[1;32m      8\u001b[0m     \u001b[0;32melse\u001b[0m\u001b[0;34m:\u001b[0m\u001b[0;34m\u001b[0m\u001b[0;34m\u001b[0m\u001b[0m\n\u001b[1;32m      9\u001b[0m         \u001b[0;31m#因为已经找到了最佳的分割点，有一方无法继续分割，向另外一方继续分割\u001b[0m\u001b[0;34m\u001b[0m\u001b[0;34m\u001b[0m\u001b[0;34m\u001b[0m\u001b[0m\n",
        "\u001b[0;31mNameError\u001b[0m: name 'spliter_list' is not defined"
       ]
      }
     ],
     "persistentId": "3fb2e02b-65bc-43bb-b372-a207226bdce4",
     "text": "b = persistent_spliter_choice(training_data=dataset, target='bought')"
    },
    "executionTime": "2020-02-08T10:20:30.309Z"
   },
   {
    "cell": {
     "executionCount": 67,
     "executionEventId": "402e1118-83d8-496d-beac-d64769c55b20",
     "hasError": false,
     "id": "20341e06-14e2-424e-a095-2603e142cc31",
     "outputs": [],
     "persistentId": "b3dabc0c-46a5-4cfa-aa9a-0e4293aa6d57",
     "text": "spilter_list = {}"
    },
    "executionTime": "2020-02-08T10:22:32.366Z"
   },
   {
    "cell": {
     "executionCount": 68,
     "executionEventId": "a1f22398-a109-4266-bf59-b8d3166728fe",
     "hasError": true,
     "id": "20341e06-14e2-424e-a095-2603e142cc31",
     "outputs": [
      {
       "ename": "NameError",
       "evalue": "name 'spliter_list' is not defined",
       "output_type": "error",
       "traceback": [
        "\u001b[0;31m---------------------------------------------------------------------------\u001b[0m",
        "\u001b[0;31mNameError\u001b[0m                                 Traceback (most recent call last)",
        "\u001b[0;32m<ipython-input-68-a02621c90b87>\u001b[0m in \u001b[0;36m<module>\u001b[0;34m\u001b[0m\n\u001b[1;32m      1\u001b[0m \u001b[0mspilter_list\u001b[0m \u001b[0;34m=\u001b[0m \u001b[0;34m{\u001b[0m\u001b[0;34m}\u001b[0m\u001b[0;34m\u001b[0m\u001b[0;34m\u001b[0m\u001b[0m\n\u001b[0;32m----> 2\u001b[0;31m \u001b[0mspliter_list\u001b[0m\u001b[0;34m[\u001b[0m\u001b[0;34m\"第\"\u001b[0m\u001b[0;34m+\u001b[0m\u001b[0mstr\u001b[0m\u001b[0;34m(\u001b[0m\u001b[0mcount\u001b[0m\u001b[0;34m)\u001b[0m\u001b[0;34m+\u001b[0m\u001b[0;34m\"次特征选择\"\u001b[0m\u001b[0;34m]\u001b[0m \u001b[0;34m=\u001b[0m \u001b[0;36m0\u001b[0m\u001b[0;34m\u001b[0m\u001b[0;34m\u001b[0m\u001b[0m\n\u001b[0m",
        "\u001b[0;31mNameError\u001b[0m: name 'spliter_list' is not defined"
       ]
      }
     ],
     "persistentId": "b3dabc0c-46a5-4cfa-aa9a-0e4293aa6d57",
     "text": "spilter_list = {}\nspliter_list[\"第\"+str(count)+\"次特征选择\"] = 0"
    },
    "executionTime": "2020-02-08T10:22:43.814Z"
   },
   {
    "cell": {
     "executionCount": 69,
     "executionEventId": "8422adda-6e71-42ea-966c-027456d7ca62",
     "hasError": true,
     "id": "20341e06-14e2-424e-a095-2603e142cc31",
     "outputs": [
      {
       "ename": "NameError",
       "evalue": "name 'count' is not defined",
       "output_type": "error",
       "traceback": [
        "\u001b[0;31m---------------------------------------------------------------------------\u001b[0m",
        "\u001b[0;31mNameError\u001b[0m                                 Traceback (most recent call last)",
        "\u001b[0;32m<ipython-input-69-969868042d71>\u001b[0m in \u001b[0;36m<module>\u001b[0;34m\u001b[0m\n\u001b[1;32m      1\u001b[0m \u001b[0mspilter_list\u001b[0m \u001b[0;34m=\u001b[0m \u001b[0;34m{\u001b[0m\u001b[0;34m}\u001b[0m\u001b[0;34m\u001b[0m\u001b[0;34m\u001b[0m\u001b[0m\n\u001b[0;32m----> 2\u001b[0;31m \u001b[0mspilter_list\u001b[0m\u001b[0;34m[\u001b[0m\u001b[0;34m\"第\"\u001b[0m\u001b[0;34m+\u001b[0m\u001b[0mstr\u001b[0m\u001b[0;34m(\u001b[0m\u001b[0mcount\u001b[0m\u001b[0;34m)\u001b[0m\u001b[0;34m+\u001b[0m\u001b[0;34m\"次特征选择\"\u001b[0m\u001b[0;34m]\u001b[0m \u001b[0;34m=\u001b[0m \u001b[0;36m0\u001b[0m\u001b[0;34m\u001b[0m\u001b[0;34m\u001b[0m\u001b[0m\n\u001b[0m",
        "\u001b[0;31mNameError\u001b[0m: name 'count' is not defined"
       ]
      }
     ],
     "persistentId": "b3dabc0c-46a5-4cfa-aa9a-0e4293aa6d57",
     "text": "spilter_list = {}\nspilter_list[\"第\"+str(count)+\"次特征选择\"] = 0"
    },
    "executionTime": "2020-02-08T10:23:53.700Z"
   },
   {
    "cell": {
     "executionCount": 70,
     "executionEventId": "9b4e5d4b-3ef5-4aa0-b879-c35f5294522a",
     "hasError": false,
     "id": "5bb8ef8a-0acc-42a9-8366-07cbad69be0a",
     "outputs": [],
     "persistentId": "3292e0e6-21e1-40ec-88e9-f272265075ab",
     "text": "def persistent_spliter_choice(training_data: pd.DataFrame, target: str, count=0, spilter_list=None):\n\n    if count == 0:\n        spilter_list = {}\n        new_training_data = training_data\n        \n        a_spiliter_choice = find_the_optimal_spilter(training_data = training_data, target = target)\n        spilter_list[\"第\"+str(count)+\"次特征选择\"] = a_spiliter_choice\n    else:\n        #因为已经找到了最佳的分割点，有一方无法继续分割，向另外一方继续分割\n        new_training_data = new_training_data[new_training_data[str(spliter_list[\"第\"+str(count)+\"次特征选择\"][0]) != str(spliter_list[\"第\"+str(count)+\"次特征选择\"][1])]]\n        a_spiliter_choice = find_the_optimal_spilter(training_data = new_training_data, target = target)\n        spilter_list[\"第\"+str(count)+\"次特征选择\"] = a_spiliter_choice\n        \n    #设置递归终止条件 \n    if len(Counter(new_training_data[target])) == 1:\n        return spliter_list\n    else:\n        return persistent_spliter_choice(training_data = new_training_data,count = count + 1,spilter_list=spilter_list)"
    },
    "executionTime": "2020-02-08T10:29:47.732Z"
   },
   {
    "cell": {
     "executionCount": 71,
     "executionEventId": "dc889e4c-7f58-49f6-8bd7-34719c5efaf3",
     "hasError": true,
     "id": "b0b688d7-31eb-4cab-98da-6d028d128a68",
     "outputs": [
      {
       "name": "stderr",
       "output_type": "stream",
       "text": "ic| f: 'family_number'\nic| values: {1, 2}\nic| f: 'gender'\nic| values: {'F', 'M'}\nic| f: 'income'\nic| values: {'+10', '-10'}\n"
      },
      {
       "name": "stdout",
       "output_type": "stream",
       "text": "spliter is: ('income', '-10')\nthe min entropy is: 0.6730116670092565\n"
      },
      {
       "ename": "TypeError",
       "evalue": "persistent_spliter_choice() missing 1 required positional argument: 'target'",
       "output_type": "error",
       "traceback": [
        "\u001b[0;31m---------------------------------------------------------------------------\u001b[0m",
        "\u001b[0;31mTypeError\u001b[0m                                 Traceback (most recent call last)",
        "\u001b[0;32m<ipython-input-71-ccaaa46ac2eb>\u001b[0m in \u001b[0;36m<module>\u001b[0;34m\u001b[0m\n\u001b[0;32m----> 1\u001b[0;31m \u001b[0mb\u001b[0m \u001b[0;34m=\u001b[0m \u001b[0mpersistent_spliter_choice\u001b[0m\u001b[0;34m(\u001b[0m\u001b[0mtraining_data\u001b[0m\u001b[0;34m=\u001b[0m\u001b[0mdataset\u001b[0m\u001b[0;34m,\u001b[0m \u001b[0mtarget\u001b[0m\u001b[0;34m=\u001b[0m\u001b[0;34m'bought'\u001b[0m\u001b[0;34m)\u001b[0m\u001b[0;34m\u001b[0m\u001b[0;34m\u001b[0m\u001b[0m\n\u001b[0m",
        "\u001b[0;32m<ipython-input-70-18654c127654>\u001b[0m in \u001b[0;36mpersistent_spliter_choice\u001b[0;34m(training_data, target, count, spilter_list)\u001b[0m\n\u001b[1;32m     17\u001b[0m         \u001b[0;32mreturn\u001b[0m \u001b[0mspliter_list\u001b[0m\u001b[0;34m\u001b[0m\u001b[0;34m\u001b[0m\u001b[0m\n\u001b[1;32m     18\u001b[0m     \u001b[0;32melse\u001b[0m\u001b[0;34m:\u001b[0m\u001b[0;34m\u001b[0m\u001b[0;34m\u001b[0m\u001b[0m\n\u001b[0;32m---> 19\u001b[0;31m         \u001b[0;32mreturn\u001b[0m \u001b[0mpersistent_spliter_choice\u001b[0m\u001b[0;34m(\u001b[0m\u001b[0mtraining_data\u001b[0m \u001b[0;34m=\u001b[0m \u001b[0mnew_training_data\u001b[0m\u001b[0;34m,\u001b[0m\u001b[0mcount\u001b[0m \u001b[0;34m=\u001b[0m \u001b[0mcount\u001b[0m \u001b[0;34m+\u001b[0m \u001b[0;36m1\u001b[0m\u001b[0;34m,\u001b[0m\u001b[0mspilter_list\u001b[0m\u001b[0;34m=\u001b[0m\u001b[0mspilter_list\u001b[0m\u001b[0;34m)\u001b[0m\u001b[0;34m\u001b[0m\u001b[0;34m\u001b[0m\u001b[0m\n\u001b[0m",
        "\u001b[0;31mTypeError\u001b[0m: persistent_spliter_choice() missing 1 required positional argument: 'target'"
       ]
      }
     ],
     "persistentId": "3fb2e02b-65bc-43bb-b372-a207226bdce4",
     "text": "b = persistent_spliter_choice(training_data=dataset, target='bought')"
    },
    "executionTime": "2020-02-08T10:29:48.730Z"
   },
   {
    "cell": {
     "executionCount": 72,
     "executionEventId": "d5bfe230-10b3-4c4d-9d26-9f4cffc27c2a",
     "hasError": false,
     "id": "5bb8ef8a-0acc-42a9-8366-07cbad69be0a",
     "outputs": [],
     "persistentId": "3292e0e6-21e1-40ec-88e9-f272265075ab",
     "text": "def persistent_spliter_choice(training_data: pd.DataFrame, target: str, count=0, spilter_list=None):\n\n    if count == 0:\n        spilter_list = {}\n        new_training_data = training_data\n        \n        a_spiliter_choice = find_the_optimal_spilter(training_data = training_data, target = target)\n        spilter_list[\"第\"+str(count)+\"次特征选择\"] = a_spiliter_choice\n    else:\n        #因为已经找到了最佳的分割点，有一方无法继续分割，向另外一方继续分割\n        new_training_data = new_training_data[new_training_data[str(spliter_list[\"第\"+str(count)+\"次特征选择\"][0]) != str(spliter_list[\"第\"+str(count)+\"次特征选择\"][1])]]\n        a_spiliter_choice = find_the_optimal_spilter(training_data = new_training_data, target = target)\n        spilter_list[\"第\"+str(count)+\"次特征选择\"] = a_spiliter_choice\n        \n    #设置递归终止条件 \n    if len(Counter(new_training_data[target])) == 1:\n        return spliter_list\n    else:\n        return persistent_spliter_choice(training_data = new_training_data,target=target,count = count + 1,spilter_list=spilter_list)"
    },
    "executionTime": "2020-02-08T10:30:07.662Z"
   },
   {
    "cell": {
     "executionCount": 73,
     "executionEventId": "0abb3b76-3096-4912-a28d-7e7ee8040408",
     "hasError": true,
     "id": "b0b688d7-31eb-4cab-98da-6d028d128a68",
     "outputs": [
      {
       "name": "stderr",
       "output_type": "stream",
       "text": "ic| f: 'family_number'\nic| values: {1, 2}\nic| f: 'gender'\nic| values: {'F', 'M'}\nic| f: 'income'\nic| values: {'+10', '-10'}\n"
      },
      {
       "name": "stdout",
       "output_type": "stream",
       "text": "spliter is: ('income', '-10')\nthe min entropy is: 0.6730116670092565\n"
      },
      {
       "ename": "UnboundLocalError",
       "evalue": "local variable 'new_training_data' referenced before assignment",
       "output_type": "error",
       "traceback": [
        "\u001b[0;31m---------------------------------------------------------------------------\u001b[0m",
        "\u001b[0;31mUnboundLocalError\u001b[0m                         Traceback (most recent call last)",
        "\u001b[0;32m<ipython-input-73-ccaaa46ac2eb>\u001b[0m in \u001b[0;36m<module>\u001b[0;34m\u001b[0m\n\u001b[0;32m----> 1\u001b[0;31m \u001b[0mb\u001b[0m \u001b[0;34m=\u001b[0m \u001b[0mpersistent_spliter_choice\u001b[0m\u001b[0;34m(\u001b[0m\u001b[0mtraining_data\u001b[0m\u001b[0;34m=\u001b[0m\u001b[0mdataset\u001b[0m\u001b[0;34m,\u001b[0m \u001b[0mtarget\u001b[0m\u001b[0;34m=\u001b[0m\u001b[0;34m'bought'\u001b[0m\u001b[0;34m)\u001b[0m\u001b[0;34m\u001b[0m\u001b[0;34m\u001b[0m\u001b[0m\n\u001b[0m",
        "\u001b[0;32m<ipython-input-72-c86bf90c7936>\u001b[0m in \u001b[0;36mpersistent_spliter_choice\u001b[0;34m(training_data, target, count, spilter_list)\u001b[0m\n\u001b[1;32m     17\u001b[0m         \u001b[0;32mreturn\u001b[0m \u001b[0mspliter_list\u001b[0m\u001b[0;34m\u001b[0m\u001b[0;34m\u001b[0m\u001b[0m\n\u001b[1;32m     18\u001b[0m     \u001b[0;32melse\u001b[0m\u001b[0;34m:\u001b[0m\u001b[0;34m\u001b[0m\u001b[0;34m\u001b[0m\u001b[0m\n\u001b[0;32m---> 19\u001b[0;31m         \u001b[0;32mreturn\u001b[0m \u001b[0mpersistent_spliter_choice\u001b[0m\u001b[0;34m(\u001b[0m\u001b[0mtraining_data\u001b[0m \u001b[0;34m=\u001b[0m \u001b[0mnew_training_data\u001b[0m\u001b[0;34m,\u001b[0m\u001b[0mtarget\u001b[0m\u001b[0;34m=\u001b[0m\u001b[0mtarget\u001b[0m\u001b[0;34m,\u001b[0m\u001b[0mcount\u001b[0m \u001b[0;34m=\u001b[0m \u001b[0mcount\u001b[0m \u001b[0;34m+\u001b[0m \u001b[0;36m1\u001b[0m\u001b[0;34m,\u001b[0m\u001b[0mspilter_list\u001b[0m\u001b[0;34m=\u001b[0m\u001b[0mspilter_list\u001b[0m\u001b[0;34m)\u001b[0m\u001b[0;34m\u001b[0m\u001b[0;34m\u001b[0m\u001b[0m\n\u001b[0m",
        "\u001b[0;32m<ipython-input-72-c86bf90c7936>\u001b[0m in \u001b[0;36mpersistent_spliter_choice\u001b[0;34m(training_data, target, count, spilter_list)\u001b[0m\n\u001b[1;32m      9\u001b[0m     \u001b[0;32melse\u001b[0m\u001b[0;34m:\u001b[0m\u001b[0;34m\u001b[0m\u001b[0;34m\u001b[0m\u001b[0m\n\u001b[1;32m     10\u001b[0m         \u001b[0;31m#因为已经找到了最佳的分割点，有一方无法继续分割，向另外一方继续分割\u001b[0m\u001b[0;34m\u001b[0m\u001b[0;34m\u001b[0m\u001b[0;34m\u001b[0m\u001b[0m\n\u001b[0;32m---> 11\u001b[0;31m         \u001b[0mnew_training_data\u001b[0m \u001b[0;34m=\u001b[0m \u001b[0mnew_training_data\u001b[0m\u001b[0;34m[\u001b[0m\u001b[0mnew_training_data\u001b[0m\u001b[0;34m[\u001b[0m\u001b[0mstr\u001b[0m\u001b[0;34m(\u001b[0m\u001b[0mspliter_list\u001b[0m\u001b[0;34m[\u001b[0m\u001b[0;34m\"第\"\u001b[0m\u001b[0;34m+\u001b[0m\u001b[0mstr\u001b[0m\u001b[0;34m(\u001b[0m\u001b[0mcount\u001b[0m\u001b[0;34m)\u001b[0m\u001b[0;34m+\u001b[0m\u001b[0;34m\"次特征选择\"\u001b[0m\u001b[0;34m]\u001b[0m\u001b[0;34m[\u001b[0m\u001b[0;36m0\u001b[0m\u001b[0;34m]\u001b[0m\u001b[0;34m)\u001b[0m \u001b[0;34m!=\u001b[0m \u001b[0mstr\u001b[0m\u001b[0;34m(\u001b[0m\u001b[0mspliter_list\u001b[0m\u001b[0;34m[\u001b[0m\u001b[0;34m\"第\"\u001b[0m\u001b[0;34m+\u001b[0m\u001b[0mstr\u001b[0m\u001b[0;34m(\u001b[0m\u001b[0mcount\u001b[0m\u001b[0;34m)\u001b[0m\u001b[0;34m+\u001b[0m\u001b[0;34m\"次特征选择\"\u001b[0m\u001b[0;34m]\u001b[0m\u001b[0;34m[\u001b[0m\u001b[0;36m1\u001b[0m\u001b[0;34m]\u001b[0m\u001b[0;34m)\u001b[0m\u001b[0;34m]\u001b[0m\u001b[0;34m]\u001b[0m\u001b[0;34m\u001b[0m\u001b[0;34m\u001b[0m\u001b[0m\n\u001b[0m\u001b[1;32m     12\u001b[0m         \u001b[0ma_spiliter_choice\u001b[0m \u001b[0;34m=\u001b[0m \u001b[0mfind_the_optimal_spilter\u001b[0m\u001b[0;34m(\u001b[0m\u001b[0mtraining_data\u001b[0m \u001b[0;34m=\u001b[0m \u001b[0mnew_training_data\u001b[0m\u001b[0;34m,\u001b[0m \u001b[0mtarget\u001b[0m \u001b[0;34m=\u001b[0m \u001b[0mtarget\u001b[0m\u001b[0;34m)\u001b[0m\u001b[0;34m\u001b[0m\u001b[0;34m\u001b[0m\u001b[0m\n\u001b[1;32m     13\u001b[0m         \u001b[0mspilter_list\u001b[0m\u001b[0;34m[\u001b[0m\u001b[0;34m\"第\"\u001b[0m\u001b[0;34m+\u001b[0m\u001b[0mstr\u001b[0m\u001b[0;34m(\u001b[0m\u001b[0mcount\u001b[0m\u001b[0;34m)\u001b[0m\u001b[0;34m+\u001b[0m\u001b[0;34m\"次特征选择\"\u001b[0m\u001b[0;34m]\u001b[0m \u001b[0;34m=\u001b[0m \u001b[0ma_spiliter_choice\u001b[0m\u001b[0;34m\u001b[0m\u001b[0;34m\u001b[0m\u001b[0m\n",
        "\u001b[0;31mUnboundLocalError\u001b[0m: local variable 'new_training_data' referenced before assignment"
       ]
      }
     ],
     "persistentId": "3fb2e02b-65bc-43bb-b372-a207226bdce4",
     "text": "b = persistent_spliter_choice(training_data=dataset, target='bought')"
    },
    "executionTime": "2020-02-08T10:30:08.338Z"
   },
   {
    "cell": {
     "executionCount": 74,
     "executionEventId": "04b3e173-ccaf-4d92-ad6c-6dd07917ff36",
     "hasError": false,
     "id": "5bb8ef8a-0acc-42a9-8366-07cbad69be0a",
     "outputs": [],
     "persistentId": "3292e0e6-21e1-40ec-88e9-f272265075ab",
     "text": "def persistent_spliter_choice(training_data: pd.DataFrame, target: str, count=0, spilter_list=None):\n\n    if count == 0:\n        spilter_list = {}\n        new_training_data = training_data\n        \n        a_spiliter_choice = find_the_optimal_spilter(training_data = training_data, target = target)\n        spilter_list[\"第\"+str(count)+\"次特征选择\"] = a_spiliter_choice\n    else:\n        #因为已经找到了最佳的分割点，有一方无法继续分割，向另外一方继续分割\n        new_training_data = training_data[training_data[str(spliter_list[\"第\"+str(count)+\"次特征选择\"][0]) != str(spliter_list[\"第\"+str(count)+\"次特征选择\"][1])]]\n        a_spiliter_choice = find_the_optimal_spilter(training_data = new_training_data, target = target)\n        spilter_list[\"第\"+str(count)+\"次特征选择\"] = a_spiliter_choice\n        \n    #设置递归终止条件 \n    if len(Counter(new_training_data[target])) == 1:\n        return spliter_list\n    else:\n        return persistent_spliter_choice(training_data = new_training_data,target=target,count = count + 1,spilter_list=spilter_list)"
    },
    "executionTime": "2020-02-08T10:32:32.300Z"
   },
   {
    "cell": {
     "executionCount": 75,
     "executionEventId": "4950727b-dbbf-4b4c-8031-11bf3d5da281",
     "hasError": true,
     "id": "b0b688d7-31eb-4cab-98da-6d028d128a68",
     "outputs": [
      {
       "name": "stderr",
       "output_type": "stream",
       "text": "ic| f: 'family_number'\nic| values: {1, 2}\nic| f: 'gender'\nic| values: {'F', 'M'}\nic| f: 'income'\nic| values: {'+10', '-10'}\n"
      },
      {
       "name": "stdout",
       "output_type": "stream",
       "text": "spliter is: ('income', '-10')\nthe min entropy is: 0.6730116670092565\n"
      },
      {
       "ename": "NameError",
       "evalue": "name 'spliter_list' is not defined",
       "output_type": "error",
       "traceback": [
        "\u001b[0;31m---------------------------------------------------------------------------\u001b[0m",
        "\u001b[0;31mNameError\u001b[0m                                 Traceback (most recent call last)",
        "\u001b[0;32m<ipython-input-75-ccaaa46ac2eb>\u001b[0m in \u001b[0;36m<module>\u001b[0;34m\u001b[0m\n\u001b[0;32m----> 1\u001b[0;31m \u001b[0mb\u001b[0m \u001b[0;34m=\u001b[0m \u001b[0mpersistent_spliter_choice\u001b[0m\u001b[0;34m(\u001b[0m\u001b[0mtraining_data\u001b[0m\u001b[0;34m=\u001b[0m\u001b[0mdataset\u001b[0m\u001b[0;34m,\u001b[0m \u001b[0mtarget\u001b[0m\u001b[0;34m=\u001b[0m\u001b[0;34m'bought'\u001b[0m\u001b[0;34m)\u001b[0m\u001b[0;34m\u001b[0m\u001b[0;34m\u001b[0m\u001b[0m\n\u001b[0m",
        "\u001b[0;32m<ipython-input-74-31a14e5d3d04>\u001b[0m in \u001b[0;36mpersistent_spliter_choice\u001b[0;34m(training_data, target, count, spilter_list)\u001b[0m\n\u001b[1;32m     17\u001b[0m         \u001b[0;32mreturn\u001b[0m \u001b[0mspliter_list\u001b[0m\u001b[0;34m\u001b[0m\u001b[0;34m\u001b[0m\u001b[0m\n\u001b[1;32m     18\u001b[0m     \u001b[0;32melse\u001b[0m\u001b[0;34m:\u001b[0m\u001b[0;34m\u001b[0m\u001b[0;34m\u001b[0m\u001b[0m\n\u001b[0;32m---> 19\u001b[0;31m         \u001b[0;32mreturn\u001b[0m \u001b[0mpersistent_spliter_choice\u001b[0m\u001b[0;34m(\u001b[0m\u001b[0mtraining_data\u001b[0m \u001b[0;34m=\u001b[0m \u001b[0mnew_training_data\u001b[0m\u001b[0;34m,\u001b[0m\u001b[0mtarget\u001b[0m\u001b[0;34m=\u001b[0m\u001b[0mtarget\u001b[0m\u001b[0;34m,\u001b[0m\u001b[0mcount\u001b[0m \u001b[0;34m=\u001b[0m \u001b[0mcount\u001b[0m \u001b[0;34m+\u001b[0m \u001b[0;36m1\u001b[0m\u001b[0;34m,\u001b[0m\u001b[0mspilter_list\u001b[0m\u001b[0;34m=\u001b[0m\u001b[0mspilter_list\u001b[0m\u001b[0;34m)\u001b[0m\u001b[0;34m\u001b[0m\u001b[0;34m\u001b[0m\u001b[0m\n\u001b[0m",
        "\u001b[0;32m<ipython-input-74-31a14e5d3d04>\u001b[0m in \u001b[0;36mpersistent_spliter_choice\u001b[0;34m(training_data, target, count, spilter_list)\u001b[0m\n\u001b[1;32m      9\u001b[0m     \u001b[0;32melse\u001b[0m\u001b[0;34m:\u001b[0m\u001b[0;34m\u001b[0m\u001b[0;34m\u001b[0m\u001b[0m\n\u001b[1;32m     10\u001b[0m         \u001b[0;31m#因为已经找到了最佳的分割点，有一方无法继续分割，向另外一方继续分割\u001b[0m\u001b[0;34m\u001b[0m\u001b[0;34m\u001b[0m\u001b[0;34m\u001b[0m\u001b[0m\n\u001b[0;32m---> 11\u001b[0;31m         \u001b[0mnew_training_data\u001b[0m \u001b[0;34m=\u001b[0m \u001b[0mtraining_data\u001b[0m\u001b[0;34m[\u001b[0m\u001b[0mtraining_data\u001b[0m\u001b[0;34m[\u001b[0m\u001b[0mstr\u001b[0m\u001b[0;34m(\u001b[0m\u001b[0mspliter_list\u001b[0m\u001b[0;34m[\u001b[0m\u001b[0;34m\"第\"\u001b[0m\u001b[0;34m+\u001b[0m\u001b[0mstr\u001b[0m\u001b[0;34m(\u001b[0m\u001b[0mcount\u001b[0m\u001b[0;34m)\u001b[0m\u001b[0;34m+\u001b[0m\u001b[0;34m\"次特征选择\"\u001b[0m\u001b[0;34m]\u001b[0m\u001b[0;34m[\u001b[0m\u001b[0;36m0\u001b[0m\u001b[0;34m]\u001b[0m\u001b[0;34m)\u001b[0m \u001b[0;34m!=\u001b[0m \u001b[0mstr\u001b[0m\u001b[0;34m(\u001b[0m\u001b[0mspliter_list\u001b[0m\u001b[0;34m[\u001b[0m\u001b[0;34m\"第\"\u001b[0m\u001b[0;34m+\u001b[0m\u001b[0mstr\u001b[0m\u001b[0;34m(\u001b[0m\u001b[0mcount\u001b[0m\u001b[0;34m)\u001b[0m\u001b[0;34m+\u001b[0m\u001b[0;34m\"次特征选择\"\u001b[0m\u001b[0;34m]\u001b[0m\u001b[0;34m[\u001b[0m\u001b[0;36m1\u001b[0m\u001b[0;34m]\u001b[0m\u001b[0;34m)\u001b[0m\u001b[0;34m]\u001b[0m\u001b[0;34m]\u001b[0m\u001b[0;34m\u001b[0m\u001b[0;34m\u001b[0m\u001b[0m\n\u001b[0m\u001b[1;32m     12\u001b[0m         \u001b[0ma_spiliter_choice\u001b[0m \u001b[0;34m=\u001b[0m \u001b[0mfind_the_optimal_spilter\u001b[0m\u001b[0;34m(\u001b[0m\u001b[0mtraining_data\u001b[0m \u001b[0;34m=\u001b[0m \u001b[0mnew_training_data\u001b[0m\u001b[0;34m,\u001b[0m \u001b[0mtarget\u001b[0m \u001b[0;34m=\u001b[0m \u001b[0mtarget\u001b[0m\u001b[0;34m)\u001b[0m\u001b[0;34m\u001b[0m\u001b[0;34m\u001b[0m\u001b[0m\n\u001b[1;32m     13\u001b[0m         \u001b[0mspilter_list\u001b[0m\u001b[0;34m[\u001b[0m\u001b[0;34m\"第\"\u001b[0m\u001b[0;34m+\u001b[0m\u001b[0mstr\u001b[0m\u001b[0;34m(\u001b[0m\u001b[0mcount\u001b[0m\u001b[0;34m)\u001b[0m\u001b[0;34m+\u001b[0m\u001b[0;34m\"次特征选择\"\u001b[0m\u001b[0;34m]\u001b[0m \u001b[0;34m=\u001b[0m \u001b[0ma_spiliter_choice\u001b[0m\u001b[0;34m\u001b[0m\u001b[0;34m\u001b[0m\u001b[0m\n",
        "\u001b[0;31mNameError\u001b[0m: name 'spliter_list' is not defined"
       ]
      }
     ],
     "persistentId": "3fb2e02b-65bc-43bb-b372-a207226bdce4",
     "text": "b = persistent_spliter_choice(training_data=dataset, target='bought')"
    },
    "executionTime": "2020-02-08T10:32:32.741Z"
   },
   {
    "cell": {
     "executionCount": 76,
     "executionEventId": "bee4008f-bf52-45b0-abfe-a54584db8adb",
     "hasError": false,
     "id": "5bb8ef8a-0acc-42a9-8366-07cbad69be0a",
     "outputs": [],
     "persistentId": "3292e0e6-21e1-40ec-88e9-f272265075ab",
     "text": "def persistent_spliter_choice(training_data: pd.DataFrame, target: str, count=0, spilter_list=None):\n\n    if count == 0:\n        spilter_list = {}\n        new_training_data = training_data\n        \n        a_spiliter_choice = find_the_optimal_spilter(training_data = training_data, target = target)\n        spilter_list[\"第\"+str(count)+\"次特征选择\"] = a_spiliter_choice\n    else:\n        #因为已经找到了最佳的分割点，有一方无法继续分割，向另外一方继续分割\n        new_training_data = training_data[training_data[str(spilter_list[\"第\"+str(count)+\"次特征选择\"][0]) != str(spilter_list[\"第\"+str(count)+\"次特征选择\"][1])]]\n        a_spiliter_choice = find_the_optimal_spilter(training_data = new_training_data, target = target)\n        spilter_list[\"第\"+str(count)+\"次特征选择\"] = a_spiliter_choice\n        \n    #设置递归终止条件 \n    if len(Counter(new_training_data[target])) == 1:\n        return spliter_list\n    else:\n        return persistent_spliter_choice(training_data = new_training_data,target=target,count = count + 1,spilter_list=spilter_list)"
    },
    "executionTime": "2020-02-08T10:33:08.732Z"
   },
   {
    "cell": {
     "executionCount": 77,
     "executionEventId": "677411bf-c6e2-4f89-a09a-7013023a6c6a",
     "hasError": true,
     "id": "b0b688d7-31eb-4cab-98da-6d028d128a68",
     "outputs": [
      {
       "name": "stderr",
       "output_type": "stream",
       "text": "ic| f: 'family_number'\nic| values: {1, 2}\nic| f: 'gender'\nic| values: {'F', 'M'}\nic| f: 'income'\nic| values: {'+10', '-10'}\n"
      },
      {
       "name": "stdout",
       "output_type": "stream",
       "text": "spliter is: ('income', '-10')\nthe min entropy is: 0.6730116670092565\n"
      },
      {
       "ename": "KeyError",
       "evalue": "'第1次特征选择'",
       "output_type": "error",
       "traceback": [
        "\u001b[0;31m---------------------------------------------------------------------------\u001b[0m",
        "\u001b[0;31mKeyError\u001b[0m                                  Traceback (most recent call last)",
        "\u001b[0;32m<ipython-input-77-ccaaa46ac2eb>\u001b[0m in \u001b[0;36m<module>\u001b[0;34m\u001b[0m\n\u001b[0;32m----> 1\u001b[0;31m \u001b[0mb\u001b[0m \u001b[0;34m=\u001b[0m \u001b[0mpersistent_spliter_choice\u001b[0m\u001b[0;34m(\u001b[0m\u001b[0mtraining_data\u001b[0m\u001b[0;34m=\u001b[0m\u001b[0mdataset\u001b[0m\u001b[0;34m,\u001b[0m \u001b[0mtarget\u001b[0m\u001b[0;34m=\u001b[0m\u001b[0;34m'bought'\u001b[0m\u001b[0;34m)\u001b[0m\u001b[0;34m\u001b[0m\u001b[0;34m\u001b[0m\u001b[0m\n\u001b[0m",
        "\u001b[0;32m<ipython-input-76-7094c0221629>\u001b[0m in \u001b[0;36mpersistent_spliter_choice\u001b[0;34m(training_data, target, count, spilter_list)\u001b[0m\n\u001b[1;32m     17\u001b[0m         \u001b[0;32mreturn\u001b[0m \u001b[0mspliter_list\u001b[0m\u001b[0;34m\u001b[0m\u001b[0;34m\u001b[0m\u001b[0m\n\u001b[1;32m     18\u001b[0m     \u001b[0;32melse\u001b[0m\u001b[0;34m:\u001b[0m\u001b[0;34m\u001b[0m\u001b[0;34m\u001b[0m\u001b[0m\n\u001b[0;32m---> 19\u001b[0;31m         \u001b[0;32mreturn\u001b[0m \u001b[0mpersistent_spliter_choice\u001b[0m\u001b[0;34m(\u001b[0m\u001b[0mtraining_data\u001b[0m \u001b[0;34m=\u001b[0m \u001b[0mnew_training_data\u001b[0m\u001b[0;34m,\u001b[0m\u001b[0mtarget\u001b[0m\u001b[0;34m=\u001b[0m\u001b[0mtarget\u001b[0m\u001b[0;34m,\u001b[0m\u001b[0mcount\u001b[0m \u001b[0;34m=\u001b[0m \u001b[0mcount\u001b[0m \u001b[0;34m+\u001b[0m \u001b[0;36m1\u001b[0m\u001b[0;34m,\u001b[0m\u001b[0mspilter_list\u001b[0m\u001b[0;34m=\u001b[0m\u001b[0mspilter_list\u001b[0m\u001b[0;34m)\u001b[0m\u001b[0;34m\u001b[0m\u001b[0;34m\u001b[0m\u001b[0m\n\u001b[0m",
        "\u001b[0;32m<ipython-input-76-7094c0221629>\u001b[0m in \u001b[0;36mpersistent_spliter_choice\u001b[0;34m(training_data, target, count, spilter_list)\u001b[0m\n\u001b[1;32m      9\u001b[0m     \u001b[0;32melse\u001b[0m\u001b[0;34m:\u001b[0m\u001b[0;34m\u001b[0m\u001b[0;34m\u001b[0m\u001b[0m\n\u001b[1;32m     10\u001b[0m         \u001b[0;31m#因为已经找到了最佳的分割点，有一方无法继续分割，向另外一方继续分割\u001b[0m\u001b[0;34m\u001b[0m\u001b[0;34m\u001b[0m\u001b[0;34m\u001b[0m\u001b[0m\n\u001b[0;32m---> 11\u001b[0;31m         \u001b[0mnew_training_data\u001b[0m \u001b[0;34m=\u001b[0m \u001b[0mtraining_data\u001b[0m\u001b[0;34m[\u001b[0m\u001b[0mtraining_data\u001b[0m\u001b[0;34m[\u001b[0m\u001b[0mstr\u001b[0m\u001b[0;34m(\u001b[0m\u001b[0mspilter_list\u001b[0m\u001b[0;34m[\u001b[0m\u001b[0;34m\"第\"\u001b[0m\u001b[0;34m+\u001b[0m\u001b[0mstr\u001b[0m\u001b[0;34m(\u001b[0m\u001b[0mcount\u001b[0m\u001b[0;34m)\u001b[0m\u001b[0;34m+\u001b[0m\u001b[0;34m\"次特征选择\"\u001b[0m\u001b[0;34m]\u001b[0m\u001b[0;34m[\u001b[0m\u001b[0;36m0\u001b[0m\u001b[0;34m]\u001b[0m\u001b[0;34m)\u001b[0m \u001b[0;34m!=\u001b[0m \u001b[0mstr\u001b[0m\u001b[0;34m(\u001b[0m\u001b[0mspilter_list\u001b[0m\u001b[0;34m[\u001b[0m\u001b[0;34m\"第\"\u001b[0m\u001b[0;34m+\u001b[0m\u001b[0mstr\u001b[0m\u001b[0;34m(\u001b[0m\u001b[0mcount\u001b[0m\u001b[0;34m)\u001b[0m\u001b[0;34m+\u001b[0m\u001b[0;34m\"次特征选择\"\u001b[0m\u001b[0;34m]\u001b[0m\u001b[0;34m[\u001b[0m\u001b[0;36m1\u001b[0m\u001b[0;34m]\u001b[0m\u001b[0;34m)\u001b[0m\u001b[0;34m]\u001b[0m\u001b[0;34m]\u001b[0m\u001b[0;34m\u001b[0m\u001b[0;34m\u001b[0m\u001b[0m\n\u001b[0m\u001b[1;32m     12\u001b[0m         \u001b[0ma_spiliter_choice\u001b[0m \u001b[0;34m=\u001b[0m \u001b[0mfind_the_optimal_spilter\u001b[0m\u001b[0;34m(\u001b[0m\u001b[0mtraining_data\u001b[0m \u001b[0;34m=\u001b[0m \u001b[0mnew_training_data\u001b[0m\u001b[0;34m,\u001b[0m \u001b[0mtarget\u001b[0m \u001b[0;34m=\u001b[0m \u001b[0mtarget\u001b[0m\u001b[0;34m)\u001b[0m\u001b[0;34m\u001b[0m\u001b[0;34m\u001b[0m\u001b[0m\n\u001b[1;32m     13\u001b[0m         \u001b[0mspilter_list\u001b[0m\u001b[0;34m[\u001b[0m\u001b[0;34m\"第\"\u001b[0m\u001b[0;34m+\u001b[0m\u001b[0mstr\u001b[0m\u001b[0;34m(\u001b[0m\u001b[0mcount\u001b[0m\u001b[0;34m)\u001b[0m\u001b[0;34m+\u001b[0m\u001b[0;34m\"次特征选择\"\u001b[0m\u001b[0;34m]\u001b[0m \u001b[0;34m=\u001b[0m \u001b[0ma_spiliter_choice\u001b[0m\u001b[0;34m\u001b[0m\u001b[0;34m\u001b[0m\u001b[0m\n",
        "\u001b[0;31mKeyError\u001b[0m: '第1次特征选择'"
       ]
      }
     ],
     "persistentId": "3fb2e02b-65bc-43bb-b372-a207226bdce4",
     "text": "b = persistent_spliter_choice(training_data=dataset, target='bought')"
    },
    "executionTime": "2020-02-08T10:33:09.230Z"
   },
   {
    "cell": {
     "executionCount": 78,
     "executionEventId": "3de6f579-7764-4868-af57-a0125409aaff",
     "hasError": false,
     "id": "5bb8ef8a-0acc-42a9-8366-07cbad69be0a",
     "outputs": [],
     "persistentId": "3292e0e6-21e1-40ec-88e9-f272265075ab",
     "text": "def persistent_spliter_choice(training_data: pd.DataFrame, target: str, count=0, spilter_list=None):\n\n    if count == 0:\n        spilter_list = {}\n        new_training_data = training_data\n        \n        a_spiliter_choice = find_the_optimal_spilter(training_data = training_data, target = target)\n        spilter_list[\"第\"+str(count)+\"次特征选择\"] = a_spiliter_choice\n    else:\n        #因为已经找到了最佳的分割点，有一方无法继续分割，向另外一方继续分割\n        new_training_data = training_data[training_data[str(spilter_list[\"第\"+str(count-1)+\"次特征选择\"][0]) != str(spilter_list[\"第\"+str(count-1)+\"次特征选择\"][1])]]\n        a_spiliter_choice = find_the_optimal_spilter(training_data = new_training_data, target = target)\n        spilter_list[\"第\"+str(count)+\"次特征选择\"] = a_spiliter_choice\n        \n    #设置递归终止条件 \n    if len(Counter(new_training_data[target])) == 1:\n        return spliter_list\n    else:\n        return persistent_spliter_choice(training_data = new_training_data,target=target,count = count + 1,spilter_list=spilter_list)"
    },
    "executionTime": "2020-02-08T10:33:53.770Z"
   },
   {
    "cell": {
     "executionCount": 79,
     "executionEventId": "9fd6c53b-cd58-40ba-a634-da8d7bd4be6b",
     "hasError": true,
     "id": "b0b688d7-31eb-4cab-98da-6d028d128a68",
     "outputs": [
      {
       "name": "stderr",
       "output_type": "stream",
       "text": "ic| f: 'family_number'\nic| values: {1, 2}\nic| f: 'gender'\nic| values: {'F', 'M'}\nic| f: 'income'\nic| values: {'+10', '-10'}\n"
      },
      {
       "name": "stdout",
       "output_type": "stream",
       "text": "spliter is: ('income', '-10')\nthe min entropy is: 0.6730116670092565\n"
      },
      {
       "ename": "KeyError",
       "evalue": "True",
       "output_type": "error",
       "traceback": [
        "\u001b[0;31m---------------------------------------------------------------------------\u001b[0m",
        "\u001b[0;31mKeyError\u001b[0m                                  Traceback (most recent call last)",
        "\u001b[0;32m~/opt/anaconda3/lib/python3.7/site-packages/pandas/core/indexes/base.py\u001b[0m in \u001b[0;36mget_loc\u001b[0;34m(self, key, method, tolerance)\u001b[0m\n\u001b[1;32m   2896\u001b[0m             \u001b[0;32mtry\u001b[0m\u001b[0;34m:\u001b[0m\u001b[0;34m\u001b[0m\u001b[0;34m\u001b[0m\u001b[0m\n\u001b[0;32m-> 2897\u001b[0;31m                 \u001b[0;32mreturn\u001b[0m \u001b[0mself\u001b[0m\u001b[0;34m.\u001b[0m\u001b[0m_engine\u001b[0m\u001b[0;34m.\u001b[0m\u001b[0mget_loc\u001b[0m\u001b[0;34m(\u001b[0m\u001b[0mkey\u001b[0m\u001b[0;34m)\u001b[0m\u001b[0;34m\u001b[0m\u001b[0;34m\u001b[0m\u001b[0m\n\u001b[0m\u001b[1;32m   2898\u001b[0m             \u001b[0;32mexcept\u001b[0m \u001b[0mKeyError\u001b[0m\u001b[0;34m:\u001b[0m\u001b[0;34m\u001b[0m\u001b[0;34m\u001b[0m\u001b[0m\n",
        "\u001b[0;32mpandas/_libs/index.pyx\u001b[0m in \u001b[0;36mpandas._libs.index.IndexEngine.get_loc\u001b[0;34m()\u001b[0m\n",
        "\u001b[0;32mpandas/_libs/index.pyx\u001b[0m in \u001b[0;36mpandas._libs.index.IndexEngine.get_loc\u001b[0;34m()\u001b[0m\n",
        "\u001b[0;32mpandas/_libs/hashtable_class_helper.pxi\u001b[0m in \u001b[0;36mpandas._libs.hashtable.PyObjectHashTable.get_item\u001b[0;34m()\u001b[0m\n",
        "\u001b[0;32mpandas/_libs/hashtable_class_helper.pxi\u001b[0m in \u001b[0;36mpandas._libs.hashtable.PyObjectHashTable.get_item\u001b[0;34m()\u001b[0m\n",
        "\u001b[0;31mKeyError\u001b[0m: True",
        "\nDuring handling of the above exception, another exception occurred:\n",
        "\u001b[0;31mKeyError\u001b[0m                                  Traceback (most recent call last)",
        "\u001b[0;32m<ipython-input-79-ccaaa46ac2eb>\u001b[0m in \u001b[0;36m<module>\u001b[0;34m\u001b[0m\n\u001b[0;32m----> 1\u001b[0;31m \u001b[0mb\u001b[0m \u001b[0;34m=\u001b[0m \u001b[0mpersistent_spliter_choice\u001b[0m\u001b[0;34m(\u001b[0m\u001b[0mtraining_data\u001b[0m\u001b[0;34m=\u001b[0m\u001b[0mdataset\u001b[0m\u001b[0;34m,\u001b[0m \u001b[0mtarget\u001b[0m\u001b[0;34m=\u001b[0m\u001b[0;34m'bought'\u001b[0m\u001b[0;34m)\u001b[0m\u001b[0;34m\u001b[0m\u001b[0;34m\u001b[0m\u001b[0m\n\u001b[0m",
        "\u001b[0;32m<ipython-input-78-501476d8818b>\u001b[0m in \u001b[0;36mpersistent_spliter_choice\u001b[0;34m(training_data, target, count, spilter_list)\u001b[0m\n\u001b[1;32m     17\u001b[0m         \u001b[0;32mreturn\u001b[0m \u001b[0mspliter_list\u001b[0m\u001b[0;34m\u001b[0m\u001b[0;34m\u001b[0m\u001b[0m\n\u001b[1;32m     18\u001b[0m     \u001b[0;32melse\u001b[0m\u001b[0;34m:\u001b[0m\u001b[0;34m\u001b[0m\u001b[0;34m\u001b[0m\u001b[0m\n\u001b[0;32m---> 19\u001b[0;31m         \u001b[0;32mreturn\u001b[0m \u001b[0mpersistent_spliter_choice\u001b[0m\u001b[0;34m(\u001b[0m\u001b[0mtraining_data\u001b[0m \u001b[0;34m=\u001b[0m \u001b[0mnew_training_data\u001b[0m\u001b[0;34m,\u001b[0m\u001b[0mtarget\u001b[0m\u001b[0;34m=\u001b[0m\u001b[0mtarget\u001b[0m\u001b[0;34m,\u001b[0m\u001b[0mcount\u001b[0m \u001b[0;34m=\u001b[0m \u001b[0mcount\u001b[0m \u001b[0;34m+\u001b[0m \u001b[0;36m1\u001b[0m\u001b[0;34m,\u001b[0m\u001b[0mspilter_list\u001b[0m\u001b[0;34m=\u001b[0m\u001b[0mspilter_list\u001b[0m\u001b[0;34m)\u001b[0m\u001b[0;34m\u001b[0m\u001b[0;34m\u001b[0m\u001b[0m\n\u001b[0m",
        "\u001b[0;32m<ipython-input-78-501476d8818b>\u001b[0m in \u001b[0;36mpersistent_spliter_choice\u001b[0;34m(training_data, target, count, spilter_list)\u001b[0m\n\u001b[1;32m      9\u001b[0m     \u001b[0;32melse\u001b[0m\u001b[0;34m:\u001b[0m\u001b[0;34m\u001b[0m\u001b[0;34m\u001b[0m\u001b[0m\n\u001b[1;32m     10\u001b[0m         \u001b[0;31m#因为已经找到了最佳的分割点，有一方无法继续分割，向另外一方继续分割\u001b[0m\u001b[0;34m\u001b[0m\u001b[0;34m\u001b[0m\u001b[0;34m\u001b[0m\u001b[0m\n\u001b[0;32m---> 11\u001b[0;31m         \u001b[0mnew_training_data\u001b[0m \u001b[0;34m=\u001b[0m \u001b[0mtraining_data\u001b[0m\u001b[0;34m[\u001b[0m\u001b[0mtraining_data\u001b[0m\u001b[0;34m[\u001b[0m\u001b[0mstr\u001b[0m\u001b[0;34m(\u001b[0m\u001b[0mspilter_list\u001b[0m\u001b[0;34m[\u001b[0m\u001b[0;34m\"第\"\u001b[0m\u001b[0;34m+\u001b[0m\u001b[0mstr\u001b[0m\u001b[0;34m(\u001b[0m\u001b[0mcount\u001b[0m\u001b[0;34m-\u001b[0m\u001b[0;36m1\u001b[0m\u001b[0;34m)\u001b[0m\u001b[0;34m+\u001b[0m\u001b[0;34m\"次特征选择\"\u001b[0m\u001b[0;34m]\u001b[0m\u001b[0;34m[\u001b[0m\u001b[0;36m0\u001b[0m\u001b[0;34m]\u001b[0m\u001b[0;34m)\u001b[0m \u001b[0;34m!=\u001b[0m \u001b[0mstr\u001b[0m\u001b[0;34m(\u001b[0m\u001b[0mspilter_list\u001b[0m\u001b[0;34m[\u001b[0m\u001b[0;34m\"第\"\u001b[0m\u001b[0;34m+\u001b[0m\u001b[0mstr\u001b[0m\u001b[0;34m(\u001b[0m\u001b[0mcount\u001b[0m\u001b[0;34m-\u001b[0m\u001b[0;36m1\u001b[0m\u001b[0;34m)\u001b[0m\u001b[0;34m+\u001b[0m\u001b[0;34m\"次特征选择\"\u001b[0m\u001b[0;34m]\u001b[0m\u001b[0;34m[\u001b[0m\u001b[0;36m1\u001b[0m\u001b[0;34m]\u001b[0m\u001b[0;34m)\u001b[0m\u001b[0;34m]\u001b[0m\u001b[0;34m]\u001b[0m\u001b[0;34m\u001b[0m\u001b[0;34m\u001b[0m\u001b[0m\n\u001b[0m\u001b[1;32m     12\u001b[0m         \u001b[0ma_spiliter_choice\u001b[0m \u001b[0;34m=\u001b[0m \u001b[0mfind_the_optimal_spilter\u001b[0m\u001b[0;34m(\u001b[0m\u001b[0mtraining_data\u001b[0m \u001b[0;34m=\u001b[0m \u001b[0mnew_training_data\u001b[0m\u001b[0;34m,\u001b[0m \u001b[0mtarget\u001b[0m \u001b[0;34m=\u001b[0m \u001b[0mtarget\u001b[0m\u001b[0;34m)\u001b[0m\u001b[0;34m\u001b[0m\u001b[0;34m\u001b[0m\u001b[0m\n\u001b[1;32m     13\u001b[0m         \u001b[0mspilter_list\u001b[0m\u001b[0;34m[\u001b[0m\u001b[0;34m\"第\"\u001b[0m\u001b[0;34m+\u001b[0m\u001b[0mstr\u001b[0m\u001b[0;34m(\u001b[0m\u001b[0mcount\u001b[0m\u001b[0;34m)\u001b[0m\u001b[0;34m+\u001b[0m\u001b[0;34m\"次特征选择\"\u001b[0m\u001b[0;34m]\u001b[0m \u001b[0;34m=\u001b[0m \u001b[0ma_spiliter_choice\u001b[0m\u001b[0;34m\u001b[0m\u001b[0;34m\u001b[0m\u001b[0m\n",
        "\u001b[0;32m~/opt/anaconda3/lib/python3.7/site-packages/pandas/core/frame.py\u001b[0m in \u001b[0;36m__getitem__\u001b[0;34m(self, key)\u001b[0m\n\u001b[1;32m   2978\u001b[0m             \u001b[0;32mif\u001b[0m \u001b[0mself\u001b[0m\u001b[0;34m.\u001b[0m\u001b[0mcolumns\u001b[0m\u001b[0;34m.\u001b[0m\u001b[0mnlevels\u001b[0m \u001b[0;34m>\u001b[0m \u001b[0;36m1\u001b[0m\u001b[0;34m:\u001b[0m\u001b[0;34m\u001b[0m\u001b[0;34m\u001b[0m\u001b[0m\n\u001b[1;32m   2979\u001b[0m                 \u001b[0;32mreturn\u001b[0m \u001b[0mself\u001b[0m\u001b[0;34m.\u001b[0m\u001b[0m_getitem_multilevel\u001b[0m\u001b[0;34m(\u001b[0m\u001b[0mkey\u001b[0m\u001b[0;34m)\u001b[0m\u001b[0;34m\u001b[0m\u001b[0;34m\u001b[0m\u001b[0m\n\u001b[0;32m-> 2980\u001b[0;31m             \u001b[0mindexer\u001b[0m \u001b[0;34m=\u001b[0m \u001b[0mself\u001b[0m\u001b[0;34m.\u001b[0m\u001b[0mcolumns\u001b[0m\u001b[0;34m.\u001b[0m\u001b[0mget_loc\u001b[0m\u001b[0;34m(\u001b[0m\u001b[0mkey\u001b[0m\u001b[0;34m)\u001b[0m\u001b[0;34m\u001b[0m\u001b[0;34m\u001b[0m\u001b[0m\n\u001b[0m\u001b[1;32m   2981\u001b[0m             \u001b[0;32mif\u001b[0m \u001b[0mis_integer\u001b[0m\u001b[0;34m(\u001b[0m\u001b[0mindexer\u001b[0m\u001b[0;34m)\u001b[0m\u001b[0;34m:\u001b[0m\u001b[0;34m\u001b[0m\u001b[0;34m\u001b[0m\u001b[0m\n\u001b[1;32m   2982\u001b[0m                 \u001b[0mindexer\u001b[0m \u001b[0;34m=\u001b[0m \u001b[0;34m[\u001b[0m\u001b[0mindexer\u001b[0m\u001b[0;34m]\u001b[0m\u001b[0;34m\u001b[0m\u001b[0;34m\u001b[0m\u001b[0m\n",
        "\u001b[0;32m~/opt/anaconda3/lib/python3.7/site-packages/pandas/core/indexes/base.py\u001b[0m in \u001b[0;36mget_loc\u001b[0;34m(self, key, method, tolerance)\u001b[0m\n\u001b[1;32m   2897\u001b[0m                 \u001b[0;32mreturn\u001b[0m \u001b[0mself\u001b[0m\u001b[0;34m.\u001b[0m\u001b[0m_engine\u001b[0m\u001b[0;34m.\u001b[0m\u001b[0mget_loc\u001b[0m\u001b[0;34m(\u001b[0m\u001b[0mkey\u001b[0m\u001b[0;34m)\u001b[0m\u001b[0;34m\u001b[0m\u001b[0;34m\u001b[0m\u001b[0m\n\u001b[1;32m   2898\u001b[0m             \u001b[0;32mexcept\u001b[0m \u001b[0mKeyError\u001b[0m\u001b[0;34m:\u001b[0m\u001b[0;34m\u001b[0m\u001b[0;34m\u001b[0m\u001b[0m\n\u001b[0;32m-> 2899\u001b[0;31m                 \u001b[0;32mreturn\u001b[0m \u001b[0mself\u001b[0m\u001b[0;34m.\u001b[0m\u001b[0m_engine\u001b[0m\u001b[0;34m.\u001b[0m\u001b[0mget_loc\u001b[0m\u001b[0;34m(\u001b[0m\u001b[0mself\u001b[0m\u001b[0;34m.\u001b[0m\u001b[0m_maybe_cast_indexer\u001b[0m\u001b[0;34m(\u001b[0m\u001b[0mkey\u001b[0m\u001b[0;34m)\u001b[0m\u001b[0;34m)\u001b[0m\u001b[0;34m\u001b[0m\u001b[0;34m\u001b[0m\u001b[0m\n\u001b[0m\u001b[1;32m   2900\u001b[0m         \u001b[0mindexer\u001b[0m \u001b[0;34m=\u001b[0m \u001b[0mself\u001b[0m\u001b[0;34m.\u001b[0m\u001b[0mget_indexer\u001b[0m\u001b[0;34m(\u001b[0m\u001b[0;34m[\u001b[0m\u001b[0mkey\u001b[0m\u001b[0;34m]\u001b[0m\u001b[0;34m,\u001b[0m \u001b[0mmethod\u001b[0m\u001b[0;34m=\u001b[0m\u001b[0mmethod\u001b[0m\u001b[0;34m,\u001b[0m \u001b[0mtolerance\u001b[0m\u001b[0;34m=\u001b[0m\u001b[0mtolerance\u001b[0m\u001b[0;34m)\u001b[0m\u001b[0;34m\u001b[0m\u001b[0;34m\u001b[0m\u001b[0m\n\u001b[1;32m   2901\u001b[0m         \u001b[0;32mif\u001b[0m \u001b[0mindexer\u001b[0m\u001b[0;34m.\u001b[0m\u001b[0mndim\u001b[0m \u001b[0;34m>\u001b[0m \u001b[0;36m1\u001b[0m \u001b[0;32mor\u001b[0m \u001b[0mindexer\u001b[0m\u001b[0;34m.\u001b[0m\u001b[0msize\u001b[0m \u001b[0;34m>\u001b[0m \u001b[0;36m1\u001b[0m\u001b[0;34m:\u001b[0m\u001b[0;34m\u001b[0m\u001b[0;34m\u001b[0m\u001b[0m\n",
        "\u001b[0;32mpandas/_libs/index.pyx\u001b[0m in \u001b[0;36mpandas._libs.index.IndexEngine.get_loc\u001b[0;34m()\u001b[0m\n",
        "\u001b[0;32mpandas/_libs/index.pyx\u001b[0m in \u001b[0;36mpandas._libs.index.IndexEngine.get_loc\u001b[0;34m()\u001b[0m\n",
        "\u001b[0;32mpandas/_libs/hashtable_class_helper.pxi\u001b[0m in \u001b[0;36mpandas._libs.hashtable.PyObjectHashTable.get_item\u001b[0;34m()\u001b[0m\n",
        "\u001b[0;32mpandas/_libs/hashtable_class_helper.pxi\u001b[0m in \u001b[0;36mpandas._libs.hashtable.PyObjectHashTable.get_item\u001b[0;34m()\u001b[0m\n",
        "\u001b[0;31mKeyError\u001b[0m: True"
       ]
      }
     ],
     "persistentId": "3fb2e02b-65bc-43bb-b372-a207226bdce4",
     "text": "b = persistent_spliter_choice(training_data=dataset, target='bought')"
    },
    "executionTime": "2020-02-08T10:33:54.192Z"
   },
   {
    "cell": {
     "executionCount": 80,
     "executionEventId": "5adf25d7-30c8-4b3c-b35a-d376d7624091",
     "hasError": false,
     "id": "5bb8ef8a-0acc-42a9-8366-07cbad69be0a",
     "outputs": [],
     "persistentId": "3292e0e6-21e1-40ec-88e9-f272265075ab",
     "text": "def persistent_spliter_choice(training_data: pd.DataFrame, target: str, count=0, spilter_list=None):\n\n    if count == 0:\n        spilter_list = {}\n        new_training_data = training_data\n        \n        a_spiliter_choice = find_the_optimal_spilter(training_data = training_data, target = target)\n        spilter_list[\"第\"+str(count)+\"次特征选择\"] = a_spiliter_choice\n    else:\n        #因为已经找到了最佳的分割点，有一方无法继续分割，向另外一方继续分割\n        print(spilter_list[\"第\"+str(count-1)+\"次特征选择\"][0])\n        pirnt(spilter_list[\"第\"+str(count-1)+\"次特征选择\"][1])\n        new_training_data = training_data[training_data[str(spilter_list[\"第\"+str(count-1)+\"次特征选择\"][0]) != str(spilter_list[\"第\"+str(count-1)+\"次特征选择\"][1])]]\n        a_spiliter_choice = find_the_optimal_spilter(training_data = new_training_data, target = target)\n        spilter_list[\"第\"+str(count)+\"次特征选择\"] = a_spiliter_choice\n        \n    #设置递归终止条件 \n    if len(Counter(new_training_data[target])) == 1:\n        return spliter_list\n    else:\n        return persistent_spliter_choice(training_data = new_training_data,target=target,count = count + 1,spilter_list=spilter_list)"
    },
    "executionTime": "2020-02-08T10:34:58.192Z"
   },
   {
    "cell": {
     "executionCount": 81,
     "executionEventId": "8e027889-c655-4d28-bc1b-6268219464ed",
     "hasError": true,
     "id": "b0b688d7-31eb-4cab-98da-6d028d128a68",
     "outputs": [
      {
       "name": "stderr",
       "output_type": "stream",
       "text": "ic| f: 'family_number'\nic| values: {1, 2}\nic| f: 'gender'\nic| values: {'F', 'M'}\nic| f: 'income'\nic| values: {'+10', '-10'}\n"
      },
      {
       "name": "stdout",
       "output_type": "stream",
       "text": "spliter is: ('income', '-10')\nthe min entropy is: 0.6730116670092565\nincome\n"
      },
      {
       "ename": "NameError",
       "evalue": "name 'pirnt' is not defined",
       "output_type": "error",
       "traceback": [
        "\u001b[0;31m---------------------------------------------------------------------------\u001b[0m",
        "\u001b[0;31mNameError\u001b[0m                                 Traceback (most recent call last)",
        "\u001b[0;32m<ipython-input-81-ccaaa46ac2eb>\u001b[0m in \u001b[0;36m<module>\u001b[0;34m\u001b[0m\n\u001b[0;32m----> 1\u001b[0;31m \u001b[0mb\u001b[0m \u001b[0;34m=\u001b[0m \u001b[0mpersistent_spliter_choice\u001b[0m\u001b[0;34m(\u001b[0m\u001b[0mtraining_data\u001b[0m\u001b[0;34m=\u001b[0m\u001b[0mdataset\u001b[0m\u001b[0;34m,\u001b[0m \u001b[0mtarget\u001b[0m\u001b[0;34m=\u001b[0m\u001b[0;34m'bought'\u001b[0m\u001b[0;34m)\u001b[0m\u001b[0;34m\u001b[0m\u001b[0;34m\u001b[0m\u001b[0m\n\u001b[0m",
        "\u001b[0;32m<ipython-input-80-e26d52a1552c>\u001b[0m in \u001b[0;36mpersistent_spliter_choice\u001b[0;34m(training_data, target, count, spilter_list)\u001b[0m\n\u001b[1;32m     19\u001b[0m         \u001b[0;32mreturn\u001b[0m \u001b[0mspliter_list\u001b[0m\u001b[0;34m\u001b[0m\u001b[0;34m\u001b[0m\u001b[0m\n\u001b[1;32m     20\u001b[0m     \u001b[0;32melse\u001b[0m\u001b[0;34m:\u001b[0m\u001b[0;34m\u001b[0m\u001b[0;34m\u001b[0m\u001b[0m\n\u001b[0;32m---> 21\u001b[0;31m         \u001b[0;32mreturn\u001b[0m \u001b[0mpersistent_spliter_choice\u001b[0m\u001b[0;34m(\u001b[0m\u001b[0mtraining_data\u001b[0m \u001b[0;34m=\u001b[0m \u001b[0mnew_training_data\u001b[0m\u001b[0;34m,\u001b[0m\u001b[0mtarget\u001b[0m\u001b[0;34m=\u001b[0m\u001b[0mtarget\u001b[0m\u001b[0;34m,\u001b[0m\u001b[0mcount\u001b[0m \u001b[0;34m=\u001b[0m \u001b[0mcount\u001b[0m \u001b[0;34m+\u001b[0m \u001b[0;36m1\u001b[0m\u001b[0;34m,\u001b[0m\u001b[0mspilter_list\u001b[0m\u001b[0;34m=\u001b[0m\u001b[0mspilter_list\u001b[0m\u001b[0;34m)\u001b[0m\u001b[0;34m\u001b[0m\u001b[0;34m\u001b[0m\u001b[0m\n\u001b[0m",
        "\u001b[0;32m<ipython-input-80-e26d52a1552c>\u001b[0m in \u001b[0;36mpersistent_spliter_choice\u001b[0;34m(training_data, target, count, spilter_list)\u001b[0m\n\u001b[1;32m     10\u001b[0m         \u001b[0;31m#因为已经找到了最佳的分割点，有一方无法继续分割，向另外一方继续分割\u001b[0m\u001b[0;34m\u001b[0m\u001b[0;34m\u001b[0m\u001b[0;34m\u001b[0m\u001b[0m\n\u001b[1;32m     11\u001b[0m         \u001b[0mprint\u001b[0m\u001b[0;34m(\u001b[0m\u001b[0mspilter_list\u001b[0m\u001b[0;34m[\u001b[0m\u001b[0;34m\"第\"\u001b[0m\u001b[0;34m+\u001b[0m\u001b[0mstr\u001b[0m\u001b[0;34m(\u001b[0m\u001b[0mcount\u001b[0m\u001b[0;34m-\u001b[0m\u001b[0;36m1\u001b[0m\u001b[0;34m)\u001b[0m\u001b[0;34m+\u001b[0m\u001b[0;34m\"次特征选择\"\u001b[0m\u001b[0;34m]\u001b[0m\u001b[0;34m[\u001b[0m\u001b[0;36m0\u001b[0m\u001b[0;34m]\u001b[0m\u001b[0;34m)\u001b[0m\u001b[0;34m\u001b[0m\u001b[0;34m\u001b[0m\u001b[0m\n\u001b[0;32m---> 12\u001b[0;31m         \u001b[0mpirnt\u001b[0m\u001b[0;34m(\u001b[0m\u001b[0mspilter_list\u001b[0m\u001b[0;34m[\u001b[0m\u001b[0;34m\"第\"\u001b[0m\u001b[0;34m+\u001b[0m\u001b[0mstr\u001b[0m\u001b[0;34m(\u001b[0m\u001b[0mcount\u001b[0m\u001b[0;34m-\u001b[0m\u001b[0;36m1\u001b[0m\u001b[0;34m)\u001b[0m\u001b[0;34m+\u001b[0m\u001b[0;34m\"次特征选择\"\u001b[0m\u001b[0;34m]\u001b[0m\u001b[0;34m[\u001b[0m\u001b[0;36m1\u001b[0m\u001b[0;34m]\u001b[0m\u001b[0;34m)\u001b[0m\u001b[0;34m\u001b[0m\u001b[0;34m\u001b[0m\u001b[0m\n\u001b[0m\u001b[1;32m     13\u001b[0m         \u001b[0mnew_training_data\u001b[0m \u001b[0;34m=\u001b[0m \u001b[0mtraining_data\u001b[0m\u001b[0;34m[\u001b[0m\u001b[0mtraining_data\u001b[0m\u001b[0;34m[\u001b[0m\u001b[0mstr\u001b[0m\u001b[0;34m(\u001b[0m\u001b[0mspilter_list\u001b[0m\u001b[0;34m[\u001b[0m\u001b[0;34m\"第\"\u001b[0m\u001b[0;34m+\u001b[0m\u001b[0mstr\u001b[0m\u001b[0;34m(\u001b[0m\u001b[0mcount\u001b[0m\u001b[0;34m-\u001b[0m\u001b[0;36m1\u001b[0m\u001b[0;34m)\u001b[0m\u001b[0;34m+\u001b[0m\u001b[0;34m\"次特征选择\"\u001b[0m\u001b[0;34m]\u001b[0m\u001b[0;34m[\u001b[0m\u001b[0;36m0\u001b[0m\u001b[0;34m]\u001b[0m\u001b[0;34m)\u001b[0m \u001b[0;34m!=\u001b[0m \u001b[0mstr\u001b[0m\u001b[0;34m(\u001b[0m\u001b[0mspilter_list\u001b[0m\u001b[0;34m[\u001b[0m\u001b[0;34m\"第\"\u001b[0m\u001b[0;34m+\u001b[0m\u001b[0mstr\u001b[0m\u001b[0;34m(\u001b[0m\u001b[0mcount\u001b[0m\u001b[0;34m-\u001b[0m\u001b[0;36m1\u001b[0m\u001b[0;34m)\u001b[0m\u001b[0;34m+\u001b[0m\u001b[0;34m\"次特征选择\"\u001b[0m\u001b[0;34m]\u001b[0m\u001b[0;34m[\u001b[0m\u001b[0;36m1\u001b[0m\u001b[0;34m]\u001b[0m\u001b[0;34m)\u001b[0m\u001b[0;34m]\u001b[0m\u001b[0;34m]\u001b[0m\u001b[0;34m\u001b[0m\u001b[0;34m\u001b[0m\u001b[0m\n\u001b[1;32m     14\u001b[0m         \u001b[0ma_spiliter_choice\u001b[0m \u001b[0;34m=\u001b[0m \u001b[0mfind_the_optimal_spilter\u001b[0m\u001b[0;34m(\u001b[0m\u001b[0mtraining_data\u001b[0m \u001b[0;34m=\u001b[0m \u001b[0mnew_training_data\u001b[0m\u001b[0;34m,\u001b[0m \u001b[0mtarget\u001b[0m \u001b[0;34m=\u001b[0m \u001b[0mtarget\u001b[0m\u001b[0;34m)\u001b[0m\u001b[0;34m\u001b[0m\u001b[0;34m\u001b[0m\u001b[0m\n",
        "\u001b[0;31mNameError\u001b[0m: name 'pirnt' is not defined"
       ]
      }
     ],
     "persistentId": "3fb2e02b-65bc-43bb-b372-a207226bdce4",
     "text": "b = persistent_spliter_choice(training_data=dataset, target='bought')"
    },
    "executionTime": "2020-02-08T10:34:58.740Z"
   },
   {
    "cell": {
     "executionCount": 82,
     "executionEventId": "54149703-f16f-45a3-8418-cc1082320b23",
     "hasError": false,
     "id": "5bb8ef8a-0acc-42a9-8366-07cbad69be0a",
     "outputs": [],
     "persistentId": "3292e0e6-21e1-40ec-88e9-f272265075ab",
     "text": "def persistent_spliter_choice(training_data: pd.DataFrame, target: str, count=0, spilter_list=None):\n\n    if count == 0:\n        spilter_list = {}\n        new_training_data = training_data\n        \n        a_spiliter_choice = find_the_optimal_spilter(training_data = training_data, target = target)\n        spilter_list[\"第\"+str(count)+\"次特征选择\"] = a_spiliter_choice\n    else:\n        #因为已经找到了最佳的分割点，有一方无法继续分割，向另外一方继续分割\n        print(spilter_list[\"第\"+str(count-1)+\"次特征选择\"][0])\n        print(spilter_list[\"第\"+str(count-1)+\"次特征选择\"][1])\n        new_training_data = training_data[training_data[str(spilter_list[\"第\"+str(count-1)+\"次特征选择\"][0]) != str(spilter_list[\"第\"+str(count-1)+\"次特征选择\"][1])]]\n        a_spiliter_choice = find_the_optimal_spilter(training_data = new_training_data, target = target)\n        spilter_list[\"第\"+str(count)+\"次特征选择\"] = a_spiliter_choice\n        \n    #设置递归终止条件 \n    if len(Counter(new_training_data[target])) == 1:\n        return spliter_list\n    else:\n        return persistent_spliter_choice(training_data = new_training_data,target=target,count = count + 1,spilter_list=spilter_list)"
    },
    "executionTime": "2020-02-08T10:35:08.837Z"
   },
   {
    "cell": {
     "executionCount": 83,
     "executionEventId": "db3b6a5d-02e0-440e-b396-9f8f15ecde39",
     "hasError": true,
     "id": "b0b688d7-31eb-4cab-98da-6d028d128a68",
     "outputs": [
      {
       "name": "stderr",
       "output_type": "stream",
       "text": "ic| f: 'family_number'\nic| values: {1, 2}\nic| f: 'gender'\nic| values: {'F', 'M'}\nic| f: 'income'\nic| values: {'+10', '-10'}\n"
      },
      {
       "name": "stdout",
       "output_type": "stream",
       "text": "spliter is: ('income', '-10')\nthe min entropy is: 0.6730116670092565\nincome\n-10\n"
      },
      {
       "ename": "KeyError",
       "evalue": "True",
       "output_type": "error",
       "traceback": [
        "\u001b[0;31m---------------------------------------------------------------------------\u001b[0m",
        "\u001b[0;31mKeyError\u001b[0m                                  Traceback (most recent call last)",
        "\u001b[0;32m~/opt/anaconda3/lib/python3.7/site-packages/pandas/core/indexes/base.py\u001b[0m in \u001b[0;36mget_loc\u001b[0;34m(self, key, method, tolerance)\u001b[0m\n\u001b[1;32m   2896\u001b[0m             \u001b[0;32mtry\u001b[0m\u001b[0;34m:\u001b[0m\u001b[0;34m\u001b[0m\u001b[0;34m\u001b[0m\u001b[0m\n\u001b[0;32m-> 2897\u001b[0;31m                 \u001b[0;32mreturn\u001b[0m \u001b[0mself\u001b[0m\u001b[0;34m.\u001b[0m\u001b[0m_engine\u001b[0m\u001b[0;34m.\u001b[0m\u001b[0mget_loc\u001b[0m\u001b[0;34m(\u001b[0m\u001b[0mkey\u001b[0m\u001b[0;34m)\u001b[0m\u001b[0;34m\u001b[0m\u001b[0;34m\u001b[0m\u001b[0m\n\u001b[0m\u001b[1;32m   2898\u001b[0m             \u001b[0;32mexcept\u001b[0m \u001b[0mKeyError\u001b[0m\u001b[0;34m:\u001b[0m\u001b[0;34m\u001b[0m\u001b[0;34m\u001b[0m\u001b[0m\n",
        "\u001b[0;32mpandas/_libs/index.pyx\u001b[0m in \u001b[0;36mpandas._libs.index.IndexEngine.get_loc\u001b[0;34m()\u001b[0m\n",
        "\u001b[0;32mpandas/_libs/index.pyx\u001b[0m in \u001b[0;36mpandas._libs.index.IndexEngine.get_loc\u001b[0;34m()\u001b[0m\n",
        "\u001b[0;32mpandas/_libs/hashtable_class_helper.pxi\u001b[0m in \u001b[0;36mpandas._libs.hashtable.PyObjectHashTable.get_item\u001b[0;34m()\u001b[0m\n",
        "\u001b[0;32mpandas/_libs/hashtable_class_helper.pxi\u001b[0m in \u001b[0;36mpandas._libs.hashtable.PyObjectHashTable.get_item\u001b[0;34m()\u001b[0m\n",
        "\u001b[0;31mKeyError\u001b[0m: True",
        "\nDuring handling of the above exception, another exception occurred:\n",
        "\u001b[0;31mKeyError\u001b[0m                                  Traceback (most recent call last)",
        "\u001b[0;32m<ipython-input-83-ccaaa46ac2eb>\u001b[0m in \u001b[0;36m<module>\u001b[0;34m\u001b[0m\n\u001b[0;32m----> 1\u001b[0;31m \u001b[0mb\u001b[0m \u001b[0;34m=\u001b[0m \u001b[0mpersistent_spliter_choice\u001b[0m\u001b[0;34m(\u001b[0m\u001b[0mtraining_data\u001b[0m\u001b[0;34m=\u001b[0m\u001b[0mdataset\u001b[0m\u001b[0;34m,\u001b[0m \u001b[0mtarget\u001b[0m\u001b[0;34m=\u001b[0m\u001b[0;34m'bought'\u001b[0m\u001b[0;34m)\u001b[0m\u001b[0;34m\u001b[0m\u001b[0;34m\u001b[0m\u001b[0m\n\u001b[0m",
        "\u001b[0;32m<ipython-input-82-7caeb2c8c5c8>\u001b[0m in \u001b[0;36mpersistent_spliter_choice\u001b[0;34m(training_data, target, count, spilter_list)\u001b[0m\n\u001b[1;32m     19\u001b[0m         \u001b[0;32mreturn\u001b[0m \u001b[0mspliter_list\u001b[0m\u001b[0;34m\u001b[0m\u001b[0;34m\u001b[0m\u001b[0m\n\u001b[1;32m     20\u001b[0m     \u001b[0;32melse\u001b[0m\u001b[0;34m:\u001b[0m\u001b[0;34m\u001b[0m\u001b[0;34m\u001b[0m\u001b[0m\n\u001b[0;32m---> 21\u001b[0;31m         \u001b[0;32mreturn\u001b[0m \u001b[0mpersistent_spliter_choice\u001b[0m\u001b[0;34m(\u001b[0m\u001b[0mtraining_data\u001b[0m \u001b[0;34m=\u001b[0m \u001b[0mnew_training_data\u001b[0m\u001b[0;34m,\u001b[0m\u001b[0mtarget\u001b[0m\u001b[0;34m=\u001b[0m\u001b[0mtarget\u001b[0m\u001b[0;34m,\u001b[0m\u001b[0mcount\u001b[0m \u001b[0;34m=\u001b[0m \u001b[0mcount\u001b[0m \u001b[0;34m+\u001b[0m \u001b[0;36m1\u001b[0m\u001b[0;34m,\u001b[0m\u001b[0mspilter_list\u001b[0m\u001b[0;34m=\u001b[0m\u001b[0mspilter_list\u001b[0m\u001b[0;34m)\u001b[0m\u001b[0;34m\u001b[0m\u001b[0;34m\u001b[0m\u001b[0m\n\u001b[0m",
        "\u001b[0;32m<ipython-input-82-7caeb2c8c5c8>\u001b[0m in \u001b[0;36mpersistent_spliter_choice\u001b[0;34m(training_data, target, count, spilter_list)\u001b[0m\n\u001b[1;32m     11\u001b[0m         \u001b[0mprint\u001b[0m\u001b[0;34m(\u001b[0m\u001b[0mspilter_list\u001b[0m\u001b[0;34m[\u001b[0m\u001b[0;34m\"第\"\u001b[0m\u001b[0;34m+\u001b[0m\u001b[0mstr\u001b[0m\u001b[0;34m(\u001b[0m\u001b[0mcount\u001b[0m\u001b[0;34m-\u001b[0m\u001b[0;36m1\u001b[0m\u001b[0;34m)\u001b[0m\u001b[0;34m+\u001b[0m\u001b[0;34m\"次特征选择\"\u001b[0m\u001b[0;34m]\u001b[0m\u001b[0;34m[\u001b[0m\u001b[0;36m0\u001b[0m\u001b[0;34m]\u001b[0m\u001b[0;34m)\u001b[0m\u001b[0;34m\u001b[0m\u001b[0;34m\u001b[0m\u001b[0m\n\u001b[1;32m     12\u001b[0m         \u001b[0mprint\u001b[0m\u001b[0;34m(\u001b[0m\u001b[0mspilter_list\u001b[0m\u001b[0;34m[\u001b[0m\u001b[0;34m\"第\"\u001b[0m\u001b[0;34m+\u001b[0m\u001b[0mstr\u001b[0m\u001b[0;34m(\u001b[0m\u001b[0mcount\u001b[0m\u001b[0;34m-\u001b[0m\u001b[0;36m1\u001b[0m\u001b[0;34m)\u001b[0m\u001b[0;34m+\u001b[0m\u001b[0;34m\"次特征选择\"\u001b[0m\u001b[0;34m]\u001b[0m\u001b[0;34m[\u001b[0m\u001b[0;36m1\u001b[0m\u001b[0;34m]\u001b[0m\u001b[0;34m)\u001b[0m\u001b[0;34m\u001b[0m\u001b[0;34m\u001b[0m\u001b[0m\n\u001b[0;32m---> 13\u001b[0;31m         \u001b[0mnew_training_data\u001b[0m \u001b[0;34m=\u001b[0m \u001b[0mtraining_data\u001b[0m\u001b[0;34m[\u001b[0m\u001b[0mtraining_data\u001b[0m\u001b[0;34m[\u001b[0m\u001b[0mstr\u001b[0m\u001b[0;34m(\u001b[0m\u001b[0mspilter_list\u001b[0m\u001b[0;34m[\u001b[0m\u001b[0;34m\"第\"\u001b[0m\u001b[0;34m+\u001b[0m\u001b[0mstr\u001b[0m\u001b[0;34m(\u001b[0m\u001b[0mcount\u001b[0m\u001b[0;34m-\u001b[0m\u001b[0;36m1\u001b[0m\u001b[0;34m)\u001b[0m\u001b[0;34m+\u001b[0m\u001b[0;34m\"次特征选择\"\u001b[0m\u001b[0;34m]\u001b[0m\u001b[0;34m[\u001b[0m\u001b[0;36m0\u001b[0m\u001b[0;34m]\u001b[0m\u001b[0;34m)\u001b[0m \u001b[0;34m!=\u001b[0m \u001b[0mstr\u001b[0m\u001b[0;34m(\u001b[0m\u001b[0mspilter_list\u001b[0m\u001b[0;34m[\u001b[0m\u001b[0;34m\"第\"\u001b[0m\u001b[0;34m+\u001b[0m\u001b[0mstr\u001b[0m\u001b[0;34m(\u001b[0m\u001b[0mcount\u001b[0m\u001b[0;34m-\u001b[0m\u001b[0;36m1\u001b[0m\u001b[0;34m)\u001b[0m\u001b[0;34m+\u001b[0m\u001b[0;34m\"次特征选择\"\u001b[0m\u001b[0;34m]\u001b[0m\u001b[0;34m[\u001b[0m\u001b[0;36m1\u001b[0m\u001b[0;34m]\u001b[0m\u001b[0;34m)\u001b[0m\u001b[0;34m]\u001b[0m\u001b[0;34m]\u001b[0m\u001b[0;34m\u001b[0m\u001b[0;34m\u001b[0m\u001b[0m\n\u001b[0m\u001b[1;32m     14\u001b[0m         \u001b[0ma_spiliter_choice\u001b[0m \u001b[0;34m=\u001b[0m \u001b[0mfind_the_optimal_spilter\u001b[0m\u001b[0;34m(\u001b[0m\u001b[0mtraining_data\u001b[0m \u001b[0;34m=\u001b[0m \u001b[0mnew_training_data\u001b[0m\u001b[0;34m,\u001b[0m \u001b[0mtarget\u001b[0m \u001b[0;34m=\u001b[0m \u001b[0mtarget\u001b[0m\u001b[0;34m)\u001b[0m\u001b[0;34m\u001b[0m\u001b[0;34m\u001b[0m\u001b[0m\n\u001b[1;32m     15\u001b[0m         \u001b[0mspilter_list\u001b[0m\u001b[0;34m[\u001b[0m\u001b[0;34m\"第\"\u001b[0m\u001b[0;34m+\u001b[0m\u001b[0mstr\u001b[0m\u001b[0;34m(\u001b[0m\u001b[0mcount\u001b[0m\u001b[0;34m)\u001b[0m\u001b[0;34m+\u001b[0m\u001b[0;34m\"次特征选择\"\u001b[0m\u001b[0;34m]\u001b[0m \u001b[0;34m=\u001b[0m \u001b[0ma_spiliter_choice\u001b[0m\u001b[0;34m\u001b[0m\u001b[0;34m\u001b[0m\u001b[0m\n",
        "\u001b[0;32m~/opt/anaconda3/lib/python3.7/site-packages/pandas/core/frame.py\u001b[0m in \u001b[0;36m__getitem__\u001b[0;34m(self, key)\u001b[0m\n\u001b[1;32m   2978\u001b[0m             \u001b[0;32mif\u001b[0m \u001b[0mself\u001b[0m\u001b[0;34m.\u001b[0m\u001b[0mcolumns\u001b[0m\u001b[0;34m.\u001b[0m\u001b[0mnlevels\u001b[0m \u001b[0;34m>\u001b[0m \u001b[0;36m1\u001b[0m\u001b[0;34m:\u001b[0m\u001b[0;34m\u001b[0m\u001b[0;34m\u001b[0m\u001b[0m\n\u001b[1;32m   2979\u001b[0m                 \u001b[0;32mreturn\u001b[0m \u001b[0mself\u001b[0m\u001b[0;34m.\u001b[0m\u001b[0m_getitem_multilevel\u001b[0m\u001b[0;34m(\u001b[0m\u001b[0mkey\u001b[0m\u001b[0;34m)\u001b[0m\u001b[0;34m\u001b[0m\u001b[0;34m\u001b[0m\u001b[0m\n\u001b[0;32m-> 2980\u001b[0;31m             \u001b[0mindexer\u001b[0m \u001b[0;34m=\u001b[0m \u001b[0mself\u001b[0m\u001b[0;34m.\u001b[0m\u001b[0mcolumns\u001b[0m\u001b[0;34m.\u001b[0m\u001b[0mget_loc\u001b[0m\u001b[0;34m(\u001b[0m\u001b[0mkey\u001b[0m\u001b[0;34m)\u001b[0m\u001b[0;34m\u001b[0m\u001b[0;34m\u001b[0m\u001b[0m\n\u001b[0m\u001b[1;32m   2981\u001b[0m             \u001b[0;32mif\u001b[0m \u001b[0mis_integer\u001b[0m\u001b[0;34m(\u001b[0m\u001b[0mindexer\u001b[0m\u001b[0;34m)\u001b[0m\u001b[0;34m:\u001b[0m\u001b[0;34m\u001b[0m\u001b[0;34m\u001b[0m\u001b[0m\n\u001b[1;32m   2982\u001b[0m                 \u001b[0mindexer\u001b[0m \u001b[0;34m=\u001b[0m \u001b[0;34m[\u001b[0m\u001b[0mindexer\u001b[0m\u001b[0;34m]\u001b[0m\u001b[0;34m\u001b[0m\u001b[0;34m\u001b[0m\u001b[0m\n",
        "\u001b[0;32m~/opt/anaconda3/lib/python3.7/site-packages/pandas/core/indexes/base.py\u001b[0m in \u001b[0;36mget_loc\u001b[0;34m(self, key, method, tolerance)\u001b[0m\n\u001b[1;32m   2897\u001b[0m                 \u001b[0;32mreturn\u001b[0m \u001b[0mself\u001b[0m\u001b[0;34m.\u001b[0m\u001b[0m_engine\u001b[0m\u001b[0;34m.\u001b[0m\u001b[0mget_loc\u001b[0m\u001b[0;34m(\u001b[0m\u001b[0mkey\u001b[0m\u001b[0;34m)\u001b[0m\u001b[0;34m\u001b[0m\u001b[0;34m\u001b[0m\u001b[0m\n\u001b[1;32m   2898\u001b[0m             \u001b[0;32mexcept\u001b[0m \u001b[0mKeyError\u001b[0m\u001b[0;34m:\u001b[0m\u001b[0;34m\u001b[0m\u001b[0;34m\u001b[0m\u001b[0m\n\u001b[0;32m-> 2899\u001b[0;31m                 \u001b[0;32mreturn\u001b[0m \u001b[0mself\u001b[0m\u001b[0;34m.\u001b[0m\u001b[0m_engine\u001b[0m\u001b[0;34m.\u001b[0m\u001b[0mget_loc\u001b[0m\u001b[0;34m(\u001b[0m\u001b[0mself\u001b[0m\u001b[0;34m.\u001b[0m\u001b[0m_maybe_cast_indexer\u001b[0m\u001b[0;34m(\u001b[0m\u001b[0mkey\u001b[0m\u001b[0;34m)\u001b[0m\u001b[0;34m)\u001b[0m\u001b[0;34m\u001b[0m\u001b[0;34m\u001b[0m\u001b[0m\n\u001b[0m\u001b[1;32m   2900\u001b[0m         \u001b[0mindexer\u001b[0m \u001b[0;34m=\u001b[0m \u001b[0mself\u001b[0m\u001b[0;34m.\u001b[0m\u001b[0mget_indexer\u001b[0m\u001b[0;34m(\u001b[0m\u001b[0;34m[\u001b[0m\u001b[0mkey\u001b[0m\u001b[0;34m]\u001b[0m\u001b[0;34m,\u001b[0m \u001b[0mmethod\u001b[0m\u001b[0;34m=\u001b[0m\u001b[0mmethod\u001b[0m\u001b[0;34m,\u001b[0m \u001b[0mtolerance\u001b[0m\u001b[0;34m=\u001b[0m\u001b[0mtolerance\u001b[0m\u001b[0;34m)\u001b[0m\u001b[0;34m\u001b[0m\u001b[0;34m\u001b[0m\u001b[0m\n\u001b[1;32m   2901\u001b[0m         \u001b[0;32mif\u001b[0m \u001b[0mindexer\u001b[0m\u001b[0;34m.\u001b[0m\u001b[0mndim\u001b[0m \u001b[0;34m>\u001b[0m \u001b[0;36m1\u001b[0m \u001b[0;32mor\u001b[0m \u001b[0mindexer\u001b[0m\u001b[0;34m.\u001b[0m\u001b[0msize\u001b[0m \u001b[0;34m>\u001b[0m \u001b[0;36m1\u001b[0m\u001b[0;34m:\u001b[0m\u001b[0;34m\u001b[0m\u001b[0;34m\u001b[0m\u001b[0m\n",
        "\u001b[0;32mpandas/_libs/index.pyx\u001b[0m in \u001b[0;36mpandas._libs.index.IndexEngine.get_loc\u001b[0;34m()\u001b[0m\n",
        "\u001b[0;32mpandas/_libs/index.pyx\u001b[0m in \u001b[0;36mpandas._libs.index.IndexEngine.get_loc\u001b[0;34m()\u001b[0m\n",
        "\u001b[0;32mpandas/_libs/hashtable_class_helper.pxi\u001b[0m in \u001b[0;36mpandas._libs.hashtable.PyObjectHashTable.get_item\u001b[0;34m()\u001b[0m\n",
        "\u001b[0;32mpandas/_libs/hashtable_class_helper.pxi\u001b[0m in \u001b[0;36mpandas._libs.hashtable.PyObjectHashTable.get_item\u001b[0;34m()\u001b[0m\n",
        "\u001b[0;31mKeyError\u001b[0m: True"
       ]
      }
     ],
     "persistentId": "3fb2e02b-65bc-43bb-b372-a207226bdce4",
     "text": "b = persistent_spliter_choice(training_data=dataset, target='bought')"
    },
    "executionTime": "2020-02-08T10:35:09.331Z"
   },
   {
    "cell": {
     "executionCount": 84,
     "executionEventId": "311347f5-cbda-47cf-9ad5-ab1a0dff0e55",
     "hasError": false,
     "id": "5bb8ef8a-0acc-42a9-8366-07cbad69be0a",
     "outputs": [],
     "persistentId": "3292e0e6-21e1-40ec-88e9-f272265075ab",
     "text": "def persistent_spliter_choice(training_data: pd.DataFrame, target: str, count=0, spilter_list=None):\n\n    if count == 0:\n        spilter_list = {}\n        new_training_data = training_data\n        \n        a_spiliter_choice = find_the_optimal_spilter(training_data = training_data, target = target)\n        spilter_list[\"第\"+str(count)+\"次特征选择\"] = a_spiliter_choice\n    else:\n        #因为已经找到了最佳的分割点，有一方无法继续分割，向另外一方继续分割\n        print(spilter_list[\"第\"+str(count-1)+\"次特征选择\"][0])\n        print(spilter_list[\"第\"+str(count-1)+\"次特征选择\"][1])\n        key = spilter_list[\"第\"+str(count-1)+\"次特征选择\"][0]\n        value = spilter_list[\"第\"+str(count-1)+\"次特征选择\"][1]\n        new_training_data = training_data[training_data[key != value]]\n        a_spiliter_choice = find_the_optimal_spilter(training_data = new_training_data, target = target)\n        spilter_list[\"第\"+str(count)+\"次特征选择\"] = a_spiliter_choice\n        \n    #设置递归终止条件 \n    if len(Counter(new_training_data[target])) == 1:\n        return spliter_list\n    else:\n        return persistent_spliter_choice(training_data = new_training_data,target=target,count = count + 1,spilter_list=spilter_list)"
    },
    "executionTime": "2020-02-08T10:36:59.404Z"
   },
   {
    "cell": {
     "executionCount": 85,
     "executionEventId": "090e5ecb-beff-4201-95de-552a92903cd1",
     "hasError": true,
     "id": "b0b688d7-31eb-4cab-98da-6d028d128a68",
     "outputs": [
      {
       "name": "stderr",
       "output_type": "stream",
       "text": "ic| f: 'family_number'\nic| values: {1, 2}\nic| f: 'gender'\nic| values: {'F', 'M'}\nic| f: 'income'\nic| values: {'+10', '-10'}\n"
      },
      {
       "name": "stdout",
       "output_type": "stream",
       "text": "spliter is: ('income', '-10')\nthe min entropy is: 0.6730116670092565\nincome\n-10\n"
      },
      {
       "ename": "KeyError",
       "evalue": "True",
       "output_type": "error",
       "traceback": [
        "\u001b[0;31m---------------------------------------------------------------------------\u001b[0m",
        "\u001b[0;31mKeyError\u001b[0m                                  Traceback (most recent call last)",
        "\u001b[0;32m~/opt/anaconda3/lib/python3.7/site-packages/pandas/core/indexes/base.py\u001b[0m in \u001b[0;36mget_loc\u001b[0;34m(self, key, method, tolerance)\u001b[0m\n\u001b[1;32m   2896\u001b[0m             \u001b[0;32mtry\u001b[0m\u001b[0;34m:\u001b[0m\u001b[0;34m\u001b[0m\u001b[0;34m\u001b[0m\u001b[0m\n\u001b[0;32m-> 2897\u001b[0;31m                 \u001b[0;32mreturn\u001b[0m \u001b[0mself\u001b[0m\u001b[0;34m.\u001b[0m\u001b[0m_engine\u001b[0m\u001b[0;34m.\u001b[0m\u001b[0mget_loc\u001b[0m\u001b[0;34m(\u001b[0m\u001b[0mkey\u001b[0m\u001b[0;34m)\u001b[0m\u001b[0;34m\u001b[0m\u001b[0;34m\u001b[0m\u001b[0m\n\u001b[0m\u001b[1;32m   2898\u001b[0m             \u001b[0;32mexcept\u001b[0m \u001b[0mKeyError\u001b[0m\u001b[0;34m:\u001b[0m\u001b[0;34m\u001b[0m\u001b[0;34m\u001b[0m\u001b[0m\n",
        "\u001b[0;32mpandas/_libs/index.pyx\u001b[0m in \u001b[0;36mpandas._libs.index.IndexEngine.get_loc\u001b[0;34m()\u001b[0m\n",
        "\u001b[0;32mpandas/_libs/index.pyx\u001b[0m in \u001b[0;36mpandas._libs.index.IndexEngine.get_loc\u001b[0;34m()\u001b[0m\n",
        "\u001b[0;32mpandas/_libs/hashtable_class_helper.pxi\u001b[0m in \u001b[0;36mpandas._libs.hashtable.PyObjectHashTable.get_item\u001b[0;34m()\u001b[0m\n",
        "\u001b[0;32mpandas/_libs/hashtable_class_helper.pxi\u001b[0m in \u001b[0;36mpandas._libs.hashtable.PyObjectHashTable.get_item\u001b[0;34m()\u001b[0m\n",
        "\u001b[0;31mKeyError\u001b[0m: True",
        "\nDuring handling of the above exception, another exception occurred:\n",
        "\u001b[0;31mKeyError\u001b[0m                                  Traceback (most recent call last)",
        "\u001b[0;32m<ipython-input-85-ccaaa46ac2eb>\u001b[0m in \u001b[0;36m<module>\u001b[0;34m\u001b[0m\n\u001b[0;32m----> 1\u001b[0;31m \u001b[0mb\u001b[0m \u001b[0;34m=\u001b[0m \u001b[0mpersistent_spliter_choice\u001b[0m\u001b[0;34m(\u001b[0m\u001b[0mtraining_data\u001b[0m\u001b[0;34m=\u001b[0m\u001b[0mdataset\u001b[0m\u001b[0;34m,\u001b[0m \u001b[0mtarget\u001b[0m\u001b[0;34m=\u001b[0m\u001b[0;34m'bought'\u001b[0m\u001b[0;34m)\u001b[0m\u001b[0;34m\u001b[0m\u001b[0;34m\u001b[0m\u001b[0m\n\u001b[0m",
        "\u001b[0;32m<ipython-input-84-56d3b9bfb0f8>\u001b[0m in \u001b[0;36mpersistent_spliter_choice\u001b[0;34m(training_data, target, count, spilter_list)\u001b[0m\n\u001b[1;32m     21\u001b[0m         \u001b[0;32mreturn\u001b[0m \u001b[0mspliter_list\u001b[0m\u001b[0;34m\u001b[0m\u001b[0;34m\u001b[0m\u001b[0m\n\u001b[1;32m     22\u001b[0m     \u001b[0;32melse\u001b[0m\u001b[0;34m:\u001b[0m\u001b[0;34m\u001b[0m\u001b[0;34m\u001b[0m\u001b[0m\n\u001b[0;32m---> 23\u001b[0;31m         \u001b[0;32mreturn\u001b[0m \u001b[0mpersistent_spliter_choice\u001b[0m\u001b[0;34m(\u001b[0m\u001b[0mtraining_data\u001b[0m \u001b[0;34m=\u001b[0m \u001b[0mnew_training_data\u001b[0m\u001b[0;34m,\u001b[0m\u001b[0mtarget\u001b[0m\u001b[0;34m=\u001b[0m\u001b[0mtarget\u001b[0m\u001b[0;34m,\u001b[0m\u001b[0mcount\u001b[0m \u001b[0;34m=\u001b[0m \u001b[0mcount\u001b[0m \u001b[0;34m+\u001b[0m \u001b[0;36m1\u001b[0m\u001b[0;34m,\u001b[0m\u001b[0mspilter_list\u001b[0m\u001b[0;34m=\u001b[0m\u001b[0mspilter_list\u001b[0m\u001b[0;34m)\u001b[0m\u001b[0;34m\u001b[0m\u001b[0;34m\u001b[0m\u001b[0m\n\u001b[0m",
        "\u001b[0;32m<ipython-input-84-56d3b9bfb0f8>\u001b[0m in \u001b[0;36mpersistent_spliter_choice\u001b[0;34m(training_data, target, count, spilter_list)\u001b[0m\n\u001b[1;32m     13\u001b[0m         \u001b[0mkey\u001b[0m \u001b[0;34m=\u001b[0m \u001b[0mspilter_list\u001b[0m\u001b[0;34m[\u001b[0m\u001b[0;34m\"第\"\u001b[0m\u001b[0;34m+\u001b[0m\u001b[0mstr\u001b[0m\u001b[0;34m(\u001b[0m\u001b[0mcount\u001b[0m\u001b[0;34m-\u001b[0m\u001b[0;36m1\u001b[0m\u001b[0;34m)\u001b[0m\u001b[0;34m+\u001b[0m\u001b[0;34m\"次特征选择\"\u001b[0m\u001b[0;34m]\u001b[0m\u001b[0;34m[\u001b[0m\u001b[0;36m0\u001b[0m\u001b[0;34m]\u001b[0m\u001b[0;34m\u001b[0m\u001b[0;34m\u001b[0m\u001b[0m\n\u001b[1;32m     14\u001b[0m         \u001b[0mvalue\u001b[0m \u001b[0;34m=\u001b[0m \u001b[0mspilter_list\u001b[0m\u001b[0;34m[\u001b[0m\u001b[0;34m\"第\"\u001b[0m\u001b[0;34m+\u001b[0m\u001b[0mstr\u001b[0m\u001b[0;34m(\u001b[0m\u001b[0mcount\u001b[0m\u001b[0;34m-\u001b[0m\u001b[0;36m1\u001b[0m\u001b[0;34m)\u001b[0m\u001b[0;34m+\u001b[0m\u001b[0;34m\"次特征选择\"\u001b[0m\u001b[0;34m]\u001b[0m\u001b[0;34m[\u001b[0m\u001b[0;36m1\u001b[0m\u001b[0;34m]\u001b[0m\u001b[0;34m\u001b[0m\u001b[0;34m\u001b[0m\u001b[0m\n\u001b[0;32m---> 15\u001b[0;31m         \u001b[0mnew_training_data\u001b[0m \u001b[0;34m=\u001b[0m \u001b[0mtraining_data\u001b[0m\u001b[0;34m[\u001b[0m\u001b[0mtraining_data\u001b[0m\u001b[0;34m[\u001b[0m\u001b[0mkey\u001b[0m \u001b[0;34m!=\u001b[0m \u001b[0mvalue\u001b[0m\u001b[0;34m]\u001b[0m\u001b[0;34m]\u001b[0m\u001b[0;34m\u001b[0m\u001b[0;34m\u001b[0m\u001b[0m\n\u001b[0m\u001b[1;32m     16\u001b[0m         \u001b[0ma_spiliter_choice\u001b[0m \u001b[0;34m=\u001b[0m \u001b[0mfind_the_optimal_spilter\u001b[0m\u001b[0;34m(\u001b[0m\u001b[0mtraining_data\u001b[0m \u001b[0;34m=\u001b[0m \u001b[0mnew_training_data\u001b[0m\u001b[0;34m,\u001b[0m \u001b[0mtarget\u001b[0m \u001b[0;34m=\u001b[0m \u001b[0mtarget\u001b[0m\u001b[0;34m)\u001b[0m\u001b[0;34m\u001b[0m\u001b[0;34m\u001b[0m\u001b[0m\n\u001b[1;32m     17\u001b[0m         \u001b[0mspilter_list\u001b[0m\u001b[0;34m[\u001b[0m\u001b[0;34m\"第\"\u001b[0m\u001b[0;34m+\u001b[0m\u001b[0mstr\u001b[0m\u001b[0;34m(\u001b[0m\u001b[0mcount\u001b[0m\u001b[0;34m)\u001b[0m\u001b[0;34m+\u001b[0m\u001b[0;34m\"次特征选择\"\u001b[0m\u001b[0;34m]\u001b[0m \u001b[0;34m=\u001b[0m \u001b[0ma_spiliter_choice\u001b[0m\u001b[0;34m\u001b[0m\u001b[0;34m\u001b[0m\u001b[0m\n",
        "\u001b[0;32m~/opt/anaconda3/lib/python3.7/site-packages/pandas/core/frame.py\u001b[0m in \u001b[0;36m__getitem__\u001b[0;34m(self, key)\u001b[0m\n\u001b[1;32m   2978\u001b[0m             \u001b[0;32mif\u001b[0m \u001b[0mself\u001b[0m\u001b[0;34m.\u001b[0m\u001b[0mcolumns\u001b[0m\u001b[0;34m.\u001b[0m\u001b[0mnlevels\u001b[0m \u001b[0;34m>\u001b[0m \u001b[0;36m1\u001b[0m\u001b[0;34m:\u001b[0m\u001b[0;34m\u001b[0m\u001b[0;34m\u001b[0m\u001b[0m\n\u001b[1;32m   2979\u001b[0m                 \u001b[0;32mreturn\u001b[0m \u001b[0mself\u001b[0m\u001b[0;34m.\u001b[0m\u001b[0m_getitem_multilevel\u001b[0m\u001b[0;34m(\u001b[0m\u001b[0mkey\u001b[0m\u001b[0;34m)\u001b[0m\u001b[0;34m\u001b[0m\u001b[0;34m\u001b[0m\u001b[0m\n\u001b[0;32m-> 2980\u001b[0;31m             \u001b[0mindexer\u001b[0m \u001b[0;34m=\u001b[0m \u001b[0mself\u001b[0m\u001b[0;34m.\u001b[0m\u001b[0mcolumns\u001b[0m\u001b[0;34m.\u001b[0m\u001b[0mget_loc\u001b[0m\u001b[0;34m(\u001b[0m\u001b[0mkey\u001b[0m\u001b[0;34m)\u001b[0m\u001b[0;34m\u001b[0m\u001b[0;34m\u001b[0m\u001b[0m\n\u001b[0m\u001b[1;32m   2981\u001b[0m             \u001b[0;32mif\u001b[0m \u001b[0mis_integer\u001b[0m\u001b[0;34m(\u001b[0m\u001b[0mindexer\u001b[0m\u001b[0;34m)\u001b[0m\u001b[0;34m:\u001b[0m\u001b[0;34m\u001b[0m\u001b[0;34m\u001b[0m\u001b[0m\n\u001b[1;32m   2982\u001b[0m                 \u001b[0mindexer\u001b[0m \u001b[0;34m=\u001b[0m \u001b[0;34m[\u001b[0m\u001b[0mindexer\u001b[0m\u001b[0;34m]\u001b[0m\u001b[0;34m\u001b[0m\u001b[0;34m\u001b[0m\u001b[0m\n",
        "\u001b[0;32m~/opt/anaconda3/lib/python3.7/site-packages/pandas/core/indexes/base.py\u001b[0m in \u001b[0;36mget_loc\u001b[0;34m(self, key, method, tolerance)\u001b[0m\n\u001b[1;32m   2897\u001b[0m                 \u001b[0;32mreturn\u001b[0m \u001b[0mself\u001b[0m\u001b[0;34m.\u001b[0m\u001b[0m_engine\u001b[0m\u001b[0;34m.\u001b[0m\u001b[0mget_loc\u001b[0m\u001b[0;34m(\u001b[0m\u001b[0mkey\u001b[0m\u001b[0;34m)\u001b[0m\u001b[0;34m\u001b[0m\u001b[0;34m\u001b[0m\u001b[0m\n\u001b[1;32m   2898\u001b[0m             \u001b[0;32mexcept\u001b[0m \u001b[0mKeyError\u001b[0m\u001b[0;34m:\u001b[0m\u001b[0;34m\u001b[0m\u001b[0;34m\u001b[0m\u001b[0m\n\u001b[0;32m-> 2899\u001b[0;31m                 \u001b[0;32mreturn\u001b[0m \u001b[0mself\u001b[0m\u001b[0;34m.\u001b[0m\u001b[0m_engine\u001b[0m\u001b[0;34m.\u001b[0m\u001b[0mget_loc\u001b[0m\u001b[0;34m(\u001b[0m\u001b[0mself\u001b[0m\u001b[0;34m.\u001b[0m\u001b[0m_maybe_cast_indexer\u001b[0m\u001b[0;34m(\u001b[0m\u001b[0mkey\u001b[0m\u001b[0;34m)\u001b[0m\u001b[0;34m)\u001b[0m\u001b[0;34m\u001b[0m\u001b[0;34m\u001b[0m\u001b[0m\n\u001b[0m\u001b[1;32m   2900\u001b[0m         \u001b[0mindexer\u001b[0m \u001b[0;34m=\u001b[0m \u001b[0mself\u001b[0m\u001b[0;34m.\u001b[0m\u001b[0mget_indexer\u001b[0m\u001b[0;34m(\u001b[0m\u001b[0;34m[\u001b[0m\u001b[0mkey\u001b[0m\u001b[0;34m]\u001b[0m\u001b[0;34m,\u001b[0m \u001b[0mmethod\u001b[0m\u001b[0;34m=\u001b[0m\u001b[0mmethod\u001b[0m\u001b[0;34m,\u001b[0m \u001b[0mtolerance\u001b[0m\u001b[0;34m=\u001b[0m\u001b[0mtolerance\u001b[0m\u001b[0;34m)\u001b[0m\u001b[0;34m\u001b[0m\u001b[0;34m\u001b[0m\u001b[0m\n\u001b[1;32m   2901\u001b[0m         \u001b[0;32mif\u001b[0m \u001b[0mindexer\u001b[0m\u001b[0;34m.\u001b[0m\u001b[0mndim\u001b[0m \u001b[0;34m>\u001b[0m \u001b[0;36m1\u001b[0m \u001b[0;32mor\u001b[0m \u001b[0mindexer\u001b[0m\u001b[0;34m.\u001b[0m\u001b[0msize\u001b[0m \u001b[0;34m>\u001b[0m \u001b[0;36m1\u001b[0m\u001b[0;34m:\u001b[0m\u001b[0;34m\u001b[0m\u001b[0;34m\u001b[0m\u001b[0m\n",
        "\u001b[0;32mpandas/_libs/index.pyx\u001b[0m in \u001b[0;36mpandas._libs.index.IndexEngine.get_loc\u001b[0;34m()\u001b[0m\n",
        "\u001b[0;32mpandas/_libs/index.pyx\u001b[0m in \u001b[0;36mpandas._libs.index.IndexEngine.get_loc\u001b[0;34m()\u001b[0m\n",
        "\u001b[0;32mpandas/_libs/hashtable_class_helper.pxi\u001b[0m in \u001b[0;36mpandas._libs.hashtable.PyObjectHashTable.get_item\u001b[0;34m()\u001b[0m\n",
        "\u001b[0;32mpandas/_libs/hashtable_class_helper.pxi\u001b[0m in \u001b[0;36mpandas._libs.hashtable.PyObjectHashTable.get_item\u001b[0;34m()\u001b[0m\n",
        "\u001b[0;31mKeyError\u001b[0m: True"
       ]
      }
     ],
     "persistentId": "3fb2e02b-65bc-43bb-b372-a207226bdce4",
     "text": "b = persistent_spliter_choice(training_data=dataset, target='bought')"
    },
    "executionTime": "2020-02-08T10:37:00.023Z"
   },
   {
    "cell": {
     "executionCount": 86,
     "executionEventId": "f285edc4-aea4-47a6-ace3-04ec8494e6ae",
     "hasError": false,
     "id": "5bb8ef8a-0acc-42a9-8366-07cbad69be0a",
     "outputs": [],
     "persistentId": "3292e0e6-21e1-40ec-88e9-f272265075ab",
     "text": "def persistent_spliter_choice(training_data: pd.DataFrame, target: str, count=0, spilter_list=None):\n\n    if count == 0:\n        spilter_list = {}\n        new_training_data = training_data\n        \n        a_spiliter_choice = find_the_optimal_spilter(training_data = training_data, target = target)\n        spilter_list[\"第\"+str(count)+\"次特征选择\"] = a_spiliter_choice\n    else:\n        #因为已经找到了最佳的分割点，有一方无法继续分割，向另外一方继续分割\n        print(spilter_list[\"第\"+str(count-1)+\"次特征选择\"][0])\n        print(spilter_list[\"第\"+str(count-1)+\"次特征选择\"][1])\n        key = spilter_list[\"第\"+str(count-1)+\"次特征选择\"][0]\n        value = spilter_list[\"第\"+str(count-1)+\"次特征选择\"][1]\n        new_training_data = training_data[training_data[key] != value]\n        a_spiliter_choice = find_the_optimal_spilter(training_data = new_training_data, target = target)\n        spilter_list[\"第\"+str(count)+\"次特征选择\"] = a_spiliter_choice\n        \n    #设置递归终止条件 \n    if len(Counter(new_training_data[target])) == 1:\n        return spliter_list\n    else:\n        return persistent_spliter_choice(training_data = new_training_data,target=target,count = count + 1,spilter_list=spilter_list)"
    },
    "executionTime": "2020-02-08T10:37:58.756Z"
   },
   {
    "cell": {
     "executionCount": 87,
     "executionEventId": "4e8853e2-cca6-4578-aa4a-04b6e50d718a",
     "hasError": true,
     "id": "b0b688d7-31eb-4cab-98da-6d028d128a68",
     "outputs": [
      {
       "name": "stderr",
       "output_type": "stream",
       "text": "ic| f: 'family_number'\nic| values: {1, 2}\nic| f: 'gender'\nic| values: {'F', 'M'}\nic| f: 'income'\nic| values: {'+10', '-10'}\nic| f: 'family_number'\nic| values: {1, 2}\nic| f: 'gender'\nic| values: {'F', 'M'}\nic| f: 'income'\nic| values: {'+10'}\nic| f: 'family_number'\nic| values: {1}\nic| f: 'gender'\nic| values: {'F', 'M'}\nic| f: 'income'\nic| values: {'+10'}\nic| f: 'family_number'\nic| values: set()\nic| f: 'gender'\nic| values: set()\nic|"
      },
      {
       "name": "stdout",
       "output_type": "stream",
       "text": "spliter is: ('income', '-10')\nthe min entropy is: 0.6730116670092565\nincome\n-10\nspliter is: ('family_number', 2)\nthe min entropy is: 0.5623351446188083\nfamily_number\n2\nspliter is: ('income', '+10')\nthe min entropy is: 0.5623351446188083\nincome\n+10\n"
      },
      {
       "name": "stderr",
       "output_type": "stream",
       "text": " f: 'income'\nic| values: set()\n"
      },
      {
       "name": "stdout",
       "output_type": "stream",
       "text": "spliter is: None\nthe min entropy is: inf\n"
      },
      {
       "ename": "TypeError",
       "evalue": "'NoneType' object is not subscriptable",
       "output_type": "error",
       "traceback": [
        "\u001b[0;31m---------------------------------------------------------------------------\u001b[0m",
        "\u001b[0;31mTypeError\u001b[0m                                 Traceback (most recent call last)",
        "\u001b[0;32m<ipython-input-87-ccaaa46ac2eb>\u001b[0m in \u001b[0;36m<module>\u001b[0;34m\u001b[0m\n\u001b[0;32m----> 1\u001b[0;31m \u001b[0mb\u001b[0m \u001b[0;34m=\u001b[0m \u001b[0mpersistent_spliter_choice\u001b[0m\u001b[0;34m(\u001b[0m\u001b[0mtraining_data\u001b[0m\u001b[0;34m=\u001b[0m\u001b[0mdataset\u001b[0m\u001b[0;34m,\u001b[0m \u001b[0mtarget\u001b[0m\u001b[0;34m=\u001b[0m\u001b[0;34m'bought'\u001b[0m\u001b[0;34m)\u001b[0m\u001b[0;34m\u001b[0m\u001b[0;34m\u001b[0m\u001b[0m\n\u001b[0m",
        "\u001b[0;32m<ipython-input-86-b3a52abd6cd7>\u001b[0m in \u001b[0;36mpersistent_spliter_choice\u001b[0;34m(training_data, target, count, spilter_list)\u001b[0m\n\u001b[1;32m     21\u001b[0m         \u001b[0;32mreturn\u001b[0m \u001b[0mspliter_list\u001b[0m\u001b[0;34m\u001b[0m\u001b[0;34m\u001b[0m\u001b[0m\n\u001b[1;32m     22\u001b[0m     \u001b[0;32melse\u001b[0m\u001b[0;34m:\u001b[0m\u001b[0;34m\u001b[0m\u001b[0;34m\u001b[0m\u001b[0m\n\u001b[0;32m---> 23\u001b[0;31m         \u001b[0;32mreturn\u001b[0m \u001b[0mpersistent_spliter_choice\u001b[0m\u001b[0;34m(\u001b[0m\u001b[0mtraining_data\u001b[0m \u001b[0;34m=\u001b[0m \u001b[0mnew_training_data\u001b[0m\u001b[0;34m,\u001b[0m\u001b[0mtarget\u001b[0m\u001b[0;34m=\u001b[0m\u001b[0mtarget\u001b[0m\u001b[0;34m,\u001b[0m\u001b[0mcount\u001b[0m \u001b[0;34m=\u001b[0m \u001b[0mcount\u001b[0m \u001b[0;34m+\u001b[0m \u001b[0;36m1\u001b[0m\u001b[0;34m,\u001b[0m\u001b[0mspilter_list\u001b[0m\u001b[0;34m=\u001b[0m\u001b[0mspilter_list\u001b[0m\u001b[0;34m)\u001b[0m\u001b[0;34m\u001b[0m\u001b[0;34m\u001b[0m\u001b[0m\n\u001b[0m",
        "\u001b[0;32m<ipython-input-86-b3a52abd6cd7>\u001b[0m in \u001b[0;36mpersistent_spliter_choice\u001b[0;34m(training_data, target, count, spilter_list)\u001b[0m\n\u001b[1;32m     21\u001b[0m         \u001b[0;32mreturn\u001b[0m \u001b[0mspliter_list\u001b[0m\u001b[0;34m\u001b[0m\u001b[0;34m\u001b[0m\u001b[0m\n\u001b[1;32m     22\u001b[0m     \u001b[0;32melse\u001b[0m\u001b[0;34m:\u001b[0m\u001b[0;34m\u001b[0m\u001b[0;34m\u001b[0m\u001b[0m\n\u001b[0;32m---> 23\u001b[0;31m         \u001b[0;32mreturn\u001b[0m \u001b[0mpersistent_spliter_choice\u001b[0m\u001b[0;34m(\u001b[0m\u001b[0mtraining_data\u001b[0m \u001b[0;34m=\u001b[0m \u001b[0mnew_training_data\u001b[0m\u001b[0;34m,\u001b[0m\u001b[0mtarget\u001b[0m\u001b[0;34m=\u001b[0m\u001b[0mtarget\u001b[0m\u001b[0;34m,\u001b[0m\u001b[0mcount\u001b[0m \u001b[0;34m=\u001b[0m \u001b[0mcount\u001b[0m \u001b[0;34m+\u001b[0m \u001b[0;36m1\u001b[0m\u001b[0;34m,\u001b[0m\u001b[0mspilter_list\u001b[0m\u001b[0;34m=\u001b[0m\u001b[0mspilter_list\u001b[0m\u001b[0;34m)\u001b[0m\u001b[0;34m\u001b[0m\u001b[0;34m\u001b[0m\u001b[0m\n\u001b[0m",
        "\u001b[0;32m<ipython-input-86-b3a52abd6cd7>\u001b[0m in \u001b[0;36mpersistent_spliter_choice\u001b[0;34m(training_data, target, count, spilter_list)\u001b[0m\n\u001b[1;32m     21\u001b[0m         \u001b[0;32mreturn\u001b[0m \u001b[0mspliter_list\u001b[0m\u001b[0;34m\u001b[0m\u001b[0;34m\u001b[0m\u001b[0m\n\u001b[1;32m     22\u001b[0m     \u001b[0;32melse\u001b[0m\u001b[0;34m:\u001b[0m\u001b[0;34m\u001b[0m\u001b[0;34m\u001b[0m\u001b[0m\n\u001b[0;32m---> 23\u001b[0;31m         \u001b[0;32mreturn\u001b[0m \u001b[0mpersistent_spliter_choice\u001b[0m\u001b[0;34m(\u001b[0m\u001b[0mtraining_data\u001b[0m \u001b[0;34m=\u001b[0m \u001b[0mnew_training_data\u001b[0m\u001b[0;34m,\u001b[0m\u001b[0mtarget\u001b[0m\u001b[0;34m=\u001b[0m\u001b[0mtarget\u001b[0m\u001b[0;34m,\u001b[0m\u001b[0mcount\u001b[0m \u001b[0;34m=\u001b[0m \u001b[0mcount\u001b[0m \u001b[0;34m+\u001b[0m \u001b[0;36m1\u001b[0m\u001b[0;34m,\u001b[0m\u001b[0mspilter_list\u001b[0m\u001b[0;34m=\u001b[0m\u001b[0mspilter_list\u001b[0m\u001b[0;34m)\u001b[0m\u001b[0;34m\u001b[0m\u001b[0;34m\u001b[0m\u001b[0m\n\u001b[0m",
        "\u001b[0;32m<ipython-input-86-b3a52abd6cd7>\u001b[0m in \u001b[0;36mpersistent_spliter_choice\u001b[0;34m(training_data, target, count, spilter_list)\u001b[0m\n\u001b[1;32m     21\u001b[0m         \u001b[0;32mreturn\u001b[0m \u001b[0mspliter_list\u001b[0m\u001b[0;34m\u001b[0m\u001b[0;34m\u001b[0m\u001b[0m\n\u001b[1;32m     22\u001b[0m     \u001b[0;32melse\u001b[0m\u001b[0;34m:\u001b[0m\u001b[0;34m\u001b[0m\u001b[0;34m\u001b[0m\u001b[0m\n\u001b[0;32m---> 23\u001b[0;31m         \u001b[0;32mreturn\u001b[0m \u001b[0mpersistent_spliter_choice\u001b[0m\u001b[0;34m(\u001b[0m\u001b[0mtraining_data\u001b[0m \u001b[0;34m=\u001b[0m \u001b[0mnew_training_data\u001b[0m\u001b[0;34m,\u001b[0m\u001b[0mtarget\u001b[0m\u001b[0;34m=\u001b[0m\u001b[0mtarget\u001b[0m\u001b[0;34m,\u001b[0m\u001b[0mcount\u001b[0m \u001b[0;34m=\u001b[0m \u001b[0mcount\u001b[0m \u001b[0;34m+\u001b[0m \u001b[0;36m1\u001b[0m\u001b[0;34m,\u001b[0m\u001b[0mspilter_list\u001b[0m\u001b[0;34m=\u001b[0m\u001b[0mspilter_list\u001b[0m\u001b[0;34m)\u001b[0m\u001b[0;34m\u001b[0m\u001b[0;34m\u001b[0m\u001b[0m\n\u001b[0m",
        "\u001b[0;32m<ipython-input-86-b3a52abd6cd7>\u001b[0m in \u001b[0;36mpersistent_spliter_choice\u001b[0;34m(training_data, target, count, spilter_list)\u001b[0m\n\u001b[1;32m      9\u001b[0m     \u001b[0;32melse\u001b[0m\u001b[0;34m:\u001b[0m\u001b[0;34m\u001b[0m\u001b[0;34m\u001b[0m\u001b[0m\n\u001b[1;32m     10\u001b[0m         \u001b[0;31m#因为已经找到了最佳的分割点，有一方无法继续分割，向另外一方继续分割\u001b[0m\u001b[0;34m\u001b[0m\u001b[0;34m\u001b[0m\u001b[0;34m\u001b[0m\u001b[0m\n\u001b[0;32m---> 11\u001b[0;31m         \u001b[0mprint\u001b[0m\u001b[0;34m(\u001b[0m\u001b[0mspilter_list\u001b[0m\u001b[0;34m[\u001b[0m\u001b[0;34m\"第\"\u001b[0m\u001b[0;34m+\u001b[0m\u001b[0mstr\u001b[0m\u001b[0;34m(\u001b[0m\u001b[0mcount\u001b[0m\u001b[0;34m-\u001b[0m\u001b[0;36m1\u001b[0m\u001b[0;34m)\u001b[0m\u001b[0;34m+\u001b[0m\u001b[0;34m\"次特征选择\"\u001b[0m\u001b[0;34m]\u001b[0m\u001b[0;34m[\u001b[0m\u001b[0;36m0\u001b[0m\u001b[0;34m]\u001b[0m\u001b[0;34m)\u001b[0m\u001b[0;34m\u001b[0m\u001b[0;34m\u001b[0m\u001b[0m\n\u001b[0m\u001b[1;32m     12\u001b[0m         \u001b[0mprint\u001b[0m\u001b[0;34m(\u001b[0m\u001b[0mspilter_list\u001b[0m\u001b[0;34m[\u001b[0m\u001b[0;34m\"第\"\u001b[0m\u001b[0;34m+\u001b[0m\u001b[0mstr\u001b[0m\u001b[0;34m(\u001b[0m\u001b[0mcount\u001b[0m\u001b[0;34m-\u001b[0m\u001b[0;36m1\u001b[0m\u001b[0;34m)\u001b[0m\u001b[0;34m+\u001b[0m\u001b[0;34m\"次特征选择\"\u001b[0m\u001b[0;34m]\u001b[0m\u001b[0;34m[\u001b[0m\u001b[0;36m1\u001b[0m\u001b[0;34m]\u001b[0m\u001b[0;34m)\u001b[0m\u001b[0;34m\u001b[0m\u001b[0;34m\u001b[0m\u001b[0m\n\u001b[1;32m     13\u001b[0m         \u001b[0mkey\u001b[0m \u001b[0;34m=\u001b[0m \u001b[0mspilter_list\u001b[0m\u001b[0;34m[\u001b[0m\u001b[0;34m\"第\"\u001b[0m\u001b[0;34m+\u001b[0m\u001b[0mstr\u001b[0m\u001b[0;34m(\u001b[0m\u001b[0mcount\u001b[0m\u001b[0;34m-\u001b[0m\u001b[0;36m1\u001b[0m\u001b[0;34m)\u001b[0m\u001b[0;34m+\u001b[0m\u001b[0;34m\"次特征选择\"\u001b[0m\u001b[0;34m]\u001b[0m\u001b[0;34m[\u001b[0m\u001b[0;36m0\u001b[0m\u001b[0;34m]\u001b[0m\u001b[0;34m\u001b[0m\u001b[0;34m\u001b[0m\u001b[0m\n",
        "\u001b[0;31mTypeError\u001b[0m: 'NoneType' object is not subscriptable"
       ]
      }
     ],
     "persistentId": "3fb2e02b-65bc-43bb-b372-a207226bdce4",
     "text": "b = persistent_spliter_choice(training_data=dataset, target='bought')"
    },
    "executionTime": "2020-02-08T10:37:59.481Z"
   },
   {
    "cell": {
     "executionCount": 88,
     "executionEventId": "e8900a84-8e26-457e-9d55-e414f25e6079",
     "hasError": false,
     "id": "5bb8ef8a-0acc-42a9-8366-07cbad69be0a",
     "outputs": [],
     "persistentId": "3292e0e6-21e1-40ec-88e9-f272265075ab",
     "text": "def persistent_spliter_choice(training_data: pd.DataFrame, target: str, count=0, spilter_list=None):\n\n    #设置递归终止条件 \n    if len(Counter(training_data[target])) == 1:\n        return spliter_list\n    \n    if count == 0:\n        spilter_list = {}\n        new_training_data = training_data\n        \n        a_spiliter_choice = find_the_optimal_spilter(training_data = training_data, target = target)\n        count = count + 1\n        spilter_list[\"第\"+str(count)+\"次特征选择\"] = a_spiliter_choice\n\n    else:\n        #因为已经找到了最佳的分割点，有一方无法继续分割，向另外一方继续分割\n#         print(spilter_list[\"第\"+str(count-1)+\"次特征选择\"][0])\n#         print(spilter_list[\"第\"+str(count-1)+\"次特征选择\"][1])\n        key = spilter_list[\"第\"+str(count)+\"次特征选择\"][0]\n        value = spilter_list[\"第\"+str(count)+\"次特征选择\"][1]\n        new_training_data = training_data[training_data[key] != value]\n        a_spiliter_choice = find_the_optimal_spilter(training_data = new_training_data, target = target)\n        spilter_list[\"第\"+str(count)+\"次特征选择\"] = a_spiliter_choice\n        \n    #设置递归终止条件 \n    if len(Counter(new_training_data[target])) == 1:\n        return spliter_list\n    else:\n        return persistent_spliter_choice(training_data = new_training_data,target=target,count = count,spilter_list=spilter_list)"
    },
    "executionTime": "2020-02-08T10:43:14.322Z"
   },
   {
    "cell": {
     "executionCount": 89,
     "executionEventId": "dac5a808-cc80-4ce2-b784-4b316c1234f9",
     "hasError": true,
     "id": "b0b688d7-31eb-4cab-98da-6d028d128a68",
     "outputs": [
      {
       "name": "stderr",
       "output_type": "stream",
       "text": "ic| f: 'family_number'\nic| values: {1, 2}\nic| f: 'gender'\nic| values: {'F', 'M'}\nic| f: 'income'\nic| values: {'+10', '-10'}\nic| f: 'family_number'\nic| values: {1, 2}\nic| f: 'gender'\nic| values: {'F', 'M'}\nic| f: 'income'\nic| values: {'+10'}\nic| f: 'family_number'\nic| values: {1}\nic| f: 'gender'\nic| values: {'F', 'M'}\nic| f: 'income'\nic| values: {'+10'}\nic| f: 'family_number'\nic| values: set()\nic| f: 'gender'\nic| values: set()\nic| f: 'income'\n"
      },
      {
       "name": "stdout",
       "output_type": "stream",
       "text": "spliter is: ('income', '-10')\nthe min entropy is: 0.6730116670092565\nspliter is: ('family_number', 2)\nthe min entropy is: 0.5623351446188083\nspliter is: ('income', '+10')\nthe min entropy is: 0.5623351446188083\n"
      },
      {
       "name": "stderr",
       "output_type": "stream",
       "text": "ic| values: set()\n"
      },
      {
       "name": "stdout",
       "output_type": "stream",
       "text": "spliter is: None\nthe min entropy is: inf\n"
      },
      {
       "ename": "TypeError",
       "evalue": "'NoneType' object is not subscriptable",
       "output_type": "error",
       "traceback": [
        "\u001b[0;31m---------------------------------------------------------------------------\u001b[0m",
        "\u001b[0;31mTypeError\u001b[0m                                 Traceback (most recent call last)",
        "\u001b[0;32m<ipython-input-89-ccaaa46ac2eb>\u001b[0m in \u001b[0;36m<module>\u001b[0;34m\u001b[0m\n\u001b[0;32m----> 1\u001b[0;31m \u001b[0mb\u001b[0m \u001b[0;34m=\u001b[0m \u001b[0mpersistent_spliter_choice\u001b[0m\u001b[0;34m(\u001b[0m\u001b[0mtraining_data\u001b[0m\u001b[0;34m=\u001b[0m\u001b[0mdataset\u001b[0m\u001b[0;34m,\u001b[0m \u001b[0mtarget\u001b[0m\u001b[0;34m=\u001b[0m\u001b[0;34m'bought'\u001b[0m\u001b[0;34m)\u001b[0m\u001b[0;34m\u001b[0m\u001b[0;34m\u001b[0m\u001b[0m\n\u001b[0m",
        "\u001b[0;32m<ipython-input-88-ad62bbbc3c95>\u001b[0m in \u001b[0;36mpersistent_spliter_choice\u001b[0;34m(training_data, target, count, spilter_list)\u001b[0m\n\u001b[1;32m     27\u001b[0m         \u001b[0;32mreturn\u001b[0m \u001b[0mspliter_list\u001b[0m\u001b[0;34m\u001b[0m\u001b[0;34m\u001b[0m\u001b[0m\n\u001b[1;32m     28\u001b[0m     \u001b[0;32melse\u001b[0m\u001b[0;34m:\u001b[0m\u001b[0;34m\u001b[0m\u001b[0;34m\u001b[0m\u001b[0m\n\u001b[0;32m---> 29\u001b[0;31m         \u001b[0;32mreturn\u001b[0m \u001b[0mpersistent_spliter_choice\u001b[0m\u001b[0;34m(\u001b[0m\u001b[0mtraining_data\u001b[0m \u001b[0;34m=\u001b[0m \u001b[0mnew_training_data\u001b[0m\u001b[0;34m,\u001b[0m\u001b[0mtarget\u001b[0m\u001b[0;34m=\u001b[0m\u001b[0mtarget\u001b[0m\u001b[0;34m,\u001b[0m\u001b[0mcount\u001b[0m \u001b[0;34m=\u001b[0m \u001b[0mcount\u001b[0m\u001b[0;34m,\u001b[0m\u001b[0mspilter_list\u001b[0m\u001b[0;34m=\u001b[0m\u001b[0mspilter_list\u001b[0m\u001b[0;34m)\u001b[0m\u001b[0;34m\u001b[0m\u001b[0;34m\u001b[0m\u001b[0m\n\u001b[0m",
        "\u001b[0;32m<ipython-input-88-ad62bbbc3c95>\u001b[0m in \u001b[0;36mpersistent_spliter_choice\u001b[0;34m(training_data, target, count, spilter_list)\u001b[0m\n\u001b[1;32m     27\u001b[0m         \u001b[0;32mreturn\u001b[0m \u001b[0mspliter_list\u001b[0m\u001b[0;34m\u001b[0m\u001b[0;34m\u001b[0m\u001b[0m\n\u001b[1;32m     28\u001b[0m     \u001b[0;32melse\u001b[0m\u001b[0;34m:\u001b[0m\u001b[0;34m\u001b[0m\u001b[0;34m\u001b[0m\u001b[0m\n\u001b[0;32m---> 29\u001b[0;31m         \u001b[0;32mreturn\u001b[0m \u001b[0mpersistent_spliter_choice\u001b[0m\u001b[0;34m(\u001b[0m\u001b[0mtraining_data\u001b[0m \u001b[0;34m=\u001b[0m \u001b[0mnew_training_data\u001b[0m\u001b[0;34m,\u001b[0m\u001b[0mtarget\u001b[0m\u001b[0;34m=\u001b[0m\u001b[0mtarget\u001b[0m\u001b[0;34m,\u001b[0m\u001b[0mcount\u001b[0m \u001b[0;34m=\u001b[0m \u001b[0mcount\u001b[0m\u001b[0;34m,\u001b[0m\u001b[0mspilter_list\u001b[0m\u001b[0;34m=\u001b[0m\u001b[0mspilter_list\u001b[0m\u001b[0;34m)\u001b[0m\u001b[0;34m\u001b[0m\u001b[0;34m\u001b[0m\u001b[0m\n\u001b[0m",
        "\u001b[0;32m<ipython-input-88-ad62bbbc3c95>\u001b[0m in \u001b[0;36mpersistent_spliter_choice\u001b[0;34m(training_data, target, count, spilter_list)\u001b[0m\n\u001b[1;32m     27\u001b[0m         \u001b[0;32mreturn\u001b[0m \u001b[0mspliter_list\u001b[0m\u001b[0;34m\u001b[0m\u001b[0;34m\u001b[0m\u001b[0m\n\u001b[1;32m     28\u001b[0m     \u001b[0;32melse\u001b[0m\u001b[0;34m:\u001b[0m\u001b[0;34m\u001b[0m\u001b[0;34m\u001b[0m\u001b[0m\n\u001b[0;32m---> 29\u001b[0;31m         \u001b[0;32mreturn\u001b[0m \u001b[0mpersistent_spliter_choice\u001b[0m\u001b[0;34m(\u001b[0m\u001b[0mtraining_data\u001b[0m \u001b[0;34m=\u001b[0m \u001b[0mnew_training_data\u001b[0m\u001b[0;34m,\u001b[0m\u001b[0mtarget\u001b[0m\u001b[0;34m=\u001b[0m\u001b[0mtarget\u001b[0m\u001b[0;34m,\u001b[0m\u001b[0mcount\u001b[0m \u001b[0;34m=\u001b[0m \u001b[0mcount\u001b[0m\u001b[0;34m,\u001b[0m\u001b[0mspilter_list\u001b[0m\u001b[0;34m=\u001b[0m\u001b[0mspilter_list\u001b[0m\u001b[0;34m)\u001b[0m\u001b[0;34m\u001b[0m\u001b[0;34m\u001b[0m\u001b[0m\n\u001b[0m",
        "\u001b[0;32m<ipython-input-88-ad62bbbc3c95>\u001b[0m in \u001b[0;36mpersistent_spliter_choice\u001b[0;34m(training_data, target, count, spilter_list)\u001b[0m\n\u001b[1;32m     27\u001b[0m         \u001b[0;32mreturn\u001b[0m \u001b[0mspliter_list\u001b[0m\u001b[0;34m\u001b[0m\u001b[0;34m\u001b[0m\u001b[0m\n\u001b[1;32m     28\u001b[0m     \u001b[0;32melse\u001b[0m\u001b[0;34m:\u001b[0m\u001b[0;34m\u001b[0m\u001b[0;34m\u001b[0m\u001b[0m\n\u001b[0;32m---> 29\u001b[0;31m         \u001b[0;32mreturn\u001b[0m \u001b[0mpersistent_spliter_choice\u001b[0m\u001b[0;34m(\u001b[0m\u001b[0mtraining_data\u001b[0m \u001b[0;34m=\u001b[0m \u001b[0mnew_training_data\u001b[0m\u001b[0;34m,\u001b[0m\u001b[0mtarget\u001b[0m\u001b[0;34m=\u001b[0m\u001b[0mtarget\u001b[0m\u001b[0;34m,\u001b[0m\u001b[0mcount\u001b[0m \u001b[0;34m=\u001b[0m \u001b[0mcount\u001b[0m\u001b[0;34m,\u001b[0m\u001b[0mspilter_list\u001b[0m\u001b[0;34m=\u001b[0m\u001b[0mspilter_list\u001b[0m\u001b[0;34m)\u001b[0m\u001b[0;34m\u001b[0m\u001b[0;34m\u001b[0m\u001b[0m\n\u001b[0m",
        "\u001b[0;32m<ipython-input-88-ad62bbbc3c95>\u001b[0m in \u001b[0;36mpersistent_spliter_choice\u001b[0;34m(training_data, target, count, spilter_list)\u001b[0m\n\u001b[1;32m     17\u001b[0m \u001b[0;31m#         print(spilter_list[\"第\"+str(count-1)+\"次特征选择\"][0])\u001b[0m\u001b[0;34m\u001b[0m\u001b[0;34m\u001b[0m\u001b[0;34m\u001b[0m\u001b[0m\n\u001b[1;32m     18\u001b[0m \u001b[0;31m#         print(spilter_list[\"第\"+str(count-1)+\"次特征选择\"][1])\u001b[0m\u001b[0;34m\u001b[0m\u001b[0;34m\u001b[0m\u001b[0;34m\u001b[0m\u001b[0m\n\u001b[0;32m---> 19\u001b[0;31m         \u001b[0mkey\u001b[0m \u001b[0;34m=\u001b[0m \u001b[0mspilter_list\u001b[0m\u001b[0;34m[\u001b[0m\u001b[0;34m\"第\"\u001b[0m\u001b[0;34m+\u001b[0m\u001b[0mstr\u001b[0m\u001b[0;34m(\u001b[0m\u001b[0mcount\u001b[0m\u001b[0;34m)\u001b[0m\u001b[0;34m+\u001b[0m\u001b[0;34m\"次特征选择\"\u001b[0m\u001b[0;34m]\u001b[0m\u001b[0;34m[\u001b[0m\u001b[0;36m0\u001b[0m\u001b[0;34m]\u001b[0m\u001b[0;34m\u001b[0m\u001b[0;34m\u001b[0m\u001b[0m\n\u001b[0m\u001b[1;32m     20\u001b[0m         \u001b[0mvalue\u001b[0m \u001b[0;34m=\u001b[0m \u001b[0mspilter_list\u001b[0m\u001b[0;34m[\u001b[0m\u001b[0;34m\"第\"\u001b[0m\u001b[0;34m+\u001b[0m\u001b[0mstr\u001b[0m\u001b[0;34m(\u001b[0m\u001b[0mcount\u001b[0m\u001b[0;34m)\u001b[0m\u001b[0;34m+\u001b[0m\u001b[0;34m\"次特征选择\"\u001b[0m\u001b[0;34m]\u001b[0m\u001b[0;34m[\u001b[0m\u001b[0;36m1\u001b[0m\u001b[0;34m]\u001b[0m\u001b[0;34m\u001b[0m\u001b[0;34m\u001b[0m\u001b[0m\n\u001b[1;32m     21\u001b[0m         \u001b[0mnew_training_data\u001b[0m \u001b[0;34m=\u001b[0m \u001b[0mtraining_data\u001b[0m\u001b[0;34m[\u001b[0m\u001b[0mtraining_data\u001b[0m\u001b[0;34m[\u001b[0m\u001b[0mkey\u001b[0m\u001b[0;34m]\u001b[0m \u001b[0;34m!=\u001b[0m \u001b[0mvalue\u001b[0m\u001b[0;34m]\u001b[0m\u001b[0;34m\u001b[0m\u001b[0;34m\u001b[0m\u001b[0m\n",
        "\u001b[0;31mTypeError\u001b[0m: 'NoneType' object is not subscriptable"
       ]
      }
     ],
     "persistentId": "3fb2e02b-65bc-43bb-b372-a207226bdce4",
     "text": "b = persistent_spliter_choice(training_data=dataset, target='bought')"
    },
    "executionTime": "2020-02-08T10:43:15.037Z"
   },
   {
    "cell": {
     "executionCount": 90,
     "executionEventId": "60143ef0-300a-46d8-94a6-a8d2323cbeb5",
     "hasError": false,
     "id": "5bb8ef8a-0acc-42a9-8366-07cbad69be0a",
     "outputs": [],
     "persistentId": "3292e0e6-21e1-40ec-88e9-f272265075ab",
     "text": "def persistent_spliter_choice(training_data: pd.DataFrame, target: str, count=0, spilter_list=None):\n\n    #设置递归终止条件 \n    if len(Counter(training_data[target])) == 1:\n        return spliter_list\n    \n    if count == 0:\n        spilter_list = {}\n        new_training_data = training_data\n        \n        a_spiliter_choice = find_the_optimal_spilter(training_data = training_data, target = target)\n        count = count + 1\n        spilter_list[\"第\"+str(count)+\"次特征选择\"] = a_spiliter_choice\n\n    else:\n        #因为已经找到了最佳的分割点，有一方无法继续分割，向另外一方继续分割\n#         print(spilter_list[\"第\"+str(count-1)+\"次特征选择\"][0])\n#         print(spilter_list[\"第\"+str(count-1)+\"次特征选择\"][1])\n        key = spilter_list[\"第\"+str(count)+\"次特征选择\"][0]\n        value = spilter_list[\"第\"+str(count)+\"次特征选择\"][1]\n        new_training_data = training_data[training_data[key] != value]\n        a_spiliter_choice = find_the_optimal_spilter(training_data = new_training_data, target = target)\n        count = count + 1\n        spilter_list[\"第\"+str(count)+\"次特征选择\"] = a_spiliter_choice\n        \n  \n\n    return persistent_spliter_choice(training_data = new_training_data,target=target,count = count,spilter_list=spilter_list)"
    },
    "executionTime": "2020-02-08T10:44:28.376Z"
   },
   {
    "cell": {
     "executionCount": 91,
     "executionEventId": "64457cff-8db3-47e4-9280-1139dd72a32b",
     "hasError": true,
     "id": "b0b688d7-31eb-4cab-98da-6d028d128a68",
     "outputs": [
      {
       "name": "stderr",
       "output_type": "stream",
       "text": "ic| f: 'family_number'\nic| values: {1, 2}\nic| f: 'gender'\nic| values: {'F', 'M'}\nic| f: 'income'\nic| values: {'+10', '-10'}\nic| f: 'family_number'\nic| values: {1, 2}\nic| f: 'gender'\nic| values: {'F', 'M'}\nic| f: 'income'\nic| values: {'+10'}\nic| f: 'family_number'\nic| values: {1}\nic| f: 'gender'\nic| values: {'F', 'M'}\nic| f: 'income'\nic| values: {'+10'}\nic| f: 'family_number'\nic| values: set()\nic| f: 'gender'\nic| values: set()\nic| f: 'income'\n"
      },
      {
       "name": "stdout",
       "output_type": "stream",
       "text": "spliter is: ('income', '-10')\nthe min entropy is: 0.6730116670092565\nspliter is: ('family_number', 2)\nthe min entropy is: 0.5623351446188083\nspliter is: ('income', '+10')\nthe min entropy is: 0.5623351446188083\n"
      },
      {
       "name": "stderr",
       "output_type": "stream",
       "text": "ic| values: set()\n"
      },
      {
       "name": "stdout",
       "output_type": "stream",
       "text": "spliter is: None\nthe min entropy is: inf\n"
      },
      {
       "ename": "TypeError",
       "evalue": "'NoneType' object is not subscriptable",
       "output_type": "error",
       "traceback": [
        "\u001b[0;31m---------------------------------------------------------------------------\u001b[0m",
        "\u001b[0;31mTypeError\u001b[0m                                 Traceback (most recent call last)",
        "\u001b[0;32m<ipython-input-91-ccaaa46ac2eb>\u001b[0m in \u001b[0;36m<module>\u001b[0;34m\u001b[0m\n\u001b[0;32m----> 1\u001b[0;31m \u001b[0mb\u001b[0m \u001b[0;34m=\u001b[0m \u001b[0mpersistent_spliter_choice\u001b[0m\u001b[0;34m(\u001b[0m\u001b[0mtraining_data\u001b[0m\u001b[0;34m=\u001b[0m\u001b[0mdataset\u001b[0m\u001b[0;34m,\u001b[0m \u001b[0mtarget\u001b[0m\u001b[0;34m=\u001b[0m\u001b[0;34m'bought'\u001b[0m\u001b[0;34m)\u001b[0m\u001b[0;34m\u001b[0m\u001b[0;34m\u001b[0m\u001b[0m\n\u001b[0m",
        "\u001b[0;32m<ipython-input-90-9cf62a1e7d6c>\u001b[0m in \u001b[0;36mpersistent_spliter_choice\u001b[0;34m(training_data, target, count, spilter_list)\u001b[0m\n\u001b[1;32m     26\u001b[0m \u001b[0;34m\u001b[0m\u001b[0m\n\u001b[1;32m     27\u001b[0m \u001b[0;34m\u001b[0m\u001b[0m\n\u001b[0;32m---> 28\u001b[0;31m     \u001b[0;32mreturn\u001b[0m \u001b[0mpersistent_spliter_choice\u001b[0m\u001b[0;34m(\u001b[0m\u001b[0mtraining_data\u001b[0m \u001b[0;34m=\u001b[0m \u001b[0mnew_training_data\u001b[0m\u001b[0;34m,\u001b[0m\u001b[0mtarget\u001b[0m\u001b[0;34m=\u001b[0m\u001b[0mtarget\u001b[0m\u001b[0;34m,\u001b[0m\u001b[0mcount\u001b[0m \u001b[0;34m=\u001b[0m \u001b[0mcount\u001b[0m\u001b[0;34m,\u001b[0m\u001b[0mspilter_list\u001b[0m\u001b[0;34m=\u001b[0m\u001b[0mspilter_list\u001b[0m\u001b[0;34m)\u001b[0m\u001b[0;34m\u001b[0m\u001b[0;34m\u001b[0m\u001b[0m\n\u001b[0m",
        "\u001b[0;32m<ipython-input-90-9cf62a1e7d6c>\u001b[0m in \u001b[0;36mpersistent_spliter_choice\u001b[0;34m(training_data, target, count, spilter_list)\u001b[0m\n\u001b[1;32m     26\u001b[0m \u001b[0;34m\u001b[0m\u001b[0m\n\u001b[1;32m     27\u001b[0m \u001b[0;34m\u001b[0m\u001b[0m\n\u001b[0;32m---> 28\u001b[0;31m     \u001b[0;32mreturn\u001b[0m \u001b[0mpersistent_spliter_choice\u001b[0m\u001b[0;34m(\u001b[0m\u001b[0mtraining_data\u001b[0m \u001b[0;34m=\u001b[0m \u001b[0mnew_training_data\u001b[0m\u001b[0;34m,\u001b[0m\u001b[0mtarget\u001b[0m\u001b[0;34m=\u001b[0m\u001b[0mtarget\u001b[0m\u001b[0;34m,\u001b[0m\u001b[0mcount\u001b[0m \u001b[0;34m=\u001b[0m \u001b[0mcount\u001b[0m\u001b[0;34m,\u001b[0m\u001b[0mspilter_list\u001b[0m\u001b[0;34m=\u001b[0m\u001b[0mspilter_list\u001b[0m\u001b[0;34m)\u001b[0m\u001b[0;34m\u001b[0m\u001b[0;34m\u001b[0m\u001b[0m\n\u001b[0m",
        "\u001b[0;32m<ipython-input-90-9cf62a1e7d6c>\u001b[0m in \u001b[0;36mpersistent_spliter_choice\u001b[0;34m(training_data, target, count, spilter_list)\u001b[0m\n\u001b[1;32m     26\u001b[0m \u001b[0;34m\u001b[0m\u001b[0m\n\u001b[1;32m     27\u001b[0m \u001b[0;34m\u001b[0m\u001b[0m\n\u001b[0;32m---> 28\u001b[0;31m     \u001b[0;32mreturn\u001b[0m \u001b[0mpersistent_spliter_choice\u001b[0m\u001b[0;34m(\u001b[0m\u001b[0mtraining_data\u001b[0m \u001b[0;34m=\u001b[0m \u001b[0mnew_training_data\u001b[0m\u001b[0;34m,\u001b[0m\u001b[0mtarget\u001b[0m\u001b[0;34m=\u001b[0m\u001b[0mtarget\u001b[0m\u001b[0;34m,\u001b[0m\u001b[0mcount\u001b[0m \u001b[0;34m=\u001b[0m \u001b[0mcount\u001b[0m\u001b[0;34m,\u001b[0m\u001b[0mspilter_list\u001b[0m\u001b[0;34m=\u001b[0m\u001b[0mspilter_list\u001b[0m\u001b[0;34m)\u001b[0m\u001b[0;34m\u001b[0m\u001b[0;34m\u001b[0m\u001b[0m\n\u001b[0m",
        "\u001b[0;32m<ipython-input-90-9cf62a1e7d6c>\u001b[0m in \u001b[0;36mpersistent_spliter_choice\u001b[0;34m(training_data, target, count, spilter_list)\u001b[0m\n\u001b[1;32m     26\u001b[0m \u001b[0;34m\u001b[0m\u001b[0m\n\u001b[1;32m     27\u001b[0m \u001b[0;34m\u001b[0m\u001b[0m\n\u001b[0;32m---> 28\u001b[0;31m     \u001b[0;32mreturn\u001b[0m \u001b[0mpersistent_spliter_choice\u001b[0m\u001b[0;34m(\u001b[0m\u001b[0mtraining_data\u001b[0m \u001b[0;34m=\u001b[0m \u001b[0mnew_training_data\u001b[0m\u001b[0;34m,\u001b[0m\u001b[0mtarget\u001b[0m\u001b[0;34m=\u001b[0m\u001b[0mtarget\u001b[0m\u001b[0;34m,\u001b[0m\u001b[0mcount\u001b[0m \u001b[0;34m=\u001b[0m \u001b[0mcount\u001b[0m\u001b[0;34m,\u001b[0m\u001b[0mspilter_list\u001b[0m\u001b[0;34m=\u001b[0m\u001b[0mspilter_list\u001b[0m\u001b[0;34m)\u001b[0m\u001b[0;34m\u001b[0m\u001b[0;34m\u001b[0m\u001b[0m\n\u001b[0m",
        "\u001b[0;32m<ipython-input-90-9cf62a1e7d6c>\u001b[0m in \u001b[0;36mpersistent_spliter_choice\u001b[0;34m(training_data, target, count, spilter_list)\u001b[0m\n\u001b[1;32m     17\u001b[0m \u001b[0;31m#         print(spilter_list[\"第\"+str(count-1)+\"次特征选择\"][0])\u001b[0m\u001b[0;34m\u001b[0m\u001b[0;34m\u001b[0m\u001b[0;34m\u001b[0m\u001b[0m\n\u001b[1;32m     18\u001b[0m \u001b[0;31m#         print(spilter_list[\"第\"+str(count-1)+\"次特征选择\"][1])\u001b[0m\u001b[0;34m\u001b[0m\u001b[0;34m\u001b[0m\u001b[0;34m\u001b[0m\u001b[0m\n\u001b[0;32m---> 19\u001b[0;31m         \u001b[0mkey\u001b[0m \u001b[0;34m=\u001b[0m \u001b[0mspilter_list\u001b[0m\u001b[0;34m[\u001b[0m\u001b[0;34m\"第\"\u001b[0m\u001b[0;34m+\u001b[0m\u001b[0mstr\u001b[0m\u001b[0;34m(\u001b[0m\u001b[0mcount\u001b[0m\u001b[0;34m)\u001b[0m\u001b[0;34m+\u001b[0m\u001b[0;34m\"次特征选择\"\u001b[0m\u001b[0;34m]\u001b[0m\u001b[0;34m[\u001b[0m\u001b[0;36m0\u001b[0m\u001b[0;34m]\u001b[0m\u001b[0;34m\u001b[0m\u001b[0;34m\u001b[0m\u001b[0m\n\u001b[0m\u001b[1;32m     20\u001b[0m         \u001b[0mvalue\u001b[0m \u001b[0;34m=\u001b[0m \u001b[0mspilter_list\u001b[0m\u001b[0;34m[\u001b[0m\u001b[0;34m\"第\"\u001b[0m\u001b[0;34m+\u001b[0m\u001b[0mstr\u001b[0m\u001b[0;34m(\u001b[0m\u001b[0mcount\u001b[0m\u001b[0;34m)\u001b[0m\u001b[0;34m+\u001b[0m\u001b[0;34m\"次特征选择\"\u001b[0m\u001b[0;34m]\u001b[0m\u001b[0;34m[\u001b[0m\u001b[0;36m1\u001b[0m\u001b[0;34m]\u001b[0m\u001b[0;34m\u001b[0m\u001b[0;34m\u001b[0m\u001b[0m\n\u001b[1;32m     21\u001b[0m         \u001b[0mnew_training_data\u001b[0m \u001b[0;34m=\u001b[0m \u001b[0mtraining_data\u001b[0m\u001b[0;34m[\u001b[0m\u001b[0mtraining_data\u001b[0m\u001b[0;34m[\u001b[0m\u001b[0mkey\u001b[0m\u001b[0;34m]\u001b[0m \u001b[0;34m!=\u001b[0m \u001b[0mvalue\u001b[0m\u001b[0;34m]\u001b[0m\u001b[0;34m\u001b[0m\u001b[0;34m\u001b[0m\u001b[0m\n",
        "\u001b[0;31mTypeError\u001b[0m: 'NoneType' object is not subscriptable"
       ]
      }
     ],
     "persistentId": "3fb2e02b-65bc-43bb-b372-a207226bdce4",
     "text": "b = persistent_spliter_choice(training_data=dataset, target='bought')"
    },
    "executionTime": "2020-02-08T10:44:28.985Z"
   },
   {
    "cell": {
     "executionCount": 92,
     "executionEventId": "a10c3bb2-7bb7-4ee1-ab53-36103bcf6774",
     "hasError": false,
     "id": "5bb8ef8a-0acc-42a9-8366-07cbad69be0a",
     "outputs": [],
     "persistentId": "3292e0e6-21e1-40ec-88e9-f272265075ab",
     "text": "def persistent_spliter_choice(training_data: pd.DataFrame, target: str, count=0, spilter_list=None):\n\n    #设置递归终止条件 \n    print(Counter(training_data[target]))\n    if len(Counter(training_data[target])) == 1:\n        \n        return spliter_list\n    \n    if count == 0:\n        spilter_list = {}\n        new_training_data = training_data\n        \n        a_spiliter_choice = find_the_optimal_spilter(training_data = training_data, target = target)\n        count = count + 1\n        spilter_list[\"第\"+str(count)+\"次特征选择\"] = a_spiliter_choice\n\n    else:\n        #因为已经找到了最佳的分割点，有一方无法继续分割，向另外一方继续分割\n#         print(spilter_list[\"第\"+str(count-1)+\"次特征选择\"][0])\n#         print(spilter_list[\"第\"+str(count-1)+\"次特征选择\"][1])\n        key = spilter_list[\"第\"+str(count)+\"次特征选择\"][0]\n        value = spilter_list[\"第\"+str(count)+\"次特征选择\"][1]\n        new_training_data = training_data[training_data[key] != value]\n        a_spiliter_choice = find_the_optimal_spilter(training_data = new_training_data, target = target)\n        count = count + 1\n        spilter_list[\"第\"+str(count)+\"次特征选择\"] = a_spiliter_choice\n        \n  \n\n    return persistent_spliter_choice(training_data = new_training_data,target=target,count = count,spilter_list=spilter_list)"
    },
    "executionTime": "2020-02-08T10:45:43.957Z"
   },
   {
    "cell": {
     "executionCount": 93,
     "executionEventId": "3f8449af-b8d3-40ef-ab6e-0567d179aa60",
     "hasError": true,
     "id": "b0b688d7-31eb-4cab-98da-6d028d128a68",
     "outputs": [
      {
       "name": "stderr",
       "output_type": "stream",
       "text": "ic| f: 'family_number'\nic| values: {1, 2}\nic| f: 'gender'\nic| values: {'F', 'M'}\nic| f: 'income'\nic| values: {'+10', '-10'}\nic| f: 'family_number'\nic| values: {1, 2}\nic| f: 'gender'\nic| values: {'F', 'M'}\nic| f: 'income'\nic| values: {'+10'}\nic| f: 'family_number'\nic| values: {1}\nic| f: 'gender'\nic| values: {'F', 'M'}\n"
      },
      {
       "name": "stdout",
       "output_type": "stream",
       "text": "Counter({1: 4, 0: 3})\nspliter is: ('income', '-10')\nthe min entropy is: 0.6730116670092565\nCounter({1: 4, 0: 3})\nspliter is: ('family_number', 2)\nthe min entropy is: 0.5623351446188083\nCounter({0: 3, 1: 2})\n"
      },
      {
       "name": "stderr",
       "output_type": "stream",
       "text": "ic| f: 'income'\nic| values: {'+10'}\nic| f: 'family_number'\nic| values: set()\nic| f: 'gender'\nic| values: set()\nic| f: 'income'\nic| values: set()\n"
      },
      {
       "name": "stdout",
       "output_type": "stream",
       "text": "spliter is: ('income', '+10')\nthe min entropy is: 0.5623351446188083\nCounter({0: 3, 1: 1})\nspliter is: None\nthe min entropy is: inf\nCounter()\n"
      },
      {
       "ename": "TypeError",
       "evalue": "'NoneType' object is not subscriptable",
       "output_type": "error",
       "traceback": [
        "\u001b[0;31m---------------------------------------------------------------------------\u001b[0m",
        "\u001b[0;31mTypeError\u001b[0m                                 Traceback (most recent call last)",
        "\u001b[0;32m<ipython-input-93-ccaaa46ac2eb>\u001b[0m in \u001b[0;36m<module>\u001b[0;34m\u001b[0m\n\u001b[0;32m----> 1\u001b[0;31m \u001b[0mb\u001b[0m \u001b[0;34m=\u001b[0m \u001b[0mpersistent_spliter_choice\u001b[0m\u001b[0;34m(\u001b[0m\u001b[0mtraining_data\u001b[0m\u001b[0;34m=\u001b[0m\u001b[0mdataset\u001b[0m\u001b[0;34m,\u001b[0m \u001b[0mtarget\u001b[0m\u001b[0;34m=\u001b[0m\u001b[0;34m'bought'\u001b[0m\u001b[0;34m)\u001b[0m\u001b[0;34m\u001b[0m\u001b[0;34m\u001b[0m\u001b[0m\n\u001b[0m",
        "\u001b[0;32m<ipython-input-92-5da57f19b03f>\u001b[0m in \u001b[0;36mpersistent_spliter_choice\u001b[0;34m(training_data, target, count, spilter_list)\u001b[0m\n\u001b[1;32m     28\u001b[0m \u001b[0;34m\u001b[0m\u001b[0m\n\u001b[1;32m     29\u001b[0m \u001b[0;34m\u001b[0m\u001b[0m\n\u001b[0;32m---> 30\u001b[0;31m     \u001b[0;32mreturn\u001b[0m \u001b[0mpersistent_spliter_choice\u001b[0m\u001b[0;34m(\u001b[0m\u001b[0mtraining_data\u001b[0m \u001b[0;34m=\u001b[0m \u001b[0mnew_training_data\u001b[0m\u001b[0;34m,\u001b[0m\u001b[0mtarget\u001b[0m\u001b[0;34m=\u001b[0m\u001b[0mtarget\u001b[0m\u001b[0;34m,\u001b[0m\u001b[0mcount\u001b[0m \u001b[0;34m=\u001b[0m \u001b[0mcount\u001b[0m\u001b[0;34m,\u001b[0m\u001b[0mspilter_list\u001b[0m\u001b[0;34m=\u001b[0m\u001b[0mspilter_list\u001b[0m\u001b[0;34m)\u001b[0m\u001b[0;34m\u001b[0m\u001b[0;34m\u001b[0m\u001b[0m\n\u001b[0m",
        "\u001b[0;32m<ipython-input-92-5da57f19b03f>\u001b[0m in \u001b[0;36mpersistent_spliter_choice\u001b[0;34m(training_data, target, count, spilter_list)\u001b[0m\n\u001b[1;32m     28\u001b[0m \u001b[0;34m\u001b[0m\u001b[0m\n\u001b[1;32m     29\u001b[0m \u001b[0;34m\u001b[0m\u001b[0m\n\u001b[0;32m---> 30\u001b[0;31m     \u001b[0;32mreturn\u001b[0m \u001b[0mpersistent_spliter_choice\u001b[0m\u001b[0;34m(\u001b[0m\u001b[0mtraining_data\u001b[0m \u001b[0;34m=\u001b[0m \u001b[0mnew_training_data\u001b[0m\u001b[0;34m,\u001b[0m\u001b[0mtarget\u001b[0m\u001b[0;34m=\u001b[0m\u001b[0mtarget\u001b[0m\u001b[0;34m,\u001b[0m\u001b[0mcount\u001b[0m \u001b[0;34m=\u001b[0m \u001b[0mcount\u001b[0m\u001b[0;34m,\u001b[0m\u001b[0mspilter_list\u001b[0m\u001b[0;34m=\u001b[0m\u001b[0mspilter_list\u001b[0m\u001b[0;34m)\u001b[0m\u001b[0;34m\u001b[0m\u001b[0;34m\u001b[0m\u001b[0m\n\u001b[0m",
        "\u001b[0;32m<ipython-input-92-5da57f19b03f>\u001b[0m in \u001b[0;36mpersistent_spliter_choice\u001b[0;34m(training_data, target, count, spilter_list)\u001b[0m\n\u001b[1;32m     28\u001b[0m \u001b[0;34m\u001b[0m\u001b[0m\n\u001b[1;32m     29\u001b[0m \u001b[0;34m\u001b[0m\u001b[0m\n\u001b[0;32m---> 30\u001b[0;31m     \u001b[0;32mreturn\u001b[0m \u001b[0mpersistent_spliter_choice\u001b[0m\u001b[0;34m(\u001b[0m\u001b[0mtraining_data\u001b[0m \u001b[0;34m=\u001b[0m \u001b[0mnew_training_data\u001b[0m\u001b[0;34m,\u001b[0m\u001b[0mtarget\u001b[0m\u001b[0;34m=\u001b[0m\u001b[0mtarget\u001b[0m\u001b[0;34m,\u001b[0m\u001b[0mcount\u001b[0m \u001b[0;34m=\u001b[0m \u001b[0mcount\u001b[0m\u001b[0;34m,\u001b[0m\u001b[0mspilter_list\u001b[0m\u001b[0;34m=\u001b[0m\u001b[0mspilter_list\u001b[0m\u001b[0;34m)\u001b[0m\u001b[0;34m\u001b[0m\u001b[0;34m\u001b[0m\u001b[0m\n\u001b[0m",
        "\u001b[0;32m<ipython-input-92-5da57f19b03f>\u001b[0m in \u001b[0;36mpersistent_spliter_choice\u001b[0;34m(training_data, target, count, spilter_list)\u001b[0m\n\u001b[1;32m     28\u001b[0m \u001b[0;34m\u001b[0m\u001b[0m\n\u001b[1;32m     29\u001b[0m \u001b[0;34m\u001b[0m\u001b[0m\n\u001b[0;32m---> 30\u001b[0;31m     \u001b[0;32mreturn\u001b[0m \u001b[0mpersistent_spliter_choice\u001b[0m\u001b[0;34m(\u001b[0m\u001b[0mtraining_data\u001b[0m \u001b[0;34m=\u001b[0m \u001b[0mnew_training_data\u001b[0m\u001b[0;34m,\u001b[0m\u001b[0mtarget\u001b[0m\u001b[0;34m=\u001b[0m\u001b[0mtarget\u001b[0m\u001b[0;34m,\u001b[0m\u001b[0mcount\u001b[0m \u001b[0;34m=\u001b[0m \u001b[0mcount\u001b[0m\u001b[0;34m,\u001b[0m\u001b[0mspilter_list\u001b[0m\u001b[0;34m=\u001b[0m\u001b[0mspilter_list\u001b[0m\u001b[0;34m)\u001b[0m\u001b[0;34m\u001b[0m\u001b[0;34m\u001b[0m\u001b[0m\n\u001b[0m",
        "\u001b[0;32m<ipython-input-92-5da57f19b03f>\u001b[0m in \u001b[0;36mpersistent_spliter_choice\u001b[0;34m(training_data, target, count, spilter_list)\u001b[0m\n\u001b[1;32m     19\u001b[0m \u001b[0;31m#         print(spilter_list[\"第\"+str(count-1)+\"次特征选择\"][0])\u001b[0m\u001b[0;34m\u001b[0m\u001b[0;34m\u001b[0m\u001b[0;34m\u001b[0m\u001b[0m\n\u001b[1;32m     20\u001b[0m \u001b[0;31m#         print(spilter_list[\"第\"+str(count-1)+\"次特征选择\"][1])\u001b[0m\u001b[0;34m\u001b[0m\u001b[0;34m\u001b[0m\u001b[0;34m\u001b[0m\u001b[0m\n\u001b[0;32m---> 21\u001b[0;31m         \u001b[0mkey\u001b[0m \u001b[0;34m=\u001b[0m \u001b[0mspilter_list\u001b[0m\u001b[0;34m[\u001b[0m\u001b[0;34m\"第\"\u001b[0m\u001b[0;34m+\u001b[0m\u001b[0mstr\u001b[0m\u001b[0;34m(\u001b[0m\u001b[0mcount\u001b[0m\u001b[0;34m)\u001b[0m\u001b[0;34m+\u001b[0m\u001b[0;34m\"次特征选择\"\u001b[0m\u001b[0;34m]\u001b[0m\u001b[0;34m[\u001b[0m\u001b[0;36m0\u001b[0m\u001b[0;34m]\u001b[0m\u001b[0;34m\u001b[0m\u001b[0;34m\u001b[0m\u001b[0m\n\u001b[0m\u001b[1;32m     22\u001b[0m         \u001b[0mvalue\u001b[0m \u001b[0;34m=\u001b[0m \u001b[0mspilter_list\u001b[0m\u001b[0;34m[\u001b[0m\u001b[0;34m\"第\"\u001b[0m\u001b[0;34m+\u001b[0m\u001b[0mstr\u001b[0m\u001b[0;34m(\u001b[0m\u001b[0mcount\u001b[0m\u001b[0;34m)\u001b[0m\u001b[0;34m+\u001b[0m\u001b[0;34m\"次特征选择\"\u001b[0m\u001b[0;34m]\u001b[0m\u001b[0;34m[\u001b[0m\u001b[0;36m1\u001b[0m\u001b[0;34m]\u001b[0m\u001b[0;34m\u001b[0m\u001b[0;34m\u001b[0m\u001b[0m\n\u001b[1;32m     23\u001b[0m         \u001b[0mnew_training_data\u001b[0m \u001b[0;34m=\u001b[0m \u001b[0mtraining_data\u001b[0m\u001b[0;34m[\u001b[0m\u001b[0mtraining_data\u001b[0m\u001b[0;34m[\u001b[0m\u001b[0mkey\u001b[0m\u001b[0;34m]\u001b[0m \u001b[0;34m!=\u001b[0m \u001b[0mvalue\u001b[0m\u001b[0;34m]\u001b[0m\u001b[0;34m\u001b[0m\u001b[0;34m\u001b[0m\u001b[0m\n",
        "\u001b[0;31mTypeError\u001b[0m: 'NoneType' object is not subscriptable"
       ]
      }
     ],
     "persistentId": "3fb2e02b-65bc-43bb-b372-a207226bdce4",
     "text": "b = persistent_spliter_choice(training_data=dataset, target='bought')"
    },
    "executionTime": "2020-02-08T10:45:44.784Z"
   },
   {
    "cell": {
     "executionCount": 94,
     "executionEventId": "d2d0a663-6112-47f3-bfcf-8e845c98ce59",
     "hasError": false,
     "id": "5bb8ef8a-0acc-42a9-8366-07cbad69be0a",
     "outputs": [],
     "persistentId": "3292e0e6-21e1-40ec-88e9-f272265075ab",
     "text": "def persistent_spliter_choice(training_data: pd.DataFrame, target: str, count=0, spilter_list=None):\n\n    #设置递归终止条件 \n    print(len(Counter(training_data[target])))\n    if len(Counter(training_data[target])) == 1:\n        \n        return spliter_list\n    \n    if count == 0:\n        spilter_list = {}\n        new_training_data = training_data\n        \n        a_spiliter_choice = find_the_optimal_spilter(training_data = training_data, target = target)\n        count = count + 1\n        spilter_list[\"第\"+str(count)+\"次特征选择\"] = a_spiliter_choice\n\n    else:\n        #因为已经找到了最佳的分割点，有一方无法继续分割，向另外一方继续分割\n#         print(spilter_list[\"第\"+str(count-1)+\"次特征选择\"][0])\n#         print(spilter_list[\"第\"+str(count-1)+\"次特征选择\"][1])\n        key = spilter_list[\"第\"+str(count)+\"次特征选择\"][0]\n        value = spilter_list[\"第\"+str(count)+\"次特征选择\"][1]\n        new_training_data = training_data[training_data[key] != value]\n        a_spiliter_choice = find_the_optimal_spilter(training_data = new_training_data, target = target)\n        count = count + 1\n        spilter_list[\"第\"+str(count)+\"次特征选择\"] = a_spiliter_choice\n        \n  \n\n    return persistent_spliter_choice(training_data = new_training_data,target=target,count = count,spilter_list=spilter_list)"
    },
    "executionTime": "2020-02-08T10:46:09.829Z"
   },
   {
    "cell": {
     "executionCount": 95,
     "executionEventId": "36791c91-a9a2-40c0-8e88-8450f664c4cd",
     "hasError": true,
     "id": "b0b688d7-31eb-4cab-98da-6d028d128a68",
     "outputs": [
      {
       "name": "stderr",
       "output_type": "stream",
       "text": "ic| f: 'family_number'\nic| values: {1, 2}\nic| f: 'gender'\nic| values: {'F', 'M'}\nic| f: 'income'\nic| values: {'+10', '-10'}\nic| f: 'family_number'\nic| values: {1, 2}\nic| f: 'gender'\nic| values: {'F', 'M'}\nic| f: 'income'\nic| values: {'+10'}\nic| f: 'family_number'\nic| values: {1}\nic| f: 'gender'\nic| values: {'F', 'M'}\n"
      },
      {
       "name": "stdout",
       "output_type": "stream",
       "text": "2\nspliter is: ('income', '-10')\nthe min entropy is: 0.6730116670092565\n2\nspliter is: ('family_number', 2)\nthe min entropy is: 0.5623351446188083\n2\n"
      },
      {
       "name": "stderr",
       "output_type": "stream",
       "text": "ic| f: 'income'\nic| values: {'+10'}\nic| f: 'family_number'\nic| values: set()\nic| f: 'gender'\nic| values: set()\nic| f: 'income'\nic| values: set()\n"
      },
      {
       "name": "stdout",
       "output_type": "stream",
       "text": "spliter is: ('income', '+10')\nthe min entropy is: 0.5623351446188083\n2\nspliter is: None\nthe min entropy is: inf\n0\n"
      },
      {
       "ename": "TypeError",
       "evalue": "'NoneType' object is not subscriptable",
       "output_type": "error",
       "traceback": [
        "\u001b[0;31m---------------------------------------------------------------------------\u001b[0m",
        "\u001b[0;31mTypeError\u001b[0m                                 Traceback (most recent call last)",
        "\u001b[0;32m<ipython-input-95-ccaaa46ac2eb>\u001b[0m in \u001b[0;36m<module>\u001b[0;34m\u001b[0m\n\u001b[0;32m----> 1\u001b[0;31m \u001b[0mb\u001b[0m \u001b[0;34m=\u001b[0m \u001b[0mpersistent_spliter_choice\u001b[0m\u001b[0;34m(\u001b[0m\u001b[0mtraining_data\u001b[0m\u001b[0;34m=\u001b[0m\u001b[0mdataset\u001b[0m\u001b[0;34m,\u001b[0m \u001b[0mtarget\u001b[0m\u001b[0;34m=\u001b[0m\u001b[0;34m'bought'\u001b[0m\u001b[0;34m)\u001b[0m\u001b[0;34m\u001b[0m\u001b[0;34m\u001b[0m\u001b[0m\n\u001b[0m",
        "\u001b[0;32m<ipython-input-94-540480feb97b>\u001b[0m in \u001b[0;36mpersistent_spliter_choice\u001b[0;34m(training_data, target, count, spilter_list)\u001b[0m\n\u001b[1;32m     28\u001b[0m \u001b[0;34m\u001b[0m\u001b[0m\n\u001b[1;32m     29\u001b[0m \u001b[0;34m\u001b[0m\u001b[0m\n\u001b[0;32m---> 30\u001b[0;31m     \u001b[0;32mreturn\u001b[0m \u001b[0mpersistent_spliter_choice\u001b[0m\u001b[0;34m(\u001b[0m\u001b[0mtraining_data\u001b[0m \u001b[0;34m=\u001b[0m \u001b[0mnew_training_data\u001b[0m\u001b[0;34m,\u001b[0m\u001b[0mtarget\u001b[0m\u001b[0;34m=\u001b[0m\u001b[0mtarget\u001b[0m\u001b[0;34m,\u001b[0m\u001b[0mcount\u001b[0m \u001b[0;34m=\u001b[0m \u001b[0mcount\u001b[0m\u001b[0;34m,\u001b[0m\u001b[0mspilter_list\u001b[0m\u001b[0;34m=\u001b[0m\u001b[0mspilter_list\u001b[0m\u001b[0;34m)\u001b[0m\u001b[0;34m\u001b[0m\u001b[0;34m\u001b[0m\u001b[0m\n\u001b[0m",
        "\u001b[0;32m<ipython-input-94-540480feb97b>\u001b[0m in \u001b[0;36mpersistent_spliter_choice\u001b[0;34m(training_data, target, count, spilter_list)\u001b[0m\n\u001b[1;32m     28\u001b[0m \u001b[0;34m\u001b[0m\u001b[0m\n\u001b[1;32m     29\u001b[0m \u001b[0;34m\u001b[0m\u001b[0m\n\u001b[0;32m---> 30\u001b[0;31m     \u001b[0;32mreturn\u001b[0m \u001b[0mpersistent_spliter_choice\u001b[0m\u001b[0;34m(\u001b[0m\u001b[0mtraining_data\u001b[0m \u001b[0;34m=\u001b[0m \u001b[0mnew_training_data\u001b[0m\u001b[0;34m,\u001b[0m\u001b[0mtarget\u001b[0m\u001b[0;34m=\u001b[0m\u001b[0mtarget\u001b[0m\u001b[0;34m,\u001b[0m\u001b[0mcount\u001b[0m \u001b[0;34m=\u001b[0m \u001b[0mcount\u001b[0m\u001b[0;34m,\u001b[0m\u001b[0mspilter_list\u001b[0m\u001b[0;34m=\u001b[0m\u001b[0mspilter_list\u001b[0m\u001b[0;34m)\u001b[0m\u001b[0;34m\u001b[0m\u001b[0;34m\u001b[0m\u001b[0m\n\u001b[0m",
        "\u001b[0;32m<ipython-input-94-540480feb97b>\u001b[0m in \u001b[0;36mpersistent_spliter_choice\u001b[0;34m(training_data, target, count, spilter_list)\u001b[0m\n\u001b[1;32m     28\u001b[0m \u001b[0;34m\u001b[0m\u001b[0m\n\u001b[1;32m     29\u001b[0m \u001b[0;34m\u001b[0m\u001b[0m\n\u001b[0;32m---> 30\u001b[0;31m     \u001b[0;32mreturn\u001b[0m \u001b[0mpersistent_spliter_choice\u001b[0m\u001b[0;34m(\u001b[0m\u001b[0mtraining_data\u001b[0m \u001b[0;34m=\u001b[0m \u001b[0mnew_training_data\u001b[0m\u001b[0;34m,\u001b[0m\u001b[0mtarget\u001b[0m\u001b[0;34m=\u001b[0m\u001b[0mtarget\u001b[0m\u001b[0;34m,\u001b[0m\u001b[0mcount\u001b[0m \u001b[0;34m=\u001b[0m \u001b[0mcount\u001b[0m\u001b[0;34m,\u001b[0m\u001b[0mspilter_list\u001b[0m\u001b[0;34m=\u001b[0m\u001b[0mspilter_list\u001b[0m\u001b[0;34m)\u001b[0m\u001b[0;34m\u001b[0m\u001b[0;34m\u001b[0m\u001b[0m\n\u001b[0m",
        "\u001b[0;32m<ipython-input-94-540480feb97b>\u001b[0m in \u001b[0;36mpersistent_spliter_choice\u001b[0;34m(training_data, target, count, spilter_list)\u001b[0m\n\u001b[1;32m     28\u001b[0m \u001b[0;34m\u001b[0m\u001b[0m\n\u001b[1;32m     29\u001b[0m \u001b[0;34m\u001b[0m\u001b[0m\n\u001b[0;32m---> 30\u001b[0;31m     \u001b[0;32mreturn\u001b[0m \u001b[0mpersistent_spliter_choice\u001b[0m\u001b[0;34m(\u001b[0m\u001b[0mtraining_data\u001b[0m \u001b[0;34m=\u001b[0m \u001b[0mnew_training_data\u001b[0m\u001b[0;34m,\u001b[0m\u001b[0mtarget\u001b[0m\u001b[0;34m=\u001b[0m\u001b[0mtarget\u001b[0m\u001b[0;34m,\u001b[0m\u001b[0mcount\u001b[0m \u001b[0;34m=\u001b[0m \u001b[0mcount\u001b[0m\u001b[0;34m,\u001b[0m\u001b[0mspilter_list\u001b[0m\u001b[0;34m=\u001b[0m\u001b[0mspilter_list\u001b[0m\u001b[0;34m)\u001b[0m\u001b[0;34m\u001b[0m\u001b[0;34m\u001b[0m\u001b[0m\n\u001b[0m",
        "\u001b[0;32m<ipython-input-94-540480feb97b>\u001b[0m in \u001b[0;36mpersistent_spliter_choice\u001b[0;34m(training_data, target, count, spilter_list)\u001b[0m\n\u001b[1;32m     19\u001b[0m \u001b[0;31m#         print(spilter_list[\"第\"+str(count-1)+\"次特征选择\"][0])\u001b[0m\u001b[0;34m\u001b[0m\u001b[0;34m\u001b[0m\u001b[0;34m\u001b[0m\u001b[0m\n\u001b[1;32m     20\u001b[0m \u001b[0;31m#         print(spilter_list[\"第\"+str(count-1)+\"次特征选择\"][1])\u001b[0m\u001b[0;34m\u001b[0m\u001b[0;34m\u001b[0m\u001b[0;34m\u001b[0m\u001b[0m\n\u001b[0;32m---> 21\u001b[0;31m         \u001b[0mkey\u001b[0m \u001b[0;34m=\u001b[0m \u001b[0mspilter_list\u001b[0m\u001b[0;34m[\u001b[0m\u001b[0;34m\"第\"\u001b[0m\u001b[0;34m+\u001b[0m\u001b[0mstr\u001b[0m\u001b[0;34m(\u001b[0m\u001b[0mcount\u001b[0m\u001b[0;34m)\u001b[0m\u001b[0;34m+\u001b[0m\u001b[0;34m\"次特征选择\"\u001b[0m\u001b[0;34m]\u001b[0m\u001b[0;34m[\u001b[0m\u001b[0;36m0\u001b[0m\u001b[0;34m]\u001b[0m\u001b[0;34m\u001b[0m\u001b[0;34m\u001b[0m\u001b[0m\n\u001b[0m\u001b[1;32m     22\u001b[0m         \u001b[0mvalue\u001b[0m \u001b[0;34m=\u001b[0m \u001b[0mspilter_list\u001b[0m\u001b[0;34m[\u001b[0m\u001b[0;34m\"第\"\u001b[0m\u001b[0;34m+\u001b[0m\u001b[0mstr\u001b[0m\u001b[0;34m(\u001b[0m\u001b[0mcount\u001b[0m\u001b[0;34m)\u001b[0m\u001b[0;34m+\u001b[0m\u001b[0;34m\"次特征选择\"\u001b[0m\u001b[0;34m]\u001b[0m\u001b[0;34m[\u001b[0m\u001b[0;36m1\u001b[0m\u001b[0;34m]\u001b[0m\u001b[0;34m\u001b[0m\u001b[0;34m\u001b[0m\u001b[0m\n\u001b[1;32m     23\u001b[0m         \u001b[0mnew_training_data\u001b[0m \u001b[0;34m=\u001b[0m \u001b[0mtraining_data\u001b[0m\u001b[0;34m[\u001b[0m\u001b[0mtraining_data\u001b[0m\u001b[0;34m[\u001b[0m\u001b[0mkey\u001b[0m\u001b[0;34m]\u001b[0m \u001b[0;34m!=\u001b[0m \u001b[0mvalue\u001b[0m\u001b[0;34m]\u001b[0m\u001b[0;34m\u001b[0m\u001b[0;34m\u001b[0m\u001b[0m\n",
        "\u001b[0;31mTypeError\u001b[0m: 'NoneType' object is not subscriptable"
       ]
      }
     ],
     "persistentId": "3fb2e02b-65bc-43bb-b372-a207226bdce4",
     "text": "b = persistent_spliter_choice(training_data=dataset, target='bought')"
    },
    "executionTime": "2020-02-08T10:46:10.660Z"
   },
   {
    "cell": {
     "executionCount": 96,
     "executionEventId": "586323d3-637a-4073-808c-fcedb77888d4",
     "hasError": true,
     "id": "5bb8ef8a-0acc-42a9-8366-07cbad69be0a",
     "outputs": [
      {
       "ename": "SyntaxError",
       "evalue": "invalid character in identifier (<ipython-input-96-94f0f3797bcb>, line 24)",
       "output_type": "error",
       "traceback": [
        "\u001b[0;36m  File \u001b[0;32m\"<ipython-input-96-94f0f3797bcb>\"\u001b[0;36m, line \u001b[0;32m24\u001b[0m\n\u001b[0;31m    if a_spiliter_choice == None：\u001b[0m\n\u001b[0m                                ^\u001b[0m\n\u001b[0;31mSyntaxError\u001b[0m\u001b[0;31m:\u001b[0m invalid character in identifier\n"
       ]
      }
     ],
     "persistentId": "3292e0e6-21e1-40ec-88e9-f272265075ab",
     "text": "def persistent_spliter_choice(training_data: pd.DataFrame, target: str, count=0, spilter_list=None):\n     \n    if count == 0:\n        spilter_list = {}\n        new_training_data = training_data\n        \n        a_spiliter_choice = find_the_optimal_spilter(training_data = training_data, target = target)\n        count = count + 1\n        spilter_list[\"第\"+str(count)+\"次特征选择\"] = a_spiliter_choice\n\n    else:\n        #因为已经找到了最佳的分割点，有一方无法继续分割，向另外一方继续分割\n#         print(spilter_list[\"第\"+str(count-1)+\"次特征选择\"][0])\n#         print(spilter_list[\"第\"+str(count-1)+\"次特征选择\"][1])\n        key = spilter_list[\"第\"+str(count)+\"次特征选择\"][0]\n        value = spilter_list[\"第\"+str(count)+\"次特征选择\"][1]\n        \n        new_training_data = training_data[training_data[key] != value]\n        a_spiliter_choice = find_the_optimal_spilter(training_data = new_training_data, target = target)\n        count = count + 1\n        spilter_list[\"第\"+str(count)+\"次特征选择\"] = a_spiliter_choice\n        \n        #设置递归终止条件\n        if a_spiliter_choice == None：\n            return spilter_list\n        \n  \n\n    return persistent_spliter_choice(training_data = new_training_data,target=target,count = count,spilter_list=spilter_list)"
    },
    "executionTime": "2020-02-08T10:51:16.307Z"
   },
   {
    "cell": {
     "executionCount": 97,
     "executionEventId": "82c43307-a1eb-477b-ba8f-1ad5ef62d45d",
     "hasError": true,
     "id": "b0b688d7-31eb-4cab-98da-6d028d128a68",
     "outputs": [
      {
       "name": "stderr",
       "output_type": "stream",
       "text": "ic| f: 'family_number'\nic| values: {1, 2}\nic| f: 'gender'\nic| values: {'F', 'M'}\nic| f: 'income'\nic| values: {'+10', '-10'}\nic| f: 'family_number'\nic| values: {1, 2}\nic| f: 'gender'\nic| values: {'F', 'M'}\nic| f: 'income'\nic| values: {'+10'}\nic| f: 'family_number'\nic| values: {1}\nic| f: 'gender'\n"
      },
      {
       "name": "stdout",
       "output_type": "stream",
       "text": "2\nspliter is: ('income', '-10')\nthe min entropy is: 0.6730116670092565\n2\nspliter is: ('family_number', 2)\nthe min entropy is: 0.5623351446188083\n2\n"
      },
      {
       "name": "stderr",
       "output_type": "stream",
       "text": "ic| values: {'F', 'M'}\nic| f: 'income'\nic| values: {'+10'}\nic| f: 'family_number'\nic| values: set()\nic| f: 'gender'\nic| values: set()\nic| f: 'income'\nic| values: set()\n"
      },
      {
       "name": "stdout",
       "output_type": "stream",
       "text": "spliter is: ('income', '+10')\nthe min entropy is: 0.5623351446188083\n2\nspliter is: None\nthe min entropy is: inf\n0\n"
      },
      {
       "ename": "TypeError",
       "evalue": "'NoneType' object is not subscriptable",
       "output_type": "error",
       "traceback": [
        "\u001b[0;31m---------------------------------------------------------------------------\u001b[0m",
        "\u001b[0;31mTypeError\u001b[0m                                 Traceback (most recent call last)",
        "\u001b[0;32m<ipython-input-97-ccaaa46ac2eb>\u001b[0m in \u001b[0;36m<module>\u001b[0;34m\u001b[0m\n\u001b[0;32m----> 1\u001b[0;31m \u001b[0mb\u001b[0m \u001b[0;34m=\u001b[0m \u001b[0mpersistent_spliter_choice\u001b[0m\u001b[0;34m(\u001b[0m\u001b[0mtraining_data\u001b[0m\u001b[0;34m=\u001b[0m\u001b[0mdataset\u001b[0m\u001b[0;34m,\u001b[0m \u001b[0mtarget\u001b[0m\u001b[0;34m=\u001b[0m\u001b[0;34m'bought'\u001b[0m\u001b[0;34m)\u001b[0m\u001b[0;34m\u001b[0m\u001b[0;34m\u001b[0m\u001b[0m\n\u001b[0m",
        "\u001b[0;32m<ipython-input-94-540480feb97b>\u001b[0m in \u001b[0;36mpersistent_spliter_choice\u001b[0;34m(training_data, target, count, spilter_list)\u001b[0m\n\u001b[1;32m     28\u001b[0m \u001b[0;34m\u001b[0m\u001b[0m\n\u001b[1;32m     29\u001b[0m \u001b[0;34m\u001b[0m\u001b[0m\n\u001b[0;32m---> 30\u001b[0;31m     \u001b[0;32mreturn\u001b[0m \u001b[0mpersistent_spliter_choice\u001b[0m\u001b[0;34m(\u001b[0m\u001b[0mtraining_data\u001b[0m \u001b[0;34m=\u001b[0m \u001b[0mnew_training_data\u001b[0m\u001b[0;34m,\u001b[0m\u001b[0mtarget\u001b[0m\u001b[0;34m=\u001b[0m\u001b[0mtarget\u001b[0m\u001b[0;34m,\u001b[0m\u001b[0mcount\u001b[0m \u001b[0;34m=\u001b[0m \u001b[0mcount\u001b[0m\u001b[0;34m,\u001b[0m\u001b[0mspilter_list\u001b[0m\u001b[0;34m=\u001b[0m\u001b[0mspilter_list\u001b[0m\u001b[0;34m)\u001b[0m\u001b[0;34m\u001b[0m\u001b[0;34m\u001b[0m\u001b[0m\n\u001b[0m",
        "\u001b[0;32m<ipython-input-94-540480feb97b>\u001b[0m in \u001b[0;36mpersistent_spliter_choice\u001b[0;34m(training_data, target, count, spilter_list)\u001b[0m\n\u001b[1;32m     28\u001b[0m \u001b[0;34m\u001b[0m\u001b[0m\n\u001b[1;32m     29\u001b[0m \u001b[0;34m\u001b[0m\u001b[0m\n\u001b[0;32m---> 30\u001b[0;31m     \u001b[0;32mreturn\u001b[0m \u001b[0mpersistent_spliter_choice\u001b[0m\u001b[0;34m(\u001b[0m\u001b[0mtraining_data\u001b[0m \u001b[0;34m=\u001b[0m \u001b[0mnew_training_data\u001b[0m\u001b[0;34m,\u001b[0m\u001b[0mtarget\u001b[0m\u001b[0;34m=\u001b[0m\u001b[0mtarget\u001b[0m\u001b[0;34m,\u001b[0m\u001b[0mcount\u001b[0m \u001b[0;34m=\u001b[0m \u001b[0mcount\u001b[0m\u001b[0;34m,\u001b[0m\u001b[0mspilter_list\u001b[0m\u001b[0;34m=\u001b[0m\u001b[0mspilter_list\u001b[0m\u001b[0;34m)\u001b[0m\u001b[0;34m\u001b[0m\u001b[0;34m\u001b[0m\u001b[0m\n\u001b[0m",
        "\u001b[0;32m<ipython-input-94-540480feb97b>\u001b[0m in \u001b[0;36mpersistent_spliter_choice\u001b[0;34m(training_data, target, count, spilter_list)\u001b[0m\n\u001b[1;32m     28\u001b[0m \u001b[0;34m\u001b[0m\u001b[0m\n\u001b[1;32m     29\u001b[0m \u001b[0;34m\u001b[0m\u001b[0m\n\u001b[0;32m---> 30\u001b[0;31m     \u001b[0;32mreturn\u001b[0m \u001b[0mpersistent_spliter_choice\u001b[0m\u001b[0;34m(\u001b[0m\u001b[0mtraining_data\u001b[0m \u001b[0;34m=\u001b[0m \u001b[0mnew_training_data\u001b[0m\u001b[0;34m,\u001b[0m\u001b[0mtarget\u001b[0m\u001b[0;34m=\u001b[0m\u001b[0mtarget\u001b[0m\u001b[0;34m,\u001b[0m\u001b[0mcount\u001b[0m \u001b[0;34m=\u001b[0m \u001b[0mcount\u001b[0m\u001b[0;34m,\u001b[0m\u001b[0mspilter_list\u001b[0m\u001b[0;34m=\u001b[0m\u001b[0mspilter_list\u001b[0m\u001b[0;34m)\u001b[0m\u001b[0;34m\u001b[0m\u001b[0;34m\u001b[0m\u001b[0m\n\u001b[0m",
        "\u001b[0;32m<ipython-input-94-540480feb97b>\u001b[0m in \u001b[0;36mpersistent_spliter_choice\u001b[0;34m(training_data, target, count, spilter_list)\u001b[0m\n\u001b[1;32m     28\u001b[0m \u001b[0;34m\u001b[0m\u001b[0m\n\u001b[1;32m     29\u001b[0m \u001b[0;34m\u001b[0m\u001b[0m\n\u001b[0;32m---> 30\u001b[0;31m     \u001b[0;32mreturn\u001b[0m \u001b[0mpersistent_spliter_choice\u001b[0m\u001b[0;34m(\u001b[0m\u001b[0mtraining_data\u001b[0m \u001b[0;34m=\u001b[0m \u001b[0mnew_training_data\u001b[0m\u001b[0;34m,\u001b[0m\u001b[0mtarget\u001b[0m\u001b[0;34m=\u001b[0m\u001b[0mtarget\u001b[0m\u001b[0;34m,\u001b[0m\u001b[0mcount\u001b[0m \u001b[0;34m=\u001b[0m \u001b[0mcount\u001b[0m\u001b[0;34m,\u001b[0m\u001b[0mspilter_list\u001b[0m\u001b[0;34m=\u001b[0m\u001b[0mspilter_list\u001b[0m\u001b[0;34m)\u001b[0m\u001b[0;34m\u001b[0m\u001b[0;34m\u001b[0m\u001b[0m\n\u001b[0m",
        "\u001b[0;32m<ipython-input-94-540480feb97b>\u001b[0m in \u001b[0;36mpersistent_spliter_choice\u001b[0;34m(training_data, target, count, spilter_list)\u001b[0m\n\u001b[1;32m     19\u001b[0m \u001b[0;31m#         print(spilter_list[\"第\"+str(count-1)+\"次特征选择\"][0])\u001b[0m\u001b[0;34m\u001b[0m\u001b[0;34m\u001b[0m\u001b[0;34m\u001b[0m\u001b[0m\n\u001b[1;32m     20\u001b[0m \u001b[0;31m#         print(spilter_list[\"第\"+str(count-1)+\"次特征选择\"][1])\u001b[0m\u001b[0;34m\u001b[0m\u001b[0;34m\u001b[0m\u001b[0;34m\u001b[0m\u001b[0m\n\u001b[0;32m---> 21\u001b[0;31m         \u001b[0mkey\u001b[0m \u001b[0;34m=\u001b[0m \u001b[0mspilter_list\u001b[0m\u001b[0;34m[\u001b[0m\u001b[0;34m\"第\"\u001b[0m\u001b[0;34m+\u001b[0m\u001b[0mstr\u001b[0m\u001b[0;34m(\u001b[0m\u001b[0mcount\u001b[0m\u001b[0;34m)\u001b[0m\u001b[0;34m+\u001b[0m\u001b[0;34m\"次特征选择\"\u001b[0m\u001b[0;34m]\u001b[0m\u001b[0;34m[\u001b[0m\u001b[0;36m0\u001b[0m\u001b[0;34m]\u001b[0m\u001b[0;34m\u001b[0m\u001b[0;34m\u001b[0m\u001b[0m\n\u001b[0m\u001b[1;32m     22\u001b[0m         \u001b[0mvalue\u001b[0m \u001b[0;34m=\u001b[0m \u001b[0mspilter_list\u001b[0m\u001b[0;34m[\u001b[0m\u001b[0;34m\"第\"\u001b[0m\u001b[0;34m+\u001b[0m\u001b[0mstr\u001b[0m\u001b[0;34m(\u001b[0m\u001b[0mcount\u001b[0m\u001b[0;34m)\u001b[0m\u001b[0;34m+\u001b[0m\u001b[0;34m\"次特征选择\"\u001b[0m\u001b[0;34m]\u001b[0m\u001b[0;34m[\u001b[0m\u001b[0;36m1\u001b[0m\u001b[0;34m]\u001b[0m\u001b[0;34m\u001b[0m\u001b[0;34m\u001b[0m\u001b[0m\n\u001b[1;32m     23\u001b[0m         \u001b[0mnew_training_data\u001b[0m \u001b[0;34m=\u001b[0m \u001b[0mtraining_data\u001b[0m\u001b[0;34m[\u001b[0m\u001b[0mtraining_data\u001b[0m\u001b[0;34m[\u001b[0m\u001b[0mkey\u001b[0m\u001b[0;34m]\u001b[0m \u001b[0;34m!=\u001b[0m \u001b[0mvalue\u001b[0m\u001b[0;34m]\u001b[0m\u001b[0;34m\u001b[0m\u001b[0;34m\u001b[0m\u001b[0m\n",
        "\u001b[0;31mTypeError\u001b[0m: 'NoneType' object is not subscriptable"
       ]
      }
     ],
     "persistentId": "3fb2e02b-65bc-43bb-b372-a207226bdce4",
     "text": "b = persistent_spliter_choice(training_data=dataset, target='bought')"
    },
    "executionTime": "2020-02-08T10:51:16.969Z"
   },
   {
    "cell": {
     "executionCount": 98,
     "executionEventId": "53351709-f3ee-47ba-a040-40cf9d223793",
     "hasError": false,
     "id": "5bb8ef8a-0acc-42a9-8366-07cbad69be0a",
     "outputs": [],
     "persistentId": "3292e0e6-21e1-40ec-88e9-f272265075ab",
     "text": "def persistent_spliter_choice(training_data: pd.DataFrame, target: str, count=0, spilter_list=None):\n     \n    if count == 0:\n        spilter_list = {}\n        new_training_data = training_data\n        \n        a_spiliter_choice = find_the_optimal_spilter(training_data = training_data, target = target)\n        count = count + 1\n        spilter_list[\"第\"+str(count)+\"次特征选择\"] = a_spiliter_choice\n\n    else:\n        #因为已经找到了最佳的分割点，有一方无法继续分割，向另外一方继续分割\n#         print(spilter_list[\"第\"+str(count-1)+\"次特征选择\"][0])\n#         print(spilter_list[\"第\"+str(count-1)+\"次特征选择\"][1])\n        key = spilter_list[\"第\"+str(count)+\"次特征选择\"][0]\n        value = spilter_list[\"第\"+str(count)+\"次特征选择\"][1]\n        \n        new_training_data = training_data[training_data[key] != value]\n        a_spiliter_choice = find_the_optimal_spilter(training_data = new_training_data, target = target)\n        count = count + 1\n        spilter_list[\"第\"+str(count)+\"次特征选择\"] = a_spiliter_choice\n        \n        #设置递归终止条件\n        if a_spiliter_choice == None:\n            return spilter_list\n        \n  \n\n    return persistent_spliter_choice(training_data = new_training_data,target=target,count = count,spilter_list=spilter_list)"
    },
    "executionTime": "2020-02-08T10:51:22.629Z"
   },
   {
    "cell": {
     "executionCount": 99,
     "executionEventId": "538c909c-0edb-4528-86fc-bca2b5c429c1",
     "hasError": false,
     "id": "b0b688d7-31eb-4cab-98da-6d028d128a68",
     "outputs": [
      {
       "name": "stderr",
       "output_type": "stream",
       "text": "ic| f: 'family_number'\nic| values: {1, 2}\nic| f: 'gender'\nic| values: {'F', 'M'}\nic| f: 'income'\nic| values: {'+10', '-10'}\nic| f: 'family_number'\nic| values: {1, 2}\nic| f: 'gender'\nic| values: {'F', 'M'}\nic| f: 'income'\nic| values: {'+10'}\nic| f: 'family_number'\nic| values: {1}\nic| f: 'gender'\nic| values: {'F', 'M'}\nic| f: 'income'\nic| values: {'+10'}\nic| f: 'family_number'\nic| values: set()\nic| f: 'gender'\nic| values: set()\nic|"
      },
      {
       "name": "stdout",
       "output_type": "stream",
       "text": "spliter is: ('income', '-10')\nthe min entropy is: 0.6730116670092565\nspliter is: ('family_number', 2)\nthe min entropy is: 0.5623351446188083\nspliter is: ('income', '+10')\nthe min entropy is: 0.5623351446188083\n"
      },
      {
       "name": "stderr",
       "output_type": "stream",
       "text": " f: 'income'\nic| values: set()\n"
      },
      {
       "name": "stdout",
       "output_type": "stream",
       "text": "spliter is: None\nthe min entropy is: inf\n"
      }
     ],
     "persistentId": "3fb2e02b-65bc-43bb-b372-a207226bdce4",
     "text": "b = persistent_spliter_choice(training_data=dataset, target='bought')"
    },
    "executionTime": "2020-02-08T10:51:23.293Z"
   },
   {
    "cell": {
     "executionCount": 100,
     "executionEventId": "4fad1917-cc95-4b7e-916b-32a29d6ce617",
     "hasError": false,
     "id": "b0b688d7-31eb-4cab-98da-6d028d128a68",
     "outputs": [
      {
       "name": "stderr",
       "output_type": "stream",
       "text": "ic| f: 'family_number'\nic| values: {1, 2}\nic| f: 'gender'\nic| values: {'F', 'M'}\nic| f: 'income'\nic| values: {'+10', '-10'}\nic| f: 'family_number'\nic| values: {1, 2}\nic| f: 'gender'\nic| values: {'F', 'M'}\nic| f: 'income'\nic| values: {'+10'}\nic| f: 'family_number'\nic| values: {1}\nic| f: 'gender'\nic| values: {'F', 'M'}\nic| f: 'income'\nic| values: {'+10'}\nic| f: 'family_number'\nic| values: set()\nic| f: 'gender'\nic| values:"
      },
      {
       "name": "stdout",
       "output_type": "stream",
       "text": "spliter is: ('income', '-10')\nthe min entropy is: 0.6730116670092565\nspliter is: ('family_number', 2)\nthe min entropy is: 0.5623351446188083\nspliter is: ('income', '+10')\nthe min entropy is: 0.5623351446188083\n"
      },
      {
       "name": "stderr",
       "output_type": "stream",
       "text": " set()\nic| f: 'income'\nic| values: set()\n"
      },
      {
       "name": "stdout",
       "output_type": "stream",
       "text": "spliter is: None\nthe min entropy is: inf\n"
      },
      {
       "data": {
        "text/plain": "{'第1次特征选择': ('income', '-10'),\n '第2次特征选择': ('family_number', 2),\n '第3次特征选择': ('income', '+10'),\n '第4次特征选择': None}"
       },
       "execution_count": 100,
       "metadata": {},
       "output_type": "execute_result"
      }
     ],
     "persistentId": "3fb2e02b-65bc-43bb-b372-a207226bdce4",
     "text": "b = persistent_spliter_choice(training_data=dataset, target='bought')\nb"
    },
    "executionTime": "2020-02-08T10:51:43.250Z"
   },
   {
    "cell": {
     "executionCount": 101,
     "executionEventId": "21ab07b7-32e9-4cf6-95ad-3b5e925591bc",
     "hasError": false,
     "id": "5bb8ef8a-0acc-42a9-8366-07cbad69be0a",
     "outputs": [],
     "persistentId": "3292e0e6-21e1-40ec-88e9-f272265075ab",
     "text": "def persistent_spliter_choice(training_data: pd.DataFrame, target: str, count=0, spilter_list=None):\n     \n    if count == 0:\n        spilter_list = {}\n        new_training_data = training_data\n        \n        a_spiliter_choice = find_the_optimal_spilter(training_data = training_data, target = target)\n        count = count + 1\n        spilter_list[\"第\"+str(count)+\"次特征选择\"] = a_spiliter_choice\n\n    else:\n        #因为已经找到了最佳的分割点，有一方无法继续分割，向另外一方继续分割\n#         print(spilter_list[\"第\"+str(count-1)+\"次特征选择\"][0])\n#         print(spilter_list[\"第\"+str(count-1)+\"次特征选择\"][1])\n        key = spilter_list[\"第\"+str(count)+\"次特征选择\"][0]\n        value = spilter_list[\"第\"+str(count)+\"次特征选择\"][1]\n        \n        new_training_data = training_data[training_data[key] != value]\n        a_spiliter_choice = find_the_optimal_spilter(training_data = new_training_data, target = target)\n        count = count + 1\n        \n        #设置递归终止条件\n        if a_spiliter_choice == None:\n            return spilter_list\n        \n        spilter_list[\"第\"+str(count)+\"次特征选择\"] = a_spiliter_choice  \n\n    return persistent_spliter_choice(training_data = new_training_data,target=target,count = count,spilter_list=spilter_list)"
    },
    "executionTime": "2020-02-08T10:52:19.410Z"
   },
   {
    "cell": {
     "executionCount": 102,
     "executionEventId": "802fa9a5-f5ed-467e-854f-60e138722c67",
     "hasError": false,
     "id": "b0b688d7-31eb-4cab-98da-6d028d128a68",
     "outputs": [
      {
       "name": "stderr",
       "output_type": "stream",
       "text": "ic| f: 'family_number'\nic| values: {1, 2}\nic| f: 'gender'\nic| values: {'F', 'M'}\nic| f: 'income'\nic| values: {'+10', '-10'}\nic| f: 'family_number'\nic| values: {1, 2}\nic| f: 'gender'\nic| values: {'F', 'M'}\nic| f: 'income'\nic| values: {'+10'}\nic| f: 'family_number'\nic| values: {1}\nic| f: 'gender'\nic| values: {'F', 'M'}\nic| f: 'income'\nic| values: {'+10'}\nic| f: 'family_number'\nic| values: set()\nic| f: 'gender'\nic| values: set()"
      },
      {
       "name": "stdout",
       "output_type": "stream",
       "text": "spliter is: ('income', '-10')\nthe min entropy is: 0.6730116670092565\nspliter is: ('family_number', 2)\nthe min entropy is: 0.5623351446188083\nspliter is: ('income', '+10')\nthe min entropy is: 0.5623351446188083\n"
      },
      {
       "name": "stderr",
       "output_type": "stream",
       "text": "\nic| f: 'income'\nic| values: set()\n"
      },
      {
       "name": "stdout",
       "output_type": "stream",
       "text": "spliter is: None\nthe min entropy is: inf\n"
      },
      {
       "data": {
        "text/plain": "{'第1次特征选择': ('income', '-10'),\n '第2次特征选择': ('family_number', 2),\n '第3次特征选择': ('income', '+10')}"
       },
       "execution_count": 102,
       "metadata": {},
       "output_type": "execute_result"
      }
     ],
     "persistentId": "3fb2e02b-65bc-43bb-b372-a207226bdce4",
     "text": "b = persistent_spliter_choice(training_data=dataset, target='bought')\nb"
    },
    "executionTime": "2020-02-08T10:52:20.061Z"
   },
   {
    "cell": {
     "executionCount": 103,
     "executionEventId": "b6ee6f9b-a760-40f4-adbe-5665ea8573c4",
     "hasError": false,
     "id": "b0b688d7-31eb-4cab-98da-6d028d128a68",
     "outputs": [
      {
       "name": "stderr",
       "output_type": "stream",
       "text": "ic| f: 'family_number'\nic| values: {1, 2}\nic| f: 'gender'\nic| values: {'F', 'M'}\nic| f: 'income'\nic| values: {'+10', '-10'}\nic| f: 'family_number'\nic| values: {1, 2}\nic| f: 'gender'\nic| values: {'F', 'M'}\nic| f: 'income'\nic| values: {'+10'}\nic| f: 'family_number'\nic| values: {1}\nic| f: 'gender'\nic| values: {'F', 'M'}\nic| f: 'income'\nic| values: {'+10'}\nic| f: 'family_number'\nic| values: set()\nic| f: 'gender'\n"
      },
      {
       "name": "stdout",
       "output_type": "stream",
       "text": "spliter is: ('income', '-10')\nthe min entropy is: 0.6730116670092565\nspliter is: ('family_number', 2)\nthe min entropy is: 0.5623351446188083\nspliter is: ('income', '+10')\nthe min entropy is: 0.5623351446188083\n"
      },
      {
       "name": "stderr",
       "output_type": "stream",
       "text": "ic| values: set()\nic| f: 'income'\nic| values: set()\n"
      },
      {
       "name": "stdout",
       "output_type": "stream",
       "text": "spliter is: None\nthe min entropy is: inf\n"
      }
     ],
     "persistentId": "3fb2e02b-65bc-43bb-b372-a207226bdce4",
     "text": "all_spliter_choice = persistent_spliter_choice(training_data=dataset, target='bought')"
    },
    "executionTime": "2020-02-08T12:12:48.608Z"
   },
   {
    "cell": {
     "executionCount": 104,
     "executionEventId": "427dce55-4ccd-4c9b-8cff-3bc61e3eff09",
     "hasError": false,
     "id": "990cd6ab-98f1-4099-b7fc-e421de5cd78e",
     "outputs": [
      {
       "data": {
        "text/plain": "{'第1次特征选择': ('income', '-10'),\n '第2次特征选择': ('family_number', 2),\n '第3次特征选择': ('income', '+10')}"
       },
       "execution_count": 104,
       "metadata": {},
       "output_type": "execute_result"
      }
     ],
     "persistentId": "3164d7f7-f7e9-4ab1-9cea-e953499a1d44",
     "text": "all_spliter_choice"
    },
    "executionTime": "2020-02-08T12:13:05.499Z"
   },
   {
    "cell": {
     "executionCount": 105,
     "executionEventId": "faa115c7-58ca-4875-a04a-97af0557ff78",
     "hasError": false,
     "id": "946c11f9-1db0-4c86-aed5-e07a4bf975ad",
     "outputs": [],
     "persistentId": "018106e0-7211-45bb-b6c5-38c2f497c4c4",
     "text": "from sklearn.cluster import KMeans"
    },
    "executionTime": "2020-02-08T12:14:11.692Z"
   },
   {
    "cell": {
     "executionCount": 106,
     "executionEventId": "02fe515b-c346-49d9-8000-7fc99479b948",
     "hasError": true,
     "id": "1c612fdc-b8a6-4431-be60-62222c5ef591",
     "outputs": [
      {
       "ename": "NameError",
       "evalue": "name 'random' is not defined",
       "output_type": "error",
       "traceback": [
        "\u001b[0;31m---------------------------------------------------------------------------\u001b[0m",
        "\u001b[0;31mNameError\u001b[0m                                 Traceback (most recent call last)",
        "\u001b[0;32m<ipython-input-106-675a05deadae>\u001b[0m in \u001b[0;36m<module>\u001b[0;34m\u001b[0m\n\u001b[0;32m----> 1\u001b[0;31m \u001b[0mX1\u001b[0m \u001b[0;34m=\u001b[0m \u001b[0;34m[\u001b[0m\u001b[0mrandom\u001b[0m\u001b[0;34m.\u001b[0m\u001b[0mrandint\u001b[0m\u001b[0;34m(\u001b[0m\u001b[0;36m0\u001b[0m\u001b[0;34m,\u001b[0m \u001b[0;36m100\u001b[0m\u001b[0;34m)\u001b[0m \u001b[0;32mfor\u001b[0m \u001b[0m_\u001b[0m \u001b[0;32min\u001b[0m \u001b[0mrange\u001b[0m\u001b[0;34m(\u001b[0m\u001b[0;36m100\u001b[0m\u001b[0;34m)\u001b[0m\u001b[0;34m]\u001b[0m\u001b[0;34m\u001b[0m\u001b[0;34m\u001b[0m\u001b[0m\n\u001b[0m\u001b[1;32m      2\u001b[0m \u001b[0mX2\u001b[0m \u001b[0;34m=\u001b[0m \u001b[0;34m[\u001b[0m\u001b[0mrandom\u001b[0m\u001b[0;34m.\u001b[0m\u001b[0mrandint\u001b[0m\u001b[0;34m(\u001b[0m\u001b[0;36m0\u001b[0m\u001b[0;34m,\u001b[0m \u001b[0;36m100\u001b[0m\u001b[0;34m)\u001b[0m \u001b[0;32mfor\u001b[0m \u001b[0m_\u001b[0m \u001b[0;32min\u001b[0m \u001b[0mrange\u001b[0m\u001b[0;34m(\u001b[0m\u001b[0;36m100\u001b[0m\u001b[0;34m)\u001b[0m\u001b[0;34m]\u001b[0m\u001b[0;34m\u001b[0m\u001b[0;34m\u001b[0m\u001b[0m\n",
        "\u001b[0;32m<ipython-input-106-675a05deadae>\u001b[0m in \u001b[0;36m<listcomp>\u001b[0;34m(.0)\u001b[0m\n\u001b[0;32m----> 1\u001b[0;31m \u001b[0mX1\u001b[0m \u001b[0;34m=\u001b[0m \u001b[0;34m[\u001b[0m\u001b[0mrandom\u001b[0m\u001b[0;34m.\u001b[0m\u001b[0mrandint\u001b[0m\u001b[0;34m(\u001b[0m\u001b[0;36m0\u001b[0m\u001b[0;34m,\u001b[0m \u001b[0;36m100\u001b[0m\u001b[0;34m)\u001b[0m \u001b[0;32mfor\u001b[0m \u001b[0m_\u001b[0m \u001b[0;32min\u001b[0m \u001b[0mrange\u001b[0m\u001b[0;34m(\u001b[0m\u001b[0;36m100\u001b[0m\u001b[0;34m)\u001b[0m\u001b[0;34m]\u001b[0m\u001b[0;34m\u001b[0m\u001b[0;34m\u001b[0m\u001b[0m\n\u001b[0m\u001b[1;32m      2\u001b[0m \u001b[0mX2\u001b[0m \u001b[0;34m=\u001b[0m \u001b[0;34m[\u001b[0m\u001b[0mrandom\u001b[0m\u001b[0;34m.\u001b[0m\u001b[0mrandint\u001b[0m\u001b[0;34m(\u001b[0m\u001b[0;36m0\u001b[0m\u001b[0;34m,\u001b[0m \u001b[0;36m100\u001b[0m\u001b[0;34m)\u001b[0m \u001b[0;32mfor\u001b[0m \u001b[0m_\u001b[0m \u001b[0;32min\u001b[0m \u001b[0mrange\u001b[0m\u001b[0;34m(\u001b[0m\u001b[0;36m100\u001b[0m\u001b[0;34m)\u001b[0m\u001b[0;34m]\u001b[0m\u001b[0;34m\u001b[0m\u001b[0;34m\u001b[0m\u001b[0m\n",
        "\u001b[0;31mNameError\u001b[0m: name 'random' is not defined"
       ]
      }
     ],
     "persistentId": "ed545d63-d82b-4fc7-905c-226c4a6d1504",
     "text": "X1 = [random.randint(0, 100) for _ in range(100)]\nX2 = [random.randint(0, 100) for _ in range(100)]"
    },
    "executionTime": "2020-02-08T12:14:12.100Z"
   },
   {
    "cell": {
     "executionCount": 107,
     "executionEventId": "1a821b34-9681-4beb-867d-5fe23e7130bf",
     "hasError": false,
     "id": "946c11f9-1db0-4c86-aed5-e07a4bf975ad",
     "outputs": [],
     "persistentId": "018106e0-7211-45bb-b6c5-38c2f497c4c4",
     "text": "from sklearn.cluster import KMeans\nimport numpy as np"
    },
    "executionTime": "2020-02-08T12:14:38.316Z"
   },
   {
    "cell": {
     "executionCount": 108,
     "executionEventId": "7cd56df6-14da-4e89-8dd7-a9beffcbd48a",
     "hasError": false,
     "id": "1c612fdc-b8a6-4431-be60-62222c5ef591",
     "outputs": [],
     "persistentId": "ed545d63-d82b-4fc7-905c-226c4a6d1504",
     "text": "X1 = [np.random.randint(0, 100) for _ in range(100)]\nX2 = [np.random.randint(0, 100) for _ in range(100)]"
    },
    "executionTime": "2020-02-08T12:14:44.368Z"
   },
   {
    "cell": {
     "executionCount": 109,
     "executionEventId": "71068122-2e2b-43ae-8e9d-1bf3b5b54b76",
     "hasError": false,
     "id": "1b0dcaf4-527d-45ad-9a82-e647672184ef",
     "outputs": [
      {
       "data": {
        "text/plain": "<matplotlib.collections.PathCollection at 0x1c2d8a8750>"
       },
       "execution_count": 109,
       "metadata": {},
       "output_type": "execute_result"
      },
      {
       "data": {
        "image/png": "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\n",
        "text/plain": "<Figure size 432x288 with 1 Axes>"
       },
       "metadata": {
        "needs_background": "light"
       },
       "output_type": "display_data"
      }
     ],
     "persistentId": "ca7288c5-469e-4966-a911-aaf4e36cba79",
     "text": "plt.scatter(X1, X2)"
    },
    "executionTime": "2020-02-08T12:14:46.712Z"
   },
   {
    "cell": {
     "executionCount": 110,
     "executionEventId": "09e0f300-0ec4-4060-809c-9e3b4630284a",
     "hasError": false,
     "id": "342159ae-b246-4956-a485-63c18b728329",
     "outputs": [],
     "persistentId": "f3e2345c-9d75-4688-9dc7-e1f08cd15321",
     "text": "tranning_data = [[x1, x2] for x1, x2 in zip(X1, X2)]"
    },
    "executionTime": "2020-02-08T12:15:02.402Z"
   },
   {
    "cell": {
     "executionCount": 111,
     "executionEventId": "d57fd03c-c742-4598-b341-849dcb8e9f02",
     "hasError": false,
     "id": "c4c9a2cf-6186-4d95-88f1-905a580886f8",
     "outputs": [
      {
       "data": {
        "text/plain": "KMeans(algorithm='auto', copy_x=True, init='k-means++', max_iter=500,\n       n_clusters=6, n_init=10, n_jobs=None, precompute_distances='auto',\n       random_state=None, tol=0.0001, verbose=0)"
       },
       "execution_count": 111,
       "metadata": {},
       "output_type": "execute_result"
      }
     ],
     "persistentId": "9b891ace-fd8a-4259-be65-665ee4bec866",
     "text": "cluster = KMeans(n_clusters=6, max_iter=500)\ncluster.fit(tranning_data)"
    },
    "executionTime": "2020-02-08T12:16:07.842Z"
   },
   {
    "cell": {
     "executionCount": 112,
     "executionEventId": "7e7f2f73-3b48-4970-828a-d74c1e83327e",
     "hasError": false,
     "id": "85c27f31-f217-4602-9769-f32d411d422f",
     "outputs": [],
     "persistentId": "b08f568e-c5e6-4f01-b37e-f62eb2848381",
     "text": "from collections import defaultdict\ncenters = defaultdict(list)"
    },
    "executionTime": "2020-02-08T12:16:09.086Z"
   },
   {
    "cell": {
     "executionCount": 113,
     "executionEventId": "1437d157-69ef-484b-8435-62024a65ef5c",
     "hasError": false,
     "id": "f0c017a3-9153-4f7f-aea9-86d960f0f4eb",
     "outputs": [],
     "persistentId": "662a3eb1-df4e-4e9f-a50b-8787c70fc4c3",
     "text": "for label, location in zip(cluster.labels_, tranning_data):\n    centers[label].append(location)"
    },
    "executionTime": "2020-02-08T12:16:09.612Z"
   },
   {
    "cell": {
     "executionCount": 114,
     "executionEventId": "3eb8c6bb-2e1b-46de-b910-c2485be8f504",
     "hasError": false,
     "id": "218ccc93-18be-4499-88df-1c7f0abf7546",
     "outputs": [
      {
       "data": {
        "image/png": "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\n",
        "text/plain": "<Figure size 432x288 with 1 Axes>"
       },
       "metadata": {
        "needs_background": "light"
       },
       "output_type": "display_data"
      }
     ],
     "persistentId": "2981dd54-5b2d-4f61-a8e5-0892fb3059c9",
     "text": "color = ['red', 'green', 'grey', 'black', 'yellow', 'orange']\n\nfor i, c in enumerate(centers):\n    for location in centers[c]:\n        plt.scatter(*location, c=color[i])\n        \nfor center in cluster.cluster_centers_:\n    plt.scatter(*center, s=100)"
    },
    "executionTime": "2020-02-08T12:16:10.573Z"
   },
   {
    "cell": {
     "executionCount": 115,
     "executionEventId": "1eb7cda2-f900-431a-b5bf-2f22c632c085",
     "hasError": true,
     "id": "167abe3c-3965-48c6-9506-a1d08c8cb5ac",
     "outputs": [
      {
       "ename": "SyntaxError",
       "evalue": "invalid character in identifier (<ipython-input-115-a02646dbc6b0>, line 1)",
       "output_type": "error",
       "traceback": [
        "\u001b[0;36m  File \u001b[0;32m\"<ipython-input-115-a02646dbc6b0>\"\u001b[0;36m, line \u001b[0;32m1\u001b[0m\n\u001b[0;31m    欠拟合：欠拟合是指模型拟合程度不高，数据距离拟合曲线较远，或指模型没有很好地捕捉到数据特征，不能够很好地拟合数据。在训练集表现差，在测试集表现同样会很差，二者均体现高偏差特征。\u001b[0m\n\u001b[0m                                                                                           ^\u001b[0m\n\u001b[0;31mSyntaxError\u001b[0m\u001b[0;31m:\u001b[0m invalid character in identifier\n"
       ]
      }
     ],
     "persistentId": "06be4fd3-2a2d-4a6d-9325-0d6ce89697e7",
     "text": "欠拟合：欠拟合是指模型拟合程度不高，数据距离拟合曲线较远，或指模型没有很好地捕捉到数据特征，不能够很好地拟合数据。在训练集表现差，在测试集表现同样会很差，二者均体现高偏差特征。\n"
    },
    "executionTime": "2020-02-08T12:25:35.520Z"
   },
   {
    "cell": {
     "executionCount": 116,
     "executionEventId": "2ee724cb-3348-4fec-ad2d-487700ec34b4",
     "hasError": true,
     "id": "1df32f3e-7ad7-48c6-b746-1dc6d12fb054",
     "outputs": [
      {
       "ename": "SyntaxError",
       "evalue": "invalid character in identifier (<ipython-input-116-0fc0361af621>, line 1)",
       "output_type": "error",
       "traceback": [
        "\u001b[0;36m  File \u001b[0;32m\"<ipython-input-116-0fc0361af621>\"\u001b[0;36m, line \u001b[0;32m1\u001b[0m\n\u001b[0;31m    过拟合：模型将训练集单个样本的数据特征都捕捉到，并将其认为是“一般规律”，导致模型泛化能力不足。在训练集中表现很好，但在测试集中表现很差，二者体现高方差特征。\u001b[0m\n\u001b[0m                                                                                  ^\u001b[0m\n\u001b[0;31mSyntaxError\u001b[0m\u001b[0;31m:\u001b[0m invalid character in identifier\n"
       ]
      }
     ],
     "persistentId": "628cf01c-a324-4ac1-9e46-56004921295e",
     "text": "过拟合：模型将训练集单个样本的数据特征都捕捉到，并将其认为是“一般规律”，导致模型泛化能力不足。在训练集中表现很好，但在测试集中表现很差，二者体现高方差特征。\n\n原因：”过拟合“常常在模型拟合能力过强或者训练数据过少的情况中出现。"
    },
    "executionTime": "2020-02-08T12:32:55.458Z"
   },
   {
    "cell": {
     "executionCount": 117,
     "executionEventId": "e1f68034-be8e-415f-bf9a-84e2b832be5f",
     "hasError": true,
     "id": "95d60ce3-e772-41f4-894a-03d98057b9f3",
     "outputs": [
      {
       "ename": "NameError",
       "evalue": "name '预测的标签中预测正确的值的个数' is not defined",
       "output_type": "error",
       "traceback": [
        "\u001b[0;31m---------------------------------------------------------------------------\u001b[0m",
        "\u001b[0;31mNameError\u001b[0m                                 Traceback (most recent call last)",
        "\u001b[0;32m<ipython-input-117-51e14a70db8c>\u001b[0m in \u001b[0;36m<module>\u001b[0;34m\u001b[0m\n\u001b[0;32m----> 1\u001b[0;31m \u001b[0mAccuracy\u001b[0m\u001b[0;34m:\u001b[0m \u001b[0m预测的标签中预测正确的值的个数\u001b[0m\u001b[0;34m/\u001b[0m\u001b[0m总的预测的个数\u001b[0m\u001b[0;34m\u001b[0m\u001b[0;34m\u001b[0m\u001b[0m\n\u001b[0m\u001b[1;32m      2\u001b[0m \u001b[0mPrecision\u001b[0m\u001b[0;34m:\u001b[0m \u001b[0m所有预测为对且正确的预测个数\u001b[0m\u001b[0;34m/\u001b[0m\u001b[0m所有为对的预测个数\u001b[0m\u001b[0;34m\u001b[0m\u001b[0;34m\u001b[0m\u001b[0m\n\u001b[1;32m      3\u001b[0m \u001b[0mRecall\u001b[0m\u001b[0;34m:\u001b[0m \u001b[0m所有预测为对且正确的预测个数\u001b[0m\u001b[0;34m/\u001b[0m\u001b[0m所有真正为对的标签个数\u001b[0m\u001b[0;34m\u001b[0m\u001b[0;34m\u001b[0m\u001b[0m\n",
        "\u001b[0;31mNameError\u001b[0m: name '预测的标签中预测正确的值的个数' is not defined"
       ]
      }
     ],
     "persistentId": "4cce8363-fa73-49b5-804d-434b213d115c",
     "text": "Accuracy: 预测的标签中预测正确的值的个数/总的预测的个数\nPrecision: 所有预测为对且正确的预测个数/所有为对的预测个数\nRecall: 所有预测为对且正确的预测个数/所有真正为对的标签个数"
    },
    "executionTime": "2020-02-08T12:41:21.661Z"
   },
   {
    "cell": {
     "executionCount": 118,
     "executionEventId": "a6ca560b-183e-4f35-a567-92842b43fe28",
     "hasError": true,
     "id": "7951c399-4279-40f5-a57a-6bcc80727c36",
     "outputs": [
      {
       "ename": "SyntaxError",
       "evalue": "invalid syntax (<ipython-input-118-d4b34e098b4a>, line 1)",
       "output_type": "error",
       "traceback": [
        "\u001b[0;36m  File \u001b[0;32m\"<ipython-input-118-d4b34e098b4a>\"\u001b[0;36m, line \u001b[0;32m1\u001b[0m\n\u001b[0;31m    F1 Score  = $ \\frac{2*precision*recall}{precision + recall} $\u001b[0m\n\u001b[0m           ^\u001b[0m\n\u001b[0;31mSyntaxError\u001b[0m\u001b[0;31m:\u001b[0m invalid syntax\n"
       ]
      }
     ],
     "persistentId": "994b3d81-7343-415d-b4aa-1d84fa55a112",
     "text": "F1 Score  = $ \\frac{2*precision*recall}{precision + recall} $"
    },
    "executionTime": "2020-02-08T12:42:07.127Z"
   },
   {
    "cell": {
     "executionCount": 119,
     "executionEventId": "9fd5d2ea-cb8b-4cb6-ac55-c2fe2be4d2a8",
     "hasError": true,
     "id": "ad2e8d15-a5bb-4562-a36e-97dfb0e7198d",
     "outputs": [
      {
       "ename": "SyntaxError",
       "evalue": "invalid character in identifier (<ipython-input-119-95cfb309132c>, line 1)",
       "output_type": "error",
       "traceback": [
        "\u001b[0;36m  File \u001b[0;32m\"<ipython-input-119-95cfb309132c>\"\u001b[0;36m, line \u001b[0;32m1\u001b[0m\n\u001b[0;31m    当β=1时，即为F1 Score，这时召回率和精确率都很重要，权重相同。\u001b[0m\n\u001b[0m             ^\u001b[0m\n\u001b[0;31mSyntaxError\u001b[0m\u001b[0;31m:\u001b[0m invalid character in identifier\n"
       ]
      }
     ],
     "persistentId": "1bd72c15-01f4-40a9-961e-f9f97970ce02",
     "text": "当β=1时，即为F1 Score，这时召回率和精确率都很重要，权重相同。\n\n当β>1时，即为F2 Score，此时我们认为认为召回率更加重要，优先保证召回率"
    },
    "executionTime": "2020-02-08T12:48:37.493Z"
   },
   {
    "cell": {
     "executionCount": 120,
     "executionEventId": "a08bf62d-3b29-4f2a-a69d-baeaafcc8610",
     "hasError": true,
     "id": "c2837a6e-6b6b-41d6-a919-df21702b65b6",
     "outputs": [
      {
       "ename": "SyntaxError",
       "evalue": "invalid character in identifier (<ipython-input-120-9e1024af1c3f>, line 1)",
       "output_type": "error",
       "traceback": [
        "\u001b[0;36m  File \u001b[0;32m\"<ipython-input-120-9e1024af1c3f>\"\u001b[0;36m, line \u001b[0;32m1\u001b[0m\n\u001b[0;31m    机器学习是数据驱动的，构建好ML算法，通过加载不同的数据，就能训练出一个个具体的ML应用模型，给应用模型新的数据输入，应用模型就能预测出新的结果\u001b[0m\n\u001b[0m                                                                           ^\u001b[0m\n\u001b[0;31mSyntaxError\u001b[0m\u001b[0;31m:\u001b[0m invalid character in identifier\n"
       ]
      }
     ],
     "persistentId": "b7ba33c4-0542-425b-9ebb-3f7881fe40ef",
     "text": "机器学习是数据驱动的，构建好ML算法，通过加载不同的数据，就能训练出一个个具体的ML应用模型，给应用模型新的数据输入，应用模型就能预测出新的结果"
    },
    "executionTime": "2020-02-08T12:56:22.056Z"
   },
   {
    "cell": {
     "executionCount": 121,
     "executionEventId": "a6e7d9ba-4fdf-4432-8679-536860ff6a97",
     "hasError": true,
     "id": "c3937739-5ad1-46c4-b59c-d3e49c17659f",
     "outputs": [
      {
       "ename": "SyntaxError",
       "evalue": "invalid character in identifier (<ipython-input-121-3b5fec02a6d9>, line 1)",
       "output_type": "error",
       "traceback": [
        "\u001b[0;36m  File \u001b[0;32m\"<ipython-input-121-3b5fec02a6d9>\"\u001b[0;36m, line \u001b[0;32m1\u001b[0m\n\u001b[0;31m    分析式编程，工程师需要根据不同的应用场景，设计具体的模型和输入参数，若具体模型运行无误，将产生预期的结果\u001b[0m\n\u001b[0m                                                       ^\u001b[0m\n\u001b[0;31mSyntaxError\u001b[0m\u001b[0;31m:\u001b[0m invalid character in identifier\n"
       ]
      }
     ],
     "persistentId": "b6f78ca6-2ba5-4ab1-afdf-323182e4b54c",
     "text": "分析式编程，工程师需要根据不同的应用场景，设计具体的模型和输入参数，若具体模型运行无误，将产生预期的结果"
    },
    "executionTime": "2020-02-08T13:01:40.501Z"
   },
   {
    "cell": {
     "executionCount": 122,
     "executionEventId": "b609d258-dbb0-4407-8479-14c6c9903ea5",
     "hasError": true,
     "id": "df6bcc50-1170-450c-90eb-a719de962d2f",
     "outputs": [
      {
       "ename": "SyntaxError",
       "evalue": "invalid character in identifier (<ipython-input-122-1ad831f22b05>, line 1)",
       "output_type": "error",
       "traceback": [
        "\u001b[0;36m  File \u001b[0;32m\"<ipython-input-122-1ad831f22b05>\"\u001b[0;36m, line \u001b[0;32m1\u001b[0m\n\u001b[0;31m    我认为这句话是正确的，唯有确定模型的评价标准，机器学习才能够适用于不同的场景并落地而仅仅停留在研究论证阶段。例如在癌症CT照片的应用中，模型的应用标准就应该优先保证召回率，因为多检测的代价是可以\u001b[0m\n\u001b[0m                                                                                                    ^\u001b[0m\n\u001b[0;31mSyntaxError\u001b[0m\u001b[0;31m:\u001b[0m invalid character in identifier\n"
       ]
      }
     ],
     "persistentId": "9821faa0-2c18-4926-8918-989134853c2c",
     "text": "我认为这句话是正确的，唯有确定模型的评价标准，机器学习才能够适用于不同的场景并落地而仅仅停留在研究论证阶段。例如在癌症CT照片的应用中，模型的应用标准就应该优先保证召回率，因为多检测的代价是可以"
    },
    "executionTime": "2020-02-08T13:07:47.311Z"
   },
   {
    "cell": {
     "executionCount": 123,
     "executionEventId": "d91a1c13-c513-44b5-9a92-7e42a77c9292",
     "hasError": false,
     "id": "6c251bf7-1a13-45cf-9f49-200384dfdf2b",
     "outputs": [
      {
       "data": {
        "text/plain": "{'第1次特征选择': ('income', '-10'),\n '第2次特征选择': ('family_number', 2),\n '第3次特征选择': ('income', '+10')}"
       },
       "execution_count": 123,
       "metadata": {},
       "output_type": "execute_result"
      }
     ],
     "persistentId": "6e9a5659-13f5-4651-9ad0-8c2845b46531",
     "text": "all_spliter_choice"
    },
    "executionTime": "2020-02-08T13:12:44.953Z"
   },
   {
    "cell": {
     "executionCount": 124,
     "executionEventId": "35a1f072-45d6-43c3-8a21-21f11798d722",
     "hasError": false,
     "id": "6c251bf7-1a13-45cf-9f49-200384dfdf2b",
     "outputs": [
      {
       "name": "stdout",
       "output_type": "stream",
       "text": "第1次特征选择\n第2次特征选择\n第3次特征选择\n"
      }
     ],
     "persistentId": "6e9a5659-13f5-4651-9ad0-8c2845b46531",
     "text": "for i in all_spliter_choice:\n    print(i)"
    },
    "executionTime": "2020-02-08T13:13:32.446Z"
   },
   {
    "cell": {
     "executionCount": 125,
     "executionEventId": "1898c2d7-88ef-4afc-8770-23cb8449ec57",
     "hasError": true,
     "id": "6c251bf7-1a13-45cf-9f49-200384dfdf2b",
     "outputs": [
      {
       "ename": "ValueError",
       "evalue": "too many values to unpack (expected 2)",
       "output_type": "error",
       "traceback": [
        "\u001b[0;31m---------------------------------------------------------------------------\u001b[0m",
        "\u001b[0;31mValueError\u001b[0m                                Traceback (most recent call last)",
        "\u001b[0;32m<ipython-input-125-ba9e14ee3853>\u001b[0m in \u001b[0;36m<module>\u001b[0;34m\u001b[0m\n\u001b[0;32m----> 1\u001b[0;31m \u001b[0;32mfor\u001b[0m \u001b[0mkey\u001b[0m\u001b[0;34m,\u001b[0m\u001b[0mvalue\u001b[0m \u001b[0;32min\u001b[0m \u001b[0mall_spliter_choice\u001b[0m\u001b[0;34m:\u001b[0m\u001b[0;34m\u001b[0m\u001b[0;34m\u001b[0m\u001b[0m\n\u001b[0m\u001b[1;32m      2\u001b[0m     \u001b[0mprint\u001b[0m\u001b[0;34m(\u001b[0m\u001b[0mvalue\u001b[0m\u001b[0;34m)\u001b[0m\u001b[0;34m\u001b[0m\u001b[0;34m\u001b[0m\u001b[0m\n",
        "\u001b[0;31mValueError\u001b[0m: too many values to unpack (expected 2)"
       ]
      }
     ],
     "persistentId": "6e9a5659-13f5-4651-9ad0-8c2845b46531",
     "text": "for key,value in all_spliter_choice:\n    print(value)"
    },
    "executionTime": "2020-02-08T13:13:43.897Z"
   },
   {
    "cell": {
     "executionCount": 126,
     "executionEventId": "c741e4b2-f262-4636-9067-eb13378ddae1",
     "hasError": false,
     "id": "6c251bf7-1a13-45cf-9f49-200384dfdf2b",
     "outputs": [
      {
       "name": "stdout",
       "output_type": "stream",
       "text": "('income', '-10')\n('family_number', 2)\n('income', '+10')\n"
      }
     ],
     "persistentId": "6e9a5659-13f5-4651-9ad0-8c2845b46531",
     "text": "for value in all_spliter_choice.values():\n    print(value)"
    },
    "executionTime": "2020-02-08T13:15:21.677Z"
   },
   {
    "cell": {
     "executionCount": 127,
     "executionEventId": "3095ec8c-f738-47b9-b7ed-9fb0c750729b",
     "hasError": false,
     "id": "27625c87-cfa5-4fd4-a793-af77a8ee5772",
     "outputs": [
      {
       "data": {
        "text/html": "<div>\n<style scoped>\n    .dataframe tbody tr th:only-of-type {\n        vertical-align: middle;\n    }\n\n    .dataframe tbody tr th {\n        vertical-align: top;\n    }\n\n    .dataframe thead th {\n        text-align: right;\n    }\n</style>\n<table border=\"1\" class=\"dataframe\">\n  <thead>\n    <tr style=\"text-align: right;\">\n      <th></th>\n      <th>gender</th>\n      <th>income</th>\n      <th>family_number</th>\n      <th>bought</th>\n    </tr>\n  </thead>\n  <tbody>\n    <tr>\n      <td>0</td>\n      <td>F</td>\n      <td>+10</td>\n      <td>1</td>\n      <td>1</td>\n    </tr>\n    <tr>\n      <td>1</td>\n      <td>F</td>\n      <td>-10</td>\n      <td>1</td>\n      <td>1</td>\n    </tr>\n    <tr>\n      <td>2</td>\n      <td>F</td>\n      <td>+10</td>\n      <td>2</td>\n      <td>1</td>\n    </tr>\n    <tr>\n      <td>3</td>\n      <td>F</td>\n      <td>+10</td>\n      <td>1</td>\n      <td>0</td>\n    </tr>\n    <tr>\n      <td>4</td>\n      <td>M</td>\n      <td>+10</td>\n      <td>1</td>\n      <td>0</td>\n    </tr>\n    <tr>\n      <td>5</td>\n      <td>M</td>\n      <td>+10</td>\n      <td>1</td>\n      <td>0</td>\n    </tr>\n    <tr>\n      <td>6</td>\n      <td>M</td>\n      <td>-10</td>\n      <td>2</td>\n      <td>1</td>\n    </tr>\n  </tbody>\n</table>\n</div>",
        "text/plain": "  gender income  family_number  bought\n0      F    +10              1       1\n1      F    -10              1       1\n2      F    +10              2       1\n3      F    +10              1       0\n4      M    +10              1       0\n5      M    +10              1       0\n6      M    -10              2       1"
       },
       "execution_count": 127,
       "metadata": {},
       "output_type": "execute_result"
      }
     ],
     "persistentId": "0ea2f1de-c4fb-4c9d-8b47-41215db39ba2",
     "text": "dataset"
    },
    "executionTime": "2020-02-08T13:18:45.050Z"
   },
   {
    "cell": {
     "executionCount": 128,
     "executionEventId": "432b88a3-b50c-4bc8-9e67-369b0883a8d6",
     "hasError": false,
     "id": "6c251bf7-1a13-45cf-9f49-200384dfdf2b",
     "outputs": [
      {
       "name": "stdout",
       "output_type": "stream",
       "text": "('income', '-10')\n('family_number', 2)\n('income', '+10')\n"
      }
     ],
     "persistentId": "6e9a5659-13f5-4651-9ad0-8c2845b46531",
     "text": "for count,value in enumerate(all_spliter_choice.values()):\n    print(value)"
    },
    "executionTime": "2020-02-08T13:30:31.579Z"
   },
   {
    "cell": {
     "executionCount": 129,
     "executionEventId": "0f601e34-2e81-4d65-97c0-465b57e0d0e7",
     "hasError": false,
     "id": "6c251bf7-1a13-45cf-9f49-200384dfdf2b",
     "outputs": [
      {
       "name": "stdout",
       "output_type": "stream",
       "text": "0 ('income', '-10')\n1 ('family_number', 2)\n2 ('income', '+10')\n"
      }
     ],
     "persistentId": "6e9a5659-13f5-4651-9ad0-8c2845b46531",
     "text": "for count,value in enumerate(all_spliter_choice.values()):\n    print(count,value)"
    },
    "executionTime": "2020-02-08T13:30:37.634Z"
   },
   {
    "cell": {
     "executionCount": 130,
     "executionEventId": "005c7f2d-2bee-4720-95ae-abd00e227578",
     "hasError": false,
     "id": "b0b688d7-31eb-4cab-98da-6d028d128a68",
     "outputs": [
      {
       "name": "stderr",
       "output_type": "stream",
       "text": "ic| f: 'family_number'\nic| values: {1, 2}\nic| f: 'gender'\nic| values: {'F', 'M'}\nic| f: 'income'\nic| values: {'+10', '-10'}\nic| f: 'family_number'\nic| values: {1, 2}\nic| f: 'gender'\nic| values: {'F', 'M'}\nic| f: 'income'\nic| values: {'+10'}\nic| f: 'family_number'\nic| values: {1}\nic| f: 'gender'\nic| values: {'F', 'M'}\nic| f: 'income'\nic| values: {'+10'}\nic| f: 'family_number'\nic| values: set()\nic| f: 'gender'\nic| values: set()\nic| f"
      },
      {
       "name": "stdout",
       "output_type": "stream",
       "text": "spliter is: ('income', '-10')\nthe min entropy is: 0.6730116670092565\nspliter is: ('family_number', 2)\nthe min entropy is: 0.5623351446188083\nspliter is: ('income', '+10')\nthe min entropy is: 0.5623351446188083\n"
      },
      {
       "name": "stderr",
       "output_type": "stream",
       "text": ": 'income'\nic| values: set()\n"
      },
      {
       "name": "stdout",
       "output_type": "stream",
       "text": "spliter is: None\nthe min entropy is: inf\n"
      }
     ],
     "persistentId": "3fb2e02b-65bc-43bb-b372-a207226bdce4",
     "text": "all_spliter_choice = persistent_spliter_choice(training_data=dataset, target='bought')"
    },
    "executionTime": "2020-02-08T13:36:33.289Z"
   },
   {
    "cell": {
     "executionCount": 131,
     "executionEventId": "6f8ca927-7535-404c-b542-9566e549cb21",
     "hasError": false,
     "id": "5bb8ef8a-0acc-42a9-8366-07cbad69be0a",
     "outputs": [],
     "persistentId": "3292e0e6-21e1-40ec-88e9-f272265075ab",
     "text": "def persistent_spliter_choice(training_data: pd.DataFrame, target: str, count=0, spilter_list=None):\n     \n    if count == 0:\n        spilter_list = {}\n        new_training_data = training_data\n        \n        a_spiliter_choice = find_the_optimal_spilter(training_data = training_data, target = target)\n        count = count + 1\n        spilter_list[\"第\"+str(count)+\"次特征选择\"] = a_spiliter_choice\n\n    else:\n        #因为已经找到了最佳的分割点，有一方无法继续分割，向另外一方继续分割\n#         print(spilter_list[\"第\"+str(count-1)+\"次特征选择\"][0])\n#         print(spilter_list[\"第\"+str(count-1)+\"次特征选择\"][1])\n        key = spilter_list[\"第\"+str(count)+\"次特征选择\"][0]\n        value = spilter_list[\"第\"+str(count)+\"次特征选择\"][1]\n        \n        new_training_data = training_data[training_data[key] != value]\n        a_spiliter_choice = find_the_optimal_spilter(training_data = new_training_data, target = target)\n        count = count + 1\n        spilter_list[\"第\"+str(count)+\"次特征选择\"] = a_spiliter_choice\n        \n        #设置递归终止条件\n        if a_spiliter_choice == None:\n            return spilter_list\n        \n          \n\n    return persistent_spliter_choice(training_data = new_training_data,target=target,count = count,spilter_list=spilter_list)"
    },
    "executionTime": "2020-02-08T13:38:58.110Z"
   },
   {
    "cell": {
     "executionCount": 132,
     "executionEventId": "66275dda-d3e1-4ac3-a29b-13e3a08e6cf9",
     "hasError": false,
     "id": "b0b688d7-31eb-4cab-98da-6d028d128a68",
     "outputs": [
      {
       "name": "stderr",
       "output_type": "stream",
       "text": "ic| f: 'family_number'\nic| values: {1, 2}\nic| f: 'gender'\nic| values: {'F', 'M'}\nic| f: 'income'\nic| values: {'+10', '-10'}\nic| f: 'family_number'\nic| values: {1, 2}\nic| f: 'gender'\nic| values: {'F', 'M'}\nic| f: 'income'\nic| values: {'+10'}\nic| f: 'family_number'\nic| values: {1}\nic| f: 'gender'\nic| values: {'F', 'M'}\nic| f: 'income'\nic| values: {'+10'}\nic| f: 'family_number'\nic| values: set()\nic| f: 'gender'\nic| values: set()\n"
      },
      {
       "name": "stdout",
       "output_type": "stream",
       "text": "spliter is: ('income', '-10')\nthe min entropy is: 0.6730116670092565\nspliter is: ('family_number', 2)\nthe min entropy is: 0.5623351446188083\nspliter is: ('income', '+10')\nthe min entropy is: 0.5623351446188083\n"
      },
      {
       "name": "stderr",
       "output_type": "stream",
       "text": "ic| f: 'income'\nic| values: set()\n"
      },
      {
       "name": "stdout",
       "output_type": "stream",
       "text": "spliter is: None\nthe min entropy is: inf\n"
      }
     ],
     "persistentId": "3fb2e02b-65bc-43bb-b372-a207226bdce4",
     "text": "all_spliter_choice = persistent_spliter_choice(training_data=dataset, target='bought')"
    },
    "executionTime": "2020-02-08T13:38:59.124Z"
   },
   {
    "cell": {
     "executionCount": 133,
     "executionEventId": "bdf4f1b2-cbb2-4bba-909d-d20c444ff758",
     "hasError": false,
     "id": "5bb8ef8a-0acc-42a9-8366-07cbad69be0a",
     "outputs": [],
     "persistentId": "3292e0e6-21e1-40ec-88e9-f272265075ab",
     "text": "def persistent_spliter_choice(training_data: pd.DataFrame, target: str, count=0, spilter_list=None):\n     \n    if count == 0:\n        spilter_list = {}\n        \n        a_spiliter_choice = find_the_optimal_spilter(training_data = training_data, target = target)\n        count = count + 1\n        spilter_list[\"第\"+str(count)+\"次特征选择\"] = a_spiliter_choice\n        \n        key = spilter_list[\"第\"+str(count)+\"次特征选择\"][0]\n        value = spilter_list[\"第\"+str(count)+\"次特征选择\"][1]\n        new_training_data = training_data[training_data[key] != value]\n\n    else:\n        #因为已经找到了最佳的分割点，有一方无法继续分割，向另外一方继续分割\n#         print(spilter_list[\"第\"+str(count-1)+\"次特征选择\"][0])\n#         print(spilter_list[\"第\"+str(count-1)+\"次特征选择\"][1])\n\n        a_spiliter_choice = find_the_optimal_spilter(training_data = new_training_data, target = target)\n        count = count + 1\n        spilter_list[\"第\"+str(count)+\"次特征选择\"] = a_spiliter_choice\n        \n        key = spilter_list[\"第\"+str(count)+\"次特征选择\"][0]\n        value = spilter_list[\"第\"+str(count)+\"次特征选择\"][1]\n        new_training_data = training_data[training_data[key] != value]\n        \n        #设置递归终止条件\n        if a_spiliter_choice == None:\n            return spilter_list\n        \n    return persistent_spliter_choice(training_data = new_training_data,target=target,count = count,spilter_list=spilter_list)"
    },
    "executionTime": "2020-02-08T13:42:13.921Z"
   },
   {
    "cell": {
     "executionCount": 134,
     "executionEventId": "d623a5bf-aa5a-4924-a3ec-94db50a52324",
     "hasError": true,
     "id": "b0b688d7-31eb-4cab-98da-6d028d128a68",
     "outputs": [
      {
       "name": "stderr",
       "output_type": "stream",
       "text": "ic| f: 'family_number'\nic| values: {1, 2}\nic| f: 'gender'\nic| values: {'F', 'M'}\nic| f: 'income'\nic| values: {'+10', '-10'}\n"
      },
      {
       "name": "stdout",
       "output_type": "stream",
       "text": "spliter is: ('income', '-10')\nthe min entropy is: 0.6730116670092565\n"
      },
      {
       "ename": "UnboundLocalError",
       "evalue": "local variable 'new_training_data' referenced before assignment",
       "output_type": "error",
       "traceback": [
        "\u001b[0;31m---------------------------------------------------------------------------\u001b[0m",
        "\u001b[0;31mUnboundLocalError\u001b[0m                         Traceback (most recent call last)",
        "\u001b[0;32m<ipython-input-134-8502d417e4b8>\u001b[0m in \u001b[0;36m<module>\u001b[0;34m\u001b[0m\n\u001b[0;32m----> 1\u001b[0;31m \u001b[0mall_spliter_choice\u001b[0m \u001b[0;34m=\u001b[0m \u001b[0mpersistent_spliter_choice\u001b[0m\u001b[0;34m(\u001b[0m\u001b[0mtraining_data\u001b[0m\u001b[0;34m=\u001b[0m\u001b[0mdataset\u001b[0m\u001b[0;34m,\u001b[0m \u001b[0mtarget\u001b[0m\u001b[0;34m=\u001b[0m\u001b[0;34m'bought'\u001b[0m\u001b[0;34m)\u001b[0m\u001b[0;34m\u001b[0m\u001b[0;34m\u001b[0m\u001b[0m\n\u001b[0m",
        "\u001b[0;32m<ipython-input-133-ca09338c6fc1>\u001b[0m in \u001b[0;36mpersistent_spliter_choice\u001b[0;34m(training_data, target, count, spilter_list)\u001b[0m\n\u001b[1;32m     29\u001b[0m             \u001b[0;32mreturn\u001b[0m \u001b[0mspilter_list\u001b[0m\u001b[0;34m\u001b[0m\u001b[0;34m\u001b[0m\u001b[0m\n\u001b[1;32m     30\u001b[0m \u001b[0;34m\u001b[0m\u001b[0m\n\u001b[0;32m---> 31\u001b[0;31m     \u001b[0;32mreturn\u001b[0m \u001b[0mpersistent_spliter_choice\u001b[0m\u001b[0;34m(\u001b[0m\u001b[0mtraining_data\u001b[0m \u001b[0;34m=\u001b[0m \u001b[0mnew_training_data\u001b[0m\u001b[0;34m,\u001b[0m\u001b[0mtarget\u001b[0m\u001b[0;34m=\u001b[0m\u001b[0mtarget\u001b[0m\u001b[0;34m,\u001b[0m\u001b[0mcount\u001b[0m \u001b[0;34m=\u001b[0m \u001b[0mcount\u001b[0m\u001b[0;34m,\u001b[0m\u001b[0mspilter_list\u001b[0m\u001b[0;34m=\u001b[0m\u001b[0mspilter_list\u001b[0m\u001b[0;34m)\u001b[0m\u001b[0;34m\u001b[0m\u001b[0;34m\u001b[0m\u001b[0m\n\u001b[0m",
        "\u001b[0;32m<ipython-input-133-ca09338c6fc1>\u001b[0m in \u001b[0;36mpersistent_spliter_choice\u001b[0;34m(training_data, target, count, spilter_list)\u001b[0m\n\u001b[1;32m     17\u001b[0m \u001b[0;31m#         print(spilter_list[\"第\"+str(count-1)+\"次特征选择\"][1])\u001b[0m\u001b[0;34m\u001b[0m\u001b[0;34m\u001b[0m\u001b[0;34m\u001b[0m\u001b[0m\n\u001b[1;32m     18\u001b[0m \u001b[0;34m\u001b[0m\u001b[0m\n\u001b[0;32m---> 19\u001b[0;31m         \u001b[0ma_spiliter_choice\u001b[0m \u001b[0;34m=\u001b[0m \u001b[0mfind_the_optimal_spilter\u001b[0m\u001b[0;34m(\u001b[0m\u001b[0mtraining_data\u001b[0m \u001b[0;34m=\u001b[0m \u001b[0mnew_training_data\u001b[0m\u001b[0;34m,\u001b[0m \u001b[0mtarget\u001b[0m \u001b[0;34m=\u001b[0m \u001b[0mtarget\u001b[0m\u001b[0;34m)\u001b[0m\u001b[0;34m\u001b[0m\u001b[0;34m\u001b[0m\u001b[0m\n\u001b[0m\u001b[1;32m     20\u001b[0m         \u001b[0mcount\u001b[0m \u001b[0;34m=\u001b[0m \u001b[0mcount\u001b[0m \u001b[0;34m+\u001b[0m \u001b[0;36m1\u001b[0m\u001b[0;34m\u001b[0m\u001b[0;34m\u001b[0m\u001b[0m\n\u001b[1;32m     21\u001b[0m         \u001b[0mspilter_list\u001b[0m\u001b[0;34m[\u001b[0m\u001b[0;34m\"第\"\u001b[0m\u001b[0;34m+\u001b[0m\u001b[0mstr\u001b[0m\u001b[0;34m(\u001b[0m\u001b[0mcount\u001b[0m\u001b[0;34m)\u001b[0m\u001b[0;34m+\u001b[0m\u001b[0;34m\"次特征选择\"\u001b[0m\u001b[0;34m]\u001b[0m \u001b[0;34m=\u001b[0m \u001b[0ma_spiliter_choice\u001b[0m\u001b[0;34m\u001b[0m\u001b[0;34m\u001b[0m\u001b[0m\n",
        "\u001b[0;31mUnboundLocalError\u001b[0m: local variable 'new_training_data' referenced before assignment"
       ]
      }
     ],
     "persistentId": "3fb2e02b-65bc-43bb-b372-a207226bdce4",
     "text": "all_spliter_choice = persistent_spliter_choice(training_data=dataset, target='bought')"
    },
    "executionTime": "2020-02-08T13:42:14.748Z"
   },
   {
    "cell": {
     "executionCount": 135,
     "executionEventId": "7e29e545-4402-410f-a7af-96cfa6db48c3",
     "hasError": false,
     "id": "5bb8ef8a-0acc-42a9-8366-07cbad69be0a",
     "outputs": [],
     "persistentId": "3292e0e6-21e1-40ec-88e9-f272265075ab",
     "text": "def persistent_spliter_choice(training_data: pd.DataFrame, target: str, count=0, spilter_list=None):\n     \n    if count == 0:\n        spilter_list = {}\n        \n        a_spiliter_choice = find_the_optimal_spilter(training_data = training_data, target = target)\n        count = count + 1\n        spilter_list[\"第\"+str(count)+\"次特征选择\"] = a_spiliter_choice\n        \n        key = spilter_list[\"第\"+str(count)+\"次特征选择\"][0]\n        value = spilter_list[\"第\"+str(count)+\"次特征选择\"][1]\n        new_training_data = training_data[training_data[key] != value]\n\n    else:\n        #因为已经找到了最佳的分割点，有一方无法继续分割，向另外一方继续分割\n#         print(spilter_list[\"第\"+str(count-1)+\"次特征选择\"][0])\n#         print(spilter_list[\"第\"+str(count-1)+\"次特征选择\"][1])\n\n        a_spiliter_choice = find_the_optimal_spilter(training_data = training_data, target = target)\n        count = count + 1\n        spilter_list[\"第\"+str(count)+\"次特征选择\"] = a_spiliter_choice\n        \n        key = spilter_list[\"第\"+str(count)+\"次特征选择\"][0]\n        value = spilter_list[\"第\"+str(count)+\"次特征选择\"][1]\n        new_training_data = training_data[training_data[key] != value]\n        \n        #设置递归终止条件\n        if a_spiliter_choice == None:\n            return spilter_list\n        \n    return persistent_spliter_choice(training_data = new_training_data,target=target,count = count,spilter_list=spilter_list)"
    },
    "executionTime": "2020-02-08T13:42:43.354Z"
   },
   {
    "cell": {
     "executionCount": 136,
     "executionEventId": "bebd93ff-2224-4b9e-993e-6ee3f2ccfc1f",
     "hasError": true,
     "id": "b0b688d7-31eb-4cab-98da-6d028d128a68",
     "outputs": [
      {
       "name": "stderr",
       "output_type": "stream",
       "text": "ic| f: 'family_number'\nic| values: {1, 2}\nic| f: 'gender'\nic| values: {'F', 'M'}\nic| f: 'income'\nic| values: {'+10', '-10'}\nic| f: 'family_number'\nic| values: {1, 2}\nic| f: 'gender'\nic| values: {'F', 'M'}\nic| f: 'income'\nic| values: {'+10'}\nic| f: 'family_number'\nic| values: {1}\nic| f: 'gender'\nic| values: {'F', 'M'}\nic| f: 'income'\nic| values: {'+10'}\nic| f: 'family_number'\nic| values: set()\nic| f: 'gender'\nic| values: set()\n"
      },
      {
       "name": "stdout",
       "output_type": "stream",
       "text": "spliter is: ('income', '-10')\nthe min entropy is: 0.6730116670092565\nspliter is: ('family_number', 2)\nthe min entropy is: 0.5623351446188083\nspliter is: ('income', '+10')\nthe min entropy is: 0.5623351446188083\n"
      },
      {
       "name": "stderr",
       "output_type": "stream",
       "text": "ic| f: 'income'\nic| values: set()\n"
      },
      {
       "name": "stdout",
       "output_type": "stream",
       "text": "spliter is: None\nthe min entropy is: inf\n"
      },
      {
       "ename": "TypeError",
       "evalue": "'NoneType' object is not subscriptable",
       "output_type": "error",
       "traceback": [
        "\u001b[0;31m---------------------------------------------------------------------------\u001b[0m",
        "\u001b[0;31mTypeError\u001b[0m                                 Traceback (most recent call last)",
        "\u001b[0;32m<ipython-input-136-8502d417e4b8>\u001b[0m in \u001b[0;36m<module>\u001b[0;34m\u001b[0m\n\u001b[0;32m----> 1\u001b[0;31m \u001b[0mall_spliter_choice\u001b[0m \u001b[0;34m=\u001b[0m \u001b[0mpersistent_spliter_choice\u001b[0m\u001b[0;34m(\u001b[0m\u001b[0mtraining_data\u001b[0m\u001b[0;34m=\u001b[0m\u001b[0mdataset\u001b[0m\u001b[0;34m,\u001b[0m \u001b[0mtarget\u001b[0m\u001b[0;34m=\u001b[0m\u001b[0;34m'bought'\u001b[0m\u001b[0;34m)\u001b[0m\u001b[0;34m\u001b[0m\u001b[0;34m\u001b[0m\u001b[0m\n\u001b[0m",
        "\u001b[0;32m<ipython-input-135-bdd178179728>\u001b[0m in \u001b[0;36mpersistent_spliter_choice\u001b[0;34m(training_data, target, count, spilter_list)\u001b[0m\n\u001b[1;32m     29\u001b[0m             \u001b[0;32mreturn\u001b[0m \u001b[0mspilter_list\u001b[0m\u001b[0;34m\u001b[0m\u001b[0;34m\u001b[0m\u001b[0m\n\u001b[1;32m     30\u001b[0m \u001b[0;34m\u001b[0m\u001b[0m\n\u001b[0;32m---> 31\u001b[0;31m     \u001b[0;32mreturn\u001b[0m \u001b[0mpersistent_spliter_choice\u001b[0m\u001b[0;34m(\u001b[0m\u001b[0mtraining_data\u001b[0m \u001b[0;34m=\u001b[0m \u001b[0mnew_training_data\u001b[0m\u001b[0;34m,\u001b[0m\u001b[0mtarget\u001b[0m\u001b[0;34m=\u001b[0m\u001b[0mtarget\u001b[0m\u001b[0;34m,\u001b[0m\u001b[0mcount\u001b[0m \u001b[0;34m=\u001b[0m \u001b[0mcount\u001b[0m\u001b[0;34m,\u001b[0m\u001b[0mspilter_list\u001b[0m\u001b[0;34m=\u001b[0m\u001b[0mspilter_list\u001b[0m\u001b[0;34m)\u001b[0m\u001b[0;34m\u001b[0m\u001b[0;34m\u001b[0m\u001b[0m\n\u001b[0m",
        "\u001b[0;32m<ipython-input-135-bdd178179728>\u001b[0m in \u001b[0;36mpersistent_spliter_choice\u001b[0;34m(training_data, target, count, spilter_list)\u001b[0m\n\u001b[1;32m     29\u001b[0m             \u001b[0;32mreturn\u001b[0m \u001b[0mspilter_list\u001b[0m\u001b[0;34m\u001b[0m\u001b[0;34m\u001b[0m\u001b[0m\n\u001b[1;32m     30\u001b[0m \u001b[0;34m\u001b[0m\u001b[0m\n\u001b[0;32m---> 31\u001b[0;31m     \u001b[0;32mreturn\u001b[0m \u001b[0mpersistent_spliter_choice\u001b[0m\u001b[0;34m(\u001b[0m\u001b[0mtraining_data\u001b[0m \u001b[0;34m=\u001b[0m \u001b[0mnew_training_data\u001b[0m\u001b[0;34m,\u001b[0m\u001b[0mtarget\u001b[0m\u001b[0;34m=\u001b[0m\u001b[0mtarget\u001b[0m\u001b[0;34m,\u001b[0m\u001b[0mcount\u001b[0m \u001b[0;34m=\u001b[0m \u001b[0mcount\u001b[0m\u001b[0;34m,\u001b[0m\u001b[0mspilter_list\u001b[0m\u001b[0;34m=\u001b[0m\u001b[0mspilter_list\u001b[0m\u001b[0;34m)\u001b[0m\u001b[0;34m\u001b[0m\u001b[0;34m\u001b[0m\u001b[0m\n\u001b[0m",
        "\u001b[0;32m<ipython-input-135-bdd178179728>\u001b[0m in \u001b[0;36mpersistent_spliter_choice\u001b[0;34m(training_data, target, count, spilter_list)\u001b[0m\n\u001b[1;32m     29\u001b[0m             \u001b[0;32mreturn\u001b[0m \u001b[0mspilter_list\u001b[0m\u001b[0;34m\u001b[0m\u001b[0;34m\u001b[0m\u001b[0m\n\u001b[1;32m     30\u001b[0m \u001b[0;34m\u001b[0m\u001b[0m\n\u001b[0;32m---> 31\u001b[0;31m     \u001b[0;32mreturn\u001b[0m \u001b[0mpersistent_spliter_choice\u001b[0m\u001b[0;34m(\u001b[0m\u001b[0mtraining_data\u001b[0m \u001b[0;34m=\u001b[0m \u001b[0mnew_training_data\u001b[0m\u001b[0;34m,\u001b[0m\u001b[0mtarget\u001b[0m\u001b[0;34m=\u001b[0m\u001b[0mtarget\u001b[0m\u001b[0;34m,\u001b[0m\u001b[0mcount\u001b[0m \u001b[0;34m=\u001b[0m \u001b[0mcount\u001b[0m\u001b[0;34m,\u001b[0m\u001b[0mspilter_list\u001b[0m\u001b[0;34m=\u001b[0m\u001b[0mspilter_list\u001b[0m\u001b[0;34m)\u001b[0m\u001b[0;34m\u001b[0m\u001b[0;34m\u001b[0m\u001b[0m\n\u001b[0m",
        "\u001b[0;32m<ipython-input-135-bdd178179728>\u001b[0m in \u001b[0;36mpersistent_spliter_choice\u001b[0;34m(training_data, target, count, spilter_list)\u001b[0m\n\u001b[1;32m     21\u001b[0m         \u001b[0mspilter_list\u001b[0m\u001b[0;34m[\u001b[0m\u001b[0;34m\"第\"\u001b[0m\u001b[0;34m+\u001b[0m\u001b[0mstr\u001b[0m\u001b[0;34m(\u001b[0m\u001b[0mcount\u001b[0m\u001b[0;34m)\u001b[0m\u001b[0;34m+\u001b[0m\u001b[0;34m\"次特征选择\"\u001b[0m\u001b[0;34m]\u001b[0m \u001b[0;34m=\u001b[0m \u001b[0ma_spiliter_choice\u001b[0m\u001b[0;34m\u001b[0m\u001b[0;34m\u001b[0m\u001b[0m\n\u001b[1;32m     22\u001b[0m \u001b[0;34m\u001b[0m\u001b[0m\n\u001b[0;32m---> 23\u001b[0;31m         \u001b[0mkey\u001b[0m \u001b[0;34m=\u001b[0m \u001b[0mspilter_list\u001b[0m\u001b[0;34m[\u001b[0m\u001b[0;34m\"第\"\u001b[0m\u001b[0;34m+\u001b[0m\u001b[0mstr\u001b[0m\u001b[0;34m(\u001b[0m\u001b[0mcount\u001b[0m\u001b[0;34m)\u001b[0m\u001b[0;34m+\u001b[0m\u001b[0;34m\"次特征选择\"\u001b[0m\u001b[0;34m]\u001b[0m\u001b[0;34m[\u001b[0m\u001b[0;36m0\u001b[0m\u001b[0;34m]\u001b[0m\u001b[0;34m\u001b[0m\u001b[0;34m\u001b[0m\u001b[0m\n\u001b[0m\u001b[1;32m     24\u001b[0m         \u001b[0mvalue\u001b[0m \u001b[0;34m=\u001b[0m \u001b[0mspilter_list\u001b[0m\u001b[0;34m[\u001b[0m\u001b[0;34m\"第\"\u001b[0m\u001b[0;34m+\u001b[0m\u001b[0mstr\u001b[0m\u001b[0;34m(\u001b[0m\u001b[0mcount\u001b[0m\u001b[0;34m)\u001b[0m\u001b[0;34m+\u001b[0m\u001b[0;34m\"次特征选择\"\u001b[0m\u001b[0;34m]\u001b[0m\u001b[0;34m[\u001b[0m\u001b[0;36m1\u001b[0m\u001b[0;34m]\u001b[0m\u001b[0;34m\u001b[0m\u001b[0;34m\u001b[0m\u001b[0m\n\u001b[1;32m     25\u001b[0m         \u001b[0mnew_training_data\u001b[0m \u001b[0;34m=\u001b[0m \u001b[0mtraining_data\u001b[0m\u001b[0;34m[\u001b[0m\u001b[0mtraining_data\u001b[0m\u001b[0;34m[\u001b[0m\u001b[0mkey\u001b[0m\u001b[0;34m]\u001b[0m \u001b[0;34m!=\u001b[0m \u001b[0mvalue\u001b[0m\u001b[0;34m]\u001b[0m\u001b[0;34m\u001b[0m\u001b[0;34m\u001b[0m\u001b[0m\n",
        "\u001b[0;31mTypeError\u001b[0m: 'NoneType' object is not subscriptable"
       ]
      }
     ],
     "persistentId": "3fb2e02b-65bc-43bb-b372-a207226bdce4",
     "text": "all_spliter_choice = persistent_spliter_choice(training_data=dataset, target='bought')"
    },
    "executionTime": "2020-02-08T13:42:44.123Z"
   },
   {
    "cell": {
     "executionCount": 137,
     "executionEventId": "8143fef6-9073-48c1-a564-300a0038e441",
     "hasError": false,
     "id": "5bb8ef8a-0acc-42a9-8366-07cbad69be0a",
     "outputs": [],
     "persistentId": "3292e0e6-21e1-40ec-88e9-f272265075ab",
     "text": "def persistent_spliter_choice(training_data: pd.DataFrame, target: str, count=0, spilter_list=None):\n     \n    if count == 0:\n        spilter_list = {}\n        \n        a_spiliter_choice = find_the_optimal_spilter(training_data = training_data, target = target)\n        count = count + 1\n        spilter_list[\"第\"+str(count)+\"次特征选择\"] = a_spiliter_choice\n\n    else:\n        #因为已经找到了最佳的分割点，有一方无法继续分割，向另外一方继续分割\n#         print(spilter_list[\"第\"+str(count-1)+\"次特征选择\"][0])\n#         print(spilter_list[\"第\"+str(count-1)+\"次特征选择\"][1])\n\n        a_spiliter_choice = find_the_optimal_spilter(training_data = training_data, target = target)\n        count = count + 1\n        spilter_list[\"第\"+str(count)+\"次特征选择\"] = a_spiliter_choice\n        \n        #设置递归终止条件\n        if a_spiliter_choice == None:\n            return spilter_list\n\n    key = spilter_list[\"第\"+str(count)+\"次特征选择\"][0]\n    value = spilter_list[\"第\"+str(count)+\"次特征选择\"][1]\n    new_training_data = training_data[training_data[key] != value]\n    print(new_training_data)\n            \n    return persistent_spliter_choice(training_data = new_training_data,target=target,count = count,spilter_list=spilter_list)"
    },
    "executionTime": "2020-02-08T13:45:47.819Z"
   },
   {
    "cell": {
     "executionCount": 138,
     "executionEventId": "9a3f2ed3-63cb-49b9-86c8-1185ac66c3e5",
     "hasError": false,
     "id": "b0b688d7-31eb-4cab-98da-6d028d128a68",
     "outputs": [
      {
       "name": "stderr",
       "output_type": "stream",
       "text": "ic| f: 'family_number'\nic| values: {1, 2}\nic| f: 'gender'\nic| values: {'F', 'M'}\nic| f: 'income'\nic| values: {'+10', '-10'}\nic| f: 'family_number'\nic| values: {1, 2}\nic| f: 'gender'\nic| values: {'F', 'M'}\nic| f: 'income'\nic| values: {'+10'}\nic| f: 'family_number'\nic| values: {1}\nic| f: 'gender'\nic| values: {'F', 'M'}\nic| f: 'income'\nic| values: {'+10'}\nic| f: 'family_number'\nic| values: set()\nic| f: 'gender'\n"
      },
      {
       "name": "stdout",
       "output_type": "stream",
       "text": "spliter is: ('income', '-10')\nthe min entropy is: 0.6730116670092565\n  gender income  family_number  bought\n0      F    +10              1       1\n2      F    +10              2       1\n3      F    +10              1       0\n4      M    +10              1       0\n5      M    +10              1       0\nspliter is: ('family_number', 2)\nthe min entropy is: 0.5623351446188083\n  gender income  family_number  bought\n0      F    +10              1       1\n3      F    +10              1       0\n4      M    +10              1       0\n5      M    +10              1       0\nspliter is: ('income', '+10')\nthe min entropy is: 0.5623351446188083\nEmpty DataFrame\nColumns: [gender, income, family_number, bought]\nIndex: []\n"
      },
      {
       "name": "stderr",
       "output_type": "stream",
       "text": "ic| values: set()\nic| f: 'income'\nic| values: set()\n"
      },
      {
       "name": "stdout",
       "output_type": "stream",
       "text": "spliter is: None\nthe min entropy is: inf\n"
      }
     ],
     "persistentId": "3fb2e02b-65bc-43bb-b372-a207226bdce4",
     "text": "all_spliter_choice = persistent_spliter_choice(training_data=dataset, target='bought')"
    },
    "executionTime": "2020-02-08T13:45:48.653Z"
   },
   {
    "cell": {
     "executionCount": 1,
     "executionEventId": "a7a486c3-78a3-4039-a9b5-3a4db7682d5f",
     "hasError": false,
     "id": "89c25738-f249-45d6-83eb-5d21c6051a68",
     "outputs": [],
     "persistentId": "cd45b35d-ef65-41ef-ab5e-0c188895dae4",
     "text": "mock_data = {\n    'gender':['F', 'F', 'F', 'F', 'M', 'M', 'M'],\n    'income': ['+10', '-10', '+10', '+10', '+10', '+10', '-10'],\n    'family_number': [1, 1, 2, 1, 1, 1, 2],\n   # 'pet': [1, 1, 1, 0, 0, 0, 1],\n    'bought': [1, 1, 1, 0, 0, 0, 1],\n}"
    },
    "executionTime": "2020-02-08T13:49:36.236Z"
   },
   {
    "cell": {
     "executionCount": 2,
     "executionEventId": "7c43040c-bed2-47fc-94bd-337cf0855ee5",
     "hasError": false,
     "id": "f634d133-e184-43f5-a38a-c842f67bdc0b",
     "outputs": [],
     "persistentId": "948bfebc-3f0f-44e1-ae12-0fee29ecaef3",
     "text": "import pandas as pd\nfrom collections import Counter\nfrom icecream import ic\ndataset = pd.DataFrame.from_dict(mock_data)"
    },
    "executionTime": "2020-02-08T13:49:40.405Z"
   },
   {
    "cell": {
     "executionCount": 3,
     "executionEventId": "a99fa5a5-15cd-44c2-bfbf-2c8ff51fbb99",
     "hasError": false,
     "id": "f8ceaa5b-38d8-4b1e-ba12-766fff3701b5",
     "outputs": [
      {
       "data": {
        "text/html": "<div>\n<style scoped>\n    .dataframe tbody tr th:only-of-type {\n        vertical-align: middle;\n    }\n\n    .dataframe tbody tr th {\n        vertical-align: top;\n    }\n\n    .dataframe thead th {\n        text-align: right;\n    }\n</style>\n<table border=\"1\" class=\"dataframe\">\n  <thead>\n    <tr style=\"text-align: right;\">\n      <th></th>\n      <th>gender</th>\n      <th>income</th>\n      <th>family_number</th>\n      <th>bought</th>\n    </tr>\n  </thead>\n  <tbody>\n    <tr>\n      <td>0</td>\n      <td>F</td>\n      <td>+10</td>\n      <td>1</td>\n      <td>1</td>\n    </tr>\n    <tr>\n      <td>1</td>\n      <td>F</td>\n      <td>-10</td>\n      <td>1</td>\n      <td>1</td>\n    </tr>\n    <tr>\n      <td>2</td>\n      <td>F</td>\n      <td>+10</td>\n      <td>2</td>\n      <td>1</td>\n    </tr>\n    <tr>\n      <td>3</td>\n      <td>F</td>\n      <td>+10</td>\n      <td>1</td>\n      <td>0</td>\n    </tr>\n    <tr>\n      <td>4</td>\n      <td>M</td>\n      <td>+10</td>\n      <td>1</td>\n      <td>0</td>\n    </tr>\n    <tr>\n      <td>5</td>\n      <td>M</td>\n      <td>+10</td>\n      <td>1</td>\n      <td>0</td>\n    </tr>\n    <tr>\n      <td>6</td>\n      <td>M</td>\n      <td>-10</td>\n      <td>2</td>\n      <td>1</td>\n    </tr>\n  </tbody>\n</table>\n</div>",
        "text/plain": "  gender income  family_number  bought\n0      F    +10              1       1\n1      F    -10              1       1\n2      F    +10              2       1\n3      F    +10              1       0\n4      M    +10              1       0\n5      M    +10              1       0\n6      M    -10              2       1"
       },
       "execution_count": 3,
       "metadata": {},
       "output_type": "execute_result"
      }
     ],
     "persistentId": "7b7c0c3b-f538-4f55-8307-39f1bd2f7537",
     "text": "dataset"
    },
    "executionTime": "2020-02-08T13:50:06.537Z"
   },
   {
    "cell": {
     "executionCount": 4,
     "executionEventId": "857e4d2c-8db4-482d-b634-9e4c5c00cca0",
     "hasError": false,
     "id": "89c25738-f249-45d6-83eb-5d21c6051a68",
     "outputs": [],
     "persistentId": "cd45b35d-ef65-41ef-ab5e-0c188895dae4",
     "text": "mock_data = {\n    'gender':['F', 'M', 'F', 'F', 'M', 'M', 'M'],\n    'income': ['+10', '-10', '+10', '+10', '+10', '+10', '-10'],\n    'family_number': [1, 1, 2, 1, 1, 1, 2],\n   # 'pet': [1, 1, 1, 0, 0, 0, 1],\n    'bought': [1, 1, 1, 0, 0, 0, 1],\n}"
    },
    "executionTime": "2020-02-08T13:50:52.624Z"
   },
   {
    "cell": {
     "executionCount": 5,
     "executionEventId": "7db7c908-a5d6-4aaf-ae88-2d4be15e9f75",
     "hasError": false,
     "id": "f634d133-e184-43f5-a38a-c842f67bdc0b",
     "outputs": [],
     "persistentId": "948bfebc-3f0f-44e1-ae12-0fee29ecaef3",
     "text": "import pandas as pd\nfrom collections import Counter\nfrom icecream import ic\ndataset = pd.DataFrame.from_dict(mock_data)"
    },
    "executionTime": "2020-02-08T13:50:53.536Z"
   },
   {
    "cell": {
     "executionCount": 6,
     "executionEventId": "af7297d8-4b44-4f47-b357-9bdb36d81d68",
     "hasError": false,
     "id": "f8ceaa5b-38d8-4b1e-ba12-766fff3701b5",
     "outputs": [
      {
       "data": {
        "text/html": "<div>\n<style scoped>\n    .dataframe tbody tr th:only-of-type {\n        vertical-align: middle;\n    }\n\n    .dataframe tbody tr th {\n        vertical-align: top;\n    }\n\n    .dataframe thead th {\n        text-align: right;\n    }\n</style>\n<table border=\"1\" class=\"dataframe\">\n  <thead>\n    <tr style=\"text-align: right;\">\n      <th></th>\n      <th>gender</th>\n      <th>income</th>\n      <th>family_number</th>\n      <th>bought</th>\n    </tr>\n  </thead>\n  <tbody>\n    <tr>\n      <td>0</td>\n      <td>F</td>\n      <td>+10</td>\n      <td>1</td>\n      <td>1</td>\n    </tr>\n    <tr>\n      <td>1</td>\n      <td>M</td>\n      <td>-10</td>\n      <td>1</td>\n      <td>1</td>\n    </tr>\n    <tr>\n      <td>2</td>\n      <td>F</td>\n      <td>+10</td>\n      <td>2</td>\n      <td>1</td>\n    </tr>\n    <tr>\n      <td>3</td>\n      <td>F</td>\n      <td>+10</td>\n      <td>1</td>\n      <td>0</td>\n    </tr>\n    <tr>\n      <td>4</td>\n      <td>M</td>\n      <td>+10</td>\n      <td>1</td>\n      <td>0</td>\n    </tr>\n    <tr>\n      <td>5</td>\n      <td>M</td>\n      <td>+10</td>\n      <td>1</td>\n      <td>0</td>\n    </tr>\n    <tr>\n      <td>6</td>\n      <td>M</td>\n      <td>-10</td>\n      <td>2</td>\n      <td>1</td>\n    </tr>\n  </tbody>\n</table>\n</div>",
        "text/plain": "  gender income  family_number  bought\n0      F    +10              1       1\n1      M    -10              1       1\n2      F    +10              2       1\n3      F    +10              1       0\n4      M    +10              1       0\n5      M    +10              1       0\n6      M    -10              2       1"
       },
       "execution_count": 6,
       "metadata": {},
       "output_type": "execute_result"
      }
     ],
     "persistentId": "7b7c0c3b-f538-4f55-8307-39f1bd2f7537",
     "text": "dataset"
    },
    "executionTime": "2020-02-08T13:50:54.618Z"
   },
   {
    "cell": {
     "executionCount": 7,
     "executionEventId": "cf91a821-5796-4613-952c-37cc48b7f437",
     "hasError": false,
     "id": "b6a8def0-0bff-4372-9092-32bf08a6016a",
     "outputs": [],
     "persistentId": "71a10e16-219d-4fa7-adb1-f4bed4fcfefe",
     "text": "def entropy(elements):\n    '''群体的混乱程度，信息熵'''\n    counter = Counter(elements)\n    probs = [counter[c] / len(elements) for c in set(elements)]\n#     ic(probs)\n    return - sum(p * np.log(p) for p in probs)"
    },
    "executionTime": "2020-02-08T13:50:58.183Z"
   },
   {
    "cell": {
     "executionCount": 8,
     "executionEventId": "f271c2da-0884-4965-bc20-61c41bace885",
     "hasError": false,
     "id": "3c2d71b9-b033-4053-ab70-0be4c932aa12",
     "outputs": [],
     "persistentId": "591c9dfc-264d-40d4-9301-7824ba2ceae8",
     "text": "\"\"\"找到最佳的特征划分决策树，但仅限于一级，没有进一步延伸，加一个递归条件就可以改造成依次拓展每一层决策条件了\n(划分次数呈2^n增长），有时间再做\"\"\"\ndef find_the_optimal_spilter(training_data: pd.DataFrame, target: str) -> str:\n    x_fields = set(training_data.columns.tolist()) - {target}\n    \n    spliter = None\n    min_entropy = float('inf')\n    \n    for f in x_fields:\n        ic(f)\n        values = set(training_data[f])\n        ic(values)\n        for v in values:\n            sub_spliter_1 = training_data[training_data[f] == v][target].tolist()\n#             ic(sub_spliter_1)\n            # split by the current feature and one value\n            \n            entropy_1 = entropy(sub_spliter_1)\n#             ic(entropy_1)\n            \n            sub_spliter_2 = training_data[training_data[f] != v][target].tolist()\n#             ic(sub_split_2)\n            \n            entropy_2 = entropy(sub_spliter_2)\n#             ic(entropy_2)\n            \n            entropy_v = entropy_1 + entropy_2\n#             ic(entropy_v)\n            \n            if entropy_v <= min_entropy:\n                min_entropy = entropy_v\n                spliter = (f, v)\n    \n    print('spliter is: {}'.format(spliter))\n    print('the min entropy is: {}'.format(min_entropy))\n    \n    return spliter"
    },
    "executionTime": "2020-02-08T13:50:58.600Z"
   },
   {
    "cell": {
     "executionCount": 9,
     "executionEventId": "82364fa3-fa5a-417b-a3ff-f022b4084d73",
     "hasError": false,
     "id": "62d4ceb4-1bc2-454f-a96d-a09aa3ee1575",
     "outputs": [],
     "persistentId": "3292e0e6-21e1-40ec-88e9-f272265075ab",
     "text": "def persistent_spliter_choice(training_data: pd.DataFrame, target: str, count=0, spilter_list=None):\n     \n    if count == 0:\n        spilter_list = {}\n        \n        a_spiliter_choice = find_the_optimal_spilter(training_data = training_data, target = target)\n        count = count + 1\n        spilter_list[\"第\"+str(count)+\"次特征选择\"] = a_spiliter_choice\n\n    else:\n        #因为已经找到了最佳的分割点，有一方无法继续分割，向另外一方继续分割\n#         print(spilter_list[\"第\"+str(count-1)+\"次特征选择\"][0])\n#         print(spilter_list[\"第\"+str(count-1)+\"次特征选择\"][1])\n\n        a_spiliter_choice = find_the_optimal_spilter(training_data = training_data, target = target)\n        count = count + 1\n        spilter_list[\"第\"+str(count)+\"次特征选择\"] = a_spiliter_choice\n        \n        #设置递归终止条件\n        if a_spiliter_choice == None:\n            return spilter_list\n\n    key = spilter_list[\"第\"+str(count)+\"次特征选择\"][0]\n    value = spilter_list[\"第\"+str(count)+\"次特征选择\"][1]\n    new_training_data = training_data[training_data[key] != value]\n    print(new_training_data)\n            \n    return persistent_spliter_choice(training_data = new_training_data,target=target,count = count,spilter_list=spilter_list)"
    },
    "executionTime": "2020-02-08T13:50:59.239Z"
   },
   {
    "cell": {
     "executionCount": 10,
     "executionEventId": "35f68981-306c-44df-826d-4e7c448815b9",
     "hasError": true,
     "id": "7e473c74-2878-4430-9c5a-1891ba1ebb37",
     "outputs": [
      {
       "name": "stderr",
       "output_type": "stream",
       "text": "ic| f: 'gender'\nic| values: {'M', 'F'}\n"
      },
      {
       "ename": "NameError",
       "evalue": "name 'np' is not defined",
       "output_type": "error",
       "traceback": [
        "\u001b[0;31m---------------------------------------------------------------------------\u001b[0m",
        "\u001b[0;31mNameError\u001b[0m                                 Traceback (most recent call last)",
        "\u001b[0;32m<ipython-input-10-8502d417e4b8>\u001b[0m in \u001b[0;36m<module>\u001b[0;34m\u001b[0m\n\u001b[0;32m----> 1\u001b[0;31m \u001b[0mall_spliter_choice\u001b[0m \u001b[0;34m=\u001b[0m \u001b[0mpersistent_spliter_choice\u001b[0m\u001b[0;34m(\u001b[0m\u001b[0mtraining_data\u001b[0m\u001b[0;34m=\u001b[0m\u001b[0mdataset\u001b[0m\u001b[0;34m,\u001b[0m \u001b[0mtarget\u001b[0m\u001b[0;34m=\u001b[0m\u001b[0;34m'bought'\u001b[0m\u001b[0;34m)\u001b[0m\u001b[0;34m\u001b[0m\u001b[0;34m\u001b[0m\u001b[0m\n\u001b[0m",
        "\u001b[0;32m<ipython-input-9-40726b829c88>\u001b[0m in \u001b[0;36mpersistent_spliter_choice\u001b[0;34m(training_data, target, count, spilter_list)\u001b[0m\n\u001b[1;32m      4\u001b[0m         \u001b[0mspilter_list\u001b[0m \u001b[0;34m=\u001b[0m \u001b[0;34m{\u001b[0m\u001b[0;34m}\u001b[0m\u001b[0;34m\u001b[0m\u001b[0;34m\u001b[0m\u001b[0m\n\u001b[1;32m      5\u001b[0m \u001b[0;34m\u001b[0m\u001b[0m\n\u001b[0;32m----> 6\u001b[0;31m         \u001b[0ma_spiliter_choice\u001b[0m \u001b[0;34m=\u001b[0m \u001b[0mfind_the_optimal_spilter\u001b[0m\u001b[0;34m(\u001b[0m\u001b[0mtraining_data\u001b[0m \u001b[0;34m=\u001b[0m \u001b[0mtraining_data\u001b[0m\u001b[0;34m,\u001b[0m \u001b[0mtarget\u001b[0m \u001b[0;34m=\u001b[0m \u001b[0mtarget\u001b[0m\u001b[0;34m)\u001b[0m\u001b[0;34m\u001b[0m\u001b[0;34m\u001b[0m\u001b[0m\n\u001b[0m\u001b[1;32m      7\u001b[0m         \u001b[0mcount\u001b[0m \u001b[0;34m=\u001b[0m \u001b[0mcount\u001b[0m \u001b[0;34m+\u001b[0m \u001b[0;36m1\u001b[0m\u001b[0;34m\u001b[0m\u001b[0;34m\u001b[0m\u001b[0m\n\u001b[1;32m      8\u001b[0m         \u001b[0mspilter_list\u001b[0m\u001b[0;34m[\u001b[0m\u001b[0;34m\"第\"\u001b[0m\u001b[0;34m+\u001b[0m\u001b[0mstr\u001b[0m\u001b[0;34m(\u001b[0m\u001b[0mcount\u001b[0m\u001b[0;34m)\u001b[0m\u001b[0;34m+\u001b[0m\u001b[0;34m\"次特征选择\"\u001b[0m\u001b[0;34m]\u001b[0m \u001b[0;34m=\u001b[0m \u001b[0ma_spiliter_choice\u001b[0m\u001b[0;34m\u001b[0m\u001b[0;34m\u001b[0m\u001b[0m\n",
        "\u001b[0;32m<ipython-input-8-ed53a60a5704>\u001b[0m in \u001b[0;36mfind_the_optimal_spilter\u001b[0;34m(training_data, target)\u001b[0m\n\u001b[1;32m     16\u001b[0m             \u001b[0;31m# split by the current feature and one value\u001b[0m\u001b[0;34m\u001b[0m\u001b[0;34m\u001b[0m\u001b[0;34m\u001b[0m\u001b[0m\n\u001b[1;32m     17\u001b[0m \u001b[0;34m\u001b[0m\u001b[0m\n\u001b[0;32m---> 18\u001b[0;31m             \u001b[0mentropy_1\u001b[0m \u001b[0;34m=\u001b[0m \u001b[0mentropy\u001b[0m\u001b[0;34m(\u001b[0m\u001b[0msub_spliter_1\u001b[0m\u001b[0;34m)\u001b[0m\u001b[0;34m\u001b[0m\u001b[0;34m\u001b[0m\u001b[0m\n\u001b[0m\u001b[1;32m     19\u001b[0m \u001b[0;31m#             ic(entropy_1)\u001b[0m\u001b[0;34m\u001b[0m\u001b[0;34m\u001b[0m\u001b[0;34m\u001b[0m\u001b[0m\n\u001b[1;32m     20\u001b[0m \u001b[0;34m\u001b[0m\u001b[0m\n",
        "\u001b[0;32m<ipython-input-7-003e2ae1c431>\u001b[0m in \u001b[0;36mentropy\u001b[0;34m(elements)\u001b[0m\n\u001b[1;32m      4\u001b[0m     \u001b[0mprobs\u001b[0m \u001b[0;34m=\u001b[0m \u001b[0;34m[\u001b[0m\u001b[0mcounter\u001b[0m\u001b[0;34m[\u001b[0m\u001b[0mc\u001b[0m\u001b[0;34m]\u001b[0m \u001b[0;34m/\u001b[0m \u001b[0mlen\u001b[0m\u001b[0;34m(\u001b[0m\u001b[0melements\u001b[0m\u001b[0;34m)\u001b[0m \u001b[0;32mfor\u001b[0m \u001b[0mc\u001b[0m \u001b[0;32min\u001b[0m \u001b[0mset\u001b[0m\u001b[0;34m(\u001b[0m\u001b[0melements\u001b[0m\u001b[0;34m)\u001b[0m\u001b[0;34m]\u001b[0m\u001b[0;34m\u001b[0m\u001b[0;34m\u001b[0m\u001b[0m\n\u001b[1;32m      5\u001b[0m \u001b[0;31m#     ic(probs)\u001b[0m\u001b[0;34m\u001b[0m\u001b[0;34m\u001b[0m\u001b[0;34m\u001b[0m\u001b[0m\n\u001b[0;32m----> 6\u001b[0;31m     \u001b[0;32mreturn\u001b[0m \u001b[0;34m-\u001b[0m \u001b[0msum\u001b[0m\u001b[0;34m(\u001b[0m\u001b[0mp\u001b[0m \u001b[0;34m*\u001b[0m \u001b[0mnp\u001b[0m\u001b[0;34m.\u001b[0m\u001b[0mlog\u001b[0m\u001b[0;34m(\u001b[0m\u001b[0mp\u001b[0m\u001b[0;34m)\u001b[0m \u001b[0;32mfor\u001b[0m \u001b[0mp\u001b[0m \u001b[0;32min\u001b[0m \u001b[0mprobs\u001b[0m\u001b[0;34m)\u001b[0m\u001b[0;34m\u001b[0m\u001b[0;34m\u001b[0m\u001b[0m\n\u001b[0m",
        "\u001b[0;32m<ipython-input-7-003e2ae1c431>\u001b[0m in \u001b[0;36m<genexpr>\u001b[0;34m(.0)\u001b[0m\n\u001b[1;32m      4\u001b[0m     \u001b[0mprobs\u001b[0m \u001b[0;34m=\u001b[0m \u001b[0;34m[\u001b[0m\u001b[0mcounter\u001b[0m\u001b[0;34m[\u001b[0m\u001b[0mc\u001b[0m\u001b[0;34m]\u001b[0m \u001b[0;34m/\u001b[0m \u001b[0mlen\u001b[0m\u001b[0;34m(\u001b[0m\u001b[0melements\u001b[0m\u001b[0;34m)\u001b[0m \u001b[0;32mfor\u001b[0m \u001b[0mc\u001b[0m \u001b[0;32min\u001b[0m \u001b[0mset\u001b[0m\u001b[0;34m(\u001b[0m\u001b[0melements\u001b[0m\u001b[0;34m)\u001b[0m\u001b[0;34m]\u001b[0m\u001b[0;34m\u001b[0m\u001b[0;34m\u001b[0m\u001b[0m\n\u001b[1;32m      5\u001b[0m \u001b[0;31m#     ic(probs)\u001b[0m\u001b[0;34m\u001b[0m\u001b[0;34m\u001b[0m\u001b[0;34m\u001b[0m\u001b[0m\n\u001b[0;32m----> 6\u001b[0;31m     \u001b[0;32mreturn\u001b[0m \u001b[0;34m-\u001b[0m \u001b[0msum\u001b[0m\u001b[0;34m(\u001b[0m\u001b[0mp\u001b[0m \u001b[0;34m*\u001b[0m \u001b[0mnp\u001b[0m\u001b[0;34m.\u001b[0m\u001b[0mlog\u001b[0m\u001b[0;34m(\u001b[0m\u001b[0mp\u001b[0m\u001b[0;34m)\u001b[0m \u001b[0;32mfor\u001b[0m \u001b[0mp\u001b[0m \u001b[0;32min\u001b[0m \u001b[0mprobs\u001b[0m\u001b[0;34m)\u001b[0m\u001b[0;34m\u001b[0m\u001b[0;34m\u001b[0m\u001b[0m\n\u001b[0m",
        "\u001b[0;31mNameError\u001b[0m: name 'np' is not defined"
       ]
      }
     ],
     "persistentId": "3fb2e02b-65bc-43bb-b372-a207226bdce4",
     "text": "all_spliter_choice = persistent_spliter_choice(training_data=dataset, target='bought')"
    },
    "executionTime": "2020-02-08T13:51:00.290Z"
   },
   {
    "cell": {
     "executionCount": 11,
     "executionEventId": "5648dc04-3e3c-403a-8b22-75445ad20dbf",
     "hasError": false,
     "id": "f634d133-e184-43f5-a38a-c842f67bdc0b",
     "outputs": [],
     "persistentId": "948bfebc-3f0f-44e1-ae12-0fee29ecaef3",
     "text": "import pandas as pd\nfrom collections import Counter\nfrom icecream import ic\nimport numpy as np\ndataset = pd.DataFrame.from_dict(mock_data)"
    },
    "executionTime": "2020-02-08T13:51:23.865Z"
   },
   {
    "cell": {
     "executionCount": 12,
     "executionEventId": "ee573dc6-7fd9-4deb-aa68-835b6d26934c",
     "hasError": false,
     "id": "7e473c74-2878-4430-9c5a-1891ba1ebb37",
     "outputs": [
      {
       "name": "stderr",
       "output_type": "stream",
       "text": "ic| f: 'gender'\nic| values: {'M', 'F'}\nic| f: 'income'\nic| values: {'-10', '+10'}\nic| f: 'family_number'\nic| values: {1, 2}\nic| f: 'gender'\nic| values: {'M', 'F'}\nic| f: 'income'\nic| values: {'-10', '+10'}\nic| f: 'family_number'\nic| values: {1}\nic| f: 'gender'\nic| values: {'M'}\nic| f: 'income'\nic| values: {'-10'}\nic| f: 'family_number'\nic| values: {1}\nic| f: 'gender'\nic| values: set()\nic| f: 'income'\nic| values: set()\nic| f: 'family_number'\nic| values: set()\n"
      },
      {
       "name": "stdout",
       "output_type": "stream",
       "text": "spliter is: ('family_number', 2)\nthe min entropy is: 0.6730116670092565\n  gender income  family_number  bought\n0      F    +10              1       1\n1      M    -10              1       1\n3      F    +10              1       0\n4      M    +10              1       0\n5      M    +10              1       0\nspliter is: ('income', '+10')\nthe min entropy is: 0.5623351446188083\n  gender income  family_number  bought\n1      M    -10              1       1\nspliter is: ('family_number', 1)\nthe min entropy is: 0.0\nEmpty DataFrame\nColumns: [gender, income, family_number, bought]\nIndex: []\nspliter is: None\nthe min entropy is: inf\n"
      }
     ],
     "persistentId": "3fb2e02b-65bc-43bb-b372-a207226bdce4",
     "text": "all_spliter_choice = persistent_spliter_choice(training_data=dataset, target='bought')"
    },
    "executionTime": "2020-02-08T13:51:32.410Z"
   },
   {
    "cell": {
     "executionCount": 13,
     "executionEventId": "6da4860a-5548-4a05-84af-18f67015d03c",
     "hasError": false,
     "id": "3c2d71b9-b033-4053-ab70-0be4c932aa12",
     "outputs": [],
     "persistentId": "591c9dfc-264d-40d4-9301-7824ba2ceae8",
     "text": "\"\"\"找到最佳的特征划分决策树，但仅限于一级，没有进一步延伸，加一个递归条件就可以改造成依次拓展每一层决策条件了\n(划分次数呈2^n增长），有时间再做\"\"\"\ndef find_the_optimal_spilter(training_data: pd.DataFrame, target: str) -> str:\n    x_fields = set(training_data.columns.tolist()) - {target}\n    \n    spliter = None\n    min_entropy = float('inf')\n    \n    for f in x_fields:\n        ic(f)\n        values = set(training_data[f])\n        ic(values)\n        for v in values:\n            sub_spliter_1 = training_data[training_data[f] == v][target].tolist()\n#             ic(sub_spliter_1)\n            # split by the current feature and one value\n            \n            entropy_1 = entropy(sub_spliter_1)\n#             ic(entropy_1)\n            \n            sub_spliter_2 = training_data[training_data[f] != v][target].tolist()\n#             ic(sub_split_2)\n            \n            entropy_2 = entropy(sub_spliter_2)\n#             ic(entropy_2)\n            \n            entropy_v = entropy_1 + entropy_2\n#             ic(entropy_v)\n            \n            if entropy_v < min_entropy:\n                min_entropy = entropy_v\n                spliter = (f, v)\n    \n    print('spliter is: {}'.format(spliter))\n    print('the min entropy is: {}'.format(min_entropy))\n    \n    return spliter"
    },
    "executionTime": "2020-02-08T13:53:40.455Z"
   },
   {
    "cell": {
     "executionCount": 14,
     "executionEventId": "b0a11cdf-0170-422d-a0fd-f6ef218b01f5",
     "hasError": false,
     "id": "62d4ceb4-1bc2-454f-a96d-a09aa3ee1575",
     "outputs": [],
     "persistentId": "3292e0e6-21e1-40ec-88e9-f272265075ab",
     "text": "def persistent_spliter_choice(training_data: pd.DataFrame, target: str, count=0, spilter_list=None):\n     \n    if count == 0:\n        spilter_list = {}\n        \n        a_spiliter_choice = find_the_optimal_spilter(training_data = training_data, target = target)\n        count = count + 1\n        spilter_list[\"第\"+str(count)+\"次特征选择\"] = a_spiliter_choice\n\n    else:\n        #因为已经找到了最佳的分割点，有一方无法继续分割，向另外一方继续分割\n#         print(spilter_list[\"第\"+str(count-1)+\"次特征选择\"][0])\n#         print(spilter_list[\"第\"+str(count-1)+\"次特征选择\"][1])\n\n        a_spiliter_choice = find_the_optimal_spilter(training_data = training_data, target = target)\n        count = count + 1\n        spilter_list[\"第\"+str(count)+\"次特征选择\"] = a_spiliter_choice\n        \n        #设置递归终止条件\n        if a_spiliter_choice == None:\n            return spilter_list\n\n    key = spilter_list[\"第\"+str(count)+\"次特征选择\"][0]\n    value = spilter_list[\"第\"+str(count)+\"次特征选择\"][1]\n    new_training_data = training_data[training_data[key] != value]\n    print(new_training_data)\n            \n    return persistent_spliter_choice(training_data = new_training_data,target=target,count = count,spilter_list=spilter_list)"
    },
    "executionTime": "2020-02-08T13:53:41.128Z"
   },
   {
    "cell": {
     "executionCount": 15,
     "executionEventId": "f30473ed-aacb-4b65-8660-6668553bd840",
     "hasError": false,
     "id": "7e473c74-2878-4430-9c5a-1891ba1ebb37",
     "outputs": [
      {
       "name": "stderr",
       "output_type": "stream",
       "text": "ic| f: 'gender'\nic| values: {'M', 'F'}\nic| f: 'income'\nic| values: {'-10', '+10'}\nic| f: 'family_number'\nic| values: {1, 2}\nic| f: 'gender'\nic| values: {'M', 'F'}\nic| f: 'income'\nic| values: {'+10'}\nic| f: 'family_number'\nic| values: {1, 2}\nic| f: 'gender'\nic| values: {'F'}\nic| f: 'income'\nic| values: {'+10'}\nic| f: 'family_number'\nic| values: {2}\nic| f: 'gender'\nic| values: set()\nic| f: 'income'\nic| values: set()\nic| f: 'family_number'\nic| values: set()\n"
      },
      {
       "name": "stdout",
       "output_type": "stream",
       "text": "spliter is: ('income', '-10')\nthe min entropy is: 0.6730116670092565\n  gender income  family_number  bought\n0      F    +10              1       1\n2      F    +10              2       1\n3      F    +10              1       0\n4      M    +10              1       0\n5      M    +10              1       0\nspliter is: ('family_number', 1)\nthe min entropy is: 0.5623351446188083\n  gender income  family_number  bought\n2      F    +10              2       1\nspliter is: ('gender', 'F')\nthe min entropy is: 0.0\nEmpty DataFrame\nColumns: [gender, income, family_number, bought]\nIndex: []\nspliter is: None\nthe min entropy is: inf\n"
      }
     ],
     "persistentId": "3fb2e02b-65bc-43bb-b372-a207226bdce4",
     "text": "all_spliter_choice = persistent_spliter_choice(training_data=dataset, target='bought')"
    },
    "executionTime": "2020-02-08T13:53:42.274Z"
   },
   {
    "cell": {
     "executionCount": 16,
     "executionEventId": "01c89982-2a70-4988-94fe-4044822c7827",
     "hasError": false,
     "id": "85fee95a-d643-4bd9-92e8-c41f3e62393a",
     "outputs": [
      {
       "data": {
        "text/plain": "{'第1次特征选择': ('income', '-10'),\n '第2次特征选择': ('family_number', 1),\n '第3次特征选择': ('gender', 'F'),\n '第4次特征选择': None}"
       },
       "execution_count": 16,
       "metadata": {},
       "output_type": "execute_result"
      }
     ],
     "persistentId": "3164d7f7-f7e9-4ab1-9cea-e953499a1d44",
     "text": "all_spliter_choice"
    },
    "executionTime": "2020-02-08T13:53:48.108Z"
   },
   {
    "cell": {
     "executionCount": 17,
     "executionEventId": "61041371-da92-4db6-8144-eea3f4b38460",
     "hasError": false,
     "id": "62d4ceb4-1bc2-454f-a96d-a09aa3ee1575",
     "outputs": [],
     "persistentId": "3292e0e6-21e1-40ec-88e9-f272265075ab",
     "text": "def persistent_spliter_choice(training_data: pd.DataFrame, target: str, count=0, spilter_list=None):\n     \n    if count == 0:\n        spilter_list = {}\n        \n        a_spiliter_choice = find_the_optimal_spilter(training_data = training_data, target = target)\n        count = count + 1\n        spilter_list[\"第\"+str(count)+\"次特征选择\"] = a_spiliter_choice\n\n    else:\n        #因为已经找到了最佳的分割点，有一方无法继续分割，向另外一方继续分割\n#         print(spilter_list[\"第\"+str(count-1)+\"次特征选择\"][0])\n#         print(spilter_list[\"第\"+str(count-1)+\"次特征选择\"][1])\n\n        a_spiliter_choice = find_the_optimal_spilter(training_data = training_data, target = target)\n    \n        #设置递归终止条件\n        if a_spiliter_choice == None:\n            return spilter_list\n        \n        count = count + 1\n        spilter_list[\"第\"+str(count)+\"次特征选择\"] = a_spiliter_choice\n        \n\n\n    key = spilter_list[\"第\"+str(count)+\"次特征选择\"][0]\n    value = spilter_list[\"第\"+str(count)+\"次特征选择\"][1]\n    new_training_data = training_data[training_data[key] != value]\n    print(new_training_data)\n            \n    return persistent_spliter_choice(training_data = new_training_data,target=target,count = count,spilter_list=spilter_list)"
    },
    "executionTime": "2020-02-08T13:54:54.455Z"
   },
   {
    "cell": {
     "executionCount": 18,
     "executionEventId": "4ce32b78-5732-4d23-85ab-c0d2c9a865f7",
     "hasError": false,
     "id": "7e473c74-2878-4430-9c5a-1891ba1ebb37",
     "outputs": [
      {
       "name": "stderr",
       "output_type": "stream",
       "text": "ic| f: 'gender'\nic| values: {'M', 'F'}\nic| f: 'income'\nic| values: {'-10', '+10'}\nic| f: 'family_number'\nic| values: {1, 2}\nic| f: 'gender'\nic| values: {'M', 'F'}\nic| f: 'income'\nic| values: {'+10'}\nic| f: 'family_number'\nic| values: {1, 2}\nic| f: 'gender'\nic| values: {'F'}\nic| f: 'income'\nic| values: {'+10'}\nic| f: 'family_number'\nic| values: {2}\nic| f: 'gender'\nic| values: set()\nic| f: 'income'\nic| values: set()\nic| f: 'family_number'\nic| values: set()\n"
      },
      {
       "name": "stdout",
       "output_type": "stream",
       "text": "spliter is: ('income', '-10')\nthe min entropy is: 0.6730116670092565\n  gender income  family_number  bought\n0      F    +10              1       1\n2      F    +10              2       1\n3      F    +10              1       0\n4      M    +10              1       0\n5      M    +10              1       0\nspliter is: ('family_number', 1)\nthe min entropy is: 0.5623351446188083\n  gender income  family_number  bought\n2      F    +10              2       1\nspliter is: ('gender', 'F')\nthe min entropy is: 0.0\nEmpty DataFrame\nColumns: [gender, income, family_number, bought]\nIndex: []\nspliter is: None\nthe min entropy is: inf\n"
      }
     ],
     "persistentId": "3fb2e02b-65bc-43bb-b372-a207226bdce4",
     "text": "all_spliter_choice = persistent_spliter_choice(training_data=dataset, target='bought')"
    },
    "executionTime": "2020-02-08T13:54:55.242Z"
   },
   {
    "cell": {
     "executionCount": 19,
     "executionEventId": "2d0d8596-af02-47c2-984e-c31413f9763f",
     "hasError": false,
     "id": "85fee95a-d643-4bd9-92e8-c41f3e62393a",
     "outputs": [
      {
       "data": {
        "text/plain": "{'第1次特征选择': ('income', '-10'),\n '第2次特征选择': ('family_number', 1),\n '第3次特征选择': ('gender', 'F')}"
       },
       "execution_count": 19,
       "metadata": {},
       "output_type": "execute_result"
      }
     ],
     "persistentId": "3164d7f7-f7e9-4ab1-9cea-e953499a1d44",
     "text": "all_spliter_choice"
    },
    "executionTime": "2020-02-08T13:54:58.530Z"
   },
   {
    "cell": {
     "executionCount": 20,
     "executionEventId": "65faa3d3-7dbc-4c31-9ba2-ff29985dcfd4",
     "hasError": false,
     "id": "6b3e23fc-1ab3-40e7-badc-9609e93d79a1",
     "outputs": [
      {
       "name": "stdout",
       "output_type": "stream",
       "text": "0 ('income', '-10')\n1 ('family_number', 1)\n2 ('gender', 'F')\n"
      }
     ],
     "persistentId": "6e9a5659-13f5-4651-9ad0-8c2845b46531",
     "text": "for count,value in enumerate(all_spliter_choice.values()):\n    print(count,value)"
    },
    "executionTime": "2020-02-08T13:55:18.592Z"
   },
   {
    "cell": {
     "executionCount": 21,
     "executionEventId": "80adb2df-1091-45d8-bf85-2ab2601d5385",
     "hasError": false,
     "id": "89ca1ec3-8929-4f6a-869e-48964c6043ca",
     "outputs": [],
     "persistentId": "89fe5c51-f40a-46f7-ac06-34e4a442530e",
     "text": "#发现有一个bug，当找不到最佳划分点时（比如两个特征划分增益熵相同，原代码时把遍历最后一个相同的增益熵当做最佳划分点），时间所限没去找相应情况处理方法。\ndef forest_predicate(gender,income,family_nubmer):\n    for value in all_spliter_choice:\n        #income\n        if value[1] == income:\n            return 1\n        else:\n            continue\n        #family_nubmer\n        if value[1] == family_nubmer:\n            return 1\n        else:\n            continue\n        #gender\n        if value[1] == gender:\n            return 1\n        else:\n            return 0 "
    },
    "executionTime": "2020-02-08T14:01:11.851Z"
   },
   {
    "cell": {
     "executionCount": 22,
     "executionEventId": "e8aafde0-2d69-4d85-8906-2c39cdf2f8e1",
     "hasError": false,
     "id": "d8535f08-9dd9-4406-99d5-fc4d91af80ee",
     "outputs": [],
     "persistentId": "04f12c27-3063-489d-b774-6c08236dc075",
     "text": "forest_predicate(gender=+5,income=+10,family_nubmer=+2)"
    },
    "executionTime": "2020-02-08T14:02:03.453Z"
   },
   {
    "cell": {
     "executionCount": 23,
     "executionEventId": "a04bd2fc-1a4a-4cd7-9fee-3040678190de",
     "hasError": false,
     "id": "d8535f08-9dd9-4406-99d5-fc4d91af80ee",
     "outputs": [],
     "persistentId": "04f12c27-3063-489d-b774-6c08236dc075",
     "text": "result = forest_predicate(gender=+5,income=+10,family_nubmer=+2)\nresult"
    },
    "executionTime": "2020-02-08T14:02:17.234Z"
   },
   {
    "cell": {
     "executionCount": 24,
     "executionEventId": "15e31880-fb92-4e6d-a547-bb71f35354a5",
     "hasError": false,
     "id": "d8535f08-9dd9-4406-99d5-fc4d91af80ee",
     "outputs": [
      {
       "name": "stdout",
       "output_type": "stream",
       "text": "None\n"
      }
     ],
     "persistentId": "04f12c27-3063-489d-b774-6c08236dc075",
     "text": "result = forest_predicate(gender=+5,income=+10,family_nubmer=+2)\nprint(result)"
    },
    "executionTime": "2020-02-08T14:02:28.112Z"
   },
   {
    "cell": {
     "executionCount": 25,
     "executionEventId": "174d8f70-5c00-4c57-a01f-909199a866f9",
     "hasError": false,
     "id": "89ca1ec3-8929-4f6a-869e-48964c6043ca",
     "outputs": [],
     "persistentId": "89fe5c51-f40a-46f7-ac06-34e4a442530e",
     "text": "#发现有一个bug，当找不到最佳划分点时（比如两个特征划分增益熵相同，原代码时把遍历最后一个相同的增益熵当做最佳划分点），时间所限没去找相应情况处理方法。\ndef forest_predicate(gender,income,family_nubmer):\n    for count,value in all_spliter_choice:\n        #income\n        if count == 0 and value[1] == income:\n            return 1\n        else:\n            continue\n        #family_nubmer\n        if count == 1 and value[1] == family_nubmer:\n            return 1\n        else:\n            continue\n        #gender\n        if count == 2 and value[1] == gender:\n            return 1\n        else:\n            return 0 "
    },
    "executionTime": "2020-02-08T14:04:04.899Z"
   },
   {
    "cell": {
     "executionCount": 26,
     "executionEventId": "de042140-2701-48f7-acfe-7d023767c581",
     "hasError": true,
     "id": "d8535f08-9dd9-4406-99d5-fc4d91af80ee",
     "outputs": [
      {
       "ename": "ValueError",
       "evalue": "too many values to unpack (expected 2)",
       "output_type": "error",
       "traceback": [
        "\u001b[0;31m---------------------------------------------------------------------------\u001b[0m",
        "\u001b[0;31mValueError\u001b[0m                                Traceback (most recent call last)",
        "\u001b[0;32m<ipython-input-26-f6c2b50da852>\u001b[0m in \u001b[0;36m<module>\u001b[0;34m\u001b[0m\n\u001b[0;32m----> 1\u001b[0;31m \u001b[0mresult\u001b[0m \u001b[0;34m=\u001b[0m \u001b[0mforest_predicate\u001b[0m\u001b[0;34m(\u001b[0m\u001b[0mgender\u001b[0m\u001b[0;34m=\u001b[0m\u001b[0;34m+\u001b[0m\u001b[0;36m5\u001b[0m\u001b[0;34m,\u001b[0m\u001b[0mincome\u001b[0m\u001b[0;34m=\u001b[0m\u001b[0;34m+\u001b[0m\u001b[0;36m10\u001b[0m\u001b[0;34m,\u001b[0m\u001b[0mfamily_nubmer\u001b[0m\u001b[0;34m=\u001b[0m\u001b[0;34m+\u001b[0m\u001b[0;36m2\u001b[0m\u001b[0;34m)\u001b[0m\u001b[0;34m\u001b[0m\u001b[0;34m\u001b[0m\u001b[0m\n\u001b[0m\u001b[1;32m      2\u001b[0m \u001b[0mprint\u001b[0m\u001b[0;34m(\u001b[0m\u001b[0mresult\u001b[0m\u001b[0;34m)\u001b[0m\u001b[0;34m\u001b[0m\u001b[0;34m\u001b[0m\u001b[0m\n",
        "\u001b[0;32m<ipython-input-25-6446f0f778c4>\u001b[0m in \u001b[0;36mforest_predicate\u001b[0;34m(gender, income, family_nubmer)\u001b[0m\n\u001b[1;32m      1\u001b[0m \u001b[0;31m#发现有一个bug，当找不到最佳划分点时（比如两个特征划分增益熵相同，原代码时把遍历最后一个相同的增益熵当做最佳划分点），时间所限没去找相应情况处理方法。\u001b[0m\u001b[0;34m\u001b[0m\u001b[0;34m\u001b[0m\u001b[0;34m\u001b[0m\u001b[0m\n\u001b[1;32m      2\u001b[0m \u001b[0;32mdef\u001b[0m \u001b[0mforest_predicate\u001b[0m\u001b[0;34m(\u001b[0m\u001b[0mgender\u001b[0m\u001b[0;34m,\u001b[0m\u001b[0mincome\u001b[0m\u001b[0;34m,\u001b[0m\u001b[0mfamily_nubmer\u001b[0m\u001b[0;34m)\u001b[0m\u001b[0;34m:\u001b[0m\u001b[0;34m\u001b[0m\u001b[0;34m\u001b[0m\u001b[0m\n\u001b[0;32m----> 3\u001b[0;31m     \u001b[0;32mfor\u001b[0m \u001b[0mcount\u001b[0m\u001b[0;34m,\u001b[0m\u001b[0mvalue\u001b[0m \u001b[0;32min\u001b[0m \u001b[0mall_spliter_choice\u001b[0m\u001b[0;34m:\u001b[0m\u001b[0;34m\u001b[0m\u001b[0;34m\u001b[0m\u001b[0m\n\u001b[0m\u001b[1;32m      4\u001b[0m         \u001b[0;31m#income\u001b[0m\u001b[0;34m\u001b[0m\u001b[0;34m\u001b[0m\u001b[0;34m\u001b[0m\u001b[0m\n\u001b[1;32m      5\u001b[0m         \u001b[0;32mif\u001b[0m \u001b[0mcount\u001b[0m \u001b[0;34m==\u001b[0m \u001b[0;36m0\u001b[0m \u001b[0;32mand\u001b[0m \u001b[0mvalue\u001b[0m\u001b[0;34m[\u001b[0m\u001b[0;36m1\u001b[0m\u001b[0;34m]\u001b[0m \u001b[0;34m==\u001b[0m \u001b[0mincome\u001b[0m\u001b[0;34m:\u001b[0m\u001b[0;34m\u001b[0m\u001b[0;34m\u001b[0m\u001b[0m\n",
        "\u001b[0;31mValueError\u001b[0m: too many values to unpack (expected 2)"
       ]
      }
     ],
     "persistentId": "04f12c27-3063-489d-b774-6c08236dc075",
     "text": "result = forest_predicate(gender=+5,income=+10,family_nubmer=+2)\nprint(result)"
    },
    "executionTime": "2020-02-08T14:04:05.224Z"
   },
   {
    "cell": {
     "executionCount": 27,
     "executionEventId": "54570d3e-f739-4cab-aaf7-95429e6ef299",
     "hasError": false,
     "id": "89ca1ec3-8929-4f6a-869e-48964c6043ca",
     "outputs": [],
     "persistentId": "89fe5c51-f40a-46f7-ac06-34e4a442530e",
     "text": "#发现有一个bug，当找不到最佳划分点时（比如两个特征划分增益熵相同，原代码时把遍历最后一个相同的增益熵当做最佳划分点），时间所限没去找相应情况处理方法。\ndef forest_predicate(gender,income,family_nubmer):\n    for count,value in enumerate(all_spliter_choice):\n        #income\n        if count == 0 and value[1] == income:\n            return 1\n        else:\n            continue\n        #family_nubmer\n        if count == 1 and value[1] == family_nubmer:\n            return 1\n        else:\n            continue\n        #gender\n        if count == 2 and value[1] == gender:\n            return 1\n        else:\n            return 0 "
    },
    "executionTime": "2020-02-08T14:04:25.332Z"
   },
   {
    "cell": {
     "executionCount": 28,
     "executionEventId": "b3a47b4a-e06c-4f4f-bee4-1ef311c9f040",
     "hasError": false,
     "id": "d8535f08-9dd9-4406-99d5-fc4d91af80ee",
     "outputs": [
      {
       "name": "stdout",
       "output_type": "stream",
       "text": "None\n"
      }
     ],
     "persistentId": "04f12c27-3063-489d-b774-6c08236dc075",
     "text": "result = forest_predicate(gender=+5,income=+10,family_nubmer=+2)\nprint(result)"
    },
    "executionTime": "2020-02-08T14:04:26.113Z"
   },
   {
    "cell": {
     "executionCount": 29,
     "executionEventId": "b7436199-05c4-4904-99f4-3e00f1ab1248",
     "hasError": false,
     "id": "89ca1ec3-8929-4f6a-869e-48964c6043ca",
     "outputs": [],
     "persistentId": "89fe5c51-f40a-46f7-ac06-34e4a442530e",
     "text": "#发现有一个bug，当找不到最佳划分点时（比如两个特征划分增益熵相同，原代码时把遍历最后一个相同的增益熵当做最佳划分点），时间所限没去找相应情况处理方法。\ndef forest_predicate(gender,income,family_nubmer):\n    for count,value in enumerate(all_spliter_choice.values()):\n        #income\n        if count == 0 and value[1] == income:\n            return 1\n        else:\n            continue\n        #family_nubmer\n        if count == 1 and value[1] == family_nubmer:\n            return 1\n        else:\n            continue\n        #gender\n        if count == 2 and value[1] == gender:\n            return 1\n        else:\n            return 0 "
    },
    "executionTime": "2020-02-08T14:06:16.547Z"
   },
   {
    "cell": {
     "executionCount": 30,
     "executionEventId": "0205727c-51eb-4ddc-964e-cf46e7d1fd60",
     "hasError": false,
     "id": "d8535f08-9dd9-4406-99d5-fc4d91af80ee",
     "outputs": [
      {
       "name": "stdout",
       "output_type": "stream",
       "text": "None\n"
      }
     ],
     "persistentId": "04f12c27-3063-489d-b774-6c08236dc075",
     "text": "result = forest_predicate(gender=+5,income=+10,family_nubmer=+2)\nprint(result)"
    },
    "executionTime": "2020-02-08T14:06:16.982Z"
   },
   {
    "cell": {
     "executionCount": 31,
     "executionEventId": "deb469dc-078c-47b9-8250-97f4238abd3c",
     "hasError": false,
     "id": "d8535f08-9dd9-4406-99d5-fc4d91af80ee",
     "outputs": [
      {
       "name": "stdout",
       "output_type": "stream",
       "text": "None\n"
      }
     ],
     "persistentId": "04f12c27-3063-489d-b774-6c08236dc075",
     "text": "result = forest_predicate(gender = +5,income = +10,family_nubmer = +2)\nprint(result)"
    },
    "executionTime": "2020-02-08T14:06:34.886Z"
   },
   {
    "cell": {
     "executionCount": 32,
     "executionEventId": "689b65a1-5a63-4eb7-b27e-874e172e84ef",
     "hasError": false,
     "id": "89ca1ec3-8929-4f6a-869e-48964c6043ca",
     "outputs": [],
     "persistentId": "89fe5c51-f40a-46f7-ac06-34e4a442530e",
     "text": "#发现有一个bug，当找不到最佳划分点时（比如两个特征划分增益熵相同，原代码时把遍历最后一个相同的增益熵当做最佳划分点），时间所限没去找相应情况处理方法。\ndef forest_predicate(gender,income,family_nubmer):\n    for count,value in enumerate(all_spliter_choice.values()):\n        #income\n        if count == 0 and value[1] == income:\n            return 1\n        else:\n            continue\n        #family_nubmer\n        if count == 1 and value[1] == family_nubmer:\n            return 1\n        else:\n            continue\n        #gender\n        if count == 2 and value[1] == gender:\n            return 1\n        else:\n            return 0 "
    },
    "executionTime": "2020-02-08T14:06:41.068Z"
   },
   {
    "cell": {
     "executionCount": 33,
     "executionEventId": "1841e36d-4091-47b9-bf2d-cfff9c559843",
     "hasError": false,
     "id": "d8535f08-9dd9-4406-99d5-fc4d91af80ee",
     "outputs": [
      {
       "name": "stdout",
       "output_type": "stream",
       "text": "None\n"
      }
     ],
     "persistentId": "04f12c27-3063-489d-b774-6c08236dc075",
     "text": "result = forest_predicate(gender = +5,income = +10,family_nubmer = +2)\nprint(result)"
    },
    "executionTime": "2020-02-08T14:06:41.360Z"
   },
   {
    "cell": {
     "executionCount": 34,
     "executionEventId": "0cdff53d-2dec-4849-b484-fe9b7b48cd53",
     "hasError": false,
     "id": "89ca1ec3-8929-4f6a-869e-48964c6043ca",
     "outputs": [],
     "persistentId": "89fe5c51-f40a-46f7-ac06-34e4a442530e",
     "text": "#发现有一个bug，当找不到最佳划分点时（比如两个特征划分增益熵相同，原代码时把遍历最后一个相同的增益熵当做最佳划分点），时间所限没去找相应情况处理方法。\ndef forest_predicate(gender,income,family_nubmer):\n    for count,value in enumerate(all_spliter_choice.values()):\n        #income\n        print(value)\n        if count == 0 and value[1] == income:\n            return 1\n        else:\n            continue\n        #family_nubmer\n        if count == 1 and value[1] == family_nubmer:\n            return 1\n        else:\n            continue\n        #gender\n        if count == 2 and value[1] == gender:\n            return 1\n        else:\n            return 0 "
    },
    "executionTime": "2020-02-08T14:06:54.281Z"
   },
   {
    "cell": {
     "executionCount": 35,
     "executionEventId": "3793fdd4-d814-486b-a953-861cd5e1cca1",
     "hasError": false,
     "id": "d8535f08-9dd9-4406-99d5-fc4d91af80ee",
     "outputs": [
      {
       "name": "stdout",
       "output_type": "stream",
       "text": "('income', '-10')\n('family_number', 1)\n('gender', 'F')\nNone\n"
      }
     ],
     "persistentId": "04f12c27-3063-489d-b774-6c08236dc075",
     "text": "result = forest_predicate(gender = +5,income = +10,family_nubmer = +2)\nprint(result)"
    },
    "executionTime": "2020-02-08T14:06:54.702Z"
   },
   {
    "cell": {
     "executionCount": 36,
     "executionEventId": "843468f2-69f0-4e51-a2a9-fbf6d7fac644",
     "hasError": false,
     "id": "89ca1ec3-8929-4f6a-869e-48964c6043ca",
     "outputs": [],
     "persistentId": "89fe5c51-f40a-46f7-ac06-34e4a442530e",
     "text": "#发现有一个bug，当找不到最佳划分点时（比如两个特征划分增益熵相同，原代码时把遍历最后一个相同的增益熵当做最佳划分点），时间所限没去找相应情况处理方法。\ndef forest_predicate(gender,income,family_nubmer):\n    for count,value in enumerate(all_spliter_choice.values()):\n        #income\n        print(value[1])\n        if count == 0 and value[1] == income:\n            return 1\n        else:\n            continue\n        #family_nubmer\n        if count == 1 and value[1] == family_nubmer:\n            return 1\n        else:\n            continue\n        #gender\n        if count == 2 and value[1] == gender:\n            return 1\n        else:\n            return 0 "
    },
    "executionTime": "2020-02-08T14:07:06.583Z"
   },
   {
    "cell": {
     "executionCount": 37,
     "executionEventId": "6edd9601-0857-4777-a1fe-a6475fa2b7dd",
     "hasError": false,
     "id": "d8535f08-9dd9-4406-99d5-fc4d91af80ee",
     "outputs": [
      {
       "name": "stdout",
       "output_type": "stream",
       "text": "-10\n1\nF\nNone\n"
      }
     ],
     "persistentId": "04f12c27-3063-489d-b774-6c08236dc075",
     "text": "result = forest_predicate(gender = +5,income = +10,family_nubmer = +2)\nprint(result)"
    },
    "executionTime": "2020-02-08T14:07:06.983Z"
   },
   {
    "cell": {
     "executionCount": 38,
     "executionEventId": "beb15284-81a3-4609-88cd-b3a22083e6ba",
     "hasError": false,
     "id": "89ca1ec3-8929-4f6a-869e-48964c6043ca",
     "outputs": [],
     "persistentId": "89fe5c51-f40a-46f7-ac06-34e4a442530e",
     "text": "#发现有一个bug，当找不到最佳划分点时（比如两个特征划分增益熵相同，原代码时把遍历最后一个相同的增益熵当做最佳划分点），时间所限没去找相应情况处理方法。\ndef forest_predicate(gender,income,family_nubmer):\n    for count,value in enumerate(all_spliter_choice.values()):\n        #income\n        print(0)\n        print(value[1])\n        if count == 0 and value[1] == income:\n            return 1\n        else:\n            continue\n        #family_nubmer\n        if count == 1 and value[1] == family_nubmer:\n            return 1\n        else:\n            continue\n        #gender\n        if count == 2 and value[1] == gender:\n            return 1\n        else:\n            return 0 "
    },
    "executionTime": "2020-02-08T14:07:19.591Z"
   },
   {
    "cell": {
     "executionCount": 39,
     "executionEventId": "51825630-8a40-41ad-a28e-42c79e428115",
     "hasError": false,
     "id": "d8535f08-9dd9-4406-99d5-fc4d91af80ee",
     "outputs": [
      {
       "name": "stdout",
       "output_type": "stream",
       "text": "0\n-10\n0\n1\n0\nF\nNone\n"
      }
     ],
     "persistentId": "04f12c27-3063-489d-b774-6c08236dc075",
     "text": "result = forest_predicate(gender = +5,income = +10,family_nubmer = +2)\nprint(result)"
    },
    "executionTime": "2020-02-08T14:07:19.866Z"
   },
   {
    "cell": {
     "executionCount": 40,
     "executionEventId": "707d0b5a-b6f6-44d6-b5f3-fcb282cafc87",
     "hasError": false,
     "id": "89ca1ec3-8929-4f6a-869e-48964c6043ca",
     "outputs": [],
     "persistentId": "89fe5c51-f40a-46f7-ac06-34e4a442530e",
     "text": "#发现有一个bug，当找不到最佳划分点时（比如两个特征划分增益熵相同，原代码时把遍历最后一个相同的增益熵当做最佳划分点），时间所限没去找相应情况处理方法。\ndef forest_predicate(gender,income,family_nubmer):\n    for count,value in enumerate(all_spliter_choice.values()):\n        #income\n        print(count)\n        print(value[1])\n        if count == 0 and value[1] == income:\n            return 1\n        else:\n            continue\n        #family_nubmer\n        if count == 1 and value[1] == family_nubmer:\n            return 1\n        else:\n            continue\n        #gender\n        if count == 2 and value[1] == gender:\n            return 1\n        else:\n            return 0 "
    },
    "executionTime": "2020-02-08T14:07:49.566Z"
   },
   {
    "cell": {
     "executionCount": 41,
     "executionEventId": "31a91a35-1a19-49a6-8481-def9bf62afb7",
     "hasError": false,
     "id": "d8535f08-9dd9-4406-99d5-fc4d91af80ee",
     "outputs": [
      {
       "name": "stdout",
       "output_type": "stream",
       "text": "0\n-10\n1\n1\n2\nF\nNone\n"
      }
     ],
     "persistentId": "04f12c27-3063-489d-b774-6c08236dc075",
     "text": "result = forest_predicate(gender = +5,income = +10,family_nubmer = +2)\nprint(result)"
    },
    "executionTime": "2020-02-08T14:07:49.975Z"
   },
   {
    "cell": {
     "executionCount": 42,
     "executionEventId": "2ed70f74-f2ee-49bb-8916-e559aaa40b7e",
     "hasError": false,
     "id": "c3a27e9b-0c9a-4f9c-a32a-717cf0aab7bf",
     "outputs": [
      {
       "data": {
        "text/plain": "{'第1次特征选择': ('income', '-10'),\n '第2次特征选择': ('family_number', 1),\n '第3次特征选择': ('gender', 'F')}"
       },
       "execution_count": 42,
       "metadata": {},
       "output_type": "execute_result"
      }
     ],
     "persistentId": "5decd9dc-7c7a-4931-b7ed-32482641f8f3",
     "text": "all_spliter_choice"
    },
    "executionTime": "2020-02-08T14:09:16.614Z"
   },
   {
    "cell": {
     "executionCount": 43,
     "executionEventId": "128af6fc-88b4-46cc-b57a-61c08a54a2df",
     "hasError": false,
     "id": "89ca1ec3-8929-4f6a-869e-48964c6043ca",
     "outputs": [],
     "persistentId": "89fe5c51-f40a-46f7-ac06-34e4a442530e",
     "text": "#发现有一个bug，当找不到最佳划分点时（比如两个特征划分增益熵相同，原代码时把遍历最后一个相同的增益熵当做最佳划分点），时间所限没去找相应情况处理方法。\ndef forest_predicate(gender,income,family_nubmer):\n    for count,value in enumerate(all_spliter_choice.values()):\n        #income\n        print(count)\n        print(value[1])\n        if count == 0 and value[1] == income:\n            return 1\n        else:\n            pass\n        #family_nubmer\n        if count == 1 and value[1] == family_nubmer:\n            return 1\n        else:\n            pass\n        #gender\n        if count == 2 and value[1] == gender:\n            return 1\n        else:\n            return 0 "
    },
    "executionTime": "2020-02-08T14:14:13.750Z"
   },
   {
    "cell": {
     "executionCount": 44,
     "executionEventId": "0947dd10-fa95-4091-be16-d85d3b45930a",
     "hasError": false,
     "id": "d8535f08-9dd9-4406-99d5-fc4d91af80ee",
     "outputs": [
      {
       "name": "stdout",
       "output_type": "stream",
       "text": "0\n-10\n0\n"
      }
     ],
     "persistentId": "04f12c27-3063-489d-b774-6c08236dc075",
     "text": "result = forest_predicate(gender = +5,income = +10,family_nubmer = +2)\nprint(result)"
    },
    "executionTime": "2020-02-08T14:14:14.136Z"
   },
   {
    "cell": {
     "executionCount": 45,
     "executionEventId": "a680a523-f2fb-4b0f-adc8-d194f45c47c0",
     "hasError": false,
     "id": "89ca1ec3-8929-4f6a-869e-48964c6043ca",
     "outputs": [],
     "persistentId": "89fe5c51-f40a-46f7-ac06-34e4a442530e",
     "text": "#发现有一个bug，当找不到最佳划分点时（比如两个特征划分增益熵相同，原代码时把遍历最后一个相同的增益熵当做最佳划分点），时间所限没去找相应情况处理方法。\ndef forest_predicate(gender,income,family_nubmer):\n    for count,value in enumerate(all_spliter_choice.values()):\n        #income\n        if count == 0 and value[1] == income:\n            return 1\n        else:\n            pass\n        #family_nubmer\n        if count == 1 and value[1] == family_nubmer:\n            return 1\n        else:\n            pass\n        #gender\n        if count == 2 and value[1] == gender:\n            return 1\n        else:\n            return 0 "
    },
    "executionTime": "2020-02-08T14:14:25.801Z"
   },
   {
    "cell": {
     "executionCount": 46,
     "executionEventId": "c7c6b8b9-f5af-449c-9774-846fe0e6598b",
     "hasError": false,
     "id": "d8535f08-9dd9-4406-99d5-fc4d91af80ee",
     "outputs": [
      {
       "name": "stdout",
       "output_type": "stream",
       "text": "0\n"
      }
     ],
     "persistentId": "04f12c27-3063-489d-b774-6c08236dc075",
     "text": "result = forest_predicate(gender = +5,income = +10,family_nubmer = +2)\nprint(result)"
    },
    "executionTime": "2020-02-08T14:14:26.205Z"
   },
   {
    "cell": {
     "executionCount": 47,
     "executionEventId": "764fbf8d-a82f-45c3-a89f-527cdd213533",
     "hasError": false,
     "id": "d8535f08-9dd9-4406-99d5-fc4d91af80ee",
     "outputs": [
      {
       "name": "stdout",
       "output_type": "stream",
       "text": "0\n"
      }
     ],
     "persistentId": "04f12c27-3063-489d-b774-6c08236dc075",
     "text": "result = forest_predicate(gender = \"F\",income = +10,family_nubmer = +2)\nprint(result)"
    },
    "executionTime": "2020-02-08T14:14:42.844Z"
   },
   {
    "cell": {
     "executionCount": 1,
     "executionEventId": "a648a644-be76-47bd-ab2c-411c5ca5bf51",
     "hasError": false,
     "id": "39b30010-107d-4a41-86d1-ce8dd0195708",
     "outputs": [],
     "persistentId": "1f6750c2-6972-4ee5-a74d-a421b823db09",
     "text": "from sklearn.datasets import load_boston\nimport random"
    },
    "executionTime": "2020-02-09T04:07:15.728Z"
   },
   {
    "cell": {
     "executionCount": 2,
     "executionEventId": "b67524b5-9ac7-431c-954b-fd39b276c6d0",
     "hasError": false,
     "id": "f419a132-b852-4455-97ec-49ae5b6bd533",
     "outputs": [],
     "persistentId": "ec3c1605-b6f1-440b-8ba8-a7dc419cf3be",
     "text": "# define partial derivative \ndef partial_derivative_k(x, y, y_hat): \n    n = len(y)\n    gradient = 0\n    for x_i, y_i, y_hat_i in zip(list(x),list(y),list(y_hat)):\n        if y_hat_i <= y_i:\n            gradient += (y_i-x_i)\n        else:\n            gradient += (x_i-y_i) \n    return 1/n * gradient\n\ndef partial_derivative_b(y, y_hat):\n    n = len(y)\n    gradient = 0\n    for y_i, y_hat_i in zip(list(y),list(y_hat)):\n        if y_hat_i <= y_i:\n            gradient = (y_i-1)\n        else:\n            gradient = (1-y_i)\n    return 1/n * gradient"
    },
    "executionTime": "2020-02-09T04:22:23.467Z"
   },
   {
    "cell": {
     "executionCount": 3,
     "executionEventId": "f61ba8d1-fbd8-43c3-ab24-53c2ebc0b746",
     "hasError": true,
     "id": "1f3a5a39-95a2-4f55-9e08-8f514b9e609b",
     "outputs": [
      {
       "ename": "NameError",
       "evalue": "name 'X_rm' is not defined",
       "output_type": "error",
       "traceback": [
        "\u001b[0;31m---------------------------------------------------------------------------\u001b[0m",
        "\u001b[0;31mNameError\u001b[0m                                 Traceback (most recent call last)",
        "\u001b[0;32m<ipython-input-3-43a27d0783d8>\u001b[0m in \u001b[0;36m<module>\u001b[0;34m\u001b[0m\n\u001b[1;32m     10\u001b[0m \u001b[0;32mfor\u001b[0m \u001b[0mi\u001b[0m \u001b[0;32min\u001b[0m \u001b[0mrange\u001b[0m\u001b[0;34m(\u001b[0m\u001b[0miteration_num\u001b[0m\u001b[0;34m)\u001b[0m\u001b[0;34m:\u001b[0m\u001b[0;34m\u001b[0m\u001b[0;34m\u001b[0m\u001b[0m\n\u001b[1;32m     11\u001b[0m \u001b[0;34m\u001b[0m\u001b[0m\n\u001b[0;32m---> 12\u001b[0;31m     \u001b[0mprice_use_current_parameters\u001b[0m \u001b[0;34m=\u001b[0m \u001b[0;34m[\u001b[0m\u001b[0mprice\u001b[0m\u001b[0;34m(\u001b[0m\u001b[0mr\u001b[0m\u001b[0;34m,\u001b[0m \u001b[0mk\u001b[0m\u001b[0;34m,\u001b[0m \u001b[0mb\u001b[0m\u001b[0;34m)\u001b[0m \u001b[0;32mfor\u001b[0m \u001b[0mr\u001b[0m \u001b[0;32min\u001b[0m \u001b[0mX_rm\u001b[0m\u001b[0;34m]\u001b[0m  \u001b[0;31m# \\hat{y}\u001b[0m\u001b[0;34m\u001b[0m\u001b[0;34m\u001b[0m\u001b[0m\n\u001b[0m\u001b[1;32m     13\u001b[0m \u001b[0;34m\u001b[0m\u001b[0m\n\u001b[1;32m     14\u001b[0m     \u001b[0mcurrent_loss\u001b[0m \u001b[0;34m=\u001b[0m \u001b[0mloss_L2\u001b[0m\u001b[0;34m(\u001b[0m\u001b[0my\u001b[0m\u001b[0;34m,\u001b[0m \u001b[0mprice_use_current_parameters\u001b[0m\u001b[0;34m)\u001b[0m\u001b[0;34m\u001b[0m\u001b[0;34m\u001b[0m\u001b[0m\n",
        "\u001b[0;31mNameError\u001b[0m: name 'X_rm' is not defined"
       ]
      }
     ],
     "persistentId": "d9db3784-f825-4cab-9702-5c1284f32198",
     "text": "#initialized parameters,L2 loss\n\nk = random.random() * 200 - 100  # -100 100\nb = random.random() * 200 - 100  # -100 100\n\nlearning_rate = 1e-3\n\niteration_num = 200 \nlosses = []\nfor i in range(iteration_num):\n    \n    price_use_current_parameters = [price(r, k, b) for r in X_rm]  # \\hat{y}\n    \n    current_loss = loss_L2(y, price_use_current_parameters)\n    losses.append(current_loss)\n    print(\"Iteration {}, the loss is {}, parameters k is {} and b is {}\".format(i,current_loss,k,b))\n    \n    k_gradient = partial_derivative_k(X_rm, y, price_use_current_parameters)\n    b_gradient = partial_derivative_b(y, price_use_current_parameters)\n    \n    k = k + (-1 * k_gradient) * learning_rate\n    b = b + (-1 * b_gradient) * learning_rate\nbest_k = k\nbest_b = b"
    },
    "executionTime": "2020-02-09T04:22:52.845Z"
   },
   {
    "cell": {
     "executionCount": 4,
     "executionEventId": "d7ede322-192a-4178-a387-45fe87513d73",
     "hasError": false,
     "id": "39b30010-107d-4a41-86d1-ce8dd0195708",
     "outputs": [],
     "persistentId": "1f6750c2-6972-4ee5-a74d-a421b823db09",
     "text": "from sklearn.datasets import load_boston\nimport random"
    },
    "executionTime": "2020-02-09T04:23:10.612Z"
   },
   {
    "cell": {
     "executionCount": 5,
     "executionEventId": "7d037ee3-4a96-46b4-a4c7-7b5df4cf099b",
     "hasError": false,
     "id": "75da25a7-8a12-41fd-977e-3b6536ee41f8",
     "outputs": [],
     "persistentId": "343c34da-2424-4ac4-bb45-96587ec3971d",
     "text": "dataset = load_boston()\nx,y=dataset['data'],dataset['target']"
    },
    "executionTime": "2020-02-09T04:23:11.344Z"
   },
   {
    "cell": {
     "executionCount": 6,
     "executionEventId": "dbdfdcc9-65af-4eac-a829-24ebb8a9b93f",
     "hasError": false,
     "id": "f3a76b38-da10-4e9e-87c4-9b06bd408222",
     "outputs": [],
     "persistentId": "d43a28e7-f299-459b-affd-5d4a09835e95",
     "text": "X_rm = x[:,5]"
    },
    "executionTime": "2020-02-09T04:23:24.584Z"
   },
   {
    "cell": {
     "executionCount": 7,
     "executionEventId": "d4c48eaa-53f8-4a8d-b6c2-56be21c3ed19",
     "hasError": false,
     "id": "08c2c082-fe8d-4b63-9cd5-686dbef5d28a",
     "outputs": [],
     "persistentId": "7c48d93f-b047-45c9-86cf-67a5a30e6afe",
     "text": "#define target function\ndef price(rm, k, b):\n    return k * rm + b"
    },
    "executionTime": "2020-02-09T04:23:27.125Z"
   },
   {
    "cell": {
     "executionCount": 8,
     "executionEventId": "a27d651b-e839-4113-977f-4178032b4627",
     "hasError": false,
     "id": "bc9981d4-cd40-4c6f-9792-d1f5469defd4",
     "outputs": [],
     "persistentId": "c0b8d38a-9f9e-4f30-82e4-77c75c017f86",
     "text": "def loss_L1(y,y_hat):\n    return sum(abs(y_i - y_hat_i) for y_i, y_hat_i in zip(list(y),list(y_hat)))/len(list(y))"
    },
    "executionTime": "2020-02-09T04:23:27.517Z"
   },
   {
    "cell": {
     "executionCount": 9,
     "executionEventId": "cdf28d22-9cb4-4960-b6f2-8b06416e889a",
     "hasError": false,
     "id": "f419a132-b852-4455-97ec-49ae5b6bd533",
     "outputs": [],
     "persistentId": "ec3c1605-b6f1-440b-8ba8-a7dc419cf3be",
     "text": "# define partial derivative \ndef partial_derivative_k(x, y, y_hat): \n    n = len(y)\n    gradient = 0\n    for x_i, y_i, y_hat_i in zip(list(x),list(y),list(y_hat)):\n        if y_hat_i <= y_i:\n            gradient += (y_i-x_i)\n        else:\n            gradient += (x_i-y_i) \n    return 1/n * gradient\n\ndef partial_derivative_b(y, y_hat):\n    n = len(y)\n    gradient = 0\n    for y_i, y_hat_i in zip(list(y),list(y_hat)):\n        if y_hat_i <= y_i:\n            gradient = (y_i-1)\n        else:\n            gradient = (1-y_i)\n    return 1/n * gradient"
    },
    "executionTime": "2020-02-09T04:23:28.216Z"
   },
   {
    "cell": {
     "executionCount": 10,
     "executionEventId": "983c1925-87c1-46b0-9845-7fc7827d62a9",
     "hasError": true,
     "id": "1f3a5a39-95a2-4f55-9e08-8f514b9e609b",
     "outputs": [
      {
       "ename": "NameError",
       "evalue": "name 'loss_L2' is not defined",
       "output_type": "error",
       "traceback": [
        "\u001b[0;31m---------------------------------------------------------------------------\u001b[0m",
        "\u001b[0;31mNameError\u001b[0m                                 Traceback (most recent call last)",
        "\u001b[0;32m<ipython-input-10-43a27d0783d8>\u001b[0m in \u001b[0;36m<module>\u001b[0;34m\u001b[0m\n\u001b[1;32m     12\u001b[0m     \u001b[0mprice_use_current_parameters\u001b[0m \u001b[0;34m=\u001b[0m \u001b[0;34m[\u001b[0m\u001b[0mprice\u001b[0m\u001b[0;34m(\u001b[0m\u001b[0mr\u001b[0m\u001b[0;34m,\u001b[0m \u001b[0mk\u001b[0m\u001b[0;34m,\u001b[0m \u001b[0mb\u001b[0m\u001b[0;34m)\u001b[0m \u001b[0;32mfor\u001b[0m \u001b[0mr\u001b[0m \u001b[0;32min\u001b[0m \u001b[0mX_rm\u001b[0m\u001b[0;34m]\u001b[0m  \u001b[0;31m# \\hat{y}\u001b[0m\u001b[0;34m\u001b[0m\u001b[0;34m\u001b[0m\u001b[0m\n\u001b[1;32m     13\u001b[0m \u001b[0;34m\u001b[0m\u001b[0m\n\u001b[0;32m---> 14\u001b[0;31m     \u001b[0mcurrent_loss\u001b[0m \u001b[0;34m=\u001b[0m \u001b[0mloss_L2\u001b[0m\u001b[0;34m(\u001b[0m\u001b[0my\u001b[0m\u001b[0;34m,\u001b[0m \u001b[0mprice_use_current_parameters\u001b[0m\u001b[0;34m)\u001b[0m\u001b[0;34m\u001b[0m\u001b[0;34m\u001b[0m\u001b[0m\n\u001b[0m\u001b[1;32m     15\u001b[0m     \u001b[0mlosses\u001b[0m\u001b[0;34m.\u001b[0m\u001b[0mappend\u001b[0m\u001b[0;34m(\u001b[0m\u001b[0mcurrent_loss\u001b[0m\u001b[0;34m)\u001b[0m\u001b[0;34m\u001b[0m\u001b[0;34m\u001b[0m\u001b[0m\n\u001b[1;32m     16\u001b[0m     \u001b[0mprint\u001b[0m\u001b[0;34m(\u001b[0m\u001b[0;34m\"Iteration {}, the loss is {}, parameters k is {} and b is {}\"\u001b[0m\u001b[0;34m.\u001b[0m\u001b[0mformat\u001b[0m\u001b[0;34m(\u001b[0m\u001b[0mi\u001b[0m\u001b[0;34m,\u001b[0m\u001b[0mcurrent_loss\u001b[0m\u001b[0;34m,\u001b[0m\u001b[0mk\u001b[0m\u001b[0;34m,\u001b[0m\u001b[0mb\u001b[0m\u001b[0;34m)\u001b[0m\u001b[0;34m)\u001b[0m\u001b[0;34m\u001b[0m\u001b[0;34m\u001b[0m\u001b[0m\n",
        "\u001b[0;31mNameError\u001b[0m: name 'loss_L2' is not defined"
       ]
      }
     ],
     "persistentId": "d9db3784-f825-4cab-9702-5c1284f32198",
     "text": "#initialized parameters,L2 loss\n\nk = random.random() * 200 - 100  # -100 100\nb = random.random() * 200 - 100  # -100 100\n\nlearning_rate = 1e-3\n\niteration_num = 200 \nlosses = []\nfor i in range(iteration_num):\n    \n    price_use_current_parameters = [price(r, k, b) for r in X_rm]  # \\hat{y}\n    \n    current_loss = loss_L2(y, price_use_current_parameters)\n    losses.append(current_loss)\n    print(\"Iteration {}, the loss is {}, parameters k is {} and b is {}\".format(i,current_loss,k,b))\n    \n    k_gradient = partial_derivative_k(X_rm, y, price_use_current_parameters)\n    b_gradient = partial_derivative_b(y, price_use_current_parameters)\n    \n    k = k + (-1 * k_gradient) * learning_rate\n    b = b + (-1 * b_gradient) * learning_rate\nbest_k = k\nbest_b = b"
    },
    "executionTime": "2020-02-09T04:23:29.821Z"
   },
   {
    "cell": {
     "executionCount": 11,
     "executionEventId": "4ec2d88e-6bd6-4fed-a289-5bf90054a2fb",
     "hasError": false,
     "id": "1f3a5a39-95a2-4f55-9e08-8f514b9e609b",
     "outputs": [
      {
       "name": "stdout",
       "output_type": "stream",
       "text": "Iteration 0, the loss is 426.6244159953912, parameters k is 68.82216813087678 and b is 16.635057872087827\nIteration 1, the loss is 426.72655135697795, parameters k is 68.83841630281353 and b is 16.635079413589803\nIteration 2, the loss is 426.82868671856534, parameters k is 68.85466447475028 and b is 16.63510095509178\nIteration 3, the loss is 426.9308220801531, parameters k is 68.87091264668703 and b is 16.635122496593755\nIteration 4, the loss is 427.03295744174, parameters k is 68.88716081862378 and b is 16.63514403809573\nIteration 5, the loss is 427.13509280332727, parameters k is 68.90340899056054 and b is 16.635165579597707\nIteration 6, the loss is 427.23722816491534, parameters k is 68.91965716249729 and b is 16.635187121099683\nIteration 7, the loss is 427.33936352650227, parameters k is 68.93590533443404 and b is 16.63520866260166\nIteration 8, the loss is 427.4414988880888, parameters k is 68.95215350637079 and b is 16.635230204103635\nIteration 9, the loss is 427.5436342496765, parameters k is 68.96840167830754 and b is 16.63525174560561\nIteration 10, the loss is 427.64576961126386, parameters k is 68.9846498502443 and b is 16.635273287107587\nIteration 11, the loss is 427.7479049728516, parameters k is 69.00089802218105 and b is 16.635294828609563\nIteration 12, the loss is 427.85004033443903, parameters k is 69.0171461941178 and b is 16.63531637011154\nIteration 13, the loss is 427.95217569602585, parameters k is 69.03339436605455 and b is 16.635337911613515\nIteration 14, the loss is 428.05431105761306, parameters k is 69.0496425379913 and b is 16.63535945311549\nIteration 15, the loss is 428.1564464192002, parameters k is 69.06589070992806 and b is 16.635380994617467\nIteration 16, the loss is 428.2585817807875, parameters k is 69.08213888186481 and b is 16.635402536119443\nIteration 17, the loss is 428.36071714237505, parameters k is 69.09838705380156 and b is 16.63542407762142\nIteration 18, the loss is 428.4628525039622, parameters k is 69.11463522573831 and b is 16.635445619123395\nIteration 19, the loss is 428.56498786554914, parameters k is 69.13088339767506 and b is 16.63546716062537\nIteration 20, the loss is 428.66712322713704, parameters k is 69.14713156961182 and b is 16.635488702127347\nIteration 21, the loss is 428.76925858872437, parameters k is 69.16337974154857 and b is 16.635510243629323\nIteration 22, the loss is 428.8713939503114, parameters k is 69.17962791348532 and b is 16.6355317851313\nIteration 23, the loss is 428.9735293118989, parameters k is 69.19587608542207 and b is 16.635553326633275\nIteration 24, the loss is 429.07566467348636, parameters k is 69.21212425735882 and b is 16.63557486813525\nIteration 25, the loss is 429.17780003507283, parameters k is 69.22837242929558 and b is 16.635596409637227\nIteration 26, the loss is 429.27993539666056, parameters k is 69.24462060123233 and b is 16.635617951139203\nIteration 27, the loss is 429.3820707582479, parameters k is 69.26086877316908 and b is 16.63563949264118\nIteration 28, the loss is 429.4842061198354, parameters k is 69.27711694510583 and b is 16.635661034143155\nIteration 29, the loss is 429.58634148142244, parameters k is 69.29336511704258 and b is 16.63568257564513\nIteration 30, the loss is 429.6884768430094, parameters k is 69.30961328897934 and b is 16.635704117147107\nIteration 31, the loss is 429.79061220459715, parameters k is 69.32586146091609 and b is 16.635725658649083\nIteration 32, the loss is 429.8927475661842, parameters k is 69.34210963285284 and b is 16.63574720015106\nIteration 33, the loss is 429.99488292777136, parameters k is 69.35835780478959 and b is 16.635768741653035\nIteration 34, the loss is 430.09701828935874, parameters k is 69.37460597672634 and b is 16.63579028315501\nIteration 35, the loss is 430.199153650946, parameters k is 69.3908541486631 and b is 16.635811824656987\nIteration 36, the loss is 430.3012890125331, parameters k is 69.40710232059985 and b is 16.635833366158963\nIteration 37, the loss is 430.40342437412073, parameters k is 69.4233504925366 and b is 16.63585490766094\nIteration 38, the loss is 430.50555973570835, parameters k is 69.43959866447335 and b is 16.635876449162915\nIteration 39, the loss is 430.60769509729556, parameters k is 69.4558468364101 and b is 16.63589799066489\nIteration 40, the loss is 430.7098304588826, parameters k is 69.47209500834686 and b is 16.635919532166866\nIteration 41, the loss is 430.81196582047016, parameters k is 69.48834318028361 and b is 16.635941073668842\nIteration 42, the loss is 430.9141011820573, parameters k is 69.50459135222036 and b is 16.63596261517082\nIteration 43, the loss is 431.0162365436447, parameters k is 69.52083952415711 and b is 16.635984156672794\nIteration 44, the loss is 431.11837190523204, parameters k is 69.53708769609386 and b is 16.63600569817477\nIteration 45, the loss is 431.2205072668193, parameters k is 69.55333586803062 and b is 16.636027239676746\nIteration 46, the loss is 431.3226426284071, parameters k is 69.56958403996737 and b is 16.636048781178722\nIteration 47, the loss is 431.4247779899937, parameters k is 69.58583221190412 and b is 16.6360703226807\nIteration 48, the loss is 431.5269133515813, parameters k is 69.60208038384087 and b is 16.636091864182674\nIteration 49, the loss is 431.62904871316806, parameters k is 69.61832855577762 and b is 16.63611340568465\nIteration 50, the loss is 431.73118407475545, parameters k is 69.63457672771438 and b is 16.636134947186626\nIteration 51, the loss is 431.8333194363429, parameters k is 69.65082489965113 and b is 16.636156488688602\nIteration 52, the loss is 431.93545479793005, parameters k is 69.66707307158788 and b is 16.636178030190578\nIteration 53, the loss is 432.03759015951766, parameters k is 69.68332124352463 and b is 16.636199571692554\nIteration 54, the loss is 432.1397255211047, parameters k is 69.69956941546138 and b is 16.63622111319453\nIteration 55, the loss is 432.2418608826925, parameters k is 69.71581758739813 and b is 16.636242654696506\nIteration 56, the loss is 432.3439962442792, parameters k is 69.73206575933489 and b is 16.636264196198482\nIteration 57, the loss is 432.446131605867, parameters k is 69.74831393127164 and b is 16.636285737700458\nIteration 58, the loss is 432.548266967454, parameters k is 69.76456210320839 and b is 16.636307279202434\nIteration 59, the loss is 432.6504023290414, parameters k is 69.78081027514514 and b is 16.63632882070441\nIteration 60, the loss is 432.75253769062823, parameters k is 69.7970584470819 and b is 16.636350362206386\nIteration 61, the loss is 432.8546730522155, parameters k is 69.81330661901865 and b is 16.636371903708362\nIteration 62, the loss is 432.95680841380283, parameters k is 69.8295547909554 and b is 16.636393445210338\nIteration 63, the loss is 433.0589437753906, parameters k is 69.84580296289215 and b is 16.636414986712314\nIteration 64, the loss is 433.1610791369778, parameters k is 69.8620511348289 and b is 16.63643652821429\nIteration 65, the loss is 433.2632144985648, parameters k is 69.87829930676565 and b is 16.636458069716266\nIteration 66, the loss is 433.3653498601524, parameters k is 69.8945474787024 and b is 16.636479611218242\nIteration 67, the loss is 433.46748522173965, parameters k is 69.91079565063916 and b is 16.636501152720218\nIteration 68, the loss is 433.56962058332704, parameters k is 69.92704382257591 and b is 16.636522694222194\nIteration 69, the loss is 433.6717559449145, parameters k is 69.94329199451266 and b is 16.63654423572417\nIteration 70, the loss is 433.77389130650147, parameters k is 69.95954016644941 and b is 16.636565777226146\nIteration 71, the loss is 433.8760266680885, parameters k is 69.97578833838617 and b is 16.63658731872812\nIteration 72, the loss is 433.97816202967635, parameters k is 69.99203651032292 and b is 16.636608860230098\nIteration 73, the loss is 434.08029739126374, parameters k is 70.00828468225967 and b is 16.636630401732074\nIteration 74, the loss is 434.1824327528509, parameters k is 70.02453285419642 and b is 16.63665194323405\nIteration 75, the loss is 434.28456811443795, parameters k is 70.04078102613317 and b is 16.636673484736026\nIteration 76, the loss is 434.38670347602493, parameters k is 70.05702919806993 and b is 16.636695026238\nIteration 77, the loss is 434.48883883761226, parameters k is 70.07327737000668 and b is 16.636716567739978\nIteration 78, the loss is 434.5909741991998, parameters k is 70.08952554194343 and b is 16.636738109241954\nIteration 79, the loss is 434.69310956078704, parameters k is 70.10577371388018 and b is 16.63675965074393\nIteration 80, the loss is 434.79524492237414, parameters k is 70.12202188581693 and b is 16.636781192245905\nIteration 81, the loss is 434.8973802839617, parameters k is 70.13827005775369 and b is 16.63680273374788\nIteration 82, the loss is 434.9995156455491, parameters k is 70.15451822969044 and b is 16.636824275249857\nIteration 83, the loss is 435.1016510071365, parameters k is 70.17076640162719 and b is 16.636845816751833\nIteration 84, the loss is 435.2037863687238, parameters k is 70.18701457356394 and b is 16.63686735825381\nIteration 85, the loss is 435.3059217303107, parameters k is 70.2032627455007 and b is 16.636888899755785\nIteration 86, the loss is 435.40805709189783, parameters k is 70.21951091743745 and b is 16.63691044125776\nIteration 87, the loss is 435.51019245348584, parameters k is 70.2357590893742 and b is 16.636931982759737\nIteration 88, the loss is 435.6123278150725, parameters k is 70.25200726131095 and b is 16.636953524261713\nIteration 89, the loss is 435.7144631766596, parameters k is 70.2682554332477 and b is 16.63697506576369\nIteration 90, the loss is 435.8165985382473, parameters k is 70.28450360518445 and b is 16.636996607265665\nIteration 91, the loss is 435.91873389983465, parameters k is 70.3007517771212 and b is 16.63701814876764\nIteration 92, the loss is 436.0208692614219, parameters k is 70.31699994905796 and b is 16.637039690269617\nIteration 93, the loss is 436.12300462300914, parameters k is 70.33324812099471 and b is 16.637061231771593\nIteration 94, the loss is 436.2251399845964, parameters k is 70.34949629293146 and b is 16.63708277327357\nIteration 95, the loss is 436.32727534618385, parameters k is 70.36574446486821 and b is 16.637104314775545\nIteration 96, the loss is 436.429410707771, parameters k is 70.38199263680497 and b is 16.63712585627752\nIteration 97, the loss is 436.531546069358, parameters k is 70.39824080874172 and b is 16.637147397779497\nIteration 98, the loss is 436.6336814309457, parameters k is 70.41448898067847 and b is 16.637168939281473\nIteration 99, the loss is 436.73581679253283, parameters k is 70.43073715261522 and b is 16.63719048078345\nIteration 100, the loss is 436.83795215412, parameters k is 70.44698532455197 and b is 16.637212022285425\nIteration 101, the loss is 436.9400875157075, parameters k is 70.46323349648873 and b is 16.6372335637874\nIteration 102, the loss is 437.04222287729465, parameters k is 70.47948166842548 and b is 16.637255105289377\nIteration 103, the loss is 437.14435823888203, parameters k is 70.49572984036223 and b is 16.637276646791353\nIteration 104, the loss is 437.24649360047005, parameters k is 70.51197801229898 and b is 16.63729818829333\nIteration 105, the loss is 437.3486289620567, parameters k is 70.52822618423573 and b is 16.637319729795305\nIteration 106, the loss is 437.45076432364397, parameters k is 70.54447435617249 and b is 16.63734127129728\nIteration 107, the loss is 437.5528996852308, parameters k is 70.56072252810924 and b is 16.637362812799257\nIteration 108, the loss is 437.6550350468187, parameters k is 70.57697070004599 and b is 16.637384354301233\nIteration 109, the loss is 437.75717040840584, parameters k is 70.59321887198274 and b is 16.63740589580321\nIteration 110, the loss is 437.85930576999317, parameters k is 70.6094670439195 and b is 16.637427437305185\nIteration 111, the loss is 437.9614411315806, parameters k is 70.62571521585625 and b is 16.63744897880716\nIteration 112, the loss is 438.0635764931677, parameters k is 70.641963387793 and b is 16.637470520309137\nIteration 113, the loss is 438.16571185475516, parameters k is 70.65821155972975 and b is 16.637492061811113\nIteration 114, the loss is 438.26784721634243, parameters k is 70.6744597316665 and b is 16.63751360331309\nIteration 115, the loss is 438.3699825779296, parameters k is 70.69070790360325 and b is 16.637535144815065\nIteration 116, the loss is 438.47211793951703, parameters k is 70.70695607554 and b is 16.63755668631704\nIteration 117, the loss is 438.57425330110397, parameters k is 70.72320424747676 and b is 16.637578227819017\nIteration 118, the loss is 438.67638866269175, parameters k is 70.73945241941351 and b is 16.637599769320992\nIteration 119, the loss is 438.77852402427857, parameters k is 70.75570059135026 and b is 16.63762131082297\nIteration 120, the loss is 438.88065938586584, parameters k is 70.77194876328701 and b is 16.637642852324944\nIteration 121, the loss is 438.98279474745334, parameters k is 70.78819693522377 and b is 16.63766439382692\nIteration 122, the loss is 439.0849301090407, parameters k is 70.80444510716052 and b is 16.637685935328896\nIteration 123, the loss is 439.187065470628, parameters k is 70.82069327909727 and b is 16.637707476830872\nIteration 124, the loss is 439.2892008322156, parameters k is 70.83694145103402 and b is 16.63772901833285\nIteration 125, the loss is 439.3913361938027, parameters k is 70.85318962297077 and b is 16.637750559834824\nIteration 126, the loss is 439.4934715553897, parameters k is 70.86943779490753 and b is 16.6377721013368\nIteration 127, the loss is 439.59560691697686, parameters k is 70.88568596684428 and b is 16.637793642838776\nIteration 128, the loss is 439.6977422785644, parameters k is 70.90193413878103 and b is 16.637815184340752\nIteration 129, the loss is 439.79987764015186, parameters k is 70.91818231071778 and b is 16.637836725842728\nIteration 130, the loss is 439.90201300173914, parameters k is 70.93443048265453 and b is 16.637858267344704\nIteration 131, the loss is 440.0041483633266, parameters k is 70.95067865459129 and b is 16.63787980884668\nIteration 132, the loss is 440.10628372491385, parameters k is 70.96692682652804 and b is 16.637901350348656\nIteration 133, the loss is 440.20841908650084, parameters k is 70.98317499846479 and b is 16.637922891850632\nIteration 134, the loss is 440.3105544480882, parameters k is 70.99942317040154 and b is 16.637944433352608\nIteration 135, the loss is 440.4126898096756, parameters k is 71.0156713423383 and b is 16.637965974854584\nIteration 136, the loss is 440.5148251712626, parameters k is 71.03191951427505 and b is 16.63798751635656\nIteration 137, the loss is 440.61696053285004, parameters k is 71.0481676862118 and b is 16.638009057858536\nIteration 138, the loss is 440.7190958944369, parameters k is 71.06441585814855 and b is 16.638030599360512\nIteration 139, the loss is 440.8212312560244, parameters k is 71.0806640300853 and b is 16.638052140862488\nIteration 140, the loss is 440.923366617612, parameters k is 71.09691220202205 and b is 16.638073682364464\nIteration 141, the loss is 441.02550197919913, parameters k is 71.1131603739588 and b is 16.63809522386644\nIteration 142, the loss is 441.12763734078595, parameters k is 71.12940854589556 and b is 16.638116765368416\nIteration 143, the loss is 441.229772702374, parameters k is 71.14565671783231 and b is 16.638138306870392\nIteration 144, the loss is 441.33190806396135, parameters k is 71.16190488976906 and b is 16.638159848372368\nIteration 145, the loss is 441.4340434255484, parameters k is 71.17815306170581 and b is 16.638181389874344\nIteration 146, the loss is 441.53617878713504, parameters k is 71.19440123364257 and b is 16.63820293137632\nIteration 147, the loss is 441.63831414872317, parameters k is 71.21064940557932 and b is 16.638224472878296\nIteration 148, the loss is 441.74044951031004, parameters k is 71.22689757751607 and b is 16.63824601438027\nIteration 149, the loss is 441.8425848718973, parameters k is 71.24314574945282 and b is 16.638267555882248\nIteration 150, the loss is 441.94472023348493, parameters k is 71.25939392138957 and b is 16.638289097384224\nIteration 151, the loss is 442.04685559507215, parameters k is 71.27564209332633 and b is 16.6383106388862\nIteration 152, the loss is 442.14899095665936, parameters k is 71.29189026526308 and b is 16.638332180388176\nIteration 153, the loss is 442.25112631824646, parameters k is 71.30813843719983 and b is 16.63835372189015\nIteration 154, the loss is 442.35326167983396, parameters k is 71.32438660913658 and b is 16.638375263392128\nIteration 155, the loss is 442.45539704142135, parameters k is 71.34063478107333 and b is 16.638396804894104\nIteration 156, the loss is 442.5575324030083, parameters k is 71.35688295301009 and b is 16.63841834639608\nIteration 157, the loss is 442.659667764596, parameters k is 71.37313112494684 and b is 16.638439887898056\nIteration 158, the loss is 442.761803126183, parameters k is 71.38937929688359 and b is 16.63846142940003\nIteration 159, the loss is 442.8639384877708, parameters k is 71.40562746882034 and b is 16.638482970902007\nIteration 160, the loss is 442.96607384935805, parameters k is 71.4218756407571 and b is 16.638504512403983\nIteration 161, the loss is 443.068209210945, parameters k is 71.43812381269385 and b is 16.63852605390596\nIteration 162, the loss is 443.17034457253305, parameters k is 71.4543719846306 and b is 16.638547595407935\nIteration 163, the loss is 443.27247993411953, parameters k is 71.47062015656735 and b is 16.63856913690991\nIteration 164, the loss is 443.374615295707, parameters k is 71.4868683285041 and b is 16.638590678411887\nIteration 165, the loss is 443.4767506572943, parameters k is 71.50311650044085 and b is 16.638612219913863\nIteration 166, the loss is 443.5788860188816, parameters k is 71.5193646723776 and b is 16.63863376141584\nIteration 167, the loss is 443.6810213804687, parameters k is 71.53561284431436 and b is 16.638655302917815\nIteration 168, the loss is 443.7831567420557, parameters k is 71.55186101625111 and b is 16.63867684441979\nIteration 169, the loss is 443.8852921036438, parameters k is 71.56810918818786 and b is 16.638698385921767\nIteration 170, the loss is 443.9874274652302, parameters k is 71.58435736012461 and b is 16.638719927423743\nIteration 171, the loss is 444.089562826818, parameters k is 71.60060553206137 and b is 16.63874146892572\nIteration 172, the loss is 444.1916981884053, parameters k is 71.61685370399812 and b is 16.638763010427695\nIteration 173, the loss is 444.2938335499923, parameters k is 71.63310187593487 and b is 16.63878455192967\nIteration 174, the loss is 444.39596891157987, parameters k is 71.64935004787162 and b is 16.638806093431647\nIteration 175, the loss is 444.4981042731672, parameters k is 71.66559821980837 and b is 16.638827634933623\nIteration 176, the loss is 444.60023963475413, parameters k is 71.68184639174513 and b is 16.6388491764356\nIteration 177, the loss is 444.7023749963416, parameters k is 71.69809456368188 and b is 16.638870717937575\nIteration 178, the loss is 444.8045103579292, parameters k is 71.71434273561863 and b is 16.63889225943955\nIteration 179, the loss is 444.9066457195161, parameters k is 71.73059090755538 and b is 16.638913800941527\nIteration 180, the loss is 445.00878108110385, parameters k is 71.74683907949213 and b is 16.638935342443503\nIteration 181, the loss is 445.1109164426909, parameters k is 71.76308725142889 and b is 16.63895688394548\nIteration 182, the loss is 445.2130518042778, parameters k is 71.77933542336564 and b is 16.638978425447455\nIteration 183, the loss is 445.3151871658655, parameters k is 71.79558359530239 and b is 16.63899996694943\nIteration 184, the loss is 445.41732252745277, parameters k is 71.81183176723914 and b is 16.639021508451407\nIteration 185, the loss is 445.5194578890405, parameters k is 71.8280799391759 and b is 16.639043049953383\nIteration 186, the loss is 445.6215932506275, parameters k is 71.84432811111265 and b is 16.63906459145536\nIteration 187, the loss is 445.7237286122146, parameters k is 71.8605762830494 and b is 16.639086132957335\nIteration 188, the loss is 445.8258639738019, parameters k is 71.87682445498615 and b is 16.63910767445931\nIteration 189, the loss is 445.92799933538896, parameters k is 71.8930726269229 and b is 16.639129215961287\nIteration 190, the loss is 446.030134696976, parameters k is 71.90932079885965 and b is 16.639150757463263\nIteration 191, the loss is 446.1322700585639, parameters k is 71.9255689707964 and b is 16.63917229896524\nIteration 192, the loss is 446.23440542015135, parameters k is 71.94181714273316 and b is 16.639193840467215\nIteration 193, the loss is 446.33654078173805, parameters k is 71.95806531466991 and b is 16.63921538196919\nIteration 194, the loss is 446.43867614332567, parameters k is 71.97431348660666 and b is 16.639236923471167\nIteration 195, the loss is 446.5408115049127, parameters k is 71.99056165854341 and b is 16.639258464973143\nIteration 196, the loss is 446.64294686650004, parameters k is 72.00680983048017 and b is 16.63928000647512\nIteration 197, the loss is 446.74508222808765, parameters k is 72.02305800241692 and b is 16.639301547977094\nIteration 198, the loss is 446.8472175896749, parameters k is 72.03930617435367 and b is 16.63932308947907\nIteration 199, the loss is 446.9493529512615, parameters k is 72.05555434629042 and b is 16.639344630981046\n"
      }
     ],
     "persistentId": "d9db3784-f825-4cab-9702-5c1284f32198",
     "text": "#initialized parameters,L2 loss\n\nk = random.random() * 200 - 100  # -100 100\nb = random.random() * 200 - 100  # -100 100\n\nlearning_rate = 1e-3\n\niteration_num = 200 \nlosses = []\nfor i in range(iteration_num):\n    \n    price_use_current_parameters = [price(r, k, b) for r in X_rm]  # \\hat{y}\n    \n    current_loss = loss_L1(y, price_use_current_parameters)\n    losses.append(current_loss)\n    print(\"Iteration {}, the loss is {}, parameters k is {} and b is {}\".format(i,current_loss,k,b))\n    \n    k_gradient = partial_derivative_k(X_rm, y, price_use_current_parameters)\n    b_gradient = partial_derivative_b(y, price_use_current_parameters)\n    \n    k = k + (-1 * k_gradient) * learning_rate\n    b = b + (-1 * b_gradient) * learning_rate\nbest_k = k\nbest_b = b"
    },
    "executionTime": "2020-02-09T04:23:38.426Z"
   },
   {
    "cell": {
     "executionCount": 13,
     "executionEventId": "2ed3f451-546b-4164-833f-fbf45e38adf9",
     "hasError": false,
     "id": "3f0c67cf-6c34-4ddb-a44e-32d8f062ca1f",
     "outputs": [
      {
       "name": "stderr",
       "output_type": "stream",
       "text": "/Users/junjiexie/opt/anaconda3/lib/python3.7/site-packages/sklearn/externals/six.py:31: DeprecationWarning: The module is deprecated in version 0.21 and will be removed in version 0.23 since we've dropped support for Python 2.7. Please rely on the official version of six (https://pypi.org/project/six/).\n  \"(https://pypi.org/project/six/).\", DeprecationWarning)\n/Users/junjiexie/opt/anaconda3/lib/python3.7/site-packages/sklearn/externals/joblib/__init__.py:15: DeprecationWarning: sklearn.externals.joblib is deprecated in 0.21 and will be removed in 0.23. Please import this functionality directly from joblib, which can be installed with: pip install joblib. If this warning is raised when loading pickled models, you may need to re-serialize those models with scikit-learn 0.21+.\n  warnings.warn(msg, category=DeprecationWarning)\n"
      }
     ],
     "persistentId": "99988cb7-657e-4b26-8f25-33b98788b204",
     "text": "from sklearn.linear_model import LinearRegression\nimport mglearn\nfrom sklearn.model_selection import train_test_split\nimport matplotlib.pyplot as plt\nimport seaborn as sns"
    },
    "executionTime": "2020-02-09T04:24:48.067Z"
   },
   {
    "cell": {
     "executionCount": 14,
     "executionEventId": "bdc3af5a-baf0-4cf6-932d-469f320d66a8",
     "hasError": false,
     "id": "1f3a5a39-95a2-4f55-9e08-8f514b9e609b",
     "outputs": [
      {
       "name": "stdout",
       "output_type": "stream",
       "text": "Iteration 0, the loss is 555.9394363724631, parameters k is -94.98504316268534 and b is 63.53963849595229\nIteration 1, the loss is 556.0415717340512, parameters k is -95.0012913346221 and b is 63.53961695445031\nIteration 2, the loss is 556.1437070956385, parameters k is -95.01753950655885 and b is 63.53959541294833\nIteration 3, the loss is 556.2458424572254, parameters k is -95.0337876784956 and b is 63.53957387144635\nIteration 4, the loss is 556.3479778188128, parameters k is -95.05003585043235 and b is 63.53955232994437\nIteration 5, the loss is 556.4501131804003, parameters k is -95.0662840223691 and b is 63.53953078844239\nIteration 6, the loss is 556.5522485419874, parameters k is -95.08253219430586 and b is 63.53950924694041\nIteration 7, the loss is 556.6543839035747, parameters k is -95.09878036624261 and b is 63.53948770543843\nIteration 8, the loss is 556.7565192651622, parameters k is -95.11502853817936 and b is 63.53946616393645\nIteration 9, the loss is 556.8586546267496, parameters k is -95.13127671011611 and b is 63.53944462243447\nIteration 10, the loss is 556.9607899883357, parameters k is -95.14752488205286 and b is 63.539423080932494\nIteration 11, the loss is 557.0629253499242, parameters k is -95.16377305398962 and b is 63.539401539430514\nIteration 12, the loss is 557.1650607115121, parameters k is -95.18002122592637 and b is 63.539379997928535\nIteration 13, the loss is 557.267196073099, parameters k is -95.19626939786312 and b is 63.539358456426555\nIteration 14, the loss is 557.3693314346864, parameters k is -95.21251756979987 and b is 63.539336914924576\nIteration 15, the loss is 557.4714667962735, parameters k is -95.22876574173662 and b is 63.539315373422596\nIteration 16, the loss is 557.5736021578601, parameters k is -95.24501391367338 and b is 63.53929383192062\nIteration 17, the loss is 557.6757375194479, parameters k is -95.26126208561013 and b is 63.53927229041864\nIteration 18, the loss is 557.7778728810353, parameters k is -95.27751025754688 and b is 63.53925074891666\nIteration 19, the loss is 557.8800082426221, parameters k is -95.29375842948363 and b is 63.53922920741468\nIteration 20, the loss is 557.9821436042092, parameters k is -95.31000660142038 and b is 63.5392076659127\nIteration 21, the loss is 558.084278965797, parameters k is -95.32625477335714 and b is 63.53918612441072\nIteration 22, the loss is 558.1864143273835, parameters k is -95.34250294529389 and b is 63.53916458290874\nIteration 23, the loss is 558.2885496889717, parameters k is -95.35875111723064 and b is 63.53914304140676\nIteration 24, the loss is 558.3906850505592, parameters k is -95.37499928916739 and b is 63.53912149990478\nIteration 25, the loss is 558.4928204121464, parameters k is -95.39124746110414 and b is 63.5390999584028\nIteration 26, the loss is 558.5949557737335, parameters k is -95.4074956330409 and b is 63.53907841690082\nIteration 27, the loss is 558.6970911353211, parameters k is -95.42374380497765 and b is 63.53905687539884\nIteration 28, the loss is 558.7992264969083, parameters k is -95.4399919769144 and b is 63.53903533389686\nIteration 29, the loss is 558.9013618584953, parameters k is -95.45624014885115 and b is 63.53901379239488\nIteration 30, the loss is 559.0034972200825, parameters k is -95.4724883207879 and b is 63.5389922508929\nIteration 31, the loss is 559.1056325816703, parameters k is -95.48873649272466 and b is 63.538970709390924\nIteration 32, the loss is 559.2077679432572, parameters k is -95.50498466466141 and b is 63.538949167888944\nIteration 33, the loss is 559.309903304844, parameters k is -95.52123283659816 and b is 63.538927626386965\nIteration 34, the loss is 559.4120386664316, parameters k is -95.53748100853491 and b is 63.538906084884985\nIteration 35, the loss is 559.5141740280188, parameters k is -95.55372918047166 and b is 63.538884543383006\nIteration 36, the loss is 559.6163093896057, parameters k is -95.56997735240842 and b is 63.538863001881026\nIteration 37, the loss is 559.7184447511933, parameters k is -95.58622552434517 and b is 63.53884146037905\nIteration 38, the loss is 559.8205801127804, parameters k is -95.60247369628192 and b is 63.53881991887707\nIteration 39, the loss is 559.9227154743683, parameters k is -95.61872186821867 and b is 63.53879837737509\nIteration 40, the loss is 560.0248508359556, parameters k is -95.63497004015542 and b is 63.53877683587311\nIteration 41, the loss is 560.1269861975426, parameters k is -95.65121821209218 and b is 63.53875529437113\nIteration 42, the loss is 560.2291215591301, parameters k is -95.66746638402893 and b is 63.53873375286915\nIteration 43, the loss is 560.3312569207177, parameters k is -95.68371455596568 and b is 63.53871221136717\nIteration 44, the loss is 560.4333922823045, parameters k is -95.69996272790243 and b is 63.53869066986519\nIteration 45, the loss is 560.535527643892, parameters k is -95.71621089983918 and b is 63.53866912836321\nIteration 46, the loss is 560.6376630054798, parameters k is -95.73245907177593 and b is 63.53864758686123\nIteration 47, the loss is 560.7397983670667, parameters k is -95.74870724371269 and b is 63.53862604535925\nIteration 48, the loss is 560.841933728654, parameters k is -95.76495541564944 and b is 63.53860450385727\nIteration 49, the loss is 560.9440690902408, parameters k is -95.78120358758619 and b is 63.53858296235529\nIteration 50, the loss is 561.0462044518287, parameters k is -95.79745175952294 and b is 63.53856142085331\nIteration 51, the loss is 561.1483398134153, parameters k is -95.8136999314597 and b is 63.53853987935133\nIteration 52, the loss is 561.2504751750032, parameters k is -95.82994810339645 and b is 63.538518337849354\nIteration 53, the loss is 561.3526105365908, parameters k is -95.8461962753332 and b is 63.538496796347374\nIteration 54, the loss is 561.4547458981777, parameters k is -95.86244444726995 and b is 63.538475254845395\nIteration 55, the loss is 561.5568812597653, parameters k is -95.8786926192067 and b is 63.538453713343415\nIteration 56, the loss is 561.6590166213515, parameters k is -95.89494079114345 and b is 63.538432171841436\nIteration 57, the loss is 561.7611519829397, parameters k is -95.9111889630802 and b is 63.538410630339456\nIteration 58, the loss is 561.8632873445265, parameters k is -95.92743713501696 and b is 63.53838908883748\nIteration 59, the loss is 561.9654227061145, parameters k is -95.94368530695371 and b is 63.5383675473355\nIteration 60, the loss is 562.0675580677015, parameters k is -95.95993347889046 and b is 63.53834600583352\nIteration 61, the loss is 562.1696934292881, parameters k is -95.97618165082721 and b is 63.53832446433154\nIteration 62, the loss is 562.2718287908756, parameters k is -95.99242982276397 and b is 63.53830292282956\nIteration 63, the loss is 562.3739641524631, parameters k is -96.00867799470072 and b is 63.53828138132758\nIteration 64, the loss is 562.4760995140506, parameters k is -96.02492616663747 and b is 63.5382598398256\nIteration 65, the loss is 562.5782348756381, parameters k is -96.04117433857422 and b is 63.53823829832362\nIteration 66, the loss is 562.6803702372252, parameters k is -96.05742251051097 and b is 63.53821675682164\nIteration 67, the loss is 562.7825055988121, parameters k is -96.07367068244773 and b is 63.53819521531966\nIteration 68, the loss is 562.8846409604, parameters k is -96.08991885438448 and b is 63.53817367381768\nIteration 69, the loss is 562.9867763219871, parameters k is -96.10616702632123 and b is 63.5381521323157\nIteration 70, the loss is 563.0889116835741, parameters k is -96.12241519825798 and b is 63.53813059081372\nIteration 71, the loss is 563.191047045162, parameters k is -96.13866337019473 and b is 63.53810904931174\nIteration 72, the loss is 563.2931824067489, parameters k is -96.15491154213149 and b is 63.53808750780976\nIteration 73, the loss is 563.3953177683366, parameters k is -96.17115971406824 and b is 63.538065966307784\nIteration 74, the loss is 563.4974531299243, parameters k is -96.18740788600499 and b is 63.538044424805804\nIteration 75, the loss is 563.5995884915105, parameters k is -96.20365605794174 and b is 63.538022883303825\nIteration 76, the loss is 563.701723853098, parameters k is -96.2199042298785 and b is 63.538001341801845\nIteration 77, the loss is 563.8038592146859, parameters k is -96.23615240181525 and b is 63.537979800299865\nIteration 78, the loss is 563.9059945762722, parameters k is -96.252400573752 and b is 63.537958258797886\nIteration 79, the loss is 564.0081299378601, parameters k is -96.26864874568875 and b is 63.537936717295906\nIteration 80, the loss is 564.1102652994479, parameters k is -96.2848969176255 and b is 63.53791517579393\nIteration 81, the loss is 564.2124006610342, parameters k is -96.30114508956225 and b is 63.53789363429195\nIteration 82, the loss is 564.3145360226223, parameters k is -96.317393261499 and b is 63.53787209278997\nIteration 83, the loss is 564.4166713842093, parameters k is -96.33364143343576 and b is 63.53785055128799\nIteration 84, the loss is 564.5188067457962, parameters k is -96.34988960537251 and b is 63.53782900978601\nIteration 85, the loss is 564.6209421073837, parameters k is -96.36613777730926 and b is 63.53780746828403\nIteration 86, the loss is 564.7230774689712, parameters k is -96.38238594924601 and b is 63.53778592678205\nIteration 87, the loss is 564.8252128305585, parameters k is -96.39863412118277 and b is 63.53776438528007\nIteration 88, the loss is 564.9273481921457, parameters k is -96.41488229311952 and b is 63.53774284377809\nIteration 89, the loss is 565.0294835537323, parameters k is -96.43113046505627 and b is 63.53772130227611\nIteration 90, the loss is 565.1316189153197, parameters k is -96.44737863699302 and b is 63.53769976077413\nIteration 91, the loss is 565.2337542769078, parameters k is -96.46362680892977 and b is 63.53767821927215\nIteration 92, the loss is 565.3358896384948, parameters k is -96.47987498086653 and b is 63.53765667777017\nIteration 93, the loss is 565.4380250000823, parameters k is -96.49612315280328 and b is 63.53763513626819\nIteration 94, the loss is 565.5401603616692, parameters k is -96.51237132474003 and b is 63.53761359476621\nIteration 95, the loss is 565.6422957232567, parameters k is -96.52861949667678 and b is 63.537592053264234\nIteration 96, the loss is 565.7444310848441, parameters k is -96.54486766861353 and b is 63.537570511762254\nIteration 97, the loss is 565.8465664464314, parameters k is -96.56111584055029 and b is 63.537548970260275\nIteration 98, the loss is 565.9487018080184, parameters k is -96.57736401248704 and b is 63.537527428758295\nIteration 99, the loss is 566.0508371696062, parameters k is -96.59361218442379 and b is 63.537505887256316\nIteration 100, the loss is 566.1529725311926, parameters k is -96.60986035636054 and b is 63.537484345754336\nIteration 101, the loss is 566.2551078927803, parameters k is -96.6261085282973 and b is 63.53746280425236\nIteration 102, the loss is 566.3572432543679, parameters k is -96.64235670023405 and b is 63.53744126275038\nIteration 103, the loss is 566.459378615955, parameters k is -96.6586048721708 and b is 63.5374197212484\nIteration 104, the loss is 566.5615139775425, parameters k is -96.67485304410755 and b is 63.53739817974642\nIteration 105, the loss is 566.6636493391289, parameters k is -96.6911012160443 and b is 63.53737663824444\nIteration 106, the loss is 566.7657847007171, parameters k is -96.70734938798105 and b is 63.53735509674246\nIteration 107, the loss is 566.8679200623039, parameters k is -96.7235975599178 and b is 63.53733355524048\nIteration 108, the loss is 566.9700554238915, parameters k is -96.73984573185456 and b is 63.5373120137385\nIteration 109, the loss is 567.072190785479, parameters k is -96.75609390379131 and b is 63.53729047223652\nIteration 110, the loss is 567.174326147066, parameters k is -96.77234207572806 and b is 63.53726893073454\nIteration 111, the loss is 567.276461508653, parameters k is -96.78859024766481 and b is 63.53724738923256\nIteration 112, the loss is 567.3785968702406, parameters k is -96.80483841960157 and b is 63.53722584773058\nIteration 113, the loss is 567.4807322318279, parameters k is -96.82108659153832 and b is 63.5372043062286\nIteration 114, the loss is 567.5828675934152, parameters k is -96.83733476347507 and b is 63.53718276472662\nIteration 115, the loss is 567.6850029550021, parameters k is -96.85358293541182 and b is 63.53716122322464\nIteration 116, the loss is 567.7871383165901, parameters k is -96.86983110734857 and b is 63.537139681722664\nIteration 117, the loss is 567.8892736781771, parameters k is -96.88607927928533 and b is 63.537118140220684\nIteration 118, the loss is 567.9914090397647, parameters k is -96.90232745122208 and b is 63.537096598718705\nIteration 119, the loss is 568.0935444013518, parameters k is -96.91857562315883 and b is 63.537075057216725\nIteration 120, the loss is 568.1956797629387, parameters k is -96.93482379509558 and b is 63.537053515714746\nIteration 121, the loss is 568.2978151245261, parameters k is -96.95107196703233 and b is 63.537031974212766\nIteration 122, the loss is 568.399950486114, parameters k is -96.96732013896909 and b is 63.53701043271079\nIteration 123, the loss is 568.5020858477016, parameters k is -96.98356831090584 and b is 63.53698889120881\nIteration 124, the loss is 568.6042212092881, parameters k is -96.99981648284259 and b is 63.53696734970683\nIteration 125, the loss is 568.7063565708748, parameters k is -97.01606465477934 and b is 63.53694580820485\nIteration 126, the loss is 568.8084919324627, parameters k is -97.0323128267161 and b is 63.53692426670287\nIteration 127, the loss is 568.9106272940495, parameters k is -97.04856099865285 and b is 63.53690272520089\nIteration 128, the loss is 569.012762655638, parameters k is -97.0648091705896 and b is 63.53688118369891\nIteration 129, the loss is 569.1148980172245, parameters k is -97.08105734252635 and b is 63.53685964219693\nIteration 130, the loss is 569.2170333788118, parameters k is -97.0973055144631 and b is 63.53683810069495\nIteration 131, the loss is 569.3191687403992, parameters k is -97.11355368639985 and b is 63.53681655919297\nIteration 132, the loss is 569.4213041019866, parameters k is -97.1298018583366 and b is 63.53679501769099\nIteration 133, the loss is 569.5234394635743, parameters k is -97.14605003027336 and b is 63.53677347618901\nIteration 134, the loss is 569.6255748251608, parameters k is -97.16229820221011 and b is 63.53675193468703\nIteration 135, the loss is 569.727710186749, parameters k is -97.17854637414686 and b is 63.53673039318505\nIteration 136, the loss is 569.8298455483359, parameters k is -97.19479454608361 and b is 63.53670885168307\nIteration 137, the loss is 569.931980909923, parameters k is -97.21104271802037 and b is 63.536687310181094\nIteration 138, the loss is 570.0341162715112, parameters k is -97.22729088995712 and b is 63.536665768679114\nIteration 139, the loss is 570.1362516330977, parameters k is -97.24353906189387 and b is 63.536644227177135\nIteration 140, the loss is 570.2383869946854, parameters k is -97.25978723383062 and b is 63.536622685675155\nIteration 141, the loss is 570.3405223562727, parameters k is -97.27603540576737 and b is 63.536601144173176\nIteration 142, the loss is 570.4426577178598, parameters k is -97.29228357770413 and b is 63.536579602671196\nIteration 143, the loss is 570.5447930794464, parameters k is -97.30853174964088 and b is 63.53655806116922\nIteration 144, the loss is 570.6469284410338, parameters k is -97.32477992157763 and b is 63.53653651966724\nIteration 145, the loss is 570.7490638026214, parameters k is -97.34102809351438 and b is 63.53651497816526\nIteration 146, the loss is 570.8511991642083, parameters k is -97.35727626545113 and b is 63.53649343666328\nIteration 147, the loss is 570.9533345257964, parameters k is -97.37352443738789 and b is 63.5364718951613\nIteration 148, the loss is 571.0554698873835, parameters k is -97.38977260932464 and b is 63.53645035365932\nIteration 149, the loss is 571.1576052489714, parameters k is -97.40602078126139 and b is 63.53642881215734\nIteration 150, the loss is 571.2597406105575, parameters k is -97.42226895319814 and b is 63.53640727065536\nIteration 151, the loss is 571.3618759721458, parameters k is -97.4385171251349 and b is 63.53638572915338\nIteration 152, the loss is 571.4640113337326, parameters k is -97.45476529707165 and b is 63.5363641876514\nIteration 153, the loss is 571.5661466953201, parameters k is -97.4710134690084 and b is 63.53634264614942\nIteration 154, the loss is 571.6682820569066, parameters k is -97.48726164094515 and b is 63.53632110464744\nIteration 155, the loss is 571.7704174184947, parameters k is -97.5035098128819 and b is 63.53629956314546\nIteration 156, the loss is 571.8725527800815, parameters k is -97.51975798481865 and b is 63.53627802164348\nIteration 157, the loss is 571.9746881416693, parameters k is -97.5360061567554 and b is 63.5362564801415\nIteration 158, the loss is 572.0768235032567, parameters k is -97.55225432869216 and b is 63.536234938639524\nIteration 159, the loss is 572.1789588648435, parameters k is -97.56850250062891 and b is 63.536213397137544\nIteration 160, the loss is 572.2810942264307, parameters k is -97.58475067256566 and b is 63.536191855635565\nIteration 161, the loss is 572.3832295880184, parameters k is -97.60099884450241 and b is 63.536170314133585\nIteration 162, the loss is 572.4853649496052, parameters k is -97.61724701643917 and b is 63.536148772631606\nIteration 163, the loss is 572.5875003111922, parameters k is -97.63349518837592 and b is 63.536127231129626\nIteration 164, the loss is 572.6896356727812, parameters k is -97.64974336031267 and b is 63.53610568962765\nIteration 165, the loss is 572.7917710343675, parameters k is -97.66599153224942 and b is 63.53608414812567\nIteration 166, the loss is 572.8939063959544, parameters k is -97.68223970418617 and b is 63.53606260662369\nIteration 167, the loss is 572.9960417575418, parameters k is -97.69848787612293 and b is 63.53604106512171\nIteration 168, the loss is 573.0981771191292, parameters k is -97.71473604805968 and b is 63.53601952361973\nIteration 169, the loss is 573.2003124807172, parameters k is -97.73098421999643 and b is 63.53599798211775\nIteration 170, the loss is 573.3024478423033, parameters k is -97.74723239193318 and b is 63.53597644061577\nIteration 171, the loss is 573.4045832038912, parameters k is -97.76348056386993 and b is 63.53595489911379\nIteration 172, the loss is 573.5067185654777, parameters k is -97.77972873580669 and b is 63.53593335761181\nIteration 173, the loss is 573.6088539270656, parameters k is -97.79597690774344 and b is 63.53591181610983\nIteration 174, the loss is 573.7109892886529, parameters k is -97.81222507968019 and b is 63.53589027460785\nIteration 175, the loss is 573.8131246502401, parameters k is -97.82847325161694 and b is 63.53586873310587\nIteration 176, the loss is 573.9152600118281, parameters k is -97.8447214235537 and b is 63.53584719160389\nIteration 177, the loss is 574.0173953734147, parameters k is -97.86096959549045 and b is 63.53582565010191\nIteration 178, the loss is 574.1195307350018, parameters k is -97.8772177674272 and b is 63.53580410859993\nIteration 179, the loss is 574.2216660965896, parameters k is -97.89346593936395 and b is 63.535782567097954\nIteration 180, the loss is 574.3238014581768, parameters k is -97.9097141113007 and b is 63.535761025595974\nIteration 181, the loss is 574.4259368197642, parameters k is -97.92596228323745 and b is 63.535739484093995\nIteration 182, the loss is 574.5280721813518, parameters k is -97.9422104551742 and b is 63.535717942592015\nIteration 183, the loss is 574.6302075429381, parameters k is -97.95845862711096 and b is 63.535696401090036\nIteration 184, the loss is 574.7323429045266, parameters k is -97.97470679904771 and b is 63.535674859588056\nIteration 185, the loss is 574.834478266113, parameters k is -97.99095497098446 and b is 63.53565331808608\nIteration 186, the loss is 574.9366136277006, parameters k is -98.00720314292121 and b is 63.5356317765841\nIteration 187, the loss is 575.0387489892879, parameters k is -98.02345131485797 and b is 63.53561023508212\nIteration 188, the loss is 575.1408843508754, parameters k is -98.03969948679472 and b is 63.53558869358014\nIteration 189, the loss is 575.243019712462, parameters k is -98.05594765873147 and b is 63.53556715207816\nIteration 190, the loss is 575.3451550740497, parameters k is -98.07219583066822 and b is 63.53554561057618\nIteration 191, the loss is 575.447290435637, parameters k is -98.08844400260497 and b is 63.5355240690742\nIteration 192, the loss is 575.5494257972241, parameters k is -98.10469217454173 and b is 63.53550252757222\nIteration 193, the loss is 575.6515611588119, parameters k is -98.12094034647848 and b is 63.53548098607024\nIteration 194, the loss is 575.7536965203983, parameters k is -98.13718851841523 and b is 63.53545944456826\nIteration 195, the loss is 575.8558318819861, parameters k is -98.15343669035198 and b is 63.53543790306628\nIteration 196, the loss is 575.957967243573, parameters k is -98.16968486228873 and b is 63.5354163615643\nIteration 197, the loss is 576.060102605162, parameters k is -98.18593303422549 and b is 63.53539482006232\nIteration 198, the loss is 576.1622379667489, parameters k is -98.20218120616224 and b is 63.53537327856034\nIteration 199, the loss is 576.2643733283353, parameters k is -98.21842937809899 and b is 63.53535173705836\n"
      }
     ],
     "persistentId": "d9db3784-f825-4cab-9702-5c1284f32198",
     "text": "#initialized parameters,L2 loss\n\nk = random.random() * 200 - 100  # -100 100\nb = random.random() * 200 - 100  # -100 100\n\nlearning_rate = 0.001\n\niteration_num = 200 \nlosses = []\nfor i in range(iteration_num):\n    \n    price_use_current_parameters = [price(r, k, b) for r in X_rm]  # \\hat{y}\n    \n    current_loss = loss_L1(y, price_use_current_parameters)\n    losses.append(current_loss)\n    print(\"Iteration {}, the loss is {}, parameters k is {} and b is {}\".format(i,current_loss,k,b))\n    \n    k_gradient = partial_derivative_k(X_rm, y, price_use_current_parameters)\n    b_gradient = partial_derivative_b(y, price_use_current_parameters)\n    \n    k = k + (-1 * k_gradient) * learning_rate\n    b = b + (-1 * b_gradient) * learning_rate\nbest_k = k\nbest_b = b"
    },
    "executionTime": "2020-02-09T04:25:05.699Z"
   },
   {
    "cell": {
     "executionCount": 15,
     "executionEventId": "a039e62c-67fc-455f-8d7b-39fca54815ef",
     "hasError": false,
     "id": "f419a132-b852-4455-97ec-49ae5b6bd533",
     "outputs": [],
     "persistentId": "ec3c1605-b6f1-440b-8ba8-a7dc419cf3be",
     "text": "# define partial derivative \ndef partial_derivative_k(x, y, y_hat): \n    n = len(y)\n    gradient = 0\n    for x_i, y_i, y_hat_i in zip(list(x),list(y),list(y_hat)):\n        if y_hat_i <= y_i:\n            gradient += (y_i-x_i)\n        else:\n            gradient += (x_i-y_i) \n    return -1/n * gradient\n\ndef partial_derivative_b(y, y_hat):\n    n = len(y)\n    gradient = 0\n    for y_i, y_hat_i in zip(list(y),list(y_hat)):\n        if y_hat_i <= y_i:\n            gradient = (y_i-1)\n        else:\n            gradient = (1-y_i)\n    return -1/n * gradient"
    },
    "executionTime": "2020-02-09T04:25:29.727Z"
   },
   {
    "cell": {
     "executionCount": 16,
     "executionEventId": "1d7f7979-1b33-4a3f-b29e-021906291280",
     "hasError": false,
     "id": "1f3a5a39-95a2-4f55-9e08-8f514b9e609b",
     "outputs": [
      {
       "name": "stdout",
       "output_type": "stream",
       "text": "Iteration 0, the loss is 297.4011183729362, parameters k is 41.66369830830433 and b is 58.092813604427306\nIteration 1, the loss is 297.29898301134847, parameters k is 41.647450136367574 and b is 58.09279206292533\nIteration 2, the loss is 297.1968476497613, parameters k is 41.631201964430815 and b is 58.09277052142335\nIteration 3, the loss is 297.09471228817426, parameters k is 41.614953792494056 and b is 58.09274897992137\nIteration 4, the loss is 296.992576926587, parameters k is 41.5987056205573 and b is 58.09272743841939\nIteration 5, the loss is 296.89044156499966, parameters k is 41.58245744862054 and b is 58.09270589691741\nIteration 6, the loss is 296.7883062034125, parameters k is 41.56620927668378 and b is 58.09268435541543\nIteration 7, the loss is 296.6861708418246, parameters k is 41.54996110474702 and b is 58.09266281391345\nIteration 8, the loss is 296.5840354802373, parameters k is 41.53371293281026 and b is 58.09264127241147\nIteration 9, the loss is 296.48190011865023, parameters k is 41.5174647608735 and b is 58.09261973090949\nIteration 10, the loss is 296.37976475706273, parameters k is 41.50121658893674 and b is 58.09259818940751\nIteration 11, the loss is 296.2776293954754, parameters k is 41.48496841699998 and b is 58.09257664790553\nIteration 12, the loss is 296.1754940338881, parameters k is 41.468720245063224 and b is 58.09255510640355\nIteration 13, the loss is 296.07335867230057, parameters k is 41.452472073126465 and b is 58.09253356490157\nIteration 14, the loss is 295.9712233107133, parameters k is 41.436223901189706 and b is 58.09251202339959\nIteration 15, the loss is 295.8690879491259, parameters k is 41.41997572925295 and b is 58.09249048189761\nIteration 16, the loss is 295.76695258753887, parameters k is 41.40372755731619 and b is 58.092468940395634\nIteration 17, the loss is 295.66481722595097, parameters k is 41.38747938537943 and b is 58.092447398893654\nIteration 18, the loss is 295.56268186436387, parameters k is 41.37123121344267 and b is 58.092425857391675\nIteration 19, the loss is 295.4605465027767, parameters k is 41.35498304150591 and b is 58.092404315889695\nIteration 20, the loss is 295.3584111411895, parameters k is 41.33873486956915 and b is 58.092382774387715\nIteration 21, the loss is 295.2562757796018, parameters k is 41.32248669763239 and b is 58.092361232885736\nIteration 22, the loss is 295.15414041801466, parameters k is 41.30623852569563 and b is 58.092339691383756\nIteration 23, the loss is 295.0520050564276, parameters k is 41.289990353758874 and b is 58.09231814988178\nIteration 24, the loss is 294.94986969484046, parameters k is 41.273742181822115 and b is 58.0922966083798\nIteration 25, the loss is 294.8477343332529, parameters k is 41.257494009885356 and b is 58.09227506687782\nIteration 26, the loss is 294.7455989716654, parameters k is 41.2412458379486 and b is 58.09225352537584\nIteration 27, the loss is 294.643463610078, parameters k is 41.22499766601184 and b is 58.09223198387386\nIteration 28, the loss is 294.54132824849074, parameters k is 41.20874949407508 and b is 58.09221044237188\nIteration 29, the loss is 294.43919288690375, parameters k is 41.19250132213832 and b is 58.0921889008699\nIteration 30, the loss is 294.3370575253158, parameters k is 41.17625315020156 and b is 58.09216735936792\nIteration 31, the loss is 294.23492216372836, parameters k is 41.1600049782648 and b is 58.09214581786594\nIteration 32, the loss is 294.13278680214125, parameters k is 41.14375680632804 and b is 58.09212427636396\nIteration 33, the loss is 294.03065144055387, parameters k is 41.12750863439128 and b is 58.09210273486198\nIteration 34, the loss is 293.92851607896654, parameters k is 41.111260462454524 and b is 58.09208119336\nIteration 35, the loss is 293.8263807173791, parameters k is 41.095012290517765 and b is 58.09205965185802\nIteration 36, the loss is 293.72424535579177, parameters k is 41.078764118581006 and b is 58.09203811035604\nIteration 37, the loss is 293.62210999420427, parameters k is 41.06251594664425 and b is 58.09201656885406\nIteration 38, the loss is 293.5199746326177, parameters k is 41.04626777470749 and b is 58.091995027352084\nIteration 39, the loss is 293.41783927103006, parameters k is 41.03001960277073 and b is 58.091973485850104\nIteration 40, the loss is 293.3157039094425, parameters k is 41.01377143083397 and b is 58.091951944348125\nIteration 41, the loss is 293.2135685478556, parameters k is 40.99752325889721 and b is 58.091930402846145\nIteration 42, the loss is 293.11143318626773, parameters k is 40.98127508696045 and b is 58.091908861344166\nIteration 43, the loss is 293.0092978246801, parameters k is 40.96502691502369 and b is 58.091887319842186\nIteration 44, the loss is 292.90716246309313, parameters k is 40.94877874308693 and b is 58.09186577834021\nIteration 45, the loss is 292.80502710150586, parameters k is 40.932530571150174 and b is 58.09184423683823\nIteration 46, the loss is 292.70289173991847, parameters k is 40.916282399213415 and b is 58.09182269533625\nIteration 47, the loss is 292.60075637833154, parameters k is 40.900034227276656 and b is 58.09180115383427\nIteration 48, the loss is 292.49862101674375, parameters k is 40.8837860553399 and b is 58.09177961233229\nIteration 49, the loss is 292.39648565515625, parameters k is 40.86753788340314 and b is 58.09175807083031\nIteration 50, the loss is 292.2943502935689, parameters k is 40.85128971146638 and b is 58.09173652932833\nIteration 51, the loss is 292.19221493198194, parameters k is 40.83504153952962 and b is 58.09171498782635\nIteration 52, the loss is 292.0900795703945, parameters k is 40.81879336759286 and b is 58.09169344632437\nIteration 53, the loss is 291.98794420880733, parameters k is 40.8025451956561 and b is 58.09167190482239\nIteration 54, the loss is 291.88580884722006, parameters k is 40.78629702371934 and b is 58.09165036332041\nIteration 55, the loss is 291.78367348563233, parameters k is 40.77004885178258 and b is 58.09162882181843\nIteration 56, the loss is 291.6815381240452, parameters k is 40.753800679845824 and b is 58.09160728031645\nIteration 57, the loss is 291.57940276245756, parameters k is 40.737552507909065 and b is 58.09158573881447\nIteration 58, the loss is 291.4772674008706, parameters k is 40.721304335972306 and b is 58.09156419731249\nIteration 59, the loss is 291.37513203928347, parameters k is 40.70505616403555 and b is 58.091542655810514\nIteration 60, the loss is 291.272996677696, parameters k is 40.68880799209879 and b is 58.091521114308534\nIteration 61, the loss is 291.1708613161083, parameters k is 40.67255982016203 and b is 58.091499572806555\nIteration 62, the loss is 291.06872595452097, parameters k is 40.65631164822527 and b is 58.091478031304575\nIteration 63, the loss is 290.9665905929334, parameters k is 40.64006347628851 and b is 58.091456489802596\nIteration 64, the loss is 290.86445523134637, parameters k is 40.62381530435175 and b is 58.091434948300616\nIteration 65, the loss is 290.7623198697587, parameters k is 40.60756713241499 and b is 58.09141340679864\nIteration 66, the loss is 290.66018450817194, parameters k is 40.59131896047823 and b is 58.09139186529666\nIteration 67, the loss is 290.5580491465846, parameters k is 40.575070788541474 and b is 58.09137032379468\nIteration 68, the loss is 290.45591378499745, parameters k is 40.558822616604715 and b is 58.0913487822927\nIteration 69, the loss is 290.3537784234096, parameters k is 40.542574444667956 and b is 58.09132724079072\nIteration 70, the loss is 290.25164306182194, parameters k is 40.5263262727312 and b is 58.09130569928874\nIteration 71, the loss is 290.14950770023506, parameters k is 40.51007810079444 and b is 58.09128415778676\nIteration 72, the loss is 290.04737233864745, parameters k is 40.49382992885768 and b is 58.09126261628478\nIteration 73, the loss is 289.9452369770606, parameters k is 40.47758175692092 and b is 58.0912410747828\nIteration 74, the loss is 289.8431016154727, parameters k is 40.46133358498416 and b is 58.09121953328082\nIteration 75, the loss is 289.7409662538858, parameters k is 40.4450854130474 and b is 58.09119799177884\nIteration 76, the loss is 289.6388308922986, parameters k is 40.42883724111064 and b is 58.09117645027686\nIteration 77, the loss is 289.5366955307111, parameters k is 40.41258906917388 and b is 58.09115490877488\nIteration 78, the loss is 289.43456016912353, parameters k is 40.396340897237124 and b is 58.0911333672729\nIteration 79, the loss is 289.33242480753626, parameters k is 40.380092725300365 and b is 58.09111182577092\nIteration 80, the loss is 289.2302894459492, parameters k is 40.363844553363606 and b is 58.091090284268944\nIteration 81, the loss is 289.1281540843617, parameters k is 40.34759638142685 and b is 58.091068742766964\nIteration 82, the loss is 289.0260187227744, parameters k is 40.33134820949009 and b is 58.091047201264985\nIteration 83, the loss is 288.92388336118705, parameters k is 40.31510003755333 and b is 58.091025659763005\nIteration 84, the loss is 288.82174799959955, parameters k is 40.29885186561657 and b is 58.091004118261026\nIteration 85, the loss is 288.7196126380122, parameters k is 40.28260369367981 and b is 58.090982576759046\nIteration 86, the loss is 288.61747727642495, parameters k is 40.26635552174305 and b is 58.09096103525707\nIteration 87, the loss is 288.51534191483756, parameters k is 40.25010734980629 and b is 58.09093949375509\nIteration 88, the loss is 288.4132065532503, parameters k is 40.23385917786953 and b is 58.09091795225311\nIteration 89, the loss is 288.3110711916632, parameters k is 40.217611005932774 and b is 58.09089641075113\nIteration 90, the loss is 288.2089358300755, parameters k is 40.201362833996015 and b is 58.09087486924915\nIteration 91, the loss is 288.10680046848813, parameters k is 40.185114662059256 and b is 58.09085332774717\nIteration 92, the loss is 288.0046651069006, parameters k is 40.1688664901225 and b is 58.09083178624519\nIteration 93, the loss is 287.9025297453137, parameters k is 40.15261831818574 and b is 58.09081024474321\nIteration 94, the loss is 287.8003943837264, parameters k is 40.13637014624898 and b is 58.09078870324123\nIteration 95, the loss is 287.6982590221388, parameters k is 40.12012197431222 and b is 58.09076716173925\nIteration 96, the loss is 287.5961236605514, parameters k is 40.10387380237546 and b is 58.09074562023727\nIteration 97, the loss is 287.4939882989645, parameters k is 40.0876256304387 and b is 58.09072407873529\nIteration 98, the loss is 287.39185293737654, parameters k is 40.07137745850194 and b is 58.09070253723331\nIteration 99, the loss is 287.28971757578944, parameters k is 40.05512928656518 and b is 58.09068099573133\nIteration 100, the loss is 287.18758221420205, parameters k is 40.038881114628424 and b is 58.09065945422935\nIteration 101, the loss is 287.0854468526149, parameters k is 40.022632942691665 and b is 58.090637912727374\nIteration 102, the loss is 286.98331149102756, parameters k is 40.006384770754906 and b is 58.090616371225394\nIteration 103, the loss is 286.88117612944, parameters k is 39.99013659881815 and b is 58.090594829723415\nIteration 104, the loss is 286.7790407678531, parameters k is 39.97388842688139 and b is 58.090573288221435\nIteration 105, the loss is 286.67690540626535, parameters k is 39.95764025494463 and b is 58.090551746719456\nIteration 106, the loss is 286.5747700446784, parameters k is 39.94139208300787 and b is 58.090530205217476\nIteration 107, the loss is 286.4726346830911, parameters k is 39.92514391107111 and b is 58.0905086637155\nIteration 108, the loss is 286.3704993215034, parameters k is 39.90889573913435 and b is 58.09048712221352\nIteration 109, the loss is 286.26836395991626, parameters k is 39.89264756719759 and b is 58.09046558071154\nIteration 110, the loss is 286.16622859832887, parameters k is 39.87639939526083 and b is 58.09044403920956\nIteration 111, the loss is 286.0640932367414, parameters k is 39.860151223324074 and b is 58.09042249770758\nIteration 112, the loss is 285.96195787515416, parameters k is 39.843903051387315 and b is 58.0904009562056\nIteration 113, the loss is 285.85982251356677, parameters k is 39.827654879450556 and b is 58.09037941470362\nIteration 114, the loss is 285.75768715197984, parameters k is 39.8114067075138 and b is 58.09035787320164\nIteration 115, the loss is 285.6555517903917, parameters k is 39.79515853557704 and b is 58.09033633169966\nIteration 116, the loss is 285.55341642880455, parameters k is 39.77891036364028 and b is 58.09031479019768\nIteration 117, the loss is 285.4512810672177, parameters k is 39.76266219170352 and b is 58.0902932486957\nIteration 118, the loss is 285.34914570562984, parameters k is 39.74641401976676 and b is 58.09027170719372\nIteration 119, the loss is 285.2470103440427, parameters k is 39.73016584783 and b is 58.09025016569174\nIteration 120, the loss is 285.1448749824551, parameters k is 39.71391767589324 and b is 58.09022862418976\nIteration 121, the loss is 285.042739620868, parameters k is 39.69766950395648 and b is 58.09020708268778\nIteration 122, the loss is 284.9406042592805, parameters k is 39.681421332019724 and b is 58.090185541185804\nIteration 123, the loss is 284.8384688976934, parameters k is 39.665173160082965 and b is 58.090163999683824\nIteration 124, the loss is 284.73633353610603, parameters k is 39.648924988146206 and b is 58.090142458181845\nIteration 125, the loss is 284.634198174519, parameters k is 39.63267681620945 and b is 58.090120916679865\nIteration 126, the loss is 284.5320628129314, parameters k is 39.61642864427269 and b is 58.090099375177886\nIteration 127, the loss is 284.4299274513441, parameters k is 39.60018047233593 and b is 58.090077833675906\nIteration 128, the loss is 284.32779208975694, parameters k is 39.58393230039917 and b is 58.09005629217393\nIteration 129, the loss is 284.22565672816927, parameters k is 39.56768412846241 and b is 58.09003475067195\nIteration 130, the loss is 284.1235213665816, parameters k is 39.55143595652565 and b is 58.09001320916997\nIteration 131, the loss is 284.02138600499467, parameters k is 39.53518778458889 and b is 58.08999166766799\nIteration 132, the loss is 283.9192506434075, parameters k is 39.51893961265213 and b is 58.08997012616601\nIteration 133, the loss is 283.81711528181967, parameters k is 39.502691440715374 and b is 58.08994858466403\nIteration 134, the loss is 283.71497992023274, parameters k is 39.486443268778615 and b is 58.08992704316205\nIteration 135, the loss is 283.61284455864546, parameters k is 39.470195096841856 and b is 58.08990550166007\nIteration 136, the loss is 283.51070919705785, parameters k is 39.4539469249051 and b is 58.08988396015809\nIteration 137, the loss is 283.4085738354707, parameters k is 39.43769875296834 and b is 58.08986241865611\nIteration 138, the loss is 283.30643847388313, parameters k is 39.42145058103158 and b is 58.08984087715413\nIteration 139, the loss is 283.2043031122959, parameters k is 39.40520240909482 and b is 58.08981933565215\nIteration 140, the loss is 283.10216775070876, parameters k is 39.38895423715806 and b is 58.08979779415017\nIteration 141, the loss is 283.00003238912143, parameters k is 39.3727060652213 and b is 58.08977625264819\nIteration 142, the loss is 282.897897027534, parameters k is 39.35645789328454 and b is 58.08975471114621\nIteration 143, the loss is 282.79576166594677, parameters k is 39.34020972134778 and b is 58.089733169644234\nIteration 144, the loss is 282.69362630435927, parameters k is 39.323961549411024 and b is 58.089711628142254\nIteration 145, the loss is 282.5914909427722, parameters k is 39.307713377474265 and b is 58.089690086640275\nIteration 146, the loss is 282.4893555811849, parameters k is 39.291465205537506 and b is 58.089668545138295\nIteration 147, the loss is 282.3872202195969, parameters k is 39.27521703360075 and b is 58.089647003636316\nIteration 148, the loss is 282.28508485800984, parameters k is 39.25896886166399 and b is 58.089625462134336\nIteration 149, the loss is 282.1829494964226, parameters k is 39.24272068972723 and b is 58.08960392063236\nIteration 150, the loss is 282.0808141348351, parameters k is 39.22647251779047 and b is 58.08958237913038\nIteration 151, the loss is 281.97867877324796, parameters k is 39.21022434585371 and b is 58.0895608376284\nIteration 152, the loss is 281.8765434116607, parameters k is 39.19397617391695 and b is 58.08953929612642\nIteration 153, the loss is 281.774408050073, parameters k is 39.17772800198019 and b is 58.08951775462444\nIteration 154, the loss is 281.67227268848586, parameters k is 39.16147983004343 and b is 58.08949621312246\nIteration 155, the loss is 281.5701373268984, parameters k is 39.145231658106674 and b is 58.08947467162048\nIteration 156, the loss is 281.4680019653111, parameters k is 39.128983486169915 and b is 58.0894531301185\nIteration 157, the loss is 281.36586660372353, parameters k is 39.112735314233156 and b is 58.08943158861652\nIteration 158, the loss is 281.2637312421364, parameters k is 39.0964871422964 and b is 58.08941004711454\nIteration 159, the loss is 281.16159588054916, parameters k is 39.08023897035964 and b is 58.08938850561256\nIteration 160, the loss is 281.0594605189618, parameters k is 39.06399079842288 and b is 58.08936696411058\nIteration 161, the loss is 280.95732515737427, parameters k is 39.04774262648612 and b is 58.0893454226086\nIteration 162, the loss is 280.855189795787, parameters k is 39.03149445454936 and b is 58.08932388110662\nIteration 163, the loss is 280.7530544341999, parameters k is 39.0152462826126 and b is 58.08930233960464\nIteration 164, the loss is 280.65091907261234, parameters k is 38.99899811067584 and b is 58.08928079810266\nIteration 165, the loss is 280.5487837110251, parameters k is 38.98274993873908 and b is 58.089259256600684\nIteration 166, the loss is 280.44664834943774, parameters k is 38.966501766802324 and b is 58.089237715098704\nIteration 167, the loss is 280.34451298785046, parameters k is 38.950253594865565 and b is 58.089216173596725\nIteration 168, the loss is 280.24237762626313, parameters k is 38.934005422928806 and b is 58.089194632094745\nIteration 169, the loss is 280.140242264676, parameters k is 38.91775725099205 and b is 58.089173090592766\nIteration 170, the loss is 280.03810690308825, parameters k is 38.90150907905529 and b is 58.089151549090786\nIteration 171, the loss is 279.93597154150103, parameters k is 38.88526090711853 and b is 58.08913000758881\nIteration 172, the loss is 279.8338361799139, parameters k is 38.86901273518177 and b is 58.08910846608683\nIteration 173, the loss is 279.7317008183264, parameters k is 38.85276456324501 and b is 58.08908692458485\nIteration 174, the loss is 279.6295654567391, parameters k is 38.83651639130825 and b is 58.08906538308287\nIteration 175, the loss is 279.52743009515154, parameters k is 38.82026821937149 and b is 58.08904384158089\nIteration 176, the loss is 279.4252947335643, parameters k is 38.80402004743473 and b is 58.08902230007891\nIteration 177, the loss is 279.3231593719769, parameters k is 38.787771875497974 and b is 58.08900075857693\nIteration 178, the loss is 279.22102401038967, parameters k is 38.771523703561215 and b is 58.08897921707495\nIteration 179, the loss is 279.1188886488026, parameters k is 38.755275531624456 and b is 58.08895767557297\nIteration 180, the loss is 279.01675328721507, parameters k is 38.7390273596877 and b is 58.08893613407099\nIteration 181, the loss is 278.91461792562797, parameters k is 38.72277918775094 and b is 58.08891459256901\nIteration 182, the loss is 278.81248256404, parameters k is 38.70653101581418 and b is 58.08889305106703\nIteration 183, the loss is 278.7103472024531, parameters k is 38.69028284387742 and b is 58.08887150956505\nIteration 184, the loss is 278.6082118408656, parameters k is 38.67403467194066 and b is 58.08884996806307\nIteration 185, the loss is 278.50607647927814, parameters k is 38.6577865000039 and b is 58.08882842656109\nIteration 186, the loss is 278.40394111769103, parameters k is 38.64153832806714 and b is 58.088806885059114\nIteration 187, the loss is 278.3018057561036, parameters k is 38.62529015613038 and b is 58.088785343557134\nIteration 188, the loss is 278.19967039451655, parameters k is 38.609041984193624 and b is 58.088763802055155\nIteration 189, the loss is 278.0975350329288, parameters k is 38.592793812256865 and b is 58.088742260553175\nIteration 190, the loss is 277.99539967134126, parameters k is 38.576545640320106 and b is 58.088720719051196\nIteration 191, the loss is 277.8932643097541, parameters k is 38.56029746838335 and b is 58.088699177549216\nIteration 192, the loss is 277.7911289481667, parameters k is 38.54404929644659 and b is 58.08867763604724\nIteration 193, the loss is 277.6889935865796, parameters k is 38.52780112450983 and b is 58.08865609454526\nIteration 194, the loss is 277.5868582249922, parameters k is 38.51155295257307 and b is 58.08863455304328\nIteration 195, the loss is 277.4847228634047, parameters k is 38.49530478063631 and b is 58.0886130115413\nIteration 196, the loss is 277.38258750181745, parameters k is 38.47905660869955 and b is 58.08859147003932\nIteration 197, the loss is 277.2804521402302, parameters k is 38.46280843676279 and b is 58.08856992853734\nIteration 198, the loss is 277.178316778643, parameters k is 38.44656026482603 and b is 58.08854838703536\nIteration 199, the loss is 277.0761814170556, parameters k is 38.430312092889274 and b is 58.08852684553338\n"
      }
     ],
     "persistentId": "d9db3784-f825-4cab-9702-5c1284f32198",
     "text": "#initialized parameters,L2 loss\n\nk = random.random() * 200 - 100  # -100 100\nb = random.random() * 200 - 100  # -100 100\n\nlearning_rate = 0.001\n\niteration_num = 200 \nlosses = []\nfor i in range(iteration_num):\n    \n    price_use_current_parameters = [price(r, k, b) for r in X_rm]  # \\hat{y}\n    \n    current_loss = loss_L1(y, price_use_current_parameters)\n    losses.append(current_loss)\n    print(\"Iteration {}, the loss is {}, parameters k is {} and b is {}\".format(i,current_loss,k,b))\n    \n    k_gradient = partial_derivative_k(X_rm, y, price_use_current_parameters)\n    b_gradient = partial_derivative_b(y, price_use_current_parameters)\n    \n    k = k + (-1 * k_gradient) * learning_rate\n    b = b + (-1 * b_gradient) * learning_rate\nbest_k = k\nbest_b = b"
    },
    "executionTime": "2020-02-09T04:25:32.981Z"
   },
   {
    "cell": {
     "executionCount": 18,
     "executionEventId": "2273aef0-4147-4594-94c4-c21b07003314",
     "hasError": false,
     "id": "1f3a5a39-95a2-4f55-9e08-8f514b9e609b",
     "outputs": [
      {
       "name": "stdout",
       "output_type": "stream",
       "text": "Iteration 0, the loss is 585.8296321219457, parameters k is -75.54658022526253 and b is -88.51418986732062\nIteration 1, the loss is 584.8082785060724, parameters k is -75.38409850589494 and b is -88.51397445230086\nIteration 2, the loss is 583.786924890199, parameters k is -75.22161678652735 and b is -88.51375903728109\nIteration 3, the loss is 582.7655712743259, parameters k is -75.05913506715976 and b is -88.51354362226132\nIteration 4, the loss is 581.7442176584523, parameters k is -74.89665334779217 and b is -88.51332820724156\nIteration 5, the loss is 580.7228640425791, parameters k is -74.73417162842458 and b is -88.51311279222179\nIteration 6, the loss is 579.7015104267057, parameters k is -74.57168990905699 and b is -88.51289737720202\nIteration 7, the loss is 578.6801568108325, parameters k is -74.4092081896894 and b is -88.51268196218226\nIteration 8, the loss is 577.6588031949586, parameters k is -74.2467264703218 and b is -88.51246654716249\nIteration 9, the loss is 576.637449579086, parameters k is -74.08424475095421 and b is -88.51225113214272\nIteration 10, the loss is 575.6160959632124, parameters k is -73.92176303158662 and b is -88.51203571712296\nIteration 11, the loss is 574.5947423473392, parameters k is -73.75928131221903 and b is -88.51182030210319\nIteration 12, the loss is 573.5733887314661, parameters k is -73.59679959285144 and b is -88.51160488708342\nIteration 13, the loss is 572.5520351155923, parameters k is -73.43431787348385 and b is -88.51138947206366\nIteration 14, the loss is 571.5306814997192, parameters k is -73.27183615411626 and b is -88.51117405704389\nIteration 15, the loss is 570.5093278838456, parameters k is -73.10935443474867 and b is -88.51095864202412\nIteration 16, the loss is 569.4879742679718, parameters k is -72.94687271538108 and b is -88.51074322700435\nIteration 17, the loss is 568.4666206520991, parameters k is -72.78439099601349 and b is -88.51052781198459\nIteration 18, the loss is 567.4452670362256, parameters k is -72.6219092766459 and b is -88.51031239696482\nIteration 19, the loss is 566.4239134203526, parameters k is -72.4594275572783 and b is -88.51009698194505\nIteration 20, the loss is 565.4025598044784, parameters k is -72.29694583791071 and b is -88.50988156692529\nIteration 21, the loss is 564.3812061886049, parameters k is -72.13446411854312 and b is -88.50966615190552\nIteration 22, the loss is 563.359852572732, parameters k is -71.97198239917553 and b is -88.50945073688575\nIteration 23, the loss is 562.3384989568583, parameters k is -71.80950067980794 and b is -88.50923532186599\nIteration 24, the loss is 561.3171453409857, parameters k is -71.64701896044035 and b is -88.50901990684622\nIteration 25, the loss is 560.295791725112, parameters k is -71.48453724107276 and b is -88.50880449182645\nIteration 26, the loss is 559.2744381092389, parameters k is -71.32205552170517 and b is -88.50858907680669\nIteration 27, the loss is 558.2530844933648, parameters k is -71.15957380233758 and b is -88.50837366178692\nIteration 28, the loss is 557.2317308774913, parameters k is -70.99709208296998 and b is -88.50815824676715\nIteration 29, the loss is 556.2103772616188, parameters k is -70.8346103636024 and b is -88.50794283174739\nIteration 30, the loss is 555.1890236457443, parameters k is -70.6721286442348 and b is -88.50772741672762\nIteration 31, the loss is 554.167670029872, parameters k is -70.50964692486721 and b is -88.50751200170785\nIteration 32, the loss is 553.1463164139985, parameters k is -70.34716520549962 and b is -88.50729658668808\nIteration 33, the loss is 552.1249627981243, parameters k is -70.18468348613203 and b is -88.50708117166832\nIteration 34, the loss is 551.103609182251, parameters k is -70.02220176676444 and b is -88.50686575664855\nIteration 35, the loss is 550.0822555663779, parameters k is -69.85972004739685 and b is -88.50665034162878\nIteration 36, the loss is 549.0609019505041, parameters k is -69.69723832802926 and b is -88.50643492660902\nIteration 37, the loss is 548.0395483346318, parameters k is -69.53475660866167 and b is -88.50621951158925\nIteration 38, the loss is 547.0181947187582, parameters k is -69.37227488929408 and b is -88.50600409656948\nIteration 39, the loss is 545.9968411028846, parameters k is -69.20979316992648 and b is -88.50578868154972\nIteration 40, the loss is 544.9754874870113, parameters k is -69.0473114505589 and b is -88.50557326652995\nIteration 41, the loss is 543.9541338711381, parameters k is -68.8848297311913 and b is -88.50535785151018\nIteration 42, the loss is 542.9327802552641, parameters k is -68.72234801182371 and b is -88.50514243649042\nIteration 43, the loss is 541.9114266393908, parameters k is -68.55986629245612 and b is -88.50492702147065\nIteration 44, the loss is 540.890073023518, parameters k is -68.39738457308853 and b is -88.50471160645088\nIteration 45, the loss is 539.868719407644, parameters k is -68.23490285372094 and b is -88.50449619143112\nIteration 46, the loss is 538.8473657917713, parameters k is -68.07242113435335 and b is -88.50428077641135\nIteration 47, the loss is 537.8260121758973, parameters k is -67.90993941498576 and b is -88.50406536139158\nIteration 48, the loss is 536.8046585600247, parameters k is -67.74745769561817 and b is -88.50384994637182\nIteration 49, the loss is 535.7833049441506, parameters k is -67.58497597625058 and b is -88.50363453135205\nIteration 50, the loss is 534.7619513282772, parameters k is -67.42249425688298 and b is -88.50341911633228\nIteration 51, the loss is 533.740597712404, parameters k is -67.2600125375154 and b is -88.50320370131251\nIteration 52, the loss is 532.7192440965313, parameters k is -67.0975308181478 and b is -88.50298828629275\nIteration 53, the loss is 531.6978904806574, parameters k is -66.93504909878021 and b is -88.50277287127298\nIteration 54, the loss is 530.6765368647842, parameters k is -66.77256737941262 and b is -88.50255745625321\nIteration 55, the loss is 529.6551832489107, parameters k is -66.61008566004503 and b is -88.50234204123345\nIteration 56, the loss is 528.633829633038, parameters k is -66.44760394067744 and b is -88.50212662621368\nIteration 57, the loss is 527.6124760171635, parameters k is -66.28512222130985 and b is -88.50191121119391\nIteration 58, the loss is 526.5911224012906, parameters k is -66.12264050194226 and b is -88.50169579617415\nIteration 59, the loss is 525.5697687854175, parameters k is -65.96015878257467 and b is -88.50148038115438\nIteration 60, the loss is 524.548415169544, parameters k is -65.79767706320708 and b is -88.50126496613461\nIteration 61, the loss is 523.5270615536708, parameters k is -65.63519534383948 and b is -88.50104955111485\nIteration 62, the loss is 522.5057079377971, parameters k is -65.4727136244719 and b is -88.50083413609508\nIteration 63, the loss is 521.4843543219239, parameters k is -65.3102319051043 and b is -88.50061872107531\nIteration 64, the loss is 520.4630007060508, parameters k is -65.14775018573671 and b is -88.50040330605555\nIteration 65, the loss is 519.4416470901771, parameters k is -64.98526846636912 and b is -88.50018789103578\nIteration 66, the loss is 518.4202934743037, parameters k is -64.82278674700153 and b is -88.49997247601601\nIteration 67, the loss is 517.3989398584307, parameters k is -64.66030502763394 and b is -88.49975706099625\nIteration 68, the loss is 516.3775862425567, parameters k is -64.49782330826635 and b is -88.49954164597648\nIteration 69, the loss is 515.3562326266833, parameters k is -64.33534158889876 and b is -88.49932623095671\nIteration 70, the loss is 514.3348790108103, parameters k is -64.17285986953117 and b is -88.49911081593694\nIteration 71, the loss is 513.3135253949368, parameters k is -64.01037815016358 and b is -88.49889540091718\nIteration 72, the loss is 512.2921717790629, parameters k is -63.847896430795984 and b is -88.49867998589741\nIteration 73, the loss is 511.27081816319003, parameters k is -63.68541471142839 and b is -88.49846457087764\nIteration 74, the loss is 510.24946454731685, parameters k is -63.5229329920608 and b is -88.49824915585788\nIteration 75, the loss is 509.2281109314435, parameters k is -63.36045127269321 and b is -88.49803374083811\nIteration 76, the loss is 508.20675731557, parameters k is -63.19796955332562 and b is -88.49781832581834\nIteration 77, the loss is 507.185403699696, parameters k is -63.03548783395803 and b is -88.49760291079858\nIteration 78, the loss is 506.16405008382304, parameters k is -62.87300611459044 and b is -88.49738749577881\nIteration 79, the loss is 505.14269646795, parameters k is -62.71052439522285 and b is -88.49717208075904\nIteration 80, the loss is 504.1213428520761, parameters k is -62.54804267585526 and b is -88.49695666573928\nIteration 81, the loss is 503.09998923620304, parameters k is -62.385560956487666 and b is -88.49674125071951\nIteration 82, the loss is 502.0786356203294, parameters k is -62.223079237120075 and b is -88.49652583569974\nIteration 83, the loss is 501.0572820044569, parameters k is -62.060597517752484 and b is -88.49631042067998\nIteration 84, the loss is 500.0359283885821, parameters k is -61.89811579838489 and b is -88.49609500566021\nIteration 85, the loss is 499.0145747727094, parameters k is -61.7356340790173 and b is -88.49587959064044\nIteration 86, the loss is 497.99322115683617, parameters k is -61.57315235964971 and b is -88.49566417562067\nIteration 87, the loss is 496.97186754096316, parameters k is -61.41067064028212 and b is -88.49544876060091\nIteration 88, the loss is 495.9505139250894, parameters k is -61.24818892091453 and b is -88.49523334558114\nIteration 89, the loss is 494.92916030921623, parameters k is -61.08570720154694 and b is -88.49501793056137\nIteration 90, the loss is 493.90780669334265, parameters k is -60.92322548217935 and b is -88.49480251554161\nIteration 91, the loss is 492.88645307746964, parameters k is -60.76074376281176 and b is -88.49458710052184\nIteration 92, the loss is 491.8650994615955, parameters k is -60.598262043444166 and b is -88.49437168550207\nIteration 93, the loss is 490.84374584572265, parameters k is -60.435780324076575 and b is -88.4941562704823\nIteration 94, the loss is 489.82239222984936, parameters k is -60.273298604708984 and b is -88.49394085546254\nIteration 95, the loss is 488.8010386139756, parameters k is -60.11081688534139 and b is -88.49372544044277\nIteration 96, the loss is 487.77968499810254, parameters k is -59.9483351659738 and b is -88.493510025423\nIteration 97, the loss is 486.75833138222947, parameters k is -59.78585344660621 and b is -88.49329461040324\nIteration 98, the loss is 485.73697776635566, parameters k is -59.62337172723862 and b is -88.49307919538347\nIteration 99, the loss is 484.71562415048214, parameters k is -59.46089000787103 and b is -88.4928637803637\nIteration 100, the loss is 483.6942705346089, parameters k is -59.29840828850344 and b is -88.49264836534394\nIteration 101, the loss is 482.67291691873595, parameters k is -59.13592656913585 and b is -88.49243295032417\nIteration 102, the loss is 481.65156330286203, parameters k is -58.973444849768256 and b is -88.4922175353044\nIteration 103, the loss is 480.63020968698896, parameters k is -58.810963130400665 and b is -88.49200212028464\nIteration 104, the loss is 479.6088560711155, parameters k is -58.648481411033075 and b is -88.49178670526487\nIteration 105, the loss is 478.58750245524215, parameters k is -58.485999691665484 and b is -88.4915712902451\nIteration 106, the loss is 477.5661488393696, parameters k is -58.32351797229789 and b is -88.49135587522534\nIteration 107, the loss is 476.5447952234954, parameters k is -58.1610362529303 and b is -88.49114046020557\nIteration 108, the loss is 475.52344160762226, parameters k is -57.99855453356271 and b is -88.4909250451858\nIteration 109, the loss is 474.5020879917488, parameters k is -57.83607281419512 and b is -88.49070963016604\nIteration 110, the loss is 473.48073437587533, parameters k is -57.67359109482753 and b is -88.49049421514627\nIteration 111, the loss is 472.4593807600017, parameters k is -57.51110937545994 and b is -88.4902788001265\nIteration 112, the loss is 471.43802714412817, parameters k is -57.34862765609235 and b is -88.49006338510674\nIteration 113, the loss is 470.41667352825493, parameters k is -57.186145936724756 and b is -88.48984797008697\nIteration 114, the loss is 469.3953199123821, parameters k is -57.023664217357165 and b is -88.4896325550672\nIteration 115, the loss is 468.3739662965086, parameters k is -56.861182497989574 and b is -88.48941714004744\nIteration 116, the loss is 467.3526126806348, parameters k is -56.69870077862198 and b is -88.48920172502767\nIteration 117, the loss is 466.3312590647618, parameters k is -56.53621905925439 and b is -88.4889863100079\nIteration 118, the loss is 465.30990544888846, parameters k is -56.3737373398868 and b is -88.48877089498814\nIteration 119, the loss is 464.28855183301533, parameters k is -56.21125562051921 and b is -88.48855547996837\nIteration 120, the loss is 463.2671982171413, parameters k is -56.04877390115162 and b is -88.4883400649486\nIteration 121, the loss is 462.2458446012682, parameters k is -55.88629218178403 and b is -88.48812464992884\nIteration 122, the loss is 461.22449098539505, parameters k is -55.72381046241644 and b is -88.48790923490907\nIteration 123, the loss is 460.2031373695217, parameters k is -55.56132874304885 and b is -88.4876938198893\nIteration 124, the loss is 459.1817837536477, parameters k is -55.398847023681256 and b is -88.48747840486953\nIteration 125, the loss is 458.16043013777426, parameters k is -55.236365304313665 and b is -88.48726298984977\nIteration 126, the loss is 457.13907652190153, parameters k is -55.073883584946074 and b is -88.48704757483\nIteration 127, the loss is 456.1177229060278, parameters k is -54.91140186557848 and b is -88.48683215981023\nIteration 128, the loss is 455.0963692901545, parameters k is -54.74892014621089 and b is -88.48661674479047\nIteration 129, the loss is 454.0750156742814, parameters k is -54.5864384268433 and b is -88.4864013297707\nIteration 130, the loss is 453.05366205840784, parameters k is -54.42395670747571 and b is -88.48618591475093\nIteration 131, the loss is 452.0323084425347, parameters k is -54.26147498810812 and b is -88.48597049973117\nIteration 132, the loss is 451.0109548266609, parameters k is -54.09899326874053 and b is -88.4857550847114\nIteration 133, the loss is 449.98960121078795, parameters k is -53.93651154937294 and b is -88.48553966969163\nIteration 134, the loss is 448.9682475949147, parameters k is -53.77402983000535 and b is -88.48532425467187\nIteration 135, the loss is 447.9468939790411, parameters k is -53.611548110637756 and b is -88.4851088396521\nIteration 136, the loss is 446.9255403631678, parameters k is -53.449066391270165 and b is -88.48489342463233\nIteration 137, the loss is 445.9041867472946, parameters k is -53.286584671902574 and b is -88.48467800961257\nIteration 138, the loss is 444.8828331314217, parameters k is -53.12410295253498 and b is -88.4844625945928\nIteration 139, the loss is 443.86147951554733, parameters k is -52.96162123316739 and b is -88.48424717957303\nIteration 140, the loss is 442.8401258996742, parameters k is -52.7991395137998 and b is -88.48403176455327\nIteration 141, the loss is 441.81877228380085, parameters k is -52.63665779443221 and b is -88.4838163495335\nIteration 142, the loss is 440.79741866792745, parameters k is -52.47417607506462 and b is -88.48360093451373\nIteration 143, the loss is 439.7760650520545, parameters k is -52.31169435569703 and b is -88.48338551949396\nIteration 144, the loss is 438.754711436181, parameters k is -52.14921263632944 and b is -88.4831701044742\nIteration 145, the loss is 437.7333578203073, parameters k is -51.98673091696185 and b is -88.48295468945443\nIteration 146, the loss is 436.7120042044341, parameters k is -51.824249197594256 and b is -88.48273927443466\nIteration 147, the loss is 435.6906505885602, parameters k is -51.661767478226665 and b is -88.4825238594149\nIteration 148, the loss is 434.6692969726875, parameters k is -51.499285758859074 and b is -88.48230844439513\nIteration 149, the loss is 433.6479433568137, parameters k is -51.33680403949148 and b is -88.48209302937536\nIteration 150, the loss is 432.6265897409406, parameters k is -51.17432232012389 and b is -88.4818776143556\nIteration 151, the loss is 431.6052361250671, parameters k is -51.0118406007563 and b is -88.48166219933583\nIteration 152, the loss is 430.58388250919353, parameters k is -50.84935888138871 and b is -88.48144678431606\nIteration 153, the loss is 429.5625288933207, parameters k is -50.68687716202112 and b is -88.4812313692963\nIteration 154, the loss is 428.5411752774467, parameters k is -50.52439544265353 and b is -88.48101595427653\nIteration 155, the loss is 427.51982166157376, parameters k is -50.36191372328594 and b is -88.48080053925676\nIteration 156, the loss is 426.49846804570063, parameters k is -50.199432003918346 and b is -88.480585124237\nIteration 157, the loss is 425.47711442982694, parameters k is -50.036950284550755 and b is -88.48036970921723\nIteration 158, the loss is 424.45576081395404, parameters k is -49.874468565183165 and b is -88.48015429419746\nIteration 159, the loss is 423.4344071980798, parameters k is -49.711986845815574 and b is -88.4799388791777\nIteration 160, the loss is 422.41305358220717, parameters k is -49.54950512644798 and b is -88.47972346415793\nIteration 161, the loss is 421.3916999663337, parameters k is -49.38702340708039 and b is -88.47950804913816\nIteration 162, the loss is 420.37034635046, parameters k is -49.2245416877128 and b is -88.4792926341184\nIteration 163, the loss is 419.3489927345868, parameters k is -49.06205996834521 and b is -88.47907721909863\nIteration 164, the loss is 418.3276391187132, parameters k is -48.89957824897762 and b is -88.47886180407886\nIteration 165, the loss is 417.30628550284007, parameters k is -48.73709652961003 and b is -88.4786463890591\nIteration 166, the loss is 416.28493188696706, parameters k is -48.57461481024244 and b is -88.47843097403933\nIteration 167, the loss is 415.2635782710929, parameters k is -48.412133090874846 and b is -88.47821555901956\nIteration 168, the loss is 414.2422246552194, parameters k is -48.249651371507255 and b is -88.4780001439998\nIteration 169, the loss is 413.2208710393462, parameters k is -48.087169652139664 and b is -88.47778472898003\nIteration 170, the loss is 412.19951742347314, parameters k is -47.92468793277207 and b is -88.47756931396026\nIteration 171, the loss is 411.1781638075996, parameters k is -47.76220621340448 and b is -88.47735389894049\nIteration 172, the loss is 410.1568101917261, parameters k is -47.59972449403689 and b is -88.47713848392073\nIteration 173, the loss is 409.13545657585314, parameters k is -47.4372427746693 and b is -88.47692306890096\nIteration 174, the loss is 408.1141029599796, parameters k is -47.27476105530171 and b is -88.47670765388119\nIteration 175, the loss is 407.0927493441064, parameters k is -47.11227933593412 and b is -88.47649223886143\nIteration 176, the loss is 406.0713957282329, parameters k is -46.94979761656653 and b is -88.47627682384166\nIteration 177, the loss is 405.05004211236, parameters k is -46.78731589719894 and b is -88.47606140882189\nIteration 178, the loss is 404.02868849648615, parameters k is -46.624834177831346 and b is -88.47584599380212\nIteration 179, the loss is 403.00733488061303, parameters k is -46.462352458463755 and b is -88.47563057878236\nIteration 180, the loss is 401.98598126473905, parameters k is -46.299870739096164 and b is -88.47541516376259\nIteration 181, the loss is 400.9646276488657, parameters k is -46.13738901972857 and b is -88.47519974874282\nIteration 182, the loss is 399.94327403299224, parameters k is -45.97490730036098 and b is -88.47498433372306\nIteration 183, the loss is 398.92192041711957, parameters k is -45.81242558099339 and b is -88.47476891870329\nIteration 184, the loss is 397.90056680124565, parameters k is -45.6499438616258 and b is -88.47455350368352\nIteration 185, the loss is 396.8792131853723, parameters k is -45.48746214225821 and b is -88.47433808866376\nIteration 186, the loss is 395.857859569499, parameters k is -45.32498042289062 and b is -88.47412267364399\nIteration 187, the loss is 394.83650595362593, parameters k is -45.16249870352303 and b is -88.47390725862422\nIteration 188, the loss is 393.8151523377526, parameters k is -45.00001698415544 and b is -88.47369184360446\nIteration 189, the loss is 392.7937987218792, parameters k is -44.837535264787846 and b is -88.47347642858469\nIteration 190, the loss is 391.772445106006, parameters k is -44.675053545420255 and b is -88.47326101356492\nIteration 191, the loss is 390.7510914901322, parameters k is -44.512571826052664 and b is -88.47304559854516\nIteration 192, the loss is 389.72973787425894, parameters k is -44.35009010668507 and b is -88.47283018352539\nIteration 193, the loss is 388.7083842583855, parameters k is -44.18760838731748 and b is -88.47261476850562\nIteration 194, the loss is 387.687030642512, parameters k is -44.02512666794989 and b is -88.47239935348586\nIteration 195, the loss is 386.6656770266389, parameters k is -43.8626449485823 and b is -88.47218393846609\nIteration 196, the loss is 385.6443234107651, parameters k is -43.70016322921471 and b is -88.47196852344632\nIteration 197, the loss is 384.6229697948922, parameters k is -43.53768150984712 and b is -88.47175310842655\nIteration 198, the loss is 383.6016161790184, parameters k is -43.37519979047953 and b is -88.47153769340679\nIteration 199, the loss is 382.5802625631456, parameters k is -43.21271807111194 and b is -88.47132227838702\n"
      }
     ],
     "persistentId": "d9db3784-f825-4cab-9702-5c1284f32198",
     "text": "#initialized parameters,L2 loss\n\nk = random.random() * 200 - 100  # -100 100\nb = random.random() * 200 - 100  # -100 100\n\nlearning_rate = 0.01\n\niteration_num = 200 \nlosses = []\nfor i in range(iteration_num):\n    \n    price_use_current_parameters = [price(r, k, b) for r in X_rm]  # \\hat{y}\n    \n    current_loss = loss_L1(y, price_use_current_parameters)\n    losses.append(current_loss)\n    print(\"Iteration {}, the loss is {}, parameters k is {} and b is {}\".format(i,current_loss,k,b))\n    \n    k_gradient = partial_derivative_k(X_rm, y, price_use_current_parameters)\n    b_gradient = partial_derivative_b(y, price_use_current_parameters)\n    \n    k = k + (-1 * k_gradient) * learning_rate\n    b = b + (-1 * b_gradient) * learning_rate\nbest_k = k\nbest_b = b"
    },
    "executionTime": "2020-02-09T04:25:54.287Z"
   },
   {
    "cell": {
     "executionCount": 19,
     "executionEventId": "60ae615c-8f1d-4a09-acac-d12d1baf5149",
     "hasError": false,
     "id": "1f3a5a39-95a2-4f55-9e08-8f514b9e609b",
     "outputs": [
      {
       "name": "stdout",
       "output_type": "stream",
       "text": "Iteration 0, the loss is 262.1529053565604, parameters k is 29.951931572648164 and b is 96.44877255159903\nIteration 200, the loss is 57.88218218188966, parameters k is -2.544412300869501 and b is 96.40568954764566\nIteration 400, the loss is 12.360031718466868, parameters k is -11.36395257754933 and b is 96.3626065436923\nIteration 600, the loss is 12.356615272125094, parameters k is -11.357259889802272 and b is 96.31952353973892\nIteration 800, the loss is 12.353198825783318, parameters k is -11.350567202055213 and b is 96.27644053578555\n"
      }
     ],
     "persistentId": "d9db3784-f825-4cab-9702-5c1284f32198",
     "text": "#initialized parameters,L2 loss\n\nk = random.random() * 200 - 100  # -100 100\nb = random.random() * 200 - 100  # -100 100\n\nlearning_rate = 0.01\n\niteration_num = 1000 \nlosses = []\nfor i in range(iteration_num):\n    \n    price_use_current_parameters = [price(r, k, b) for r in X_rm]  # \\hat{y}\n    \n    current_loss = loss_L1(y, price_use_current_parameters)\n    losses.append(current_loss)\n    if i%200 == 0:\n        print(\"Iteration {}, the loss is {}, parameters k is {} and b is {}\".format(i,current_loss,k,b))\n    \n    k_gradient = partial_derivative_k(X_rm, y, price_use_current_parameters)\n    b_gradient = partial_derivative_b(y, price_use_current_parameters)\n    \n    k = k + (-1 * k_gradient) * learning_rate\n    b = b + (-1 * b_gradient) * learning_rate\nbest_k = k\nbest_b = b"
    },
    "executionTime": "2020-02-09T04:27:08.520Z"
   }
  ],
  "kernelspec": {
   "display_name": "Python 3",
   "language": "python",
   "name": "python3"
  },
  "language_info": {
   "codemirror_mode": {
    "name": "ipython",
    "version": 3
   },
   "file_extension": ".py",
   "mimetype": "text/x-python",
   "name": "python",
   "nbconvert_exporter": "python",
   "pygments_lexer": "ipython3",
   "version": "3.7.4"
  },
  "uuid": "4d5a966e-09ff-4834-8d5f-b0f0ad4db002"
 },
 "nbformat": 4,
 "nbformat_minor": 4
}
