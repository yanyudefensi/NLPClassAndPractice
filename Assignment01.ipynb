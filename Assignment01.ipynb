{
 "cells": [
  {
   "cell_type": "code",
   "execution_count": 1,
   "metadata": {
    "pycharm": {
     "is_executing": false
    }
   },
   "outputs": [],
   "source": [
    "## Lesson-01 Assignment"
   ]
  },
  {
   "cell_type": "markdown",
   "metadata": {},
   "source": [
    "#### 今天是2020年1月05日，今天世界上又多了一名AI工程师 :) "
   ]
  },
  {
   "cell_type": "markdown",
   "metadata": {},
   "source": [
    "`各位同学大家好，欢迎各位开始学习我们的人工智能课程。这门课程假设大家不具备机器学习和人工智能的知识，但是希望大家具备初级的Python编程能力。根据往期同学的实际反馈，我们课程的完结之后 能力能够超过80%的计算机人工智能/深度学习方向的硕士生的能力。`"
   ]
  },
  {
   "cell_type": "markdown",
   "metadata": {},
   "source": [
    "## 本次作业的内容"
   ]
  },
  {
   "cell_type": "markdown",
   "metadata": {},
   "source": [
    "#### 1. 复现课堂代码\n",
    "\n",
    "在本部分，你需要参照我们给大家的GitHub地址里边的课堂代码，结合课堂内容，复现内容。"
   ]
  },
  {
   "cell_type": "markdown",
   "metadata": {},
   "source": [
    "#### 2. 作业截止时间\n",
    "此次作业截止时间为 2020.01.12日"
   ]
  },
  {
   "cell_type": "markdown",
   "metadata": {},
   "source": [
    "#### 3. 完成以下问答和编程练习"
   ]
  },
  {
   "cell_type": "markdown",
   "metadata": {},
   "source": [
    ">"
   ]
  },
  {
   "cell_type": "markdown",
   "metadata": {},
   "source": [
    "## 基础理论部分"
   ]
  },
  {
   "cell_type": "markdown",
   "metadata": {},
   "source": [
    "> **评阅点**：每道题是否回答完整"
   ]
  },
  {
   "cell_type": "markdown",
   "metadata": {},
   "source": [
    "#### 0. Can you come up out 3 sceneraies which use AI methods? "
   ]
  },
  {
   "cell_type": "markdown",
   "metadata": {},
   "source": [
    "Advertising recommanded、Automatic drive、simultaneous interpretation"
   ]
  },
  {
   "cell_type": "markdown",
   "metadata": {},
   "source": [
    "#### 1. How do we use Github; Why do we use Jupyter and Pycharm;"
   ]
  },
  {
   "cell_type": "markdown",
   "metadata": {},
   "source": [
    "We use github to share our coding and ideas to with other viewers in Internet.Also, it is convenient for our teaching assistant to check our homework.We use jupyter notebook to show the code execution effect and Pycharm is not good for this.But Pycharm is designed for software exploitation and we need it when the number of coding is large or the coding is in enormous resource consumption."
   ]
  },
  {
   "cell_type": "markdown",
   "metadata": {},
   "source": [
    "#### 2. What's the Probability Model?"
   ]
  },
  {
   "cell_type": "markdown",
   "metadata": {},
   "source": [
    "Probabilistic models (generating models) describe the combined probabilities of X and Y or conditional probability distributions such as P (X | Y) through function F."
   ]
  },
  {
   "cell_type": "markdown",
   "metadata": {},
   "source": [
    "#### 3. Can you came up with some sceneraies at which we could use Probability Model?"
   ]
  },
  {
   "cell_type": "markdown",
   "metadata": {},
   "source": [
    "Spam filtering、NLP(language translate)、Option and Futures pricing"
   ]
  },
  {
   "cell_type": "markdown",
   "metadata": {},
   "source": [
    "#### 4. Why do we use probability and what's the difficult points for programming based on parsing and pattern match?"
   ]
  },
  {
   "cell_type": "markdown",
   "metadata": {},
   "source": [
    "Because natural language has so many kinds of grammars and sentence patterns that any exports can not list all of them.Besides, when the input sentence pattern change,the programming based on parsing and pattern match are easy to fail.And scientist find it more easier to deal with NLP problems by using probability model."
   ]
  },
  {
   "cell_type": "markdown",
   "metadata": {},
   "source": [
    "#### 5. What's the Language Model;"
   ]
  },
  {
   "cell_type": "markdown",
   "metadata": {},
   "source": [
    "Statistical language model：\n",
    "\n",
    "A language model is usually constructed as the probability distribution of string s P (s). P (s) actually reflects the probability that s appears as a sentence. The probability is that the combination of strings appears in the training corpus regardless of whether the sentence is grammatically correct or not. If the training material comes from a human language, then the probability is whether a sentence is human or not."
   ]
  },
  {
   "cell_type": "markdown",
   "metadata": {},
   "source": [
    "#### 6. Can you came up with some sceneraies at which we could use Language Model?\n"
   ]
  },
  {
   "cell_type": "markdown",
   "metadata": {},
   "source": [
    "Speech recognition, machine translation, syntactic analysis"
   ]
  },
  {
   "cell_type": "markdown",
   "metadata": {},
   "source": [
    "#### 7. What's the 1-gram language model;"
   ]
  },
  {
   "cell_type": "markdown",
   "metadata": {},
   "source": [
    "## the statistical language model:\n",
    "\n",
    "## p(s) = p(w1,w2,...wT) = p(w1)p(w2|w1)p(w3|w1w2)........p(wT|w1.....wT-1)\n",
    "\n",
    "Because the volume of calculations will be too large if we use the formula above.\n",
    "\n",
    "We must introduce an asumption that the probability of a random word appearing is only related to the limited number of n words appearing in front of it.\n",
    "\n",
    "When n equals to one.This is 1-gram language model.\n",
    "\n",
    "## p(s) = p(w1,w2,...wT) = p(w1)p(w2|w1)p(w3|w2)........p(wT|wT-1)"
   ]
  },
  {
   "cell_type": "markdown",
   "metadata": {},
   "source": [
    "#### 8. What's the disadvantages and advantages of 1-gram language model;"
   ]
  },
  {
   "cell_type": "markdown",
   "metadata": {},
   "source": [
    "## Advantages:\n",
    "The volume of calculations is small and most of the scene it work.\n",
    "\n",
    "## Disadvantages:\n",
    "Let' us give a case to show the disadvantages. p('we eat breakfast in the morning'） and p（'we eat dinner in the morning'）\n",
    "\n",
    "It is easy to find that the breakfast and the morning has an relation.But 1-gram language model can't find a better sentence between 'we eat breakfast in the morning' and 'we eat dinner in the morning' because of the conditional independence hypothesis."
   ]
  },
  {
   "cell_type": "markdown",
   "metadata": {},
   "source": [
    "#### 9. What't the 2-gram models;"
   ]
  },
  {
   "cell_type": "markdown",
   "metadata": {},
   "source": [
    "We introduce an asumption that the probability of a random word appearing is only related to the limited number of 2 words appearing in front of it.\n",
    "\n",
    "## p(s) = p(w1,w2,...wT) = p(w1)p(w2|w1)p(w3|w2w1)p(w4|w3w2)........p(wT|wT-1wT-2)\n"
   ]
  },
  {
   "cell_type": "markdown",
   "metadata": {},
   "source": [
    "## 编程实践部分"
   ]
  },
  {
   "cell_type": "markdown",
   "metadata": {},
   "source": [
    "#### 1. 设计你自己的句子生成器"
   ]
  },
  {
   "cell_type": "markdown",
   "metadata": {},
   "source": [
    "如何生成句子是一个很经典的问题，从1940s开始，图灵提出机器智能的时候，就使用的是人类能不能流畅和计算机进行对话。和计算机对话的一个前提是，计算机能够生成语言。\n",
    "\n",
    "计算机如何能生成语言是一个经典但是又很复杂的问题。 我们课程上为大家介绍的是一种基于规则（Rule Based）的生成方法。该方法虽然提出的时间早，但是现在依然在很多地方能够大显身手。值得说明的是，现在很多很实用的算法，都是很久之前提出的，例如，二分查找提出与1940s, Dijstra算法提出于1960s 等等。"
   ]
  },
  {
   "cell_type": "markdown",
   "metadata": {},
   "source": [
    "在著名的电视剧，电影《西部世界》中，这些机器人们语言生成的方法就是使用的SyntaxTree生成语言的方法。\n",
    "\n",
    "> \n",
    ">\n",
    "\n",
    "![WstWorld](https://timgsa.baidu.com/timg?image&quality=80&size=b9999_10000&sec=1569578233461&di=4adfa7597fb380e7cc0e67190bbd7605&imgtype=0&src=http%3A%2F%2Fs1.sinaimg.cn%2Flarge%2F006eYYfyzy76cmpG3Yb1f)\n",
    "\n",
    "> \n",
    ">"
   ]
  },
  {
   "cell_type": "markdown",
   "metadata": {},
   "source": [
    "在这一部分，需要各位同学首先定义自己的语言。 大家可以先想一个应用场景，然后在这个场景下，定义语法。例如：\n",
    "\n",
    "在西部世界里，一个”人类“的语言可以定义为：\n",
    "``` \n",
    "human = \"\"\"\n",
    "human = 自己 寻找 活动\n",
    "自己 = 我 | 俺 | 我们 \n",
    "寻找 = 看看 | 找找 | 想找点\n",
    "活动 = 乐子 | 玩的\n",
    "\"\"\"\n",
    "```\n",
    "\n",
    "一个“接待员”的语言可以定义为\n",
    "```\n",
    "host = \"\"\"\n",
    "host = 寒暄 报数 询问 业务相关 结尾 \n",
    "报数 = 我是 数字 号 ,\n",
    "数字 = 单个数字 | 数字 单个数字 \n",
    "单个数字 = 1 | 2 | 3 | 4 | 5 | 6 | 7 | 8 | 9 \n",
    "寒暄 = 称谓 打招呼 | 打招呼\n",
    "称谓 = 人称 ,\n",
    "人称 = 先生 | 女士 | 小朋友\n",
    "打招呼 = 你好 | 您好 \n",
    "询问 = 请问你要 | 您需要\n",
    "业务相关 = 玩玩 具体业务\n",
    "玩玩 = 耍一耍 | 玩一玩\n",
    "具体业务 = 喝酒 | 打牌 | 打猎 | 赌博\n",
    "结尾 = 吗？\"\"\"\n",
    "\n",
    "```\n",
    "\n",
    "\n"
   ]
  },
  {
   "cell_type": "markdown",
   "metadata": {},
   "source": [
    "请定义你自己的语法: "
   ]
  },
  {
   "cell_type": "markdown",
   "metadata": {},
   "source": [
    "第一个语法："
   ]
  },
  {
   "cell_type": "code",
   "execution_count": 2,
   "metadata": {
    "pycharm": {
     "is_executing": false
    }
   },
   "outputs": [],
   "source": [
    "#一个学生的语言可以定义为\n",
    "student = '''\n",
    "student = 个人 时间 举动 影响\n",
    "个人 = 学民 | 小红 | 李华 | 学霸 | 学渣\n",
    "时间 = 通宵 | 清晨 | 全日 | 十年如一日 \n",
    "举动 = 玩王者荣耀 | 学习 | 准备考研 | 出去浪 | 往死里学 | LOL排位\n",
    "影响 = 走上人生巅峰 | 成为了博士后 | 变成了咸鱼 | 成为了李哥\n",
    "'''"
   ]
  },
  {
   "cell_type": "markdown",
   "metadata": {},
   "source": [
    "> **评阅点**： 是否提出了和课程上区别较大的语法结构"
   ]
  },
  {
   "cell_type": "markdown",
   "metadata": {},
   "source": [
    "第二个语法："
   ]
  },
  {
   "cell_type": "code",
   "execution_count": 3,
   "metadata": {
    "pycharm": {
     "is_executing": false
    }
   },
   "outputs": [],
   "source": [
    "coding_man = '''\n",
    "coding_man =  动作 观察 判定 程序员 结论\n",
    "动作 = 仔细观察此人\n",
    "观察 = 发量 手指\n",
    "手指 =  手指修长 |  手不像打过代码\n",
    "发量 = 发量浓密 | 发量稀疏 | 发量适中\n",
    "判定 = 确定是\n",
    "程序员 = 新手程序员 | 中级程序员 | 资深程序员\n",
    "结论 = 明天来上班 | 再修炼一年\n",
    "'''"
   ]
  },
  {
   "cell_type": "markdown",
   "metadata": {},
   "source": [
    "> **评阅点**：是否和上一个语法区别比较大"
   ]
  },
  {
   "cell_type": "markdown",
   "metadata": {},
   "source": [
    "TODO: 然后，使用自己之前定义的generate函数，使用此函数生成句子。"
   ]
  },
  {
   "cell_type": "markdown",
   "metadata": {},
   "source": [
    "TODO: 然后，定义一个函数，generate_n，将generate扩展，使其能够生成n个句子:"
   ]
  },
  {
   "cell_type": "code",
   "execution_count": 4,
   "metadata": {
    "pycharm": {
     "is_executing": false
    }
   },
   "outputs": [],
   "source": [
    "import random"
   ]
  },
  {
   "cell_type": "code",
   "execution_count": 5,
   "metadata": {
    "pycharm": {
     "is_executing": false
    }
   },
   "outputs": [],
   "source": [
    "def create_grammar(grammar_str, split='=>', line_split='\\n'):\n",
    "    grammar = {}\n",
    "    for line in grammar_str.split(line_split):\n",
    "        if not line.strip(): continue\n",
    "        exp, stmt = line.split(split)\n",
    "#         print(exp)\n",
    "#         print(line.split(split))\n",
    "        grammar[exp.strip()] = [s.split() for s in stmt.split('|')]\n",
    "    return grammar"
   ]
  },
  {
   "cell_type": "code",
   "execution_count": 6,
   "metadata": {
    "pycharm": {
     "is_executing": false
    }
   },
   "outputs": [],
   "source": [
    "def generate(gram, target):\n",
    "    if target not in gram: return target # means target is a terminal expression\n",
    "    \n",
    "    expand = [generate(gram, t) for t in random.choice(gram[target])] #\n",
    "#     print(expand)\n",
    "    return ''.join([e if e!='/n'else '\\n' for e in expand if e!='null'])"
   ]
  },
  {
   "cell_type": "code",
   "execution_count": 7,
   "metadata": {
    "pycharm": {
     "is_executing": false
    }
   },
   "outputs": [],
   "source": [
    "def generate_n(gram, target, n = 1):\n",
    "        if target not in gram: \n",
    "            return target # means target is a terminal expression\n",
    "        gather=[]\n",
    "        for i in range(n):\n",
    "            expand = [generate(gram, t) for t in random.choice(gram[target])] \n",
    "            sentence = ''.join([e if e!='/n'else '\\n' for e in expand if e!='null'])\n",
    "            gather.append(sentence)\n",
    "\n",
    "        return gather"
   ]
  },
  {
   "cell_type": "code",
   "execution_count": 8,
   "metadata": {
    "pycharm": {
     "is_executing": false
    }
   },
   "outputs": [
    {
     "name": "stdout",
     "text": [
      "['小红通宵出去浪走上人生巅峰', '李华清晨玩王者荣耀成为了博士后', '学渣通宵玩王者荣耀走上人生巅峰', '李华通宵出去浪变成了咸鱼', '李华十年如一日往死里学成为了博士后']\n"
     ],
     "output_type": "stream"
    }
   ],
   "source": [
    "print(generate_n(gram=create_grammar(student, split='='),target='student',n = 5))"
   ]
  },
  {
   "cell_type": "code",
   "execution_count": 9,
   "metadata": {
    "pycharm": {
     "is_executing": false
    }
   },
   "outputs": [
    {
     "name": "stdout",
     "text": [
      "['仔细观察此人发量稀疏手指修长确定是中级程序员明天来上班', '仔细观察此人发量浓密手不像打过代码确定是新手程序员再修炼一年', '仔细观察此人发量适中手不像打过代码确定是新手程序员明天来上班', '仔细观察此人发量稀疏手指修长确定是资深程序员明天来上班', '仔细观察此人发量适中手指修长确定是资深程序员再修炼一年']\n"
     ],
     "output_type": "stream"
    }
   ],
   "source": [
    "print(generate_n(gram=create_grammar(coding_man, split='='),target='coding_man',n = 5))"
   ]
  },
  {
   "cell_type": "markdown",
   "metadata": {},
   "source": [
    "> **评阅点**; 运行代码，观察是否能够生成多个句子"
   ]
  },
  {
   "cell_type": "markdown",
   "metadata": {},
   "source": [
    "#### 2. 使用新数据源完成语言模型的训练"
   ]
  },
  {
   "cell_type": "markdown",
   "metadata": {},
   "source": [
    "按照我们上文中定义的`prob_2`函数，我们更换一个文本数据源，获得新的Language Model:\n",
    "\n",
    "1. 下载文本数据集（你可以在以下数据集中任选一个，也可以两个都使用）\n",
    "    + 可选数据集1，保险行业问询对话集： https://github.com/Computing-Intelligence/insuranceqa-corpus-zh/raw/release/corpus/pool/train.txt.gz\n",
    "    + 可选数据集2：豆瓣评论数据集：https://github.com/Computing-Intelligence/datasource/raw/master/movie_comments.csv\n",
    "2. 修改代码，获得新的**2-gram**语言模型\n",
    "    + 进行文本清洗，获得所有的纯文本\n",
    "    + 将这些文本进行切词\n",
    "    + 送入之前定义的语言模型中，判断文本的合理程度"
   ]
  },
  {
   "cell_type": "code",
   "execution_count": 1,
   "metadata": {
    "pycharm": {
     "is_executing": false
    }
   },
   "outputs": [],
   "source": [
    "filename=\"/Users/junjiexie/Downloads/movie_comments.csv\""
   ]
  },
  {
   "cell_type": "code",
   "execution_count": 2,
   "metadata": {
    "pycharm": {
     "is_executing": false
    }
   },
   "outputs": [
    {
     "name": "stderr",
     "text": [
      "/Users/junjiexie/opt/anaconda3/lib/python3.7/site-packages/IPython/core/interactiveshell.py:3058: DtypeWarning: Columns (0,4) have mixed types. Specify dtype option on import or set low_memory=False.\n",
      "  interactivity=interactivity, compiler=compiler, result=result)\n"
     ],
     "output_type": "stream"
    }
   ],
   "source": [
    "import pandas as pd\n",
    "content = pd.read_csv(filename, encoding = 'utf_8')"
   ]
  },
  {
   "cell_type": "code",
   "execution_count": 3,
   "metadata": {
    "pycharm": {
     "is_executing": false
    }
   },
   "outputs": [
    {
     "data": {
      "text/plain": "  id                                        link name  \\\n0  1  https://movie.douban.com/subject/26363254/  战狼2   \n1  2  https://movie.douban.com/subject/26363254/  战狼2   \n2  3  https://movie.douban.com/subject/26363254/  战狼2   \n3  4  https://movie.douban.com/subject/26363254/  战狼2   \n4  5  https://movie.douban.com/subject/26363254/  战狼2   \n\n                                             comment star  \n0                                 吴京意淫到了脑残的地步，看了恶心想吐    1  \n1  首映礼看的。太恐怖了这个电影，不讲道理的，完全就是吴京在实现他这个小粉红的英雄梦。各种装备轮...    2  \n2  吴京的炒作水平不输冯小刚，但小刚至少不会用主旋律来炒作…吴京让人看了不舒服，为了主旋律而主旋...    2  \n3                      凭良心说，好看到不像《战狼1》的续集，完虐《湄公河行动》。    4  \n4                                               中二得很    1  ",
      "text/html": "<div>\n<style scoped>\n    .dataframe tbody tr th:only-of-type {\n        vertical-align: middle;\n    }\n\n    .dataframe tbody tr th {\n        vertical-align: top;\n    }\n\n    .dataframe thead th {\n        text-align: right;\n    }\n</style>\n<table border=\"1\" class=\"dataframe\">\n  <thead>\n    <tr style=\"text-align: right;\">\n      <th></th>\n      <th>id</th>\n      <th>link</th>\n      <th>name</th>\n      <th>comment</th>\n      <th>star</th>\n    </tr>\n  </thead>\n  <tbody>\n    <tr>\n      <td>0</td>\n      <td>1</td>\n      <td>https://movie.douban.com/subject/26363254/</td>\n      <td>战狼2</td>\n      <td>吴京意淫到了脑残的地步，看了恶心想吐</td>\n      <td>1</td>\n    </tr>\n    <tr>\n      <td>1</td>\n      <td>2</td>\n      <td>https://movie.douban.com/subject/26363254/</td>\n      <td>战狼2</td>\n      <td>首映礼看的。太恐怖了这个电影，不讲道理的，完全就是吴京在实现他这个小粉红的英雄梦。各种装备轮...</td>\n      <td>2</td>\n    </tr>\n    <tr>\n      <td>2</td>\n      <td>3</td>\n      <td>https://movie.douban.com/subject/26363254/</td>\n      <td>战狼2</td>\n      <td>吴京的炒作水平不输冯小刚，但小刚至少不会用主旋律来炒作…吴京让人看了不舒服，为了主旋律而主旋...</td>\n      <td>2</td>\n    </tr>\n    <tr>\n      <td>3</td>\n      <td>4</td>\n      <td>https://movie.douban.com/subject/26363254/</td>\n      <td>战狼2</td>\n      <td>凭良心说，好看到不像《战狼1》的续集，完虐《湄公河行动》。</td>\n      <td>4</td>\n    </tr>\n    <tr>\n      <td>4</td>\n      <td>5</td>\n      <td>https://movie.douban.com/subject/26363254/</td>\n      <td>战狼2</td>\n      <td>中二得很</td>\n      <td>1</td>\n    </tr>\n  </tbody>\n</table>\n</div>"
     },
     "metadata": {},
     "output_type": "execute_result",
     "execution_count": 3
    }
   ],
   "source": [
    "content.head()"
   ]
  },
  {
   "cell_type": "code",
   "execution_count": 4,
   "metadata": {
    "pycharm": {
     "is_executing": false
    }
   },
   "outputs": [],
   "source": [
    "articles = content['comment'].tolist()"
   ]
  },
  {
   "cell_type": "code",
   "execution_count": 9,
   "metadata": {
    "pycharm": {
     "is_executing": false
    }
   },
   "outputs": [],
   "source": [
    "import re\n",
    "import jieba\n",
    "def token(string):\n",
    "    # we will learn the regular expression next course.\n",
    "    return re.findall('\\w+', string)\n",
    "\n",
    "def cut(string): return list(jieba.cut(string))"
   ]
  },
  {
   "cell_type": "code",
   "execution_count": 10,
   "metadata": {
    "pycharm": {
     "is_executing": false
    }
   },
   "outputs": [],
   "source": [
    "articles_clean = [''.join(token(str(a)))for a in articles]"
   ]
  },
  {
   "cell_type": "code",
   "execution_count": 11,
   "metadata": {
    "pycharm": {
     "is_executing": false
    }
   },
   "outputs": [
    {
     "name": "stdout",
     "text": [
      "1000\n"
     ],
     "output_type": "stream"
    }
   ],
   "source": [
    "TOKEN = []\n",
    "for i,line in enumerate(articles_clean):\n",
    "    if i % 1000 ==0 and i !=0 : \n",
    "        print(i)\n",
    "        break;\n",
    "    \n",
    "    TOKEN += cut(line.strip())"
   ]
  },
  {
   "cell_type": "code",
   "execution_count": 12,
   "metadata": {
    "pycharm": {
     "is_executing": false
    }
   },
   "outputs": [
    {
     "data": {
      "text/plain": "['吴京',\n '意淫',\n '到',\n '了',\n '脑残',\n '的',\n '地步',\n '看',\n '了',\n '恶心',\n '想',\n '吐',\n '首映礼',\n '看',\n '的',\n '太',\n '恐怖',\n '了',\n '这个',\n '电影',\n '不讲道理',\n '的',\n '完全',\n '就是',\n '吴京',\n '在',\n '实现',\n '他',\n '这个',\n '小',\n '粉红',\n '的',\n '英雄',\n '梦',\n '各种',\n '装备',\n '轮番',\n '上场',\n '视',\n '物理',\n '逻辑',\n '于',\n '不顾',\n '不得不',\n '说',\n '有钱',\n '真',\n '好',\n '随意',\n '胡闹',\n '吴京',\n '的',\n '炒作',\n '水平',\n '不输',\n '冯小刚',\n '但小刚',\n '至少',\n '不会',\n '用',\n '主旋律',\n '来',\n '炒作',\n '吴京',\n '让',\n '人',\n '看',\n '了',\n '不',\n '舒服',\n '为了',\n '主旋律',\n '而',\n '主旋律',\n '为了',\n '煽情',\n '而',\n '煽情',\n '让',\n '人',\n '觉得',\n '他',\n '是',\n '个',\n '大',\n '做作',\n '大',\n '谎言',\n '家',\n '729',\n '更新',\n '片子',\n '整体',\n '不如',\n '湄公河',\n '行动',\n '1',\n '整体',\n '不够',\n '流畅',\n '编剧',\n '有毒',\n '台词',\n '尴尬',\n '2',\n '刻意',\n '做作',\n '的',\n '主旋律',\n '煽情',\n '显得',\n '如此',\n '不合时宜',\n '而',\n '又',\n '多余',\n '凭良心说',\n '好',\n '看到',\n '不像',\n '战狼',\n '1',\n '的',\n '续集',\n '完虐',\n '湄公河',\n '行动',\n '中二得',\n '很',\n '犯',\n '我',\n '中华',\n '者',\n '虽远必',\n '诛',\n '吴京',\n '比',\n '这句',\n '话',\n '还要',\n '意淫',\n '一百倍',\n '脑子',\n '是',\n '个',\n '好',\n '东西',\n '希望',\n '编剧',\n '们',\n '都',\n '能',\n '有',\n '三星',\n '半',\n '实打实',\n '的',\n '7',\n '分',\n '第一集',\n '在',\n '爱国',\n '主旋律',\n '内部',\n '做',\n '着',\n '各种',\n '置换',\n '与',\n '较劲',\n '但',\n '第二集',\n '才',\n '真正',\n '显露',\n '吴京',\n '的',\n '野心',\n '他',\n '终于',\n '抛弃',\n '李忠志',\n '了',\n '新增',\n '外来',\n '班底',\n '让',\n '硬件',\n '实力',\n '有',\n '机会',\n '和',\n '国际',\n '接轨',\n '开篇',\n '水下',\n '长镜头',\n '和',\n '诸如',\n '铁丝网',\n '拦截',\n 'RPG',\n '弹头',\n '的',\n '细节',\n '设计',\n '都',\n '让',\n '国产',\n '动作片',\n '重新',\n '封顶',\n '在',\n '理念',\n '上',\n '它',\n '甚至',\n '做到',\n '绣春刀',\n '2',\n '最',\n '想做到',\n '的',\n '那',\n '部分',\n '开篇',\n '长镜头',\n '惊险',\n '大气',\n '引人入胜',\n '结合',\n '了',\n '水平',\n '不俗',\n '的',\n '快',\n '剪下',\n '实打实',\n '的',\n '真刀真枪',\n '让',\n '人',\n '不禁',\n '热血沸腾',\n '特别',\n '弹簧床',\n '架',\n '挡',\n '炸弹',\n '空手',\n '接',\n '碎玻璃',\n '弹匣',\n '割喉',\n '等',\n '帅',\n '得',\n '飞起',\n '就算',\n '前半段',\n '铺垫',\n '节奏',\n '散漫',\n '主角',\n '光环',\n '开太大',\n '等',\n '也',\n '不怕',\n '作为',\n '一个',\n '中国',\n '人',\n '两个',\n '小时',\n '弥漫着',\n '中国',\n '强大',\n '得',\n '不可',\n '侵犯',\n '的',\n '氛围',\n '还是',\n '让',\n '那颗',\n '民族',\n '自豪',\n '心',\n '砰砰',\n '砰',\n '跳个',\n '不停',\n '15100',\n '吴京',\n '的',\n '冷峰',\n '在',\n '这部',\n '里',\n '即',\n '像',\n '成龙',\n '又',\n '像杰',\n '森斯坦',\n '森但',\n '体制',\n '外',\n '的',\n '同',\n '类型',\n '电影',\n '主角',\n '总是',\n '代表',\n '个人',\n '无能',\n '的',\n '政府',\n '需要',\n '求助于',\n '这些',\n '英雄',\n '才能',\n '解决',\n '难题',\n '体现',\n '的',\n '是',\n '个人',\n '的',\n '价值',\n '所以',\n '主旋律',\n '照抄',\n '这种',\n '模式',\n '实际上',\n '是',\n '有',\n '问题',\n '的',\n '我们',\n '以前',\n '嘲笑',\n '个人',\n '英雄主义',\n '却',\n '没想到',\n '捆绑',\n '爱国主义',\n '的',\n '全能',\n '战士',\n '更加',\n '难以',\n '下咽',\n '犯',\n '我',\n '中华',\n '者',\n '虽远必',\n '诛',\n '是',\n '有',\n '多',\n '无脑',\n '才',\n '信',\n '这句',\n '话',\n '这部',\n '戏',\n '让',\n '人',\n '看',\n '的',\n '热血沸腾',\n '对',\n '吴京路',\n '转粉',\n '最后',\n '的',\n '彩蛋',\n '让',\n '我们',\n '没有',\n '理由',\n '不',\n '期待',\n '下',\n '一部',\n '假',\n '嗨',\n '特别',\n '恶心',\n '的',\n '电影',\n '有',\n '几处',\n '情节',\n '设置',\n '过于',\n '尴尬',\n '彰显',\n '国家',\n '自豪感',\n '的',\n '部分',\n '稍显',\n '突兀',\n '就是',\n '一部',\n '爽片',\n '打戏',\n '挺燃',\n '但是',\n '故事',\n '一般',\n '达康',\n '书记',\n '不',\n '合适',\n '这个',\n '角色',\n '赵',\n '东来',\n '倒',\n '是',\n '很',\n '合适',\n '张瀚',\n '太太',\n '太违',\n '和',\n '了',\n '分',\n '分钟',\n '穿越',\n '回',\n '偶像剧',\n '赵',\n '东来',\n '达康',\n '书记',\n '我们',\n '接到',\n '在',\n '非洲',\n '卧底',\n '的',\n '冷锋',\n '报告',\n '丁义珍',\n '现在',\n '非洲',\n '我们',\n '请求',\n '抓捕',\n '李达康',\n '东来',\n '这件',\n '事先',\n '不要',\n '声张',\n '特别',\n '是',\n '别',\n '让',\n '省厅',\n '知道',\n '就',\n '你',\n '和',\n '我',\n '一起',\n '去',\n '非洲',\n '加上',\n '冷锋',\n '同志',\n '三人',\n '逮捕',\n '丁义珍',\n '这次',\n '行',\n '就',\n '叫',\n '战狼',\n '2',\n '吧',\n '下',\n '一部',\n '拍',\n '喜剧',\n '吧',\n '整个',\n '片子',\n '真',\n '感觉',\n '挺',\n '搞笑',\n '的',\n '战狼',\n '2',\n '里',\n '吴京',\n '这么',\n '能',\n '打',\n '他',\n '打',\n '得',\n '过',\n '徐晓冬',\n '么',\n '心往',\n '一处',\n '想劲往',\n '一处',\n '使',\n '就',\n '能',\n '实现',\n '我们',\n '的',\n '梦想',\n '看吧',\n '比',\n '第一部',\n '好太多',\n '了',\n '谢谢',\n '美队',\n '的',\n '动作',\n '指导',\n '这',\n '都',\n '能',\n '火',\n '是',\n '我',\n '没见识',\n '开头',\n '的',\n '水下',\n '长',\n '对决',\n '戏可算',\n '华语',\n '电影',\n '的',\n '顶尖',\n '存在',\n '驱逐舰',\n '导弹',\n '和',\n '坦克',\n '在',\n '商业片',\n '里',\n '这么',\n '狂用',\n '也',\n '是',\n '了',\n '得',\n '镜头',\n '运用',\n '和',\n '笑',\n '点',\n '插入',\n '都',\n '很',\n '好莱坞',\n '爆米花',\n '不功',\n '不过',\n '从头',\n '打到',\n '尾',\n '是',\n '真',\n '拼',\n '虽然',\n '镜头',\n '也',\n '有略',\n '乱',\n '时',\n '因为',\n '没',\n '啥',\n '期望值',\n '所以',\n '被',\n '吴京',\n '的',\n '野心',\n '吓了一跳',\n '吴刚',\n '于',\n '谦和',\n '丁海峰',\n '老',\n '三位',\n '像',\n '炖',\n '烂熟',\n '的',\n '牛筋',\n '嚼',\n '着',\n '就',\n '舒服',\n '很',\n '用心',\n '啊',\n '吴京',\n '导演',\n '小看',\n '你',\n '了',\n '确实',\n '在',\n '导演',\n '上',\n '下功夫',\n '了',\n '拉',\n '片子',\n '了',\n '知道',\n '借鉴',\n '是',\n '好',\n '的',\n '至于',\n '大家',\n '比较',\n '反感',\n '的',\n '小',\n '粉红',\n '情绪',\n '我',\n '觉得',\n '那些',\n '桥段',\n '都',\n '是',\n '主旋律',\n '必备',\n '啊',\n '是',\n '稍微',\n '有',\n '一点',\n '过',\n '但',\n '还',\n '可以',\n '接受',\n '最好',\n '的',\n '地方',\n '是',\n '吴京',\n '节奏',\n '掌握',\n '得',\n '很',\n '好',\n '知道',\n '张弛',\n '有度',\n '这点',\n '很',\n '难得',\n '犯',\n '我',\n '中华',\n '者',\n '虽远必',\n '诛',\n '这句',\n '话',\n '一直',\n '在',\n '我',\n '脑子里',\n '回响',\n '片头',\n '海里',\n '那场',\n '动作',\n '戏看',\n '完',\n '就',\n '呆',\n '不',\n '下去',\n '了',\n '太假',\n '太',\n '做作',\n '提前',\n '离场',\n '好看',\n '这部',\n '戏',\n '让',\n '人',\n '看',\n '的',\n '热血沸腾',\n '打戏',\n '挺燃',\n '的',\n '吴京',\n '演技',\n '棒呆',\n '了',\n '符合',\n '有钱',\n '了',\n '续集',\n '反而',\n '拍',\n '更',\n '差',\n '这',\n '一',\n '放之四海而皆准',\n '的',\n '规律',\n '场面',\n '越做越',\n '大',\n '然而',\n '伴随',\n '着',\n '各种',\n '动作',\n '场面',\n '和',\n '特效',\n '场面',\n '的',\n '升级',\n '这',\n '一部',\n '的',\n '叙事',\n '反而',\n '变得',\n '非常',\n '凌乱',\n '格局',\n '颇',\n '大想',\n '拍成',\n '黑鹰坠落',\n '结果',\n '撑死',\n '最多',\n '也',\n '只是',\n '官方',\n '主旋律',\n '版',\n '的',\n '敢死队',\n '吴京',\n '确实',\n '有',\n '野心',\n '但论',\n '自我',\n '角色定位',\n '能力',\n '远',\n '不',\n '如同',\n '是',\n '动作',\n '演员',\n '出身',\n '的',\n '甄子丹',\n '说',\n '喜欢',\n '这部',\n '片子',\n '的',\n '人',\n '不是',\n '装傻',\n '就是',\n '真傻',\n '要不是',\n '真的',\n '没有',\n '别的',\n '可',\n '看',\n '肯定',\n '是',\n '不会',\n '选',\n '这部',\n '的',\n '直',\n '男癌',\n '到',\n '令人发指',\n '所有',\n '剧情',\n '走向',\n '也',\n '完全',\n '是',\n '九十年代',\n '那套',\n '照搬',\n '审美',\n '这件',\n '事儿',\n '真',\n '不是',\n '一时半会儿',\n '能',\n '培养',\n '出来',\n '的',\n '整部',\n '电影',\n '延续',\n '1',\n '的',\n '风格',\n '热血',\n '场面',\n '比',\n '1',\n '来',\n '的',\n '要',\n '大',\n '打戏',\n '动作',\n '不错',\n '吴京',\n '挺',\n '适合',\n '演',\n '军人',\n '的',\n '电影',\n '之前',\n '的',\n '中国',\n '梦',\n '片段',\n '他',\n '都',\n '念',\n '的',\n '劲儿',\n '劲儿',\n '的',\n '整体',\n '来说',\n '还',\n '不错',\n '不过',\n '张翰太违',\n '和',\n '了',\n '一',\n '出来',\n '就',\n '一股',\n '雷阵雨',\n '的',\n '画风',\n '目瞪狗',\n '呆',\n '太',\n '瘠薄',\n '好看',\n '了',\n '中国',\n '人牛',\n 'b',\n '就是',\n '硬道理',\n '隔壁',\n '建军',\n '大爷',\n '都',\n '没',\n '你们',\n '爱国',\n '战狼',\n '2',\n '的',\n '动作',\n '场景',\n '和',\n '战斗',\n '装备',\n '全线',\n '升级',\n '热血',\n '的',\n '打斗',\n '动作',\n '从头',\n '打到',\n '尾战',\n '狼',\n '2',\n '游走',\n '在',\n '电影',\n '审查',\n '红线',\n '的',\n '边界',\n '和',\n '政治',\n '安全',\n '的',\n '缝隙',\n '是',\n '部',\n '延续',\n '了',\n '第一部',\n '极具',\n '煽动',\n '爱国',\n '情绪',\n '的',\n '国产',\n '动作',\n '大片',\n '如此',\n '制作',\n '精良',\n '的',\n '影片',\n '还',\n '请',\n '多来',\n '一点',\n '电影',\n '用',\n '的',\n '胶卷',\n '挺差',\n '的',\n '故事',\n '过度',\n '也',\n '差',\n '地方',\n '部队',\n '还',\n '没太多',\n '展示',\n '就',\n '死去',\n '反正',\n '各种',\n '问题',\n '但',\n '就是',\n '能',\n '吸引',\n '人',\n '看',\n '下去',\n '就',\n '冲',\n '这',\n '为什么',\n '要',\n '这么',\n '鄙视',\n '敢',\n '想',\n '敢',\n '去',\n '开拓',\n '的',\n ...]"
     },
     "metadata": {},
     "output_type": "execute_result",
     "execution_count": 12
    }
   ],
   "source": [
    "TOKEN"
   ]
  },
  {
   "cell_type": "code",
   "execution_count": 13,
   "metadata": {
    "pycharm": {
     "is_executing": false
    }
   },
   "outputs": [
    {
     "data": {
      "text/plain": "[('的', 1467),\n ('了', 607),\n ('是', 320),\n ('我', 309),\n ('都', 209),\n ('在', 175),\n ('看', 169),\n ('电影', 168),\n ('就', 168),\n ('不', 165)]"
     },
     "metadata": {},
     "output_type": "execute_result",
     "execution_count": 13
    }
   ],
   "source": [
    "from collections import Counter\n",
    "words_count = Counter(TOKEN)\n",
    "words_count.most_common(10)"
   ]
  },
  {
   "cell_type": "code",
   "execution_count": 124,
   "metadata": {},
   "outputs": [
    {
     "data": {
      "text/plain": [
       "[<matplotlib.lines.Line2D at 0x190879410>]"
      ]
     },
     "execution_count": 124,
     "metadata": {},
     "output_type": "execute_result"
    },
    {
     "data": {
      "image/png": "[encoded data removed]",
      "text/plain": [
       "<Figure size 432x288 with 1 Axes>"
      ]
     },
     "metadata": {
      "needs_background": "light"
     },
     "output_type": "display_data"
    }
   ],
   "source": [
    "frequiences = [f for w, f in words_count.most_common(100)]\n",
    "x = [i for i in range(100)]\n",
    "%matplotlib inline\n",
    "import matplotlib.pyplot as plt\n",
    "plt.plot(x, frequiences)\n"
   ]
  },
  {
   "cell_type": "code",
   "execution_count": 14,
   "metadata": {
    "pycharm": {
     "is_executing": false
    }
   },
   "outputs": [],
   "source": [
    "TOKEN_1_GRAM = [str(t) for t in TOKEN] #为了构造出2gram作准备\n",
    "'''\n",
    "n-gram最大的问题就是稀疏问题（Sparsity）。例如，在bi-gram中，若词库中有20k个词，那么两两组合 \n",
    "就有近2亿个组合。其中的很多组合在语料库中都没有出现，根据极大似然估计得到的组合概率将会是0，从而整个句子的概率就会为0。\n",
    "最后的结果是，我们的模型只能计算零星的几个句子的概率，而大部分的句子算得的概率是0，这显然是不合理的。\n",
    "因此，我们要进行数据平滑（data Smoothing），数据平滑的目的有两个：一个是使所有的N-gram概率之和为1，使所有的n-gram概率都不为0。\n",
    "它的本质，是重新分配整个概率空间，使已经出现过的n-gram的概率降低，补充给未曾出现过的n-gram。\n",
    "\n",
    "'''\n",
    "TOKEN_2_GRAM = [''.join(TOKEN_1_GRAM[i:i+2]) for i in range(len(TOKEN_1_GRAM[:-2]))]\n",
    "\n"
   ]
  },
  {
   "cell_type": "code",
   "execution_count": 15,
   "metadata": {
    "pycharm": {
     "is_executing": false
    }
   },
   "outputs": [
    {
     "data": {
      "text/plain": "['吴京意淫', '意淫到', '到了', '了脑残', '脑残的']"
     },
     "metadata": {},
     "output_type": "execute_result",
     "execution_count": 15
    }
   ],
   "source": [
    "TOKEN_2_GRAM[:5]"
   ]
  },
  {
   "cell_type": "code",
   "execution_count": 16,
   "metadata": {
    "pycharm": {
     "is_executing": false
    }
   },
   "outputs": [],
   "source": [
    "def prob_1(word):\n",
    "    return words_count[word] / len(TOKEN)\n",
    "\n",
    "# def porb_2(word1,word2):\n",
    "#     r = [word1,word2]\n",
    "#     if ''.join(str(i) for i in r) in words_count_2: \n",
    "#         return words_count_2[''.join(str(i) for i in r)] / word_count[word2]\n",
    "#     else:\n",
    "#         return 1 / len(TOKEN_2_GRAM)\n",
    "    \n",
    "def prob_2(word1, word2):\n",
    "    if word1 + word2 in words_count_2: return words_count_2[word1+word2] / word_count[word2]\n",
    "    else:\n",
    "        return 1 / len(TOKEN_2_GRAM)"
   ]
  },
  {
   "cell_type": "code",
   "execution_count": 17,
   "metadata": {
    "pycharm": {
     "is_executing": false
    }
   },
   "outputs": [],
   "source": [
    "def get_probablity(sentence):\n",
    "    words = cut(sentence)\n",
    "    sentence_pro = 1\n",
    "    \n",
    "    for i,word in enumerate(words[:-1]):\n",
    "        next_ = words[i+1]\n",
    "        \n",
    "        probability = porb_2(words, next_)\n",
    "        \n",
    "        sentence_pro *= probability\n",
    "        \n",
    "    return sentence_pro"
   ]
  },
  {
   "cell_type": "code",
   "execution_count": 18,
   "metadata": {
    "pycharm": {
     "is_executing": false
    }
   },
   "outputs": [
    {
     "traceback": [
      "\u001b[0;31m---------------------------------------------------------------------------\u001b[0m",
      "\u001b[0;31mNameError\u001b[0m                                 Traceback (most recent call last)",
      "\u001b[0;32m<ipython-input-18-9064fc63ade7>\u001b[0m in \u001b[0;36m<module>\u001b[0;34m\u001b[0m\n\u001b[0;32m----> 1\u001b[0;31m \u001b[0mporb_2\u001b[0m\u001b[0;34m(\u001b[0m\u001b[0;34m'小米'\u001b[0m\u001b[0;34m,\u001b[0m\u001b[0;34m'手机'\u001b[0m\u001b[0;34m)\u001b[0m\u001b[0;34m\u001b[0m\u001b[0;34m\u001b[0m\u001b[0m\n\u001b[0m\u001b[1;32m      2\u001b[0m \u001b[0;34m\u001b[0m\u001b[0m\n",
      "\u001b[0;31mNameError\u001b[0m: name 'porb_2' is not defined"
     ],
     "ename": "NameError",
     "evalue": "name 'porb_2' is not defined",
     "output_type": "error"
    }
   ],
   "source": [
    "porb_2('小米','手机')"
   ]
  },
  {
   "cell_type": "code",
   "execution_count": 19,
   "metadata": {
    "pycharm": {
     "is_executing": false
    }
   },
   "outputs": [
    {
     "traceback": [
      "\u001b[0;31m---------------------------------------------------------------------------\u001b[0m",
      "\u001b[0;31mNameError\u001b[0m                                 Traceback (most recent call last)",
      "\u001b[0;32m<ipython-input-19-377413ffc35d>\u001b[0m in \u001b[0;36m<module>\u001b[0;34m\u001b[0m\n\u001b[0;32m----> 1\u001b[0;31m \u001b[0mporb_2\u001b[0m\u001b[0;34m(\u001b[0m\u001b[0;34m'其余'\u001b[0m\u001b[0;34m,\u001b[0m\u001b[0;34m'的'\u001b[0m\u001b[0;34m)\u001b[0m\u001b[0;34m\u001b[0m\u001b[0;34m\u001b[0m\u001b[0m\n\u001b[0m\u001b[1;32m      2\u001b[0m \u001b[0;34m\u001b[0m\u001b[0m\n",
      "\u001b[0;31mNameError\u001b[0m: name 'porb_2' is not defined"
     ],
     "ename": "NameError",
     "evalue": "name 'porb_2' is not defined",
     "output_type": "error"
    }
   ],
   "source": [
    "porb_2('其余','的')"
   ]
  },
  {
   "cell_type": "code",
   "execution_count": 20,
   "metadata": {
    "pycharm": {
     "is_executing": false
    }
   },
   "outputs": [
    {
     "traceback": [
      "\u001b[0;31m---------------------------------------------------------------------------\u001b[0m",
      "\u001b[0;31mNameError\u001b[0m                                 Traceback (most recent call last)",
      "\u001b[0;32m<ipython-input-20-8b784f31155e>\u001b[0m in \u001b[0;36m<module>\u001b[0;34m\u001b[0m\n\u001b[0;32m----> 1\u001b[0;31m \u001b[0mget_probablity\u001b[0m\u001b[0;34m(\u001b[0m\u001b[0;34m\"学民全日LOL排位成为了博士后\"\u001b[0m\u001b[0;34m)\u001b[0m\u001b[0;34m\u001b[0m\u001b[0;34m\u001b[0m\u001b[0m\n\u001b[0m\u001b[1;32m      2\u001b[0m \u001b[0;34m\u001b[0m\u001b[0m\n",
      "\u001b[0;32m<ipython-input-17-21928d8725dd>\u001b[0m in \u001b[0;36mget_probablity\u001b[0;34m(sentence)\u001b[0m\n\u001b[1;32m      6\u001b[0m         \u001b[0mnext_\u001b[0m \u001b[0;34m=\u001b[0m \u001b[0mwords\u001b[0m\u001b[0;34m[\u001b[0m\u001b[0mi\u001b[0m\u001b[0;34m+\u001b[0m\u001b[0;36m1\u001b[0m\u001b[0;34m]\u001b[0m\u001b[0;34m\u001b[0m\u001b[0;34m\u001b[0m\u001b[0m\n\u001b[1;32m      7\u001b[0m \u001b[0;34m\u001b[0m\u001b[0m\n\u001b[0;32m----> 8\u001b[0;31m         \u001b[0mprobability\u001b[0m \u001b[0;34m=\u001b[0m \u001b[0mporb_2\u001b[0m\u001b[0;34m(\u001b[0m\u001b[0mwords\u001b[0m\u001b[0;34m,\u001b[0m \u001b[0mnext_\u001b[0m\u001b[0;34m)\u001b[0m\u001b[0;34m\u001b[0m\u001b[0;34m\u001b[0m\u001b[0m\n\u001b[0m\u001b[1;32m      9\u001b[0m \u001b[0;34m\u001b[0m\u001b[0m\n\u001b[1;32m     10\u001b[0m         \u001b[0msentence_pro\u001b[0m \u001b[0;34m*=\u001b[0m \u001b[0mprobability\u001b[0m\u001b[0;34m\u001b[0m\u001b[0;34m\u001b[0m\u001b[0m\n",
      "\u001b[0;31mNameError\u001b[0m: name 'porb_2' is not defined"
     ],
     "ename": "NameError",
     "evalue": "name 'porb_2' is not defined",
     "output_type": "error"
    }
   ],
   "source": [
    "get_probablity(\"学民全日LOL排位成为了博士后\")"
   ]
  },
  {
   "cell_type": "code",
   "execution_count": 21,
   "metadata": {
    "pycharm": {
     "is_executing": false
    }
   },
   "outputs": [
    {
     "traceback": [
      "\u001b[0;31m---------------------------------------------------------------------------\u001b[0m",
      "\u001b[0;31mNameError\u001b[0m                                 Traceback (most recent call last)",
      "\u001b[0;32m<ipython-input-21-cc246f2a68dd>\u001b[0m in \u001b[0;36m<module>\u001b[0;34m\u001b[0m\n\u001b[0;32m----> 1\u001b[0;31m \u001b[0mget_probablity\u001b[0m\u001b[0;34m(\u001b[0m\u001b[0;34m'小明今天抽到一台播音飞机'\u001b[0m\u001b[0;34m)\u001b[0m\u001b[0;34m\u001b[0m\u001b[0;34m\u001b[0m\u001b[0m\n\u001b[0m\u001b[1;32m      2\u001b[0m \u001b[0;34m\u001b[0m\u001b[0m\n",
      "\u001b[0;32m<ipython-input-17-21928d8725dd>\u001b[0m in \u001b[0;36mget_probablity\u001b[0;34m(sentence)\u001b[0m\n\u001b[1;32m      6\u001b[0m         \u001b[0mnext_\u001b[0m \u001b[0;34m=\u001b[0m \u001b[0mwords\u001b[0m\u001b[0;34m[\u001b[0m\u001b[0mi\u001b[0m\u001b[0;34m+\u001b[0m\u001b[0;36m1\u001b[0m\u001b[0;34m]\u001b[0m\u001b[0;34m\u001b[0m\u001b[0;34m\u001b[0m\u001b[0m\n\u001b[1;32m      7\u001b[0m \u001b[0;34m\u001b[0m\u001b[0m\n\u001b[0;32m----> 8\u001b[0;31m         \u001b[0mprobability\u001b[0m \u001b[0;34m=\u001b[0m \u001b[0mporb_2\u001b[0m\u001b[0;34m(\u001b[0m\u001b[0mwords\u001b[0m\u001b[0;34m,\u001b[0m \u001b[0mnext_\u001b[0m\u001b[0;34m)\u001b[0m\u001b[0;34m\u001b[0m\u001b[0;34m\u001b[0m\u001b[0m\n\u001b[0m\u001b[1;32m      9\u001b[0m \u001b[0;34m\u001b[0m\u001b[0m\n\u001b[1;32m     10\u001b[0m         \u001b[0msentence_pro\u001b[0m \u001b[0;34m*=\u001b[0m \u001b[0mprobability\u001b[0m\u001b[0;34m\u001b[0m\u001b[0;34m\u001b[0m\u001b[0m\n",
      "\u001b[0;31mNameError\u001b[0m: name 'porb_2' is not defined"
     ],
     "ename": "NameError",
     "evalue": "name 'porb_2' is not defined",
     "output_type": "error"
    }
   ],
   "source": [
    "get_probablity('小明今天抽到一台播音飞机')"
   ]
  },
  {
   "cell_type": "markdown",
   "metadata": {},
   "source": [
    "## 定义generate_best生成器,判断前面随机生成语句的合理程度"
   ]
  },
  {
   "cell_type": "code",
   "execution_count": 22,
   "metadata": {
    "pycharm": {
     "is_executing": false
    }
   },
   "outputs": [],
   "source": [
    "def generate_best(gram,target,n,r): #n生成多少个句子作为选择，r需要多少个得分最高的句子\n",
    "    gather = generate_n(gram,target,n)\n",
    "    pro=[]\n",
    "    for i in gather:\n",
    "        pro.append(get_probablity(i))\n",
    "    rank=[]\n",
    "    for i in zip(gather,pro):\n",
    "        rank.append(i)\n",
    "    return sorted(rank,key=lambda x: x[1], reverse=True)[:r]"
   ]
  },
  {
   "cell_type": "code",
   "execution_count": 23,
   "metadata": {
    "pycharm": {
     "is_executing": false
    }
   },
   "outputs": [
    {
     "traceback": [
      "\u001b[0;31m---------------------------------------------------------------------------\u001b[0m",
      "\u001b[0;31mNameError\u001b[0m                                 Traceback (most recent call last)",
      "\u001b[0;32m<ipython-input-23-1a05c50e0eb0>\u001b[0m in \u001b[0;36m<module>\u001b[0;34m\u001b[0m\n\u001b[1;32m      1\u001b[0m \u001b[0;31m#最近事情比较多，学习时间有限，猜测是这个词典的词不够，导致很多数据都是直接平滑的\u001b[0m\u001b[0;34m\u001b[0m\u001b[0;34m\u001b[0m\u001b[0;34m\u001b[0m\u001b[0m\n\u001b[1;32m      2\u001b[0m \u001b[0;31m#2-gram模型由于数据稀疏表现已经较差，3-gram模型会出现几乎全数据平滑问题，因此需要更大量的数据集\u001b[0m\u001b[0;34m\u001b[0m\u001b[0;34m\u001b[0m\u001b[0;34m\u001b[0m\u001b[0m\n\u001b[0;32m----> 3\u001b[0;31m \u001b[0mgenerate_best\u001b[0m\u001b[0;34m(\u001b[0m\u001b[0mgram\u001b[0m\u001b[0;34m=\u001b[0m\u001b[0mcreate_grammar\u001b[0m\u001b[0;34m(\u001b[0m\u001b[0mstudent\u001b[0m\u001b[0;34m,\u001b[0m \u001b[0msplit\u001b[0m\u001b[0;34m=\u001b[0m\u001b[0;34m'='\u001b[0m\u001b[0;34m)\u001b[0m\u001b[0;34m,\u001b[0m\u001b[0mtarget\u001b[0m\u001b[0;34m=\u001b[0m\u001b[0;34m'student'\u001b[0m\u001b[0;34m,\u001b[0m\u001b[0mn\u001b[0m\u001b[0;34m=\u001b[0m\u001b[0;36m50\u001b[0m\u001b[0;34m,\u001b[0m\u001b[0mr\u001b[0m\u001b[0;34m=\u001b[0m\u001b[0;36m15\u001b[0m\u001b[0;34m)\u001b[0m\u001b[0;34m\u001b[0m\u001b[0;34m\u001b[0m\u001b[0m\n\u001b[0m\u001b[1;32m      4\u001b[0m \u001b[0;34m\u001b[0m\u001b[0m\n",
      "\u001b[0;31mNameError\u001b[0m: name 'create_grammar' is not defined"
     ],
     "ename": "NameError",
     "evalue": "name 'create_grammar' is not defined",
     "output_type": "error"
    }
   ],
   "source": [
    "#最近事情比较多，学习时间有限，猜测是这个词典的词不够，导致很多数据都是直接平滑的\n",
    "#2-gram模型由于数据稀疏表现已经较差，3-gram模型会出现几乎全数据平滑问题，因此需要更大量的数据集\n",
    "generate_best(gram=create_grammar(student, split='='),target='student',n=50,r=15)"
   ]
  },
  {
   "cell_type": "markdown",
   "metadata": {},
   "source": [
    "> **评阅点** 1. 是否使用了新的数据集； 2. csv(txt)数据是否正确解析"
   ]
  },
  {
   "cell_type": "markdown",
   "metadata": {},
   "source": [
    "#### 3. 获得最优质的的语言"
   ]
  },
  {
   "cell_type": "markdown",
   "metadata": {},
   "source": [
    "当我们能够生成随机的语言并且能判断之后，我们就可以生成更加合理的语言了。请定义 generate_best 函数，该函数输入一个语法 + 语言模型，能够生成**n**个句子，并能选择一个最合理的句子: \n",
    "\n"
   ]
  },
  {
   "cell_type": "markdown",
   "metadata": {},
   "source": [
    "提示，要实现这个函数，你需要Python的sorted函数"
   ]
  },
  {
   "cell_type": "code",
   "execution_count": 24,
   "metadata": {
    "pycharm": {
     "is_executing": false
    }
   },
   "outputs": [
    {
     "data": {
      "text/plain": "[1, 2, 3, 5]"
     },
     "metadata": {},
     "output_type": "execute_result",
     "execution_count": 24
    }
   ],
   "source": [
    "sorted([1, 3, 5, 2])"
   ]
  },
  {
   "cell_type": "markdown",
   "metadata": {},
   "source": [
    "这个函数接受一个参数key，这个参数接受一个函数作为输入，例如"
   ]
  },
  {
   "cell_type": "code",
   "execution_count": 25,
   "metadata": {
    "pycharm": {
     "is_executing": false
    }
   },
   "outputs": [
    {
     "data": {
      "text/plain": "[(1, 4), (2, 5), (4, 4), (5, 0)]"
     },
     "metadata": {},
     "output_type": "execute_result",
     "execution_count": 25
    }
   ],
   "source": [
    "sorted([(2, 5), (1, 4), (5, 0), (4, 4)], key=lambda x: x[0])"
   ]
  },
  {
   "cell_type": "markdown",
   "metadata": {},
   "source": [
    "能够让list按照第0个元素进行排序."
   ]
  },
  {
   "cell_type": "code",
   "execution_count": 26,
   "metadata": {
    "pycharm": {
     "is_executing": false
    }
   },
   "outputs": [
    {
     "data": {
      "text/plain": "[(5, 0), (1, 4), (4, 4), (2, 5)]"
     },
     "metadata": {},
     "output_type": "execute_result",
     "execution_count": 26
    }
   ],
   "source": [
    "sorted([(2, 5), (1, 4), (5, 0), (4, 4)], key=lambda x: x[1])"
   ]
  },
  {
   "cell_type": "markdown",
   "metadata": {},
   "source": [
    "能够让list按照第1个元素进行排序."
   ]
  },
  {
   "cell_type": "code",
   "execution_count": 17,
   "metadata": {},
   "outputs": [
    {
     "data": {
      "text/plain": [
       "[(2, 5), (1, 4), (4, 4), (5, 0)]"
      ]
     },
     "execution_count": 17,
     "metadata": {},
     "output_type": "execute_result"
    }
   ],
   "source": [
    "sorted([(2, 5), (1, 4), (5, 0), (4, 4)], key=lambda x: x[1], reverse=True)"
   ]
  },
  {
   "cell_type": "markdown",
   "metadata": {},
   "source": [
    "能够让list按照第1个元素进行排序, 但是是递减的顺序。"
   ]
  },
  {
   "cell_type": "markdown",
   "metadata": {},
   "source": [
    ">"
   ]
  },
  {
   "cell_type": "code",
   "execution_count": 20,
   "metadata": {},
   "outputs": [],
   "source": [
    "def generate_best(): # you code here\n",
    "    pass"
   ]
  },
  {
   "cell_type": "markdown",
   "metadata": {},
   "source": [
    "好了，现在我们实现了自己的第一个AI模型，这个模型能够生成比较接近于人类的语言。"
   ]
  },
  {
   "cell_type": "markdown",
   "metadata": {},
   "source": [
    "> **评阅点**： 是否使用 lambda 语法进行排序"
   ]
  },
  {
   "cell_type": "markdown",
   "metadata": {},
   "source": [
    "Q: 这个模型有什么问题？ 你准备如何提升？ "
   ]
  },
  {
   "cell_type": "markdown",
   "metadata": {},
   "source": [
    "Ans:"
   ]
  },
  {
   "cell_type": "markdown",
   "metadata": {},
   "source": [
    ">**评阅点**: 是否提出了比较实际的问题，例如OOV问题，例如数据量，例如变成 3-gram问题。"
   ]
  },
  {
   "cell_type": "markdown",
   "metadata": {},
   "source": [
    "##### 以下内容为可选部分，对于绝大多数同学，能完成以上的项目已经很优秀了，下边的内容如果你还有精力可以试试，但不是必须的。"
   ]
  },
  {
   "cell_type": "markdown",
   "metadata": {},
   "source": [
    "#### 4. (Optional) 完成基于Pattern Match的语句问答\n",
    "> 我们的GitHub仓库中，有一个assignment-01-optional-pattern-match，这个难度较大，感兴趣的同学可以挑战一下。"
   ]
  },
  {
   "cell_type": "markdown",
   "metadata": {},
   "source": [
    "\n",
    "#### 5. (Optional) 完成阿兰图灵机器智能原始论文的阅读\n",
    "1. 请阅读阿兰图灵关于机器智能的原始论文：https://github.com/Computing-Intelligence/References/blob/master/AI%20%26%20Machine%20Learning/Computer%20Machinery%20and%20Intelligence.pdf \n",
    "2. 并按照GitHub仓库中的论文阅读模板，填写完毕后发送给我: mqgao@kaikeba.com 谢谢"
   ]
  },
  {
   "cell_type": "markdown",
   "metadata": {},
   "source": [
    "> "
   ]
  },
  {
   "cell_type": "markdown",
   "metadata": {},
   "source": [
    "各位同学，我们已经完成了自己的第一个AI模型，大家对人工智能可能已经有了一些感觉，人工智能的核心就是，我们如何设计一个模型、程序，在外部的输入变化的时候，我们的程序不变，依然能够解决问题。人工智能是一个很大的领域，目前大家所熟知的深度学习只是其中一小部分，之后也肯定会有更多的方法提出来，但是大家知道人工智能的目标，就知道了之后进步的方向。"
   ]
  },
  {
   "cell_type": "markdown",
   "metadata": {},
   "source": [
    "然后，希望大家对AI不要有恐惧感，这个并不难，大家加油！"
   ]
  },
  {
   "cell_type": "markdown",
   "metadata": {},
   "source": [
    ">"
   ]
  },
  {
   "cell_type": "markdown",
   "metadata": {},
   "source": [
    "![](https://timgsa.baidu.com/timg?image&quality=80&size=b9999_10000&sec=1561828422005&di=48d19c16afb6acc9180183a6116088ac&imgtype=0&src=http%3A%2F%2Fb-ssl.duitang.com%2Fuploads%2Fitem%2F201807%2F28%2F20180728150843_BECNF.thumb.224_0.jpeg)"
   ]
  }
 ],
 "metadata": {
  "kernelspec": {
   "name": "pycharm-4acd738a",
   "language": "python",
   "display_name": "PyCharm (NLPHomework)"
  },
  "language_info": {
   "codemirror_mode": {
    "name": "ipython",
    "version": 3
   },
   "file_extension": ".py",
   "mimetype": "text/x-python",
   "name": "python",
   "nbconvert_exporter": "python",
   "pygments_lexer": "ipython3",
   "version": "3.7.4"
  }
 },
 "nbformat": 4,
 "nbformat_minor": 2
}