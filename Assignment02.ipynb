{
 "cells": [
  {
   "cell_type": "markdown",
   "metadata": {},
   "source": [
    "# Assignment 2\n"
   ]
  },
  {
   "cell_type": "markdown",
   "metadata": {},
   "source": [
    "#### 1. 复习上课内容以及复现课程代码"
   ]
  },
  {
   "cell_type": "markdown",
   "metadata": {},
   "source": [
    "在本部分，你需要在复习上课内容和课程代码后，复现课程代码。 "
   ]
  },
  {
   "cell_type": "code",
   "execution_count": 64,
   "metadata": {},
   "outputs": [],
   "source": [
    "#maching learing 部分重复一下，搜素部分作业已经用到了\n",
    "from sklearn.datasets import load_boston\n",
    "import random"
   ]
  },
  {
   "cell_type": "code",
   "execution_count": 65,
   "metadata": {},
   "outputs": [],
   "source": [
    "dataset = load_boston()\n",
    "x,y=dataset['data'],dataset['target']"
   ]
  },
  {
   "cell_type": "code",
   "execution_count": 66,
   "metadata": {},
   "outputs": [
    {
     "data": {
      "text/plain": [
       "array(['CRIM', 'ZN', 'INDUS', 'CHAS', 'NOX', 'RM', 'AGE', 'DIS', 'RAD',\n",
       "       'TAX', 'PTRATIO', 'B', 'LSTAT'], dtype='<U7')"
      ]
     },
     "execution_count": 66,
     "metadata": {},
     "output_type": "execute_result"
    }
   ],
   "source": [
    "dataset.feature_names"
   ]
  },
  {
   "cell_type": "code",
   "execution_count": 67,
   "metadata": {},
   "outputs": [],
   "source": [
    "X_rm = x[:,5] #第五个特征"
   ]
  },
  {
   "cell_type": "code",
   "execution_count": 69,
   "metadata": {},
   "outputs": [
    {
     "data": {
      "text/plain": [
       "<matplotlib.collections.PathCollection at 0xa29d39ad0>"
      ]
     },
     "execution_count": 69,
     "metadata": {},
     "output_type": "execute_result"
    }
   ],
   "source": [
    "# plot the RM with respect to y\n",
    "plt.scatter(X_rm,y)"
   ]
  },
  {
   "cell_type": "code",
   "execution_count": 70,
   "metadata": {},
   "outputs": [],
   "source": [
    "#define target function\n",
    "def price(rm, k, b):\n",
    "    return k * rm + b"
   ]
  },
  {
   "cell_type": "code",
   "execution_count": 71,
   "metadata": {},
   "outputs": [],
   "source": [
    "# define loss function \n",
    "def loss_L2(y,y_hat):\n",
    "    return sum((y_i - y_hat_i)**2 for y_i, y_hat_i in zip(list(y),list(y_hat)))/len(list(y))"
   ]
  },
  {
   "cell_type": "code",
   "execution_count": 72,
   "metadata": {},
   "outputs": [],
   "source": [
    "def loss_L1(y,y_hat):\n",
    "    return sum(abs(y_i - y_hat_i) for y_i, y_hat_i in zip(list(y),list(y_hat)))/len(list(y))"
   ]
  },
  {
   "cell_type": "code",
   "execution_count": 73,
   "metadata": {},
   "outputs": [],
   "source": [
    "# define partial derivative \n",
    "def partial_derivative_k(x, y, y_hat): \n",
    "    n = len(y)\n",
    "    gradient = 0\n",
    "    for x_i, y_i, y_hat_i in zip(list(x),list(y),list(y_hat)):\n",
    "        gradient += (y_i-y_hat_i) * x_i\n",
    "    return -2/n * gradient\n",
    "\n",
    "def partial_derivative_b(y, y_hat):\n",
    "    n = len(y)\n",
    "    gradient = 0\n",
    "    for y_i, y_hat_i in zip(list(y),list(y_hat)):\n",
    "        gradient += (y_i-y_hat_i)\n",
    "    return -2 / n * gradient"
   ]
  },
  {
   "cell_type": "code",
   "execution_count": 74,
   "metadata": {},
   "outputs": [
    {
     "name": "stdout",
     "output_type": "stream",
     "text": [
      "Iteration 0, the loss is 2469.7901609710825, parameters k is 5.046501866058463 and b is -58.35664850206257\n",
      "Iteration 1, the loss is 2089.3905197305016, parameters k is 5.668579893490648 and b is -58.25830043073675\n",
      "Iteration 2, the loss is 1768.7868579653928, parameters k is 6.239668797251313 and b is -58.16796812147922\n",
      "Iteration 3, the loss is 1498.579687374846, parameters k is 6.763947370843348 and b is -58.08499464676582\n",
      "Iteration 4, the loss is 1270.847050105907, parameters k is 7.245251936411389 and b is -58.00877691730615\n",
      "Iteration 5, the loss is 1078.9122618312088, parameters k is 7.68710441184567 and b is -57.93876126975251\n",
      "Iteration 6, the loss is 917.1481639070363, parameters k is 8.092738077657554 and b is -57.874439416016486\n",
      "Iteration 7, the loss is 780.8121456528662, parameters k is 8.465121232141025 and b is -57.81534472455759\n",
      "Iteration 8, the loss is 665.9070999154834, parameters k is 8.80697890788485 and b is -57.761048806437486\n",
      "Iteration 9, the loss is 569.0642353960611, parameters k is 9.120812808516623 and b is -57.71115838116274\n",
      "Iteration 10, the loss is 487.4443100177623, parameters k is 9.408919611538881 and b is -57.665312399386195\n",
      "Iteration 11, the loss is 418.65438968172856, parameters k is 9.673407771163582 and b is -57.623179401416216\n",
      "Iteration 12, the loss is 360.6776919345774, parameters k is 9.916212944076964 and b is -57.58445509220822\n",
      "Iteration 13, the loss is 311.81445769551465, parameters k is 10.139112150991988 and b is -57.548860115096886\n",
      "Iteration 14, the loss is 270.6321175131883, parameters k is 10.343736777596384 and b is -57.516138007981155\n",
      "Iteration 15, the loss is 235.92329132054223, parameters k is 10.531584510013179 and b is -57.486053327009365\n",
      "Iteration 16, the loss is 206.67039031938629, parameters k is 10.704030292095306 and b is -57.458389924036986\n",
      "Iteration 17, the loss is 182.01578318843735, parameters k is 10.862336384719493 and b is -57.43294936525461\n",
      "Iteration 18, the loss is 161.23665194408997, parameters k is 11.007661600674728 and b is -57.40954947941666\n",
      "Iteration 19, the loss is 143.7238002749942, parameters k is 11.141069782709115 and b is -57.38802302504947\n",
      "Iteration 20, the loss is 128.963793050622, parameters k is 11.263537586761773 and b is -57.36821646688775\n",
      "Iteration 21, the loss is 116.52390336775571, parameters k is 11.375961627323063 and b is -57.34998885258774\n",
      "Iteration 22, the loss is 106.03942581059106, parameters k is 11.479165037199664 and b is -57.333210781498885\n",
      "Iteration 23, the loss is 97.20298397306738, parameters k is 11.573903489676708 and b is -57.31776345794941\n",
      "Iteration 24, the loss is 89.7555187600662, parameters k is 11.66087072713602 and b is -57.303537822119516\n",
      "Iteration 25, the loss is 83.47869326140088, parameters k is 11.740703636578651 and b is -57.2904337521435\n",
      "Iteration 26, the loss is 78.18849152376991, parameters k is 11.813986909184973 and b is -57.27835933160329\n",
      "Iteration 27, the loss is 73.72982354868985, parameters k is 11.88125731800239 and b is -57.26723017705424\n",
      "Iteration 28, the loss is 69.97197834508694, parameters k is 11.943007645056856 and b is -57.256968820663296\n",
      "Iteration 29, the loss is 66.80479172858664, parameters k is 11.999690286619522 and b is -57.247504143442804\n",
      "Iteration 30, the loss is 64.13541651457818, parameters k is 12.051720563005203 and b is -57.23877085493341\n",
      "Iteration 31, the loss is 61.885600413181045, parameters k is 12.099479757117617 and b is -57.23070901552936\n",
      "Iteration 32, the loss is 59.9893918191069, parameters k is 12.143317903971864 and b is -57.22326359795137\n",
      "Iteration 33, the loss is 58.39120623448706, parameters k is 12.183556351602704 and b is -57.21638408465894\n",
      "Iteration 34, the loss is 57.04419663581353, parameters k is 12.220490112094607 and b is -57.21002409825644\n",
      "Iteration 35, the loss is 55.90888000721509, parameters k is 12.254390019934084 and b is -57.20414106218923\n",
      "Iteration 36, the loss is 54.95197977260282, parameters k is 12.285504713475095 and b is -57.198695889247226\n",
      "Iteration 37, the loss is 54.1454501889716, parameters k is 12.314062454014266 and b is -57.193652695597066\n",
      "Iteration 38, the loss is 53.465654097900725, parameters k is 12.340272795784506 and b is -57.188978538250645\n",
      "Iteration 39, the loss is 52.89266992847266, parameters k is 12.36432811908497 and b is -57.1846431740493\n",
      "Iteration 40, the loss is 52.4097076342381, parameters k is 12.386405037763968 and b is -57.180618838400385\n",
      "Iteration 41, the loss is 52.002616440594586, parameters k is 12.406665691352163 and b is -57.17688004214736\n",
      "Iteration 42, the loss is 51.65946997065888, parameters k is 12.425258931299515 and b is -57.17340338508734\n",
      "Iteration 43, the loss is 51.37021658630082, parameters k is 12.442321409994646 and b is -57.17016738477173\n",
      "Iteration 44, the loss is 51.12638469299622, parameters k is 12.457978580534055 and b is -57.16715231933744\n",
      "Iteration 45, the loss is 50.9208343685895, parameters k is 12.472345614555648 and b is -57.164340083218775\n",
      "Iteration 46, the loss is 50.74754803418928, parameters k is 12.485528244851585 and b is -57.16171405468446\n",
      "Iteration 47, the loss is 50.601454030059436, parameters k is 12.497623538925122 and b is -57.15925897423056\n",
      "Iteration 48, the loss is 50.47827792408304, parameters k is 12.508720609150922 and b is -57.15696083293969\n",
      "Iteration 49, the loss is 50.37441719344282, parameters k is 12.518901264734444 and b is -57.154806769989676\n",
      "Iteration 50, the loss is 50.28683560541931, parameters k is 12.528240610240273 and b is -57.1527849785619\n",
      "Iteration 51, the loss is 50.21297420075159, parameters k is 12.536807595068293 and b is -57.15088461946082\n",
      "Iteration 52, the loss is 50.15067626975879, parameters k is 12.544665517897762 and b is -57.149095741812836\n",
      "Iteration 53, the loss is 50.09812412166378, parameters k is 12.551872489789869 and b is -57.1474092102642\n",
      "Iteration 54, the loss is 50.05378579331433, parameters k is 12.558481859336908 and b is -57.145816638145426\n",
      "Iteration 55, the loss is 50.016370134901514, parameters k is 12.564542602968523 and b is -57.14431032611316\n",
      "Iteration 56, the loss is 49.984788955872276, parameters k is 12.570099683270556 and b is -57.14288320582063\n",
      "Iteration 57, the loss is 49.95812512122747, parameters k is 12.575194377938018 and b is -57.14152878820461\n",
      "Iteration 58, the loss is 49.93560566284593, parameters k is 12.579864581768854 and b is -57.14024111601042\n",
      "Iteration 59, the loss is 49.91657911751164, parameters k is 12.58414508390792 and b is -57.139014720207804\n",
      "Iteration 60, the loss is 49.90049642723568, parameters k is 12.588067822369549 and b is -57.13784457997867\n",
      "Iteration 61, the loss is 49.8868948419082, parameters k is 12.591662117700816 and b is -57.13672608598405\n",
      "Iteration 62, the loss is 49.875384352333526, parameters k is 12.59495488749503 and b is -57.1356550066415\n",
      "Iteration 63, the loss is 49.86563625589403, parameters k is 12.597970843324848 and b is -57.13462745716619\n",
      "Iteration 64, the loss is 49.85737351960649, parameters k is 12.600732671535823 and b is -57.13363987114926\n",
      "Iteration 65, the loss is 49.85036265803545, parameters k is 12.603261199223084 and b is -57.13268897446547\n",
      "Iteration 66, the loss is 49.84440688793929, parameters k is 12.605575546605463 and b is -57.13177176131914\n",
      "Iteration 67, the loss is 49.83934035895468, parameters k is 12.607693266911866 and b is -57.1308854722534\n",
      "Iteration 68, the loss is 49.83502329117594, parameters k is 12.609630474803305 and b is -57.130027573961506\n",
      "Iteration 69, the loss is 49.83133787707058, parameters k is 12.61140196427016 and b is -57.129195740752856\n",
      "Iteration 70, the loss is 49.82818482758413, parameters k is 12.613021316867211 and b is -57.128387837537865\n",
      "Iteration 71, the loss is 49.82548046117105, parameters k is 12.614501001078324 and b is -57.12760190420734\n",
      "Iteration 72, the loss is 49.823154250409445, parameters k is 12.615852463537722 and b is -57.126836141292024\n",
      "Iteration 73, the loss is 49.8211467542696, parameters k is 12.617086212775277 and b is -57.126088896797434\n",
      "Iteration 74, the loss is 49.8194078754142, parameters k is 12.61821189609847 and b is -57.1253586541176\n",
      "Iteration 75, the loss is 49.81789539143922, parameters k is 12.619238370173536 and b is -57.124644020939364\n",
      "Iteration 76, the loss is 49.81657371699164, parameters k is 12.620173765822148 and b is -57.12394371905603\n",
      "Iteration 77, the loss is 49.815412860474545, parameters k is 12.621025547507726 and b is -57.12325657501578\n",
      "Iteration 78, the loss is 49.81438754474912, parameters k is 12.62180056794655 and b is -57.12258151153655\n",
      "Iteration 79, the loss is 49.81347646605704, parameters k is 12.622505118243266 and b is -57.121917539624484\n",
      "Iteration 80, the loss is 49.8126616694338, parameters k is 12.623144973917537 and b is -57.12126375133828\n",
      "Iteration 81, the loss is 49.811928022303384, parameters k is 12.623725437158608 and b is -57.120619313146605\n",
      "Iteration 82, the loss is 49.8112627708192, parameters k is 12.62425137561691 and b is -57.1199834598298\n",
      "Iteration 83, the loss is 49.810655165945555, parameters k is 12.624727258016515 and b is -57.11935548888147\n",
      "Iteration 84, the loss is 49.81009614831597, parameters k is 12.62515718684899 and b is -57.11873475536882\n",
      "Iteration 85, the loss is 49.80957808262985, parameters k is 12.625544928387834 and b is -57.11812066721425\n",
      "Iteration 86, the loss is 49.80909453379911, parameters k is 12.625893940243097 and b is -57.117512680863605\n",
      "Iteration 87, the loss is 49.808640078284775, parameters k is 12.62620739665777 and b is -57.116910297309474\n",
      "Iteration 88, the loss is 49.80821014508756, parameters k is 12.626488211731019 and b is -57.116313058440376\n",
      "Iteration 89, the loss is 49.807800881735965, parameters k is 12.626739060738165 and b is -57.11572054368915\n",
      "Iteration 90, the loss is 49.807409041338396, parameters k is 12.626962399703407 and b is -57.11513236695602\n",
      "Iteration 91, the loss is 49.80703188739071, parameters k is 12.62716048336845 and b is -57.11454817378383\n",
      "Iteration 92, the loss is 49.806667113546915, parameters k is 12.627335381688535 and b is -57.11396763876481\n",
      "Iteration 93, the loss is 49.80631277600167, parameters k is 12.627488994976549 and b is -57.11339046315983\n",
      "Iteration 94, the loss is 49.80596723650129, parameters k is 12.627623067805978 and b is -57.112816372712764\n",
      "Iteration 95, the loss is 49.80562911431352, parameters k is 12.627739201774485 and b is -57.112245115644015\n",
      "Iteration 96, the loss is 49.80529724574682, parameters k is 12.62783886722143 and b is -57.11167646080847\n",
      "Iteration 97, the loss is 49.80497065003347, parameters k is 12.627923413985087 and b is -57.11111019600438\n",
      "Iteration 98, the loss is 49.80464850057501, parameters k is 12.627994081278272 and b is -57.1105461264209\n",
      "Iteration 99, the loss is 49.80433010070809, parameters k is 12.628052006754604 and b is -57.109984073212786\n",
      "Iteration 100, the loss is 49.804014863279605, parameters k is 12.628098234831747 and b is -57.109423872191975\n",
      "Iteration 101, the loss is 49.80370229343244, parameters k is 12.628133724332525 and b is -57.10886537262633\n",
      "Iteration 102, the loss is 49.80339197409737, parameters k is 12.62815935549982 and b is -57.108308436136895\n",
      "Iteration 103, the loss is 49.80308355376528, parameters k is 12.62817593643655 and b is -57.10775293568546\n",
      "Iteration 104, the loss is 49.802776736181556, parameters k is 12.628184209017881 and b is -57.10719875464518\n",
      "Iteration 105, the loss is 49.80247127166039, parameters k is 12.628184854318887 and b is -57.106645785947286\n",
      "Iteration 106, the loss is 49.80216694976488, parameters k is 12.628178497597402 and b is -57.10609393129774\n",
      "Iteration 107, the loss is 49.80186359313695, parameters k is 12.6281657128685 and b is -57.105543100458156\n",
      "Iteration 108, the loss is 49.801561052298, parameters k is 12.628147027104072 and b is -57.10499321058556\n",
      "Iteration 109, the loss is 49.80125920126613, parameters k is 12.628122924088238 and b is -57.10444418562631\n",
      "Iteration 110, the loss is 49.800957933862634, parameters k is 12.628093847956775 and b is -57.1038959557597\n",
      "Iteration 111, the loss is 49.80065716059939, parameters k is 12.628060206446486 and b is -57.103348456887105\n",
      "Iteration 112, the loss is 49.80035680605515, parameters k is 12.628022373878265 and b is -57.10280163016307\n",
      "Iteration 113, the loss is 49.80005680666387, parameters k is 12.627980693895678 and b is -57.10225542156477\n",
      "Iteration 114, the loss is 49.79975710885196, parameters k is 12.627935481979117 and b is -57.10170978149676\n",
      "Iteration 115, the loss is 49.79945766746664, parameters k is 12.627887027753902 and b is -57.101164664428154\n",
      "Iteration 116, the loss is 49.79915844445298, parameters k is 12.627835597109218 and b is -57.100620028559504\n",
      "Iteration 117, the loss is 49.79885940773782, parameters k is 12.627781434143406 and b is -57.100075835516996\n",
      "Iteration 118, the loss is 49.798560530289684, parameters k is 12.62772476294982 and b is -57.0995320500717\n",
      "Iteration 119, the loss is 49.798261789325856, parameters k is 12.627665789256326 and b is -57.09898863988183\n",
      "Iteration 120, the loss is 49.79796316564513, parameters k is 12.627604701930446 and b is -57.098445575256136\n",
      "Iteration 121, the loss is 49.79766464306415, parameters k is 12.62754167436113 and b is -57.097902828936675\n",
      "Iteration 122, the loss is 49.79736620794359, parameters k is 12.627476865727305 and b is -57.0973603758994\n",
      "Iteration 123, the loss is 49.79706784878797, parameters k is 12.627410422162447 and b is -57.09681819317105\n",
      "Iteration 124, the loss is 49.79676955590864, parameters k is 12.627342477823715 and b is -57.096276259661146\n",
      "Iteration 125, the loss is 49.79647132113983, parameters k is 12.627273155873473 and b is -57.0957345560076\n",
      "Iteration 126, the loss is 49.79617313759938, parameters k is 12.627202569380353 and b is -57.095193064435136\n",
      "Iteration 127, the loss is 49.79587499948665, parameters k is 12.62713082214649 and b is -57.09465176862521\n",
      "Iteration 128, the loss is 49.79557690191289, parameters k is 12.627058009466955 and b is -57.094110653596644\n",
      "Iteration 129, the loss is 49.79527884075764, parameters k is 12.62698421882694 and b is -57.093569705595996\n",
      "Iteration 130, the loss is 49.794980812548054, parameters k is 12.626909530541825 and b is -57.09302891199696\n",
      "Iteration 131, the loss is 49.79468281435703, parameters k is 12.626834018344766 and b is -57.09248826120799\n",
      "Iteration 132, the loss is 49.794384843717594, parameters k is 12.626757749926146 and b is -57.0919477425875\n",
      "Iteration 133, the loss is 49.79408689855033, parameters k is 12.626680787428803 and b is -57.091407346366\n",
      "Iteration 134, the loss is 49.79378897710261, parameters k is 12.626603187902685 and b is -57.09086706357462\n",
      "Iteration 135, the loss is 49.79349107789733, parameters k is 12.626525003722225 and b is -57.09032688597953\n",
      "Iteration 136, the loss is 49.79319319968926, parameters k is 12.626446282969528 and b is -57.08978680602165\n",
      "Iteration 137, the loss is 49.79289534142886, parameters k is 12.626367069786145 and b is -57.08924681676139\n",
      "Iteration 138, the loss is 49.79259750223175, parameters k is 12.62628740469602 and b is -57.088706911827856\n",
      "Iteration 139, the loss is 49.79229968135183, parameters k is 12.62620732490197 and b is -57.088167085372255\n",
      "Iteration 140, the loss is 49.79200187816084, parameters k is 12.626126864557863 and b is -57.087627332025114\n",
      "Iteration 141, the loss is 49.79170409212879, parameters k is 12.626046055018499 and b is -57.08708764685698\n",
      "Iteration 142, the loss is 49.79140632280908, parameters k is 12.625964925069004 and b is -57.08654802534236\n",
      "Iteration 143, the loss is 49.79110856982499, parameters k is 12.625883501135425 and b is -57.08600846332663\n",
      "Iteration 144, the loss is 49.79081083285907, parameters k is 12.62580180747807 and b is -57.08546895699562\n",
      "Iteration 145, the loss is 49.79051311164368, parameters k is 12.625719866368998 and b is -57.084929502847736\n",
      "Iteration 146, the loss is 49.79021540595298, parameters k is 12.625637698254968 and b is -57.084390097668326\n",
      "Iteration 147, the loss is 49.789917715596744, parameters k is 12.625555321907026 and b is -57.083850738506165\n",
      "Iteration 148, the loss is 49.789620040414306, parameters k is 12.625472754557842 and b is -57.08331142265187\n",
      "Iteration 149, the loss is 49.7893223802704, parameters k is 12.625390012027788 and b is -57.08277214761808\n",
      "Iteration 150, the loss is 49.789024735050695, parameters k is 12.625307108840675 and b is -57.08223291112126\n",
      "Iteration 151, the loss is 49.78872710465886, parameters k is 12.62522405833002 and b is -57.08169371106499\n",
      "Iteration 152, the loss is 49.78842948901353, parameters k is 12.62514087273659 and b is -57.08115454552465\n",
      "Iteration 153, the loss is 49.788131888046024, parameters k is 12.625057563297966 and b is -57.0806154127333\n",
      "Iteration 154, the loss is 49.78783430169833, parameters k is 12.62497414033075 and b is -57.08007631106881\n",
      "Iteration 155, the loss is 49.78753672992154, parameters k is 12.624890613306045 and b is -57.07953723904195\n",
      "Iteration 156, the loss is 49.787239172674305, parameters k is 12.624806990918753 and b is -57.078998195285514\n",
      "Iteration 157, the loss is 49.786941629921515, parameters k is 12.624723281151184 and b is -57.078459178544335\n",
      "Iteration 158, the loss is 49.78664410163371, parameters k is 12.624639491331456 and b is -57.077920187666074\n",
      "Iteration 159, the loss is 49.786346587785715, parameters k is 12.624555628187109 and b is -57.0773812215928\n",
      "Iteration 160, the loss is 49.78604908835638, parameters k is 12.624471697894329 and b is -57.07684227935327\n",
      "Iteration 161, the loss is 49.78575160332774, parameters k is 12.62438770612313 and b is -57.07630336005582\n",
      "Iteration 162, the loss is 49.78545413268449, parameters k is 12.624303658078839 and b is -57.07576446288181\n",
      "Iteration 163, the loss is 49.78515667641359, parameters k is 12.624219558540174 and b is -57.075225587079686\n",
      "Iteration 164, the loss is 49.78485923450406, parameters k is 12.624135411894217 and b is -57.07468673195947\n",
      "Iteration 165, the loss is 49.784561806946456, parameters k is 12.624051222168502 and b is -57.07414789688768\n",
      "Iteration 166, the loss is 49.78426439373279, parameters k is 12.623966993060483 and b is -57.07360908128275\n",
      "Iteration 167, the loss is 49.78396699485609, parameters k is 12.623882727964588 and b is -57.07307028461072\n",
      "Iteration 168, the loss is 49.783669610310476, parameters k is 12.623798429997052 and b is -57.0725315063814\n",
      "Iteration 169, the loss is 49.783372240090834, parameters k is 12.623714102018715 and b is -57.07199274614473\n",
      "Iteration 170, the loss is 49.78307488419279, parameters k is 12.623629746655956 and b is -57.07145400348751\n",
      "Iteration 171, the loss is 49.782777542612486, parameters k is 12.623545366319904 and b is -57.07091527803038\n",
      "Iteration 172, the loss is 49.7824802153467, parameters k is 12.623460963224082 and b is -57.07037656942504\n",
      "Iteration 173, the loss is 49.78218290239244, parameters k is 12.6233765394006 and b is -57.06983787735171\n",
      "Iteration 174, the loss is 49.78188560374706, parameters k is 12.623292096715023 and b is -57.0692992015168\n",
      "Iteration 175, the loss is 49.781588319408456, parameters k is 12.623207636880021 and b is -57.06876054165075\n",
      "Iteration 176, the loss is 49.7812910493746, parameters k is 12.6231231614679 and b is -57.06822189750606\n",
      "Iteration 177, the loss is 49.78099379364356, parameters k is 12.623038671922103 and b is -57.0676832688555\n",
      "Iteration 178, the loss is 49.780696552213705, parameters k is 12.622954169567771 and b is -57.06714465549043\n",
      "Iteration 179, the loss is 49.780399325083685, parameters k is 12.622869655621441 and b is -57.06660605721929\n",
      "Iteration 180, the loss is 49.78010211225204, parameters k is 12.622785131199945 and b is -57.066067473866184\n",
      "Iteration 181, the loss is 49.77980491371758, parameters k is 12.622700597328583 and b is -57.065528905269616\n",
      "Iteration 182, the loss is 49.77950772947906, parameters k is 12.622616054948619 and b is -57.06499035128129\n",
      "Iteration 183, the loss is 49.77921055953549, parameters k is 12.622531504924176 and b is -57.06445181176504\n",
      "Iteration 184, the loss is 49.77891340388576, parameters k is 12.622446948048552 and b is -57.06391328659584\n",
      "Iteration 185, the loss is 49.77861626252897, parameters k is 12.622362385050026 and b is -57.063374775658886\n",
      "Iteration 186, the loss is 49.77831913546406, parameters k is 12.62227781659719 and b is -57.06283627884875\n",
      "Iteration 187, the loss is 49.77802202269024, parameters k is 12.622193243303837 and b is -57.06229779606862\n",
      "Iteration 188, the loss is 49.77772492420671, parameters k is 12.62210866573345 and b is -57.061759327229595\n",
      "Iteration 189, the loss is 49.77742784001254, parameters k is 12.62202408440333 and b is -57.06122087225003\n",
      "Iteration 190, the loss is 49.77713077010697, parameters k is 12.621939499788379 and b is -57.06068243105496\n",
      "Iteration 191, the loss is 49.77683371448914, parameters k is 12.621854912324574 and b is -57.060144003575516\n",
      "Iteration 192, the loss is 49.77653667315835, parameters k is 12.621770322412159 and b is -57.059605589748465\n",
      "Iteration 193, the loss is 49.7762396461138, parameters k is 12.621685730418571 and b is -57.05906718951572\n",
      "Iteration 194, the loss is 49.77594263335483, parameters k is 12.621601136681129 and b is -57.05852880282394\n",
      "Iteration 195, the loss is 49.775645634880526, parameters k is 12.621516541509504 and b is -57.05799042962412\n",
      "Iteration 196, the loss is 49.77534865069039, parameters k is 12.621431945187984 and b is -57.05745206987125\n",
      "Iteration 197, the loss is 49.77505168078347, parameters k is 12.621347347977556 and b is -57.056913723523984\n",
      "Iteration 198, the loss is 49.77475472515917, parameters k is 12.621262750117811 and b is -57.05637539054434\n",
      "Iteration 199, the loss is 49.774457783816814, parameters k is 12.621178151828703 and b is -57.05583707089741\n"
     ]
    }
   ],
   "source": [
    "#initialized parameters,L2 loss\n",
    "\n",
    "k = random.random() * 200 - 100  # -100 100\n",
    "b = random.random() * 200 - 100  # -100 100\n",
    "\n",
    "learning_rate = 1e-3\n",
    "\n",
    "iteration_num = 200 \n",
    "losses = []\n",
    "for i in range(iteration_num):\n",
    "    \n",
    "    price_use_current_parameters = [price(r, k, b) for r in X_rm]  # \\hat{y}\n",
    "    \n",
    "    current_loss = loss_L2(y, price_use_current_parameters)\n",
    "    losses.append(current_loss)\n",
    "    print(\"Iteration {}, the loss is {}, parameters k is {} and b is {}\".format(i,current_loss,k,b))\n",
    "    \n",
    "    k_gradient = partial_derivative_k(X_rm, y, price_use_current_parameters)\n",
    "    b_gradient = partial_derivative_b(y, price_use_current_parameters)\n",
    "    \n",
    "    k = k + (-1 * k_gradient) * learning_rate\n",
    "    b = b + (-1 * b_gradient) * learning_rate\n",
    "best_k = k\n",
    "best_b = b"
   ]
  },
  {
   "cell_type": "code",
   "execution_count": 77,
   "metadata": {},
   "outputs": [
    {
     "name": "stdout",
     "output_type": "stream",
     "text": [
      "Iteration 0, the loss is 494.23535892993135, parameters k is 97.35090284253076 and b is -95.04666638986859\n",
      "Iteration 1, the loss is 453.6591178414656, parameters k is 91.05176626104895 and b is -96.03513710772846\n",
      "Iteration 2, the loss is 416.4082881573616, parameters k is 85.26885046859414 and b is -96.9424553434114\n",
      "Iteration 3, the loss is 382.21033710954293, parameters k is 79.95984879641198 and b is -97.77527191972612\n",
      "Iteration 4, the loss is 350.81506724446496, parameters k is 75.08592180194663 and b is -98.5396925939452\n",
      "Iteration 5, the loss is 321.9927859413017, parameters k is 70.61141311369767 and b is -99.24132272843413\n",
      "Iteration 6, the loss is 295.5326249465446, parameters k is 66.50358856389873 and b is -99.88530830031674\n",
      "Iteration 7, the loss is 271.24099763046917, parameters k is 62.73239670047359 and b is -100.47637355020983\n",
      "Iteration 8, the loss is 248.9401826785351, parameters k is 59.27024892613958 and b is -101.01885554547077\n",
      "Iteration 9, the loss is 228.46702385579943, parameters k is 56.09181765612325 and b is -101.51673591082785\n",
      "Iteration 10, the loss is 209.6717363316114, parameters k is 53.17385101778015 and b is -101.97366995853945\n",
      "Iteration 11, the loss is 192.4168108314986, parameters k is 50.49500273643347 and b is -102.39301343120268\n",
      "Iteration 12, the loss is 176.5760075988449, parameters k is 48.035675962851116 and b is -102.77784705286567\n",
      "Iteration 13, the loss is 162.03343280604074, parameters k is 45.77787989977966 and b is -103.13099906806336\n",
      "Iteration 14, the loss is 148.68269065798975, parameters k is 43.70509817859374 and b is -103.45506593367544\n",
      "Iteration 15, the loss is 136.42610498463264, parameters k is 41.80216802308465 and b is -103.75243131499143\n",
      "Iteration 16, the loss is 125.17400462755076, parameters k is 40.05516931633266 and b is -104.02528352496068\n",
      "Iteration 17, the loss is 114.84406739242138, parameters k is 38.45132275905958 and b is -104.27563153421579\n",
      "Iteration 18, the loss is 105.36199630387522, parameters k is 36.978896374373 and b is -104.50531966900063\n",
      "Iteration 19, the loss is 96.67571182033686, parameters k is 35.62711967487708 and b is -104.7160411045358\n",
      "Iteration 20, the loss is 88.70130979170347, parameters k is 34.3861048641835 and b is -104.90935025254058\n",
      "Iteration 21, the loss is 81.38044817469789, parameters k is 33.24677449632133 and b is -105.08667413354034\n",
      "Iteration 22, the loss is 74.67520921622547, parameters k is 32.20079506379107 and b is -105.24932281716126\n",
      "Iteration 23, the loss is 68.52091416689906, parameters k is 31.24051602838336 and b is -105.39849900679465\n",
      "Iteration 24, the loss is 62.888369240833946, parameters k is 30.358913848702652 and b is -105.53530683875402\n",
      "Iteration 25, the loss is 57.717438414738474, parameters k is 29.549540594892875 and b is -105.66075996030071\n",
      "Iteration 26, the loss is 52.97177087394481, parameters k is 28.806476774622837 and b is -105.77578894563811\n",
      "Iteration 27, the loss is 48.63079427020426, parameters k is 28.124288025199213 and b is -105.8812481041311\n",
      "Iteration 28, the loss is 44.65111657208523, parameters k is 27.497985354960164 and b is -105.97792173056052\n",
      "Iteration 29, the loss is 40.99759250390423, parameters k is 26.92298864306972 and b is -106.06652984314054\n",
      "Iteration 30, the loss is 37.655222724330024, parameters k is 26.395093130671984 and b is -106.14773345127908\n",
      "Iteration 31, the loss is 34.60400907430797, parameters k is 25.910438658249483 and b is -106.22213939162104\n",
      "Iteration 32, the loss is 31.811247272474432, parameters k is 25.465481424121513 and b is -106.29030476775559\n",
      "Iteration 33, the loss is 29.253054681760915, parameters k is 25.056968057463575 and b is -106.35274102606886\n",
      "Iteration 34, the loss is 26.92435341172319, parameters k is 24.681911816162142 and b is -106.40991769756192\n",
      "Iteration 35, the loss is 24.80060679802603, parameters k is 24.337570735364775 and b is -106.46226583300945\n",
      "Iteration 36, the loss is 22.866912648076, parameters k is 24.021427566857128 and b is -106.51018115659137\n",
      "Iteration 37, the loss is 21.12336173751985, parameters k is 23.73117136250031 and b is -106.55402696106987\n",
      "Iteration 38, the loss is 19.5464037330115, parameters k is 23.46468056699031 and b is -106.59413676569332\n",
      "Iteration 39, the loss is 18.11879571816267, parameters k is 23.220007496243618 and b is -106.63081675627278\n",
      "Iteration 40, the loss is 16.834496096408888, parameters k is 22.99536408785053 and b is -106.66434802528293\n",
      "Iteration 41, the loss is 15.660530520248109, parameters k is 22.789108819344417 and b is -106.6949886283765\n",
      "Iteration 42, the loss is 14.591009542117813, parameters k is 22.59973469857902 and b is -106.72297547235785\n",
      "Iteration 43, the loss is 13.62097948003787, parameters k is 22.425858238349583 and b is -106.74852604842835\n",
      "Iteration 44, the loss is 12.753924636869987, parameters k is 22.266209334594542 and b is -106.77184002338448\n",
      "Iteration 45, the loss is 11.991427220092547, parameters k is 22.119621974125142 and b is -106.79310070040982\n",
      "Iteration 46, the loss is 11.32360376447469, parameters k is 21.985025703899392 and b is -106.8124763601484\n",
      "Iteration 47, the loss is 10.738740318979705, parameters k is 21.86143779942828 and b is -106.83012149187095\n",
      "Iteration 48, the loss is 10.231835515212403, parameters k is 21.747956075017118 and b is -106.84617792374146\n",
      "Iteration 49, the loss is 9.787847872847061, parameters k is 21.643752283240723 and b is -106.8607758604531\n",
      "Iteration 50, the loss is 9.411360189056731, parameters k is 21.548066055361957 and b is -106.87403483582513\n",
      "Iteration 51, the loss is 9.095284247164736, parameters k is 21.46019933836088 and b is -106.88606458733017\n",
      "Iteration 52, the loss is 8.820367994575461, parameters k is 21.37951128787494 and b is -106.89696585894986\n",
      "Iteration 53, the loss is 8.587187469415143, parameters k is 21.305413579686228 and b is -106.90683113823285\n",
      "Iteration 54, the loss is 8.389459105761366, parameters k is 21.237366105453933 and b is -106.91574533294745\n",
      "Iteration 55, the loss is 8.226623083547796, parameters k is 21.17487302120133 and b is -106.92378639227957\n",
      "Iteration 56, the loss is 8.09181050001362, parameters k is 21.11747911964742 and b is -106.93102587712049\n",
      "Iteration 57, the loss is 7.976077966512566, parameters k is 21.06476649984273 and b is -106.93752948361707\n",
      "Iteration 58, the loss is 7.879398322401001, parameters k is 21.016351509743746 and b is -106.94335752381451\n",
      "Iteration 59, the loss is 7.794355200665414, parameters k is 20.971881939357466 and b is -106.94856536690828\n",
      "Iteration 60, the loss is 7.722887731527159, parameters k is 20.931034443920662 and b is -106.95320384433339\n",
      "Iteration 61, the loss is 7.662386311933027, parameters k is 20.893512178261464 and b is -106.95731962165472\n",
      "Iteration 62, the loss is 7.6114406712584195, parameters k is 20.85904262503589 and b is -106.9609555399793\n",
      "Iteration 63, the loss is 7.569584822660035, parameters k is 20.827375600950408 and b is -106.96415092938818\n",
      "Iteration 64, the loss is 7.535003536769284, parameters k is 20.798281426383713 and b is -106.96694189668123\n",
      "Iteration 65, the loss is 7.504406129943411, parameters k is 20.77154924501643 and b is -106.96936158953979\n",
      "Iteration 66, the loss is 7.478172959218752, parameters k is 20.7469854811749 and b is -106.9714404390401\n",
      "Iteration 67, the loss is 7.455112902459344, parameters k is 20.724412423602736 and b is -106.97320638229155\n",
      "Iteration 68, the loss is 7.434510886654807, parameters k is 20.703666925298823 and b is -106.97468506682881\n",
      "Iteration 69, the loss is 7.416926609176075, parameters k is 20.684599209909567 and b is -106.97590003825296\n",
      "Iteration 70, the loss is 7.401581979305512, parameters k is 20.667071775942816 and b is -106.9768729124946\n",
      "Iteration 71, the loss is 7.387818124775181, parameters k is 20.650958390786453 and b is -106.9776235339593\n",
      "Iteration 72, the loss is 7.375460366281939, parameters k is 20.636143167171834 and b is -106.97817012071218\n",
      "Iteration 73, the loss is 7.364944033131192, parameters k is 20.62251971532528 and b is -106.97852939776398\n",
      "Iteration 74, the loss is 7.356438456043627, parameters k is 20.60999036460465 and b is -106.97871671943378\n",
      "Iteration 75, the loss is 7.349502532880522, parameters k is 20.598465448926394 and b is -106.97874618168345\n",
      "Iteration 76, the loss is 7.3434309255066355, parameters k is 20.587862650755135 and b is -106.97863072524586\n",
      "Iteration 77, the loss is 7.337987895282693, parameters k is 20.578106398856335 and b is -106.97838223030118\n",
      "Iteration 78, the loss is 7.333378647237421, parameters k is 20.569127315405883 and b is -106.97801160339402\n",
      "Iteration 79, the loss is 7.329545414247466, parameters k is 20.56086170841162 and b is -106.97752885722744\n",
      "Iteration 80, the loss is 7.326048491367803, parameters k is 20.55325110573324 and b is -106.9769431839173\n",
      "Iteration 81, the loss is 7.322828421574477, parameters k is 20.546241827291404 and b is -106.97626302224317\n",
      "Iteration 82, the loss is 7.319862515717112, parameters k is 20.539784592336304 and b is -106.97549611938774\n",
      "Iteration 83, the loss is 7.317274842269691, parameters k is 20.53383415890235 and b is -106.97464958761634\n",
      "Iteration 84, the loss is 7.315387161785184, parameters k is 20.528348992811228 and b is -106.97372995631132\n",
      "Iteration 85, the loss is 7.313644284284664, parameters k is 20.52329096380165 and b is -106.97274321974203\n",
      "Iteration 86, the loss is 7.312087901590637, parameters k is 20.51862506656271 and b is -106.97169488091978\n",
      "Iteration 87, the loss is 7.310814084877163, parameters k is 20.51431916462981 and b is -106.97058999185872\n",
      "Iteration 88, the loss is 7.309634795632926, parameters k is 20.51034375526951 and b is -106.96943319053706\n",
      "Iteration 89, the loss is 7.308542287134104, parameters k is 20.50667175363312 and b is -106.96822873482931\n",
      "Iteration 90, the loss is 7.307529447536528, parameters k is 20.503278294599944 and b is -106.96698053365746\n",
      "Iteration 91, the loss is 7.306589747844375, parameters k is 20.500140550860337 and b is -106.9656921755893\n",
      "Iteration 92, the loss is 7.305717194143101, parameters k is 20.497237565907714 and b is -106.96436695509286\n",
      "Iteration 93, the loss is 7.304906283747002, parameters k is 20.494550100717635 and b is -106.9630078966393\n",
      "Iteration 94, the loss is 7.304151964940812, parameters k is 20.49206049299224 and b is -106.96161777683035\n",
      "Iteration 95, the loss is 7.303477234017512, parameters k is 20.48975252794025 and b is -106.96019914471238\n",
      "Iteration 96, the loss is 7.3029144272271855, parameters k is 20.48761131964713 and b is -106.95875434042557\n",
      "Iteration 97, the loss is 7.302392613750672, parameters k is 20.485623202167535 and b is -106.9572855123248\n",
      "Iteration 98, the loss is 7.3019037079341995, parameters k is 20.48377562954322 and b is -106.95579463269728\n",
      "Iteration 99, the loss is 7.301445013080617, parameters k is 20.482057084014947 and b is -106.9542835121921\n",
      "Iteration 100, the loss is 7.301026362166449, parameters k is 20.480456991756828 and b is -106.9527538130673\n",
      "Iteration 101, the loss is 7.300652412332073, parameters k is 20.47896564551666 and b is -106.9512070613511\n",
      "Iteration 102, the loss is 7.300299255467255, parameters k is 20.477574133596217 and b is -106.94964465800659\n",
      "Iteration 103, the loss is 7.299965187729403, parameters k is 20.476274274651946 and b is -106.94806788918144\n",
      "Iteration 104, the loss is 7.299648644913673, parameters k is 20.475058557839024 and b is -106.94647793561751\n",
      "Iteration 105, the loss is 7.299348191008994, parameters k is 20.47392008786092 and b is -106.94487588128932\n",
      "Iteration 106, the loss is 7.299062507692008, parameters k is 20.472852534522378 and b is -106.94326272133465\n",
      "Iteration 107, the loss is 7.29879038468202, parameters k is 20.47185008641675 and b is -106.94163936933504\n",
      "Iteration 108, the loss is 7.298530710886391, parameters k is 20.4709074084089 and b is -106.94000666399975\n",
      "Iteration 109, the loss is 7.298282466271656, parameters k is 20.470019602602562 and b is -106.9383653753019\n",
      "Iteration 110, the loss is 7.298044714400746, parameters k is 20.46918217250658 and b is -106.93671621011164\n",
      "Iteration 111, the loss is 7.29781659558193, parameters k is 20.468390990137944 and b is -106.9350598173678\n",
      "Iteration 112, the loss is 7.297604656728692, parameters k is 20.467642265820828 and b is -106.9333967928256\n",
      "Iteration 113, the loss is 7.297404369624638, parameters k is 20.466932520460766 and b is -106.93172768341532\n",
      "Iteration 114, the loss is 7.297210633919994, parameters k is 20.46625856009108 and b is -106.93005299124366\n",
      "Iteration 115, the loss is 7.297022912934587, parameters k is 20.465617452505356 and b is -106.9283731772673\n",
      "Iteration 116, the loss is 7.296846093648164, parameters k is 20.46500650580497 and b is -106.92668866466535\n",
      "Iteration 117, the loss is 7.2966773870301616, parameters k is 20.46442324870476 and b is -106.92499984193532\n",
      "Iteration 118, the loss is 7.296512661213666, parameters k is 20.46386541245276 and b is -106.92330706573549\n",
      "Iteration 119, the loss is 7.296351590190408, parameters k is 20.463330914231634 and b is -106.92161066349428\n",
      "Iteration 120, the loss is 7.2961938746700294, parameters k is 20.46281784192051 and b is -106.91991093580575\n",
      "Iteration 121, the loss is 7.2960392398903595, parameters k is 20.46232444010561 and b is -106.91820815862881\n",
      "Iteration 122, the loss is 7.295887433607276, parameters k is 20.46184909723738 and b is -106.9165025853062\n",
      "Iteration 123, the loss is 7.29574262934887, parameters k is 20.461390333840146 and b is -106.91479444841798\n",
      "Iteration 124, the loss is 7.295600114527116, parameters k is 20.460946791688073 and b is -106.91308396148308\n",
      "Iteration 125, the loss is 7.295459431547005, parameters k is 20.460517223868166 and b is -106.91137132052152\n",
      "Iteration 126, the loss is 7.295320430517485, parameters k is 20.460100485657673 and b is -106.90965670548852\n",
      "Iteration 127, the loss is 7.295182973831789, parameters k is 20.45969552614913 and b is -106.907940281591\n",
      "Iteration 128, the loss is 7.295046935160618, parameters k is 20.45930138056176 and b is -106.90622220049636\n",
      "Iteration 129, the loss is 7.294912198527971, parameters k is 20.458917163183003 and b is -106.90450260144209\n",
      "Iteration 130, the loss is 7.294778657462582, parameters k is 20.458542060888497 and b is -106.90278161225443\n",
      "Iteration 131, the loss is 7.2946462142190045, parameters k is 20.458175327193157 and b is -106.90105935028359\n",
      "Iteration 132, the loss is 7.294514779062457, parameters k is 20.457816276789774 and b is -106.8993359232623\n",
      "Iteration 133, the loss is 7.294384269612365, parameters k is 20.457464280535206 and b is -106.89761143009403\n",
      "Iteration 134, the loss is 7.294254610239572, parameters k is 20.457118760847468 and b is -106.89588596157657\n",
      "Iteration 135, the loss is 7.294125731513108, parameters k is 20.456779187480066 and b is -106.89415960106632\n",
      "Iteration 136, the loss is 7.293997569692164, parameters k is 20.456445073642637 and b is -106.89243242508816\n",
      "Iteration 137, the loss is 7.293870066259788, parameters k is 20.456115972439516 and b is -106.89070450389534\n",
      "Iteration 138, the loss is 7.293743167494756, parameters k is 20.455791473600176 and b is -106.88897590198343\n",
      "Iteration 139, the loss is 7.293616824078548, parameters k is 20.455471200477636 and b is -106.8872466785622\n",
      "Iteration 140, the loss is 7.293490990734478, parameters k is 20.455154807292857 and b is -106.88551688798887\n",
      "Iteration 141, the loss is 7.293365625896527, parameters k is 20.45484197660497 and b is -106.8837865801657\n",
      "Iteration 142, the loss is 7.293240691405212, parameters k is 20.45453241698884 and b is -106.88205580090519\n",
      "Iteration 143, the loss is 7.293116152228337, parameters k is 20.454225860902937 and b is -106.88032459226518\n",
      "Iteration 144, the loss is 7.292991976204777, parameters k is 20.453922062731987 and b is -106.87859299285661\n",
      "Iteration 145, the loss is 7.292868133809169, parameters k is 20.453620796990002 and b is -106.876861038126\n",
      "Iteration 146, the loss is 7.292744597935849, parameters k is 20.453321856670595 and b is -106.87512876061476\n",
      "Iteration 147, the loss is 7.292621343700619, parameters k is 20.453025051732492 and b is -106.87339619019731\n",
      "Iteration 148, the loss is 7.292498348258603, parameters k is 20.452730207709166 and b is -106.87166335429967\n",
      "Iteration 149, the loss is 7.292375590637228, parameters k is 20.45243716443241 and b is -106.86993027810004\n",
      "Iteration 150, the loss is 7.292253051582646, parameters k is 20.452145774860526 and b is -106.86819698471311\n",
      "Iteration 151, the loss is 7.292130713418996, parameters k is 20.451855904002546 and b is -106.8664634953591\n",
      "Iteration 152, the loss is 7.292008559918995, parameters k is 20.45156742793062 and b is -106.86472982951908\n",
      "Iteration 153, the loss is 7.291886576185271, parameters k is 20.451280232873344 and b is -106.86299600507745\n",
      "Iteration 154, the loss is 7.291764748541347, parameters k is 20.45099421438339 and b is -106.86126203845284\n",
      "Iteration 155, the loss is 7.291643064431608, parameters k is 20.450709276573356 and b is -106.8595279447182\n",
      "Iteration 156, the loss is 7.291521512329398, parameters k is 20.450425331414245 and b is -106.8577937377111\n",
      "Iteration 157, the loss is 7.2914000816527365, parameters k is 20.45014229809142 and b is -106.85605943013502\n",
      "Iteration 158, the loss is 7.291278762686871, parameters k is 20.449860102413375 and b is -106.85432503365217\n",
      "Iteration 159, the loss is 7.2911575465132215, parameters k is 20.44957867626891 and b is -106.85259055896897\n",
      "Iteration 160, the loss is 7.291036424944111, parameters k is 20.449297957128856 and b is -106.85085601591427\n",
      "Iteration 161, the loss is 7.290915390462872, parameters k is 20.44901788758857 and b is -106.84912141351137\n",
      "Iteration 162, the loss is 7.290794436168869, parameters k is 20.44873841494798 and b is -106.84738676004395\n",
      "Iteration 163, the loss is 7.290673555726991, parameters k is 20.448459490826007 and b is -106.84565206311673\n",
      "Iteration 164, the loss is 7.290552743321312, parameters k is 20.448181070806616 and b is -106.8439173297111\n",
      "Iteration 165, the loss is 7.29043199361255, parameters k is 20.44790311411386 and b is -106.84218256623623\n",
      "Iteration 166, the loss is 7.290311301698988, parameters k is 20.44762558331355 and b is -106.84044777857594\n",
      "Iteration 167, the loss is 7.290190663080627, parameters k is 20.44734844403939 and b is -106.83871297213173\n",
      "Iteration 168, the loss is 7.290070073626246, parameters k is 20.447071664741546 and b is -106.8369781518624\n",
      "Iteration 169, the loss is 7.2899495295432235, parameters k is 20.44679521645583 and b is -106.83524332232021\n",
      "Iteration 170, the loss is 7.2898290273497075, parameters k is 20.446519072591784 and b is -106.8335084876843\n",
      "Iteration 171, the loss is 7.289708563849246, parameters k is 20.44624320873815 and b is -106.83177365179122\n",
      "Iteration 172, the loss is 7.28958813610728, parameters k is 20.44596760248427 and b is -106.830038818163\n",
      "Iteration 173, the loss is 7.289467741429807, parameters k is 20.445692233256135 and b is -106.82830399003296\n",
      "Iteration 174, the loss is 7.289347377343587, parameters k is 20.445417082165854 and b is -106.82656917036934\n",
      "Iteration 175, the loss is 7.289227041578058, parameters k is 20.445142131873467 and b is -106.82483436189703\n",
      "Iteration 176, the loss is 7.289106732048723, parameters k is 20.4448673664601 and b is -106.82309956711755\n",
      "Iteration 177, the loss is 7.288986446841954, parameters k is 20.44459277131149 and b is -106.8213647883273\n",
      "Iteration 178, the loss is 7.288866184200905, parameters k is 20.444318333011065 and b is -106.8196300276344\n",
      "Iteration 179, the loss is 7.288745942512732, parameters k is 20.444044039241785 and b is -106.81789528697414\n",
      "Iteration 180, the loss is 7.288625720296762, parameters k is 20.443769878696042 and b is -106.81616056812307\n",
      "Iteration 181, the loss is 7.288505516193638, parameters k is 20.443495840992924 and b is -106.81442587271212\n",
      "Iteration 182, the loss is 7.2883853289554645, parameters k is 20.44322191660227 and b is -106.81269120223845\n",
      "Iteration 183, the loss is 7.288265157436536, parameters k is 20.44294809677494 and b is -106.81095655807644\n",
      "Iteration 184, the loss is 7.288145000585083, parameters k is 20.442674373478827 and b is -106.80922194148775\n",
      "Iteration 185, the loss is 7.288024857435534, parameters k is 20.442400739340066 and b is -106.80748735363055\n",
      "Iteration 186, the loss is 7.2879047271014015, parameters k is 20.442127187589104 and b is -106.80575279556803\n",
      "Iteration 187, the loss is 7.287784608768888, parameters k is 20.441853712011177 and b is -106.80401826827615\n",
      "Iteration 188, the loss is 7.2876645016908626, parameters k is 20.441580306900832 and b is -106.80228377265082\n",
      "Iteration 189, the loss is 7.287544405181427, parameters k is 20.441306967020193 and b is -106.80054930951442\n",
      "Iteration 190, the loss is 7.287424318610884, parameters k is 20.44103368756064 and b is -106.79881487962187\n",
      "Iteration 191, the loss is 7.287304241401148, parameters k is 20.440760464107626 and b is -106.79708048366612\n",
      "Iteration 192, the loss is 7.287184173021489, parameters k is 20.44048729260838 and b is -106.79534612228328\n",
      "Iteration 193, the loss is 7.28706411298467, parameters k is 20.440214169342273 and b is -106.79361179605719\n",
      "Iteration 194, the loss is 7.286944060843392, parameters k is 20.439941090893573 and b is -106.79187750552383\n",
      "Iteration 195, the loss is 7.286824016186997, parameters k is 20.43966805412648 and b is -106.79014325117511\n",
      "Iteration 196, the loss is 7.286703978638499, parameters k is 20.439395056162166 and b is -106.78840903346257\n",
      "Iteration 197, the loss is 7.286583947851765, parameters k is 20.439122094357728 and b is -106.78667485280067\n",
      "Iteration 198, the loss is 7.286463923509047, parameters k is 20.43884916628685 and b is -106.78494070956981\n",
      "Iteration 199, the loss is 7.286343905318624, parameters k is 20.438576269722045 and b is -106.78320660411913\n"
     ]
    }
   ],
   "source": [
    "#initialized parameters,L2 loss\n",
    "\n",
    "k = random.random() * 200 - 100  # -100 100\n",
    "b = random.random() * 200 - 100  # -100 100\n",
    "\n",
    "learning_rate = 1e-3\n",
    "\n",
    "iteration_num = 200 \n",
    "losses = []\n",
    "for i in range(iteration_num):\n",
    "    \n",
    "    price_use_current_parameters = [price(r, k, b) for r in X_rm]  # \\hat{y}\n",
    "    \n",
    "    current_loss = loss_L1(y, price_use_current_parameters)\n",
    "    losses.append(current_loss)\n",
    "    print(\"Iteration {}, the loss is {}, parameters k is {} and b is {}\".format(i,current_loss,k,b))\n",
    "    \n",
    "    k_gradient = partial_derivative_k(X_rm, y, price_use_current_parameters)\n",
    "    b_gradient = partial_derivative_b(y, price_use_current_parameters)\n",
    "    \n",
    "    k = k + (-1 * k_gradient) * learning_rate\n",
    "    b = b + (-1 * b_gradient) * learning_rate\n",
    "best_k = k\n",
    "best_b = b"
   ]
  },
  {
   "cell_type": "markdown",
   "metadata": {},
   "source": [
    "该梯度下降只有一个x，若x个数为2以上则需要使用导数矩阵运算，对损失函数L1，L2敏感，L1下降快而不容易收敛，L2下降相对较慢收敛效果更好，k，b的初始值很大程度影响了梯度下降有效性，若初始值比较特别，则会出现搜索不到正确方向的情况"
   ]
  },
  {
   "cell_type": "markdown",
   "metadata": {},
   "source": [
    "梯度下降为一阶搜索方法，较牛顿法收敛慢，但适用性更强，是最常用的优化方法"
   ]
  },
  {
   "cell_type": "code",
   "execution_count": 75,
   "metadata": {},
   "outputs": [
    {
     "data": {
      "text/plain": [
       "[<matplotlib.lines.Line2D at 0xa29dd4e10>]"
      ]
     },
     "execution_count": 75,
     "metadata": {},
     "output_type": "execute_result"
    }
   ],
   "source": [
    "plt.plot(list(range(iteration_num)),losses)"
   ]
  },
  {
   "cell_type": "code",
   "execution_count": 76,
   "metadata": {},
   "outputs": [
    {
     "data": {
      "text/plain": [
       "<matplotlib.collections.PathCollection at 0xa29d79990>"
      ]
     },
     "execution_count": 76,
     "metadata": {},
     "output_type": "execute_result"
    }
   ],
   "source": [
    "price_use_best_parameters = [price(r, best_k, best_b) for r in X_rm]\n",
    "\n",
    "plt.scatter(X_rm,y)\n",
    "plt.scatter(X_rm,price_use_current_parameters)"
   ]
  },
  {
   "cell_type": "markdown",
   "metadata": {},
   "source": [
    "#### 2. 回答以下理论题目"
   ]
  },
  {
   "cell_type": "markdown",
   "metadata": {},
   "source": [
    "###       < 评阅点 >： 答案是否正确完整"
   ]
  },
  {
   "cell_type": "markdown",
   "metadata": {},
   "source": [
    "###### 2.1 What conditions are required to make the BFS return the optimal solution ?"
   ]
  },
  {
   "cell_type": "markdown",
   "metadata": {},
   "source": [
    "1.All costs between two nodes are positive or zero\n",
    "\n",
    "2.Sort the list used to maintain the searching history in every iteration"
   ]
  },
  {
   "cell_type": "markdown",
   "metadata": {},
   "source": [
    "##### 2.2 Is there a way to make DFS find the optimal solution ? (You may need to read some material about iterative DFS)"
   ]
  },
  {
   "cell_type": "code",
   "execution_count": null,
   "metadata": {},
   "outputs": [],
   "source": [
    "\"Maybe iterative deepening search is a better solution.\"\n",
    "\n",
    "\"IDDFS:\"\n",
    "\n",
    "def IDDFS(root, max_depth):\n",
    "    for depth in range(0, max_depth):\n",
    "        found = dLS(root, depth)\n",
    "        if found != None:\n",
    "            return found\n",
    "\n",
    "def DLS(node, depth):\n",
    "    if depth == 0 or node is target:\n",
    "        return node\n",
    "    elif depth > 0:\n",
    "        for child in node:\n",
    "            found = DLS(child, depth-1)\n",
    "            if found != None:\n",
    "                return found\n",
    "    return null  "
   ]
  },
  {
   "cell_type": "markdown",
   "metadata": {},
   "source": [
    "its time cost is O(b^d),space cost is O(d)"
   ]
  },
  {
   "cell_type": "markdown",
   "metadata": {},
   "source": [
    "我们经常使用BFS 这样做的好处是：第一次搜索到目标点时，就是到达目标点的最小步数。因为我们每次都存下了当前步能达到的所有点。而BFS所使用的空间开支较大，我们每一步都存下了当前步所能达到的所有点的坐标。而DFS的话，我们的空间开支较小，走了多少步就需要多少空间，但是因为没有一个明确的结束标准，所以我们不知道DFS要到什么时候停下来，所以也有可能会产生较大的时间开支。\n",
    "\n",
    "这个时候，我们就学习到了一种新的搜索方法：迭代加深搜索。IDDFS的特点是：用BFS的思想去跑DFS。\n",
    "\n",
    "我们知道DFS的搜索我们都有一个深度，那么我们限制每次搜索的深度，就像是用DFS每次去跑出BFS的某一层。\n",
    "\n",
    "这个时候的好处是：我们的空间开销减少了，但是由于我们没加深一层，都相当于对其N-1层又跑了一遍DFS，而这个虽然是重复计算越多的内容越少（深度较小时节点数目较少）但累加起来也是不小的开销。所以相当于我们用时间去换取了部分空间。\n",
    "\n",
    "所以IDDFS一般用于：空间限制较强，或BFS需要较大空间，而时间相对宽松的情况.\n",
    "\n",
    "\n",
    "摘抄自CSDN博主，伪代码写得不是很有信心"
   ]
  },
  {
   "cell_type": "markdown",
   "metadata": {},
   "source": [
    "##### 2.3 In what conditions BFS is a better choice than DFS and vice versa ?"
   ]
  },
  {
   "cell_type": "markdown",
   "metadata": {},
   "source": [
    "DFS：\n",
    "\n",
    "strength:\n",
    "1.space cost is less than BFS\n",
    "2.find all the solutions\n",
    "\n",
    "weakness:\n",
    "1.In most case can not find the best solution\n",
    "2.when the depth is a enormous number,the approach is in poor efficiency.\n",
    "\n",
    "BFS:\n",
    "\n",
    "strength:\n",
    "1.Find the best solution(the shortest)\n",
    "\n",
    "weakness:\n",
    "1.Space cost is large."
   ]
  },
  {
   "cell_type": "markdown",
   "metadata": {},
   "source": [
    "##### 2.4 When can we use machine learning ?"
   ]
  },
  {
   "cell_type": "markdown",
   "metadata": {},
   "source": [
    "Sometimes it is very difficult to find a complicated formula to matching data when they are in high dimensions or in strange distributions, but using machine learning we can fit the data more easily and get the model that behaves well in data set."
   ]
  },
  {
   "cell_type": "markdown",
   "metadata": {},
   "source": [
    "##### 2.5 What is the gradient of a function ?"
   ]
  },
  {
   "cell_type": "markdown",
   "metadata": {},
   "source": [
    "The gradient is a vector indicating that the directional derivative of a function at that point obtains the maximun value along that direction, which means that the function changes the fastest along that direction at that point."
   ]
  },
  {
   "cell_type": "markdown",
   "metadata": {},
   "source": [
    "##### 2.6 How can we find the maximum value of a function using the information of gradient ?"
   ]
  },
  {
   "cell_type": "markdown",
   "metadata": {},
   "source": [
    "Ascend means that we renew the paramaters of function by using formula(α' = α + ▽f(α)) and we check the new function value by adding new paramaters,then we repeat that process until the maximun value is found or such approach can't not find a better result."
   ]
  },
  {
   "cell_type": "markdown",
   "metadata": {},
   "source": [
    "#### 3. 实践部分  寻找地铁路线"
   ]
  },
  {
   "cell_type": "markdown",
   "metadata": {},
   "source": [
    "### < 评阅点 >  1: 爬虫爬取数据是否完整;  2:搜索算法是否正确"
   ]
  },
  {
   "cell_type": "markdown",
   "metadata": {},
   "source": [
    "In this part, although we recommend you to use Beijing subway, you still can use the subway map of any cities that you are interested in. "
   ]
  },
  {
   "cell_type": "markdown",
   "metadata": {},
   "source": [
    "![title](img/ditu.png)"
   ]
  },
  {
   "cell_type": "markdown",
   "metadata": {},
   "source": [
    "Please using the search policy to implement an agent. This agent receives two input, one is @param start station and the other is @param destination. Your agent should give the optimal route based on Beijing Subway system."
   ]
  },
  {
   "cell_type": "markdown",
   "metadata": {},
   "source": [
    "Deadline: 2019-October-27"
   ]
  },
  {
   "cell_type": "markdown",
   "metadata": {},
   "source": [
    "#### Procedures"
   ]
  },
  {
   "cell_type": "markdown",
   "metadata": {},
   "source": [
    "#### 1. Get data from web.  "
   ]
  },
  {
   "cell_type": "markdown",
   "metadata": {},
   "source": [
    "Some tips: "
   ]
  },
  {
   "cell_type": "markdown",
   "metadata": {},
   "source": [
    "a. You might need this package: requests[https://2.python-requests.org/en/master/] to get webpages"
   ]
  },
  {
   "cell_type": "markdown",
   "metadata": {},
   "source": [
    "b.You might need to use Regular Expression and Beautiful Soap package to parse the webpages"
   ]
  },
  {
   "cell_type": "code",
   "execution_count": 1,
   "metadata": {},
   "outputs": [],
   "source": [
    "import requests\n",
    "from bs4 import BeautifulSoup\n",
    "import requests\n",
    "import re"
   ]
  },
  {
   "cell_type": "code",
   "execution_count": 2,
   "metadata": {},
   "outputs": [],
   "source": [
    "def getString(pattern,string):\n",
    "    return re.findall(pattern,string)"
   ]
  },
  {
   "cell_type": "code",
   "execution_count": 3,
   "metadata": {},
   "outputs": [
    {
     "data": {
      "text/plain": [
       "<Response [200]>"
      ]
     },
     "execution_count": 3,
     "metadata": {},
     "output_type": "execute_result"
    }
   ],
   "source": [
    "#爬取北京地铁线路的url\n",
    "import requests\n",
    "allUrl = \"http://bj.bendibao.com/ditie/linemap.shtml\"\n",
    "response = requests.get(allUrl)\n",
    "notProcessText = response.text\n",
    "response"
   ]
  },
  {
   "cell_type": "code",
   "execution_count": 4,
   "metadata": {},
   "outputs": [
    {
     "data": {
      "text/plain": [
       "'\\r\\n\\r\\n<!DOCTYPE html PUBLIC \"-//W3C//DTD XHTML 1.0 Transitional//EN\" \"http://www.w3.org/TR/xhtml1/DTD/xhtml1-transitional.dtd\">\\r\\n<html xmlns=\"http://www.w3.org/1999/xhtml\">\\r\\n<head>\\r\\n<meta http-equiv=\"Content-Type\" content=\"text/html; charset=gb2312\" />\\r\\n<title>北京地铁线路图，2020最新北京地铁线路图，北京地铁地图-北京本地宝</title>\\r\\n<meta content=\"北京地铁线路图,2020北京地铁最新线路图,北京地铁地图\" name=\"Keywords\" />\\r\\n<meta content=\"北京本地宝交通频道为你带来北京地铁线路图，2020北京地铁最新线路图的详细信息\" name=\"Description\" />\\r\\n<meta name=\"renderer\" content=\"webkit\">\\r\\n\\r\\n<link rel=\"stylesheet\" href=\"http://jtapi.bendibao.com/ditie/css/cssreset.min.css\" />\\r\\n<link rel=\"stylesheet\" href=\"http://jtapi.bendibao.com/ditie/css/metro.min.css\" />\\r\\n<link rel=\"stylesheet\" href=\"http://jtapi.bendibao.com/ditie/css/linecolor.min.css\" />\\r\\n<link rel=\"stylesheet\" href=\"http://jtapi.bendibao.com/ditie/css/timetable.min.css\" />\\r\\n<link rel=\"stylesheet\" href=\"http://jtapi.bendibao.com/ditie/css/top.css\" />\\r\\n\\r\\n\\r\\n<meta http-equiv=\"mobile-agent\" content=\"format=xhtml; url=http://m.bj.bendibao.com/ditie/linemap.shtml\" />\\r\\n<meta http-equiv=\"mobile-agent\" content=\"format=html5; url=http://m.bj.bendibao.com/ditie/linemap.shtml\" />\\r\\n\\r\\n<meta name=\"location\" content=\"province=北京;city=北京;coord=116.395645,39.929986\" />\\r\\n\\r\\n</head>\\r\\n\\r\\n<body>\\r\\n<div id=\"wd_header\"><div class=\"ny_top\"><div class=\"ny_topnav\"><div class=\"ny_topnav_left fl\"><div class=\"font_left fl\"><div class=\"city\"><a href=\"/\" target=\"_blank\">北京</a></div></div><a class=\"font_right fr\" href=\"http://www.bendibao.com/city.htm\" target=\"_blank\"></a></div><div class=\"ny_topnav_in fl\"><a href=\"http://bj.bendibao.com/news/\" target=\"_blank\">本地民生</a>\\r\\n| <a href=\"http://bj.bendibao.com/zffw/\" target=\"_blank\">办事</a>\\r\\n| <a href=\"http://bj.bendibao.com/bjsi/\" target=\"_blank\">社保</a>\\r\\n| <a href=\"http://bj.bendibao.com/zffw/bjgjj/\" target=\"_blank\">公积金</a></li>\\r\\n| <a href=\"http://bj.bendibao.com/zffw/jzz/\" target=\"_blank\">居住证</a></li>\\r\\n| <a href=\"http://bj.bendibao.com/traffic/\" target=\"_blank\">交通</a>\\r\\n| <a href=\"http://bus.bj.bendibao.com/\" target=\"_blank\">公交</a></li>\\r\\n| <a href=\"http://bj.bendibao.com/ditie/\" target=\"_blank\">地铁</a></li>\\r\\n| <a href=\"http://bj.bendibao.com/tour/\" target=\"_blank\">旅游</a>\\r\\n| <a href=\"http://bj.bendibao.com/jingdian/\" target=\"_blank\">景点</a>\\r\\n| <a href=\"http://bj.bendibao.com/live/huodong/\" target=\"_blank\">活动</a>\\r\\n| <a href=\"http://bj.bendibao.com/meishi/\" target=\"_blank\">美食</a>\\r\\n| <a href=\"http://bj.bendibao.com/gouwu/\" target=\"_blank\">购物</a>\\r\\n| <a href=\"http://bj.bendibao.com/edu/\" target=\"_blank\">教育</a>\\r\\n| <a href=\"http://bj.bendibao.com/health/\" target=\"_blank\">健康</a>\\r\\n| <a href=\"http://bj.bendibao.com/live/\" target=\"_blank\">休闲</a>\\r\\n| <a href=\"http://bj.bendibao.com/wangdian/\" target=\"_blank\">网点</a></div>\\r\\n<div class=\"ny_topnav_right fr\"><span><a href=\"javascript:shoucang(location.href,document.title);\" target=\"_self\">加入收藏</a></span></div></div></div></div><div id=\"wd_wrapper\"><script type=\"text/javascript\" src=\"http://cbjs.baidu.com/js/m.js\"></script><div class=\"logo_box\">\\r\\n   <div class=\"logo_bdb fl\"><a><img src=\"http://wh.bendibao.com/images/ny_13.jpg\"></a></div>\\r\\n   <div class=\"logo_ad fr\"><script type=\"text/javascript\">BAIDU_CLB_fillSlot(\"739543\");</script></div>\\r\\n  </div>\\r\\n</div>\\r\\n\\r\\n<script>function shoucang(sURL,sTitle){try { window.external.addFavorite(sURL, sTitle); }catch (e) {try{ window.sidebar.addPanel(sTitle, sURL, \"\"); }catch (e) { alert(\"请使用Ctrl+D添加收藏\");}}}</script>\\r\\n\\r\\n\\r\\n<div id=\"top-nav\">\\r\\n\\r\\n<ul class=\"container\">\\r\\n\\r\\n<li><i>北京地铁</i></li>\\r\\n\\r\\n<li><a href=\"/ditie/\" id=\"nav_index\">地铁首页</a></li>\\r\\n<li><a href=\"/ditie/hc/\" id=\"nav_search\">地铁查询</a></li>\\r\\n<li><a href=\"/ditie/linemap.shtml\" id=\"nav_metro\">地铁线路图</a></li>\\r\\n<li><a href=\"/ditie/piaojia.shtml\" id=\"nav_piaojia\">地铁票价</a></li>\\r\\n<li><a href=\"/ditie/time.shtml\" id=\"nav_metrotime\">运营时间</a></li>\\r\\n<li><a href=\"/ditie/exit.shtml\" id=\"nav_exit\">地铁出入口</a></li>\\r\\n<li><a href=\"/ditie/plan.shtml\" id=\"nav_planmap\">地铁规划图</a></li>\\r\\n\\r\\n<li style=\"float:right\"><a href=\"http://m.bj.bendibao.com/ditie/\">手机查地铁</a></li>\\r\\n</ul>\\r\\n</div>\\r\\n\\r\\n\\r\\n\\r\\n\\r\\n<div class=\"container\">\\r\\n\\t\\t\\r\\n\\t\\t<div class=\"section\">\\r\\n\\t\\t\\r\\n\\t\\t    <!-- left -->\\r\\n\\t\\t\\t<div class=\"s-main\">\\r\\n\\t\\t\\t\\r\\n\\t\\t\\t\\r\\n\\t\\t\\t<div class=\"title\">\\r\\n\\t\\t\\t\\t    <h1>北京地铁线路图</h1>\\r\\n\\t\\t\\t\\t</div>\\r\\n\\t\\t\\t\\t<div class=\"map\">\\r\\n\\t\\t\\t\\t\\t\\r\\n\\t\\t\\t\\t\\t<a href=\"http://jtapi.bendibao.com/ditie/inc/bj/xianluda.gif\" target=\"_blank\"><img class=\"iframe\" src=\"http://jtapi.bendibao.com/ditie/inc/bj/xianlu.gif\" width=\"660\" border=\"0\" title=\"点击查看大图\" /></a>\\r\\n\\t\\t\\t\\t\\t\\r\\n\\t\\t\\t\\t</div>\\r\\n\\t\\t\\t\\r\\n\\r\\n\\t\\t\\t<h2>北京地铁线路列表</h2>\\r\\n\\t\\t\\t\\r\\n\\t\\t\\t\\r\\n\\t\\t\\t\\r\\n\\t\\t\\t\\t<div class=\"line-list\">\\r\\n\\t\\t\\t\\t\\t<div class=\"line-list-heading\" style=\"background:#C43B33;\">\\r\\n\\t\\t\\t\\t\\t\\t<div class=\"wrap\">\\r\\n\\t\\t\\t\\t\\t\\t\\t<strong><a href=\"/ditie/map_197.shtml\" target=\"_blank\">北京地铁1号线(M1)线路图</a></strong>\\r\\n\\t\\t\\t\\t\\t\\t\\t\\r\\n\\r\\n\\t\\t\\t\\t\\t\\t\\t\\r\\n\\t\\t\\t\\t\\t\\t\\t\\r\\n\\t\\t\\t\\t\\t\\t\\t<span class=\"total\">\\r\\n\\t\\t\\t\\t\\t\\t\\t<a style=\"color:#C43B33;\" href=\"/ditie/map_197.shtml\" target=\"_blank\">\\r\\n\\t\\t\\t\\t\\t\\t\\t查看详细\\r\\n\\t\\t\\t\\t\\t\\t\\t</a>\\r\\n\\t\\t\\t\\t\\t\\t\\t</span>\\r\\n\\t\\t\\t\\t\\t\\t\\t\\r\\n\\t\\t\\t\\t\\t\\t</div>\\r\\n\\t\\t\\t\\t\\t\\r\\n\\t\\t\\t\\t\\t</div>\\r\\n\\t\\t\\t\\t\\t<div class=\"line-list-body\">\\r\\n\\t\\t\\t\\t\\t\\t<div class=\"line-list-station\">\\r\\n\\t\\t\\t\\t\\t\\t\\r\\n\\t\\t\\t\\t\\t\\t\\r\\n\\t\\t\\t\\t\\t\\t<div class=\"station\"><div class=\"line-h line-h-197 \"><span class=\"dot d-197\"></span></div><a href=\"/ditie/zd_pingguoyuan.shtml\" class=\"link\" target=\"_blank\">苹果园</a></div><div class=\"station\"><div class=\"line-h line-h-197 \"><span class=\"dot d-197\"></span></div><a href=\"/ditie/zd_gucheng.shtml\" class=\"link\" target=\"_blank\">古城</a></div><div class=\"station\"><div class=\"line-h line-h-197 \"><span class=\"dot d-197\"></span></div><a href=\"/ditie/zd_bajiaoyouleyuan.shtml\" class=\"link\" target=\"_blank\">八角游乐园</a></div><div class=\"station\"><div class=\"line-h line-h-197 \"><span class=\"dot d-197\"></span></div><a href=\"/ditie/zd_babaoshan.shtml\" class=\"link\" target=\"_blank\">八宝山</a></div><div class=\"station\"><div class=\"line-h line-h-197 \"><span class=\"dot d-197\"></span></div><a href=\"/ditie/zd_yuquanlu.shtml\" class=\"link\" target=\"_blank\">玉泉路</a></div><div class=\"station\"><div class=\"line-h line-h-197 \"><span class=\"dot d-197\"></span></div><a href=\"/ditie/zd_wukesong.shtml\" class=\"link\" target=\"_blank\">五棵松</a></div><div class=\"station\"><div class=\"line-h line-h-197 \"><span class=\"dot d-197\"></span></div><a href=\"/ditie/zd_wanshoulu.shtml\" class=\"link\" target=\"_blank\">万寿路</a></div><div class=\"station\"><div class=\"line-h line-h-197 \"><div class=\"dot-change\"><div class=\"tips\" style=\"display:none;\"><div class=\"tips-info-box\"><div class=\"tips-info-wrap\">你可以在此处换乘 ：&nbsp;<span style=\"color:#fc4349\"> <a href=\"/ditie/xl_212.shtml\">地铁10号线</a> </span></div><span class=\"tips-ico\"><i class=\"i-1\">◆</i><i class=\"i-2\">◆</i></span></div></div></div></div><a class=\"link\" href=\"/ditie/zd_gongzhufen.shtml\">公主坟</a></div><div class=\"station\"><div class=\"line-h line-h-197 \"><div class=\"dot-change\"><div class=\"tips\" style=\"display:none;\"><div class=\"tips-info-box\"><div class=\"tips-info-wrap\">你可以在此处换乘 ：&nbsp;<span style=\"color:#fc4349\"> <a href=\"/ditie/xl_201.shtml\">地铁9号线(M9)</a> </span></div><span class=\"tips-ico\"><i class=\"i-1\">◆</i><i class=\"i-2\">◆</i></span></div></div></div></div><a class=\"link\" href=\"/ditie/zd_junshibowuguan.shtml\">军事博物馆</a></div><div class=\"station\"><div class=\"line-h line-h-197 \"><span class=\"dot d-197\"></span></div><a href=\"/ditie/zd_mueidi.shtml\" class=\"link\" target=\"_blank\">木樨地</a></div><div class=\"station\"><div class=\"line-h line-h-197 \"><span class=\"dot d-197\"></span></div><a href=\"/ditie/zd_nanlishilu.shtml\" class=\"link\" target=\"_blank\">南礼士路</a></div><div class=\"station\"><div class=\"line-h line-h-197 \"><div class=\"dot-change\"><div class=\"tips\" style=\"display:none;\"><div class=\"tips-info-box\"><div class=\"tips-info-wrap\">你可以在此处换乘 ：&nbsp;<span style=\"color:#fc4349\"> <a href=\"/ditie/xl_211.shtml\">地铁2号线(内环)</a> </span></div><span class=\"tips-ico\"><i class=\"i-1\">◆</i><i class=\"i-2\">◆</i></span></div></div></div></div><a class=\"link\" href=\"/ditie/zd_fuxinmen.shtml\">复兴门</a></div><div class=\"station\"><div class=\"line-h line-h-197 \"><div class=\"dot-change\"><div class=\"tips\" style=\"display:none;\"><div class=\"tips-info-box\"><div class=\"tips-info-wrap\">你可以在此处换乘 ：&nbsp;<span style=\"color:#fc4349\"> <a href=\"/ditie/xl_198.shtml\">地铁4号线(M4)</a> </span></div><span class=\"tips-ico\"><i class=\"i-1\">◆</i><i class=\"i-2\">◆</i></span></div></div></div></div><a class=\"link\" href=\"/ditie/zd_xidan.shtml\">西单</a></div><div class=\"station\"><div class=\"line-h line-h-197 \"><span class=\"dot d-197\"></span></div><a href=\"/ditie/zd_tiananmenxi.shtml\" class=\"link\" target=\"_blank\">天安门西</a></div><div class=\"station\"><div class=\"line-h line-h-197 \"><span class=\"dot d-197\"></span></div><a href=\"/ditie/zd_tiananmendong.shtml\" class=\"link\" target=\"_blank\">天安门东</a></div><div class=\"station\"><div class=\"line-h line-h-197 \"><span class=\"dot d-197\"></span></div><a href=\"/ditie/zd_wangfujing.shtml\" class=\"link\" target=\"_blank\">王府井</a></div><div class=\"station\"><div class=\"line-h line-h-197 \"><div class=\"dot-change\"><div class=\"tips\" style=\"display:none;\"><div class=\"tips-info-box\"><div class=\"tips-info-wrap\">你可以在此处换乘 ：&nbsp;<span style=\"color:#fc4349\"> <a href=\"/ditie/xl_199.shtml\">地铁5号线(M5)</a> </span></div><span class=\"tips-ico\"><i class=\"i-1\">◆</i><i class=\"i-2\">◆</i></span></div></div></div></div><a class=\"link\" href=\"/ditie/zd_dongdan.shtml\">东单</a></div><div class=\"station\"><div class=\"line-h line-h-197 \"><div class=\"dot-change\"><div class=\"tips\" style=\"display:none;\"><div class=\"tips-info-box\"><div class=\"tips-info-wrap\">你可以在此处换乘 ：&nbsp;<span style=\"color:#fc4349\"> <a href=\"/ditie/xl_211.shtml\">地铁2号线(内环)</a> </span></div><span class=\"tips-ico\"><i class=\"i-1\">◆</i><i class=\"i-2\">◆</i></span></div></div></div></div><a class=\"link\" href=\"/ditie/zd_jianguomen.shtml\">建国门</a></div><div class=\"station\"><div class=\"line-h line-h-197 \"><span class=\"dot d-197\"></span></div><a href=\"/ditie/zd_yonganli.shtml\" class=\"link\" target=\"_blank\">永安里</a></div><div class=\"station\"><div class=\"line-h line-h-197 \"><div class=\"dot-change\"><div class=\"tips\" style=\"display:none;\"><div class=\"tips-info-box\"><div class=\"tips-info-wrap\">你可以在此处换乘 ：&nbsp;<span style=\"color:#fc4349\"> <a href=\"/ditie/xl_212.shtml\">地铁10号线</a> </span></div><span class=\"tips-ico\"><i class=\"i-1\">◆</i><i class=\"i-2\">◆</i></span></div></div></div></div><a class=\"link\" href=\"/ditie/zd_guomao.shtml\">国贸</a></div><div class=\"station\"><div class=\"line-h line-h-197 \"><span class=\"dot d-197\"></span></div><a href=\"/ditie/zd_dawanglu.shtml\" class=\"link\" target=\"_blank\">大望路</a></div><div class=\"station\"><div class=\"line-h line-h-197 \"><div class=\"dot-change\"><div class=\"tips\" style=\"display:none;\"><div class=\"tips-info-box\"><div class=\"tips-info-wrap\">你可以在此处换乘 ：&nbsp;<span style=\"color:#fc4349\"> <a href=\"/ditie/xl_204.shtml\">地铁八通线(M1)</a> </span></div><span class=\"tips-ico\"><i class=\"i-1\">◆</i><i class=\"i-2\">◆</i></span></div></div></div></div><a class=\"link\" href=\"/ditie/zd_sihui.shtml\">四惠</a></div><div class=\"station\"><div class=\"line-h line-h-197 \"><div class=\"dot-change\"><div class=\"tips\" style=\"display:none;\"><div class=\"tips-info-box\"><div class=\"tips-info-wrap\">你可以在此处换乘 ：&nbsp;<span style=\"color:#fc4349\"> <a href=\"/ditie/xl_204.shtml\">地铁八通线(M1)</a> </span></div><span class=\"tips-ico\"><i class=\"i-1\">◆</i><i class=\"i-2\">◆</i></span></div></div></div></div><a class=\"link\" href=\"/ditie/zd_sihuidong.shtml\">四惠东</a></div>\\r\\n\\t\\t\\t\\t\\t\\t\\r\\n\\t\\t\\t\\t\\t\\t\\t<div class=\"clearfix\"></div>\\r\\n\\t\\t\\t\\t\\t\\t</div>\\r\\n\\t\\t\\t\\t\\t\\r\\n\\t\\t\\t\\t\\t</div>\\r\\n\\t\\t\\t\\t</div>\\r\\n\\t\\t\\t\\t\\r\\n\\t\\t\\t\\t\\r\\n\\t\\t\\t\\r\\n\\t\\t\\t\\t<div class=\"line-list\">\\r\\n\\t\\t\\t\\t\\t<div class=\"line-list-heading\" style=\"background:#016299;\">\\r\\n\\t\\t\\t\\t\\t\\t<div class=\"wrap\">\\r\\n\\t\\t\\t\\t\\t\\t\\t<strong><a href=\"/ditie/map_211.shtml\" target=\"_blank\">北京地铁2号线(内环)线路图</a></strong>\\r\\n\\t\\t\\t\\t\\t\\t\\t\\r\\n\\r\\n\\t\\t\\t\\t\\t\\t\\t\\r\\n\\t\\t\\t\\t\\t\\t\\t\\r\\n\\t\\t\\t\\t\\t\\t\\t<span class=\"total\">\\r\\n\\t\\t\\t\\t\\t\\t\\t<a style=\"color:#016299;\" href=\"/ditie/map_211.shtml\" target=\"_blank\">\\r\\n\\t\\t\\t\\t\\t\\t\\t查看详细\\r\\n\\t\\t\\t\\t\\t\\t\\t</a>\\r\\n\\t\\t\\t\\t\\t\\t\\t</span>\\r\\n\\t\\t\\t\\t\\t\\t\\t\\r\\n\\t\\t\\t\\t\\t\\t</div>\\r\\n\\t\\t\\t\\t\\t\\r\\n\\t\\t\\t\\t\\t</div>\\r\\n\\t\\t\\t\\t\\t<div class=\"line-list-body\">\\r\\n\\t\\t\\t\\t\\t\\t<div class=\"line-list-station\">\\r\\n\\t\\t\\t\\t\\t\\t\\r\\n\\t\\t\\t\\t\\t\\t\\r\\n\\t\\t\\t\\t\\t\\t<div class=\"station\"><div class=\"line-h line-h-211 \"><span class=\"dot d-211\"></span></div><a href=\"/ditie/zd_jishuitan.shtml\" class=\"link\" target=\"_blank\">积水潭</a></div><div class=\"station\"><div class=\"line-h line-h-211 \"><div class=\"dot-change\"><div class=\"tips\" style=\"display:none;\"><div class=\"tips-info-box\"><div class=\"tips-info-wrap\">你可以在此处换乘 ：&nbsp;<span style=\"color:#fc4349\"> <a href=\"/ditie/xl_200.shtml\">地铁8号线(M8)</a> </span></div><span class=\"tips-ico\"><i class=\"i-1\">◆</i><i class=\"i-2\">◆</i></span></div></div></div></div><a class=\"link\" href=\"/ditie/zd_guloudajie.shtml\">鼓楼大街</a></div><div class=\"station\"><div class=\"line-h line-h-211 \"><span class=\"dot d-211\"></span></div><a href=\"/ditie/zd_andingmen.shtml\" class=\"link\" target=\"_blank\">安定门</a></div><div class=\"station\"><div class=\"line-h line-h-211 \"><div class=\"dot-change\"><div class=\"tips\" style=\"display:none;\"><div class=\"tips-info-box\"><div class=\"tips-info-wrap\">你可以在此处换乘 ：&nbsp;<span style=\"color:#fc4349\"> <a href=\"/ditie/xl_199.shtml\">地铁5号线(M5)</a> </span></div><span class=\"tips-ico\"><i class=\"i-1\">◆</i><i class=\"i-2\">◆</i></span></div></div></div></div><a class=\"link\" href=\"/ditie/zd_yonghegong.shtml\">雍和宫</a></div><div class=\"station\"><div class=\"line-h line-h-211 \"><div class=\"dot-change\"><div class=\"tips\" style=\"display:none;\"><div class=\"tips-info-box\"><div class=\"tips-info-wrap\">你可以在此处换乘 ：&nbsp;<span style=\"color:#fc4349\"> <a href=\"/ditie/xl_202.shtml\">地铁13号线(M13)</a>  <a href=\"/ditie/xl_208.shtml\">地铁机场线(L1)</a> </span></div><span class=\"tips-ico\"><i class=\"i-1\">◆</i><i class=\"i-2\">◆</i></span></div></div></div></div><a class=\"link\" href=\"/ditie/zd_dongzhimen.shtml\">东直门</a></div><div class=\"station\"><div class=\"line-h line-h-211 \"><span class=\"dot d-211\"></span></div><a href=\"/ditie/zd_dongsishitiao.shtml\" class=\"link\" target=\"_blank\">东四十条</a></div><div class=\"station\"><div class=\"line-h line-h-211 \"><div class=\"dot-change\"><div class=\"tips\" style=\"display:none;\"><div class=\"tips-info-box\"><div class=\"tips-info-wrap\">你可以在此处换乘 ：&nbsp;<span style=\"color:#fc4349\"> <a href=\"/ditie/xl_209.shtml\">地铁6号线</a> </span></div><span class=\"tips-ico\"><i class=\"i-1\">◆</i><i class=\"i-2\">◆</i></span></div></div></div></div><a class=\"link\" href=\"/ditie/zd_chaoyangmen.shtml\">朝阳门</a></div><div class=\"station\"><div class=\"line-h line-h-211 \"><div class=\"dot-change\"><div class=\"tips\" style=\"display:none;\"><div class=\"tips-info-box\"><div class=\"tips-info-wrap\">你可以在此处换乘 ：&nbsp;<span style=\"color:#fc4349\"> <a href=\"/ditie/xl_197.shtml\">地铁1号线(M1)</a> </span></div><span class=\"tips-ico\"><i class=\"i-1\">◆</i><i class=\"i-2\">◆</i></span></div></div></div></div><a class=\"link\" href=\"/ditie/zd_jianguomen.shtml\">建国门</a></div><div class=\"station\"><div class=\"line-h line-h-211 \"><span class=\"dot d-211\"></span></div><a href=\"/ditie/zd_beijingzhan.shtml\" class=\"link\" target=\"_blank\">北京站</a></div><div class=\"station\"><div class=\"line-h line-h-211 \"><div class=\"dot-change\"><div class=\"tips\" style=\"display:none;\"><div class=\"tips-info-box\"><div class=\"tips-info-wrap\">你可以在此处换乘 ：&nbsp;<span style=\"color:#fc4349\"> <a href=\"/ditie/xl_199.shtml\">地铁5号线(M5)</a> </span></div><span class=\"tips-ico\"><i class=\"i-1\">◆</i><i class=\"i-2\">◆</i></span></div></div></div></div><a class=\"link\" href=\"/ditie/zd_chongwenmen.shtml\">崇文门</a></div><div class=\"station\"><div class=\"line-h line-h-211 \"><span class=\"dot d-211\"></span></div><a href=\"/ditie/zd_qianmen.shtml\" class=\"link\" target=\"_blank\">前门</a></div><div class=\"station\"><div class=\"line-h line-h-211 \"><span class=\"dot d-211\"></span></div><a href=\"/ditie/zd_hepingmen.shtml\" class=\"link\" target=\"_blank\">和平门</a></div><div class=\"station\"><div class=\"line-h line-h-211 \"><div class=\"dot-change\"><div class=\"tips\" style=\"display:none;\"><div class=\"tips-info-box\"><div class=\"tips-info-wrap\">你可以在此处换乘 ：&nbsp;<span style=\"color:#fc4349\"> <a href=\"/ditie/xl_198.shtml\">地铁4号线(M4)</a> </span></div><span class=\"tips-ico\"><i class=\"i-1\">◆</i><i class=\"i-2\">◆</i></span></div></div></div></div><a class=\"link\" href=\"/ditie/zd_xuanwumen.shtml\">宣武门</a></div><div class=\"station\"><div class=\"line-h line-h-211 \"><span class=\"dot d-211\"></span></div><a href=\"/ditie/zd_changchunjie.shtml\" class=\"link\" target=\"_blank\">长椿街</a></div><div class=\"station\"><div class=\"line-h line-h-211 \"><div class=\"dot-change\"><div class=\"tips\" style=\"display:none;\"><div class=\"tips-info-box\"><div class=\"tips-info-wrap\">你可以在此处换乘 ：&nbsp;<span style=\"color:#fc4349\"> <a href=\"/ditie/xl_197.shtml\">地铁1号线(M1)</a> </span></div><span class=\"tips-ico\"><i class=\"i-1\">◆</i><i class=\"i-2\">◆</i></span></div></div></div></div><a class=\"link\" href=\"/ditie/zd_fuxinmen.shtml\">复兴门</a></div><div class=\"station\"><div class=\"line-h line-h-211 \"><span class=\"dot d-211\"></span></div><a href=\"/ditie/zd_fuchengmen.shtml\" class=\"link\" target=\"_blank\">阜成门</a></div><div class=\"station\"><div class=\"line-h line-h-211 \"><div class=\"dot-change\"><div class=\"tips\" style=\"display:none;\"><div class=\"tips-info-box\"><div class=\"tips-info-wrap\">你可以在此处换乘 ：&nbsp;<span style=\"color:#fc4349\"> <a href=\"/ditie/xl_209.shtml\">地铁6号线</a> </span></div><span class=\"tips-ico\"><i class=\"i-1\">◆</i><i class=\"i-2\">◆</i></span></div></div></div></div><a class=\"link\" href=\"/ditie/zd_chegongzhuang.shtml\">车公庄</a></div><div class=\"station\"><div class=\"line-h line-h-211 \"><div class=\"dot-change\"><div class=\"tips\" style=\"display:none;\"><div class=\"tips-info-box\"><div class=\"tips-info-wrap\">你可以在此处换乘 ：&nbsp;<span style=\"color:#fc4349\"> <a href=\"/ditie/xl_198.shtml\">地铁4号线(M4)</a>  <a href=\"/ditie/xl_202.shtml\">地铁13号线(M13)</a> </span></div><span class=\"tips-ico\"><i class=\"i-1\">◆</i><i class=\"i-2\">◆</i></span></div></div></div></div><a class=\"link\" href=\"/ditie/zd_xizhimen.shtml\">西直门</a></div>\\r\\n\\t\\t\\t\\t\\t\\t\\r\\n\\t\\t\\t\\t\\t\\t\\t<div class=\"clearfix\"></div>\\r\\n\\t\\t\\t\\t\\t\\t</div>\\r\\n\\t\\t\\t\\t\\t\\r\\n\\t\\t\\t\\t\\t</div>\\r\\n\\t\\t\\t\\t</div>\\r\\n\\t\\t\\t\\t\\r\\n\\t\\t\\t\\t\\r\\n\\t\\t\\t\\r\\n\\t\\t\\t\\t<div class=\"line-list\">\\r\\n\\t\\t\\t\\t\\t<div class=\"line-list-heading\" style=\"background:#016299;\">\\r\\n\\t\\t\\t\\t\\t\\t<div class=\"wrap\">\\r\\n\\t\\t\\t\\t\\t\\t\\t<strong><a href=\"/ditie/map_346.shtml\" target=\"_blank\">北京地铁2号线(外环)线路图</a></strong>\\r\\n\\t\\t\\t\\t\\t\\t\\t\\r\\n\\r\\n\\t\\t\\t\\t\\t\\t\\t\\r\\n\\t\\t\\t\\t\\t\\t\\t\\r\\n\\t\\t\\t\\t\\t\\t\\t<span class=\"total\">\\r\\n\\t\\t\\t\\t\\t\\t\\t<a style=\"color:#016299;\" href=\"/ditie/map_346.shtml\" target=\"_blank\">\\r\\n\\t\\t\\t\\t\\t\\t\\t查看详细\\r\\n\\t\\t\\t\\t\\t\\t\\t</a>\\r\\n\\t\\t\\t\\t\\t\\t\\t</span>\\r\\n\\t\\t\\t\\t\\t\\t\\t\\r\\n\\t\\t\\t\\t\\t\\t</div>\\r\\n\\t\\t\\t\\t\\t\\r\\n\\t\\t\\t\\t\\t</div>\\r\\n\\t\\t\\t\\t\\t<div class=\"line-list-body\">\\r\\n\\t\\t\\t\\t\\t\\t<div class=\"line-list-station\">\\r\\n\\t\\t\\t\\t\\t\\t\\r\\n\\t\\t\\t\\t\\t\\t\\r\\n\\t\\t\\t\\t\\t\\t<div class=\"station\"><div class=\"line-h line-h-346 \"><div class=\"dot-change\"><div class=\"tips\" style=\"display:none;\"><div class=\"tips-info-box\"><div class=\"tips-info-wrap\">你可以在此处换乘 ：&nbsp;<span style=\"color:#fc4349\"> <a href=\"/ditie/xl_198.shtml\">地铁4号线(M4)</a>  <a href=\"/ditie/xl_202.shtml\">地铁13号线(M13)</a> </span></div><span class=\"tips-ico\"><i class=\"i-1\">◆</i><i class=\"i-2\">◆</i></span></div></div></div></div><a class=\"link\" href=\"/ditie/zd_xizhimen.shtml\">西直门</a></div><div class=\"station\"><div class=\"line-h line-h-346 \"><div class=\"dot-change\"><div class=\"tips\" style=\"display:none;\"><div class=\"tips-info-box\"><div class=\"tips-info-wrap\">你可以在此处换乘 ：&nbsp;<span style=\"color:#fc4349\"> <a href=\"/ditie/xl_209.shtml\">地铁6号线</a> </span></div><span class=\"tips-ico\"><i class=\"i-1\">◆</i><i class=\"i-2\">◆</i></span></div></div></div></div><a class=\"link\" href=\"/ditie/zd_chegongzhuang.shtml\">车公庄</a></div><div class=\"station\"><div class=\"line-h line-h-346 \"><span class=\"dot d-346\"></span></div><a href=\"/ditie/zd_fuchengmen.shtml\" class=\"link\" target=\"_blank\">阜成门</a></div><div class=\"station\"><div class=\"line-h line-h-346 \"><div class=\"dot-change\"><div class=\"tips\" style=\"display:none;\"><div class=\"tips-info-box\"><div class=\"tips-info-wrap\">你可以在此处换乘 ：&nbsp;<span style=\"color:#fc4349\"> <a href=\"/ditie/xl_197.shtml\">地铁1号线(M1)</a> </span></div><span class=\"tips-ico\"><i class=\"i-1\">◆</i><i class=\"i-2\">◆</i></span></div></div></div></div><a class=\"link\" href=\"/ditie/zd_fuxinmen.shtml\">复兴门</a></div><div class=\"station\"><div class=\"line-h line-h-346 \"><span class=\"dot d-346\"></span></div><a href=\"/ditie/zd_changchunjie.shtml\" class=\"link\" target=\"_blank\">长椿街</a></div><div class=\"station\"><div class=\"line-h line-h-346 \"><div class=\"dot-change\"><div class=\"tips\" style=\"display:none;\"><div class=\"tips-info-box\"><div class=\"tips-info-wrap\">你可以在此处换乘 ：&nbsp;<span style=\"color:#fc4349\"> <a href=\"/ditie/xl_198.shtml\">地铁4号线(M4)</a> </span></div><span class=\"tips-ico\"><i class=\"i-1\">◆</i><i class=\"i-2\">◆</i></span></div></div></div></div><a class=\"link\" href=\"/ditie/zd_xuanwumen.shtml\">宣武门</a></div><div class=\"station\"><div class=\"line-h line-h-346 \"><span class=\"dot d-346\"></span></div><a href=\"/ditie/zd_hepingmen.shtml\" class=\"link\" target=\"_blank\">和平门</a></div><div class=\"station\"><div class=\"line-h line-h-346 \"><span class=\"dot d-346\"></span></div><a href=\"/ditie/zd_qianmen.shtml\" class=\"link\" target=\"_blank\">前门</a></div><div class=\"station\"><div class=\"line-h line-h-346 \"><div class=\"dot-change\"><div class=\"tips\" style=\"display:none;\"><div class=\"tips-info-box\"><div class=\"tips-info-wrap\">你可以在此处换乘 ：&nbsp;<span style=\"color:#fc4349\"> <a href=\"/ditie/xl_199.shtml\">地铁5号线(M5)</a> </span></div><span class=\"tips-ico\"><i class=\"i-1\">◆</i><i class=\"i-2\">◆</i></span></div></div></div></div><a class=\"link\" href=\"/ditie/zd_chongwenmen.shtml\">崇文门</a></div><div class=\"station\"><div class=\"line-h line-h-346 \"><span class=\"dot d-346\"></span></div><a href=\"/ditie/zd_beijingzhan.shtml\" class=\"link\" target=\"_blank\">北京站</a></div><div class=\"station\"><div class=\"line-h line-h-346 \"><div class=\"dot-change\"><div class=\"tips\" style=\"display:none;\"><div class=\"tips-info-box\"><div class=\"tips-info-wrap\">你可以在此处换乘 ：&nbsp;<span style=\"color:#fc4349\"> <a href=\"/ditie/xl_197.shtml\">地铁1号线(M1)</a> </span></div><span class=\"tips-ico\"><i class=\"i-1\">◆</i><i class=\"i-2\">◆</i></span></div></div></div></div><a class=\"link\" href=\"/ditie/zd_jianguomen.shtml\">建国门</a></div><div class=\"station\"><div class=\"line-h line-h-346 \"><div class=\"dot-change\"><div class=\"tips\" style=\"display:none;\"><div class=\"tips-info-box\"><div class=\"tips-info-wrap\">你可以在此处换乘 ：&nbsp;<span style=\"color:#fc4349\"> <a href=\"/ditie/xl_209.shtml\">地铁6号线</a> </span></div><span class=\"tips-ico\"><i class=\"i-1\">◆</i><i class=\"i-2\">◆</i></span></div></div></div></div><a class=\"link\" href=\"/ditie/zd_chaoyangmen.shtml\">朝阳门</a></div><div class=\"station\"><div class=\"line-h line-h-346 \"><span class=\"dot d-346\"></span></div><a href=\"/ditie/zd_dongsishitiao.shtml\" class=\"link\" target=\"_blank\">东四十条</a></div><div class=\"station\"><div class=\"line-h line-h-346 \"><div class=\"dot-change\"><div class=\"tips\" style=\"display:none;\"><div class=\"tips-info-box\"><div class=\"tips-info-wrap\">你可以在此处换乘 ：&nbsp;<span style=\"color:#fc4349\"> <a href=\"/ditie/xl_202.shtml\">地铁13号线(M13)</a>  <a href=\"/ditie/xl_208.shtml\">地铁机场线(L1)</a> </span></div><span class=\"tips-ico\"><i class=\"i-1\">◆</i><i class=\"i-2\">◆</i></span></div></div></div></div><a class=\"link\" href=\"/ditie/zd_dongzhimen.shtml\">东直门</a></div><div class=\"station\"><div class=\"line-h line-h-346 \"><div class=\"dot-change\"><div class=\"tips\" style=\"display:none;\"><div class=\"tips-info-box\"><div class=\"tips-info-wrap\">你可以在此处换乘 ：&nbsp;<span style=\"color:#fc4349\"> <a href=\"/ditie/xl_199.shtml\">地铁5号线(M5)</a> </span></div><span class=\"tips-ico\"><i class=\"i-1\">◆</i><i class=\"i-2\">◆</i></span></div></div></div></div><a class=\"link\" href=\"/ditie/zd_yonghegong.shtml\">雍和宫</a></div><div class=\"station\"><div class=\"line-h line-h-346 \"><span class=\"dot d-346\"></span></div><a href=\"/ditie/zd_andingmen.shtml\" class=\"link\" target=\"_blank\">安定门</a></div><div class=\"station\"><div class=\"line-h line-h-346 \"><div class=\"dot-change\"><div class=\"tips\" style=\"display:none;\"><div class=\"tips-info-box\"><div class=\"tips-info-wrap\">你可以在此处换乘 ：&nbsp;<span style=\"color:#fc4349\"> <a href=\"/ditie/xl_200.shtml\">地铁8号线(M8)</a> </span></div><span class=\"tips-ico\"><i class=\"i-1\">◆</i><i class=\"i-2\">◆</i></span></div></div></div></div><a class=\"link\" href=\"/ditie/zd_guloudajie.shtml\">鼓楼大街</a></div><div class=\"station\"><div class=\"line-h line-h-346 \"><span class=\"dot d-346\"></span></div><a href=\"/ditie/zd_jishuitan.shtml\" class=\"link\" target=\"_blank\">积水潭</a></div>\\r\\n\\t\\t\\t\\t\\t\\t\\r\\n\\t\\t\\t\\t\\t\\t\\t<div class=\"clearfix\"></div>\\r\\n\\t\\t\\t\\t\\t\\t</div>\\r\\n\\t\\t\\t\\t\\t\\r\\n\\t\\t\\t\\t\\t</div>\\r\\n\\t\\t\\t\\t</div>\\r\\n\\t\\t\\t\\t\\r\\n\\t\\t\\t\\t\\r\\n\\t\\t\\t\\r\\n\\t\\t\\t\\t<div class=\"line-list\">\\r\\n\\t\\t\\t\\t\\t<div class=\"line-list-heading\" style=\"background:#008E9C;\">\\r\\n\\t\\t\\t\\t\\t\\t<div class=\"wrap\">\\r\\n\\t\\t\\t\\t\\t\\t\\t<strong><a href=\"/ditie/map_198.shtml\" target=\"_blank\">北京地铁4号线(M4)线路图</a></strong>\\r\\n\\t\\t\\t\\t\\t\\t\\t\\r\\n\\r\\n\\t\\t\\t\\t\\t\\t\\t\\r\\n\\t\\t\\t\\t\\t\\t\\t\\r\\n\\t\\t\\t\\t\\t\\t\\t<span class=\"total\">\\r\\n\\t\\t\\t\\t\\t\\t\\t<a style=\"color:#008E9C;\" href=\"/ditie/map_198.shtml\" target=\"_blank\">\\r\\n\\t\\t\\t\\t\\t\\t\\t查看详细\\r\\n\\t\\t\\t\\t\\t\\t\\t</a>\\r\\n\\t\\t\\t\\t\\t\\t\\t</span>\\r\\n\\t\\t\\t\\t\\t\\t\\t\\r\\n\\t\\t\\t\\t\\t\\t</div>\\r\\n\\t\\t\\t\\t\\t\\r\\n\\t\\t\\t\\t\\t</div>\\r\\n\\t\\t\\t\\t\\t<div class=\"line-list-body\">\\r\\n\\t\\t\\t\\t\\t\\t<div class=\"line-list-station\">\\r\\n\\t\\t\\t\\t\\t\\t\\r\\n\\t\\t\\t\\t\\t\\t\\r\\n\\t\\t\\t\\t\\t\\t<div class=\"station\"><div class=\"line-h line-h-198 \"><span class=\"dot d-198\"></span></div><a href=\"/ditie/zd_anheqiaobei.shtml\" class=\"link\" target=\"_blank\">安河桥北</a></div><div class=\"station\"><div class=\"line-h line-h-198 \"><span class=\"dot d-198\"></span></div><a href=\"/ditie/zd_beigongmen.shtml\" class=\"link\" target=\"_blank\">北宫门</a></div><div class=\"station\"><div class=\"line-h line-h-198 \"><span class=\"dot d-198\"></span></div><a href=\"/ditie/zd_xiyuan.shtml\" class=\"link\" target=\"_blank\">西苑</a></div><div class=\"station\"><div class=\"line-h line-h-198 \"><span class=\"dot d-198\"></span></div><a href=\"/ditie/zd_yuanmingyuan.shtml\" class=\"link\" target=\"_blank\">圆明园</a></div><div class=\"station\"><div class=\"line-h line-h-198 \"><span class=\"dot d-198\"></span></div><a href=\"/ditie/zd_beijingdaxuedongmen.shtml\" class=\"link\" target=\"_blank\">北京大学东门</a></div><div class=\"station\"><div class=\"line-h line-h-198 \"><span class=\"dot d-198\"></span></div><a href=\"/ditie/zd_zhongguancun.shtml\" class=\"link\" target=\"_blank\">中关村</a></div><div class=\"station\"><div class=\"line-h line-h-198 \"><div class=\"dot-change\"><div class=\"tips\" style=\"display:none;\"><div class=\"tips-info-box\"><div class=\"tips-info-wrap\">你可以在此处换乘 ：&nbsp;<span style=\"color:#fc4349\"> <a href=\"/ditie/xl_212.shtml\">地铁10号线</a> </span></div><span class=\"tips-ico\"><i class=\"i-1\">◆</i><i class=\"i-2\">◆</i></span></div></div></div></div><a class=\"link\" href=\"/ditie/zd_haidianhuangzhuang.shtml\">海淀黄庄</a></div><div class=\"station\"><div class=\"line-h line-h-198 \"><span class=\"dot d-198\"></span></div><a href=\"/ditie/zd_renmindaxue.shtml\" class=\"link\" target=\"_blank\">人民大学</a></div><div class=\"station\"><div class=\"line-h line-h-198 \"><span class=\"dot d-198\"></span></div><a href=\"/ditie/zd_weigongcun.shtml\" class=\"link\" target=\"_blank\">魏公村</a></div><div class=\"station\"><div class=\"line-h line-h-198 \"><div class=\"dot-change\"><div class=\"tips\" style=\"display:none;\"><div class=\"tips-info-box\"><div class=\"tips-info-wrap\">你可以在此处换乘 ：&nbsp;<span style=\"color:#fc4349\"> <a href=\"/ditie/xl_201.shtml\">地铁9号线(M9)</a> </span></div><span class=\"tips-ico\"><i class=\"i-1\">◆</i><i class=\"i-2\">◆</i></span></div></div></div></div><a class=\"link\" href=\"/ditie/zd_guojiatushuguan.shtml\">国家图书馆</a></div><div class=\"station\"><div class=\"line-h line-h-198 \"><span class=\"dot d-198\"></span></div><a href=\"/ditie/zd_dongwuyuan.shtml\" class=\"link\" target=\"_blank\">动物园</a></div><div class=\"station\"><div class=\"line-h line-h-198 \"><div class=\"dot-change\"><div class=\"tips\" style=\"display:none;\"><div class=\"tips-info-box\"><div class=\"tips-info-wrap\">你可以在此处换乘 ：&nbsp;<span style=\"color:#fc4349\"> <a href=\"/ditie/xl_211.shtml\">地铁2号线(内环)</a>  <a href=\"/ditie/xl_202.shtml\">地铁13号线(M13)</a> </span></div><span class=\"tips-ico\"><i class=\"i-1\">◆</i><i class=\"i-2\">◆</i></span></div></div></div></div><a class=\"link\" href=\"/ditie/zd_xizhimen.shtml\">西直门</a></div><div class=\"station\"><div class=\"line-h line-h-198 \"><span class=\"dot d-198\"></span></div><a href=\"/ditie/zd_xinjiekou.shtml\" class=\"link\" target=\"_blank\">新街口</a></div><div class=\"station\"><div class=\"line-h line-h-198 \"><div class=\"dot-change\"><div class=\"tips\" style=\"display:none;\"><div class=\"tips-info-box\"><div class=\"tips-info-wrap\">你可以在此处换乘 ：&nbsp;<span style=\"color:#fc4349\"> <a href=\"/ditie/xl_209.shtml\">地铁6号线</a> </span></div><span class=\"tips-ico\"><i class=\"i-1\">◆</i><i class=\"i-2\">◆</i></span></div></div></div></div><a class=\"link\" href=\"/ditie/zd_pinganli.shtml\">平安里</a></div><div class=\"station\"><div class=\"line-h line-h-198 \"><span class=\"dot d-198\"></span></div><a href=\"/ditie/zd_xisi.shtml\" class=\"link\" target=\"_blank\">西四</a></div><div class=\"station\"><div class=\"line-h line-h-198 \"><span class=\"dot d-198\"></span></div><a href=\"/ditie/zd_lingjinghutong.shtml\" class=\"link\" target=\"_blank\">灵境胡同</a></div><div class=\"station\"><div class=\"line-h line-h-198 \"><div class=\"dot-change\"><div class=\"tips\" style=\"display:none;\"><div class=\"tips-info-box\"><div class=\"tips-info-wrap\">你可以在此处换乘 ：&nbsp;<span style=\"color:#fc4349\"> <a href=\"/ditie/xl_197.shtml\">地铁1号线(M1)</a> </span></div><span class=\"tips-ico\"><i class=\"i-1\">◆</i><i class=\"i-2\">◆</i></span></div></div></div></div><a class=\"link\" href=\"/ditie/zd_xidan.shtml\">西单</a></div><div class=\"station\"><div class=\"line-h line-h-198 \"><div class=\"dot-change\"><div class=\"tips\" style=\"display:none;\"><div class=\"tips-info-box\"><div class=\"tips-info-wrap\">你可以在此处换乘 ：&nbsp;<span style=\"color:#fc4349\"> <a href=\"/ditie/xl_211.shtml\">地铁2号线(内环)</a> </span></div><span class=\"tips-ico\"><i class=\"i-1\">◆</i><i class=\"i-2\">◆</i></span></div></div></div></div><a class=\"link\" href=\"/ditie/zd_xuanwumen.shtml\">宣武门</a></div><div class=\"station\"><div class=\"line-h line-h-198 \"><span class=\"dot d-198\"></span></div><a href=\"/ditie/zd_caishikou.shtml\" class=\"link\" target=\"_blank\">菜市口</a></div><div class=\"station\"><div class=\"line-h line-h-198 \"><span class=\"dot d-198\"></span></div><a href=\"/ditie/zd_taoranting.shtml\" class=\"link\" target=\"_blank\">陶然亭</a></div><div class=\"station\"><div class=\"line-h line-h-198 \"><span class=\"dot d-198\"></span></div><a href=\"/ditie/zd_beijingnanzhan.shtml\" class=\"link\" target=\"_blank\">北京南站</a></div><div class=\"station\"><div class=\"line-h line-h-198 \"><span class=\"dot d-198\"></span></div><a href=\"/ditie/zd_majiabao.shtml\" class=\"link\" target=\"_blank\">马家堡</a></div><div class=\"station\"><div class=\"line-h line-h-198 \"><div class=\"dot-change\"><div class=\"tips\" style=\"display:none;\"><div class=\"tips-info-box\"><div class=\"tips-info-wrap\">你可以在此处换乘 ：&nbsp;<span style=\"color:#fc4349\"> <a href=\"/ditie/xl_212.shtml\">地铁10号线</a> </span></div><span class=\"tips-ico\"><i class=\"i-1\">◆</i><i class=\"i-2\">◆</i></span></div></div></div></div><a class=\"link\" href=\"/ditie/zd_jiaomenxi.shtml\">角门西</a></div><div class=\"station\"><div class=\"line-h line-h-198 \"><span class=\"dot d-198\"></span></div><a href=\"/ditie/zd_gongyixiqiao.shtml\" class=\"link\" target=\"_blank\">公益西桥</a></div><div class=\"station\"><div class=\"line-h line-h-198 \"><span class=\"dot d-198\"></span></div><a href=\"/ditie/zd_xingong.shtml\" class=\"link\" target=\"_blank\">新宫</a></div><div class=\"station\"><div class=\"line-h line-h-198 \"><span class=\"dot d-198\"></span></div><a href=\"/ditie/zd_xihongmen.shtml\" class=\"link\" target=\"_blank\">西红门</a></div><div class=\"station\"><div class=\"line-h line-h-198 \"><span class=\"dot d-198\"></span></div><a href=\"/ditie/zd_gaomidianbei.shtml\" class=\"link\" target=\"_blank\">高米店北</a></div><div class=\"station\"><div class=\"line-h line-h-198 \"><span class=\"dot d-198\"></span></div><a href=\"/ditie/zd_gaomidiannan.shtml\" class=\"link\" target=\"_blank\">高米店南</a></div><div class=\"station\"><div class=\"line-h line-h-198 \"><span class=\"dot d-198\"></span></div><a href=\"/ditie/zd_zaoyuan.shtml\" class=\"link\" target=\"_blank\">枣园</a></div><div class=\"station\"><div class=\"line-h line-h-198 \"><span class=\"dot d-198\"></span></div><a href=\"/ditie/zd_qingyuanlu.shtml\" class=\"link\" target=\"_blank\">清源路</a></div><div class=\"station\"><div class=\"line-h line-h-198 \"><span class=\"dot d-198\"></span></div><a href=\"/ditie/zd_huangcunxidajie.shtml\" class=\"link\" target=\"_blank\">黄村西大街</a></div><div class=\"station\"><div class=\"line-h line-h-198 \"><span class=\"dot d-198\"></span></div><a href=\"/ditie/zd_huangcunhuochezhan.shtml\" class=\"link\" target=\"_blank\">黄村火车站</a></div><div class=\"station\"><div class=\"line-h line-h-198 \"><span class=\"dot d-198\"></span></div><a href=\"/ditie/zd_yihezhuang.shtml\" class=\"link\" target=\"_blank\">义和庄</a></div><div class=\"station\"><div class=\"line-h line-h-198 \"><span class=\"dot d-198\"></span></div><a href=\"/ditie/zd_shengwuyiyaojidi.shtml\" class=\"link\" target=\"_blank\">生物医药基地</a></div><div class=\"station\"><div class=\"line-h line-h-198 \"><span class=\"dot d-198\"></span></div><a href=\"/ditie/zd_tiangongyuan.shtml\" class=\"link\" target=\"_blank\">天宫院</a></div>\\r\\n\\t\\t\\t\\t\\t\\t\\r\\n\\t\\t\\t\\t\\t\\t\\t<div class=\"clearfix\"></div>\\r\\n\\t\\t\\t\\t\\t\\t</div>\\r\\n\\t\\t\\t\\t\\t\\r\\n\\t\\t\\t\\t\\t</div>\\r\\n\\t\\t\\t\\t</div>\\r\\n\\t\\t\\t\\t\\r\\n\\t\\t\\t\\t\\r\\n\\t\\t\\t\\r\\n\\t\\t\\t\\t<div class=\"line-list\">\\r\\n\\t\\t\\t\\t\\t<div class=\"line-list-heading\" style=\"background:#A42380;\">\\r\\n\\t\\t\\t\\t\\t\\t<div class=\"wrap\">\\r\\n\\t\\t\\t\\t\\t\\t\\t<strong><a href=\"/ditie/map_199.shtml\" target=\"_blank\">北京地铁5号线(M5)线路图</a></strong>\\r\\n\\t\\t\\t\\t\\t\\t\\t\\r\\n\\r\\n\\t\\t\\t\\t\\t\\t\\t\\r\\n\\t\\t\\t\\t\\t\\t\\t\\r\\n\\t\\t\\t\\t\\t\\t\\t<span class=\"total\">\\r\\n\\t\\t\\t\\t\\t\\t\\t<a style=\"color:#A42380;\" href=\"/ditie/map_199.shtml\" target=\"_blank\">\\r\\n\\t\\t\\t\\t\\t\\t\\t查看详细\\r\\n\\t\\t\\t\\t\\t\\t\\t</a>\\r\\n\\t\\t\\t\\t\\t\\t\\t</span>\\r\\n\\t\\t\\t\\t\\t\\t\\t\\r\\n\\t\\t\\t\\t\\t\\t</div>\\r\\n\\t\\t\\t\\t\\t\\r\\n\\t\\t\\t\\t\\t</div>\\r\\n\\t\\t\\t\\t\\t<div class=\"line-list-body\">\\r\\n\\t\\t\\t\\t\\t\\t<div class=\"line-list-station\">\\r\\n\\t\\t\\t\\t\\t\\t\\r\\n\\t\\t\\t\\t\\t\\t\\r\\n\\t\\t\\t\\t\\t\\t<div class=\"station\"><div class=\"line-h line-h-199 \"><div class=\"dot-change\"><div class=\"tips\" style=\"display:none;\"><div class=\"tips-info-box\"><div class=\"tips-info-wrap\">你可以在此处换乘 ：&nbsp;<span style=\"color:#fc4349\"> <a href=\"/ditie/xl_212.shtml\">地铁10号线</a>  <a href=\"/ditie/xl_207.shtml\">地铁亦庄线</a> </span></div><span class=\"tips-ico\"><i class=\"i-1\">◆</i><i class=\"i-2\">◆</i></span></div></div></div></div><a class=\"link\" href=\"/ditie/zd_songjiazhuang.shtml\">宋家庄</a></div><div class=\"station\"><div class=\"line-h line-h-199 \"><span class=\"dot d-199\"></span></div><a href=\"/ditie/zd_liujiayao.shtml\" class=\"link\" target=\"_blank\">刘家窑</a></div><div class=\"station\"><div class=\"line-h line-h-199 \"><span class=\"dot d-199\"></span></div><a href=\"/ditie/zd_puhuangyu.shtml\" class=\"link\" target=\"_blank\">蒲黄榆</a></div><div class=\"station\"><div class=\"line-h line-h-199 \"><span class=\"dot d-199\"></span></div><a href=\"/ditie/zd_tiantandongmen.shtml\" class=\"link\" target=\"_blank\">天坛东门</a></div><div class=\"station\"><div class=\"line-h line-h-199 \"><div class=\"dot-change\"><div class=\"tips\" style=\"display:none;\"><div class=\"tips-info-box\"><div class=\"tips-info-wrap\">你可以在此处换乘 ：&nbsp;<span style=\"color:#fc4349\"> <a href=\"/ditie/xl_253.shtml\">地铁7号线</a> </span></div><span class=\"tips-ico\"><i class=\"i-1\">◆</i><i class=\"i-2\">◆</i></span></div></div></div></div><a class=\"link\" href=\"/ditie/zd_ciqikou.shtml\">磁器口</a></div><div class=\"station\"><div class=\"line-h line-h-199 \"><div class=\"dot-change\"><div class=\"tips\" style=\"display:none;\"><div class=\"tips-info-box\"><div class=\"tips-info-wrap\">你可以在此处换乘 ：&nbsp;<span style=\"color:#fc4349\"> <a href=\"/ditie/xl_211.shtml\">地铁2号线(内环)</a> </span></div><span class=\"tips-ico\"><i class=\"i-1\">◆</i><i class=\"i-2\">◆</i></span></div></div></div></div><a class=\"link\" href=\"/ditie/zd_chongwenmen.shtml\">崇文门</a></div><div class=\"station\"><div class=\"line-h line-h-199 \"><div class=\"dot-change\"><div class=\"tips\" style=\"display:none;\"><div class=\"tips-info-box\"><div class=\"tips-info-wrap\">你可以在此处换乘 ：&nbsp;<span style=\"color:#fc4349\"> <a href=\"/ditie/xl_197.shtml\">地铁1号线(M1)</a> </span></div><span class=\"tips-ico\"><i class=\"i-1\">◆</i><i class=\"i-2\">◆</i></span></div></div></div></div><a class=\"link\" href=\"/ditie/zd_dongdan.shtml\">东单</a></div><div class=\"station\"><div class=\"line-h line-h-199 \"><span class=\"dot d-199\"></span></div><a href=\"/ditie/zd_dengshikou.shtml\" class=\"link\" target=\"_blank\">灯市口</a></div><div class=\"station\"><div class=\"line-h line-h-199 \"><div class=\"dot-change\"><div class=\"tips\" style=\"display:none;\"><div class=\"tips-info-box\"><div class=\"tips-info-wrap\">你可以在此处换乘 ：&nbsp;<span style=\"color:#fc4349\"> <a href=\"/ditie/xl_209.shtml\">地铁6号线</a> </span></div><span class=\"tips-ico\"><i class=\"i-1\">◆</i><i class=\"i-2\">◆</i></span></div></div></div></div><a class=\"link\" href=\"/ditie/zd_dongsi.shtml\">东四</a></div><div class=\"station\"><div class=\"line-h line-h-199 \"><span class=\"dot d-199\"></span></div><a href=\"/ditie/zd_zhangzizhonglu.shtml\" class=\"link\" target=\"_blank\">张自忠路</a></div><div class=\"station\"><div class=\"line-h line-h-199 \"><span class=\"dot d-199\"></span></div><a href=\"/ditie/zd_beixinqiao.shtml\" class=\"link\" target=\"_blank\">北新桥</a></div><div class=\"station\"><div class=\"line-h line-h-199 \"><div class=\"dot-change\"><div class=\"tips\" style=\"display:none;\"><div class=\"tips-info-box\"><div class=\"tips-info-wrap\">你可以在此处换乘 ：&nbsp;<span style=\"color:#fc4349\"> <a href=\"/ditie/xl_211.shtml\">地铁2号线(内环)</a> </span></div><span class=\"tips-ico\"><i class=\"i-1\">◆</i><i class=\"i-2\">◆</i></span></div></div></div></div><a class=\"link\" href=\"/ditie/zd_yonghegong.shtml\">雍和宫</a></div><div class=\"station\"><div class=\"line-h line-h-199 \"><span class=\"dot d-199\"></span></div><a href=\"/ditie/zd_hepinglibeijie.shtml\" class=\"link\" target=\"_blank\">和平里北街</a></div><div class=\"station\"><div class=\"line-h line-h-199 \"><span class=\"dot d-199\"></span></div><a href=\"/ditie/zd_hepingxiqiao.shtml\" class=\"link\" target=\"_blank\">和平西桥</a></div><div class=\"station\"><div class=\"line-h line-h-199 \"><div class=\"dot-change\"><div class=\"tips\" style=\"display:none;\"><div class=\"tips-info-box\"><div class=\"tips-info-wrap\">你可以在此处换乘 ：&nbsp;<span style=\"color:#fc4349\"> <a href=\"/ditie/xl_212.shtml\">地铁10号线</a> </span></div><span class=\"tips-ico\"><i class=\"i-1\">◆</i><i class=\"i-2\">◆</i></span></div></div></div></div><a class=\"link\" href=\"/ditie/zd_huixinxijienankou.shtml\">惠新西街南口</a></div><div class=\"station\"><div class=\"line-h line-h-199 \"><span class=\"dot d-199\"></span></div><a href=\"/ditie/zd_huixinxijiebeikou.shtml\" class=\"link\" target=\"_blank\">惠新西街北口</a></div><div class=\"station\"><div class=\"line-h line-h-199 \"><span class=\"dot d-199\"></span></div><a href=\"/ditie/zd_datunludong.shtml\" class=\"link\" target=\"_blank\">大屯路东</a></div><div class=\"station\"><div class=\"line-h line-h-199 \"><span class=\"dot d-199\"></span></div><a href=\"/ditie/zd_beiyuanlubei.shtml\" class=\"link\" target=\"_blank\">北苑路北</a></div><div class=\"station\"><div class=\"line-h line-h-199 \"><span class=\"dot d-199\"></span></div><a href=\"/ditie/zd_lishuiqiaonan.shtml\" class=\"link\" target=\"_blank\">立水桥南</a></div><div class=\"station\"><div class=\"line-h line-h-199 \"><div class=\"dot-change\"><div class=\"tips\" style=\"display:none;\"><div class=\"tips-info-box\"><div class=\"tips-info-wrap\">你可以在此处换乘 ：&nbsp;<span style=\"color:#fc4349\"> <a href=\"/ditie/xl_202.shtml\">地铁13号线(M13)</a> </span></div><span class=\"tips-ico\"><i class=\"i-1\">◆</i><i class=\"i-2\">◆</i></span></div></div></div></div><a class=\"link\" href=\"/ditie/zd_lishuiqiao.shtml\">立水桥</a></div><div class=\"station\"><div class=\"line-h line-h-199 \"><span class=\"dot d-199\"></span></div><a href=\"/ditie/zd_tiantongyuannan.shtml\" class=\"link\" target=\"_blank\">天通苑南</a></div><div class=\"station\"><div class=\"line-h line-h-199 \"><span class=\"dot d-199\"></span></div><a href=\"/ditie/zd_tiantongyuan.shtml\" class=\"link\" target=\"_blank\">天通苑</a></div><div class=\"station\"><div class=\"line-h line-h-199 \"><span class=\"dot d-199\"></span></div><a href=\"/ditie/zd_tiantongyuanbei.shtml\" class=\"link\" target=\"_blank\">天通苑北</a></div>\\r\\n\\t\\t\\t\\t\\t\\t\\r\\n\\t\\t\\t\\t\\t\\t\\t<div class=\"clearfix\"></div>\\r\\n\\t\\t\\t\\t\\t\\t</div>\\r\\n\\t\\t\\t\\t\\t\\r\\n\\t\\t\\t\\t\\t</div>\\r\\n\\t\\t\\t\\t</div>\\r\\n\\t\\t\\t\\t\\r\\n\\t\\t\\t\\t\\r\\n\\t\\t\\t\\r\\n\\t\\t\\t\\t<div class=\"line-list\">\\r\\n\\t\\t\\t\\t\\t<div class=\"line-list-heading\" style=\"background:#D09900;\">\\r\\n\\t\\t\\t\\t\\t\\t<div class=\"wrap\">\\r\\n\\t\\t\\t\\t\\t\\t\\t<strong><a href=\"/ditie/map_209.shtml\" target=\"_blank\">北京地铁6号线线路图</a></strong>\\r\\n\\t\\t\\t\\t\\t\\t\\t\\r\\n\\r\\n\\t\\t\\t\\t\\t\\t\\t\\r\\n\\t\\t\\t\\t\\t\\t\\t\\r\\n\\t\\t\\t\\t\\t\\t\\t<span class=\"total\">\\r\\n\\t\\t\\t\\t\\t\\t\\t<a style=\"color:#D09900;\" href=\"/ditie/map_209.shtml\" target=\"_blank\">\\r\\n\\t\\t\\t\\t\\t\\t\\t查看详细\\r\\n\\t\\t\\t\\t\\t\\t\\t</a>\\r\\n\\t\\t\\t\\t\\t\\t\\t</span>\\r\\n\\t\\t\\t\\t\\t\\t\\t\\r\\n\\t\\t\\t\\t\\t\\t</div>\\r\\n\\t\\t\\t\\t\\t\\r\\n\\t\\t\\t\\t\\t</div>\\r\\n\\t\\t\\t\\t\\t<div class=\"line-list-body\">\\r\\n\\t\\t\\t\\t\\t\\t<div class=\"line-list-station\">\\r\\n\\t\\t\\t\\t\\t\\t\\r\\n\\t\\t\\t\\t\\t\\t\\r\\n\\t\\t\\t\\t\\t\\t<div class=\"station\"><div class=\"line-h line-h-209 \"><span class=\"dot d-209\"></span></div><a href=\"/ditie/zd_haidianwuluju.shtml\" class=\"link\" target=\"_blank\">海淀五路居</a></div><div class=\"station\"><div class=\"line-h line-h-209 \"><div class=\"dot-change\"><div class=\"tips\" style=\"display:none;\"><div class=\"tips-info-box\"><div class=\"tips-info-wrap\">你可以在此处换乘 ：&nbsp;<span style=\"color:#fc4349\"> <a href=\"/ditie/xl_212.shtml\">地铁10号线</a> </span></div><span class=\"tips-ico\"><i class=\"i-1\">◆</i><i class=\"i-2\">◆</i></span></div></div></div></div><a class=\"link\" href=\"/ditie/zd_cishousi.shtml\">慈寿寺</a></div><div class=\"station\"><div class=\"line-h line-h-209 \"><span class=\"dot d-209\"></span></div><a href=\"/ditie/zd_huayuanqiao.shtml\" class=\"link\" target=\"_blank\">花园桥</a></div><div class=\"station\"><div class=\"line-h line-h-209 \"><div class=\"dot-change\"><div class=\"tips\" style=\"display:none;\"><div class=\"tips-info-box\"><div class=\"tips-info-wrap\">你可以在此处换乘 ：&nbsp;<span style=\"color:#fc4349\"> <a href=\"/ditie/xl_201.shtml\">地铁9号线(M9)</a> </span></div><span class=\"tips-ico\"><i class=\"i-1\">◆</i><i class=\"i-2\">◆</i></span></div></div></div></div><a class=\"link\" href=\"/ditie/zd_baishiqiaonan.shtml\">白石桥南</a></div><div class=\"station\"><div class=\"line-h line-h-209 \"><span class=\"dot d-209\"></span></div><a href=\"/ditie/zd_chegongzhuangxi.shtml\" class=\"link\" target=\"_blank\">车公庄西</a></div><div class=\"station\"><div class=\"line-h line-h-209 \"><div class=\"dot-change\"><div class=\"tips\" style=\"display:none;\"><div class=\"tips-info-box\"><div class=\"tips-info-wrap\">你可以在此处换乘 ：&nbsp;<span style=\"color:#fc4349\"> <a href=\"/ditie/xl_211.shtml\">地铁2号线(内环)</a> </span></div><span class=\"tips-ico\"><i class=\"i-1\">◆</i><i class=\"i-2\">◆</i></span></div></div></div></div><a class=\"link\" href=\"/ditie/zd_chegongzhuang.shtml\">车公庄</a></div><div class=\"station\"><div class=\"line-h line-h-209 \"><div class=\"dot-change\"><div class=\"tips\" style=\"display:none;\"><div class=\"tips-info-box\"><div class=\"tips-info-wrap\">你可以在此处换乘 ：&nbsp;<span style=\"color:#fc4349\"> <a href=\"/ditie/xl_198.shtml\">地铁4号线(M4)</a> </span></div><span class=\"tips-ico\"><i class=\"i-1\">◆</i><i class=\"i-2\">◆</i></span></div></div></div></div><a class=\"link\" href=\"/ditie/zd_pinganli.shtml\">平安里</a></div><div class=\"station\"><div class=\"line-h line-h-209 \"><span class=\"dot d-209\"></span></div><a href=\"/ditie/zd_beihaibei.shtml\" class=\"link\" target=\"_blank\">北海北</a></div><div class=\"station\"><div class=\"line-h line-h-209 \"><div class=\"dot-change\"><div class=\"tips\" style=\"display:none;\"><div class=\"tips-info-box\"><div class=\"tips-info-wrap\">你可以在此处换乘 ：&nbsp;<span style=\"color:#fc4349\"> <a href=\"/ditie/xl_200.shtml\">地铁8号线(M8)</a> </span></div><span class=\"tips-ico\"><i class=\"i-1\">◆</i><i class=\"i-2\">◆</i></span></div></div></div></div><a class=\"link\" href=\"/ditie/zd_nanluoguxiang.shtml\">南锣鼓巷</a></div><div class=\"station\"><div class=\"line-h line-h-209 \"><div class=\"dot-change\"><div class=\"tips\" style=\"display:none;\"><div class=\"tips-info-box\"><div class=\"tips-info-wrap\">你可以在此处换乘 ：&nbsp;<span style=\"color:#fc4349\"> <a href=\"/ditie/xl_199.shtml\">地铁5号线(M5)</a> </span></div><span class=\"tips-ico\"><i class=\"i-1\">◆</i><i class=\"i-2\">◆</i></span></div></div></div></div><a class=\"link\" href=\"/ditie/zd_dongsi.shtml\">东四</a></div><div class=\"station\"><div class=\"line-h line-h-209 \"><div class=\"dot-change\"><div class=\"tips\" style=\"display:none;\"><div class=\"tips-info-box\"><div class=\"tips-info-wrap\">你可以在此处换乘 ：&nbsp;<span style=\"color:#fc4349\"> <a href=\"/ditie/xl_211.shtml\">地铁2号线(内环)</a> </span></div><span class=\"tips-ico\"><i class=\"i-1\">◆</i><i class=\"i-2\">◆</i></span></div></div></div></div><a class=\"link\" href=\"/ditie/zd_chaoyangmen.shtml\">朝阳门</a></div><div class=\"station\"><div class=\"line-h line-h-209 \"><span class=\"dot d-209\"></span></div><a href=\"/ditie/zd_dongdaqiao.shtml\" class=\"link\" target=\"_blank\">东大桥</a></div><div class=\"station\"><div class=\"line-h line-h-209 \"><div class=\"dot-change\"><div class=\"tips\" style=\"display:none;\"><div class=\"tips-info-box\"><div class=\"tips-info-wrap\">你可以在此处换乘 ：&nbsp;<span style=\"color:#fc4349\"> <a href=\"/ditie/xl_212.shtml\">地铁10号线</a> </span></div><span class=\"tips-ico\"><i class=\"i-1\">◆</i><i class=\"i-2\">◆</i></span></div></div></div></div><a class=\"link\" href=\"/ditie/zd_hujialou.shtml\">呼家楼</a></div><div class=\"station\"><div class=\"line-h line-h-209 \"><span class=\"dot d-209\"></span></div><a href=\"/ditie/zd_jintailu.shtml\" class=\"link\" target=\"_blank\">金台路</a></div><div class=\"station\"><div class=\"line-h line-h-209 \"><span class=\"dot d-209\"></span></div><a href=\"/ditie/zd_shilibao.shtml\" class=\"link\" target=\"_blank\">十里堡</a></div><div class=\"station\"><div class=\"line-h line-h-209 \"><span class=\"dot d-209\"></span></div><a href=\"/ditie/zd_kemnianlu.shtml\" class=\"link\" target=\"_blank\">青年路</a></div><div class=\"station\"><div class=\"line-h line-h-209 \"><span class=\"dot d-209\"></span></div><a href=\"/ditie/zd_dalianpo.shtml\" class=\"link\" target=\"_blank\">褡裢坡</a></div><div class=\"station\"><div class=\"line-h line-h-209 \"><span class=\"dot d-209\"></span></div><a href=\"/ditie/zd_huangqu.shtml\" class=\"link\" target=\"_blank\">黄渠</a></div><div class=\"station\"><div class=\"line-h line-h-209 \"><span class=\"dot d-209\"></span></div><a href=\"/ditie/zd_changying.shtml\" class=\"link\" target=\"_blank\">常营</a></div><div class=\"station\"><div class=\"line-h line-h-209 \"><span class=\"dot d-209\"></span></div><a href=\"/ditie/zd_caofang.shtml\" class=\"link\" target=\"_blank\">草房</a></div><div class=\"station\"><div class=\"line-h line-h-209 \"><span class=\"dot d-209\"></span></div><a href=\"/ditie/zd_wuzixueyuanlu.shtml\" class=\"link\" target=\"_blank\">物资学院路</a></div><div class=\"station\"><div class=\"line-h line-h-209 \"><span class=\"dot d-209\"></span></div><a href=\"/ditie/zd_tongzhoubeiguan.shtml\" class=\"link\" target=\"_blank\">通州北关</a></div><div class=\"station\"><div class=\"line-h line-h-209 \"><span class=\"dot d-209\"></span></div><a href=\"/ditie/zd_beiyunhexi.shtml\" class=\"link\" target=\"_blank\">北运河西</a></div><div class=\"station\"><div class=\"line-h line-h-209 \"><span class=\"dot d-209\"></span></div><a href=\"/ditie/zd_haojiafu.shtml\" class=\"link\" target=\"_blank\">郝家府</a></div><div class=\"station\"><div class=\"line-h line-h-209 \"><span class=\"dot d-209\"></span></div><a href=\"/ditie/zd_dongxiayuan.shtml\" class=\"link\" target=\"_blank\">东夏园</a></div><div class=\"station\"><div class=\"line-h line-h-209 \"><span class=\"dot d-209\"></span></div><a href=\"/ditie/zd_lucheng.shtml\" class=\"link\" target=\"_blank\">潞城</a></div>\\r\\n\\t\\t\\t\\t\\t\\t\\r\\n\\t\\t\\t\\t\\t\\t\\t<div class=\"clearfix\"></div>\\r\\n\\t\\t\\t\\t\\t\\t</div>\\r\\n\\t\\t\\t\\t\\t\\r\\n\\t\\t\\t\\t\\t</div>\\r\\n\\t\\t\\t\\t</div>\\r\\n\\t\\t\\t\\t\\r\\n\\t\\t\\t\\t\\r\\n\\t\\t\\t\\r\\n\\t\\t\\t\\t<div class=\"line-list\">\\r\\n\\t\\t\\t\\t\\t<div class=\"line-list-heading\" style=\"background:#F2C172;\">\\r\\n\\t\\t\\t\\t\\t\\t<div class=\"wrap\">\\r\\n\\t\\t\\t\\t\\t\\t\\t<strong><a href=\"/ditie/map_253.shtml\" target=\"_blank\">北京地铁7号线线路图</a></strong>\\r\\n\\t\\t\\t\\t\\t\\t\\t\\r\\n\\r\\n\\t\\t\\t\\t\\t\\t\\t\\r\\n\\t\\t\\t\\t\\t\\t\\t\\r\\n\\t\\t\\t\\t\\t\\t\\t<span class=\"total\">\\r\\n\\t\\t\\t\\t\\t\\t\\t<a style=\"color:#F2C172;\" href=\"/ditie/map_253.shtml\" target=\"_blank\">\\r\\n\\t\\t\\t\\t\\t\\t\\t查看详细\\r\\n\\t\\t\\t\\t\\t\\t\\t</a>\\r\\n\\t\\t\\t\\t\\t\\t\\t</span>\\r\\n\\t\\t\\t\\t\\t\\t\\t\\r\\n\\t\\t\\t\\t\\t\\t</div>\\r\\n\\t\\t\\t\\t\\t\\r\\n\\t\\t\\t\\t\\t</div>\\r\\n\\t\\t\\t\\t\\t<div class=\"line-list-body\">\\r\\n\\t\\t\\t\\t\\t\\t<div class=\"line-list-station\">\\r\\n\\t\\t\\t\\t\\t\\t\\r\\n\\t\\t\\t\\t\\t\\t\\r\\n\\t\\t\\t\\t\\t\\t<div class=\"station\"><div class=\"line-h line-h-253 \"><div class=\"dot-change\"><div class=\"tips\" style=\"display:none;\"><div class=\"tips-info-box\"><div class=\"tips-info-wrap\">你可以在此处换乘 ：&nbsp;<span style=\"color:#fc4349\"> <a href=\"/ditie/xl_201.shtml\">地铁9号线(M9)</a> </span></div><span class=\"tips-ico\"><i class=\"i-1\">◆</i><i class=\"i-2\">◆</i></span></div></div></div></div><a class=\"link\" href=\"/ditie/zd_beijingxizhan.shtml\">北京西站</a></div><div class=\"station\"><div class=\"line-h line-h-253 \"><span class=\"dot d-253\"></span></div><a href=\"/ditie/zd_wanzi.shtml\" class=\"link\" target=\"_blank\">湾子</a></div><div class=\"station\"><div class=\"line-h line-h-253 \"><span class=\"dot d-253\"></span></div><a href=\"/ditie/zd_daguanying.shtml\" class=\"link\" target=\"_blank\">达官营</a></div><div class=\"station\"><div class=\"line-h line-h-253 \"><span class=\"dot d-253\"></span></div><a href=\"/ditie/zd_guanganmennei.shtml\" class=\"link\" target=\"_blank\">广安门内</a></div><div class=\"station\"><div class=\"line-h line-h-253 \"><div class=\"dot-change\"><div class=\"tips\" style=\"display:none;\"><div class=\"tips-info-box\"><div class=\"tips-info-wrap\">你可以在此处换乘 ：&nbsp;<span style=\"color:#fc4349\"> <a href=\"/ditie/xl_198.shtml\">地铁4号线(M4)</a> </span></div><span class=\"tips-ico\"><i class=\"i-1\">◆</i><i class=\"i-2\">◆</i></span></div></div></div></div><a class=\"link\" href=\"/ditie/zd_caishikou.shtml\">菜市口</a></div><div class=\"station\"><div class=\"line-h line-h-253 \"><span class=\"dot d-253\"></span></div><a href=\"/ditie/zd_hufangqiao.shtml\" class=\"link\" target=\"_blank\">虎坊桥</a></div><div class=\"station\"><div class=\"line-h line-h-253 \"><span class=\"dot d-253\"></span></div><a href=\"/ditie/zd_zhushikou.shtml\" class=\"link\" target=\"_blank\">珠市口</a></div><div class=\"station\"><div class=\"line-h line-h-253 \"><span class=\"dot d-253\"></span></div><a href=\"/ditie/zd_qiaowan.shtml\" class=\"link\" target=\"_blank\">桥湾</a></div><div class=\"station\"><div class=\"line-h line-h-253 \"><div class=\"dot-change\"><div class=\"tips\" style=\"display:none;\"><div class=\"tips-info-box\"><div class=\"tips-info-wrap\">你可以在此处换乘 ：&nbsp;<span style=\"color:#fc4349\"> <a href=\"/ditie/xl_199.shtml\">地铁5号线(M5)</a> </span></div><span class=\"tips-ico\"><i class=\"i-1\">◆</i><i class=\"i-2\">◆</i></span></div></div></div></div><a class=\"link\" href=\"/ditie/zd_ciqikou.shtml\">磁器口</a></div><div class=\"station\"><div class=\"line-h line-h-253 \"><span class=\"dot d-253\"></span></div><a href=\"/ditie/zd_guangqumennei.shtml\" class=\"link\" target=\"_blank\">广渠门内</a></div><div class=\"station\"><div class=\"line-h line-h-253 \"><span class=\"dot d-253\"></span></div><a href=\"/ditie/zd_guangqumenwai.shtml\" class=\"link\" target=\"_blank\">广渠门外</a></div><div class=\"station\"><div class=\"line-h line-h-253 \"><div class=\"dot-change\"><div class=\"tips\" style=\"display:none;\"><div class=\"tips-info-box\"><div class=\"tips-info-wrap\">你可以在此处换乘 ：&nbsp;<span style=\"color:#fc4349\"> <a href=\"/ditie/xl_212.shtml\">地铁10号线</a> </span></div><span class=\"tips-ico\"><i class=\"i-1\">◆</i><i class=\"i-2\">◆</i></span></div></div></div></div><a class=\"link\" href=\"/ditie/zd_shuangjing.shtml\">双井</a></div><div class=\"station\"><div class=\"line-h line-h-253 \"><span class=\"dot d-253\"></span></div><a href=\"/ditie/zd_jiulongshan.shtml\" class=\"link\" target=\"_blank\">九龙山</a></div><div class=\"station\"><div class=\"line-h line-h-253 \"><span class=\"dot d-253\"></span></div><a href=\"/ditie/zd_dajiaoting.shtml\" class=\"link\" target=\"_blank\">大郊亭</a></div><div class=\"station\"><div class=\"line-h line-h-253 \"><span class=\"dot d-253\"></span></div><a href=\"/ditie/zd_baiziwan.shtml\" class=\"link\" target=\"_blank\">百子湾</a></div><div class=\"station\"><div class=\"line-h line-h-253 \"><span class=\"dot d-253\"></span></div><a href=\"/ditie/zd_huagong.shtml\" class=\"link\" target=\"_blank\">化工</a></div><div class=\"station\"><div class=\"line-h line-h-253 \"><span class=\"dot d-253\"></span></div><a href=\"/ditie/zd_nanlouzizhuang.shtml\" class=\"link\" target=\"_blank\">南楼梓庄</a></div><div class=\"station\"><div class=\"line-h line-h-253 \"><span class=\"dot d-253\"></span></div><a href=\"/ditie/zd_huanlegujingqiu.shtml\" class=\"link\" target=\"_blank\">欢乐谷景区</a></div><div class=\"station\"><div class=\"line-h line-h-253 \"><span class=\"dot d-253\"></span></div><a href=\"/ditie/zd_fatou.shtml\" class=\"link\" target=\"_blank\">垡头</a></div><div class=\"station\"><div class=\"line-h line-h-253 \"><span class=\"dot d-253\"></span></div><a href=\"/ditie/zd_shuanghe.shtml\" class=\"link\" target=\"_blank\">双合</a></div><div class=\"station\"><div class=\"line-h line-h-253 \"><span class=\"dot d-253\"></span></div><a href=\"/ditie/zd_jiaohuachang.shtml\" class=\"link\" target=\"_blank\">焦化厂</a></div>\\r\\n\\t\\t\\t\\t\\t\\t\\r\\n\\t\\t\\t\\t\\t\\t\\t<div class=\"clearfix\"></div>\\r\\n\\t\\t\\t\\t\\t\\t</div>\\r\\n\\t\\t\\t\\t\\t\\r\\n\\t\\t\\t\\t\\t</div>\\r\\n\\t\\t\\t\\t</div>\\r\\n\\t\\t\\t\\t\\r\\n\\t\\t\\t\\t\\r\\n\\t\\t\\t\\r\\n\\t\\t\\t\\t<div class=\"line-list\">\\r\\n\\t\\t\\t\\t\\t<div class=\"line-list-heading\" style=\"background:#009D6A;\">\\r\\n\\t\\t\\t\\t\\t\\t<div class=\"wrap\">\\r\\n\\t\\t\\t\\t\\t\\t\\t<strong><a href=\"/ditie/map_200.shtml\" target=\"_blank\">北京地铁8号线(M8)线路图</a></strong>\\r\\n\\t\\t\\t\\t\\t\\t\\t\\r\\n\\r\\n\\t\\t\\t\\t\\t\\t\\t\\r\\n\\t\\t\\t\\t\\t\\t\\t\\r\\n\\t\\t\\t\\t\\t\\t\\t<span class=\"total\">\\r\\n\\t\\t\\t\\t\\t\\t\\t<a style=\"color:#009D6A;\" href=\"/ditie/map_200.shtml\" target=\"_blank\">\\r\\n\\t\\t\\t\\t\\t\\t\\t查看详细\\r\\n\\t\\t\\t\\t\\t\\t\\t</a>\\r\\n\\t\\t\\t\\t\\t\\t\\t</span>\\r\\n\\t\\t\\t\\t\\t\\t\\t\\r\\n\\t\\t\\t\\t\\t\\t</div>\\r\\n\\t\\t\\t\\t\\t\\r\\n\\t\\t\\t\\t\\t</div>\\r\\n\\t\\t\\t\\t\\t<div class=\"line-list-body\">\\r\\n\\t\\t\\t\\t\\t\\t<div class=\"line-list-station\">\\r\\n\\t\\t\\t\\t\\t\\t\\r\\n\\t\\t\\t\\t\\t\\t\\r\\n\\t\\t\\t\\t\\t\\t<div class=\"station\"><div class=\"line-h line-h-200 \"><div class=\"dot-change\"><div class=\"tips\" style=\"display:none;\"><div class=\"tips-info-box\"><div class=\"tips-info-wrap\">你可以在此处换乘 ：&nbsp;<span style=\"color:#fc4349\"> <a href=\"/ditie/xl_205.shtml\">地铁昌平线</a> </span></div><span class=\"tips-ico\"><i class=\"i-1\">◆</i><i class=\"i-2\">◆</i></span></div></div></div></div><a class=\"link\" href=\"/ditie/zd_zhouxinzhuang.shtml\">朱辛庄</a></div><div class=\"station\"><div class=\"line-h line-h-200 \"><span class=\"dot d-200\"></span></div><a href=\"/ditie/zd_yuzhilu.shtml\" class=\"link\" target=\"_blank\">育知路</a></div><div class=\"station\"><div class=\"line-h line-h-200 \"><span class=\"dot d-200\"></span></div><a href=\"/ditie/zd_pingxifu.shtml\" class=\"link\" target=\"_blank\">平西府</a></div><div class=\"station\"><div class=\"line-h line-h-200 \"><span class=\"dot d-200\"></span></div><a href=\"/ditie/zd_huilongguandongdajie.shtml\" class=\"link\" target=\"_blank\">回龙观东大街</a></div><div class=\"station\"><div class=\"line-h line-h-200 \"><div class=\"dot-change\"><div class=\"tips\" style=\"display:none;\"><div class=\"tips-info-box\"><div class=\"tips-info-wrap\">你可以在此处换乘 ：&nbsp;<span style=\"color:#fc4349\"> <a href=\"/ditie/xl_202.shtml\">地铁13号线(M13)</a> </span></div><span class=\"tips-ico\"><i class=\"i-1\">◆</i><i class=\"i-2\">◆</i></span></div></div></div></div><a class=\"link\" href=\"/ditie/zd_huoying.shtml\">霍营</a></div><div class=\"station\"><div class=\"line-h line-h-200 \"><span class=\"dot d-200\"></span></div><a href=\"/ditie/zd_yuxin.shtml\" class=\"link\" target=\"_blank\">育新</a></div><div class=\"station\"><div class=\"line-h line-h-200 \"><span class=\"dot d-200\"></span></div><a href=\"/ditie/zd_xixiaokou.shtml\" class=\"link\" target=\"_blank\">西小口</a></div><div class=\"station\"><div class=\"line-h line-h-200 \"><span class=\"dot d-200\"></span></div><a href=\"/ditie/zd_yongtaizhuang.shtml\" class=\"link\" target=\"_blank\">永泰庄</a></div><div class=\"station\"><div class=\"line-h line-h-200 \"><span class=\"dot d-200\"></span></div><a href=\"/ditie/zd_lincuiqiao.shtml\" class=\"link\" target=\"_blank\">林萃桥</a></div><div class=\"station\"><div class=\"line-h line-h-200 \"><span class=\"dot d-200\"></span></div><a href=\"/ditie/zd_senlingongyuannanmen.shtml\" class=\"link\" target=\"_blank\">森林公园南门</a></div><div class=\"station\"><div class=\"line-h line-h-200 \"><span class=\"dot d-200\"></span></div><a href=\"/ditie/zd_aolinpikegongyuan.shtml\" class=\"link\" target=\"_blank\">奥林匹克公园</a></div><div class=\"station\"><div class=\"line-h line-h-200 \"><span class=\"dot d-200\"></span></div><a href=\"/ditie/zd_aotizhongxin.shtml\" class=\"link\" target=\"_blank\">奥体中心</a></div><div class=\"station\"><div class=\"line-h line-h-200 \"><span class=\"dot d-200\"></span></div><a href=\"/ditie/zd_beitucheng.shtml\" class=\"link\" target=\"_blank\">北土城</a></div><div class=\"station\"><div class=\"line-h line-h-200 \"><span class=\"dot d-200\"></span></div><a href=\"/ditie/zd_anhuaqiao.shtml\" class=\"link\" target=\"_blank\">安华桥</a></div><div class=\"station\"><div class=\"line-h line-h-200 \"><div class=\"dot-change\"><div class=\"tips\" style=\"display:none;\"><div class=\"tips-info-box\"><div class=\"tips-info-wrap\">你可以在此处换乘 ：&nbsp;<span style=\"color:#fc4349\"> <a href=\"/ditie/xl_211.shtml\">地铁2号线(内环)</a> </span></div><span class=\"tips-ico\"><i class=\"i-1\">◆</i><i class=\"i-2\">◆</i></span></div></div></div></div><a class=\"link\" href=\"/ditie/zd_guloudajie.shtml\">鼓楼大街</a></div><div class=\"station\"><div class=\"line-h line-h-200 \"><span class=\"dot d-200\"></span></div><a href=\"/ditie/zd_shishahai.shtml\" class=\"link\" target=\"_blank\">什刹海</a></div><div class=\"station\"><div class=\"line-h line-h-200 \"><div class=\"dot-change\"><div class=\"tips\" style=\"display:none;\"><div class=\"tips-info-box\"><div class=\"tips-info-wrap\">你可以在此处换乘 ：&nbsp;<span style=\"color:#fc4349\"> <a href=\"/ditie/xl_209.shtml\">地铁6号线</a> </span></div><span class=\"tips-ico\"><i class=\"i-1\">◆</i><i class=\"i-2\">◆</i></span></div></div></div></div><a class=\"link\" href=\"/ditie/zd_nanluoguxiang.shtml\">南锣鼓巷</a></div>\\r\\n\\t\\t\\t\\t\\t\\t\\r\\n\\t\\t\\t\\t\\t\\t\\t<div class=\"clearfix\"></div>\\r\\n\\t\\t\\t\\t\\t\\t</div>\\r\\n\\t\\t\\t\\t\\t\\r\\n\\t\\t\\t\\t\\t</div>\\r\\n\\t\\t\\t\\t</div>\\r\\n\\t\\t\\t\\t\\r\\n\\t\\t\\t\\t\\r\\n\\t\\t\\t\\r\\n\\t\\t\\t\\t<div class=\"line-list\">\\r\\n\\t\\t\\t\\t\\t<div class=\"line-list-heading\" style=\"background:#8FC41E;\">\\r\\n\\t\\t\\t\\t\\t\\t<div class=\"wrap\">\\r\\n\\t\\t\\t\\t\\t\\t\\t<strong><a href=\"/ditie/map_201.shtml\" target=\"_blank\">北京地铁9号线(M9)线路图</a></strong>\\r\\n\\t\\t\\t\\t\\t\\t\\t\\r\\n\\r\\n\\t\\t\\t\\t\\t\\t\\t\\r\\n\\t\\t\\t\\t\\t\\t\\t\\r\\n\\t\\t\\t\\t\\t\\t\\t<span class=\"total\">\\r\\n\\t\\t\\t\\t\\t\\t\\t<a style=\"color:#8FC41E;\" href=\"/ditie/map_201.shtml\" target=\"_blank\">\\r\\n\\t\\t\\t\\t\\t\\t\\t查看详细\\r\\n\\t\\t\\t\\t\\t\\t\\t</a>\\r\\n\\t\\t\\t\\t\\t\\t\\t</span>\\r\\n\\t\\t\\t\\t\\t\\t\\t\\r\\n\\t\\t\\t\\t\\t\\t</div>\\r\\n\\t\\t\\t\\t\\t\\r\\n\\t\\t\\t\\t\\t</div>\\r\\n\\t\\t\\t\\t\\t<div class=\"line-list-body\">\\r\\n\\t\\t\\t\\t\\t\\t<div class=\"line-list-station\">\\r\\n\\t\\t\\t\\t\\t\\t\\r\\n\\t\\t\\t\\t\\t\\t\\r\\n\\t\\t\\t\\t\\t\\t<div class=\"station\"><div class=\"line-h line-h-201 \"><div class=\"dot-change\"><div class=\"tips\" style=\"display:none;\"><div class=\"tips-info-box\"><div class=\"tips-info-wrap\">你可以在此处换乘 ：&nbsp;<span style=\"color:#fc4349\"> <a href=\"/ditie/xl_206.shtml\">地铁房山线</a> </span></div><span class=\"tips-ico\"><i class=\"i-1\">◆</i><i class=\"i-2\">◆</i></span></div></div></div></div><a class=\"link\" href=\"/ditie/zd_guogongzhuang.shtml\">郭公庄</a></div><div class=\"station\"><div class=\"line-h line-h-201 \"><span class=\"dot d-201\"></span></div><a href=\"/ditie/zd_fengtaikejiyuan.shtml\" class=\"link\" target=\"_blank\">丰台科技园</a></div><div class=\"station\"><div class=\"line-h line-h-201 \"><span class=\"dot d-201\"></span></div><a href=\"/ditie/zd_keyilu.shtml\" class=\"link\" target=\"_blank\">科怡路</a></div><div class=\"station\"><div class=\"line-h line-h-201 \"><span class=\"dot d-201\"></span></div><a href=\"/ditie/zd_fengtainanlu.shtml\" class=\"link\" target=\"_blank\">丰台南路</a></div><div class=\"station\"><div class=\"line-h line-h-201 \"><span class=\"dot d-201\"></span></div><a href=\"/ditie/zd_fengtaidongdajie.shtml\" class=\"link\" target=\"_blank\">丰台东大街</a></div><div class=\"station\"><div class=\"line-h line-h-201 \"><span class=\"dot d-201\"></span></div><a href=\"/ditie/zd_qilizhuang.shtml\" class=\"link\" target=\"_blank\">七里庄</a></div><div class=\"station\"><div class=\"line-h line-h-201 \"><div class=\"dot-change\"><div class=\"tips\" style=\"display:none;\"><div class=\"tips-info-box\"><div class=\"tips-info-wrap\">你可以在此处换乘 ：&nbsp;<span style=\"color:#fc4349\"> <a href=\"/ditie/xl_212.shtml\">地铁10号线</a> </span></div><span class=\"tips-ico\"><i class=\"i-1\">◆</i><i class=\"i-2\">◆</i></span></div></div></div></div><a class=\"link\" href=\"/ditie/zd_liuliqiao.shtml\">六里桥</a></div><div class=\"station\"><div class=\"line-h line-h-201 \"><span class=\"dot d-201\"></span></div><a href=\"/ditie/zd_liuliqiaodong.shtml\" class=\"link\" target=\"_blank\">六里桥东</a></div><div class=\"station\"><div class=\"line-h line-h-201 \"><span class=\"dot d-201\"></span></div><a href=\"/ditie/zd_beijingxizhan.shtml\" class=\"link\" target=\"_blank\">北京西站</a></div><div class=\"station\"><div class=\"line-h line-h-201 \"><div class=\"dot-change\"><div class=\"tips\" style=\"display:none;\"><div class=\"tips-info-box\"><div class=\"tips-info-wrap\">你可以在此处换乘 ：&nbsp;<span style=\"color:#fc4349\"> <a href=\"/ditie/xl_197.shtml\">地铁1号线(M1)</a> </span></div><span class=\"tips-ico\"><i class=\"i-1\">◆</i><i class=\"i-2\">◆</i></span></div></div></div></div><a class=\"link\" href=\"/ditie/zd_junshibowuguan.shtml\">军事博物馆</a></div><div class=\"station\"><div class=\"line-h line-h-201 \"><span class=\"dot d-201\"></span></div><a href=\"/ditie/zd_baiduizi.shtml\" class=\"link\" target=\"_blank\">白堆子</a></div><div class=\"station\"><div class=\"line-h line-h-201 \"><div class=\"dot-change\"><div class=\"tips\" style=\"display:none;\"><div class=\"tips-info-box\"><div class=\"tips-info-wrap\">你可以在此处换乘 ：&nbsp;<span style=\"color:#fc4349\"> <a href=\"/ditie/xl_209.shtml\">地铁6号线</a> </span></div><span class=\"tips-ico\"><i class=\"i-1\">◆</i><i class=\"i-2\">◆</i></span></div></div></div></div><a class=\"link\" href=\"/ditie/zd_baishiqiaonan.shtml\">白石桥南</a></div><div class=\"station\"><div class=\"line-h line-h-201 \"><div class=\"dot-change\"><div class=\"tips\" style=\"display:none;\"><div class=\"tips-info-box\"><div class=\"tips-info-wrap\">你可以在此处换乘 ：&nbsp;<span style=\"color:#fc4349\"> <a href=\"/ditie/xl_198.shtml\">地铁4号线(M4)</a> </span></div><span class=\"tips-ico\"><i class=\"i-1\">◆</i><i class=\"i-2\">◆</i></span></div></div></div></div><a class=\"link\" href=\"/ditie/zd_guojiatushuguan.shtml\">国家图书馆</a></div>\\r\\n\\t\\t\\t\\t\\t\\t\\r\\n\\t\\t\\t\\t\\t\\t\\t<div class=\"clearfix\"></div>\\r\\n\\t\\t\\t\\t\\t\\t</div>\\r\\n\\t\\t\\t\\t\\t\\r\\n\\t\\t\\t\\t\\t</div>\\r\\n\\t\\t\\t\\t</div>\\r\\n\\t\\t\\t\\t\\r\\n\\t\\t\\t\\t\\r\\n\\t\\t\\t\\r\\n\\t\\t\\t\\t<div class=\"line-list\">\\r\\n\\t\\t\\t\\t\\t<div class=\"line-list-heading\" style=\"background:#009DBE;\">\\r\\n\\t\\t\\t\\t\\t\\t<div class=\"wrap\">\\r\\n\\t\\t\\t\\t\\t\\t\\t<strong><a href=\"/ditie/map_212.shtml\" target=\"_blank\">北京地铁10号线线路图</a></strong>\\r\\n\\t\\t\\t\\t\\t\\t\\t\\r\\n\\r\\n\\t\\t\\t\\t\\t\\t\\t\\r\\n\\t\\t\\t\\t\\t\\t\\t\\r\\n\\t\\t\\t\\t\\t\\t\\t<span class=\"total\">\\r\\n\\t\\t\\t\\t\\t\\t\\t<a style=\"color:#009DBE;\" href=\"/ditie/map_212.shtml\" target=\"_blank\">\\r\\n\\t\\t\\t\\t\\t\\t\\t查看详细\\r\\n\\t\\t\\t\\t\\t\\t\\t</a>\\r\\n\\t\\t\\t\\t\\t\\t\\t</span>\\r\\n\\t\\t\\t\\t\\t\\t\\t\\r\\n\\t\\t\\t\\t\\t\\t</div>\\r\\n\\t\\t\\t\\t\\t\\r\\n\\t\\t\\t\\t\\t</div>\\r\\n\\t\\t\\t\\t\\t<div class=\"line-list-body\">\\r\\n\\t\\t\\t\\t\\t\\t<div class=\"line-list-station\">\\r\\n\\t\\t\\t\\t\\t\\t\\r\\n\\t\\t\\t\\t\\t\\t\\r\\n\\t\\t\\t\\t\\t\\t<div class=\"station\"><div class=\"line-h line-h-212 \"><span class=\"dot d-212\"></span></div><a href=\"/ditie/zd_bagou.shtml\" class=\"link\" target=\"_blank\">巴沟</a></div><div class=\"station\"><div class=\"line-h line-h-212 \"><span class=\"dot d-212\"></span></div><a href=\"/ditie/zd_suzhoujie.shtml\" class=\"link\" target=\"_blank\">苏州街</a></div><div class=\"station\"><div class=\"line-h line-h-212 \"><div class=\"dot-change\"><div class=\"tips\" style=\"display:none;\"><div class=\"tips-info-box\"><div class=\"tips-info-wrap\">你可以在此处换乘 ：&nbsp;<span style=\"color:#fc4349\"> <a href=\"/ditie/xl_198.shtml\">地铁4号线(M4)</a> </span></div><span class=\"tips-ico\"><i class=\"i-1\">◆</i><i class=\"i-2\">◆</i></span></div></div></div></div><a class=\"link\" href=\"/ditie/zd_haidianhuangzhuang.shtml\">海淀黄庄</a></div><div class=\"station\"><div class=\"line-h line-h-212 \"><span class=\"dot d-212\"></span></div><a href=\"/ditie/zd_zhichunli.shtml\" class=\"link\" target=\"_blank\">知春里</a></div><div class=\"station\"><div class=\"line-h line-h-212 \"><div class=\"dot-change\"><div class=\"tips\" style=\"display:none;\"><div class=\"tips-info-box\"><div class=\"tips-info-wrap\">你可以在此处换乘 ：&nbsp;<span style=\"color:#fc4349\"> <a href=\"/ditie/xl_202.shtml\">地铁13号线(M13)</a> </span></div><span class=\"tips-ico\"><i class=\"i-1\">◆</i><i class=\"i-2\">◆</i></span></div></div></div></div><a class=\"link\" href=\"/ditie/zd_zhichunlu.shtml\">知春路</a></div><div class=\"station\"><div class=\"line-h line-h-212 \"><span class=\"dot d-212\"></span></div><a href=\"/ditie/zd_xitucheng.shtml\" class=\"link\" target=\"_blank\">西土城</a></div><div class=\"station\"><div class=\"line-h line-h-212 \"><span class=\"dot d-212\"></span></div><a href=\"/ditie/zd_mudanyuan.shtml\" class=\"link\" target=\"_blank\">牡丹园</a></div><div class=\"station\"><div class=\"line-h line-h-212 \"><span class=\"dot d-212\"></span></div><a href=\"/ditie/zd_jiandemen.shtml\" class=\"link\" target=\"_blank\">健德门</a></div><div class=\"station\"><div class=\"line-h line-h-212 \"><div class=\"dot-change\"><div class=\"tips\" style=\"display:none;\"><div class=\"tips-info-box\"><div class=\"tips-info-wrap\">你可以在此处换乘 ：&nbsp;<span style=\"color:#fc4349\"> <a href=\"/ditie/xl_200.shtml\">地铁8号线(M8)</a> </span></div><span class=\"tips-ico\"><i class=\"i-1\">◆</i><i class=\"i-2\">◆</i></span></div></div></div></div><a class=\"link\" href=\"/ditie/zd_beitucheng.shtml\">北土城</a></div><div class=\"station\"><div class=\"line-h line-h-212 \"><span class=\"dot d-212\"></span></div><a href=\"/ditie/zd_anzhenmen.shtml\" class=\"link\" target=\"_blank\">安贞门</a></div><div class=\"station\"><div class=\"line-h line-h-212 \"><div class=\"dot-change\"><div class=\"tips\" style=\"display:none;\"><div class=\"tips-info-box\"><div class=\"tips-info-wrap\">你可以在此处换乘 ：&nbsp;<span style=\"color:#fc4349\"> <a href=\"/ditie/xl_199.shtml\">地铁5号线(M5)</a> </span></div><span class=\"tips-ico\"><i class=\"i-1\">◆</i><i class=\"i-2\">◆</i></span></div></div></div></div><a class=\"link\" href=\"/ditie/zd_huixinxijienankou.shtml\">惠新西街南口</a></div><div class=\"station\"><div class=\"line-h line-h-212 \"><div class=\"dot-change\"><div class=\"tips\" style=\"display:none;\"><div class=\"tips-info-box\"><div class=\"tips-info-wrap\">你可以在此处换乘 ：&nbsp;<span style=\"color:#fc4349\"> <a href=\"/ditie/xl_202.shtml\">地铁13号线(M13)</a> </span></div><span class=\"tips-ico\"><i class=\"i-1\">◆</i><i class=\"i-2\">◆</i></span></div></div></div></div><a class=\"link\" href=\"/ditie/zd_shaoyaoju.shtml\">芍药居</a></div><div class=\"station\"><div class=\"line-h line-h-212 \"><span class=\"dot d-212\"></span></div><a href=\"/ditie/zd_taiyanggong.shtml\" class=\"link\" target=\"_blank\">太阳宫</a></div><div class=\"station\"><div class=\"line-h line-h-212 \"><span class=\"dot d-212\"></span></div><a href=\"/ditie/zd_sanyuanqiao.shtml\" class=\"link\" target=\"_blank\">三元桥</a></div><div class=\"station\"><div class=\"line-h line-h-212 \"><span class=\"dot d-212\"></span></div><a href=\"/ditie/zd_liangmaqiao.shtml\" class=\"link\" target=\"_blank\">亮马桥</a></div><div class=\"station\"><div class=\"line-h line-h-212 \"><span class=\"dot d-212\"></span></div><a href=\"/ditie/zd_nongyezhanlanguan.shtml\" class=\"link\" target=\"_blank\">农业展览馆</a></div><div class=\"station\"><div class=\"line-h line-h-212 \"><span class=\"dot d-212\"></span></div><a href=\"/ditie/zd_tuanjiehu.shtml\" class=\"link\" target=\"_blank\">团结湖</a></div><div class=\"station\"><div class=\"line-h line-h-212 \"><div class=\"dot-change\"><div class=\"tips\" style=\"display:none;\"><div class=\"tips-info-box\"><div class=\"tips-info-wrap\">你可以在此处换乘 ：&nbsp;<span style=\"color:#fc4349\"> <a href=\"/ditie/xl_209.shtml\">地铁6号线</a> </span></div><span class=\"tips-ico\"><i class=\"i-1\">◆</i><i class=\"i-2\">◆</i></span></div></div></div></div><a class=\"link\" href=\"/ditie/zd_hujialou.shtml\">呼家楼</a></div><div class=\"station\"><div class=\"line-h line-h-212 \"><span class=\"dot d-212\"></span></div><a href=\"/ditie/zd_jintaixizhao.shtml\" class=\"link\" target=\"_blank\">金台夕照</a></div><div class=\"station\"><div class=\"line-h line-h-212 \"><div class=\"dot-change\"><div class=\"tips\" style=\"display:none;\"><div class=\"tips-info-box\"><div class=\"tips-info-wrap\">你可以在此处换乘 ：&nbsp;<span style=\"color:#fc4349\"> <a href=\"/ditie/xl_197.shtml\">地铁1号线(M1)</a> </span></div><span class=\"tips-ico\"><i class=\"i-1\">◆</i><i class=\"i-2\">◆</i></span></div></div></div></div><a class=\"link\" href=\"/ditie/zd_guomao.shtml\">国贸</a></div><div class=\"station\"><div class=\"line-h line-h-212 \"><span class=\"dot d-212\"></span></div><a href=\"/ditie/zd_shuangjing.shtml\" class=\"link\" target=\"_blank\">双井</a></div><div class=\"station\"><div class=\"line-h line-h-212 \"><span class=\"dot d-212\"></span></div><a href=\"/ditie/zd_jinsong.shtml\" class=\"link\" target=\"_blank\">劲松</a></div><div class=\"station\"><div class=\"line-h line-h-212 \"><span class=\"dot d-212\"></span></div><a href=\"/ditie/zd_panjiayuan.shtml\" class=\"link\" target=\"_blank\">潘家园</a></div><div class=\"station\"><div class=\"line-h line-h-212 \"><span class=\"dot d-212\"></span></div><a href=\"/ditie/zd_shilihe.shtml\" class=\"link\" target=\"_blank\">十里河</a></div><div class=\"station\"><div class=\"line-h line-h-212 \"><span class=\"dot d-212\"></span></div><a href=\"/ditie/zd_feizhongsi.shtml\" class=\"link\" target=\"_blank\">分钟寺</a></div><div class=\"station\"><div class=\"line-h line-h-212 \"><span class=\"dot d-212\"></span></div><a href=\"/ditie/zd_chengshousi.shtml\" class=\"link\" target=\"_blank\">成寿寺</a></div><div class=\"station\"><div class=\"line-h line-h-212 \"><div class=\"dot-change\"><div class=\"tips\" style=\"display:none;\"><div class=\"tips-info-box\"><div class=\"tips-info-wrap\">你可以在此处换乘 ：&nbsp;<span style=\"color:#fc4349\"> <a href=\"/ditie/xl_199.shtml\">地铁5号线(M5)</a>  <a href=\"/ditie/xl_207.shtml\">地铁亦庄线</a> </span></div><span class=\"tips-ico\"><i class=\"i-1\">◆</i><i class=\"i-2\">◆</i></span></div></div></div></div><a class=\"link\" href=\"/ditie/zd_songjiazhuang.shtml\">宋家庄</a></div><div class=\"station\"><div class=\"line-h line-h-212 \"><span class=\"dot d-212\"></span></div><a href=\"/ditie/zd_shiliuzhuang.shtml\" class=\"link\" target=\"_blank\">石榴庄</a></div><div class=\"station\"><div class=\"line-h line-h-212 \"><span class=\"dot d-212\"></span></div><a href=\"/ditie/zd_dahongmen.shtml\" class=\"link\" target=\"_blank\">大红门</a></div><div class=\"station\"><div class=\"line-h line-h-212 \"><span class=\"dot d-212\"></span></div><a href=\"/ditie/zd_jiaomendong.shtml\" class=\"link\" target=\"_blank\">角门东</a></div><div class=\"station\"><div class=\"line-h line-h-212 \"><div class=\"dot-change\"><div class=\"tips\" style=\"display:none;\"><div class=\"tips-info-box\"><div class=\"tips-info-wrap\">你可以在此处换乘 ：&nbsp;<span style=\"color:#fc4349\"> <a href=\"/ditie/xl_198.shtml\">地铁4号线(M4)</a> </span></div><span class=\"tips-ico\"><i class=\"i-1\">◆</i><i class=\"i-2\">◆</i></span></div></div></div></div><a class=\"link\" href=\"/ditie/zd_jiaomenxi.shtml\">角门西</a></div><div class=\"station\"><div class=\"line-h line-h-212 \"><span class=\"dot d-212\"></span></div><a href=\"/ditie/zd_caoqiao.shtml\" class=\"link\" target=\"_blank\">草桥</a></div><div class=\"station\"><div class=\"line-h line-h-212 \"><span class=\"dot d-212\"></span></div><a href=\"/ditie/zd_jijiamiao.shtml\" class=\"link\" target=\"_blank\">纪家庙</a></div><div class=\"station\"><div class=\"line-h line-h-212 \"><span class=\"dot d-212\"></span></div><a href=\"/ditie/zd_shoujingmao.shtml\" class=\"link\" target=\"_blank\">首经贸</a></div><div class=\"station\"><div class=\"line-h line-h-212 \"><span class=\"dot d-212\"></span></div><a href=\"/ditie/zd_fengtaizhan.shtml\" class=\"link\" target=\"_blank\">丰台站</a></div><div class=\"station\"><div class=\"line-h line-h-212 \"><span class=\"dot d-212\"></span></div><a href=\"/ditie/zd_niwa.shtml\" class=\"link\" target=\"_blank\">泥洼</a></div><div class=\"station\"><div class=\"line-h line-h-212 \"><span class=\"dot d-212\"></span></div><a href=\"/ditie/zd_xiju.shtml\" class=\"link\" target=\"_blank\">西局</a></div><div class=\"station\"><div class=\"line-h line-h-212 \"><div class=\"dot-change\"><div class=\"tips\" style=\"display:none;\"><div class=\"tips-info-box\"><div class=\"tips-info-wrap\">你可以在此处换乘 ：&nbsp;<span style=\"color:#fc4349\"> <a href=\"/ditie/xl_201.shtml\">地铁9号线(M9)</a> </span></div><span class=\"tips-ico\"><i class=\"i-1\">◆</i><i class=\"i-2\">◆</i></span></div></div></div></div><a class=\"link\" href=\"/ditie/zd_liuliqiao.shtml\">六里桥</a></div><div class=\"station\"><div class=\"line-h line-h-212 \"><span class=\"dot d-212\"></span></div><a href=\"/ditie/zd_lianhuaqiao.shtml\" class=\"link\" target=\"_blank\">莲花桥</a></div><div class=\"station\"><div class=\"line-h line-h-212 \"><div class=\"dot-change\"><div class=\"tips\" style=\"display:none;\"><div class=\"tips-info-box\"><div class=\"tips-info-wrap\">你可以在此处换乘 ：&nbsp;<span style=\"color:#fc4349\"> <a href=\"/ditie/xl_197.shtml\">地铁1号线(M1)</a> </span></div><span class=\"tips-ico\"><i class=\"i-1\">◆</i><i class=\"i-2\">◆</i></span></div></div></div></div><a class=\"link\" href=\"/ditie/zd_gongzhufen.shtml\">公主坟</a></div><div class=\"station\"><div class=\"line-h line-h-212 \"><span class=\"dot d-212\"></span></div><a href=\"/ditie/zd_xidiaoyutai.shtml\" class=\"link\" target=\"_blank\">西钓鱼台</a></div><div class=\"station\"><div class=\"line-h line-h-212 \"><div class=\"dot-change\"><div class=\"tips\" style=\"display:none;\"><div class=\"tips-info-box\"><div class=\"tips-info-wrap\">你可以在此处换乘 ：&nbsp;<span style=\"color:#fc4349\"> <a href=\"/ditie/xl_209.shtml\">地铁6号线</a> </span></div><span class=\"tips-ico\"><i class=\"i-1\">◆</i><i class=\"i-2\">◆</i></span></div></div></div></div><a class=\"link\" href=\"/ditie/zd_cishousi.shtml\">慈寿寺</a></div><div class=\"station\"><div class=\"line-h line-h-212 \"><span class=\"dot d-212\"></span></div><a href=\"/ditie/zd_chedaogou.shtml\" class=\"link\" target=\"_blank\">车道沟</a></div><div class=\"station\"><div class=\"line-h line-h-212 \"><span class=\"dot d-212\"></span></div><a href=\"/ditie/zd_changchunqiao.shtml\" class=\"link\" target=\"_blank\">长春桥</a></div><div class=\"station\"><div class=\"line-h line-h-212 \"><span class=\"dot d-212\"></span></div><a href=\"/ditie/zd_huoqiying.shtml\" class=\"link\" target=\"_blank\">火器营</a></div>\\r\\n\\t\\t\\t\\t\\t\\t\\r\\n\\t\\t\\t\\t\\t\\t\\t<div class=\"clearfix\"></div>\\r\\n\\t\\t\\t\\t\\t\\t</div>\\r\\n\\t\\t\\t\\t\\t\\r\\n\\t\\t\\t\\t\\t</div>\\r\\n\\t\\t\\t\\t</div>\\r\\n\\t\\t\\t\\t\\r\\n\\t\\t\\t\\t\\r\\n\\t\\t\\t\\r\\n\\t\\t\\t\\t<div class=\"line-list\">\\r\\n\\t\\t\\t\\t\\t<div class=\"line-list-heading\" style=\"background:#F9E701;\">\\r\\n\\t\\t\\t\\t\\t\\t<div class=\"wrap\">\\r\\n\\t\\t\\t\\t\\t\\t\\t<strong><a href=\"/ditie/map_202.shtml\" target=\"_blank\">北京地铁13号线(M13)线路图</a></strong>\\r\\n\\t\\t\\t\\t\\t\\t\\t\\r\\n\\r\\n\\t\\t\\t\\t\\t\\t\\t\\r\\n\\t\\t\\t\\t\\t\\t\\t\\r\\n\\t\\t\\t\\t\\t\\t\\t<span class=\"total\">\\r\\n\\t\\t\\t\\t\\t\\t\\t<a style=\"color:#F9E701;\" href=\"/ditie/map_202.shtml\" target=\"_blank\">\\r\\n\\t\\t\\t\\t\\t\\t\\t查看详细\\r\\n\\t\\t\\t\\t\\t\\t\\t</a>\\r\\n\\t\\t\\t\\t\\t\\t\\t</span>\\r\\n\\t\\t\\t\\t\\t\\t\\t\\r\\n\\t\\t\\t\\t\\t\\t</div>\\r\\n\\t\\t\\t\\t\\t\\r\\n\\t\\t\\t\\t\\t</div>\\r\\n\\t\\t\\t\\t\\t<div class=\"line-list-body\">\\r\\n\\t\\t\\t\\t\\t\\t<div class=\"line-list-station\">\\r\\n\\t\\t\\t\\t\\t\\t\\r\\n\\t\\t\\t\\t\\t\\t\\r\\n\\t\\t\\t\\t\\t\\t<div class=\"station\"><div class=\"line-h line-h-202 \"><div class=\"dot-change\"><div class=\"tips\" style=\"display:none;\"><div class=\"tips-info-box\"><div class=\"tips-info-wrap\">你可以在此处换乘 ：&nbsp;<span style=\"color:#fc4349\"> <a href=\"/ditie/xl_211.shtml\">地铁2号线(内环)</a>  <a href=\"/ditie/xl_198.shtml\">地铁4号线(M4)</a> </span></div><span class=\"tips-ico\"><i class=\"i-1\">◆</i><i class=\"i-2\">◆</i></span></div></div></div></div><a class=\"link\" href=\"/ditie/zd_xizhimen.shtml\">西直门</a></div><div class=\"station\"><div class=\"line-h line-h-202 \"><span class=\"dot d-202\"></span></div><a href=\"/ditie/zd_dazhongsi.shtml\" class=\"link\" target=\"_blank\">大钟寺</a></div><div class=\"station\"><div class=\"line-h line-h-202 \"><div class=\"dot-change\"><div class=\"tips\" style=\"display:none;\"><div class=\"tips-info-box\"><div class=\"tips-info-wrap\">你可以在此处换乘 ：&nbsp;<span style=\"color:#fc4349\"> <a href=\"/ditie/xl_212.shtml\">地铁10号线</a> </span></div><span class=\"tips-ico\"><i class=\"i-1\">◆</i><i class=\"i-2\">◆</i></span></div></div></div></div><a class=\"link\" href=\"/ditie/zd_zhichunlu.shtml\">知春路</a></div><div class=\"station\"><div class=\"line-h line-h-202 \"><span class=\"dot d-202\"></span></div><a href=\"/ditie/zd_wudaokou.shtml\" class=\"link\" target=\"_blank\">五道口</a></div><div class=\"station\"><div class=\"line-h line-h-202 \"><span class=\"dot d-202\"></span></div><a href=\"/ditie/zd_shangdi.shtml\" class=\"link\" target=\"_blank\">上地</a></div><div class=\"station\"><div class=\"line-h line-h-202 \"><div class=\"dot-change\"><div class=\"tips\" style=\"display:none;\"><div class=\"tips-info-box\"><div class=\"tips-info-wrap\">你可以在此处换乘 ：&nbsp;<span style=\"color:#fc4349\"> <a href=\"/ditie/xl_205.shtml\">地铁昌平线</a> </span></div><span class=\"tips-ico\"><i class=\"i-1\">◆</i><i class=\"i-2\">◆</i></span></div></div></div></div><a class=\"link\" href=\"/ditie/zd_xierqi.shtml\">西二旗</a></div><div class=\"station\"><div class=\"line-h line-h-202 \"><span class=\"dot d-202\"></span></div><a href=\"/ditie/zd_longze.shtml\" class=\"link\" target=\"_blank\">龙泽</a></div><div class=\"station\"><div class=\"line-h line-h-202 \"><span class=\"dot d-202\"></span></div><a href=\"/ditie/zd_huilongguan.shtml\" class=\"link\" target=\"_blank\">回龙观</a></div><div class=\"station\"><div class=\"line-h line-h-202 \"><div class=\"dot-change\"><div class=\"tips\" style=\"display:none;\"><div class=\"tips-info-box\"><div class=\"tips-info-wrap\">你可以在此处换乘 ：&nbsp;<span style=\"color:#fc4349\"> <a href=\"/ditie/xl_200.shtml\">地铁8号线(M8)</a> </span></div><span class=\"tips-ico\"><i class=\"i-1\">◆</i><i class=\"i-2\">◆</i></span></div></div></div></div><a class=\"link\" href=\"/ditie/zd_huoying.shtml\">霍营</a></div><div class=\"station\"><div class=\"line-h line-h-202 \"><div class=\"dot-change\"><div class=\"tips\" style=\"display:none;\"><div class=\"tips-info-box\"><div class=\"tips-info-wrap\">你可以在此处换乘 ：&nbsp;<span style=\"color:#fc4349\"> <a href=\"/ditie/xl_199.shtml\">地铁5号线(M5)</a> </span></div><span class=\"tips-ico\"><i class=\"i-1\">◆</i><i class=\"i-2\">◆</i></span></div></div></div></div><a class=\"link\" href=\"/ditie/zd_lishuiqiao.shtml\">立水桥</a></div><div class=\"station\"><div class=\"line-h line-h-202 \"><span class=\"dot d-202\"></span></div><a href=\"/ditie/zd_beiyuan.shtml\" class=\"link\" target=\"_blank\">北苑</a></div><div class=\"station\"><div class=\"line-h line-h-202 \"><div class=\"dot-change\"><div class=\"tips\" style=\"display:none;\"><div class=\"tips-info-box\"><div class=\"tips-info-wrap\">你可以在此处换乘 ：&nbsp;<span style=\"color:#fc4349\"> <a href=\"/ditie/xl_203.shtml\">地铁15号线</a> </span></div><span class=\"tips-ico\"><i class=\"i-1\">◆</i><i class=\"i-2\">◆</i></span></div></div></div></div><a class=\"link\" href=\"/ditie/zd_wangjingxi.shtml\">望京西</a></div><div class=\"station\"><div class=\"line-h line-h-202 \"><div class=\"dot-change\"><div class=\"tips\" style=\"display:none;\"><div class=\"tips-info-box\"><div class=\"tips-info-wrap\">你可以在此处换乘 ：&nbsp;<span style=\"color:#fc4349\"> <a href=\"/ditie/xl_212.shtml\">地铁10号线</a> </span></div><span class=\"tips-ico\"><i class=\"i-1\">◆</i><i class=\"i-2\">◆</i></span></div></div></div></div><a class=\"link\" href=\"/ditie/zd_shaoyaoju.shtml\">芍药居</a></div><div class=\"station\"><div class=\"line-h line-h-202 \"><span class=\"dot d-202\"></span></div><a href=\"/ditie/zd_guangeimen.shtml\" class=\"link\" target=\"_blank\">光熙门</a></div><div class=\"station\"><div class=\"line-h line-h-202 \"><span class=\"dot d-202\"></span></div><a href=\"/ditie/zd_liufang.shtml\" class=\"link\" target=\"_blank\">柳芳</a></div><div class=\"station\"><div class=\"line-h line-h-202 \"><div class=\"dot-change\"><div class=\"tips\" style=\"display:none;\"><div class=\"tips-info-box\"><div class=\"tips-info-wrap\">你可以在此处换乘 ：&nbsp;<span style=\"color:#fc4349\"> <a href=\"/ditie/xl_211.shtml\">地铁2号线(内环)</a> </span></div><span class=\"tips-ico\"><i class=\"i-1\">◆</i><i class=\"i-2\">◆</i></span></div></div></div></div><a class=\"link\" href=\"/ditie/zd_dongzhimen.shtml\">东直门</a></div>\\r\\n\\t\\t\\t\\t\\t\\t\\r\\n\\t\\t\\t\\t\\t\\t\\t<div class=\"clearfix\"></div>\\r\\n\\t\\t\\t\\t\\t\\t</div>\\r\\n\\t\\t\\t\\t\\t\\r\\n\\t\\t\\t\\t\\t</div>\\r\\n\\t\\t\\t\\t</div>\\r\\n\\t\\t\\t\\t\\r\\n\\t\\t\\t\\t\\r\\n\\t\\t\\t\\r\\n\\t\\t\\t\\t<div class=\"line-list\">\\r\\n\\t\\t\\t\\t\\t<div class=\"line-list-heading\" style=\"background:#D4A7A2;\">\\r\\n\\t\\t\\t\\t\\t\\t<div class=\"wrap\">\\r\\n\\t\\t\\t\\t\\t\\t\\t<strong><a href=\"/ditie/map_254.shtml\" target=\"_blank\">北京地铁14号线东段线路图</a></strong>\\r\\n\\t\\t\\t\\t\\t\\t\\t\\r\\n\\r\\n\\t\\t\\t\\t\\t\\t\\t\\r\\n\\t\\t\\t\\t\\t\\t\\t\\r\\n\\t\\t\\t\\t\\t\\t\\t<span class=\"total\">\\r\\n\\t\\t\\t\\t\\t\\t\\t<a style=\"color:#D4A7A2;\" href=\"/ditie/map_254.shtml\" target=\"_blank\">\\r\\n\\t\\t\\t\\t\\t\\t\\t查看详细\\r\\n\\t\\t\\t\\t\\t\\t\\t</a>\\r\\n\\t\\t\\t\\t\\t\\t\\t</span>\\r\\n\\t\\t\\t\\t\\t\\t\\t\\r\\n\\t\\t\\t\\t\\t\\t</div>\\r\\n\\t\\t\\t\\t\\t\\r\\n\\t\\t\\t\\t\\t</div>\\r\\n\\t\\t\\t\\t\\t<div class=\"line-list-body\">\\r\\n\\t\\t\\t\\t\\t\\t<div class=\"line-list-station\">\\r\\n\\t\\t\\t\\t\\t\\t\\r\\n\\t\\t\\t\\t\\t\\t\\r\\n\\t\\t\\t\\t\\t\\t<div class=\"station\"><div class=\"line-h line-h-254 \"><div class=\"dot-change\"><div class=\"tips\" style=\"display:none;\"><div class=\"tips-info-box\"><div class=\"tips-info-wrap\">你可以在此处换乘 ：&nbsp;<span style=\"color:#fc4349\"> <a href=\"/ditie/xl_198.shtml\">地铁4号线(M4)</a> </span></div><span class=\"tips-ico\"><i class=\"i-1\">◆</i><i class=\"i-2\">◆</i></span></div></div></div></div><a class=\"link\" href=\"/ditie/zd_beijingnanzhan.shtml\">北京南站</a></div><div class=\"station\"><div class=\"line-h line-h-254 \"><span class=\"dot d-254\"></span></div><a href=\"/ditie/zd_yongdingmenwai.shtml\" class=\"link\" target=\"_blank\">永定门外</a></div><div class=\"station\"><div class=\"line-h line-h-254 \"><span class=\"dot d-254\"></span></div><a href=\"/ditie/zd_jingtai.shtml\" class=\"link\" target=\"_blank\">景泰</a></div><div class=\"station\"><div class=\"line-h line-h-254 \"><div class=\"dot-change\"><div class=\"tips\" style=\"display:none;\"><div class=\"tips-info-box\"><div class=\"tips-info-wrap\">你可以在此处换乘 ：&nbsp;<span style=\"color:#fc4349\"> <a href=\"/ditie/xl_199.shtml\">地铁5号线(M5)</a> </span></div><span class=\"tips-ico\"><i class=\"i-1\">◆</i><i class=\"i-2\">◆</i></span></div></div></div></div><a class=\"link\" href=\"/ditie/zd_puhuangyu.shtml\">蒲黄榆</a></div><div class=\"station\"><div class=\"line-h line-h-254 \"><span class=\"dot d-254\"></span></div><a href=\"/ditie/zd_fangzhuang.shtml\" class=\"link\" target=\"_blank\">方庄</a></div><div class=\"station\"><div class=\"line-h line-h-254 \"><div class=\"dot-change\"><div class=\"tips\" style=\"display:none;\"><div class=\"tips-info-box\"><div class=\"tips-info-wrap\">你可以在此处换乘 ：&nbsp;<span style=\"color:#fc4349\"> <a href=\"/ditie/xl_212.shtml\">地铁10号线</a> </span></div><span class=\"tips-ico\"><i class=\"i-1\">◆</i><i class=\"i-2\">◆</i></span></div></div></div></div><a class=\"link\" href=\"/ditie/zd_shilihe.shtml\">十里河</a></div><div class=\"station\"><div class=\"line-h line-h-254 \"><span class=\"dot d-254\"></span></div><a href=\"/ditie/zd_beigongdaximen.shtml\" class=\"link\" target=\"_blank\">北工大西门</a></div><div class=\"station\"><div class=\"line-h line-h-254 \"><div class=\"dot-change\"><div class=\"tips\" style=\"display:none;\"><div class=\"tips-info-box\"><div class=\"tips-info-wrap\">你可以在此处换乘 ：&nbsp;<span style=\"color:#fc4349\"> <a href=\"/ditie/xl_253.shtml\">地铁7号线</a> </span></div><span class=\"tips-ico\"><i class=\"i-1\">◆</i><i class=\"i-2\">◆</i></span></div></div></div></div><a class=\"link\" href=\"/ditie/zd_jiulongshan.shtml\">九龙山</a></div><div class=\"station\"><div class=\"line-h line-h-254 \"><div class=\"dot-change\"><div class=\"tips\" style=\"display:none;\"><div class=\"tips-info-box\"><div class=\"tips-info-wrap\">你可以在此处换乘 ：&nbsp;<span style=\"color:#fc4349\"> <a href=\"/ditie/xl_197.shtml\">地铁1号线(M1)</a> </span></div><span class=\"tips-ico\"><i class=\"i-1\">◆</i><i class=\"i-2\">◆</i></span></div></div></div></div><a class=\"link\" href=\"/ditie/zd_dawanglu.shtml\">大望路</a></div><div class=\"station\"><div class=\"line-h line-h-254 \"><div class=\"dot-change\"><div class=\"tips\" style=\"display:none;\"><div class=\"tips-info-box\"><div class=\"tips-info-wrap\">你可以在此处换乘 ：&nbsp;<span style=\"color:#fc4349\"> <a href=\"/ditie/xl_209.shtml\">地铁6号线</a> </span></div><span class=\"tips-ico\"><i class=\"i-1\">◆</i><i class=\"i-2\">◆</i></span></div></div></div></div><a class=\"link\" href=\"/ditie/zd_jintailu.shtml\">金台路</a></div><div class=\"station\"><div class=\"line-h line-h-254 \"><span class=\"dot d-254\"></span></div><a href=\"/ditie/zd_zaoying.shtml\" class=\"link\" target=\"_blank\">枣营</a></div><div class=\"station\"><div class=\"line-h line-h-254 \"><span class=\"dot d-254\"></span></div><a href=\"/ditie/zd_dongfengbeiqiao.shtml\" class=\"link\" target=\"_blank\">东风北桥</a></div><div class=\"station\"><div class=\"line-h line-h-254 \"><span class=\"dot d-254\"></span></div><a href=\"/ditie/zd_jiangtai.shtml\" class=\"link\" target=\"_blank\">将台</a></div><div class=\"station\"><div class=\"line-h line-h-254 \"><span class=\"dot d-254\"></span></div><a href=\"/ditie/zd_wangjingnan.shtml\" class=\"link\" target=\"_blank\">望京南</a></div><div class=\"station\"><div class=\"line-h line-h-254 \"><span class=\"dot d-254\"></span></div><a href=\"/ditie/zd_futong.shtml\" class=\"link\" target=\"_blank\">阜通</a></div><div class=\"station\"><div class=\"line-h line-h-254 \"><div class=\"dot-change\"><div class=\"tips\" style=\"display:none;\"><div class=\"tips-info-box\"><div class=\"tips-info-wrap\">你可以在此处换乘 ：&nbsp;<span style=\"color:#fc4349\"> <a href=\"/ditie/xl_203.shtml\">地铁15号线</a> </span></div><span class=\"tips-ico\"><i class=\"i-1\">◆</i><i class=\"i-2\">◆</i></span></div></div></div></div><a class=\"link\" href=\"/ditie/zd_wangjing.shtml\">望京</a></div><div class=\"station\"><div class=\"line-h line-h-254 \"><span class=\"dot d-254\"></span></div><a href=\"/ditie/zd_donghuqu.shtml\" class=\"link\" target=\"_blank\">东湖渠</a></div><div class=\"station\"><div class=\"line-h line-h-254 \"><span class=\"dot d-254\"></span></div><a href=\"/ditie/zd_laiguangying.shtml\" class=\"link\" target=\"_blank\">来广营</a></div><div class=\"station\"><div class=\"line-h line-h-254 \"><span class=\"dot d-254\"></span></div><a href=\"/ditie/zd_shangezhuang.shtml\" class=\"link\" target=\"_blank\">善各庄</a></div>\\r\\n\\t\\t\\t\\t\\t\\t\\r\\n\\t\\t\\t\\t\\t\\t\\t<div class=\"clearfix\"></div>\\r\\n\\t\\t\\t\\t\\t\\t</div>\\r\\n\\t\\t\\t\\t\\t\\r\\n\\t\\t\\t\\t\\t</div>\\r\\n\\t\\t\\t\\t</div>\\r\\n\\t\\t\\t\\t\\r\\n\\t\\t\\t\\t\\r\\n\\t\\t\\t\\r\\n\\t\\t\\t\\t<div class=\"line-list\">\\r\\n\\t\\t\\t\\t\\t<div class=\"line-list-heading\" style=\"background:#D4A7A2;\">\\r\\n\\t\\t\\t\\t\\t\\t<div class=\"wrap\">\\r\\n\\t\\t\\t\\t\\t\\t\\t<strong><a href=\"/ditie/map_210.shtml\" target=\"_blank\">北京地铁14号线西段线路图</a></strong>\\r\\n\\t\\t\\t\\t\\t\\t\\t\\r\\n\\r\\n\\t\\t\\t\\t\\t\\t\\t\\r\\n\\t\\t\\t\\t\\t\\t\\t\\r\\n\\t\\t\\t\\t\\t\\t\\t<span class=\"total\">\\r\\n\\t\\t\\t\\t\\t\\t\\t<a style=\"color:#D4A7A2;\" href=\"/ditie/map_210.shtml\" target=\"_blank\">\\r\\n\\t\\t\\t\\t\\t\\t\\t查看详细\\r\\n\\t\\t\\t\\t\\t\\t\\t</a>\\r\\n\\t\\t\\t\\t\\t\\t\\t</span>\\r\\n\\t\\t\\t\\t\\t\\t\\t\\r\\n\\t\\t\\t\\t\\t\\t</div>\\r\\n\\t\\t\\t\\t\\t\\r\\n\\t\\t\\t\\t\\t</div>\\r\\n\\t\\t\\t\\t\\t<div class=\"line-list-body\">\\r\\n\\t\\t\\t\\t\\t\\t<div class=\"line-list-station\">\\r\\n\\t\\t\\t\\t\\t\\t\\r\\n\\t\\t\\t\\t\\t\\t\\r\\n\\t\\t\\t\\t\\t\\t<div class=\"station\"><div class=\"line-h line-h-210 \"><span class=\"dot d-210\"></span></div><a href=\"/ditie/zd_zhangguozhuang.shtml\" class=\"link\" target=\"_blank\">张郭庄</a></div><div class=\"station\"><div class=\"line-h line-h-210 \"><span class=\"dot d-210\"></span></div><a href=\"/ditie/zd_yuanboyuan.shtml\" class=\"link\" target=\"_blank\">园博园</a></div><div class=\"station\"><div class=\"line-h line-h-210 \"><span class=\"dot d-210\"></span></div><a href=\"/ditie/zd_dawayao.shtml\" class=\"link\" target=\"_blank\">大瓦窑</a></div><div class=\"station\"><div class=\"line-h line-h-210 \"><span class=\"dot d-210\"></span></div><a href=\"/ditie/zd_guozhuangzi.shtml\" class=\"link\" target=\"_blank\">郭庄子</a></div><div class=\"station\"><div class=\"line-h line-h-210 \"><span class=\"dot d-210\"></span></div><a href=\"/ditie/zd_dajing.shtml\" class=\"link\" target=\"_blank\">大井</a></div><div class=\"station\"><div class=\"line-h line-h-210 \"><span class=\"dot d-210\"></span></div><a href=\"/ditie/zd_qilizhuang.shtml\" class=\"link\" target=\"_blank\">七里庄</a></div><div class=\"station\"><div class=\"line-h line-h-210 \"><div class=\"dot-change\"><div class=\"tips\" style=\"display:none;\"><div class=\"tips-info-box\"><div class=\"tips-info-wrap\">你可以在此处换乘 ：&nbsp;<span style=\"color:#fc4349\"> <a href=\"/ditie/xl_212.shtml\">地铁10号线</a> </span></div><span class=\"tips-ico\"><i class=\"i-1\">◆</i><i class=\"i-2\">◆</i></span></div></div></div></div><a class=\"link\" href=\"/ditie/zd_xiju.shtml\">西局</a></div>\\r\\n\\t\\t\\t\\t\\t\\t\\r\\n\\t\\t\\t\\t\\t\\t\\t<div class=\"clearfix\"></div>\\r\\n\\t\\t\\t\\t\\t\\t</div>\\r\\n\\t\\t\\t\\t\\t\\r\\n\\t\\t\\t\\t\\t</div>\\r\\n\\t\\t\\t\\t</div>\\r\\n\\t\\t\\t\\t\\r\\n\\t\\t\\t\\t\\r\\n\\t\\t\\t\\r\\n\\t\\t\\t\\t<div class=\"line-list\">\\r\\n\\t\\t\\t\\t\\t<div class=\"line-list-heading\" style=\"background:#5D2D69;\">\\r\\n\\t\\t\\t\\t\\t\\t<div class=\"wrap\">\\r\\n\\t\\t\\t\\t\\t\\t\\t<strong><a href=\"/ditie/map_203.shtml\" target=\"_blank\">北京地铁15号线线路图</a></strong>\\r\\n\\t\\t\\t\\t\\t\\t\\t\\r\\n\\r\\n\\t\\t\\t\\t\\t\\t\\t\\r\\n\\t\\t\\t\\t\\t\\t\\t\\r\\n\\t\\t\\t\\t\\t\\t\\t<span class=\"total\">\\r\\n\\t\\t\\t\\t\\t\\t\\t<a style=\"color:#5D2D69;\" href=\"/ditie/map_203.shtml\" target=\"_blank\">\\r\\n\\t\\t\\t\\t\\t\\t\\t查看详细\\r\\n\\t\\t\\t\\t\\t\\t\\t</a>\\r\\n\\t\\t\\t\\t\\t\\t\\t</span>\\r\\n\\t\\t\\t\\t\\t\\t\\t\\r\\n\\t\\t\\t\\t\\t\\t</div>\\r\\n\\t\\t\\t\\t\\t\\r\\n\\t\\t\\t\\t\\t</div>\\r\\n\\t\\t\\t\\t\\t<div class=\"line-list-body\">\\r\\n\\t\\t\\t\\t\\t\\t<div class=\"line-list-station\">\\r\\n\\t\\t\\t\\t\\t\\t\\r\\n\\t\\t\\t\\t\\t\\t\\r\\n\\t\\t\\t\\t\\t\\t<div class=\"station\"><div class=\"line-h line-h-203 \"><span class=\"dot d-203\"></span></div><a href=\"/ditie/zd_fengbo.shtml\" class=\"link\" target=\"_blank\">俸伯</a></div><div class=\"station\"><div class=\"line-h line-h-203 \"><span class=\"dot d-203\"></span></div><a href=\"/ditie/zd_shunyi.shtml\" class=\"link\" target=\"_blank\">顺义</a></div><div class=\"station\"><div class=\"line-h line-h-203 \"><span class=\"dot d-203\"></span></div><a href=\"/ditie/zd_shimen.shtml\" class=\"link\" target=\"_blank\">石门</a></div><div class=\"station\"><div class=\"line-h line-h-203 \"><span class=\"dot d-203\"></span></div><a href=\"/ditie/zd_nanfaxin.shtml\" class=\"link\" target=\"_blank\">南法信</a></div><div class=\"station\"><div class=\"line-h line-h-203 \"><span class=\"dot d-203\"></span></div><a href=\"/ditie/zd_houshayu.shtml\" class=\"link\" target=\"_blank\">后沙峪</a></div><div class=\"station\"><div class=\"line-h line-h-203 \"><span class=\"dot d-203\"></span></div><a href=\"/ditie/zd_hualihem.shtml\" class=\"link\" target=\"_blank\">花梨坎</a></div><div class=\"station\"><div class=\"line-h line-h-203 \"><span class=\"dot d-203\"></span></div><a href=\"/ditie/zd_guozhan.shtml\" class=\"link\" target=\"_blank\">国展</a></div><div class=\"station\"><div class=\"line-h line-h-203 \"><span class=\"dot d-203\"></span></div><a href=\"/ditie/zd_sunhe.shtml\" class=\"link\" target=\"_blank\">孙河</a></div><div class=\"station\"><div class=\"line-h line-h-203 \"><span class=\"dot d-203\"></span></div><a href=\"/ditie/zd_maquanying.shtml\" class=\"link\" target=\"_blank\">马泉营</a></div><div class=\"station\"><div class=\"line-h line-h-203 \"><span class=\"dot d-203\"></span></div><a href=\"/ditie/zd_cuigezhuang.shtml\" class=\"link\" target=\"_blank\">崔各庄</a></div><div class=\"station\"><div class=\"line-h line-h-203 \"><span class=\"dot d-203\"></span></div><a href=\"/ditie/zd_wangjing.shtml\" class=\"link\" target=\"_blank\">望京</a></div><div class=\"station\"><div class=\"line-h line-h-203 \"><div class=\"dot-change\"><div class=\"tips\" style=\"display:none;\"><div class=\"tips-info-box\"><div class=\"tips-info-wrap\">你可以在此处换乘 ：&nbsp;<span style=\"color:#fc4349\"> <a href=\"/ditie/xl_202.shtml\">地铁13号线(M13)</a> </span></div><span class=\"tips-ico\"><i class=\"i-1\">◆</i><i class=\"i-2\">◆</i></span></div></div></div></div><a class=\"link\" href=\"/ditie/zd_wangjingxi.shtml\">望京西</a></div><div class=\"station\"><div class=\"line-h line-h-203 \"><span class=\"dot d-203\"></span></div><a href=\"/ditie/zd_guanzhuang.shtml\" class=\"link\" target=\"_blank\">关庄</a></div><div class=\"station\"><div class=\"line-h line-h-203 \"><span class=\"dot d-203\"></span></div><a href=\"/ditie/zd_anlilu.shtml\" class=\"link\" target=\"_blank\">安立路</a></div><div class=\"station\"><div class=\"line-h line-h-203 \"><div class=\"dot-change\"><div class=\"tips\" style=\"display:none;\"><div class=\"tips-info-box\"><div class=\"tips-info-wrap\">你可以在此处换乘 ：&nbsp;<span style=\"color:#fc4349\"> <a href=\"/ditie/xl_200.shtml\">地铁8号线(M8)</a> </span></div><span class=\"tips-ico\"><i class=\"i-1\">◆</i><i class=\"i-2\">◆</i></span></div></div></div></div><a class=\"link\" href=\"/ditie/zd_aolinpikegongyuan.shtml\">奥林匹克公园</a></div><div class=\"station\"><div class=\"line-h line-h-203 \"><span class=\"dot d-203\"></span></div><a href=\"/ditie/zd_beishatan.shtml\" class=\"link\" target=\"_blank\">北沙滩</a></div><div class=\"station\"><div class=\"line-h line-h-203 \"><span class=\"dot d-203\"></span></div><a href=\"/ditie/zd_liudaokou.shtml\" class=\"link\" target=\"_blank\">六道口</a></div><div class=\"station\"><div class=\"line-h line-h-203 \"><span class=\"dot d-203\"></span></div><a href=\"/ditie/zd_qinghuadongluxikou.shtml\" class=\"link\" target=\"_blank\">清华东路西口</a></div>\\r\\n\\t\\t\\t\\t\\t\\t\\r\\n\\t\\t\\t\\t\\t\\t\\t<div class=\"clearfix\"></div>\\r\\n\\t\\t\\t\\t\\t\\t</div>\\r\\n\\t\\t\\t\\t\\t\\r\\n\\t\\t\\t\\t\\t</div>\\r\\n\\t\\t\\t\\t</div>\\r\\n\\t\\t\\t\\t\\r\\n\\t\\t\\t\\t\\r\\n\\t\\t\\t\\r\\n\\t\\t\\t\\t<div class=\"line-list\">\\r\\n\\t\\t\\t\\t\\t<div class=\"line-list-heading\" style=\"background:#C33A32;\">\\r\\n\\t\\t\\t\\t\\t\\t<div class=\"wrap\">\\r\\n\\t\\t\\t\\t\\t\\t\\t<strong><a href=\"/ditie/map_204.shtml\" target=\"_blank\">北京地铁八通线(M1)线路图</a></strong>\\r\\n\\t\\t\\t\\t\\t\\t\\t\\r\\n\\r\\n\\t\\t\\t\\t\\t\\t\\t\\r\\n\\t\\t\\t\\t\\t\\t\\t\\r\\n\\t\\t\\t\\t\\t\\t\\t<span class=\"total\">\\r\\n\\t\\t\\t\\t\\t\\t\\t<a style=\"color:#C33A32;\" href=\"/ditie/map_204.shtml\" target=\"_blank\">\\r\\n\\t\\t\\t\\t\\t\\t\\t查看详细\\r\\n\\t\\t\\t\\t\\t\\t\\t</a>\\r\\n\\t\\t\\t\\t\\t\\t\\t</span>\\r\\n\\t\\t\\t\\t\\t\\t\\t\\r\\n\\t\\t\\t\\t\\t\\t</div>\\r\\n\\t\\t\\t\\t\\t\\r\\n\\t\\t\\t\\t\\t</div>\\r\\n\\t\\t\\t\\t\\t<div class=\"line-list-body\">\\r\\n\\t\\t\\t\\t\\t\\t<div class=\"line-list-station\">\\r\\n\\t\\t\\t\\t\\t\\t\\r\\n\\t\\t\\t\\t\\t\\t\\r\\n\\t\\t\\t\\t\\t\\t<div class=\"station\"><div class=\"line-h line-h-204 \"><div class=\"dot-change\"><div class=\"tips\" style=\"display:none;\"><div class=\"tips-info-box\"><div class=\"tips-info-wrap\">你可以在此处换乘 ：&nbsp;<span style=\"color:#fc4349\"> <a href=\"/ditie/xl_197.shtml\">地铁1号线(M1)</a> </span></div><span class=\"tips-ico\"><i class=\"i-1\">◆</i><i class=\"i-2\">◆</i></span></div></div></div></div><a class=\"link\" href=\"/ditie/zd_sihui.shtml\">四惠</a></div><div class=\"station\"><div class=\"line-h line-h-204 \"><div class=\"dot-change\"><div class=\"tips\" style=\"display:none;\"><div class=\"tips-info-box\"><div class=\"tips-info-wrap\">你可以在此处换乘 ：&nbsp;<span style=\"color:#fc4349\"> <a href=\"/ditie/xl_197.shtml\">地铁1号线(M1)</a> </span></div><span class=\"tips-ico\"><i class=\"i-1\">◆</i><i class=\"i-2\">◆</i></span></div></div></div></div><a class=\"link\" href=\"/ditie/zd_sihuidong.shtml\">四惠东</a></div><div class=\"station\"><div class=\"line-h line-h-204 \"><span class=\"dot d-204\"></span></div><a href=\"/ditie/zd_gaobeidian.shtml\" class=\"link\" target=\"_blank\">高碑店</a></div><div class=\"station\"><div class=\"line-h line-h-204 \"><span class=\"dot d-204\"></span></div><a href=\"/ditie/zd_chuanmeidaxue.shtml\" class=\"link\" target=\"_blank\">传媒大学</a></div><div class=\"station\"><div class=\"line-h line-h-204 \"><span class=\"dot d-204\"></span></div><a href=\"/ditie/zd_shuangqiao.shtml\" class=\"link\" target=\"_blank\">双桥</a></div><div class=\"station\"><div class=\"line-h line-h-204 \"><span class=\"dot d-204\"></span></div><a href=\"/ditie/zd_guanzhuang.shtml\" class=\"link\" target=\"_blank\">管庄</a></div><div class=\"station\"><div class=\"line-h line-h-204 \"><span class=\"dot d-204\"></span></div><a href=\"/ditie/zd_baliqiao.shtml\" class=\"link\" target=\"_blank\">八里桥</a></div><div class=\"station\"><div class=\"line-h line-h-204 \"><span class=\"dot d-204\"></span></div><a href=\"/ditie/zd_tongzhoubeiyuan.shtml\" class=\"link\" target=\"_blank\">通州北苑</a></div><div class=\"station\"><div class=\"line-h line-h-204 \"><span class=\"dot d-204\"></span></div><a href=\"/ditie/zd_guoyuan.shtml\" class=\"link\" target=\"_blank\">果园</a></div><div class=\"station\"><div class=\"line-h line-h-204 \"><span class=\"dot d-204\"></span></div><a href=\"/ditie/zd_jiukeshu.shtml\" class=\"link\" target=\"_blank\">九棵树</a></div><div class=\"station\"><div class=\"line-h line-h-204 \"><span class=\"dot d-204\"></span></div><a href=\"/ditie/zd_liyuan.shtml\" class=\"link\" target=\"_blank\">梨园</a></div><div class=\"station\"><div class=\"line-h line-h-204 \"><span class=\"dot d-204\"></span></div><a href=\"/ditie/zd_linheli.shtml\" class=\"link\" target=\"_blank\">临河里</a></div><div class=\"station\"><div class=\"line-h line-h-204 \"><span class=\"dot d-204\"></span></div><a href=\"/ditie/zd_tuqiao.shtml\" class=\"link\" target=\"_blank\">土桥</a></div>\\r\\n\\t\\t\\t\\t\\t\\t\\r\\n\\t\\t\\t\\t\\t\\t\\t<div class=\"clearfix\"></div>\\r\\n\\t\\t\\t\\t\\t\\t</div>\\r\\n\\t\\t\\t\\t\\t\\r\\n\\t\\t\\t\\t\\t</div>\\r\\n\\t\\t\\t\\t</div>\\r\\n\\t\\t\\t\\t\\r\\n\\t\\t\\t\\t\\r\\n\\t\\t\\t\\r\\n\\t\\t\\t\\t<div class=\"line-list\">\\r\\n\\t\\t\\t\\t\\t<div class=\"line-list-heading\" style=\"background:#DE82B1;\">\\r\\n\\t\\t\\t\\t\\t\\t<div class=\"wrap\">\\r\\n\\t\\t\\t\\t\\t\\t\\t<strong><a href=\"/ditie/map_205.shtml\" target=\"_blank\">北京地铁昌平线线路图</a></strong>\\r\\n\\t\\t\\t\\t\\t\\t\\t\\r\\n\\r\\n\\t\\t\\t\\t\\t\\t\\t\\r\\n\\t\\t\\t\\t\\t\\t\\t\\r\\n\\t\\t\\t\\t\\t\\t\\t<span class=\"total\">\\r\\n\\t\\t\\t\\t\\t\\t\\t<a style=\"color:#DE82B1;\" href=\"/ditie/map_205.shtml\" target=\"_blank\">\\r\\n\\t\\t\\t\\t\\t\\t\\t查看详细\\r\\n\\t\\t\\t\\t\\t\\t\\t</a>\\r\\n\\t\\t\\t\\t\\t\\t\\t</span>\\r\\n\\t\\t\\t\\t\\t\\t\\t\\r\\n\\t\\t\\t\\t\\t\\t</div>\\r\\n\\t\\t\\t\\t\\t\\r\\n\\t\\t\\t\\t\\t</div>\\r\\n\\t\\t\\t\\t\\t<div class=\"line-list-body\">\\r\\n\\t\\t\\t\\t\\t\\t<div class=\"line-list-station\">\\r\\n\\t\\t\\t\\t\\t\\t\\r\\n\\t\\t\\t\\t\\t\\t\\r\\n\\t\\t\\t\\t\\t\\t<div class=\"station\"><div class=\"line-h line-h-205 \"><span class=\"dot d-205\"></span></div><a href=\"/ditie/zd_nanshao.shtml\" class=\"link\" target=\"_blank\">南邵</a></div><div class=\"station\"><div class=\"line-h line-h-205 \"><span class=\"dot d-205\"></span></div><a href=\"/ditie/zd_shahegaojiaoyuan.shtml\" class=\"link\" target=\"_blank\">沙河高教园</a></div><div class=\"station\"><div class=\"line-h line-h-205 \"><span class=\"dot d-205\"></span></div><a href=\"/ditie/zd_shahe.shtml\" class=\"link\" target=\"_blank\">沙河</a></div><div class=\"station\"><div class=\"line-h line-h-205 \"><span class=\"dot d-205\"></span></div><a href=\"/ditie/zd_gonghuacheng.shtml\" class=\"link\" target=\"_blank\">巩华城</a></div><div class=\"station\"><div class=\"line-h line-h-205 \"><div class=\"dot-change\"><div class=\"tips\" style=\"display:none;\"><div class=\"tips-info-box\"><div class=\"tips-info-wrap\">你可以在此处换乘 ：&nbsp;<span style=\"color:#fc4349\"> <a href=\"/ditie/xl_200.shtml\">地铁8号线(M8)</a> </span></div><span class=\"tips-ico\"><i class=\"i-1\">◆</i><i class=\"i-2\">◆</i></span></div></div></div></div><a class=\"link\" href=\"/ditie/zd_zhouxinzhuang.shtml\">朱辛庄</a></div><div class=\"station\"><div class=\"line-h line-h-205 \"><span class=\"dot d-205\"></span></div><a href=\"/ditie/zd_shengmingkexueyuan.shtml\" class=\"link\" target=\"_blank\">生命科学园</a></div><div class=\"station\"><div class=\"line-h line-h-205 \"><div class=\"dot-change\"><div class=\"tips\" style=\"display:none;\"><div class=\"tips-info-box\"><div class=\"tips-info-wrap\">你可以在此处换乘 ：&nbsp;<span style=\"color:#fc4349\"> <a href=\"/ditie/xl_202.shtml\">地铁13号线(M13)</a> </span></div><span class=\"tips-ico\"><i class=\"i-1\">◆</i><i class=\"i-2\">◆</i></span></div></div></div></div><a class=\"link\" href=\"/ditie/zd_xierqi.shtml\">西二旗</a></div>\\r\\n\\t\\t\\t\\t\\t\\t\\r\\n\\t\\t\\t\\t\\t\\t\\t<div class=\"clearfix\"></div>\\r\\n\\t\\t\\t\\t\\t\\t</div>\\r\\n\\t\\t\\t\\t\\t\\r\\n\\t\\t\\t\\t\\t</div>\\r\\n\\t\\t\\t\\t</div>\\r\\n\\t\\t\\t\\t\\r\\n\\t\\t\\t\\t\\r\\n\\t\\t\\t\\r\\n\\t\\t\\t\\t<div class=\"line-list\">\\r\\n\\t\\t\\t\\t\\t<div class=\"line-list-heading\" style=\"background:#E40177;\">\\r\\n\\t\\t\\t\\t\\t\\t<div class=\"wrap\">\\r\\n\\t\\t\\t\\t\\t\\t\\t<strong><a href=\"/ditie/map_207.shtml\" target=\"_blank\">北京地铁亦庄线线路图</a></strong>\\r\\n\\t\\t\\t\\t\\t\\t\\t\\r\\n\\r\\n\\t\\t\\t\\t\\t\\t\\t\\r\\n\\t\\t\\t\\t\\t\\t\\t\\r\\n\\t\\t\\t\\t\\t\\t\\t<span class=\"total\">\\r\\n\\t\\t\\t\\t\\t\\t\\t<a style=\"color:#E40177;\" href=\"/ditie/map_207.shtml\" target=\"_blank\">\\r\\n\\t\\t\\t\\t\\t\\t\\t查看详细\\r\\n\\t\\t\\t\\t\\t\\t\\t</a>\\r\\n\\t\\t\\t\\t\\t\\t\\t</span>\\r\\n\\t\\t\\t\\t\\t\\t\\t\\r\\n\\t\\t\\t\\t\\t\\t</div>\\r\\n\\t\\t\\t\\t\\t\\r\\n\\t\\t\\t\\t\\t</div>\\r\\n\\t\\t\\t\\t\\t<div class=\"line-list-body\">\\r\\n\\t\\t\\t\\t\\t\\t<div class=\"line-list-station\">\\r\\n\\t\\t\\t\\t\\t\\t\\r\\n\\t\\t\\t\\t\\t\\t\\r\\n\\t\\t\\t\\t\\t\\t<div class=\"station\"><div class=\"line-h line-h-207 \"><div class=\"dot-change\"><div class=\"tips\" style=\"display:none;\"><div class=\"tips-info-box\"><div class=\"tips-info-wrap\">你可以在此处换乘 ：&nbsp;<span style=\"color:#fc4349\"> <a href=\"/ditie/xl_199.shtml\">地铁5号线(M5)</a>  <a href=\"/ditie/xl_212.shtml\">地铁10号线</a> </span></div><span class=\"tips-ico\"><i class=\"i-1\">◆</i><i class=\"i-2\">◆</i></span></div></div></div></div><a class=\"link\" href=\"/ditie/zd_songjiazhuang.shtml\">宋家庄</a></div><div class=\"station\"><div class=\"line-h line-h-207 \"><span class=\"dot d-207\"></span></div><a href=\"/ditie/zd_xiaocun.shtml\" class=\"link\" target=\"_blank\">肖村</a></div><div class=\"station\"><div class=\"line-h line-h-207 \"><span class=\"dot d-207\"></span></div><a href=\"/ditie/zd_xiaohongmen.shtml\" class=\"link\" target=\"_blank\">小红门</a></div><div class=\"station\"><div class=\"line-h line-h-207 \"><span class=\"dot d-207\"></span></div><a href=\"/ditie/zd_jiugong.shtml\" class=\"link\" target=\"_blank\">旧宫</a></div><div class=\"station\"><div class=\"line-h line-h-207 \"><span class=\"dot d-207\"></span></div><a href=\"/ditie/zd_yizhuangqiao.shtml\" class=\"link\" target=\"_blank\">亦庄桥</a></div><div class=\"station\"><div class=\"line-h line-h-207 \"><span class=\"dot d-207\"></span></div><a href=\"/ditie/zd_yizhuangwenhuayuan.shtml\" class=\"link\" target=\"_blank\">亦庄文化园</a></div><div class=\"station\"><div class=\"line-h line-h-207 \"><span class=\"dot d-207\"></span></div><a href=\"/ditie/zd_wanyuanjie.shtml\" class=\"link\" target=\"_blank\">万源街</a></div><div class=\"station\"><div class=\"line-h line-h-207 \"><span class=\"dot d-207\"></span></div><a href=\"/ditie/zd_rongjingdongjie.shtml\" class=\"link\" target=\"_blank\">荣京东街</a></div><div class=\"station\"><div class=\"line-h line-h-207 \"><span class=\"dot d-207\"></span></div><a href=\"/ditie/zd_rongchangdongjie.shtml\" class=\"link\" target=\"_blank\">荣昌东街</a></div><div class=\"station\"><div class=\"line-h line-h-207 \"><span class=\"dot d-207\"></span></div><a href=\"/ditie/zd_tongjinanlu.shtml\" class=\"link\" target=\"_blank\">同济南路</a></div><div class=\"station\"><div class=\"line-h line-h-207 \"><span class=\"dot d-207\"></span></div><a href=\"/ditie/zd_jinghailu.shtml\" class=\"link\" target=\"_blank\">经海路</a></div><div class=\"station\"><div class=\"line-h line-h-207 \"><span class=\"dot d-207\"></span></div><a href=\"/ditie/zd_ciqunan.shtml\" class=\"link\" target=\"_blank\">次渠南</a></div><div class=\"station\"><div class=\"line-h line-h-207 \"><span class=\"dot d-207\"></span></div><a href=\"/ditie/zd_ciqu.shtml\" class=\"link\" target=\"_blank\">次渠</a></div>\\r\\n\\t\\t\\t\\t\\t\\t\\r\\n\\t\\t\\t\\t\\t\\t\\t<div class=\"clearfix\"></div>\\r\\n\\t\\t\\t\\t\\t\\t</div>\\r\\n\\t\\t\\t\\t\\t\\r\\n\\t\\t\\t\\t\\t</div>\\r\\n\\t\\t\\t\\t</div>\\r\\n\\t\\t\\t\\t\\r\\n\\t\\t\\t\\t\\r\\n\\t\\t\\t\\r\\n\\t\\t\\t\\t<div class=\"line-list\">\\r\\n\\t\\t\\t\\t\\t<div class=\"line-list-heading\" style=\"background:#E66021;\">\\r\\n\\t\\t\\t\\t\\t\\t<div class=\"wrap\">\\r\\n\\t\\t\\t\\t\\t\\t\\t<strong><a href=\"/ditie/map_206.shtml\" target=\"_blank\">北京地铁房山线线路图</a></strong>\\r\\n\\t\\t\\t\\t\\t\\t\\t\\r\\n\\r\\n\\t\\t\\t\\t\\t\\t\\t\\r\\n\\t\\t\\t\\t\\t\\t\\t\\r\\n\\t\\t\\t\\t\\t\\t\\t<span class=\"total\">\\r\\n\\t\\t\\t\\t\\t\\t\\t<a style=\"color:#E66021;\" href=\"/ditie/map_206.shtml\" target=\"_blank\">\\r\\n\\t\\t\\t\\t\\t\\t\\t查看详细\\r\\n\\t\\t\\t\\t\\t\\t\\t</a>\\r\\n\\t\\t\\t\\t\\t\\t\\t</span>\\r\\n\\t\\t\\t\\t\\t\\t\\t\\r\\n\\t\\t\\t\\t\\t\\t</div>\\r\\n\\t\\t\\t\\t\\t\\r\\n\\t\\t\\t\\t\\t</div>\\r\\n\\t\\t\\t\\t\\t<div class=\"line-list-body\">\\r\\n\\t\\t\\t\\t\\t\\t<div class=\"line-list-station\">\\r\\n\\t\\t\\t\\t\\t\\t\\r\\n\\t\\t\\t\\t\\t\\t\\r\\n\\t\\t\\t\\t\\t\\t<div class=\"station\"><div class=\"line-h line-h-206 \"><span class=\"dot d-206\"></span></div><a href=\"/ditie/zd_suzhuang.shtml\" class=\"link\" target=\"_blank\">苏庄</a></div><div class=\"station\"><div class=\"line-h line-h-206 \"><span class=\"dot d-206\"></span></div><a href=\"/ditie/zd_liangxiangnanguan.shtml\" class=\"link\" target=\"_blank\">良乡南关</a></div><div class=\"station\"><div class=\"line-h line-h-206 \"><span class=\"dot d-206\"></span></div><a href=\"/ditie/zd_liangxiangdaxuechengxi.shtml\" class=\"link\" target=\"_blank\">良乡大学城西</a></div><div class=\"station\"><div class=\"line-h line-h-206 \"><span class=\"dot d-206\"></span></div><a href=\"/ditie/zd_liangxiangdaxuecheng.shtml\" class=\"link\" target=\"_blank\">良乡大学城</a></div><div class=\"station\"><div class=\"line-h line-h-206 \"><span class=\"dot d-206\"></span></div><a href=\"/ditie/zd_liangxiangdaxuechengbei.shtml\" class=\"link\" target=\"_blank\">良乡大学城北</a></div><div class=\"station\"><div class=\"line-h line-h-206 \"><span class=\"dot d-206\"></span></div><a href=\"/ditie/zd_guangyangcheng.shtml\" class=\"link\" target=\"_blank\">广阳城</a></div><div class=\"station\"><div class=\"line-h line-h-206 \"><span class=\"dot d-206\"></span></div><a href=\"/ditie/zd_libafang.shtml\" class=\"link\" target=\"_blank\">篱笆房</a></div><div class=\"station\"><div class=\"line-h line-h-206 \"><span class=\"dot d-206\"></span></div><a href=\"/ditie/zd_changyang.shtml\" class=\"link\" target=\"_blank\">长阳</a></div><div class=\"station\"><div class=\"line-h line-h-206 \"><span class=\"dot d-206\"></span></div><a href=\"/ditie/zd_daotian.shtml\" class=\"link\" target=\"_blank\">稻田</a></div><div class=\"station\"><div class=\"line-h line-h-206 \"><span class=\"dot d-206\"></span></div><a href=\"/ditie/zd_dabaotai.shtml\" class=\"link\" target=\"_blank\">大葆台</a></div><div class=\"station\"><div class=\"line-h line-h-206 \"><div class=\"dot-change\"><div class=\"tips\" style=\"display:none;\"><div class=\"tips-info-box\"><div class=\"tips-info-wrap\">你可以在此处换乘 ：&nbsp;<span style=\"color:#fc4349\"> <a href=\"/ditie/xl_201.shtml\">地铁9号线(M9)</a> </span></div><span class=\"tips-ico\"><i class=\"i-1\">◆</i><i class=\"i-2\">◆</i></span></div></div></div></div><a class=\"link\" href=\"/ditie/zd_guogongzhuang.shtml\">郭公庄</a></div>\\r\\n\\t\\t\\t\\t\\t\\t\\r\\n\\t\\t\\t\\t\\t\\t\\t<div class=\"clearfix\"></div>\\r\\n\\t\\t\\t\\t\\t\\t</div>\\r\\n\\t\\t\\t\\t\\t\\r\\n\\t\\t\\t\\t\\t</div>\\r\\n\\t\\t\\t\\t</div>\\r\\n\\t\\t\\t\\t\\r\\n\\t\\t\\t\\t\\r\\n\\t\\t\\t\\r\\n\\t\\t\\t\\t<div class=\"line-list\">\\r\\n\\t\\t\\t\\t\\t<div class=\"line-list-heading\" style=\"background:#A29BBC;\">\\r\\n\\t\\t\\t\\t\\t\\t<div class=\"wrap\">\\r\\n\\t\\t\\t\\t\\t\\t\\t<strong><a href=\"/ditie/map_208.shtml\" target=\"_blank\">北京地铁机场线(L1)线路图</a></strong>\\r\\n\\t\\t\\t\\t\\t\\t\\t\\r\\n\\r\\n\\t\\t\\t\\t\\t\\t\\t\\r\\n\\t\\t\\t\\t\\t\\t\\t\\r\\n\\t\\t\\t\\t\\t\\t\\t<span class=\"total\">\\r\\n\\t\\t\\t\\t\\t\\t\\t<a style=\"color:#A29BBC;\" href=\"/ditie/map_208.shtml\" target=\"_blank\">\\r\\n\\t\\t\\t\\t\\t\\t\\t查看详细\\r\\n\\t\\t\\t\\t\\t\\t\\t</a>\\r\\n\\t\\t\\t\\t\\t\\t\\t</span>\\r\\n\\t\\t\\t\\t\\t\\t\\t\\r\\n\\t\\t\\t\\t\\t\\t</div>\\r\\n\\t\\t\\t\\t\\t\\r\\n\\t\\t\\t\\t\\t</div>\\r\\n\\t\\t\\t\\t\\t<div class=\"line-list-body\">\\r\\n\\t\\t\\t\\t\\t\\t<div class=\"line-list-station\">\\r\\n\\t\\t\\t\\t\\t\\t\\r\\n\\t\\t\\t\\t\\t\\t\\r\\n\\t\\t\\t\\t\\t\\t<div class=\"station\"><div class=\"line-h line-h-208 \"><div class=\"dot-change\"><div class=\"tips\" style=\"display:none;\"><div class=\"tips-info-box\"><div class=\"tips-info-wrap\">你可以在此处换乘 ：&nbsp;<span style=\"color:#fc4349\"> <a href=\"/ditie/xl_211.shtml\">地铁2号线(内环)</a>  <a href=\"/ditie/xl_202.shtml\">地铁13号线(M13)</a> </span></div><span class=\"tips-ico\"><i class=\"i-1\">◆</i><i class=\"i-2\">◆</i></span></div></div></div></div><a class=\"link\" href=\"/ditie/zd_dongzhimen.shtml\">东直门</a></div><div class=\"station\"><div class=\"line-h line-h-208 \"><div class=\"dot-change\"><div class=\"tips\" style=\"display:none;\"><div class=\"tips-info-box\"><div class=\"tips-info-wrap\">你可以在此处换乘 ：&nbsp;<span style=\"color:#fc4349\"> <a href=\"/ditie/xl_212.shtml\">地铁10号线</a> </span></div><span class=\"tips-ico\"><i class=\"i-1\">◆</i><i class=\"i-2\">◆</i></span></div></div></div></div><a class=\"link\" href=\"/ditie/zd_sanyuanqiao.shtml\">三元桥</a></div><div class=\"station\"><div class=\"line-h line-h-208 \"><span class=\"dot d-208\"></span></div><a href=\"/ditie/zd_T3hangzhanlou.shtml\" class=\"link\" target=\"_blank\">T3航站楼</a></div><div class=\"station\"><div class=\"line-h line-h-208 \"><span class=\"dot d-208\"></span></div><a href=\"/ditie/zd_T2hangzhanlou.shtml\" class=\"link\" target=\"_blank\">T2航站楼</a></div>\\r\\n\\t\\t\\t\\t\\t\\t\\r\\n\\t\\t\\t\\t\\t\\t\\t<div class=\"clearfix\"></div>\\r\\n\\t\\t\\t\\t\\t\\t</div>\\r\\n\\t\\t\\t\\t\\t\\r\\n\\t\\t\\t\\t\\t</div>\\r\\n\\t\\t\\t\\t</div>\\r\\n\\t\\t\\t\\t\\r\\n\\t\\t\\t\\t\\r\\n\\t\\t\\t\\t\\r\\n\\t\\t\\t\\t\\r\\n\\r\\n\\r\\n\\t\\t</div>\\r\\n\\t\\t\\r\\n\\t\\t<!-- right -->\\r\\n\\t\\t\\r\\n\\t\\t<div class=\"s-sub\">\\r\\n    <div class=\"m-hotline mb8\">\\r\\n        <h2>\\r\\n            北京地铁服务热线</h2>\\r\\n        <div class=\"hotline\">\\r\\n            <p class=\"phone\">\\r\\n                68345678\\r\\n                </p>\\r\\n        </div>\\r\\n    </div>\\r\\n   \\r\\n  \\t\\r\\n   \\r\\n     \\r\\n      <div class=\"m-info\">\\r\\n \\t<div class=\"m-hd\">\\r\\n        <h2>\\r\\n \\r\\n                北京地铁动态</h2>\\r\\n\\t\\t\\t\\t<a class=\"more\" href=\"http://bj.bendibao.com/traffic/list_23_332_1.htm\" target=\"_blank\">更多</a>\\r\\n\\t\\t\\t\\t\\r\\n\\t</div>\\r\\n\\t\\r\\n        <ul>\\r\\n           <li><a target=\\'_blank\\' href=\\'http://bj.bendibao.com/traffic/202013/267961.shtm\\'>2020年最新北京地铁线路图高清晰放大版</a></li><li><a target=\\'_blank\\' href=\\'http://bj.bendibao.com/traffic/20191231/267811.shtm\\'>北京地铁17号线最新线路图</a></li><li><a target=\\'_blank\\' href=\\'http://bj.bendibao.com/traffic/20191231/267812.shtm\\'>北京地铁11号线西段最新消息(不断更新中)</a></li><li><a target=\\'_blank\\' href=\\'http://bj.bendibao.com/traffic/20191231/267808.shtm\\'>2019年12月30日起北京地铁13号线各站首末班车时</a></li><li><a target=\\'_blank\\' href=\\'http://bj.bendibao.com/traffic/20191229/267762.shtm\\'>北京地铁八通线南延开通时间是哪天?</a></li><li><a target=\\'_blank\\' href=\\'http://bj.bendibao.com/traffic/20191229/267761.shtm\\'>北京地铁7号线东延各站点首末班车时刻表</a></li><li><a target=\\'_blank\\' href=\\'http://bj.bendibao.com/traffic/20191229/267760.shtm\\'>北京地铁7号线东延开通时间及各站点首末班车时刻</a></li><li><a target=\\'_blank\\' href=\\'http://bj.bendibao.com/traffic/20191128/266633.shtm\\'>北京地铁7号线东延通车时间及站点地图</a></li><li><a target=\\'_blank\\' href=\\'http://bj.bendibao.com/traffic/20191128/266642.shtm\\'>北京地铁7号线东延开通时间是什么时候</a></li><li><a target=\\'_blank\\' href=\\'http://bj.bendibao.com/traffic/2018710/250835.shtm\\'>北京地铁17号线最新消息（持续更新）</a></li>\\r\\n        </ul>\\r\\n    </div>\\r\\n     \\r\\n     \\r\\n     \\r\\n     \\r\\n     <!--\\r\\n     <div class=\"m m-4 mt8\">\\r\\n        <h2>\\r\\n            微信小程序查地铁</h2>\\r\\n    <img src=\"http://imgbdb3.bendibao.com/bjbdb/20171/9/20170109092553_94194.jpg\" width=\"300\">\\r\\n    </div>\\r\\n     -->\\r\\n\\r\\n    \\r\\n    <div class=\"mb8\">\\r\\n\\r\\n        <script type=\"text/javascript\">BAIDU_CLB_fillSlot(\"739600\");</script>\\r\\n\\r\\n    </div>\\r\\n    \\r\\n    \\r\\n    \\r\\n    <div class=\"m m-3\">\\r\\n        <div class=\"m-hd\">\\r\\n        <h2>\\r\\n            北京地铁已开通线路</h2>\\r\\n            \\r\\n           <a class=\"more\" href=\"/ditie/linemap.shtml\">更多</a>\\r\\n         </div>   \\r\\n        <ul>\\r\\n        \\r\\n            <li><a href=\"/ditie/xl_197.shtml\" target=\"_blank\">北京地铁1号线(M1)</a></li><li><a href=\"/ditie/xl_211.shtml\" target=\"_blank\">北京地铁2号线(内环)</a></li><li><a href=\"/ditie/xl_346.shtml\" target=\"_blank\">北京地铁2号线(外环)</a></li><li><a href=\"/ditie/xl_198.shtml\" target=\"_blank\">北京地铁4号线(M4)</a></li><li><a href=\"/ditie/xl_199.shtml\" target=\"_blank\">北京地铁5号线(M5)</a></li><li><a href=\"/ditie/xl_209.shtml\" target=\"_blank\">北京地铁6号线</a></li><li><a href=\"/ditie/xl_253.shtml\" target=\"_blank\">北京地铁7号线</a></li><li><a href=\"/ditie/xl_200.shtml\" target=\"_blank\">北京地铁8号线(M8)</a></li><li><a href=\"/ditie/xl_201.shtml\" target=\"_blank\">北京地铁9号线(M9)</a></li><li><a href=\"/ditie/xl_212.shtml\" target=\"_blank\">北京地铁10号线</a></li><li><a href=\"/ditie/xl_202.shtml\" target=\"_blank\">北京地铁13号线(M13)</a></li><li><a href=\"/ditie/xl_254.shtml\" target=\"_blank\">北京地铁14号线东段</a></li><li><a href=\"/ditie/xl_210.shtml\" target=\"_blank\">北京地铁14号线西段</a></li><li><a href=\"/ditie/xl_203.shtml\" target=\"_blank\">北京地铁15号线</a></li><li><a href=\"/ditie/xl_204.shtml\" target=\"_blank\">北京地铁八通线(M1)</a></li><li><a href=\"/ditie/xl_205.shtml\" target=\"_blank\">北京地铁昌平线</a></li><li><a href=\"/ditie/xl_207.shtml\" target=\"_blank\">北京地铁亦庄线</a></li><li><a href=\"/ditie/xl_206.shtml\" target=\"_blank\">北京地铁房山线</a></li><li><a href=\"/ditie/xl_208.shtml\" target=\"_blank\">北京地铁机场线(L1)</a></li>\\r\\n            \\r\\n            \\r\\n        </ul>\\r\\n    </div>\\r\\n    \\r\\n    \\r\\n    \\r\\n    <div class=\"m m-3\">\\r\\n        <div class=\"m-hd\">\\r\\n        <h2>\\r\\n         北京地铁规划中线路</h2>\\r\\n         \\r\\n           <a class=\"more\" href=\"/ditie/plan.shtml\">更多</a>\\r\\n         </div>   \\r\\n        <ul>\\r\\n        \\r\\n            <li><a href=\"/ditie/xl_331.shtml\" target=\"_blank\">北京地铁14号线中段</a></li><li><a href=\"/ditie/xl_332.shtml\" target=\"_blank\">北京地铁8号线三期</a></li><li><a href=\"/ditie/xl_333.shtml\" target=\"_blank\">北京地铁玉泉路线</a></li><li><a href=\"/ditie/xl_334.shtml\" target=\"_blank\">北京地铁昌平线二期</a></li><li><a href=\"/ditie/xl_335.shtml\" target=\"_blank\">北京地铁西郊线</a></li><li><a href=\"/ditie/xl_336.shtml\" target=\"_blank\">北京地铁山后线</a></li><li><a href=\"/ditie/xl_337.shtml\" target=\"_blank\">北京地铁6号线三期</a></li><li><a href=\"/ditie/xl_338.shtml\" target=\"_blank\">北京地铁16号线</a></li><li><a href=\"/ditie/xl_339.shtml\" target=\"_blank\">北京地铁燕房线</a></li><li><a href=\"/ditie/xl_340.shtml\" target=\"_blank\">北京地铁S1线磁悬浮</a></li><li><a href=\"/ditie/xl_342.shtml\" target=\"_blank\">北京地铁3号线</a></li><li><a href=\"/ditie/xl_343.shtml\" target=\"_blank\">北京地铁12号线</a></li><li><a href=\"/ditie/xl_344.shtml\" target=\"_blank\">北京地铁17号线</a></li><li><a href=\"/ditie/xl_345.shtml\" target=\"_blank\">北京地铁房山北延线</a></li>\\r\\n            \\r\\n                        \\r\\n            \\r\\n                    \\t<li><a href=\"http://bj.bendibao.com/traffic/2011914/74513.shtm\" target=\"_blank\">北京地铁远景规划图</a></li>\\r\\n                        <li><a href=\"http://bj.bendibao.com/traffic/2011915/74525.shtm\" target=\"_blank\">北京地铁1号线线路图</a></li>\\r\\n                        <li><a href=\"http://bj.bendibao.com/traffic/2011915/74526.shtm\" target=\"_blank\">北京地铁2号线线路图</a></li>\\r\\n                        <li><a href=\"http://bj.bendibao.com/traffic/2011915/74527.shtm\" target=\"_blank\">北京地铁4号线线路图</a></li>\\r\\n                        <li><a href=\"http://bj.bendibao.com/traffic/2011915/74528.shtm\" target=\"_blank\">北京地铁5号线线路图</a></li>\\r\\n                        <li><a href=\"http://bj.bendibao.com/traffic/201221/77521.shtm\" target=\"_blank\">北京地铁6号线线路图</a></li>\\r\\n                        <li><a href=\"http://bj.bendibao.com/traffic/2011915/74529.shtm\" target=\"_blank\">北京地铁8号线线路图</a></li>\\r\\n                        <li><a href=\"http://bj.bendibao.com/traffic/20111229/76952.shtm\" target=\"_blank\">北京地铁9号线线路图</a></li>\\r\\n                        <li><a href=\"http://bj.bendibao.com/traffic/2011915/74530.shtm\" target=\"_blank\">北京地铁10号线线路图</a></li>\\r\\n                        <li><a href=\"http://bj.bendibao.com/traffic/2011915/74531.shtm\" target=\"_blank\">北京地铁13号线线路图</a></li>\\r\\n                        <li><a href=\"http://bj.bendibao.com/traffic/2012111/77319.shtm\" target=\"_blank\">北京地铁14号线线路图</a></li>\\r\\n                        <li><a href=\"http://bj.bendibao.com/traffic/2011915/74532.shtm\" target=\"_blank\">北京地铁15号线线路图</a></li>\\r\\n                        <li><a href=\"http://bj.bendibao.com/traffic/2012111/77325.shtm\" target=\"_blank\">北京地铁16号线线路图</a></li>\\r\\n                        <li><a href=\"http://bj.bendibao.com/traffic/2011915/74533.shtm\" target=\"_blank\">北京地铁八通线线路图</a></li>\\r\\n                        <li><a href=\"http://bj.bendibao.com/traffic/2011915/74535.shtm\" target=\"_blank\">北京地铁机场线线路图</a></li>\\r\\n                        <li><a href=\"http://bj.bendibao.com/traffic/2011915/74538.shtm\" target=\"_blank\">北京地铁昌平线线路图</a></li>\\r\\n                        <li><a href=\"http://bj.bendibao.com/traffic/2013108/118872.shtm\" target=\"_blank\">北京地铁昌八线线路图</a></li>\\r\\n                        <li><a href=\"http://bj.bendibao.com/traffic/2011915/74539.shtm\" target=\"_blank\">北京地铁大兴线线路图</a></li>\\r\\n                        <li><a href=\"http://bj.bendibao.com/traffic/2011915/74541.shtm\" target=\"_blank\">北京地铁亦庄线线路图</a></li>\\r\\n                        <li><a href=\"http://bj.bendibao.com/traffic/2011915/74542.shtm\" target=\"_blank\">北京地铁房山线线路图</a></li>\\r\\n                        <li><a href=\"http://bj.bendibao.com/traffic/201399/116438.shtm\" target=\"_blank\">北京地铁山后线线路图</a></li>\\r\\n                \\t\\r\\n            \\r\\n        </ul>\\r\\n    </div>\\r\\n    \\r\\n    \\r\\n    \\r\\n    \\r\\n    \\r\\n    <div class=\"m m-4\">\\r\\n        <h2>\\r\\n            热门城市地铁线路图</h2>\\r\\n        <ul>\\r\\n        \\r\\n        \\r\\n        <li><a href=\"http://bj.bendibao.com/ditie/linemap.shtml\" target=\"_blank\">北京地铁</a></li>\\r\\n        <li><a href=\"http://sh.bendibao.com/ditie/linemap.shtml\" target=\"_blank\">上海地铁</a></li>\\r\\n        <li><a href=\"http://gz.bendibao.com/ditie/linemap.shtml\" target=\"_blank\">广州地铁</a></li>\\r\\n        <li><a href=\"http://jt.sz.bendibao.com/z/metro/linemap.shtml\" target=\"_blank\">深圳地铁</a></li>\\r\\n        <li><a href=\"http://wh.bendibao.com/ditie/linemap.shtml\" target=\"_blank\">武汉地铁</a></li>\\r\\n        <li><a href=\"http://nj.bendibao.com/ditie/linemap.shtml\" target=\"_blank\">南京地铁</a></li>\\r\\n        <li><a href=\"http://hz.bendibao.com/ditie/linemap.shtml\" target=\"_blank\">杭州地铁</a></li>\\r\\n        <li><a href=\"http://cd.bendibao.com/ditie/linemap.shtml\" target=\"_blank\">成都地铁</a></li>\\r\\n        <li><a href=\"http://tj.bendibao.com/ditie/linemap.shtml\" target=\"_blank\">天津地铁</a></li>\\r\\n        <li><a href=\"http://xa.bendibao.com/ditie/linemap.shtml\" target=\"_blank\">西安地铁</a></li>\\r\\n        <li><a href=\"http://sy.bendibao.com/ditie/linemap.shtml\" target=\"_blank\">沈阳地铁</a></li>\\r\\n        <li><a href=\"http://dl.bendibao.com/ditie/linemap.shtml\" target=\"_blank\">大连地铁</a></li>\\r\\n                       \\r\\n        </ul>\\r\\n    </div>\\r\\n    \\r\\n    \\r\\n    \\r\\n    <DIV style=\"LINE-HEIGHT: 30px; FONT-SIZE: 16px\" class=mb8><IMG src=\"http://imgbdb2.bendibao.com/bjbdb/20173/16/20170316094109_65893.jpg\" width=300></DIV>\\r\\n<DIV style=\"LINE-HEIGHT: 30px; FONT-SIZE: 16px\" class=mb8 align=left><STRONG>扫一扫上方二维码，关注北京本地宝</STRONG></DIV>\\r\\n<DIV style=\"LINE-HEIGHT: 30px; FONT-SIZE: 16px\" class=mb8 align=left><STRONG>输入【<FONT color=#ff0000>易通行</FONT>】获取北京刷二维码操作入口</STRONG></DIV>\\r\\n<DIV style=\"LINE-HEIGHT: 30px; FONT-SIZE: 16px\" class=mb8 align=left><STRONG>输入【<FONT color=#ff0000>地铁</FONT>】获取高清线路查询、首末车时刻表、一卡通充值/查询</STRONG></DIV>\\r\\n    \\r\\n    \\r\\n</div>\\r\\n\\r\\n\\t\\t\\t\\t\\r\\n\\t\\t\\t\\t<div class=\"clearfix\"></div>\\r\\n\\t\\t\\r\\n\\t\\t</div>\\r\\n\\t\\t\\r\\n\\t\\t\\r\\n\\t\\t\\r\\n\\r\\n\\t\\t\\r\\n\\t\\t<!-- /SECTION 2 END -->\\r\\n\\r\\n\\r\\n\\t\\t\\r\\n\\t\\r\\n\\r\\n</div>\\r\\n\\r\\n\\r\\n\\r\\n\\r\\n\\r\\n<script src=\"http://libs.baidu.com/jquery/1.10.1/jquery.min.js\"></script>\\r\\n\\r\\n<script language=\"javascript\">\\r\\nfunction showcurrnav(eleid){$(\"#\"+eleid).addClass(\"active\");}\\r\\n</script>\\r\\n<div id=\"end_zt\">\\r\\n  <div class=\"wenzi\"><a href=\"http://www.bendibao.com/culture.htm\">企业文化</a> | <a href=\"http://www.bendibao.com/adservices.htm\">广告服务</a> | <a href=\"http://www.bendibao.com/ggzf/\">广告价目</a> | <a href=\"http://www.bendibao.com/about.htm\">关于我们</a> | <a href=\"http://www.bendibao.com/contactus.htm\">联系我们</a> | <a href=\"http://www.bendibao.com/job.htm\">诚聘英才</a> | <a href=\"http://www.bendibao.com/law.htm\">法律顾问</a> | <a href=\"http://www.bendibao.com/suggest.htm\">意见建议</a><br />\\r\\n      <a href=\"http://www.bendibao.com\">本地宝</a> BENDIBAO.COM 汇深网 版权所有 2006-2020 <a href=\"http://www.bendibao.com/icp.htm\">ICP证：粤B2-20040803</a>\\r\\n\\t  \\r\\n<script type=\"text/javascript\">\\r\\n\\r\\n\\t\\t\\tvar _bdhmProtocol = ((\"https:\" == document.location.protocol) ? \" https://\" : \" http://\");\\r\\n\\r\\n\\t\\t\\tdocument.write(unescape(\"%3Cscript src=\\'\" + _bdhmProtocol + \"hm.baidu.com/h.js%3Fbc6ddf5d14fb4470bf7c23e9ee036ae2\\' type=\\'text/javascript\\'%3E%3C/script%3E\"));\\r\\n\\r\\n\\t\\t</script>\\r\\n\\r\\n<script>var ajstat_url\\t= document.location.href;\\r\\n var ajstat_outstr\\t= \\'<script language=javascript src=http://wh.bendibao.com/weixin_right.php?\\'\\r\\n  + \\'&theurl=\\'+ajstat_url \\r\\n  + \\'&title=\\'+document.title\\t \\r\\n  + \\'><\\\\/script>\\';\\r\\n document.write(ajstat_outstr);</script>\\r\\n\\r\\n\\r\\n  </div>\\r\\n</div>\\r\\n\\r\\n\\r\\n\\r\\n<script type=\"text/javascript\" >\\r\\n    $(function() {\\r\\n        $(\\'.station\\').mouseenter(function() {\\r\\n            $(this).find(\\'.tips\\').show()\\r\\n        }).mouseleave(function() {\\r\\n            $(this).find(\\'.tips\\').hide()\\r\\n        })\\r\\n    })\\r\\n</script>\\r\\n\\r\\n\\r\\n<script language=\"javascript\" type=\"text/javascript\">showcurrnav(\"nav_metro\");</script>\\r\\n\\r\\n</body>\\r\\n</html>\\r\\n<!--nocache-->'"
      ]
     },
     "execution_count": 4,
     "metadata": {},
     "output_type": "execute_result"
    }
   ],
   "source": [
    "response.text"
   ]
  },
  {
   "cell_type": "code",
   "execution_count": 5,
   "metadata": {},
   "outputs": [],
   "source": [
    "subwayLineExample = \"http://bj.bendibao.com/ditie/map_197.shtml\"\n",
    "allSubwayLinePattern = re.compile(r'(/ditie/map_\\d+.shtml)')"
   ]
  },
  {
   "cell_type": "code",
   "execution_count": 6,
   "metadata": {},
   "outputs": [],
   "source": [
    "suffixUrl = [set(getString(allSubwayLinePattern,notProcessText))]\n",
    "allSubwayLineUrl = ['http://bj.bendibao.com' + url for url in suffixUrl[0]]"
   ]
  },
  {
   "cell_type": "code",
   "execution_count": 7,
   "metadata": {},
   "outputs": [
    {
     "data": {
      "text/plain": [
       "['http://bj.bendibao.com/ditie/map_212.shtml',\n",
       " 'http://bj.bendibao.com/ditie/map_207.shtml',\n",
       " 'http://bj.bendibao.com/ditie/map_208.shtml',\n",
       " 'http://bj.bendibao.com/ditie/map_253.shtml',\n",
       " 'http://bj.bendibao.com/ditie/map_211.shtml',\n",
       " 'http://bj.bendibao.com/ditie/map_201.shtml',\n",
       " 'http://bj.bendibao.com/ditie/map_254.shtml',\n",
       " 'http://bj.bendibao.com/ditie/map_198.shtml',\n",
       " 'http://bj.bendibao.com/ditie/map_197.shtml',\n",
       " 'http://bj.bendibao.com/ditie/map_199.shtml',\n",
       " 'http://bj.bendibao.com/ditie/map_210.shtml',\n",
       " 'http://bj.bendibao.com/ditie/map_200.shtml',\n",
       " 'http://bj.bendibao.com/ditie/map_204.shtml',\n",
       " 'http://bj.bendibao.com/ditie/map_203.shtml',\n",
       " 'http://bj.bendibao.com/ditie/map_206.shtml',\n",
       " 'http://bj.bendibao.com/ditie/map_202.shtml',\n",
       " 'http://bj.bendibao.com/ditie/map_346.shtml',\n",
       " 'http://bj.bendibao.com/ditie/map_205.shtml',\n",
       " 'http://bj.bendibao.com/ditie/map_209.shtml']"
      ]
     },
     "execution_count": 7,
     "metadata": {},
     "output_type": "execute_result"
    }
   ],
   "source": [
    "allSubwayLineUrl"
   ]
  },
  {
   "cell_type": "code",
   "execution_count": 8,
   "metadata": {},
   "outputs": [],
   "source": [
    "# 不可换乘的正则表达式\n",
    "# <a href=\"/ditie/zd_liujiayao.shtml\" class=\"link\" target=\"_blank\">刘家窑</a>\n",
    "stationUntransferablePattern = re.compile(r'\\w+\"\\s+target=\"_blank\">((?!地铁|北京地铁)\\w+)</a>')\n",
    "# 可换乘的正则表达式\n",
    "# <a class=\"link\" href=\"/ditie/zd_songjiazhuang.shtml\">宋家庄</a>\n",
    "stationTransferablePattern = re.compile(r'<a\\s+class=\"link\"\\s+href=\"/ditie/\\w+_\\w+.shtml\">((?!地铁|北京地铁)\\w+)</a>')"
   ]
  },
  {
   "cell_type": "code",
   "execution_count": 9,
   "metadata": {},
   "outputs": [],
   "source": [
    "# <a\\s+href=\"/ditie/\\w+_\\w+.shtml\"\\s+\\w+=\"\\w+\"\\s+target=\"_blank\">(\\w+)</a>\n",
    "# <a href=\"/ditie/zd_puhuangyu.shtml\" class=\"link\" target=\"_blank\">蒲黄榆</a>"
   ]
  },
  {
   "cell_type": "code",
   "execution_count": 10,
   "metadata": {},
   "outputs": [],
   "source": [
    "def getStation(input,station_TransferablePattern,station_UntransferablePattern):\n",
    "    target = []\n",
    "    for line in input:\n",
    "        station = getString(station_TransferablePattern,str(line))\n",
    "#         print(station)\n",
    "        #如果是不能换乘的，就抽不到数据，因此做个判断\n",
    "        if len(station) == 0:\n",
    "            station = getString(station_UntransferablePattern,str(line))\n",
    "            \n",
    "        if len(station) != 0:\n",
    "            target.append(station[0])\n",
    "\n",
    "    return target"
   ]
  },
  {
   "cell_type": "code",
   "execution_count": 11,
   "metadata": {},
   "outputs": [],
   "source": [
    "#测试\n",
    "# a = requests.get(allSubwayLineUrl[0])\n",
    "# soup_a = BeautifulSoup(a.text)\n",
    "# soup_a_all = soup_a.find_all('a')\n",
    "# for line in soup_a_all:\n",
    "#     a = getString(stationUntransferablePattern,str(line))\n",
    "#     print(a)\n",
    "    "
   ]
  },
  {
   "cell_type": "code",
   "execution_count": 12,
   "metadata": {},
   "outputs": [],
   "source": [
    "allSubwayStation = {}\n",
    "for url in allSubwayLineUrl:\n",
    "    response = requests.get(url)\n",
    "    #解析，并输出utf—8文本\n",
    "    soup = BeautifulSoup(response.text)\n",
    "    subwayLineName = str(soup.title).split(',')[0].lstrip('<title>')[4:-3]\n",
    "    #思路是先把所有含”a“元素的html片段抽取出来，再用写好的正则过滤\n",
    "    soupGetA = soup.find_all('a')\n",
    "    stations = getStation(soupGetA,stationTransferablePattern,stationUntransferablePattern)\n",
    "    allSubwayStation[subwayLineName] = stations"
   ]
  },
  {
   "cell_type": "code",
   "execution_count": 13,
   "metadata": {},
   "outputs": [
    {
     "data": {
      "text/plain": [
       "{'10号线': ['巴沟',\n",
       "  '苏州街',\n",
       "  '海淀黄庄',\n",
       "  '知春里',\n",
       "  '知春路',\n",
       "  '西土城',\n",
       "  '牡丹园',\n",
       "  '健德门',\n",
       "  '北土城',\n",
       "  '安贞门',\n",
       "  '惠新西街南口',\n",
       "  '芍药居',\n",
       "  '太阳宫',\n",
       "  '三元桥',\n",
       "  '亮马桥',\n",
       "  '农业展览馆',\n",
       "  '团结湖',\n",
       "  '呼家楼',\n",
       "  '金台夕照',\n",
       "  '国贸',\n",
       "  '双井',\n",
       "  '劲松',\n",
       "  '潘家园',\n",
       "  '十里河',\n",
       "  '分钟寺',\n",
       "  '成寿寺',\n",
       "  '宋家庄',\n",
       "  '石榴庄',\n",
       "  '大红门',\n",
       "  '角门东',\n",
       "  '角门西',\n",
       "  '草桥',\n",
       "  '纪家庙',\n",
       "  '首经贸',\n",
       "  '丰台站',\n",
       "  '泥洼',\n",
       "  '西局',\n",
       "  '六里桥',\n",
       "  '莲花桥',\n",
       "  '公主坟',\n",
       "  '西钓鱼台',\n",
       "  '慈寿寺',\n",
       "  '车道沟',\n",
       "  '长春桥',\n",
       "  '火器营'],\n",
       " '亦庄线': ['宋家庄',\n",
       "  '肖村',\n",
       "  '小红门',\n",
       "  '旧宫',\n",
       "  '亦庄桥',\n",
       "  '亦庄文化园',\n",
       "  '万源街',\n",
       "  '荣京东街',\n",
       "  '荣昌东街',\n",
       "  '同济南路',\n",
       "  '经海路',\n",
       "  '次渠南',\n",
       "  '次渠'],\n",
       " '机场线(L1)': ['东直门', '三元桥', 'T3航站楼', 'T2航站楼'],\n",
       " '7号线': ['北京西站',\n",
       "  '湾子',\n",
       "  '达官营',\n",
       "  '广安门内',\n",
       "  '菜市口',\n",
       "  '虎坊桥',\n",
       "  '珠市口',\n",
       "  '桥湾',\n",
       "  '磁器口',\n",
       "  '广渠门内',\n",
       "  '广渠门外',\n",
       "  '双井',\n",
       "  '九龙山',\n",
       "  '大郊亭',\n",
       "  '百子湾',\n",
       "  '化工',\n",
       "  '南楼梓庄',\n",
       "  '欢乐谷景区',\n",
       "  '垡头',\n",
       "  '双合',\n",
       "  '焦化厂'],\n",
       " '2号线(内环)': ['积水潭',\n",
       "  '鼓楼大街',\n",
       "  '安定门',\n",
       "  '雍和宫',\n",
       "  '东直门',\n",
       "  '东四十条',\n",
       "  '朝阳门',\n",
       "  '建国门',\n",
       "  '北京站',\n",
       "  '崇文门',\n",
       "  '前门',\n",
       "  '和平门',\n",
       "  '宣武门',\n",
       "  '长椿街',\n",
       "  '复兴门',\n",
       "  '阜成门',\n",
       "  '车公庄',\n",
       "  '西直门'],\n",
       " '9号线(M9)': ['郭公庄',\n",
       "  '丰台科技园',\n",
       "  '科怡路',\n",
       "  '丰台南路',\n",
       "  '丰台东大街',\n",
       "  '七里庄',\n",
       "  '六里桥',\n",
       "  '六里桥东',\n",
       "  '北京西站',\n",
       "  '军事博物馆',\n",
       "  '白堆子',\n",
       "  '白石桥南',\n",
       "  '国家图书馆'],\n",
       " '14号线东段': ['北京南站',\n",
       "  '永定门外',\n",
       "  '景泰',\n",
       "  '蒲黄榆',\n",
       "  '方庄',\n",
       "  '十里河',\n",
       "  '北工大西门',\n",
       "  '九龙山',\n",
       "  '大望路',\n",
       "  '金台路',\n",
       "  '枣营',\n",
       "  '东风北桥',\n",
       "  '将台',\n",
       "  '望京南',\n",
       "  '阜通',\n",
       "  '望京',\n",
       "  '东湖渠',\n",
       "  '来广营',\n",
       "  '善各庄'],\n",
       " '4号线(M4)': ['安河桥北',\n",
       "  '北宫门',\n",
       "  '西苑',\n",
       "  '圆明园',\n",
       "  '北京大学东门',\n",
       "  '中关村',\n",
       "  '海淀黄庄',\n",
       "  '人民大学',\n",
       "  '魏公村',\n",
       "  '国家图书馆',\n",
       "  '动物园',\n",
       "  '西直门',\n",
       "  '新街口',\n",
       "  '平安里',\n",
       "  '西四',\n",
       "  '灵境胡同',\n",
       "  '西单',\n",
       "  '宣武门',\n",
       "  '菜市口',\n",
       "  '陶然亭',\n",
       "  '北京南站',\n",
       "  '马家堡',\n",
       "  '角门西',\n",
       "  '公益西桥',\n",
       "  '新宫',\n",
       "  '西红门',\n",
       "  '高米店北',\n",
       "  '高米店南',\n",
       "  '枣园',\n",
       "  '清源路',\n",
       "  '黄村西大街',\n",
       "  '黄村火车站',\n",
       "  '义和庄',\n",
       "  '生物医药基地',\n",
       "  '天宫院'],\n",
       " '1号线(M1)': ['苹果园',\n",
       "  '古城',\n",
       "  '八角游乐园',\n",
       "  '八宝山',\n",
       "  '玉泉路',\n",
       "  '五棵松',\n",
       "  '万寿路',\n",
       "  '公主坟',\n",
       "  '军事博物馆',\n",
       "  '木樨地',\n",
       "  '南礼士路',\n",
       "  '复兴门',\n",
       "  '西单',\n",
       "  '天安门西',\n",
       "  '天安门东',\n",
       "  '王府井',\n",
       "  '东单',\n",
       "  '建国门',\n",
       "  '永安里',\n",
       "  '国贸',\n",
       "  '大望路',\n",
       "  '四惠',\n",
       "  '四惠东'],\n",
       " '5号线(M5)': ['宋家庄',\n",
       "  '刘家窑',\n",
       "  '蒲黄榆',\n",
       "  '天坛东门',\n",
       "  '磁器口',\n",
       "  '崇文门',\n",
       "  '东单',\n",
       "  '灯市口',\n",
       "  '东四',\n",
       "  '张自忠路',\n",
       "  '北新桥',\n",
       "  '雍和宫',\n",
       "  '和平里北街',\n",
       "  '和平西桥',\n",
       "  '惠新西街南口',\n",
       "  '惠新西街北口',\n",
       "  '大屯路东',\n",
       "  '北苑路北',\n",
       "  '立水桥南',\n",
       "  '立水桥',\n",
       "  '天通苑南',\n",
       "  '天通苑',\n",
       "  '天通苑北'],\n",
       " '14号线西段': ['张郭庄', '园博园', '大瓦窑', '郭庄子', '大井', '七里庄', '西局'],\n",
       " '8号线(M8)': ['朱辛庄',\n",
       "  '育知路',\n",
       "  '平西府',\n",
       "  '回龙观东大街',\n",
       "  '霍营',\n",
       "  '育新',\n",
       "  '西小口',\n",
       "  '永泰庄',\n",
       "  '林萃桥',\n",
       "  '森林公园南门',\n",
       "  '奥林匹克公园',\n",
       "  '奥体中心',\n",
       "  '北土城',\n",
       "  '安华桥',\n",
       "  '鼓楼大街',\n",
       "  '什刹海',\n",
       "  '南锣鼓巷'],\n",
       " '八通线(M1)': ['四惠',\n",
       "  '四惠东',\n",
       "  '高碑店',\n",
       "  '传媒大学',\n",
       "  '双桥',\n",
       "  '管庄',\n",
       "  '八里桥',\n",
       "  '通州北苑',\n",
       "  '果园',\n",
       "  '九棵树',\n",
       "  '梨园',\n",
       "  '临河里',\n",
       "  '土桥'],\n",
       " '15号线': ['俸伯',\n",
       "  '顺义',\n",
       "  '石门',\n",
       "  '南法信',\n",
       "  '后沙峪',\n",
       "  '花梨坎',\n",
       "  '国展',\n",
       "  '孙河',\n",
       "  '马泉营',\n",
       "  '崔各庄',\n",
       "  '望京',\n",
       "  '望京西',\n",
       "  '关庄',\n",
       "  '安立路',\n",
       "  '奥林匹克公园',\n",
       "  '北沙滩',\n",
       "  '六道口',\n",
       "  '清华东路西口'],\n",
       " '房山线': ['苏庄',\n",
       "  '良乡南关',\n",
       "  '良乡大学城西',\n",
       "  '良乡大学城',\n",
       "  '良乡大学城北',\n",
       "  '广阳城',\n",
       "  '篱笆房',\n",
       "  '长阳',\n",
       "  '稻田',\n",
       "  '大葆台',\n",
       "  '郭公庄'],\n",
       " '13号线(M13)': ['西直门',\n",
       "  '大钟寺',\n",
       "  '知春路',\n",
       "  '五道口',\n",
       "  '上地',\n",
       "  '西二旗',\n",
       "  '龙泽',\n",
       "  '回龙观',\n",
       "  '霍营',\n",
       "  '立水桥',\n",
       "  '北苑',\n",
       "  '望京西',\n",
       "  '芍药居',\n",
       "  '光熙门',\n",
       "  '柳芳',\n",
       "  '东直门'],\n",
       " '2号线(外环)': ['西直门',\n",
       "  '车公庄',\n",
       "  '阜成门',\n",
       "  '复兴门',\n",
       "  '长椿街',\n",
       "  '宣武门',\n",
       "  '和平门',\n",
       "  '前门',\n",
       "  '崇文门',\n",
       "  '北京站',\n",
       "  '建国门',\n",
       "  '朝阳门',\n",
       "  '东四十条',\n",
       "  '东直门',\n",
       "  '雍和宫',\n",
       "  '安定门',\n",
       "  '鼓楼大街',\n",
       "  '积水潭'],\n",
       " '昌平线': ['南邵', '沙河高教园', '沙河', '巩华城', '朱辛庄', '生命科学园', '西二旗'],\n",
       " '6号线': ['海淀五路居',\n",
       "  '慈寿寺',\n",
       "  '花园桥',\n",
       "  '白石桥南',\n",
       "  '车公庄西',\n",
       "  '车公庄',\n",
       "  '平安里',\n",
       "  '北海北',\n",
       "  '南锣鼓巷',\n",
       "  '东四',\n",
       "  '朝阳门',\n",
       "  '东大桥',\n",
       "  '呼家楼',\n",
       "  '金台路',\n",
       "  '十里堡',\n",
       "  '青年路',\n",
       "  '褡裢坡',\n",
       "  '黄渠',\n",
       "  '常营',\n",
       "  '草房',\n",
       "  '物资学院路',\n",
       "  '通州北关',\n",
       "  '北运河西',\n",
       "  '郝家府',\n",
       "  '东夏园',\n",
       "  '潞城']}"
      ]
     },
     "execution_count": 13,
     "metadata": {},
     "output_type": "execute_result"
    }
   ],
   "source": [
    "allSubwayStation"
   ]
  },
  {
   "cell_type": "code",
   "execution_count": 14,
   "metadata": {},
   "outputs": [
    {
     "data": {
      "text/plain": [
       "19"
      ]
     },
     "execution_count": 14,
     "metadata": {},
     "output_type": "execute_result"
    }
   ],
   "source": [
    "len(allSubwayStation)"
   ]
  },
  {
   "cell_type": "markdown",
   "metadata": {},
   "source": [
    "# 从高德地图api中爬取各个地铁站点坐标并进行数据清洗"
   ]
  },
  {
   "cell_type": "code",
   "execution_count": 15,
   "metadata": {},
   "outputs": [],
   "source": [
    "url = 'http://map.amap.com/service/subway?_1469083453978&srhdata=1100_drw_beijing.json'\n",
    "response = requests.get(url)\n",
    "preProcessText = response.text"
   ]
  },
  {
   "cell_type": "code",
   "execution_count": 16,
   "metadata": {},
   "outputs": [
    {
     "data": {
      "text/plain": [
       "'{\"s\":\"北京市地铁\",\"i\":\"1100\",\"l\":[{\"st\":[{\"rs\":\"270 684|270 684\",\"udpx\":\"270 687;270 681\",\"su\":\"1\",\"udsu\":\"1;1\",\"n\":\"金安桥\",\"sid\":\"110100023339035\",\"p\":\"270 684\",\"r\":\"900000069871|110100023339\",\"udsi\":\"900000069872015;900000069871002\",\"t\":\"1\",\"si\":\"110100023339035\",\"sl\":\"116.163167,39.923620\",\"udli\":\"900000069872;900000069871\",\"poiid\":\"BV10813545\",\"lg\":\"0\",\"sp\":\"jin an qiao\"},{\"rs\":\"226 684\",\"udpx\":\"226 681;226 687\",\"su\":\"1\",\"udsu\":\"1;1\",\"n\":\"四道桥\",\"sid\":\"900000069871003\",\"p\":\"226 684\",\"r\":\"900000069871\",\"udsi\":\"900000069871003;900000069872014\",\"t\":\"0\",\"si\":\"900000069871003\",\"sl\":\"116.134010,39.916030\",\"udli\":\"900000069871;900000069872\",\"poiid\":\"BV10813547\",\"lg\":\"0\",\"sp\":\"si dao qiao\"},{\"rs\":\"181 684\",\"udpx\":\"180 681;180 687\",\"su\":\"1\",\"udsu\":\"1;1\",\"n\":\"桥户营\",\"sid\":\"900000069871004\",\"p\":\"181 684\",\"r\":\"900000069871\",\"udsi\":\"900000069871004;900000069872013\",\"t\":\"0\",\"si\":\"900000069871004\",\"sl\":\"116.125809,39.912383\",\"udli\":\"900000069871;900000069872\",\"poiid\":\"BV10813541\",\"lg\":\"0\",\"sp\":\"qiao hu ying\"},{\"rs\":\"155 711\",\"udpx\":\"152 711;158 711\",\"su\":\"1\",\"udsu\":\"1;1\",\"n\":\"上岸\",\"sid\":\"900000069871005\",\"p\":\"155 711\",\"r\":\"900000069871\",\"udsi\":\"900000069871005;900000069872012\",\"t\":\"0\",\"si\":\"900000069871005\",\"sl\":\"116.122225,39.905138\",\"udli\":\"900000069871;900000069872\",\"poiid\":\"BV10813543\",\"lg\":\"2\",\"sp\":\"shang an\"},{\"rs\":\"155 735\",\"udpx\":\"158 735;153 735\",\"su\":\"1\",\"udsu\":\"1;1\",\"n\":\"栗园庄\",\"sid\":\"900000069871006\",\"p\":\"155 735\",\"r\":\"900000069871\",\"udsi\":\"900000069872011;900000069871006\",\"t\":\"0\",\"si\":\"900000069871006\",\"sl\":\"116.123254,39.895780\",\"udli\":\"900000069872;900000069871\",\"poiid\":\"BV10813544\",\"lg\":\"2\",\"sp\":\"li yuan zhuang\"},{\"rs\":\"131 758\",\"udpx\":\"131 760;131 755\",\"su\":\"1\",\"udsu\":\"1;1\",\"n\":\"小园\",\"sid\":\"900000069871007\",\"p\":\"131 758\",\"r\":\"900000069871\",\"udsi\":\"900000069872010;900000069871007\",\"t\":\"0\",\"si\":\"900000069871007\",\"sl\":\"116.114443,39.890465\",\"udli\":\"900000069872;900000069871\",\"poiid\":\"BV10813542\",\"lg\":\"4\",\"sp\":\"xiao yuan\"},{\"rs\":\"104 758\",\"udpx\":\"104 760;104 755\",\"su\":\"1\",\"udsu\":\"1;1\",\"n\":\"石厂\",\"sid\":\"900000069871008\",\"p\":\"104 758\",\"r\":\"900000069871\",\"udsi\":\"900000069872009;900000069871008\",\"t\":\"0\",\"si\":\"900000069871008\",\"sl\":\"116.100334,39.889378\",\"udli\":\"900000069872;900000069871\",\"poiid\":\"BV10813546\",\"lg\":\"4\",\"sp\":\"shi chang\"}],\"ln\":\"S1线\",\"su\":\"1\",\"kn\":\"S1线\",\"c\":[\"104 758\",\"121 758\",\"131 758\",\"151 758\",\"154 756\",\"155 754\",\"155 744\",\"155 735\",\"155 724\",\"155 711\",\"155 705\",\"155 696\",\"155 687\",\"157 685\",\"161 684\",\"180 684\",\"181 684\",\"203 684\",\"226 684\",\"243 684\",\"270 684\"],\"lo\":\"0\",\"lp\":[\"177 635\"],\"f\":[{\"c\":[\"270 681\",\"243 681\",\"226 681\",\"203 681\",\"180 681\",\"160 681\",\"155 682\",\"152 687\",\"152 696\",\"152 705\",\"152 711\",\"152 724\",\"153 735\",\"153 744\",\"153 753\",\"152 754\",\"150 755\",\"131 755\",\"121 755\",\"104 755\"],\"li\":\"900000069871\"},{\"c\":[\"104 760\",\"121 760\",\"131 760\",\"151 760\",\"156 759\",\"158 754\",\"158 744\",\"158 735\",\"158 724\",\"158 711\",\"158 705\",\"158 696\",\"158 688\",\"159 687\",\"161 687\",\"180 687\",\"203 687\",\"226 687\",\"243 687\",\"270 687\"],\"li\":\"900000069872\"}],\"ls\":\"900000069871\",\"cl\":\"B35A1F\",\"la\":\"\",\"x\":1,\"li\":\"900000069871|900000069872\"},{\"st\":[{\"rs\":\"312 684\",\"udpx\":\"310 685;314 682\",\"su\":\"1\",\"udsu\":\"1;1\",\"n\":\"苹果园\",\"sid\":\"110100023110002\",\"p\":\"312 684\",\"r\":\"110100023110\",\"udsi\":\"110100023110002;110100023111024\",\"t\":\"0\",\"si\":\"110100023110002\",\"sl\":\"116.177388,39.926727\",\"udli\":\"110100023110;110100023111\",\"poiid\":\"BV10013454\",\"lg\":\"0\",\"sp\":\"ping guo yuan\"},{\"rs\":\"334 720\",\"udpx\":\"333 723;336 717\",\"su\":\"1\",\"udsu\":\"1;1\",\"n\":\"古城\",\"sid\":\"110100023110003\",\"p\":\"334 720\",\"r\":\"110100023110\",\"udsi\":\"110100023110003;110100023111023\",\"t\":\"0\",\"si\":\"110100023110003\",\"sl\":\"116.190337,39.907450\",\"udli\":\"110100023110;110100023111\",\"poiid\":\"BV10000295\",\"lg\":\"4\",\"sp\":\"gu cheng\"},{\"rs\":\"391 720\",\"udpx\":\"391 723;391 717\",\"su\":\"1\",\"udsu\":\"1;1\",\"n\":\"八角游乐园\",\"sid\":\"110100023110004\",\"p\":\"391 720\",\"r\":\"110100023110\",\"udsi\":\"110100023110004;110100023111022\",\"t\":\"0\",\"si\":\"110100023110004\",\"sl\":\"116.212684,39.907442\",\"udli\":\"110100023110;110100023111\",\"poiid\":\"BV10013455\",\"lg\":\"4\",\"sp\":\"ba jiao you le yuan\"},{\"rs\":\"454 720\",\"udpx\":\"454 723;454 717\",\"su\":\"1\",\"udsu\":\"1;1\",\"n\":\"八宝山\",\"sid\":\"110100023110005\",\"p\":\"454 720\",\"r\":\"110100023110\",\"udsi\":\"110100023110005;110100023111021\",\"t\":\"0\",\"si\":\"110100023110005\",\"sl\":\"116.235948,39.907440\",\"udli\":\"110100023110;110100023111\",\"poiid\":\"BV10000302\",\"lg\":\"4\",\"sp\":\"ba bao shan\"},{\"rs\":\"505 720\",\"udpx\":\"505 717;505 723\",\"su\":\"1\",\"udsu\":\"1;1\",\"n\":\"玉泉路\",\"sid\":\"110100023110006\",\"p\":\"505 720\",\"r\":\"110100023110\",\"udsi\":\"110100023111020;110100023110006\",\"t\":\"0\",\"si\":\"110100023110006\",\"sl\":\"116.252888,39.907433\",\"udli\":\"110100023111;110100023110\",\"poiid\":\"BV10013456\",\"lg\":\"4\",\"sp\":\"yu quan lu\"},{\"rs\":\"555 720\",\"udpx\":\"555 723;555 717\",\"su\":\"1\",\"udsu\":\"1;1\",\"n\":\"五棵松\",\"sid\":\"110100023110007\",\"p\":\"555 720\",\"r\":\"110100023110\",\"udsi\":\"110100023110007;110100023111019\",\"t\":\"0\",\"si\":\"110100023110007\",\"sl\":\"116.273987,39.907456\",\"udli\":\"110100023110;110100023111\",\"poiid\":\"BV10013457\",\"lg\":\"4\",\"sp\":\"wu ke song\"},{\"rs\":\"603 720\",\"udpx\":\"603 717;603 723\",\"su\":\"1\",\"udsu\":\"1;1\",\"n\":\"万寿路\",\"sid\":\"110100023110008\",\"p\":\"603 720\",\"r\":\"110100023110\",\"udsi\":\"110100023111018;110100023110008\",\"t\":\"0\",\"si\":\"110100023110008\",\"sl\":\"116.294765,39.907474\",\"udli\":\"110100023111;110100023110\",\"poiid\":\"BV10013458\",\"lg\":\"4\",\"sp\":\"wan shou lu\"},{\"rs\":\"650 720|650 720\",\"udpx\":\"650 717;650 723\",\"su\":\"1\",\"udsu\":\"1;1\",\"n\":\"公主坟\",\"sid\":\"110100023110009\",\"p\":\"650 720\",\"r\":\"110100023110|110100023282\",\"udsi\":\"110100023111017;110100023110009\",\"t\":\"1\",\"si\":\"110100023110009\",\"sl\":\"116.309919,39.907469\",\"udli\":\"110100023111;110100023110\",\"poiid\":\"BV10000306\",\"lg\":\"1\",\"sp\":\"gong zhu fen\"},{\"rs\":\"710 720|710 720\",\"udpx\":\"710 723;710 717\",\"su\":\"1\",\"udsu\":\"1;1\",\"n\":\"军事博物馆\",\"sid\":\"110100023110010\",\"p\":\"710 720\",\"r\":\"110100023110|110100023116\",\"udsi\":\"110100023110010;110100023111016\",\"t\":\"1\",\"si\":\"110100023110010\",\"sl\":\"116.321459,39.907422\",\"udli\":\"110100023110;110100023111\",\"poiid\":\"BV10000188\",\"lg\":\"1\",\"sp\":\"jun shi bo wu guan\"},{\"rs\":\"769 720\",\"udpx\":\"769 723;769 717\",\"su\":\"1\",\"udsu\":\"1;1\",\"n\":\"木樨地\",\"sid\":\"110100023110011\",\"p\":\"769 720\",\"r\":\"110100023110\",\"udsi\":\"110100023110011;110100023111015\",\"t\":\"0\",\"si\":\"110100023110011\",\"sl\":\"116.337583,39.907379\",\"udli\":\"110100023110;110100023111\",\"poiid\":\"BV10013459\",\"lg\":\"4\",\"sp\":\"mu xi di\"},{\"rs\":\"819 720\",\"udpx\":\"819 723;819 717\",\"su\":\"1\",\"udsu\":\"1;1\",\"n\":\"南礼士路\",\"sid\":\"110100023110012\",\"p\":\"819 720\",\"r\":\"110100023110\",\"udsi\":\"110100023110012;110100023111014\",\"t\":\"0\",\"si\":\"110100023110012\",\"sl\":\"116.352583,39.907234\",\"udli\":\"110100023110;110100023111\",\"poiid\":\"BV10000309\",\"lg\":\"4\",\"sp\":\"nan li shi lu\"},{\"rs\":\"858 720|858 720\",\"udpx\":\"858 723;858 717\",\"su\":\"1\",\"udsu\":\"1;1\",\"n\":\"复兴门\",\"sid\":\"110100023098016\",\"p\":\"858 720\",\"r\":\"110100023110|110100023098\",\"udsi\":\"110100023110013;110100023111013\",\"t\":\"1\",\"si\":\"110100023098016\",\"sl\":\"116.356866,39.907242\",\"udli\":\"110100023110;110100023111\",\"poiid\":\"BV10007375\",\"lg\":\"1\",\"sp\":\"fu xing men\"},{\"rs\":\"928 720|928 720\",\"udpx\":\"928 723;928 717\",\"su\":\"1\",\"udsu\":\"1;1\",\"n\":\"西单\",\"sid\":\"110100023076018\",\"p\":\"928 720\",\"r\":\"110100023110|110100023076\",\"udsi\":\"110100023110014;110100023111012\",\"t\":\"1\",\"si\":\"110100023076018\",\"sl\":\"116.374072,39.907383\",\"udli\":\"110100023110;110100023111\",\"poiid\":\"BV10006791\",\"lg\":\"5\",\"sp\":\"xi dan\"},{\"rs\":\"972 720\",\"udpx\":\"972 717;972 723\",\"su\":\"1\",\"udsu\":\"1;1\",\"n\":\"天安门西\",\"sid\":\"110100023110015\",\"p\":\"972 720\",\"r\":\"110100023110\",\"udsi\":\"110100023111011;110100023110015\",\"t\":\"0\",\"si\":\"110100023110015\",\"sl\":\"116.391278,39.907472\",\"udli\":\"110100023111;110100023110\",\"poiid\":\"BV10005941\",\"lg\":\"4\",\"sp\":\"tian an men xi\"},{\"rs\":\"1031 720\",\"udpx\":\"1031 717;1031 723\",\"su\":\"1\",\"udsu\":\"1;1\",\"n\":\"天安门东\",\"sid\":\"110100023110016\",\"p\":\"1031 720\",\"r\":\"110100023110\",\"udsi\":\"110100023111010;110100023110016\",\"t\":\"0\",\"si\":\"110100023110016\",\"sl\":\"116.401216,39.907780\",\"udli\":\"110100023111;110100023110\",\"poiid\":\"BV10006499\",\"lg\":\"4\",\"sp\":\"tian an men dong\"},{\"rs\":\"1080 720\",\"udpx\":\"1080 723;1080 717\",\"su\":\"1\",\"udsu\":\"1;1\",\"n\":\"王府井\",\"sid\":\"110100023110017\",\"p\":\"1080 720\",\"r\":\"110100023110\",\"udsi\":\"110100023110017;110100023111009\",\"t\":\"0\",\"si\":\"110100023110017\",\"sl\":\"116.411571,39.908069\",\"udli\":\"110100023110;110100023111\",\"poiid\":\"BV10006496\",\"lg\":\"4\",\"sp\":\"wang fu jing\"},{\"rs\":\"1116 720|1116 720\",\"udpx\":\"1116 723;1116 717\",\"su\":\"1\",\"udsu\":\"1;1\",\"n\":\"东单\",\"sid\":\"110100023100007\",\"p\":\"1116 720\",\"r\":\"110100023110|110100023100\",\"udsi\":\"110100023110018;110100023111008\",\"t\":\"1\",\"si\":\"110100023100007\",\"sl\":\"116.418480,39.908325\",\"udli\":\"110100023110;110100023111\",\"poiid\":\"BV10013440\",\"lg\":\"3\",\"sp\":\"dong dan\"},{\"rs\":\"1179 720|1179 720\",\"udpx\":\"1179 717;1179 723\",\"su\":\"1\",\"udsu\":\"1;1\",\"n\":\"建国门\",\"sid\":\"110100023098009\",\"p\":\"1179 720\",\"r\":\"110100023110|110100023098\",\"udsi\":\"110100023111007;110100023110019\",\"t\":\"1\",\"si\":\"110100023098009\",\"sl\":\"116.435806,39.908501\",\"udli\":\"110100023111;110100023110\",\"poiid\":\"BV10013432\",\"lg\":\"3\",\"sp\":\"jian guo men\"},{\"rs\":\"1247 720\",\"udpx\":\"1247 717;1247 723\",\"su\":\"1\",\"udsu\":\"1;1\",\"n\":\"永安里\",\"sid\":\"110100023110020\",\"p\":\"1247 720\",\"r\":\"110100023110\",\"udsi\":\"110100023111006;110100023110020\",\"t\":\"0\",\"si\":\"110100023110020\",\"sl\":\"116.450497,39.908454\",\"udli\":\"110100023111;110100023110\",\"poiid\":\"BV10013460\",\"lg\":\"4\",\"sp\":\"yong an li\"},{\"rs\":\"1279 720|1279 720\",\"udpx\":\"1279 717;1279 723\",\"su\":\"1\",\"udsu\":\"1;1\",\"n\":\"国贸\",\"sid\":\"110100023110021\",\"p\":\"1279 720\",\"r\":\"110100023110|110100023282\",\"udsi\":\"110100023111005;110100023110021\",\"t\":\"1\",\"si\":\"110100023110021\",\"sl\":\"116.461841,39.909104\",\"udli\":\"110100023111;110100023110\",\"poiid\":\"BV10013461\",\"lg\":\"3\",\"sp\":\"guo mao\"},{\"rs\":\"1337 720|1337 720\",\"udpx\":\"1337 723;1337 717\",\"su\":\"1\",\"udsu\":\"1;1\",\"n\":\"大望路\",\"sid\":\"110100023110022\",\"p\":\"1337 720\",\"r\":\"110100023110|900000028907\",\"udsi\":\"110100023110022;110100023111004\",\"t\":\"1\",\"si\":\"110100023110022\",\"sl\":\"116.475783,39.908287\",\"udli\":\"110100023110;110100023111\",\"poiid\":\"BV10013364\",\"lg\":\"1\",\"sp\":\"da wang lu\"},{\"rs\":\"1374 720|1374 728\",\"udpx\":\"1374 723;1374 717\",\"su\":\"1\",\"udsu\":\"1;1\",\"n\":\"四惠\",\"sid\":\"110100023110023\",\"p\":\"1374 724\",\"r\":\"110100023110|110100033086\",\"udsi\":\"110100023110023;110100023111003\",\"t\":\"1\",\"si\":\"110100023110023\",\"sl\":\"116.495456,39.908749\",\"udli\":\"110100023110;110100023111\",\"poiid\":\"BV10000275\",\"lg\":\"4\",\"sp\":\"si hui\"},{\"rs\":\"1409 720|1409 728\",\"udpx\":\"1409 717;1409 723\",\"su\":\"1\",\"udsu\":\"1;1\",\"n\":\"四惠东\",\"sid\":\"110100023110024\",\"p\":\"1409 724\",\"r\":\"110100023110|110100033086\",\"udsi\":\"110100023111002;110100023110024\",\"t\":\"1\",\"si\":\"110100023110024\",\"sl\":\"116.515664,39.908495\",\"udli\":\"110100023111;110100023110\",\"poiid\":\"BV10007589\",\"lg\":\"4\",\"sp\":\"si hui dong\"}],\"ln\":\"1号线\",\"su\":\"1\",\"kn\":\"地铁1号线\",\"c\":[\"312 684\",\"334 720\",\"391 720\",\"453 720\",\"454 720\",\"504 720\",\"505 720\",\"554 720\",\"555 720\",\"602 720\",\"603 720\",\"649 720\",\"650 720\",\"710 720\",\"768 720\",\"769 720\",\"818 720\",\"819 720\",\"857 720\",\"858 720\",\"927 720\",\"928 720\",\"972 720\",\"1030 720\",\"1031 720\",\"1079 720\",\"1080 720\",\"1115 720\",\"1116 720\",\"1179 720\",\"1246 720\",\"1247 720\",\"1278 720\",\"1279 720\",\"1335 720\",\"1337 720\",\"1373 720\",\"1374 720\",\"1409 720\"],\"lo\":\"0\",\"lp\":[\"535 764\"],\"f\":[{\"c\":[\"1409 717\",\"1374 717\",\"1373 717\",\"1337 717\",\"1336 717\",\"1279 717\",\"1278 717\",\"1247 717\",\"1246 717\",\"1179 717\",\"1116 717\",\"1115 717\",\"1080 717\",\"1079 717\",\"1031 717\",\"1030 717\",\"972 717\",\"928 717\",\"927 717\",\"858 717\",\"857 717\",\"819 717\",\"818 717\",\"769 717\",\"768 717\",\"710 717\",\"650 717\",\"649 717\",\"603 717\",\"602 717\",\"555 717\",\"554 717\",\"505 717\",\"504 717\",\"454 717\",\"453 717\",\"391 717\",\"336 717\",\"314 682\"],\"li\":\"110100023111\"},{\"c\":[\"310 685\",\"333 723\",\"391 723\",\"453 723\",\"454 723\",\"504 723\",\"505 723\",\"554 723\",\"555 723\",\"602 723\",\"603 723\",\"649 723\",\"650 723\",\"710 723\",\"768 723\",\"769 723\",\"818 723\",\"819 723\",\"857 723\",\"858 723\",\"927 723\",\"928 723\",\"972 723\",\"1030 723\",\"1031 723\",\"1079 723\",\"1080 723\",\"1115 723\",\"1116 723\",\"1179 723\",\"1246 723\",\"1247 723\",\"1278 723\",\"1279 723\",\"1335 723\",\"1337 723\",\"1373 723\",\"1374 723\",\"1409 723\"],\"li\":\"110100023110\"}],\"ls\":\"110100023110\",\"cl\":\"CC0000\",\"la\":\"\",\"x\":2,\"li\":\"110100023110|110100023111\"},{\"st\":[{\"rs\":\"905 555\",\"udpx\":\"905 558,905 558;905 552\",\"su\":\"1\",\"udsu\":\"1,1;1\",\"n\":\"积水潭\",\"sid\":\"110100023098002\",\"p\":\"905 555\",\"r\":\"110100023098\",\"udsi\":\"110100023098020,110100023098002;110100023099019\",\"t\":\"0\",\"si\":\"110100023098002\",\"sl\":\"116.373126,39.948653\",\"udli\":\"110100023098,110100023098;110100023099\",\"poiid\":\"BV10013430\",\"lg\":\"0\",\"sp\":\"ji shui tan\"},{\"rs\":\"1002 555|1002 555\",\"udpx\":\"1002 558;1002 552\",\"su\":\"1\",\"udsu\":\"1;1\",\"n\":\"鼓楼大街\",\"sid\":\"110100023098003\",\"p\":\"1002 555\",\"r\":\"110100023098|110100023114\",\"udsi\":\"110100023098003;110100023099018\",\"t\":\"1\",\"si\":\"110100023098003\",\"sl\":\"116.393776,39.948972\",\"udli\":\"110100023098;110100023099\",\"poiid\":\"BV10013431\",\"lg\":\"7\",\"sp\":\"gu lou da jie\"},{\"rs\":\"1077 555\",\"udpx\":\"1077 552;1077 558\",\"su\":\"1\",\"udsu\":\"1;1\",\"n\":\"安定门\",\"sid\":\"110100023098004\",\"p\":\"1077 555\",\"r\":\"110100023098\",\"udsi\":\"110100023099017;110100023098004\",\"t\":\"0\",\"si\":\"110100023098004\",\"sl\":\"116.408240,39.949180\",\"udli\":\"110100023099;110100023098\",\"poiid\":\"BV10001936\",\"lg\":\"0\",\"sp\":\"an ding men\"},{\"rs\":\"1116 555|1116 555\",\"udpx\":\"1116 552;1116 558\",\"su\":\"1\",\"udsu\":\"1;1\",\"n\":\"雍和宫\",\"sid\":\"110100023098005\",\"p\":\"1116 555\",\"r\":\"110100023098|110100023100\",\"udsi\":\"110100023099016;110100023098005\",\"t\":\"1\",\"si\":\"110100023098005\",\"sl\":\"116.417069,39.949336\",\"udli\":\"110100023099;110100023098\",\"poiid\":\"BV10006563\",\"lg\":\"1\",\"sp\":\"yong he gong\"},{\"rs\":\"1179 586|1179 586|1179 586\",\"udpx\":\"1182 586;1176 586\",\"su\":\"1\",\"udsu\":\"1;1\",\"n\":\"东直门\",\"sid\":\"110100023096004\",\"p\":\"1179 586\",\"r\":\"110100023098|110100033066|110100023096\",\"udsi\":\"110100023099015;110100023098006\",\"t\":\"1\",\"si\":\"110100023096004\",\"sl\":\"116.435842,39.941626\",\"udli\":\"110100023099;110100023098\",\"poiid\":\"BV10002731\",\"lg\":\"3\",\"sp\":\"dong zhi men\"},{\"rs\":\"1179 628\",\"udpx\":\"1182 628;1176 628\",\"su\":\"1\",\"udsu\":\"1;1\",\"n\":\"东四十条\",\"sid\":\"110100023098007\",\"p\":\"1179 628\",\"r\":\"110100023098\",\"udsi\":\"110100023099014;110100023098007\",\"t\":\"0\",\"si\":\"110100023098007\",\"sl\":\"116.434133,39.933801\",\"udli\":\"110100023099;110100023098\",\"poiid\":\"BV10001047\",\"lg\":\"2\",\"sp\":\"dong si shi tiao\"},{\"rs\":\"1179 659|1179 659\",\"udpx\":\"1182 659;1176 659\",\"su\":\"1\",\"udsu\":\"1;1\",\"n\":\"朝阳门\",\"sid\":\"110100023098008\",\"p\":\"1179 659\",\"r\":\"110100023098|110100023339\",\"udsi\":\"110100023099013;110100023098008\",\"t\":\"1\",\"si\":\"110100023098008\",\"sl\":\"116.434584,39.924499\",\"udli\":\"110100023099;110100023098\",\"poiid\":\"BV10004298\",\"lg\":\"3\",\"sp\":\"zhao yang men\"},{\"rs\":\"1179 720|1179 720\",\"udpx\":\"1176 720;1182 720\",\"su\":\"1\",\"udsu\":\"1;1\",\"n\":\"建国门\",\"sid\":\"110100023098009\",\"p\":\"1179 720\",\"r\":\"110100023110|110100023098\",\"udsi\":\"110100023098009;110100023099012\",\"t\":\"1\",\"si\":\"110100023098009\",\"sl\":\"116.435806,39.908501\",\"udli\":\"110100023098;110100023099\",\"poiid\":\"BV10013432\",\"lg\":\"3\",\"sp\":\"jian guo men\"},{\"rs\":\"1171 759\",\"udpx\":\"1173 761;1170 757\",\"su\":\"1\",\"udsu\":\"1;1\",\"n\":\"北京站\",\"sid\":\"110100023098010\",\"p\":\"1171 759\",\"r\":\"110100023098\",\"udsi\":\"110100023099011;110100023098010\",\"t\":\"0\",\"si\":\"110100023098010\",\"sl\":\"116.427287,39.904983\",\"udli\":\"110100023099;110100023098\",\"poiid\":\"BV10006813\",\"lg\":\"2\",\"sp\":\"bei jing zhan\"},{\"rs\":\"1116 764|1116 764\",\"udpx\":\"1116 761;1116 766\",\"su\":\"1\",\"udsu\":\"1;1\",\"n\":\"崇文门\",\"sid\":\"110100023098011\",\"p\":\"1116 764\",\"r\":\"110100023098|110100023100\",\"udsi\":\"110100023098011;110100023099010\",\"t\":\"1\",\"si\":\"110100023098011\",\"sl\":\"116.417093,39.901063\",\"udli\":\"110100023098;110100023099\",\"poiid\":\"BV10013433\",\"lg\":\"3\",\"sp\":\"chong wen men\"},{\"rs\":\"1045 764\",\"udpx\":\"1045 761;1045 766\",\"su\":\"1\",\"udsu\":\"1;1\",\"n\":\"前门\",\"sid\":\"110100023098012\",\"p\":\"1045 764\",\"r\":\"110100023098\",\"udsi\":\"110100023098012;110100023099009\",\"t\":\"0\",\"si\":\"110100023098012\",\"sl\":\"116.397937,39.900192\",\"udli\":\"110100023098;110100023099\",\"poiid\":\"BV10005884\",\"lg\":\"4\",\"sp\":\"qian men\"},{\"rs\":\"999 764\",\"udpx\":\"999 761;999 766\",\"su\":\"1\",\"udsu\":\"1;1\",\"n\":\"和平门\",\"sid\":\"110100023098013\",\"p\":\"999 764\",\"r\":\"110100023098\",\"udsi\":\"110100023098013;110100023099008\",\"t\":\"0\",\"si\":\"110100023098013\",\"sl\":\"116.384209,39.900098\",\"udli\":\"110100023098;110100023099\",\"poiid\":\"BV10013434\",\"lg\":\"4\",\"sp\":\"he ping men\"},{\"rs\":\"928 764|928 764\",\"udpx\":\"928 761;928 766\",\"su\":\"1\",\"udsu\":\"1;1\",\"n\":\"宣武门\",\"sid\":\"110100023076019\",\"p\":\"928 764\",\"r\":\"110100023098|110100023076\",\"udsi\":\"110100023098014;110100023099007\",\"t\":\"1\",\"si\":\"110100023076019\",\"sl\":\"116.374314,39.899765\",\"udli\":\"110100023098;110100023099\",\"poiid\":\"BV10013415\",\"lg\":\"5\",\"sp\":\"xuan wu men\"},{\"rs\":\"863 758\",\"udpx\":\"865 756;861 760\",\"su\":\"1\",\"udsu\":\"1;1\",\"n\":\"长椿街\",\"sid\":\"110100023098015\",\"p\":\"863 758\",\"r\":\"110100023098\",\"udsi\":\"110100023098015;110100023099006\",\"t\":\"0\",\"si\":\"110100023098015\",\"sl\":\"116.363355,39.899433\",\"udli\":\"110100023098;110100023099\",\"poiid\":\"BV10013435\",\"lg\":\"5\",\"sp\":\"chang chun jie\"},{\"rs\":\"858 720|858 720\",\"udpx\":\"861 720;856 720\",\"su\":\"1\",\"udsu\":\"1;1\",\"n\":\"复兴门\",\"sid\":\"110100023098016\",\"p\":\"858 720\",\"r\":\"110100023110|110100023098\",\"udsi\":\"110100023098016;110100023099005\",\"t\":\"1\",\"si\":\"110100023098016\",\"sl\":\"116.356866,39.907242\",\"udli\":\"110100023098;110100023099\",\"poiid\":\"BV10007375\",\"lg\":\"1\",\"sp\":\"fu xing men\"},{\"rs\":\"858 667\",\"udpx\":\"861 667;856 667\",\"su\":\"1\",\"udsu\":\"1;1\",\"n\":\"阜成门\",\"sid\":\"110100023098017\",\"p\":\"858 667\",\"r\":\"110100023098\",\"udsi\":\"110100023098017;110100023099004\",\"t\":\"0\",\"si\":\"110100023098017\",\"sl\":\"116.356009,39.923686\",\"udli\":\"110100023098;110100023099\",\"poiid\":\"BV10001036\",\"lg\":\"6\",\"sp\":\"fu cheng men\"},{\"rs\":\"858 625|858 625\",\"udpx\":\"856 625;861 625\",\"su\":\"1\",\"udsu\":\"1;1\",\"n\":\"车公庄\",\"sid\":\"110100023098018\",\"p\":\"858 625\",\"r\":\"110100023098|110100023339\",\"udsi\":\"110100023099003;110100023098018\",\"t\":\"1\",\"si\":\"110100023098018\",\"sl\":\"116.354357,39.932397\",\"udli\":\"110100023099;110100023098\",\"poiid\":\"BV10013437\",\"lg\":\"3\",\"sp\":\"che gong zhuang\"},{\"rs\":\"858 585|858 585|858 585\",\"udpx\":\"861 579;856 591,856 591\",\"su\":\"1\",\"udsu\":\"1;1,1\",\"n\":\"西直门\",\"sid\":\"110100023076013\",\"p\":\"858 585\",\"r\":\"110100023098|110100023076|110100033066\",\"udsi\":\"110100023098019;110100023099002,110100023099020\",\"t\":\"1\",\"si\":\"110100023076013\",\"sl\":\"116.355426,39.940474\",\"udli\":\"110100023098;110100023099,110100023099\",\"poiid\":\"BV10001595\",\"lg\":\"5\",\"sp\":\"xi zhi men\"}],\"ln\":\"2号线\",\"su\":\"1\",\"kn\":\"地铁2号线\",\"c\":[\"858 585\",\"858 571\",\"859 566\",\"861 561\",\"866 557\",\"873 555\",\"881 555\",\"905 555\",\"1002 555\",\"1002 555\",\"1077 555\",\"1116 555\",\"1151 555\",\"1161 556\",\"1169 559\",\"1174 563\",\"1177 569\",\"1179 575\",\"1179 586\",\"1179 628\",\"1179 659\",\"1179 720\",\"1179 736\",\"1178 744\",\"1177 750\",\"1175 755\",\"1171 759\",\"1166 762\",\"1158 764\",\"1116 764\",\"1045 764\",\"999 764\",\"928 764\",\"882 763\",\"874 763\",\"867 761\",\"863 758\",\"860 753\",\"859 748\",\"858 720\",\"858 667\",\"858 625\",\"858 585\"],\"lo\":\"1\",\"lp\":[\"901 527\"],\"f\":[{\"c\":[\"856 591\",\"856 625\",\"856 667\",\"856 720\",\"856 748\",\"857 754\",\"861 760\",\"866 764\",\"874 766\",\"882 766\",\"928 766\",\"999 766\",\"1045 766\",\"1116 766\",\"1158 766\",\"1167 765\",\"1173 761\",\"1178 756\",\"1180 751\",\"1181 744\",\"1182 736\",\"1182 720\",\"1182 659\",\"1182 628\",\"1182 586\",\"1182 575\",\"1180 567\",\"1176 561\",\"1170 556\",\"1161 553\",\"1151 552\",\"1116 552\",\"1077 552\",\"1008 552\",\"1002 552\",\"905 552\",\"880 552\",\"872 552\",\"865 555\",\"859 559\",\"856 565\",\"856 571\",\"856 591\"],\"li\":\"110100023099\"},{\"c\":[\"861 579\",\"861 571\",\"862 566\",\"863 563\",\"867 560\",\"873 558\",\"881 558\",\"905 558\",\"995 558\",\"1002 558\",\"1077 558\",\"1116 558\",\"1151 558\",\"1160 559\",\"1167 561\",\"1172 565\",\"1175 570\",\"1176 575\",\"1176 586\",\"1176 628\",\"1176 659\",\"1176 720\",\"1176 736\",\"1176 743\",\"1175 750\",\"1173 753\",\"1170 757\",\"1165 759\",\"1158 761\",\"1116 761\",\"1045 761\",\"999 761\",\"928 761\",\"882 760\",\"874 760\",\"869 759\",\"865 756\",\"863 752\",\"861 747\",\"861 720\",\"861 667\",\"861 625\",\"861 579\"],\"li\":\"110100023098\"}],\"ls\":\"110100023098\",\"cl\":\"0065B3\",\"la\":\"\",\"x\":3,\"li\":\"110100023098|110100023099\"},{\"st\":[{\"rs\":\"878 1353\",\"udpx\":\"876 1353;881 1353\",\"su\":\"1\",\"udsu\":\"1;1\",\"n\":\"天宫院\",\"sid\":\"110100023076036\",\"p\":\"878 1353\",\"r\":\"110100023076\",\"udsi\":\"110100023076036;110100023077026\",\"t\":\"0\",\"si\":\"110100023076036\",\"sl\":\"116.319932,39.670342\",\"udli\":\"110100023076;110100023077\",\"poiid\":\"BV10003869\",\"lg\":\"2\",\"sp\":\"tian gong yuan\"},{\"rs\":\"878 1319\",\"udpx\":\"881 1319;876 1319\",\"su\":\"1\",\"udsu\":\"1;1\",\"n\":\"生物医药基地\",\"sid\":\"110100023076035\",\"p\":\"878 1319\",\"r\":\"110100023076\",\"udsi\":\"110100023077027;110100023076035\",\"t\":\"0\",\"si\":\"110100023076035\",\"sl\":\"116.321662,39.686510\",\"udli\":\"110100023077;110100023076\",\"poiid\":\"BV10013422\",\"lg\":\"2\",\"sp\":\"sheng wu yi yao ji di\"},{\"rs\":\"878 1283\",\"udpx\":\"881 1283;875 1283\",\"su\":\"1\",\"udsu\":\"1;1\",\"n\":\"义和庄\",\"sid\":\"110100023076034\",\"p\":\"878 1283\",\"r\":\"110100023076\",\"udsi\":\"110100023077028;110100023076034\",\"t\":\"0\",\"si\":\"110100023076034\",\"sl\":\"116.319079,39.712387\",\"udli\":\"110100023077;110100023076\",\"poiid\":\"BV10010394\",\"lg\":\"2\",\"sp\":\"yi he zhuang\"},{\"rs\":\"878 1251\",\"udpx\":\"881 1251;875 1251\",\"su\":\"1\",\"udsu\":\"1;1\",\"n\":\"黄村火车站\",\"sid\":\"110100023076033\",\"p\":\"878 1251\",\"r\":\"110100023076\",\"udsi\":\"110100023077029;110100023076033\",\"t\":\"0\",\"si\":\"110100023076033\",\"sl\":\"116.332611,39.722966\",\"udli\":\"110100023077;110100023076\",\"poiid\":\"BV10000372\",\"lg\":\"2\",\"sp\":\"huang cun huo che zhan\"},{\"rs\":\"878 1216\",\"udpx\":\"875 1216;881 1216\",\"su\":\"1\",\"udsu\":\"1;1\",\"n\":\"黄村西大街\",\"sid\":\"110100023076032\",\"p\":\"878 1216\",\"r\":\"110100023076\",\"udsi\":\"110100023076032;110100023077030\",\"t\":\"0\",\"si\":\"110100023076032\",\"sl\":\"116.332631,39.731769\",\"udli\":\"110100023076;110100023077\",\"poiid\":\"BV10002783\",\"lg\":\"2\",\"sp\":\"huang cun xi da jie\"},{\"rs\":\"878 1183\",\"udpx\":\"875 1183;881 1183\",\"su\":\"1\",\"udsu\":\"1;1\",\"n\":\"清源路\",\"sid\":\"110100023076031\",\"p\":\"878 1183\",\"r\":\"110100023076\",\"udsi\":\"110100023076031;110100023077031\",\"t\":\"0\",\"si\":\"110100023076031\",\"sl\":\"116.332513,39.742724\",\"udli\":\"110100023076;110100023077\",\"poiid\":\"BV10013275\",\"lg\":\"2\",\"sp\":\"qing yuan lu\"},{\"rs\":\"878 1145\",\"udpx\":\"875 1145;881 1145\",\"su\":\"1\",\"udsu\":\"1;1\",\"n\":\"枣园\",\"sid\":\"110100023076030\",\"p\":\"878 1145\",\"r\":\"110100023076\",\"udsi\":\"110100023076030;110100023077032\",\"t\":\"0\",\"si\":\"110100023076030\",\"sl\":\"116.332204,39.753458\",\"udli\":\"110100023076;110100023077\",\"poiid\":\"BV10013421\",\"lg\":\"2\",\"sp\":\"zao yuan\"},{\"rs\":\"878 1113\",\"udpx\":\"881 1113;875 1113\",\"su\":\"1\",\"udsu\":\"1;1\",\"n\":\"高米店南\",\"sid\":\"110100023076029\",\"p\":\"878 1113\",\"r\":\"110100023076\",\"udsi\":\"110100023077033;110100023076029\",\"t\":\"0\",\"si\":\"110100023076029\",\"sl\":\"116.331605,39.763489\",\"udli\":\"110100023077;110100023076\",\"poiid\":\"BV10013420\",\"lg\":\"2\",\"sp\":\"gao mi dian nan\"},{\"rs\":\"878 1066\",\"udpx\":\"881 1065;875 1066\",\"su\":\"1\",\"udsu\":\"1;1\",\"n\":\"高米店北\",\"sid\":\"110100023076028\",\"p\":\"878 1066\",\"r\":\"110100023076\",\"udsi\":\"110100023077034;110100023076028\",\"t\":\"0\",\"si\":\"110100023076028\",\"sl\":\"116.330787,39.773547\",\"udli\":\"110100023077;110100023076\",\"poiid\":\"BV10013419\",\"lg\":\"2\",\"sp\":\"gao mi dian bei\"},{\"rs\":\"878 1028\",\"udpx\":\"881 1030;875 1027\",\"su\":\"1\",\"udsu\":\"1;1\",\"n\":\"西红门\",\"sid\":\"110100023076027\",\"p\":\"878 1028\",\"r\":\"110100023076\",\"udsi\":\"110100023077035;110100023076027\",\"t\":\"0\",\"si\":\"110100023076027\",\"sl\":\"116.328689,39.789800\",\"udli\":\"110100023077;110100023076\",\"poiid\":\"BV10000383\",\"lg\":\"6\",\"sp\":\"xi hong men\"},{\"rs\":\"902 1002\",\"udpx\":\"904 1004;900 1000\",\"su\":\"1\",\"udsu\":\"1;1\",\"n\":\"新宫\",\"sid\":\"110100023076026\",\"p\":\"902 1002\",\"r\":\"110100023076\",\"udsi\":\"110100023077036;110100023076026\",\"t\":\"0\",\"si\":\"110100023076026\",\"sl\":\"116.365549,39.812592\",\"udli\":\"110100023077;110100023076\",\"poiid\":\"BV10013418\",\"lg\":\"2\",\"sp\":\"xin gong\"},{\"rs\":\"928 974\",\"udpx\":\"930 975;925 973\",\"su\":\"1\",\"udsu\":\"1;1\",\"n\":\"公益西桥\",\"sid\":\"110100023076025\",\"p\":\"928 974\",\"r\":\"110100023076\",\"udsi\":\"110100023077002;110100023076025\",\"t\":\"0\",\"si\":\"110100023076025\",\"sl\":\"116.370796,39.836135\",\"udli\":\"110100023077;110100023076\",\"poiid\":\"BV10008170\",\"lg\":\"6\",\"sp\":\"gong yi xi qiao\"},{\"rs\":\"928 935|928 935\",\"udpx\":\"930 935;925 935\",\"su\":\"1\",\"udsu\":\"1;1\",\"n\":\"角门西\",\"sid\":\"110100023076024\",\"p\":\"928 935\",\"r\":\"110100023076|110100023282\",\"udsi\":\"110100023077003;110100023076024\",\"t\":\"1\",\"si\":\"110100023076024\",\"sl\":\"116.371154,39.845850\",\"udli\":\"110100023077;110100023076\",\"poiid\":\"BV10013417\",\"lg\":\"1\",\"sp\":\"jiao men xi\"},{\"rs\":\"928 900\",\"udpx\":\"930 900;925 900\",\"su\":\"1\",\"udsu\":\"1;1\",\"n\":\"马家堡\",\"sid\":\"110100023076023\",\"p\":\"928 900\",\"r\":\"110100023076\",\"udsi\":\"110100023077004;110100023076023\",\"t\":\"0\",\"si\":\"110100023076023\",\"sl\":\"116.371361,39.853109\",\"udli\":\"110100023077;110100023076\",\"poiid\":\"BV10009949\",\"lg\":\"2\",\"sp\":\"ma jia bao\"},{\"rs\":\"928 864|928 864\",\"udpx\":\"930 864;925 864\",\"su\":\"1\",\"udsu\":\"1;1\",\"n\":\"北京南站\",\"sid\":\"110100023050026\",\"p\":\"928 864\",\"r\":\"110100023076|900000028907\",\"udsi\":\"110100023077005;110100023076022\",\"t\":\"1\",\"si\":\"110100023050026\",\"sl\":\"116.378963,39.865029\",\"udli\":\"110100023077;110100023076\",\"poiid\":\"BV10006454\",\"lg\":\"6\",\"sp\":\"bei jing nan zhan\"},{\"rs\":\"928 831\",\"udpx\":\"930 832;925 832\",\"su\":\"1\",\"udsu\":\"1;1\",\"n\":\"陶然亭\",\"sid\":\"110100023076021\",\"p\":\"928 831\",\"r\":\"110100023076\",\"udsi\":\"110100023077006;110100023076021\",\"t\":\"0\",\"si\":\"110100023076021\",\"sl\":\"116.374383,39.878470\",\"udli\":\"110100023077;110100023076\",\"poiid\":\"BV10013416\",\"lg\":\"2\",\"sp\":\"tao ran ting\"},{\"rs\":\"928 800|928 800\",\"udpx\":\"930 800;925 800\",\"su\":\"1\",\"udsu\":\"1;1\",\"n\":\"菜市口\",\"sid\":\"110100023054006\",\"p\":\"928 800\",\"r\":\"110100023076|110100023054\",\"udsi\":\"110100023077007;110100023076020\",\"t\":\"1\",\"si\":\"110100023054006\",\"sl\":\"116.374425,39.889296\",\"udli\":\"110100023077;110100023076\",\"poiid\":\"BV10013379\",\"lg\":\"1\",\"sp\":\"cai shi kou\"},{\"rs\":\"928 764|928 764\",\"udpx\":\"925 764;930 764\",\"su\":\"1\",\"udsu\":\"1;1\",\"n\":\"宣武门\",\"sid\":\"110100023076019\",\"p\":\"928 764\",\"r\":\"110100023098|110100023076\",\"udsi\":\"110100023076019;110100023077008\",\"t\":\"1\",\"si\":\"110100023076019\",\"sl\":\"116.374314,39.899765\",\"udli\":\"110100023076;110100023077\",\"poiid\":\"BV10013415\",\"lg\":\"5\",\"sp\":\"xuan wu men\"},{\"rs\":\"928 720|928 720\",\"udpx\":\"925 720;930 720\",\"su\":\"1\",\"udsu\":\"1;1\",\"n\":\"西单\",\"sid\":\"110100023076018\",\"p\":\"928 720\",\"r\":\"110100023110|110100023076\",\"udsi\":\"110100023076018;110100023077009\",\"t\":\"1\",\"si\":\"110100023076018\",\"sl\":\"116.374072,39.907383\",\"udli\":\"110100023076;110100023077\",\"poiid\":\"BV10006791\",\"lg\":\"5\",\"sp\":\"xi dan\"},{\"rs\":\"928 690\",\"udpx\":\"925 690;930 690\",\"su\":\"1\",\"udsu\":\"1;1\",\"n\":\"灵境胡同\",\"sid\":\"110100023076017\",\"p\":\"928 690\",\"r\":\"110100023076\",\"udsi\":\"110100023076017;110100023077010\",\"t\":\"0\",\"si\":\"110100023076017\",\"sl\":\"116.373746,39.915912\",\"udli\":\"110100023076;110100023077\",\"poiid\":\"BV10008400\",\"lg\":\"2\",\"sp\":\"ling jing hu tong\"},{\"rs\":\"928 660\",\"udpx\":\"930 660;925 660\",\"su\":\"1\",\"udsu\":\"1;1\",\"n\":\"西四\",\"sid\":\"110100023076016\",\"p\":\"928 660\",\"r\":\"110100023076\",\"udsi\":\"110100023077011;110100023076016\",\"t\":\"0\",\"si\":\"110100023076016\",\"sl\":\"116.373332,39.924206\",\"udli\":\"110100023077;110100023076\",\"poiid\":\"BV10013414\",\"lg\":\"2\",\"sp\":\"xi si\"},{\"rs\":\"928 625|928 625\",\"udpx\":\"930 625;925 625\",\"su\":\"1\",\"udsu\":\"1;1\",\"n\":\"平安里\",\"sid\":\"110100023076015\",\"p\":\"928 625\",\"r\":\"110100023076|110100023339\",\"udsi\":\"110100023077012;110100023076015\",\"t\":\"1\",\"si\":\"110100023076015\",\"sl\":\"116.372883,39.933949\",\"udli\":\"110100023077;110100023076\",\"poiid\":\"BV10013413\",\"lg\":\"3\",\"sp\":\"ping an li\"},{\"rs\":\"926 589\",\"udpx\":\"928 589;924 592\",\"su\":\"1\",\"udsu\":\"1;1\",\"n\":\"新街口\",\"sid\":\"110100023076014\",\"p\":\"926 590\",\"r\":\"110100023076\",\"udsi\":\"110100023077013;110100023076014\",\"t\":\"0\",\"si\":\"110100023076014\",\"sl\":\"116.367742,39.940667\",\"udli\":\"110100023077;110100023076\",\"poiid\":\"BV10013412\",\"lg\":\"2\",\"sp\":\"xin jie kou\"},{\"rs\":\"858 585|858 585|858 585\",\"udpx\":\"858 588;858 582\",\"su\":\"1\",\"udsu\":\"1;1\",\"n\":\"西直门\",\"sid\":\"110100023076013\",\"p\":\"858 585\",\"r\":\"110100023098|110100023076|110100033066\",\"udsi\":\"110100023076013;110100023077014\",\"t\":\"1\",\"si\":\"110100023076013\",\"sl\":\"116.355426,39.940474\",\"udli\":\"110100023076;110100023077\",\"poiid\":\"BV10001595\",\"lg\":\"5\",\"sp\":\"xi zhi men\"},{\"rs\":\"812 585\",\"udpx\":\"812 582;812 588\",\"su\":\"1\",\"udsu\":\"1;1\",\"n\":\"动物园\",\"sid\":\"110100023076012\",\"p\":\"812 585\",\"r\":\"110100023076\",\"udsi\":\"110100023077015;110100023076012\",\"t\":\"0\",\"si\":\"110100023076012\",\"sl\":\"116.339031,39.938250\",\"udli\":\"110100023077;110100023076\",\"poiid\":\"BV10006771\",\"lg\":\"0\",\"sp\":\"dong wu yuan\"},{\"rs\":\"710 582|710 582\",\"udpx\":\"712 580;709 585\",\"su\":\"1\",\"udsu\":\"1;1\",\"n\":\"国家图书馆\",\"sid\":\"110100023076011\",\"p\":\"710 582\",\"r\":\"110100023076|110100023116\",\"udsi\":\"110100023077016;110100023076011\",\"t\":\"1\",\"si\":\"110100023076011\",\"sl\":\"116.325190,39.943114\",\"udli\":\"110100023077;110100023076\",\"poiid\":\"BV10000252\",\"lg\":\"6\",\"sp\":\"guo jia tu shu guan\"},{\"rs\":\"699 544\",\"udpx\":\"702 544;696 544\",\"su\":\"1\",\"udsu\":\"1;1\",\"n\":\"魏公村\",\"sid\":\"110100023076010\",\"p\":\"699 544\",\"r\":\"110100023076\",\"udsi\":\"110100023077017;110100023076010\",\"t\":\"0\",\"si\":\"110100023076010\",\"sl\":\"116.323220,39.957904\",\"udli\":\"110100023077;110100023076\",\"poiid\":\"BV10000255\",\"lg\":\"6\",\"sp\":\"wei gong cun\"},{\"rs\":\"699 498\",\"udpx\":\"702 498;696 498\",\"su\":\"1\",\"udsu\":\"1;1\",\"n\":\"人民大学\",\"sid\":\"110100023076009\",\"p\":\"699 498\",\"r\":\"110100023076\",\"udsi\":\"110100023077018;110100023076009\",\"t\":\"0\",\"si\":\"110100023076009\",\"sl\":\"116.321367,39.966956\",\"udli\":\"110100023077;110100023076\",\"poiid\":\"BV10000258\",\"lg\":\"6\",\"sp\":\"ren min da xue\"},{\"rs\":\"699 448|699 448\",\"udpx\":\"696 448;702 448\",\"su\":\"1\",\"udsu\":\"1;1\",\"n\":\"海淀黄庄\",\"sid\":\"110100023076008\",\"p\":\"699 448\",\"r\":\"110100023076|110100023282\",\"udsi\":\"110100023076008;110100023077019\",\"t\":\"1\",\"si\":\"110100023076008\",\"sl\":\"116.317564,39.975996\",\"udli\":\"110100023076;110100023077\",\"poiid\":\"BV10013411\",\"lg\":\"7\",\"sp\":\"hai dian huang zhuang\"},{\"rs\":\"699 415\",\"udpx\":\"696 415;701 415\",\"su\":\"1\",\"udsu\":\"1;1\",\"n\":\"中关村\",\"sid\":\"110100023076007\",\"p\":\"699 415\",\"r\":\"110100023076\",\"udsi\":\"110100023076007;110100023077020\",\"t\":\"0\",\"si\":\"110100023076007\",\"sl\":\"116.316467,39.983991\",\"udli\":\"110100023076;110100023077\",\"poiid\":\"BV10013410\",\"lg\":\"6\",\"sp\":\"zhong guan cun\"},{\"rs\":\"699 379\",\"udpx\":\"702 379;696 379\",\"su\":\"1\",\"udsu\":\"1;1\",\"n\":\"北京大学东门\",\"sid\":\"110100023076006\",\"p\":\"699 379\",\"r\":\"110100023076\",\"udsi\":\"110100023077021;110100023076006\",\"t\":\"0\",\"si\":\"110100023076006\",\"sl\":\"116.315842,39.992212\",\"udli\":\"110100023077;110100023076\",\"poiid\":\"BV10013409\",\"lg\":\"6\",\"sp\":\"bei jing da xue dong men\"},{\"rs\":\"699 342\",\"udpx\":\"702 342;696 342\",\"su\":\"1\",\"udsu\":\"1;1\",\"n\":\"圆明园\",\"sid\":\"110100023076005\",\"p\":\"699 342\",\"r\":\"110100023076\",\"udsi\":\"110100023077022;110100023076005\",\"t\":\"0\",\"si\":\"110100023076005\",\"sl\":\"116.310186,39.999662\",\"udli\":\"110100023077;110100023076\",\"poiid\":\"BV10013408\",\"lg\":\"2\",\"sp\":\"yuan ming yuan\"},{\"rs\":\"636 331|636 331\",\"udpx\":\"636 328;636 334\",\"su\":\"1\",\"udsu\":\"1;1\",\"n\":\"西苑\",\"sid\":\"110100023076004\",\"p\":\"636 331\",\"r\":\"110100023076|900000062236\",\"udsi\":\"110100023077023;110100023076004\",\"t\":\"1\",\"si\":\"110100023076004\",\"sl\":\"116.290908,39.998258\",\"udli\":\"110100023077;110100023076\",\"poiid\":\"BV10000920\",\"lg\":\"4\",\"sp\":\"xi yuan\"},{\"rs\":\"573 331\",\"udpx\":\"573 328;573 334\",\"su\":\"1\",\"udsu\":\"1;1\",\"n\":\"北宫门\",\"sid\":\"110100023076003\",\"p\":\"573 331\",\"r\":\"110100023076\",\"udsi\":\"110100023077024;110100023076003\",\"t\":\"0\",\"si\":\"110100023076003\",\"sl\":\"116.277647,40.002373\",\"udli\":\"110100023077;110100023076\",\"poiid\":\"BV10013407\",\"lg\":\"4\",\"sp\":\"bei gong men\"},{\"rs\":\"507 331\",\"udpx\":\"507 328;507 334\",\"su\":\"1\",\"udsu\":\"1;1\",\"n\":\"安河桥北\",\"sid\":\"110100023076002\",\"p\":\"507 331\",\"r\":\"110100023076\",\"udsi\":\"110100023077025;110100023076002\",\"t\":\"0\",\"si\":\"110100023076002\",\"sl\":\"116.269956,40.012195\",\"udli\":\"110100023077;110100023076\",\"poiid\":\"BV10013406\",\"lg\":\"4\",\"sp\":\"an he qiao bei\"}],\"ln\":\"4号线大兴线\",\"su\":\"1\",\"kn\":\"地铁4号线大兴线\",\"c\":[\"507 331\",\"573 331\",\"636 331\",\"677 331\",\"686 331\",\"692 332\",\"696 334\",\"698 337\",\"699 342\",\"699 379\",\"699 415\",\"699 448\",\"699 498\",\"699 544\",\"699 566\",\"700 573\",\"703 578\",\"710 582\",\"717 585\",\"812 585\",\"858 585\",\"900 585\",\"914 585\",\"921 586\",\"926 589\",\"928 596\",\"928 625\",\"928 660\",\"928 690\",\"928 720\",\"928 764\",\"928 796\",\"928 800\",\"928 831\",\"928 832\",\"928 864\",\"928 866\",\"928 900\",\"928 935\",\"928 974\",\"902 1002\",\"878 1028\",\"878 1066\",\"878 1113\",\"878 1145\",\"878 1183\",\"878 1216\",\"878 1251\",\"878 1283\",\"878 1319\",\"878 1353\"],\"lo\":\"0\",\"lp\":[\"506 304\"],\"f\":[{\"c\":[\"881 1353\",\"881 1319\",\"881 1283\",\"881 1251\",\"881 1216\",\"881 1183\",\"881 1145\",\"881 1113\",\"881 1065\",\"881 1030\",\"904 1004\",\"930 975\",\"930 935\",\"930 900\",\"930 866\",\"930 864\",\"930 832\",\"930 800\",\"930 796\",\"930 764\",\"930 720\",\"930 690\",\"930 660\",\"930 625\",\"930 596\",\"928 589\",\"928 588\",\"922 583\",\"915 582\",\"900 582\",\"858 582\",\"812 582\",\"717 582\",\"712 580\",\"706 576\",\"703 572\",\"702 566\",\"702 544\",\"702 498\",\"702 448\",\"701 415\",\"702 379\",\"702 342\",\"700 336\",\"698 332\",\"692 329\",\"686 328\",\"677 328\",\"636 328\",\"573 328\",\"507 328\"],\"li\":\"110100023077\"},{\"c\":[\"507 334\",\"573 334\",\"636 334\",\"677 334\",\"686 334\",\"691 335\",\"694 336\",\"695 339\",\"696 342\",\"696 379\",\"696 415\",\"696 448\",\"696 498\",\"696 544\",\"696 566\",\"698 574\",\"701 580\",\"709 585\",\"716 588\",\"812 588\",\"858 588\",\"900 588\",\"914 588\",\"920 589\",\"923 591\",\"924 592\",\"925 597\",\"925 625\",\"925 660\",\"925 690\",\"925 720\",\"925 764\",\"925 796\",\"925 800\",\"925 832\",\"925 864\",\"925 866\",\"925 900\",\"925 935\",\"925 973\",\"900 1000\",\"875 1027\",\"875 1066\",\"875 1113\",\"875 1145\",\"875 1183\",\"875 1216\",\"875 1251\",\"875 1283\",\"876 1319\",\"876 1353\"],\"li\":\"110100023076\"}],\"ls\":\"110100023076\",\"cl\":\"008187\",\"la\":\"\",\"x\":4,\"li\":\"110100023076|110100023077\"},{\"st\":[{\"rs\":\"1116 935|1116 935|1116 935\",\"udpx\":\"1119 935;1113 935\",\"su\":\"1\",\"udsu\":\"1;1\",\"n\":\"宋家庄\",\"sid\":\"110100023100001\",\"p\":\"1116 935\",\"r\":\"110100023100|110100023282|110100023102\",\"udsi\":\"110100023100001;110100023101024\",\"t\":\"1\",\"si\":\"110100023100001\",\"sl\":\"116.428368,39.845849\",\"udli\":\"110100023100;110100023101\",\"poiid\":\"BV10000743\",\"lg\":\"3\",\"sp\":\"song jia zhuang\"},{\"rs\":\"1116 895\",\"udpx\":\"1119 895;1113 895\",\"su\":\"1\",\"udsu\":\"1;1\",\"n\":\"刘家窑\",\"sid\":\"110100023100002\",\"p\":\"1116 895\",\"r\":\"110100023100\",\"udsi\":\"110100023100002;110100023101023\",\"t\":\"0\",\"si\":\"110100023100002\",\"sl\":\"116.422119,39.857521\",\"udli\":\"110100023100;110100023101\",\"poiid\":\"BV10013438\",\"lg\":\"2\",\"sp\":\"liu jia yao\"},{\"rs\":\"1116 864|1116 864\",\"udpx\":\"1119 864;1113 864\",\"su\":\"1\",\"udsu\":\"1;1\",\"n\":\"蒲黄榆\",\"sid\":\"110100023100003\",\"p\":\"1116 864\",\"r\":\"110100023100|900000028907\",\"udsi\":\"110100023100003;110100023101022\",\"t\":\"1\",\"si\":\"110100023100003\",\"sl\":\"116.423720,39.865621\",\"udli\":\"110100023100;110100023101\",\"poiid\":\"BV10006603\",\"lg\":\"1\",\"sp\":\"pu huang yu\"},{\"rs\":\"1116 831\",\"udpx\":\"1119 831;1113 831\",\"su\":\"1\",\"udsu\":\"1;1\",\"n\":\"天坛东门\",\"sid\":\"110100023100004\",\"p\":\"1116 831\",\"r\":\"110100023100\",\"udsi\":\"110100023100004;110100023101021\",\"t\":\"0\",\"si\":\"110100023100004\",\"sl\":\"116.420833,39.882558\",\"udli\":\"110100023100;110100023101\",\"poiid\":\"BV10013439\",\"lg\":\"2\",\"sp\":\"tian tan dong men\"},{\"rs\":\"1116 800|1116 800\",\"udpx\":\"1119 800;1113 800\",\"su\":\"1\",\"udsu\":\"1;1\",\"n\":\"磁器口\",\"sid\":\"110100023054010\",\"p\":\"1116 800\",\"r\":\"110100023100|110100023054\",\"udsi\":\"110100023100005;110100023101020\",\"t\":\"1\",\"si\":\"110100023054010\",\"sl\":\"116.419940,39.893172\",\"udli\":\"110100023100;110100023101\",\"poiid\":\"BV10013383\",\"lg\":\"3\",\"sp\":\"ci qi kou\"},{\"rs\":\"1116 764|1116 764\",\"udpx\":\"1113 764;1119 764\",\"su\":\"1\",\"udsu\":\"1;1\",\"n\":\"崇文门\",\"sid\":\"110100023098011\",\"p\":\"1116 764\",\"r\":\"110100023098|110100023100\",\"udsi\":\"110100023101019;110100023100006\",\"t\":\"1\",\"si\":\"110100023098011\",\"sl\":\"116.417093,39.901063\",\"udli\":\"110100023101;110100023100\",\"poiid\":\"BV10013433\",\"lg\":\"3\",\"sp\":\"chong wen men\"},{\"rs\":\"1116 720|1116 720\",\"udpx\":\"1113 720;1119 720\",\"su\":\"1\",\"udsu\":\"1;1\",\"n\":\"东单\",\"sid\":\"110100023100007\",\"p\":\"1116 720\",\"r\":\"110100023110|110100023100\",\"udsi\":\"110100023101018;110100023100007\",\"t\":\"1\",\"si\":\"110100023100007\",\"sl\":\"116.418480,39.908325\",\"udli\":\"110100023101;110100023100\",\"poiid\":\"BV10013440\",\"lg\":\"3\",\"sp\":\"dong dan\"},{\"rs\":\"1116 689\",\"udpx\":\"1113 689;1119 689\",\"su\":\"1\",\"udsu\":\"1;1\",\"n\":\"灯市口\",\"sid\":\"110100023100008\",\"p\":\"1116 689\",\"r\":\"110100023100\",\"udsi\":\"110100023101017;110100023100008\",\"t\":\"0\",\"si\":\"110100023100008\",\"sl\":\"116.417783,39.917113\",\"udli\":\"110100023101;110100023100\",\"poiid\":\"BV10013441\",\"lg\":\"2\",\"sp\":\"deng shi kou\"},{\"rs\":\"1116 659|1116 659\",\"udpx\":\"1113 659;1119 659\",\"su\":\"1\",\"udsu\":\"1;1\",\"n\":\"东四\",\"sid\":\"110100023100009\",\"p\":\"1116 659\",\"r\":\"110100023100|110100023339\",\"udsi\":\"110100023101016;110100023100009\",\"t\":\"1\",\"si\":\"110100023100009\",\"sl\":\"116.417493,39.924370\",\"udli\":\"110100023101;110100023100\",\"poiid\":\"BV10013442\",\"lg\":\"1\",\"sp\":\"dong si\"},{\"rs\":\"1116 616\",\"udpx\":\"1113 616;1119 616\",\"su\":\"1\",\"udsu\":\"1;1\",\"n\":\"张自忠路\",\"sid\":\"110100023100010\",\"p\":\"1116 616\",\"r\":\"110100023100\",\"udsi\":\"110100023101015;110100023100010\",\"t\":\"0\",\"si\":\"110100023100010\",\"sl\":\"116.417156,39.933592\",\"udli\":\"110100023101;110100023100\",\"poiid\":\"BV10001045\",\"lg\":\"2\",\"sp\":\"zhang zi zhong lu\"},{\"rs\":\"1116 585\",\"udpx\":\"1113 585;1119 585\",\"su\":\"1\",\"udsu\":\"1;1\",\"n\":\"北新桥\",\"sid\":\"110100023100011\",\"p\":\"1116 585\",\"r\":\"110100023100\",\"udsi\":\"110100023101014;110100023100011\",\"t\":\"0\",\"si\":\"110100023100011\",\"sl\":\"116.416884,39.940782\",\"udli\":\"110100023101;110100023100\",\"poiid\":\"BV10013443\",\"lg\":\"2\",\"sp\":\"bei xin qiao\"},{\"rs\":\"1116 555|1116 555\",\"udpx\":\"1119 555;1113 555\",\"su\":\"1\",\"udsu\":\"1;1\",\"n\":\"雍和宫\",\"sid\":\"110100023098005\",\"p\":\"1116 555\",\"r\":\"110100023098|110100023100\",\"udsi\":\"110100023100012;110100023101013\",\"t\":\"1\",\"si\":\"110100023098005\",\"sl\":\"116.417069,39.949336\",\"udli\":\"110100023100;110100023101\",\"poiid\":\"BV10006563\",\"lg\":\"1\",\"sp\":\"yong he gong\"},{\"rs\":\"1116 515\",\"udpx\":\"1119 515;1113 515\",\"su\":\"1\",\"udsu\":\"1;1\",\"n\":\"和平里北街\",\"sid\":\"110100023100013\",\"p\":\"1116 515\",\"r\":\"110100023100\",\"udsi\":\"110100023100013;110100023101012\",\"t\":\"0\",\"si\":\"110100023100013\",\"sl\":\"116.418504,39.958734\",\"udli\":\"110100023100;110100023101\",\"poiid\":\"BV10006616\",\"lg\":\"2\",\"sp\":\"he ping li bei jie\"},{\"rs\":\"1116 487\",\"udpx\":\"1119 487;1113 487\",\"su\":\"1\",\"udsu\":\"1;1\",\"n\":\"和平西桥\",\"sid\":\"110100023100014\",\"p\":\"1116 487\",\"r\":\"110100023100\",\"udsi\":\"110100023100014;110100023101011\",\"t\":\"0\",\"si\":\"110100023100014\",\"sl\":\"116.417975,39.968386\",\"udli\":\"110100023100;110100023101\",\"poiid\":\"BV10001221\",\"lg\":\"2\",\"sp\":\"he ping xi qiao\"},{\"rs\":\"1116 448|1116 448\",\"udpx\":\"1119 448;1113 448\",\"su\":\"1\",\"udsu\":\"1;1\",\"n\":\"惠新西街南口\",\"sid\":\"110100023100015\",\"p\":\"1116 448\",\"r\":\"110100023100|110100023282\",\"udsi\":\"110100023100015;110100023101010\",\"t\":\"1\",\"si\":\"110100023100015\",\"sl\":\"116.417537,39.977121\",\"udli\":\"110100023100;110100023101\",\"poiid\":\"BV10005412\",\"lg\":\"3\",\"sp\":\"hui xin xi jie nan kou\"},{\"rs\":\"1116 417\",\"udpx\":\"1113 417;1119 417\",\"su\":\"1\",\"udsu\":\"1;1\",\"n\":\"惠新西街北口\",\"sid\":\"110100023100016\",\"p\":\"1116 417\",\"r\":\"110100023100\",\"udsi\":\"110100023101009;110100023100016\",\"t\":\"0\",\"si\":\"110100023100016\",\"sl\":\"116.417028,39.987836\",\"udli\":\"110100023101;110100023100\",\"poiid\":\"BV10006707\",\"lg\":\"2\",\"sp\":\"hui xin xi jie bei kou\"},{\"rs\":\"1116 386|1116 386\",\"udpx\":\"1113 386;1119 386\",\"su\":\"1\",\"udsu\":\"1;1\",\"n\":\"大屯路东\",\"sid\":\"110100023070020\",\"p\":\"1116 386\",\"r\":\"110100023100|110100023070\",\"udsi\":\"110100023101008;110100023100017\",\"t\":\"1\",\"si\":\"110100023070020\",\"sl\":\"116.417377,40.003841\",\"udli\":\"110100023101;110100023100\",\"poiid\":\"BV10013376\",\"lg\":\"1\",\"sp\":\"da tun lu dong\"},{\"rs\":\"1116 340\",\"udpx\":\"1113 340;1119 340\",\"su\":\"1\",\"udsu\":\"1;1\",\"n\":\"北苑路北\",\"sid\":\"110100023100018\",\"p\":\"1116 340\",\"r\":\"110100023100\",\"udsi\":\"110100023101007;110100023100018\",\"t\":\"0\",\"si\":\"110100023100018\",\"sl\":\"116.418089,40.030436\",\"udli\":\"110100023101;110100023100\",\"poiid\":\"BV10013444\",\"lg\":\"2\",\"sp\":\"bei yuan lu bei\"},{\"rs\":\"1116 304\",\"udpx\":\"1113 304;1119 304\",\"su\":\"1\",\"udsu\":\"1;1\",\"n\":\"立水桥南\",\"sid\":\"110100023100019\",\"p\":\"1116 304\",\"r\":\"110100023100\",\"udsi\":\"110100023101006;110100023100019\",\"t\":\"0\",\"si\":\"110100023100019\",\"sl\":\"116.414496,40.041956\",\"udli\":\"110100023101;110100023100\",\"poiid\":\"BV10004309\",\"lg\":\"2\",\"sp\":\"li shui qiao nan\"},{\"rs\":\"1116 267|1116 267\",\"udpx\":\"1113 267;1119 267\",\"su\":\"1\",\"udsu\":\"1;1\",\"n\":\"立水桥\",\"sid\":\"110100023100020\",\"p\":\"1116 267\",\"r\":\"110100023100|110100033066\",\"udsi\":\"110100023101005;110100023100020\",\"t\":\"1\",\"si\":\"110100023100020\",\"sl\":\"116.412350,40.053032\",\"udli\":\"110100023101;110100023100\",\"poiid\":\"BV10000461\",\"lg\":\"1\",\"sp\":\"li shui qiao\"},{\"rs\":\"1116 223\",\"udpx\":\"1113 223;1119 223\",\"su\":\"1\",\"udsu\":\"1;1\",\"n\":\"天通苑南\",\"sid\":\"110100023100021\",\"p\":\"1116 223\",\"r\":\"110100023100\",\"udsi\":\"110100023101004;110100023100021\",\"t\":\"0\",\"si\":\"110100023100021\",\"sl\":\"116.412661,40.066458\",\"udli\":\"110100023101;110100023100\",\"poiid\":\"BV10013445\",\"lg\":\"2\",\"sp\":\"tian tong yuan nan\"},{\"rs\":\"1116 191\",\"udpx\":\"1113 191;1119 191\",\"su\":\"1\",\"udsu\":\"1;1\",\"n\":\"天通苑\",\"sid\":\"110100023100022\",\"p\":\"1116 191\",\"r\":\"110100023100\",\"udsi\":\"110100023101003;110100023100022\",\"t\":\"0\",\"si\":\"110100023100022\",\"sl\":\"116.412759,40.075222\",\"udli\":\"110100023101;110100023100\",\"poiid\":\"BV10013446\",\"lg\":\"2\",\"sp\":\"tian tong yuan\"},{\"rs\":\"1116 160\",\"udpx\":\"1119 160;1113 160\",\"su\":\"1\",\"udsu\":\"1;1\",\"n\":\"天通苑北\",\"sid\":\"110100023100023\",\"p\":\"1116 160\",\"r\":\"110100023100\",\"udsi\":\"110100023100023;110100023101002\",\"t\":\"0\",\"si\":\"110100023100023\",\"sl\":\"116.412888,40.083668\",\"udli\":\"110100023100;110100023101\",\"poiid\":\"BV10013447\",\"lg\":\"2\",\"sp\":\"tian tong yuan bei\"}],\"ln\":\"5号线\",\"su\":\"1\",\"kn\":\"地铁5号线\",\"c\":[\"1116 935\",\"1116 895\",\"1116 864\",\"1116 831\",\"1116 800\",\"1116 764\",\"1116 762\",\"1116 720\",\"1116 719\",\"1116 689\",\"1116 659\",\"1116 616\",\"1116 585\",\"1116 555\",\"1116 515\",\"1116 487\",\"1116 448\",\"1116 418\",\"1116 417\",\"1116 386\",\"1116 370\",\"1116 340\",\"1116 304\",\"1116 267\",\"1116 266\",\"1116 223\",\"1116 191\",\"1116 160\"],\"lo\":\"0\",\"lp\":[\"1173 204\"],\"f\":[{\"c\":[\"1113 160\",\"1113 191\",\"1113 223\",\"1113 266\",\"1113 267\",\"1113 304\",\"1113 340\",\"1113 370\",\"1113 386\",\"1113 417\",\"1113 448\",\"1113 487\",\"1113 515\",\"1113 555\",\"1113 585\",\"1113 616\",\"1113 659\",\"1113 689\",\"1113 719\",\"1113 720\",\"1113 762\",\"1113 764\",\"1113 800\",\"1113 831\",\"1113 864\",\"1113 895\",\"1113 935\"],\"li\":\"110100023101\"},{\"c\":[\"1119 935\",\"1119 895\",\"1119 864\",\"1119 831\",\"1119 800\",\"1119 764\",\"1119 763\",\"1119 720\",\"1119 719\",\"1119 689\",\"1119 659\",\"1119 616\",\"1119 585\",\"1119 555\",\"1119 515\",\"1119 487\",\"1119 448\",\"1119 417\",\"1119 386\",\"1119 370\",\"1119 340\",\"1119 304\",\"1119 267\",\"1119 266\",\"1119 223\",\"1119 191\",\"1119 160\"],\"li\":\"110100023100\"}],\"ls\":\"110100023100\",\"cl\":\"A61D7F\",\"la\":\"\",\"x\":5,\"li\":\"110100023100|110100023101\"},{\"st\":[{\"rs\":\"2000 772\",\"udpx\":\"2000 769;2000 775\",\"su\":\"1\",\"udsu\":\"1;1\",\"n\":\"潞城\",\"sid\":\"110100023339022\",\"p\":\"2000 772\",\"r\":\"110100023339\",\"udsi\":\"110100023339022;110100023340029\",\"t\":\"0\",\"si\":\"110100023339022\",\"sl\":\"116.747434,39.902652\",\"udli\":\"110100023339;110100023340\",\"poiid\":\"BV10416639\",\"lg\":\"0\",\"sp\":\"lu cheng\"},{\"rs\":\"1954 772\",\"udpx\":\"1954 775;1954 769\",\"su\":\"1\",\"udsu\":\"1;1\",\"n\":\"东夏园\",\"sid\":\"110100023339023\",\"p\":\"1954 772\",\"r\":\"110100023339\",\"udsi\":\"110100023340028;110100023339023\",\"t\":\"0\",\"si\":\"110100023339023\",\"sl\":\"116.733850,39.903147\",\"udli\":\"110100023340;110100023339\",\"poiid\":\"BV10416641\",\"lg\":\"0\",\"sp\":\"dong xia yuan\"},{\"rs\":\"1912 772\",\"udpx\":\"1912 769;1912 775\",\"su\":\"1\",\"udsu\":\"1;1\",\"n\":\"郝家府\",\"sid\":\"110100023339024\",\"p\":\"1912 772\",\"r\":\"110100023339\",\"udsi\":\"110100023339024;110100023340027\",\"t\":\"0\",\"si\":\"110100023339024\",\"sl\":\"116.717826,39.903195\",\"udli\":\"110100023339;110100023340\",\"poiid\":\"BV10416644\",\"lg\":\"4\",\"sp\":\"hao jia fu\"},{\"rs\":\"1872 772\",\"udpx\":\"1872 769;1872 775\",\"su\":\"1\",\"udsu\":\"1;1\",\"n\":\"北运河东\",\"sid\":\"110100023339025\",\"p\":\"1872 772\",\"r\":\"110100023339\",\"udsi\":\"110100023339025;110100023340026\",\"t\":\"0\",\"si\":\"110100023339025\",\"sl\":\"116.707056,39.903268\",\"udli\":\"110100023339;110100023340\",\"poiid\":\"BV10416651\",\"lg\":\"0\",\"sp\":\"bei yun he dong\"},{\"rs\":\"1825 772\",\"udpx\":\"1824 775;1827 769\",\"su\":\"1\",\"udsu\":\"1;1\",\"n\":\"北运河西\",\"sid\":\"110100023339026\",\"p\":\"1825 772\",\"r\":\"110100023339\",\"udsi\":\"110100023340025;110100023339026\",\"t\":\"0\",\"si\":\"110100023339026\",\"sl\":\"116.688358,39.903024\",\"udli\":\"110100023340;110100023339\",\"poiid\":\"BV10416648\",\"lg\":\"4\",\"sp\":\"bei yun he xi\"},{\"rs\":\"1747 659\",\"udpx\":\"1745 662;1748 656\",\"su\":\"1\",\"udsu\":\"1;1\",\"n\":\"通州北关\",\"sid\":\"110100023339028\",\"p\":\"1747 659\",\"r\":\"110100023339\",\"udsi\":\"110100023340023;110100023339028\",\"t\":\"0\",\"si\":\"110100023339028\",\"sl\":\"116.661131,39.917962\",\"udli\":\"110100023340;110100023339\",\"poiid\":\"BV10416643\",\"lg\":\"0\",\"sp\":\"tong zhou bei guan\"},{\"rs\":\"1687 659\",\"udpx\":\"1687 662;1687 656\",\"su\":\"1\",\"udsu\":\"1;1\",\"n\":\"物资学院路\",\"sid\":\"110100023339029\",\"p\":\"1687 659\",\"r\":\"110100023339\",\"udsi\":\"110100023340022;110100023339029\",\"t\":\"0\",\"si\":\"110100023339029\",\"sl\":\"116.639316,39.926801\",\"udli\":\"110100023340;110100023339\",\"poiid\":\"BV10416645\",\"lg\":\"4\",\"sp\":\"wu zi xue yuan lu\"},{\"rs\":\"1629 659\",\"udpx\":\"1629 662;1629 656\",\"su\":\"1\",\"udsu\":\"1;1\",\"n\":\"草房\",\"sid\":\"110100023339002\",\"p\":\"1629 659\",\"r\":\"110100023339\",\"udsi\":\"110100023340021;110100023339002\",\"t\":\"0\",\"si\":\"110100023339002\",\"sl\":\"116.615574,39.924477\",\"udli\":\"110100023340;110100023339\",\"poiid\":\"BV10006882\",\"lg\":\"0\",\"sp\":\"cao fang\"},{\"rs\":\"1580 659\",\"udpx\":\"1580 662;1580 656\",\"su\":\"1\",\"udsu\":\"1;1\",\"n\":\"常营\",\"sid\":\"110100023339003\",\"p\":\"1580 659\",\"r\":\"110100023339\",\"udsi\":\"110100023340020;110100023339003\",\"t\":\"0\",\"si\":\"110100023339003\",\"sl\":\"116.599722,39.925696\",\"udli\":\"110100023340;110100023339\",\"poiid\":\"BV10006429\",\"lg\":\"4\",\"sp\":\"chang ying\"},{\"rs\":\"1529 659\",\"udpx\":\"1529 662;1529 656\",\"su\":\"1\",\"udsu\":\"1;1\",\"n\":\"黄渠\",\"sid\":\"110100023339004\",\"p\":\"1529 659\",\"r\":\"110100023339\",\"udsi\":\"110100023340019;110100023339004\",\"t\":\"0\",\"si\":\"110100023339004\",\"sl\":\"116.578266,39.924201\",\"udli\":\"110100023340;110100023339\",\"poiid\":\"BV10013505\",\"lg\":\"0\",\"sp\":\"huang qu\"},{\"rs\":\"1478 659\",\"udpx\":\"1478 662;1478 656\",\"su\":\"1\",\"udsu\":\"1;1\",\"n\":\"褡裢坡\",\"sid\":\"110100023339005\",\"p\":\"1478 659\",\"r\":\"110100023339\",\"udsi\":\"110100023340018;110100023339005\",\"t\":\"0\",\"si\":\"110100023339005\",\"sl\":\"116.563961,39.924021\",\"udli\":\"110100023340;110100023339\",\"poiid\":\"BV10013506\",\"lg\":\"4\",\"sp\":\"da lian po\"},{\"rs\":\"1429 659\",\"udpx\":\"1429 656;1429 662\",\"su\":\"1\",\"udsu\":\"1;1\",\"n\":\"青年路\",\"sid\":\"110100023339006\",\"p\":\"1429 659\",\"r\":\"110100023339\",\"udsi\":\"110100023339006;110100023340017\",\"t\":\"0\",\"si\":\"110100023339006\",\"sl\":\"116.517429,39.923168\",\"udli\":\"110100023339;110100023340\",\"poiid\":\"BV10013507\",\"lg\":\"0\",\"sp\":\"qing nian lu\"},{\"rs\":\"1379 659\",\"udpx\":\"1379 656;1379 662\",\"su\":\"1\",\"udsu\":\"1;1\",\"n\":\"十里堡\",\"sid\":\"110100023339007\",\"p\":\"1379 659\",\"r\":\"110100023339\",\"udsi\":\"110100023339007;110100023340016\",\"t\":\"0\",\"si\":\"110100023339007\",\"sl\":\"116.502045,39.923076\",\"udli\":\"110100023339;110100023340\",\"poiid\":\"BV10000481\",\"lg\":\"4\",\"sp\":\"shi li bao\"},{\"rs\":\"1337 659|1337 659\",\"udpx\":\"1337 656;1337 662\",\"su\":\"1\",\"udsu\":\"1;1\",\"n\":\"金台路\",\"sid\":\"110100023339008\",\"p\":\"1337 659\",\"r\":\"110100023339|900000028907\",\"udsi\":\"110100023339008;110100023340015\",\"t\":\"1\",\"si\":\"110100023339008\",\"sl\":\"116.478115,39.923556\",\"udli\":\"110100023339;110100023340\",\"poiid\":\"BV10008284\",\"lg\":\"1\",\"sp\":\"jin tai lu\"},{\"rs\":\"1279 659|1279 659\",\"udpx\":\"1279 656;1279 662\",\"su\":\"1\",\"udsu\":\"1;1\",\"n\":\"呼家楼\",\"sid\":\"110100023282019\",\"p\":\"1279 659\",\"r\":\"110100023339|110100023282\",\"udsi\":\"110100023339009;110100023340014\",\"t\":\"1\",\"si\":\"110100023282019\",\"sl\":\"116.461618,39.923337\",\"udli\":\"110100023339;110100023340\",\"poiid\":\"BV10013489\",\"lg\":\"1\",\"sp\":\"hu jia lou\"},{\"rs\":\"1229 659\",\"udpx\":\"1229 656;1229 662\",\"su\":\"1\",\"udsu\":\"1;1\",\"n\":\"东大桥\",\"sid\":\"110100023339010\",\"p\":\"1229 659\",\"r\":\"110100023339\",\"udsi\":\"110100023339010;110100023340013\",\"t\":\"0\",\"si\":\"110100023339010\",\"sl\":\"116.451657,39.923054\",\"udli\":\"110100023339;110100023340\",\"poiid\":\"BV10000548\",\"lg\":\"0\",\"sp\":\"dong da qiao\"},{\"rs\":\"1179 659|1179 659\",\"udpx\":\"1179 656;1179 662\",\"su\":\"1\",\"udsu\":\"1;1\",\"n\":\"朝阳门\",\"sid\":\"110100023098008\",\"p\":\"1179 659\",\"r\":\"110100023098|110100023339\",\"udsi\":\"110100023339011;110100023340012\",\"t\":\"1\",\"si\":\"110100023098008\",\"sl\":\"116.434584,39.924499\",\"udli\":\"110100023339;110100023340\",\"poiid\":\"BV10004298\",\"lg\":\"3\",\"sp\":\"zhao yang men\"},{\"rs\":\"1116 659|1116 659\",\"udpx\":\"1116 662;1116 656\",\"su\":\"1\",\"udsu\":\"1;1\",\"n\":\"东四\",\"sid\":\"110100023100009\",\"p\":\"1116 659\",\"r\":\"110100023100|110100023339\",\"udsi\":\"110100023340011;110100023339012\",\"t\":\"1\",\"si\":\"110100023100009\",\"sl\":\"116.417493,39.924370\",\"udli\":\"110100023340;110100023339\",\"poiid\":\"BV10013442\",\"lg\":\"1\",\"sp\":\"dong si\"},{\"rs\":\"1015 625|1015 625\",\"udpx\":\"1016 622;1014 628\",\"su\":\"1\",\"udsu\":\"1;1\",\"n\":\"南锣鼓巷\",\"sid\":\"110100023114002\",\"p\":\"1015 625\",\"r\":\"110100023339|110100023114\",\"udsi\":\"110100023339013;110100023340010\",\"t\":\"1\",\"si\":\"110100023114002\",\"sl\":\"116.404192,39.933848\",\"udli\":\"110100023339;110100023340\",\"poiid\":\"BV10013392\",\"lg\":\"2\",\"sp\":\"nan luo gu xiang\"},{\"rs\":\"970 625\",\"udpx\":\"970 628;970 622\",\"su\":\"1\",\"udsu\":\"1;1\",\"n\":\"北海北\",\"sid\":\"110100023339014\",\"p\":\"970 625\",\"r\":\"110100023339\",\"udsi\":\"110100023340009;110100023339014\",\"t\":\"0\",\"si\":\"110100023339014\",\"sl\":\"116.386829,39.933247\",\"udli\":\"110100023340;110100023339\",\"poiid\":\"BV10013508\",\"lg\":\"0\",\"sp\":\"bei hai bei\"},{\"rs\":\"928 625|928 625\",\"udpx\":\"928 628;928 622\",\"su\":\"1\",\"udsu\":\"1;1\",\"n\":\"平安里\",\"sid\":\"110100023076015\",\"p\":\"928 625\",\"r\":\"110100023076|110100023339\",\"udsi\":\"110100023340008;110100023339015\",\"t\":\"1\",\"si\":\"110100023076015\",\"sl\":\"116.372883,39.933949\",\"udli\":\"110100023340;110100023339\",\"poiid\":\"BV10013413\",\"lg\":\"3\",\"sp\":\"ping an li\"},{\"rs\":\"858 625|858 625\",\"udpx\":\"858 628;858 622\",\"su\":\"1\",\"udsu\":\"1;1\",\"n\":\"车公庄\",\"sid\":\"110100023098018\",\"p\":\"858 625\",\"r\":\"110100023098|110100023339\",\"udsi\":\"110100023340007;110100023339016\",\"t\":\"1\",\"si\":\"110100023098018\",\"sl\":\"116.354357,39.932397\",\"udli\":\"110100023340;110100023339\",\"poiid\":\"BV10013437\",\"lg\":\"3\",\"sp\":\"che gong zhuang\"},{\"rs\":\"783 625\",\"udpx\":\"783 628;783 622\",\"su\":\"1\",\"udsu\":\"1;1\",\"n\":\"车公庄西\",\"sid\":\"110100023339017\",\"p\":\"783 625\",\"r\":\"110100023339\",\"udsi\":\"110100023340006;110100023339017\",\"t\":\"0\",\"si\":\"110100023339017\",\"sl\":\"116.344082,39.932466\",\"udli\":\"110100023340;110100023339\",\"poiid\":\"BV10000051\",\"lg\":\"4\",\"sp\":\"che gong zhuang xi\"},{\"rs\":\"710 625|710 625\",\"udpx\":\"710 622;710 628\",\"su\":\"1\",\"udsu\":\"1;1\",\"n\":\"白石桥南\",\"sid\":\"110100023116013\",\"p\":\"710 625\",\"r\":\"110100023339|110100023116\",\"udsi\":\"110100023339018;110100023340005\",\"t\":\"1\",\"si\":\"110100023116013\",\"sl\":\"116.325680,39.933022\",\"udli\":\"110100023339;110100023340\",\"poiid\":\"BV10000061\",\"lg\":\"1\",\"sp\":\"bai shi qiao nan\"},{\"rs\":\"635 625\",\"udpx\":\"635 622;635 628\",\"su\":\"1\",\"udsu\":\"1;1\",\"n\":\"花园桥\",\"sid\":\"110100023339019\",\"p\":\"635 625\",\"r\":\"110100023339\",\"udsi\":\"110100023339019;110100023340004\",\"t\":\"0\",\"si\":\"110100023339019\",\"sl\":\"116.310683,39.932340\",\"udli\":\"110100023339;110100023340\",\"poiid\":\"BV10013509\",\"lg\":\"0\",\"sp\":\"hua yuan qiao\"},{\"rs\":\"561 625|561 625\",\"udpx\":\"561 622;561 628\",\"su\":\"1\",\"udsu\":\"1;1\",\"n\":\"慈寿寺\",\"sid\":\"110100023282043\",\"p\":\"561 625\",\"r\":\"110100023339|110100023282\",\"udsi\":\"110100023339020;110100023340003\",\"t\":\"1\",\"si\":\"110100023282043\",\"sl\":\"116.295467,39.933268\",\"udli\":\"110100023339;110100023340\",\"poiid\":\"BV10013496\",\"lg\":\"1\",\"sp\":\"ci shou si\"},{\"rs\":\"487 625\",\"udpx\":\"487 622;487 628\",\"su\":\"1\",\"udsu\":\"1;1\",\"n\":\"海淀五路居\",\"sid\":\"110100023339021\",\"p\":\"487 625\",\"r\":\"110100023339\",\"udsi\":\"110100023339021;110100023340002\",\"t\":\"0\",\"si\":\"110100023339021\",\"sl\":\"116.276531,39.932584\",\"udli\":\"110100023339;110100023340\",\"poiid\":\"BV10013510\",\"lg\":\"0\",\"sp\":\"hai dian wu lu ju\"},{\"rs\":\"451 625\",\"udpx\":\"451 622;451 628\",\"su\":\"1\",\"udsu\":\"1;1\",\"n\":\"田村\",\"sid\":\"110100023339030\",\"p\":\"451 625\",\"r\":\"110100023339\",\"udsi\":\"110100023339030;110100023340033\",\"t\":\"0\",\"si\":\"110100023339030\",\"sl\":\"116.252914,39.929503\",\"udli\":\"110100023339;110100023340\",\"poiid\":\"BV11103939\",\"lg\":\"4\",\"sp\":\"tian cun\"},{\"rs\":\"416 625\",\"udpx\":\"416 622;416 628\",\"su\":\"1\",\"udsu\":\"1;1\",\"n\":\"廖公庄\",\"sid\":\"110100023339031\",\"p\":\"416 625\",\"r\":\"110100023339\",\"udsi\":\"110100023339031;110100023340032\",\"t\":\"0\",\"si\":\"110100023339031\",\"sl\":\"116.227292,39.932422\",\"udli\":\"110100023339;110100023340\",\"poiid\":\"BV11103937\",\"lg\":\"0\",\"sp\":\"liao gong zhuang\"},{\"rs\":\"379 625\",\"udpx\":\"379 622;379 628\",\"su\":\"1\",\"udsu\":\"1;1\",\"n\":\"西黄村\",\"sid\":\"110100023339032\",\"p\":\"379 625\",\"r\":\"110100023339\",\"udsi\":\"110100023339032;110100023340031\",\"t\":\"0\",\"si\":\"110100023339032\",\"sl\":\"116.206932,39.933605\",\"udli\":\"110100023339;110100023340\",\"poiid\":\"BV11103938\",\"lg\":\"7\",\"sp\":\"xi huang cun\"},{\"rs\":\"357 654\",\"udpx\":\"354 652;359 655\",\"su\":\"1\",\"udsu\":\"1;1\",\"n\":\"杨庄\",\"sid\":\"110100023339033\",\"p\":\"357 654\",\"r\":\"110100023339\",\"udsi\":\"110100023339033;110100023340030\",\"t\":\"0\",\"si\":\"110100023339033\",\"sl\":\"116.187004,39.927850\",\"udli\":\"110100023339;110100023340\",\"poiid\":\"BV10827741\",\"lg\":\"7\",\"sp\":\"yang zhuang\"},{\"rs\":\"270 684|270 684\",\"udpx\":\"270 681;270 687\",\"su\":\"1\",\"udsu\":\"1;1\",\"n\":\"金安桥\",\"sid\":\"110100023339035\",\"p\":\"270 684\",\"r\":\"900000069871|110100023339\",\"udsi\":\"110100023339035;110100023340034\",\"t\":\"1\",\"si\":\"110100023339035\",\"sl\":\"116.163167,39.923620\",\"udli\":\"110100023339;110100023340\",\"poiid\":\"BV10813545\",\"lg\":\"0\",\"sp\":\"jin an qiao\"}],\"ln\":\"6号线\",\"su\":\"1\",\"kn\":\"地铁6号线\",\"c\":[\"270 684\",\"312 684\",\"336 684\",\"338 683\",\"338 683\",\"339 683\",\"340 682\",\"340 682\",\"340 681\",\"357 654\",\"372 628\",\"373 627\",\"374 627\",\"375 626\",\"376 626\",\"378 625\",\"379 625\",\"416 625\",\"451 625\",\"487 625\",\"561 625\",\"635 625\",\"710 625\",\"783 625\",\"858 625\",\"928 625\",\"970 625\",\"1015 625\",\"1056 657\",\"1059 659\",\"1063 659\",\"1116 659\",\"1179 659\",\"1229 659\",\"1279 659\",\"1337 659\",\"1379 659\",\"1429 659\",\"1478 659\",\"1529 659\",\"1580 659\",\"1629 659\",\"1687 659\",\"1747 659\",\"1784 711\",\"1825 772\",\"1872 772\",\"1912 772\",\"1954 772\",\"2000 772\"],\"lo\":\"0\",\"lp\":[\"491 648\"],\"f\":[{\"c\":[\"2000 769\",\"1954 769\",\"1912 769\",\"1872 769\",\"1827 769\",\"1786 710\",\"1748 656\",\"1687 656\",\"1629 656\",\"1580 656\",\"1529 656\",\"1478 656\",\"1429 656\",\"1379 656\",\"1337 656\",\"1279 656\",\"1229 656\",\"1179 656\",\"1116 656\",\"1063 656\",\"1060 656\",\"1058 655\",\"1016 622\",\"970 622\",\"928 622\",\"858 622\",\"783 622\",\"710 622\",\"635 622\",\"561 622\",\"487 622\",\"451 622\",\"416 622\",\"379 622\",\"377 622\",\"376 623\",\"374 623\",\"373 624\",\"372 625\",\"370 626\",\"354 652\",\"338 680\",\"338 680\",\"337 680\",\"337 680\",\"337 681\",\"337 681\",\"336 681\",\"312 681\",\"270 681\"],\"li\":\"110100023339\"},{\"c\":[\"270 687\",\"312 687\",\"337 687\",\"338 686\",\"340 686\",\"341 685\",\"342 684\",\"342 683\",\"343 683\",\"359 655\",\"374 630\",\"375 629\",\"376 629\",\"376 629\",\"377 628\",\"378 628\",\"379 628\",\"416 628\",\"451 628\",\"487 628\",\"561 628\",\"635 628\",\"710 628\",\"783 628\",\"858 628\",\"928 628\",\"970 628\",\"1014 628\",\"1055 660\",\"1058 661\",\"1063 662\",\"1116 662\",\"1179 662\",\"1229 662\",\"1279 662\",\"1337 662\",\"1379 662\",\"1429 662\",\"1478 662\",\"1529 662\",\"1580 662\",\"1629 662\",\"1687 662\",\"1745 662\",\"1781 713\",\"1824 775\",\"1872 775\",\"1912 775\",\"1954 775\",\"2000 775\"],\"li\":\"110100023340\"}],\"ls\":\"110100023339\",\"cl\":\"D0970A\",\"la\":\"\",\"x\":6,\"li\":\"110100023339|110100023340\"},{\"st\":[{\"rs\":\"1820 1000|1820 1000\",\"udpx\":\"1818 1000;1823 1001\",\"su\":\"1\",\"udsu\":\"1;1\",\"n\":\"花庄\",\"sid\":\"110100023054032\",\"p\":\"1820 1000\",\"r\":\"110100023054|110100033086\",\"udsi\":\"110100023054032;110100023055026\",\"t\":\"1\",\"si\":\"110100023054032\",\"sl\":\"116.695495,39.856722\",\"udli\":\"110100023054;110100023055\",\"poiid\":\"BV11253781\",\"lg\":\"2\",\"sp\":\"HuaZhuang\"},{\"rs\":\"1768 976\",\"udpx\":\"1768 978;1768 973\",\"su\":\"1\",\"udsu\":\"1;1\",\"n\":\"高楼金\",\"sid\":\"110100023054031\",\"p\":\"1768 976\",\"r\":\"110100023054\",\"udsi\":\"110100023054031;110100023055027\",\"t\":\"0\",\"si\":\"110100023054031\",\"sl\":\"116.684340,39.863154\",\"udli\":\"110100023054;110100023055\",\"poiid\":\"BV11303297\",\"lg\":\"0\",\"sp\":\"GaoLouJin\"},{\"rs\":\"1730 976\",\"udpx\":\"1730 979;1730 973\",\"su\":\"1\",\"udsu\":\"1;1\",\"n\":\"群芳\",\"sid\":\"110100023054030\",\"p\":\"1730 976\",\"r\":\"110100023054\",\"udsi\":\"110100023054030;110100023055028\",\"t\":\"0\",\"si\":\"110100023054030\",\"sl\":\"116.670792,39.863515\",\"udli\":\"110100023054;110100023055\",\"poiid\":\"BV11303300\",\"lg\":\"4\",\"sp\":\"QunFang\"},{\"rs\":\"1691 977\",\"udpx\":\"1691 979;1691 974\",\"su\":\"1\",\"udsu\":\"1;1\",\"n\":\"万盛东\",\"sid\":\"110100023054029\",\"p\":\"1691 977\",\"r\":\"110100023054\",\"udsi\":\"110100023054029;110100023055029\",\"t\":\"0\",\"si\":\"110100023054029\",\"sl\":\"116.657379,39.863491\",\"udli\":\"110100023054;110100023055\",\"poiid\":\"BV11303302\",\"lg\":\"0\",\"sp\":\"WanShengDong\"},{\"rs\":\"1655 977\",\"udpx\":\"1656 980;1655 975\",\"su\":\"1\",\"udsu\":\"1;1\",\"n\":\"万盛西\",\"sid\":\"110100023054028\",\"p\":\"1655 977\",\"r\":\"110100023054\",\"udsi\":\"110100023054028;110100023055030\",\"t\":\"0\",\"si\":\"110100023054028\",\"sl\":\"116.632160,39.863328\",\"udli\":\"110100023054;110100023055\",\"poiid\":\"BV11303299\",\"lg\":\"4\",\"sp\":\"WanShengXi\"},{\"rs\":\"1616 978\",\"udpx\":\"1616 981;1616 975\",\"su\":\"1\",\"udsu\":\"1;1\",\"n\":\"黑庄户\",\"sid\":\"110100023054027\",\"p\":\"1616 978\",\"r\":\"110100023054\",\"udsi\":\"110100023054027;110100023055031\",\"t\":\"0\",\"si\":\"110100023054027\",\"sl\":\"116.599119,39.858725\",\"udli\":\"110100023054;110100023055\",\"poiid\":\"BV11303296\",\"lg\":\"0\",\"sp\":\"HeiZhuangHu\"},{\"rs\":\"1579 979\",\"udpx\":\"1579 981;1579 976\",\"su\":\"1\",\"udsu\":\"1;1\",\"n\":\"郎辛庄\",\"sid\":\"110100023054026\",\"p\":\"1579 979\",\"r\":\"110100023054\",\"udsi\":\"110100023054026;110100023055032\",\"t\":\"0\",\"si\":\"110100023054026\",\"sl\":\"116.569826,39.856496\",\"udli\":\"110100023054;110100023055\",\"poiid\":\"BV11303301\",\"lg\":\"4\",\"sp\":\"Lang XinZhuang\"},{\"rs\":\"1542 979\",\"udpx\":\"1542 982;1542 976\",\"su\":\"1\",\"udsu\":\"1;1\",\"n\":\"黄厂\",\"sid\":\"110100023054025\",\"p\":\"1542 979\",\"r\":\"110100023054\",\"udsi\":\"110100023054025;110100023055033\",\"t\":\"0\",\"si\":\"110100023054025\",\"sl\":\"116.553759,39.848979\",\"udli\":\"110100023054;110100023055\",\"poiid\":\"BV11303298\",\"lg\":\"0\",\"sp\":\"HuangChang\"},{\"rs\":\"1508 979\",\"udpx\":\"1508 982;1508 976\",\"su\":\"1\",\"udsu\":\"1;1\",\"n\":\"焦化厂\",\"sid\":\"110100023054022\",\"p\":\"1508 979\",\"r\":\"110100023054\",\"udsi\":\"110100023054022;110100023055002\",\"t\":\"0\",\"si\":\"110100023054022\",\"sl\":\"116.537247,39.855488\",\"udli\":\"110100023054;110100023055\",\"poiid\":\"BV10013391\",\"lg\":\"4\",\"sp\":\"jiao hua chang\"},{\"rs\":\"1471 979\",\"udpx\":\"1471 982;1471 976\",\"su\":\"1\",\"udsu\":\"1;1\",\"n\":\"双合\",\"sid\":\"110100023054021\",\"p\":\"1471 979\",\"r\":\"110100023054\",\"udsi\":\"110100023054021;110100023055003\",\"t\":\"0\",\"si\":\"110100023054021\",\"sl\":\"116.526836,39.859691\",\"udli\":\"110100023054;110100023055\",\"poiid\":\"BV10416577\",\"lg\":\"0\",\"sp\":\"shuang he\"},{\"rs\":\"1440 979\",\"udpx\":\"1439 981;1440 976\",\"su\":\"1\",\"udsu\":\"1;1\",\"n\":\"垡头\",\"sid\":\"110100023054020\",\"p\":\"1440 979\",\"r\":\"110100023054\",\"udsi\":\"110100023054020;110100023055004\",\"t\":\"0\",\"si\":\"110100023054020\",\"sl\":\"116.511821,39.860728\",\"udli\":\"110100023054;110100023055\",\"poiid\":\"BV10007127\",\"lg\":\"4\",\"sp\":\"fa tou\"},{\"rs\":\"1407 919\",\"udpx\":\"1410 919;1405 919\",\"su\":\"1\",\"udsu\":\"1;1\",\"n\":\"欢乐谷景区\",\"sid\":\"110100023054019\",\"p\":\"1407 919\",\"r\":\"110100023054\",\"udsi\":\"110100023055005;110100023054019\",\"t\":\"0\",\"si\":\"110100023054019\",\"sl\":\"116.500067,39.866505\",\"udli\":\"110100023055;110100023054\",\"poiid\":\"BV10013389\",\"lg\":\"2\",\"sp\":\"huan le gu jing qu\"},{\"rs\":\"1408 880\",\"udpx\":\"1410 880;1405 880\",\"su\":\"1\",\"udsu\":\"1;1\",\"n\":\"南楼梓庄\",\"sid\":\"110100023054018\",\"p\":\"1408 880\",\"r\":\"110100023054\",\"udsi\":\"110100023055006;110100023054018\",\"t\":\"0\",\"si\":\"110100023054018\",\"sl\":\"116.501084,39.874578\",\"udli\":\"110100023055;110100023054\",\"poiid\":\"BV10013388\",\"lg\":\"2\",\"sp\":\"nan lou zi zhuang\"},{\"rs\":\"1408 840\",\"udpx\":\"1405 840;1411 840\",\"su\":\"1\",\"udsu\":\"1;1\",\"n\":\"化工\",\"sid\":\"110100023054017\",\"p\":\"1408 840\",\"r\":\"110100023054\",\"udsi\":\"110100023054017;110100023055007\",\"t\":\"0\",\"si\":\"110100023054017\",\"sl\":\"116.503439,39.887369\",\"udli\":\"110100023054;110100023055\",\"poiid\":\"BV10013387\",\"lg\":\"2\",\"sp\":\"hua gong\"},{\"rs\":\"1403 800\",\"udpx\":\"1402 803;1403 797\",\"su\":\"1\",\"udsu\":\"1;1\",\"n\":\"百子湾\",\"sid\":\"110100023054016\",\"p\":\"1403 800\",\"r\":\"110100023054\",\"udsi\":\"110100023054016;110100023055008\",\"t\":\"0\",\"si\":\"110100023054016\",\"sl\":\"116.497768,39.892530\",\"udli\":\"110100023054;110100023055\",\"poiid\":\"BV10000647\",\"lg\":\"1\",\"sp\":\"bai zi wan\"},{\"rs\":\"1370 800\",\"udpx\":\"1370 803;1370 797\",\"su\":\"1\",\"udsu\":\"1;1\",\"n\":\"大郊亭\",\"sid\":\"110100023054015\",\"p\":\"1370 800\",\"r\":\"110100023054\",\"udsi\":\"110100023054015;110100023055009\",\"t\":\"0\",\"si\":\"110100023054015\",\"sl\":\"116.487935,39.893183\",\"udli\":\"110100023054;110100023055\",\"poiid\":\"BV10013386\",\"lg\":\"4\",\"sp\":\"da jiao ting\"},{\"rs\":\"1337 800|1337 800\",\"udpx\":\"1337 803;1337 797\",\"su\":\"1\",\"udsu\":\"1;1\",\"n\":\"九龙山\",\"sid\":\"110100023054014\",\"p\":\"1337 800\",\"r\":\"110100023054|900000028907\",\"udsi\":\"110100023054014;110100023055010\",\"t\":\"1\",\"si\":\"110100023054014\",\"sl\":\"116.478695,39.893222\",\"udli\":\"110100023054;110100023055\",\"poiid\":\"BV10006224\",\"lg\":\"1\",\"sp\":\"jiu long shan\"},{\"rs\":\"1279 800|1279 800\",\"udpx\":\"1243 803;1243 797\",\"su\":\"1\",\"udsu\":\"1;1\",\"n\":\"双井\",\"sid\":\"110100023054013\",\"p\":\"1279 800\",\"r\":\"110100023054|110100023282\",\"udsi\":\"110100023054013;110100023055011\",\"t\":\"1\",\"si\":\"110100023054013\",\"sl\":\"116.461834,39.893512\",\"udli\":\"110100023054;110100023055\",\"poiid\":\"BV10013385\",\"lg\":\"1\",\"sp\":\"ShuangJing\"},{\"rs\":\"1243 800\",\"udpx\":\"1243 803;1243 797\",\"su\":\"1\",\"udsu\":\"1;1\",\"n\":\"广渠门外\",\"sid\":\"110100023054012\",\"p\":\"1243 800\",\"r\":\"110100023054\",\"udsi\":\"110100023054012;110100023055012\",\"t\":\"0\",\"si\":\"110100023054012\",\"sl\":\"116.448998,39.893648\",\"udli\":\"110100023054;110100023055\",\"poiid\":\"BV10013384\",\"lg\":\"4\",\"sp\":\"guang qu men wai\"},{\"rs\":\"1185 800\",\"udpx\":\"1185 803;1185 797\",\"su\":\"1\",\"udsu\":\"1;1\",\"n\":\"广渠门内\",\"sid\":\"110100023054011\",\"p\":\"1185 800\",\"r\":\"110100023054\",\"udsi\":\"110100023054011;110100023055013\",\"t\":\"0\",\"si\":\"110100023054011\",\"sl\":\"116.433877,39.893673\",\"udli\":\"110100023054;110100023055\",\"poiid\":\"BV10006633\",\"lg\":\"1\",\"sp\":\"guang qu men nei\"},{\"rs\":\"1116 800|1116 800\",\"udpx\":\"1116 803;1116 797\",\"su\":\"1\",\"udsu\":\"1;1\",\"n\":\"磁器口\",\"sid\":\"110100023054010\",\"p\":\"1116 800\",\"r\":\"110100023100|110100023054\",\"udsi\":\"110100023054010;110100023055014\",\"t\":\"1\",\"si\":\"110100023054010\",\"sl\":\"116.419940,39.893172\",\"udli\":\"110100023054;110100023055\",\"poiid\":\"BV10013383\",\"lg\":\"3\",\"sp\":\"ci qi kou\"},{\"rs\":\"1079 800\",\"udpx\":\"1079 803;1079 797\",\"su\":\"1\",\"udsu\":\"1;1\",\"n\":\"桥湾\",\"sid\":\"110100023054024\",\"p\":\"1079 800\",\"r\":\"110100023054\",\"udsi\":\"110100023054024;110100023055023\",\"t\":\"0\",\"si\":\"110100023054024\",\"sl\":\"116.408464,39.892725\",\"udli\":\"110100023054;110100023055\",\"poiid\":\"BV10396213\",\"lg\":\"0\",\"sp\":\"qiao wan\"},{\"rs\":\"1027 800|1027 800\",\"udpx\":\"1027 803;1027 797\",\"su\":\"1\",\"udsu\":\"1;1\",\"n\":\"珠市口\",\"sid\":\"110100023054008\",\"p\":\"1027 800\",\"r\":\"110100023054|900000040279\",\"udsi\":\"110100023054008;110100023055016\",\"t\":\"1\",\"si\":\"110100023054008\",\"sl\":\"116.398104,39.891267\",\"udli\":\"110100023054;110100023055\",\"poiid\":\"BV10013381\",\"lg\":\"3\",\"sp\":\"zhu shi kou\"},{\"rs\":\"976 800\",\"udpx\":\"976 797;976 803\",\"su\":\"1\",\"udsu\":\"1;1\",\"n\":\"虎坊桥\",\"sid\":\"110100023054007\",\"p\":\"976 800\",\"r\":\"110100023054\",\"udsi\":\"110100023055017;110100023054007\",\"t\":\"0\",\"si\":\"110100023054007\",\"sl\":\"116.384596,39.889486\",\"udli\":\"110100023055;110100023054\",\"poiid\":\"BV10013380\",\"lg\":\"4\",\"sp\":\"hu fang qiao\"},{\"rs\":\"928 800|928 800\",\"udpx\":\"928 797;928 803\",\"su\":\"1\",\"udsu\":\"1;1\",\"n\":\"菜市口\",\"sid\":\"110100023054006\",\"p\":\"928 800\",\"r\":\"110100023076|110100023054\",\"udsi\":\"110100023055018;110100023054006\",\"t\":\"1\",\"si\":\"110100023054006\",\"sl\":\"116.374425,39.889296\",\"udli\":\"110100023055;110100023054\",\"poiid\":\"BV10013379\",\"lg\":\"1\",\"sp\":\"cai shi kou\"},{\"rs\":\"879 800\",\"udpx\":\"879 803;879 797\",\"su\":\"1\",\"udsu\":\"1;1\",\"n\":\"广安门内\",\"sid\":\"110100023054023\",\"p\":\"879 800\",\"r\":\"110100023054\",\"udsi\":\"110100023054023;110100023055024\",\"t\":\"0\",\"si\":\"110100023054023\",\"sl\":\"116.358239,39.889418\",\"udli\":\"110100023054;110100023055\",\"poiid\":\"BV10396212\",\"lg\":\"4\",\"sp\":\"guang an men nei\"},{\"rs\":\"829 800\",\"udpx\":\"829 797;829 803\",\"su\":\"1\",\"udsu\":\"1;1\",\"n\":\"达官营\",\"sid\":\"110100023054004\",\"p\":\"829 800\",\"r\":\"110100023054\",\"udsi\":\"110100023055020;110100023054004\",\"t\":\"0\",\"si\":\"110100023054004\",\"sl\":\"116.336455,39.889884\",\"udli\":\"110100023055;110100023054\",\"poiid\":\"BV10005975\",\"lg\":\"4\",\"sp\":\"da guan ying\"},{\"rs\":\"764 800\",\"udpx\":\"765 797;763 803\",\"su\":\"1\",\"udsu\":\"1;1\",\"n\":\"湾子\",\"sid\":\"110100023054003\",\"p\":\"764 800\",\"r\":\"110100023054\",\"udsi\":\"110100023055021;110100023054003\",\"t\":\"0\",\"si\":\"110100023054003\",\"sl\":\"116.327753,39.889954\",\"udli\":\"110100023055;110100023054\",\"poiid\":\"BV10006599\",\"lg\":\"4\",\"sp\":\"wan zi\"},{\"rs\":\"710 756|710 756\",\"udpx\":\"712 754;709 758\",\"su\":\"1\",\"udsu\":\"1;1\",\"n\":\"北京西站\",\"sid\":\"110100023054002\",\"p\":\"710 756\",\"r\":\"110100023054|110100023116\",\"udsi\":\"110100023055022;110100023054002\",\"t\":\"1\",\"si\":\"110100023054002\",\"sl\":\"116.321218,39.894706\",\"udli\":\"110100023055;110100023054\",\"poiid\":\"BV10000102\",\"lg\":\"2\",\"sp\":\"bei jing xi zhan\"}],\"ln\":\"7号线\",\"su\":\"1\",\"kn\":\"地铁7号线\",\"c\":[\"710 756\",\"764 800\",\"829 800\",\"879 800\",\"928 800\",\"976 800\",\"1027 800\",\"1079 800\",\"1116 800\",\"1185 800\",\"1243 800\",\"1279 800\",\"1337 800\",\"1370 800\",\"1403 800\",\"1405 800\",\"1406 801\",\"1407 803\",\"1408 805\",\"1408 840\",\"1408 880\",\"1407 919\",\"1407 957\",\"1410 964\",\"1417 971\",\"1427 976\",\"1440 979\",\"1471 979\",\"1508 979\",\"1542 979\",\"1579 979\",\"1616 978\",\"1655 977\",\"1691 977\",\"1730 976\",\"1768 976\",\"1801 976\",\"1807 977\",\"1814 981\",\"1819 986\",\"1821 992\",\"1820 1000\"],\"lo\":\"0\",\"lp\":[\"1582 914\"],\"f\":[{\"c\":[\"1823 1001\",\"1824 992\",\"1821 985\",\"1815 979\",\"1808 974\",\"1801 973\",\"1768 973\",\"1730 973\",\"1691 974\",\"1655 975\",\"1616 975\",\"1579 976\",\"1542 976\",\"1508 976\",\"1471 976\",\"1440 976\",\"1428 973\",\"1419 969\",\"1412 963\",\"1410 956\",\"1410 919\",\"1410 880\",\"1411 840\",\"1411 804\",\"1410 802\",\"1408 799\",\"1406 797\",\"1403 797\",\"1370 797\",\"1337 797\",\"1243 797\",\"1185 797\",\"1116 797\",\"1079 797\",\"1027 797\",\"976 797\",\"928 797\",\"879 797\",\"829 797\",\"765 797\",\"712 754\"],\"li\":\"110100023055\"},{\"c\":[\"709 758\",\"763 803\",\"829 803\",\"879 803\",\"928 803\",\"976 803\",\"1027 803\",\"1079 803\",\"1116 803\",\"1185 803\",\"1243 803\",\"1337 803\",\"1370 803\",\"1402 803\",\"1404 803\",\"1404 803\",\"1405 804\",\"1405 805\",\"1405 840\",\"1405 880\",\"1405 919\",\"1404 957\",\"1407 966\",\"1416 973\",\"1426 979\",\"1439 981\",\"1471 982\",\"1508 982\",\"1542 982\",\"1579 981\",\"1616 981\",\"1656 980\",\"1691 979\",\"1730 979\",\"1768 978\",\"1801 979\",\"1806 980\",\"1812 983\",\"1816 988\",\"1818 993\",\"1818 1000\"],\"li\":\"110100023054\"}],\"ls\":\"110100023054\",\"cl\":\"F9BE58\",\"la\":\"\",\"x\":7,\"li\":\"110100023054|110100023055\"},{\"st\":[{\"rs\":\"1029 663\",\"udpx\":\"1032 662;1027 664\",\"su\":\"1\",\"udsu\":\"1;1\",\"n\":\"中国美术馆\",\"sid\":\"110100023114020\",\"p\":\"1029 663\",\"r\":\"110100023114\",\"udsi\":\"110100023114020;110100023115020\",\"t\":\"0\",\"si\":\"110100023114020\",\"sl\":\"116.410803,39.923705\",\"udli\":\"110100023114;110100023115\",\"poiid\":\"BV11095929\",\"lg\":\"4\",\"sp\":\"zhong guo mei shu guan\"},{\"rs\":\"1015 625|1015 625\",\"udpx\":\"1018 624;1012 626\",\"su\":\"1\",\"udsu\":\"1;1\",\"n\":\"南锣鼓巷\",\"sid\":\"110100023114002\",\"p\":\"1015 625\",\"r\":\"110100023339|110100023114\",\"udsi\":\"110100023114002;110100023115019\",\"t\":\"1\",\"si\":\"110100023114002\",\"sl\":\"116.404192,39.933848\",\"udli\":\"110100023114;110100023115\",\"poiid\":\"BV10013392\",\"lg\":\"2\",\"sp\":\"nan luo gu xiang\"},{\"rs\":\"1002 590\",\"udpx\":\"999 591;1004 590\",\"su\":\"1\",\"udsu\":\"1;1\",\"n\":\"什刹海\",\"sid\":\"110100023114003\",\"p\":\"1002 590\",\"r\":\"110100023114\",\"udsi\":\"110100023115018;110100023114003\",\"t\":\"0\",\"si\":\"110100023114003\",\"sl\":\"116.396219,39.937583\",\"udli\":\"110100023115;110100023114\",\"poiid\":\"BV10013462\",\"lg\":\"2\",\"sp\":\"shi cha hai\"},{\"rs\":\"1002 555|1002 555\",\"udpx\":\"1004 555;999 555\",\"su\":\"1\",\"udsu\":\"1;1\",\"n\":\"鼓楼大街\",\"sid\":\"110100023098003\",\"p\":\"1002 555\",\"r\":\"110100023098|110100023114\",\"udsi\":\"110100023114004;110100023115017\",\"t\":\"1\",\"si\":\"110100023098003\",\"sl\":\"116.393776,39.948972\",\"udli\":\"110100023114;110100023115\",\"poiid\":\"BV10013431\",\"lg\":\"7\",\"sp\":\"gu lou da jie\"},{\"rs\":\"1002 523\",\"udpx\":\"1004 523;999 523\",\"su\":\"1\",\"udsu\":\"1;1\",\"n\":\"安德里北街\",\"sid\":\"110100023114005\",\"p\":\"1002 523\",\"r\":\"110100023114\",\"udsi\":\"110100023114005;110100023115016\",\"t\":\"0\",\"si\":\"110100023114005\",\"sl\":\"116.395145,39.957227\",\"udli\":\"110100023114;110100023115\",\"poiid\":\"BV10013463\",\"lg\":\"2\",\"sp\":\"an de li bei jie\"},{\"rs\":\"1001 497\",\"udpx\":\"1004 497;998 498\",\"su\":\"1\",\"udsu\":\"1;1\",\"n\":\"安华桥\",\"sid\":\"110100023114006\",\"p\":\"1001 497\",\"r\":\"110100023114\",\"udsi\":\"110100023114006;110100023115015\",\"t\":\"0\",\"si\":\"110100023114006\",\"sl\":\"116.394655,39.968507\",\"udli\":\"110100023114;110100023115\",\"poiid\":\"BV10013464\",\"lg\":\"2\",\"sp\":\"an hua qiao\"},{\"rs\":\"1001 449|1001 449\",\"udpx\":\"1004 449;998 449\",\"su\":\"1\",\"udsu\":\"1;1\",\"n\":\"北土城\",\"sid\":\"110100023114007\",\"p\":\"1001 449\",\"r\":\"110100023114|110100023282\",\"udsi\":\"110100023114007;110100023115014\",\"t\":\"1\",\"si\":\"110100023114007\",\"sl\":\"116.394193,39.976953\",\"udli\":\"110100023114;110100023115\",\"poiid\":\"BV10013465\",\"lg\":\"7\",\"sp\":\"bei tu cheng\"},{\"rs\":\"1001 425\",\"udpx\":\"1004 425;998 425\",\"su\":\"1\",\"udsu\":\"1;1\",\"n\":\"奥体中心\",\"sid\":\"110100023114008\",\"p\":\"1001 425\",\"r\":\"110100023114\",\"udsi\":\"110100023114008;110100023115013\",\"t\":\"0\",\"si\":\"110100023114008\",\"sl\":\"116.393759,39.985837\",\"udli\":\"110100023114;110100023115\",\"poiid\":\"BV10013466\",\"lg\":\"2\",\"sp\":\"ao ti zhong xin\"},{\"rs\":\"1002 384|1002 384\",\"udpx\":\"1005 384;999 384\",\"su\":\"1\",\"udsu\":\"1;1\",\"n\":\"奥林匹克公园\",\"sid\":\"110100023070018\",\"p\":\"1002 384\",\"r\":\"110100023114|110100023070\",\"udsi\":\"110100023114009;110100023115012\",\"t\":\"1\",\"si\":\"110100023070018\",\"sl\":\"116.391758,40.002207\",\"udli\":\"110100023114;110100023115\",\"poiid\":\"BV10013375\",\"lg\":\"1\",\"sp\":\"ao lin pi ke gong yuan\"},{\"rs\":\"1003 356\",\"udpx\":\"1006 354;1000 357\",\"su\":\"1\",\"udsu\":\"1;1\",\"n\":\"森林公园南门\",\"sid\":\"110100023114010\",\"p\":\"1003 356\",\"r\":\"110100023114\",\"udsi\":\"110100023114010;110100023115011\",\"t\":\"0\",\"si\":\"110100023114010\",\"sl\":\"116.392600,40.010122\",\"udli\":\"110100023114;110100023115\",\"poiid\":\"BV10009724\",\"lg\":\"2\",\"sp\":\"sen lin gong yuan nan men\"},{\"rs\":\"985 344\",\"udpx\":\"987 342;984 347\",\"su\":\"1\",\"udsu\":\"1;1\",\"n\":\"林萃桥\",\"sid\":\"110100023114011\",\"p\":\"985 344\",\"r\":\"110100023114\",\"udsi\":\"110100023114011;110100023115010\",\"t\":\"0\",\"si\":\"110100023114011\",\"sl\":\"116.372998,40.021906\",\"udli\":\"110100023114;110100023115\",\"poiid\":\"BV10013467\",\"lg\":\"1\",\"sp\":\"lin cui qiao\"},{\"rs\":\"970 334\",\"udpx\":\"973 332;967 336\",\"su\":\"1\",\"udsu\":\"1;1\",\"n\":\"永泰庄\",\"sid\":\"110100023114012\",\"p\":\"970 334\",\"r\":\"110100023114\",\"udsi\":\"110100023114012;110100023115009\",\"t\":\"0\",\"si\":\"110100023114012\",\"sl\":\"116.354580,40.037728\",\"udli\":\"110100023114;110100023115\",\"poiid\":\"BV10000769\",\"lg\":\"6\",\"sp\":\"yong tai zhuang\"},{\"rs\":\"970 307\",\"udpx\":\"973 307;967 307\",\"su\":\"1\",\"udsu\":\"1;1\",\"n\":\"西小口\",\"sid\":\"110100023114013\",\"p\":\"970 307\",\"r\":\"110100023114\",\"udsi\":\"110100023114013;110100023115008\",\"t\":\"0\",\"si\":\"110100023114013\",\"sl\":\"116.351644,40.046873\",\"udli\":\"110100023114;110100023115\",\"poiid\":\"BV10013468\",\"lg\":\"6\",\"sp\":\"xi xiao kou\"},{\"rs\":\"970 286\",\"udpx\":\"973 286;967 286\",\"su\":\"1\",\"udsu\":\"1;1\",\"n\":\"育新\",\"sid\":\"110100023114014\",\"p\":\"970 286\",\"r\":\"110100023114\",\"udsi\":\"110100023114014;110100023115007\",\"t\":\"0\",\"si\":\"110100023114014\",\"sl\":\"116.347328,40.060039\",\"udli\":\"110100023114;110100023115\",\"poiid\":\"BV10013469\",\"lg\":\"2\",\"sp\":\"yu xin\"},{\"rs\":\"970 267|970 267\",\"udpx\":\"973 267;967 267\",\"su\":\"1\",\"udsu\":\"1;1\",\"n\":\"霍营\",\"sid\":\"110100023114015\",\"p\":\"970 267\",\"r\":\"110100023114|110100033066\",\"udsi\":\"110100023114015;110100023115006\",\"t\":\"1\",\"si\":\"110100023114015\",\"sl\":\"116.360286,40.071857\",\"udli\":\"110100023114;110100023115\",\"poiid\":\"BV10007658\",\"lg\":\"1\",\"sp\":\"huo ying\"},{\"rs\":\"970 227\",\"udpx\":\"973 227;967 227\",\"su\":\"1\",\"udsu\":\"1;1\",\"n\":\"回龙观东大街\",\"sid\":\"110100023114016\",\"p\":\"970 227\",\"r\":\"110100023114\",\"udsi\":\"110100023114016;110100023115005\",\"t\":\"0\",\"si\":\"110100023114016\",\"sl\":\"116.363025,40.081175\",\"udli\":\"110100023114;110100023115\",\"poiid\":\"BV10004378\",\"lg\":\"2\",\"sp\":\"hui long guan dong da jie\"},{\"rs\":\"929 202\",\"udpx\":\"929 200;929 205\",\"su\":\"1\",\"udsu\":\"1;1\",\"n\":\"平西府\",\"sid\":\"110100023114017\",\"p\":\"929 202\",\"r\":\"110100023114\",\"udsi\":\"110100023114017;110100023115004\",\"t\":\"0\",\"si\":\"110100023114017\",\"sl\":\"116.350425,40.090607\",\"udli\":\"110100023114;110100023115\",\"poiid\":\"BV10000887\",\"lg\":\"4\",\"sp\":\"ping xi fu\"},{\"rs\":\"898 202\",\"udpx\":\"898 200;898 205\",\"su\":\"1\",\"udsu\":\"1;1\",\"n\":\"育知路\",\"sid\":\"110100023114018\",\"p\":\"898 202\",\"r\":\"110100023114\",\"udsi\":\"110100023114018;110100023115003\",\"t\":\"0\",\"si\":\"110100023114018\",\"sl\":\"116.326992,40.087863\",\"udli\":\"110100023114;110100023115\",\"poiid\":\"BV10013470\",\"lg\":\"0\",\"sp\":\"yu zhi lu\"},{\"rs\":\"843 202|843 202\",\"udpx\":\"843 199;843 205\",\"su\":\"1\",\"udsu\":\"1;1\",\"n\":\"朱辛庄\",\"sid\":\"110100023114019\",\"p\":\"843 202\",\"r\":\"110100023114|110100023118\",\"udsi\":\"110100023114019;110100023115002\",\"t\":\"1\",\"si\":\"110100023114019\",\"sl\":\"116.313698,40.104297\",\"udli\":\"110100023114;110100023115\",\"poiid\":\"BV10000571\",\"lg\":\"6\",\"sp\":\"zhu xin zhuang\"}],\"ln\":\"8号线\",\"su\":\"1\",\"kn\":\"地铁8号线\",\"c\":[\"1029 663\",\"1015 625\",\"1002 590\",\"1002 555\",\"1002 523\",\"1001 497\",\"1001 449\",\"1001 425\",\"1002 384\",\"1002 370\",\"1003 356\",\"985 344\",\"970 334\",\"970 307\",\"970 286\",\"970 279\",\"970 267\",\"970 227\",\"969 210\",\"969 208\",\"968 206\",\"966 204\",\"965 204\",\"964 203\",\"962 203\",\"959 203\",\"929 202\",\"898 202\",\"843 202\"],\"lo\":\"0\",\"lp\":[\"934 178\"],\"f\":[{\"c\":[\"843 205\",\"898 205\",\"929 205\",\"959 205\",\"962 206\",\"963 206\",\"964 206\",\"965 207\",\"966 208\",\"966 209\",\"967 211\",\"967 227\",\"967 267\",\"967 279\",\"967 286\",\"967 307\",\"967 336\",\"984 347\",\"1000 357\",\"1000 370\",\"999 384\",\"998 425\",\"998 449\",\"998 498\",\"999 523\",\"999 555\",\"999 591\",\"1012 626\",\"1027 664\"],\"li\":\"110100023115\"},{\"c\":[\"1032 662\",\"1018 624\",\"1004 590\",\"1004 555\",\"1004 523\",\"1004 497\",\"1004 449\",\"1004 425\",\"1005 384\",\"1005 370\",\"1006 354\",\"987 342\",\"973 332\",\"973 307\",\"973 286\",\"973 279\",\"973 267\",\"973 227\",\"972 210\",\"972 207\",\"970 204\",\"968 202\",\"967 201\",\"965 200\",\"963 200\",\"960 200\",\"929 200\",\"898 200\",\"843 199\"],\"li\":\"110100023114\"}],\"ls\":\"110100023114\",\"cl\":\"018237\",\"la\":\"\",\"x\":8,\"li\":\"110100023114|110100023115\"},{\"st\":[{\"rs\":\"1027 800|1027 800\",\"udpx\":\"1030 800;1024 800\",\"su\":\"1\",\"udsu\":\"1;1\",\"n\":\"珠市口\",\"sid\":\"110100023054008\",\"p\":\"1027 800\",\"r\":\"110100023054|900000040279\",\"udsi\":\"900000040279011;900000040280006\",\"t\":\"1\",\"si\":\"110100023054008\",\"sl\":\"116.398104,39.891267\",\"udli\":\"900000040279;900000040280\",\"poiid\":\"BV10013381\",\"lg\":\"3\",\"sp\":\"zhu shi kou\"},{\"rs\":\"1027 831\",\"udpx\":\"1029 831;1024 831\",\"su\":\"1\",\"udsu\":\"1;1\",\"n\":\"天桥\",\"sid\":\"900000040279010\",\"p\":\"1027 831\",\"r\":\"900000040279\",\"udsi\":\"900000040279010;900000040280007\",\"t\":\"0\",\"si\":\"900000040279010\",\"sl\":\"116.398712,39.881920\",\"udli\":\"900000040279;900000040280\",\"poiid\":\"BV10545379\",\"lg\":\"6\",\"sp\":\"tian qiao\"},{\"rs\":\"1027 864|1027 864\",\"udpx\":\"1030 864;1024 864\",\"su\":\"1\",\"udsu\":\"1;1\",\"n\":\"永定门外\",\"sid\":\"900000028907023\",\"p\":\"1027 864\",\"r\":\"900000040279|900000028907\",\"udsi\":\"900000040279009;900000040280008\",\"t\":\"1\",\"si\":\"900000028907023\",\"sl\":\"116.399369,39.867435\",\"udli\":\"900000040279;900000040280\",\"poiid\":\"BV10013368\",\"lg\":\"1\",\"sp\":\"yong ding men wai\"},{\"rs\":\"1027 887\",\"udpx\":\"1029 887;1024 887\",\"su\":\"1\",\"udsu\":\"1;1\",\"n\":\"木樨园\",\"sid\":\"900000040279008\",\"p\":\"1027 887\",\"r\":\"900000040279\",\"udsi\":\"900000040279008;900000040280009\",\"t\":\"0\",\"si\":\"900000040279008\",\"sl\":\"116.399839,39.859262\",\"udli\":\"900000040279;900000040280\",\"poiid\":\"BV10545382\",\"lg\":\"6\",\"sp\":\"mu xi yuan\"},{\"rs\":\"1027 909\",\"udpx\":\"1030 909;1024 909\",\"su\":\"1\",\"udsu\":\"1;1\",\"n\":\"海户屯\",\"sid\":\"900000040279007\",\"p\":\"1027 909\",\"r\":\"900000040279\",\"udsi\":\"900000040279007;900000040280010\",\"t\":\"0\",\"si\":\"900000040279007\",\"sl\":\"116.400301,39.851805\",\"udli\":\"900000040279;900000040280\",\"poiid\":\"BV10545380\",\"lg\":\"6\",\"sp\":\"hai hu tun\"},{\"rs\":\"1027 973\",\"udpx\":\"1030 973;1024 973\",\"su\":\"1\",\"udsu\":\"1;1\",\"n\":\"大红门南\",\"sid\":\"900000040279005\",\"p\":\"1027 973\",\"r\":\"900000040279\",\"udsi\":\"900000040279005;900000040280012\",\"t\":\"0\",\"si\":\"900000040279005\",\"sl\":\"116.401045,39.836715\",\"udli\":\"900000040279;900000040280\",\"poiid\":\"BV10545381\",\"lg\":\"6\",\"sp\":\"da hong men nan\"},{\"rs\":\"1027 1002\",\"udpx\":\"1029 1002;1024 1003\",\"su\":\"1\",\"udsu\":\"1;1\",\"n\":\"和义\",\"sid\":\"900000040279004\",\"p\":\"1027 1002\",\"r\":\"900000040279\",\"udsi\":\"900000040279004;900000040280013\",\"t\":\"0\",\"si\":\"900000040279004\",\"sl\":\"116.402073,39.814838\",\"udli\":\"900000040279;900000040280\",\"poiid\":\"BV10545383\",\"lg\":\"2\",\"sp\":\"he yi\"},{\"rs\":\"1045 1031\",\"udpx\":\"1047 1029;1043 1033\",\"su\":\"1\",\"udsu\":\"1;1\",\"n\":\"东高地\",\"sid\":\"900000040279003\",\"p\":\"1045 1031\",\"r\":\"900000040279\",\"udsi\":\"900000040279003;900000040280014\",\"t\":\"0\",\"si\":\"900000040279003\",\"sl\":\"116.409427,39.805074\",\"udli\":\"900000040279;900000040280\",\"poiid\":\"BV10545377\",\"lg\":\"6\",\"sp\":\"dong gao di\"},{\"rs\":\"1068 1064\",\"udpx\":\"1070 1063;1066 1066\",\"su\":\"1\",\"udsu\":\"1;1\",\"n\":\"火箭万源\",\"sid\":\"900000040279002\",\"p\":\"1068 1064\",\"r\":\"900000040279\",\"udsi\":\"900000040279002;900000040280015\",\"t\":\"0\",\"si\":\"900000040279002\",\"sl\":\"116.418627,39.799287\",\"udli\":\"900000040279;900000040280\",\"poiid\":\"BV10545376\",\"lg\":\"6\",\"sp\":\"huo jian wan yuan\"},{\"rs\":\"1090 1095\",\"udpx\":\"1093 1094;1088 1097\",\"su\":\"1\",\"udsu\":\"1;1\",\"n\":\"五福堂\",\"sid\":\"900000040279001\",\"p\":\"1090 1095\",\"r\":\"900000040279\",\"udsi\":\"900000040279001;900000040280016\",\"t\":\"0\",\"si\":\"900000040279001\",\"sl\":\"116.423903,39.785046\",\"udli\":\"900000040279;900000040280\",\"poiid\":\"BV10545378\",\"lg\":\"6\",\"sp\":\"wu fu tang\"},{\"rs\":\"1115 1131\",\"udpx\":\"1118 1129;1113 1132\",\"su\":\"1\",\"udsu\":\"1;1\",\"n\":\"德茂\",\"sid\":\"900000040279018\",\"p\":\"1115 1131\",\"r\":\"900000040279\",\"udsi\":\"900000040279018;900000040280017\",\"t\":\"0\",\"si\":\"900000040279018\",\"sl\":\"116.441617,39.772709\",\"udli\":\"900000040279;900000040280\",\"poiid\":\"BV10815503\",\"lg\":\"6\",\"sp\":\"de mao\"},{\"rs\":\"1144 1171\",\"udpx\":\"1147 1169;1142 1173\",\"su\":\"1\",\"udsu\":\"1;1\",\"n\":\"瀛海\",\"sid\":\"900000040279017\",\"p\":\"1144 1171\",\"r\":\"900000040279\",\"udsi\":\"900000040279017;900000040280018\",\"t\":\"0\",\"si\":\"900000040279017\",\"sl\":\"116.448958,39.760694\",\"udli\":\"900000040279;900000040280\",\"poiid\":\"BV10815504\",\"lg\":\"6\",\"sp\":\"ying hai\"}],\"ln\":\"8号线南段\",\"su\":\"1\",\"kn\":\"地铁8号线南段\",\"c\":[\"1027 800\",\"1027 831\",\"1027 864\",\"1027 887\",\"1027 909\",\"1027 935\",\"1027 973\",\"1027 1002\",\"1027 1003\",\"1045 1031\",\"1068 1064\",\"1090 1095\",\"1115 1131\",\"1144 1171\"],\"lo\":\"0\",\"lp\":[\"1094 1069\"],\"f\":[{\"c\":[\"1147 1169\",\"1118 1129\",\"1093 1094\",\"1070 1063\",\"1047 1029\",\"1029 1002\",\"1029 1002\",\"1030 973\",\"1029 935\",\"1030 909\",\"1029 887\",\"1030 864\",\"1029 831\",\"1030 800\"],\"li\":\"900000040279\"},{\"c\":[\"1024 800\",\"1024 831\",\"1024 864\",\"1024 887\",\"1024 909\",\"1024 935\",\"1024 973\",\"1024 1003\",\"1024 1004\",\"1043 1033\",\"1066 1066\",\"1088 1097\",\"1113 1132\",\"1142 1173\"],\"li\":\"900000040280\"}],\"ls\":\"900000040279\",\"cl\":\"018237\",\"la\":\"\",\"x\":9,\"li\":\"900000040279|900000040280\"},{\"st\":[{\"rs\":\"620 977|620 977\",\"udpx\":\"623 977;617 977\",\"su\":\"1\",\"udsu\":\"1;1\",\"n\":\"郭公庄\",\"sid\":\"110100023092002\",\"p\":\"620 977\",\"r\":\"110100023116|110100023092\",\"udsi\":\"110100023116002;110100023117014\",\"t\":\"1\",\"si\":\"110100023092002\",\"sl\":\"116.301889,39.814322\",\"udli\":\"110100023116;110100023117\",\"poiid\":\"BV10007779\",\"lg\":\"2\",\"sp\":\"guo gong zhuang\"},{\"rs\":\"620 950\",\"udpx\":\"623 950;617 950\",\"su\":\"1\",\"udsu\":\"1;1\",\"n\":\"丰台科技园\",\"sid\":\"110100023116003\",\"p\":\"620 950\",\"r\":\"110100023116\",\"udsi\":\"110100023116003;110100023117013\",\"t\":\"0\",\"si\":\"110100023116003\",\"sl\":\"116.297176,39.825233\",\"udli\":\"110100023116;110100023117\",\"poiid\":\"BV10013471\",\"lg\":\"6\",\"sp\":\"feng tai ke ji yuan\"},{\"rs\":\"620 924\",\"udpx\":\"622 924;617 924\",\"su\":\"1\",\"udsu\":\"1;1\",\"n\":\"科怡路\",\"sid\":\"110100023116004\",\"p\":\"620 924\",\"r\":\"110100023116\",\"udsi\":\"110100023116004;110100023117012\",\"t\":\"0\",\"si\":\"110100023116004\",\"sl\":\"116.297432,39.832480\",\"udli\":\"110100023116;110100023117\",\"poiid\":\"BV10013472\",\"lg\":\"6\",\"sp\":\"ke yi lu\"},{\"rs\":\"620 900\",\"udpx\":\"622 899;617 899\",\"su\":\"1\",\"udsu\":\"1;1\",\"n\":\"丰台南路\",\"sid\":\"110100023116005\",\"p\":\"620 900\",\"r\":\"110100023116\",\"udsi\":\"110100023116005;110100023117011\",\"t\":\"0\",\"si\":\"110100023116005\",\"sl\":\"116.296748,39.840444\",\"udli\":\"110100023116;110100023117\",\"poiid\":\"BV10013473\",\"lg\":\"6\",\"sp\":\"feng tai nan lu\"},{\"rs\":\"619 876\",\"udpx\":\"622 876;617 876\",\"su\":\"1\",\"udsu\":\"1;1\",\"n\":\"丰台东大街\",\"sid\":\"110100023116006\",\"p\":\"619 876\",\"r\":\"110100023116\",\"udsi\":\"110100023116006;110100023117010\",\"t\":\"0\",\"si\":\"110100023116006\",\"sl\":\"116.293857,39.855111\",\"udli\":\"110100023116;110100023117\",\"poiid\":\"BV10013474\",\"lg\":\"6\",\"sp\":\"feng tai dong da jie\"},{\"rs\":\"619 852|619 852\",\"udpx\":\"617 852;622 852\",\"su\":\"1\",\"udsu\":\"1;1\",\"n\":\"七里庄\",\"sid\":\"110100023068003\",\"p\":\"619 852\",\"r\":\"110100023116|110100023068\",\"udsi\":\"110100023117009;110100023116007\",\"t\":\"1\",\"si\":\"110100023068003\",\"sl\":\"116.294292,39.866773\",\"udli\":\"110100023117;110100023116\",\"poiid\":\"BV10000636\",\"lg\":\"7\",\"sp\":\"qi li zhuang\"},{\"rs\":\"650 804|650 804\",\"udpx\":\"648 801;651 806\",\"su\":\"1\",\"udsu\":\"1;1\",\"n\":\"六里桥\",\"sid\":\"110100023116008\",\"p\":\"650 804\",\"r\":\"110100023116|110100023282\",\"udsi\":\"110100023117008;110100023116008\",\"t\":\"1\",\"si\":\"110100023116008\",\"sl\":\"116.302808,39.880239\",\"udli\":\"110100023117;110100023116\",\"poiid\":\"BV10013475\",\"lg\":\"6\",\"sp\":\"liu li qiao\"},{\"rs\":\"675 784\",\"udpx\":\"676 780;679 784\",\"su\":\"1\",\"udsu\":\"1;1\",\"n\":\"六里桥东\",\"sid\":\"110100023116009\",\"p\":\"675 784\",\"r\":\"110100023116\",\"udsi\":\"110100023117007;110100023116009\",\"t\":\"0\",\"si\":\"110100023116009\",\"sl\":\"116.315142,39.886886\",\"udli\":\"110100023117;110100023116\",\"poiid\":\"BV10000269\",\"lg\":\"2\",\"sp\":\"liu li qiao dong\"},{\"rs\":\"710 756|710 756\",\"udpx\":\"713 758;707 755\",\"su\":\"1\",\"udsu\":\"1;1\",\"n\":\"北京西站\",\"sid\":\"110100023054002\",\"p\":\"710 756\",\"r\":\"110100023054|110100023116\",\"udsi\":\"110100023116010;110100023117006\",\"t\":\"1\",\"si\":\"110100023054002\",\"sl\":\"116.321218,39.894706\",\"udli\":\"110100023116;110100023117\",\"poiid\":\"BV10000102\",\"lg\":\"2\",\"sp\":\"bei jing xi zhan\"},{\"rs\":\"710 720|710 720\",\"udpx\":\"713 720;707 720\",\"su\":\"1\",\"udsu\":\"1;1\",\"n\":\"军事博物馆\",\"sid\":\"110100023110010\",\"p\":\"710 720\",\"r\":\"110100023110|110100023116\",\"udsi\":\"110100023116011;110100023117005\",\"t\":\"1\",\"si\":\"110100023110010\",\"sl\":\"116.321459,39.907422\",\"udli\":\"110100023116;110100023117\",\"poiid\":\"BV10000188\",\"lg\":\"1\",\"sp\":\"jun shi bo wu guan\"},{\"rs\":\"710 670\",\"udpx\":\"713 670;707 670\",\"su\":\"1\",\"udsu\":\"1;1\",\"n\":\"白堆子\",\"sid\":\"110100023116012\",\"p\":\"710 670\",\"r\":\"110100023116\",\"udsi\":\"110100023116012;110100023117004\",\"t\":\"0\",\"si\":\"110100023116012\",\"sl\":\"116.325762,39.923818\",\"udli\":\"110100023116;110100023117\",\"poiid\":\"BV10013476\",\"lg\":\"2\",\"sp\":\"bai dui zi\"},{\"rs\":\"710 625|710 625\",\"udpx\":\"713 625;707 625\",\"su\":\"1\",\"udsu\":\"1;1\",\"n\":\"白石桥南\",\"sid\":\"110100023116013\",\"p\":\"710 625\",\"r\":\"110100023339|110100023116\",\"udsi\":\"110100023116013;110100023117003\",\"t\":\"1\",\"si\":\"110100023116013\",\"sl\":\"116.325680,39.933022\",\"udli\":\"110100023116;110100023117\",\"poiid\":\"BV10000061\",\"lg\":\"1\",\"sp\":\"bai shi qiao nan\"},{\"rs\":\"710 582|710 582\",\"udpx\":\"713 582;707 582\",\"su\":\"1\",\"udsu\":\"1;1\",\"n\":\"国家图书馆\",\"sid\":\"110100023076011\",\"p\":\"710 582\",\"r\":\"110100023076|110100023116\",\"udsi\":\"110100023116014;110100023117002\",\"t\":\"1\",\"si\":\"110100023076011\",\"sl\":\"116.325190,39.943114\",\"udli\":\"110100023116;110100023117\",\"poiid\":\"BV10000252\",\"lg\":\"6\",\"sp\":\"guo jia tu shu guan\"}],\"ln\":\"9号线\",\"su\":\"1\",\"kn\":\"地铁9号线\",\"c\":[\"620 977\",\"620 950\",\"620 924\",\"620 900\",\"620 899\",\"619 876\",\"619 852\",\"619 831\",\"620 829\",\"621 827\",\"623 824\",\"650 804\",\"675 784\",\"678 782\",\"710 756\",\"710 720\",\"710 670\",\"710 625\",\"710 624\",\"710 582\"],\"lo\":\"0\",\"lp\":[\"675 808\"],\"f\":[{\"c\":[\"707 582\",\"707 624\",\"707 625\",\"707 670\",\"707 720\",\"707 755\",\"676 780\",\"648 801\",\"621 822\",\"619 825\",\"617 828\",\"616 831\",\"617 852\",\"617 876\",\"617 899\",\"617 924\",\"617 950\",\"617 977\"],\"li\":\"110100023117\"},{\"c\":[\"623 977\",\"623 950\",\"622 924\",\"622 899\",\"622 876\",\"622 852\",\"622 831\",\"623 830\",\"623 829\",\"625 826\",\"651 806\",\"679 784\",\"713 758\",\"713 720\",\"713 670\",\"713 625\",\"713 624\",\"713 582\"],\"li\":\"110100023116\"}],\"ls\":\"110100023116\",\"cl\":\"86B81C\",\"la\":\"\",\"x\":10,\"li\":\"110100023116|110100023117\"},{\"st\":[{\"rs\":\"602 448|602 448\",\"udpx\":\"602 451,602 451;602 446\",\"su\":\"1\",\"udsu\":\"1,1;1\",\"n\":\"巴沟\",\"sid\":\"110100023060002\",\"p\":\"602 448\",\"r\":\"110100023282|110100023060\",\"udsi\":\"110100023282047,110100023282002;110100023283044\",\"t\":\"1\",\"si\":\"110100023060002\",\"sl\":\"116.293727,39.974179\",\"udli\":\"110100023282,110100023282;110100023283\",\"poiid\":\"BV10013394\",\"lg\":\"4\",\"sp\":\"ba gou\"},{\"rs\":\"645 448\",\"udpx\":\"645 445;645 451\",\"su\":\"1\",\"udsu\":\"1;1\",\"n\":\"苏州街\",\"sid\":\"110100023282003\",\"p\":\"645 448\",\"r\":\"110100023282\",\"udsi\":\"110100023283043;110100023282003\",\"t\":\"0\",\"si\":\"110100023282003\",\"sl\":\"116.306332,39.975642\",\"udli\":\"110100023283;110100023282\",\"poiid\":\"BV10013485\",\"lg\":\"4\",\"sp\":\"su zhou jie\"},{\"rs\":\"699 448|699 448\",\"udpx\":\"699 451;699 445\",\"su\":\"1\",\"udsu\":\"1;1\",\"n\":\"海淀黄庄\",\"sid\":\"110100023076008\",\"p\":\"699 448\",\"r\":\"110100023076|110100023282\",\"udsi\":\"110100023282004;110100023283042\",\"t\":\"1\",\"si\":\"110100023076008\",\"sl\":\"116.317564,39.975996\",\"udli\":\"110100023282;110100023283\",\"poiid\":\"BV10013411\",\"lg\":\"7\",\"sp\":\"hai dian huang zhuang\"},{\"rs\":\"794 448\",\"udpx\":\"794 451;794 445\",\"su\":\"1\",\"udsu\":\"1;1\",\"n\":\"知春里\",\"sid\":\"110100023282005\",\"p\":\"794 448\",\"r\":\"110100023282\",\"udsi\":\"110100023282005;110100023283041\",\"t\":\"0\",\"si\":\"110100023282005\",\"sl\":\"116.328709,39.976334\",\"udli\":\"110100023282;110100023283\",\"poiid\":\"BV10001215\",\"lg\":\"4\",\"sp\":\"zhi chun li\"},{\"rs\":\"843 448|843 448\",\"udpx\":\"843 451;843 445\",\"su\":\"1\",\"udsu\":\"1;1\",\"n\":\"知春路\",\"sid\":\"110100023282006\",\"p\":\"843 448\",\"r\":\"110100023282|110100033066\",\"udsi\":\"110100023282006;110100023283040\",\"t\":\"1\",\"si\":\"110100023282006\",\"sl\":\"116.339960,39.976476\",\"udli\":\"110100023282;110100023283\",\"poiid\":\"BV10001218\",\"lg\":\"7\",\"sp\":\"zhi chun lu\"},{\"rs\":\"879 448\",\"udpx\":\"879 451;879 445\",\"su\":\"1\",\"udsu\":\"1;1\",\"n\":\"西土城\",\"sid\":\"110100023282007\",\"p\":\"879 448\",\"r\":\"110100023282\",\"udsi\":\"110100023282007;110100023283039\",\"t\":\"0\",\"si\":\"110100023282007\",\"sl\":\"116.354098,39.976549\",\"udli\":\"110100023282;110100023283\",\"poiid\":\"BV10013486\",\"lg\":\"4\",\"sp\":\"xi tu cheng\"},{\"rs\":\"922 448\",\"udpx\":\"922 451;922 445\",\"su\":\"1\",\"udsu\":\"1;1\",\"n\":\"牡丹园\",\"sid\":\"110100023282008\",\"p\":\"922 448\",\"r\":\"110100023282\",\"udsi\":\"110100023282008;110100023283038\",\"t\":\"0\",\"si\":\"110100023282008\",\"sl\":\"116.369844,39.976603\",\"udli\":\"110100023282;110100023283\",\"poiid\":\"BV10000017\",\"lg\":\"4\",\"sp\":\"mu dan yuan\"},{\"rs\":\"969 448\",\"udpx\":\"969 451;969 445\",\"su\":\"1\",\"udsu\":\"1;1\",\"n\":\"健德门\",\"sid\":\"110100023282009\",\"p\":\"969 448\",\"r\":\"110100023282\",\"udsi\":\"110100023282009;110100023283037\",\"t\":\"0\",\"si\":\"110100023282009\",\"sl\":\"116.381353,39.976723\",\"udli\":\"110100023282;110100023283\",\"poiid\":\"BV10004058\",\"lg\":\"4\",\"sp\":\"jian de men\"},{\"rs\":\"1001 449|1001 449\",\"udpx\":\"1015 451;1015 445\",\"su\":\"1\",\"udsu\":\"1;1\",\"n\":\"北土城\",\"sid\":\"110100023114007\",\"p\":\"1001 449\",\"r\":\"110100023114|110100023282\",\"udsi\":\"110100023282010;110100023283036\",\"t\":\"1\",\"si\":\"110100023114007\",\"sl\":\"116.394193,39.976953\",\"udli\":\"110100023282;110100023283\",\"poiid\":\"BV10013465\",\"lg\":\"7\",\"sp\":\"bei tu cheng\"},{\"rs\":\"1085 448\",\"udpx\":\"1085 451;1085 445\",\"su\":\"1\",\"udsu\":\"1;1\",\"n\":\"安贞门\",\"sid\":\"110100023282011\",\"p\":\"1085 448\",\"r\":\"110100023282\",\"udsi\":\"110100023282011;110100023283035\",\"t\":\"0\",\"si\":\"110100023282011\",\"sl\":\"116.405954,39.977005\",\"udli\":\"110100023282;110100023283\",\"poiid\":\"BV10013487\",\"lg\":\"4\",\"sp\":\"an zhen men\"},{\"rs\":\"1116 448|1116 448\",\"udpx\":\"1116 451;1116 445\",\"su\":\"1\",\"udsu\":\"1;1\",\"n\":\"惠新西街南口\",\"sid\":\"110100023100015\",\"p\":\"1116 448\",\"r\":\"110100023100|110100023282\",\"udsi\":\"110100023282012;110100023283034\",\"t\":\"1\",\"si\":\"110100023100015\",\"sl\":\"116.417537,39.977121\",\"udli\":\"110100023282;110100023283\",\"poiid\":\"BV10005412\",\"lg\":\"3\",\"sp\":\"hui xin xi jie nan kou\"},{\"rs\":\"1201 448|1201 448\",\"udpx\":\"1201 445;1201 451\",\"su\":\"1\",\"udsu\":\"1;1\",\"n\":\"芍药居\",\"sid\":\"110100023282013\",\"p\":\"1201 448\",\"r\":\"110100023282|110100033066\",\"udsi\":\"110100023283033;110100023282013\",\"t\":\"1\",\"si\":\"110100023282013\",\"sl\":\"116.435914,39.977636\",\"udli\":\"110100023283;110100023282\",\"poiid\":\"BV10006575\",\"lg\":\"3\",\"sp\":\"shao yao ju\"},{\"rs\":\"1262 448\",\"udpx\":\"1262 451;1262 445\",\"su\":\"1\",\"udsu\":\"1;1\",\"n\":\"太阳宫\",\"sid\":\"110100023282014\",\"p\":\"1262 448\",\"r\":\"110100023282\",\"udsi\":\"110100023282014;110100023283032\",\"t\":\"0\",\"si\":\"110100023282014\",\"sl\":\"116.447469,39.972678\",\"udli\":\"110100023282;110100023283\",\"poiid\":\"BV10013488\",\"lg\":\"7\",\"sp\":\"tai yang gong\"},{\"rs\":\"1279 495|1279 495\",\"udpx\":\"1282 495;1276 495\",\"su\":\"1\",\"udsu\":\"1;1\",\"n\":\"三元桥\",\"sid\":\"110100023096003\",\"p\":\"1279 495\",\"r\":\"110100023282|110100023096\",\"udsi\":\"110100023283031;110100023282015\",\"t\":\"1\",\"si\":\"110100023096003\",\"sl\":\"116.456997,39.961508\",\"udli\":\"110100023283;110100023282\",\"poiid\":\"BV10000199\",\"lg\":\"3\",\"sp\":\"san yuan qiao\"},{\"rs\":\"1279 534\",\"udpx\":\"1282 534;1276 534\",\"su\":\"1\",\"udsu\":\"1;1\",\"n\":\"亮马桥\",\"sid\":\"110100023282016\",\"p\":\"1279 534\",\"r\":\"110100023282\",\"udsi\":\"110100023283030;110100023282016\",\"t\":\"0\",\"si\":\"110100023282016\",\"sl\":\"116.461794,39.949415\",\"udli\":\"110100023283;110100023282\",\"poiid\":\"BV10000196\",\"lg\":\"2\",\"sp\":\"liang ma qiao\"},{\"rs\":\"1279 570\",\"udpx\":\"1282 570;1276 570\",\"su\":\"1\",\"udsu\":\"1;1\",\"n\":\"农业展览馆\",\"sid\":\"110100023282017\",\"p\":\"1279 570\",\"r\":\"110100023282\",\"udsi\":\"110100023283029;110100023282017\",\"t\":\"0\",\"si\":\"110100023282017\",\"sl\":\"116.461724,39.941344\",\"udli\":\"110100023283;110100023282\",\"poiid\":\"BV10001223\",\"lg\":\"2\",\"sp\":\"nong ye zhan lan guan\"},{\"rs\":\"1279 607\",\"udpx\":\"1282 607;1276 607\",\"su\":\"1\",\"udsu\":\"1;1\",\"n\":\"团结湖\",\"sid\":\"110100023282018\",\"p\":\"1279 607\",\"r\":\"110100023282\",\"udsi\":\"110100023283028;110100023282018\",\"t\":\"0\",\"si\":\"110100023282018\",\"sl\":\"116.461806,39.933747\",\"udli\":\"110100023283;110100023282\",\"poiid\":\"BV10011994\",\"lg\":\"2\",\"sp\":\"tuan jie hu\"},{\"rs\":\"1279 659|1279 659\",\"udpx\":\"1276 659;1282 659\",\"su\":\"1\",\"udsu\":\"1;1\",\"n\":\"呼家楼\",\"sid\":\"110100023282019\",\"p\":\"1279 659\",\"r\":\"110100023339|110100023282\",\"udsi\":\"110100023282019;110100023283027\",\"t\":\"1\",\"si\":\"110100023282019\",\"sl\":\"116.461618,39.923337\",\"udli\":\"110100023282;110100023283\",\"poiid\":\"BV10013489\",\"lg\":\"1\",\"sp\":\"hu jia lou\"},{\"rs\":\"1279 690\",\"udpx\":\"1282 690;1276 690\",\"su\":\"1\",\"udsu\":\"1;1\",\"n\":\"金台夕照\",\"sid\":\"110100023282020\",\"p\":\"1279 690\",\"r\":\"110100023282\",\"udsi\":\"110100023283026;110100023282020\",\"t\":\"0\",\"si\":\"110100023282020\",\"sl\":\"116.461743,39.916838\",\"udli\":\"110100023283;110100023282\",\"poiid\":\"BV10013490\",\"lg\":\"6\",\"sp\":\"jin tai xi zhao\"},{\"rs\":\"1279 720|1279 720\",\"udpx\":\"1276 720;1282 720\",\"su\":\"1\",\"udsu\":\"1;1\",\"n\":\"国贸\",\"sid\":\"110100023110021\",\"p\":\"1279 720\",\"r\":\"110100023110|110100023282\",\"udsi\":\"110100023282021;110100023283025\",\"t\":\"1\",\"si\":\"110100023110021\",\"sl\":\"116.461841,39.909104\",\"udli\":\"110100023282;110100023283\",\"poiid\":\"BV10013461\",\"lg\":\"3\",\"sp\":\"guo mao\"},{\"rs\":\"1279 800|1279 800\",\"udpx\":\"1282 791;1276 791\",\"su\":\"1\",\"udsu\":\"1;1\",\"n\":\"双井\",\"sid\":\"110100023054013\",\"p\":\"1279 800\",\"r\":\"110100023054|110100023282\",\"udsi\":\"110100023283024;110100023282022\",\"t\":\"1\",\"si\":\"110100023054013\",\"sl\":\"116.461834,39.893512\",\"udli\":\"110100023283;110100023282\",\"poiid\":\"BV10013385\",\"lg\":\"1\",\"sp\":\"ShuangJing\"},{\"rs\":\"1279 817\",\"udpx\":\"1276 817;1282 817\",\"su\":\"1\",\"udsu\":\"1;1\",\"n\":\"劲松\",\"sid\":\"110100023282023\",\"p\":\"1279 817\",\"r\":\"110100023282\",\"udsi\":\"110100023282023;110100023283023\",\"t\":\"0\",\"si\":\"110100023282023\",\"sl\":\"116.461325,39.884387\",\"udli\":\"110100023282;110100023283\",\"poiid\":\"BV10007162\",\"lg\":\"2\",\"sp\":\"jin song\"},{\"rs\":\"1279 840\",\"udpx\":\"1282 840;1276 840\",\"su\":\"1\",\"udsu\":\"1;1\",\"n\":\"潘家园\",\"sid\":\"110100023282024\",\"p\":\"1279 840\",\"r\":\"110100023282\",\"udsi\":\"110100023283022;110100023282024\",\"t\":\"0\",\"si\":\"110100023282024\",\"sl\":\"116.460926,39.875387\",\"udli\":\"110100023283;110100023282\",\"poiid\":\"BV10000543\",\"lg\":\"2\",\"sp\":\"pan jia yuan\"},{\"rs\":\"1279 864|1279 864\",\"udpx\":\"1276 864;1282 864\",\"su\":\"1\",\"udsu\":\"1;1\",\"n\":\"十里河\",\"sid\":\"110100023282025\",\"p\":\"1279 864\",\"r\":\"110100023282|900000028907\",\"udsi\":\"110100023282025;110100023283021\",\"t\":\"1\",\"si\":\"110100023282025\",\"sl\":\"116.457983,39.866417\",\"udli\":\"110100023282;110100023283\",\"poiid\":\"BV10013367\",\"lg\":\"3\",\"sp\":\"shi li he\"},{\"rs\":\"1227 935\",\"udpx\":\"1227 938;1227 932\",\"su\":\"1\",\"udsu\":\"1;1\",\"n\":\"分钟寺\",\"sid\":\"110100023282026\",\"p\":\"1227 935\",\"r\":\"110100023282\",\"udsi\":\"110100023283020;110100023282026\",\"t\":\"0\",\"si\":\"110100023282026\",\"sl\":\"116.453976,39.852227\",\"udli\":\"110100023283;110100023282\",\"poiid\":\"BV10007166\",\"lg\":\"0\",\"sp\":\"fen zhong si\"},{\"rs\":\"1179 935\",\"udpx\":\"1179 938;1179 932\",\"su\":\"1\",\"udsu\":\"1;1\",\"n\":\"成寿寺\",\"sid\":\"110100023282027\",\"p\":\"1179 935\",\"r\":\"110100023282\",\"udsi\":\"110100023283019;110100023282027\",\"t\":\"0\",\"si\":\"110100023282027\",\"sl\":\"116.447531,39.845874\",\"udli\":\"110100023283;110100023282\",\"poiid\":\"BV10013491\",\"lg\":\"0\",\"sp\":\"cheng shou si\"},{\"rs\":\"1116 935|1116 935|1116 935\",\"udpx\":\"1116 938;1116 932\",\"su\":\"1\",\"udsu\":\"1;1\",\"n\":\"宋家庄\",\"sid\":\"110100023100001\",\"p\":\"1116 935\",\"r\":\"110100023100|110100023282|110100023102\",\"udsi\":\"110100023283018;110100023282028\",\"t\":\"1\",\"si\":\"110100023100001\",\"sl\":\"116.428368,39.845849\",\"udli\":\"110100023283;110100023282\",\"poiid\":\"BV10000743\",\"lg\":\"3\",\"sp\":\"song jia zhuang\"},{\"rs\":\"1069 935\",\"udpx\":\"1069 938;1069 932\",\"su\":\"1\",\"udsu\":\"1;1\",\"n\":\"石榴庄\",\"sid\":\"110100023282029\",\"p\":\"1069 935\",\"r\":\"110100023282\",\"udsi\":\"110100023283017;110100023282029\",\"t\":\"0\",\"si\":\"110100023282029\",\"sl\":\"116.414103,39.845905\",\"udli\":\"110100023283;110100023282\",\"poiid\":\"BV10013492\",\"lg\":\"4\",\"sp\":\"shi liu zhuang\"},{\"rs\":\"1021 935\",\"udpx\":\"1021 932;1021 938\",\"su\":\"1\",\"udsu\":\"1;1\",\"n\":\"大红门\",\"sid\":\"110100023282030\",\"p\":\"1021 935\",\"r\":\"110100023282\",\"udsi\":\"110100023282030;110100023283016\",\"t\":\"0\",\"si\":\"110100023282030\",\"sl\":\"116.399154,39.845383\",\"udli\":\"110100023282;110100023283\",\"poiid\":\"BV10000737\",\"lg\":\"1\",\"sp\":\"da hong men\"},{\"rs\":\"974 935\",\"udpx\":\"974 932;974 938\",\"su\":\"1\",\"udsu\":\"1;1\",\"n\":\"角门东\",\"sid\":\"110100023282031\",\"p\":\"974 935\",\"r\":\"110100023282\",\"udsi\":\"110100023282031;110100023283015\",\"t\":\"0\",\"si\":\"110100023282031\",\"sl\":\"116.385649,39.845135\",\"udli\":\"110100023282;110100023283\",\"poiid\":\"BV10013493\",\"lg\":\"4\",\"sp\":\"jiao men dong\"},{\"rs\":\"928 935|928 935\",\"udpx\":\"928 932;928 938\",\"su\":\"1\",\"udsu\":\"1;1\",\"n\":\"角门西\",\"sid\":\"110100023076024\",\"p\":\"928 935\",\"r\":\"110100023076|110100023282\",\"udsi\":\"110100023282032;110100023283014\",\"t\":\"1\",\"si\":\"110100023076024\",\"sl\":\"116.371154,39.845850\",\"udli\":\"110100023282;110100023283\",\"poiid\":\"BV10013417\",\"lg\":\"1\",\"sp\":\"jiao men xi\"},{\"rs\":\"869 935|869 935\",\"udpx\":\"869 938;869 932\",\"su\":\"1\",\"udsu\":\"1;1\",\"n\":\"草桥\",\"sid\":\"110100023282033\",\"p\":\"869 935\",\"r\":\"110100023282|900000076659\",\"udsi\":\"110100023283013;110100023282033\",\"t\":\"1\",\"si\":\"110100023282033\",\"sl\":\"116.351387,39.845869\",\"udli\":\"110100023283;110100023282\",\"poiid\":\"BV10000222\",\"lg\":\"0\",\"sp\":\"CaoQiao\"},{\"rs\":\"812 935\",\"udpx\":\"812 932;812 938\",\"su\":\"1\",\"udsu\":\"1;1\",\"n\":\"纪家庙\",\"sid\":\"110100023282034\",\"p\":\"812 935\",\"r\":\"110100023282\",\"udsi\":\"110100023282034;110100023283012\",\"t\":\"0\",\"si\":\"110100023282034\",\"sl\":\"116.333381,39.844433\",\"udli\":\"110100023282;110100023283\",\"poiid\":\"BV10006086\",\"lg\":\"0\",\"sp\":\"ji jia miao\"},{\"rs\":\"753 935\",\"udpx\":\"753 932;753 938\",\"su\":\"1\",\"udsu\":\"1;1\",\"n\":\"首经贸\",\"sid\":\"110100023282035\",\"p\":\"753 935\",\"r\":\"110100023282\",\"udsi\":\"110100023282035;110100023283011\",\"t\":\"0\",\"si\":\"110100023282035\",\"sl\":\"116.320202,39.844463\",\"udli\":\"110100023282;110100023283\",\"poiid\":\"BV10013494\",\"lg\":\"0\",\"sp\":\"shou jing mao\"},{\"rs\":\"688 935\",\"udpx\":\"688 932;688 938\",\"su\":\"1\",\"udsu\":\"1;1\",\"n\":\"丰台站\",\"sid\":\"110100023282036\",\"p\":\"688 935\",\"r\":\"110100023282\",\"udsi\":\"110100023282036;110100023283010\",\"t\":\"0\",\"si\":\"110100023282036\",\"sl\":\"116.304540,39.849639\",\"udli\":\"110100023282;110100023283\",\"poiid\":\"BV10013495\",\"lg\":\"0\",\"sp\":\"feng tai zhan\"},{\"rs\":\"650 892\",\"udpx\":\"647 892;653 892\",\"su\":\"1\",\"udsu\":\"1;1\",\"n\":\"泥洼\",\"sid\":\"110100023282037\",\"p\":\"650 892\",\"r\":\"110100023282\",\"udsi\":\"110100023283009;110100023282037\",\"t\":\"0\",\"si\":\"110100023282037\",\"sl\":\"116.304173,39.858609\",\"udli\":\"110100023283;110100023282\",\"poiid\":\"BV10003566\",\"lg\":\"2\",\"sp\":\"ni wa\"},{\"rs\":\"650 852|650 852\",\"udpx\":\"647 852;653 852\",\"su\":\"1\",\"udsu\":\"1;1\",\"n\":\"西局\",\"sid\":\"110100023050032\",\"p\":\"650 852\",\"r\":\"110100023282|110100023068\",\"udsi\":\"110100023283008;110100023282038\",\"t\":\"1\",\"si\":\"110100023050032\",\"sl\":\"116.303819,39.866770\",\"udli\":\"110100023283;110100023282\",\"poiid\":\"BV10000215\",\"lg\":\"2\",\"sp\":\"xi ju\"},{\"rs\":\"650 804|650 804\",\"udpx\":\"647 811;653 811\",\"su\":\"1\",\"udsu\":\"1;1\",\"n\":\"六里桥\",\"sid\":\"110100023116008\",\"p\":\"650 804\",\"r\":\"110100023116|110100023282\",\"udsi\":\"110100023283007;110100023282039\",\"t\":\"1\",\"si\":\"110100023116008\",\"sl\":\"116.302808,39.880239\",\"udli\":\"110100023283;110100023282\",\"poiid\":\"BV10013475\",\"lg\":\"6\",\"sp\":\"liu li qiao\"},{\"rs\":\"650 765\",\"udpx\":\"653 765;647 765\",\"su\":\"1\",\"udsu\":\"1;1\",\"n\":\"莲花桥\",\"sid\":\"110100023282040\",\"p\":\"650 765\",\"r\":\"110100023282\",\"udsi\":\"110100023282040;110100023283006\",\"t\":\"0\",\"si\":\"110100023282040\",\"sl\":\"116.310347,39.897867\",\"udli\":\"110100023282;110100023283\",\"poiid\":\"BV10002829\",\"lg\":\"6\",\"sp\":\"lian hua qiao\"},{\"rs\":\"650 720|650 720\",\"udpx\":\"653 719;647 721\",\"su\":\"1\",\"udsu\":\"1;1\",\"n\":\"公主坟\",\"sid\":\"110100023110009\",\"p\":\"650 720\",\"r\":\"110100023110|110100023282\",\"udsi\":\"110100023282041;110100023283005\",\"t\":\"1\",\"si\":\"110100023110009\",\"sl\":\"116.309919,39.907469\",\"udli\":\"110100023282;110100023283\",\"poiid\":\"BV10000306\",\"lg\":\"1\",\"sp\":\"gong zhu fen\"},{\"rs\":\"605 672\",\"udpx\":\"607 670;603 674\",\"su\":\"1\",\"udsu\":\"1;1\",\"n\":\"西钓鱼台\",\"sid\":\"110100023282042\",\"p\":\"605 672\",\"r\":\"110100023282\",\"udsi\":\"110100023282042;110100023283004\",\"t\":\"0\",\"si\":\"110100023282042\",\"sl\":\"116.298064,39.923481\",\"udli\":\"110100023282;110100023283\",\"poiid\":\"BV10002778\",\"lg\":\"6\",\"sp\":\"xi diao yu tai\"},{\"rs\":\"561 625|561 625\",\"udpx\":\"564 625;558 625\",\"su\":\"1\",\"udsu\":\"1;1\",\"n\":\"慈寿寺\",\"sid\":\"110100023282043\",\"p\":\"561 625\",\"r\":\"110100023339|110100023282\",\"udsi\":\"110100023282043;110100023283003\",\"t\":\"1\",\"si\":\"110100023282043\",\"sl\":\"116.295467,39.933268\",\"udli\":\"110100023282;110100023283\",\"poiid\":\"BV10013496\",\"lg\":\"1\",\"sp\":\"ci shou si\"},{\"rs\":\"561 579\",\"udpx\":\"564 579;558 579,558 579\",\"su\":\"1\",\"udsu\":\"1;1,1\",\"n\":\"车道沟\",\"sid\":\"110100023282044\",\"p\":\"561 579\",\"r\":\"110100023282\",\"udsi\":\"110100023282044;110100023283047,110100023283002\",\"t\":\"0\",\"si\":\"110100023282044\",\"sl\":\"116.293818,39.947923\",\"udli\":\"110100023282;110100023283,110100023283\",\"poiid\":\"BV10012405\",\"lg\":\"6\",\"sp\":\"che dao gou\"},{\"rs\":\"561 534\",\"udpx\":\"558 534;564 534\",\"su\":\"1\",\"udsu\":\"1;1\",\"n\":\"长春桥\",\"sid\":\"110100023282045\",\"p\":\"561 534\",\"r\":\"110100023282\",\"udsi\":\"110100023283046;110100023282045\",\"t\":\"0\",\"si\":\"110100023282045\",\"sl\":\"116.294255,39.958527\",\"udli\":\"110100023283;110100023282\",\"poiid\":\"BV10007535\",\"lg\":\"6\",\"sp\":\"chang chun qiao\"},{\"rs\":\"561 490\",\"udpx\":\"558 490;564 490\",\"su\":\"1\",\"udsu\":\"1;1\",\"n\":\"火器营\",\"sid\":\"110100023282046\",\"p\":\"561 490\",\"r\":\"110100023282\",\"udsi\":\"110100023283045;110100023282046\",\"t\":\"0\",\"si\":\"110100023282046\",\"sl\":\"116.289058,39.965938\",\"udli\":\"110100023283;110100023282\",\"poiid\":\"BV10007538\",\"lg\":\"6\",\"sp\":\"huo qi ying\"}],\"ln\":\"10号线\",\"su\":\"1\",\"kn\":\"地铁10号线\",\"c\":[\"602 448\",\"645 448\",\"699 448\",\"701 448\",\"794 448\",\"843 448\",\"879 448\",\"922 448\",\"969 448\",\"1001 449\",\"1085 448\",\"1116 448\",\"1201 448\",\"1262 448\",\"1268 449\",\"1271 449\",\"1274 450\",\"1276 451\",\"1277 452\",\"1278 454\",\"1279 456\",\"1279 458\",\"1279 495\",\"1279 534\",\"1279 570\",\"1279 607\",\"1279 659\",\"1279 690\",\"1279 720\",\"1279 749\",\"1279 791\",\"1279 800\",\"1279 817\",\"1279 840\",\"1279 864\",\"1279 909\",\"1278 917\",\"1276 924\",\"1273 928\",\"1267 932\",\"1259 934\",\"1249 935\",\"1227 935\",\"1179 935\",\"1116 935\",\"1069 935\",\"1021 935\",\"974 935\",\"928 935\",\"869 935\",\"812 935\",\"753 935\",\"688 935\",\"670 935\",\"663 935\",\"658 933\",\"654 931\",\"652 928\",\"650 924\",\"650 918\",\"650 892\",\"650 852\",\"650 811\",\"650 804\",\"650 765\",\"650 720\",\"605 672\",\"561 626\",\"561 625\",\"561 579\",\"561 534\",\"561 490\",\"561 471\",\"563 466\",\"566 462\",\"570 458\",\"575 455\",\"581 452\",\"592 449\",\"596 449\",\"602 448\"],\"lo\":\"1\",\"lp\":[\"757 979\"],\"f\":[{\"c\":[\"602 446\",\"595 446\",\"590 447\",\"580 450\",\"573 453\",\"568 456\",\"563 460\",\"560 465\",\"558 470\",\"558 490\",\"558 534\",\"558 579\",\"558 625\",\"558 627\",\"603 674\",\"647 721\",\"647 765\",\"647 811\",\"647 852\",\"647 892\",\"647 919\",\"648 925\",\"649 930\",\"652 934\",\"657 936\",\"663 938\",\"670 938\",\"688 938\",\"753 938\",\"812 938\",\"869 938\",\"928 938\",\"974 938\",\"1021 938\",\"1069 938\",\"1116 938\",\"1179 938\",\"1227 938\",\"1249 938\",\"1260 937\",\"1268 935\",\"1275 930\",\"1279 925\",\"1281 917\",\"1282 909\",\"1282 864\",\"1282 840\",\"1282 817\",\"1282 791\",\"1282 749\",\"1282 720\",\"1282 690\",\"1282 659\",\"1282 607\",\"1282 570\",\"1282 534\",\"1282 495\",\"1282 458\",\"1281 455\",\"1281 453\",\"1280 450\",\"1278 448\",\"1275 447\",\"1272 446\",\"1268 446\",\"1262 445\",\"1201 445\",\"1116 445\",\"1085 445\",\"1015 445\",\"969 445\",\"922 445\",\"879 445\",\"843 445\",\"794 445\",\"701 445\",\"699 445\",\"645 445\",\"602 446\"],\"li\":\"110100023283\"},{\"c\":[\"602 451\",\"645 451\",\"699 451\",\"701 451\",\"794 451\",\"843 451\",\"879 451\",\"922 451\",\"969 451\",\"1015 451\",\"1085 451\",\"1116 451\",\"1201 451\",\"1262 451\",\"1268 451\",\"1271 452\",\"1273 452\",\"1274 453\",\"1275 454\",\"1275 455\",\"1276 456\",\"1276 458\",\"1276 495\",\"1276 534\",\"1276 570\",\"1276 607\",\"1276 659\",\"1276 690\",\"1276 720\",\"1276 749\",\"1276 791\",\"1276 817\",\"1276 840\",\"1276 864\",\"1276 909\",\"1276 916\",\"1274 922\",\"1271 926\",\"1266 930\",\"1259 932\",\"1248 932\",\"1227 932\",\"1179 932\",\"1116 932\",\"1069 932\",\"1021 932\",\"974 932\",\"928 932\",\"869 932\",\"812 932\",\"753 932\",\"688 932\",\"670 932\",\"664 932\",\"659 931\",\"656 929\",\"654 927\",\"653 923\",\"653 918\",\"653 892\",\"653 852\",\"653 811\",\"653 765\",\"653 719\",\"607 670\",\"564 625\",\"564 625\",\"564 579\",\"564 534\",\"564 490\",\"564 471\",\"565 467\",\"568 464\",\"571 460\",\"577 457\",\"583 454\",\"593 452\",\"597 451\",\"602 451\"],\"li\":\"110100023282\"}],\"ls\":\"110100023282\",\"cl\":\"019AC3\",\"la\":\"\",\"x\":11,\"li\":\"110100023282|110100023283\"},{\"st\":[{\"rs\":\"858 585|858 585|858 585\",\"udpx\":\"858 587;859 582\",\"su\":\"1\",\"udsu\":\"1;1\",\"n\":\"西直门\",\"sid\":\"110100023076013\",\"p\":\"858 585\",\"r\":\"110100023098|110100023076|110100033066\",\"udsi\":\"110100033066017;110100033067002\",\"t\":\"1\",\"si\":\"110100023076013\",\"sl\":\"116.355426,39.940474\",\"udli\":\"110100033066;110100033067\",\"poiid\":\"BV10001595\",\"lg\":\"5\",\"sp\":\"xi zhi men\"},{\"rs\":\"843 523\",\"udpx\":\"846 523;841 523\",\"su\":\"1\",\"udsu\":\"1;1\",\"n\":\"大钟寺\",\"sid\":\"110100033066016\",\"p\":\"843 523\",\"r\":\"110100033066\",\"udsi\":\"110100033067003;110100033066016\",\"t\":\"0\",\"si\":\"110100033066016\",\"sl\":\"116.345139,39.966612\",\"udli\":\"110100033067;110100033066\",\"poiid\":\"BV10001016\",\"lg\":\"6\",\"sp\":\"da zhong si\"},{\"rs\":\"843 448|843 448\",\"udpx\":\"841 448;846 448\",\"su\":\"1\",\"udsu\":\"1;1\",\"n\":\"知春路\",\"sid\":\"110100023282006\",\"p\":\"843 448\",\"r\":\"110100023282|110100033066\",\"udsi\":\"110100033066015;110100033067004\",\"t\":\"1\",\"si\":\"110100023282006\",\"sl\":\"116.339960,39.976476\",\"udli\":\"110100033066;110100033067\",\"poiid\":\"BV10001218\",\"lg\":\"7\",\"sp\":\"zhi chun lu\"},{\"rs\":\"843 418\",\"udpx\":\"841 418;846 418\",\"su\":\"1\",\"udsu\":\"1;1\",\"n\":\"五道口\",\"sid\":\"110100033066014\",\"p\":\"843 418\",\"r\":\"110100033066\",\"udsi\":\"110100033066014;110100033067005\",\"t\":\"0\",\"si\":\"110100033066014\",\"sl\":\"116.337742,39.992894\",\"udli\":\"110100033066;110100033067\",\"poiid\":\"BV10006886\",\"lg\":\"6\",\"sp\":\"wu dao kou\"},{\"rs\":\"843 385\",\"udpx\":\"846 385;841 385\",\"su\":\"1\",\"udsu\":\"1;1\",\"n\":\"上地\",\"sid\":\"110100033066013\",\"p\":\"843 385\",\"r\":\"110100033066\",\"udsi\":\"110100033067006;110100033066013\",\"t\":\"0\",\"si\":\"110100033066013\",\"sl\":\"116.320193,40.033007\",\"udli\":\"110100033067;110100033066\",\"poiid\":\"BV10013516\",\"lg\":\"6\",\"sp\":\"shang di\"},{\"rs\":\"843 327\",\"udpx\":\"841 327;846 327\",\"su\":\"1\",\"udsu\":\"1;1\",\"n\":\"清河\",\"sid\":\"110100033066018\",\"p\":\"843 327\",\"r\":\"110100033066\",\"udsi\":\"110100033066018;110100033067018\",\"t\":\"0\",\"si\":\"110100033066018\",\"sl\":\"116.314797,40.041090\",\"udli\":\"110100033066;110100033067\",\"poiid\":\"BV11322806\",\"lg\":\"2\",\"sp\":\"QingHe\"},{\"rs\":\"843 299|843 299\",\"udpx\":\"846 299;841 299\",\"su\":\"1\",\"udsu\":\"1;1\",\"n\":\"西二旗\",\"sid\":\"110100023118008\",\"p\":\"843 299\",\"r\":\"110100033066|110100023118\",\"udsi\":\"110100033067007;110100033066012\",\"t\":\"1\",\"si\":\"110100023118008\",\"sl\":\"116.306295,40.053034\",\"udli\":\"110100033067;110100033066\",\"poiid\":\"BV10007027\",\"lg\":\"6\",\"sp\":\"xi er qi\"},{\"rs\":\"883 267\",\"udpx\":\"883 270;883 264\",\"su\":\"1\",\"udsu\":\"1;1\",\"n\":\"龙泽\",\"sid\":\"110100033066011\",\"p\":\"883 267\",\"r\":\"110100033066\",\"udsi\":\"110100033067008;110100033066011\",\"t\":\"0\",\"si\":\"110100033066011\",\"sl\":\"116.319429,40.070882\",\"udli\":\"110100033067;110100033066\",\"poiid\":\"BV10013515\",\"lg\":\"0\",\"sp\":\"long ze\"},{\"rs\":\"931 267\",\"udpx\":\"931 270;931 264\",\"su\":\"1\",\"udsu\":\"1;1\",\"n\":\"回龙观\",\"sid\":\"110100033066010\",\"p\":\"931 267\",\"r\":\"110100033066\",\"udsi\":\"110100033067009;110100033066010\",\"t\":\"0\",\"si\":\"110100033066010\",\"sl\":\"116.336116,40.070800\",\"udli\":\"110100033067;110100033066\",\"poiid\":\"BV10013514\",\"lg\":\"0\",\"sp\":\"hui long guan\"},{\"rs\":\"970 267|970 267\",\"udpx\":\"931 264;931 270\",\"su\":\"1\",\"udsu\":\"1;1\",\"n\":\"霍营\",\"sid\":\"110100023114015\",\"p\":\"970 267\",\"r\":\"110100023114|110100033066\",\"udsi\":\"110100033066009;110100033067010\",\"t\":\"1\",\"si\":\"110100023114015\",\"sl\":\"116.360286,40.071857\",\"udli\":\"110100033066;110100033067\",\"poiid\":\"BV10007658\",\"lg\":\"1\",\"sp\":\"huo ying\"},{\"rs\":\"1116 267|1116 267\",\"udpx\":\"1116 270;1116 264\",\"su\":\"1\",\"udsu\":\"1;1\",\"n\":\"立水桥\",\"sid\":\"110100023100020\",\"p\":\"1116 267\",\"r\":\"110100023100|110100033066\",\"udsi\":\"110100033067011;110100033066008\",\"t\":\"1\",\"si\":\"110100023100020\",\"sl\":\"116.412350,40.053032\",\"udli\":\"110100033067;110100033066\",\"poiid\":\"BV10000461\",\"lg\":\"1\",\"sp\":\"li shui qiao\"},{\"rs\":\"1201 340\",\"udpx\":\"1198 340;1204 340\",\"su\":\"1\",\"udsu\":\"1;1\",\"n\":\"北苑\",\"sid\":\"110100033066007\",\"p\":\"1201 340\",\"r\":\"110100033066\",\"udsi\":\"110100033067012;110100033066007\",\"t\":\"0\",\"si\":\"110100033066007\",\"sl\":\"116.434518,40.042997\",\"udli\":\"110100033067;110100033066\",\"poiid\":\"BV10000150\",\"lg\":\"2\",\"sp\":\"bei yuan\"},{\"rs\":\"1201 386|1201 386\",\"udpx\":\"1204 380;1198 380\",\"su\":\"1\",\"udsu\":\"1;1\",\"n\":\"望京西\",\"sid\":\"110100023070002\",\"p\":\"1201 386\",\"r\":\"110100033066|110100023070\",\"udsi\":\"110100033066006;110100033067013\",\"t\":\"1\",\"si\":\"110100023070002\",\"sl\":\"116.449884,39.995724\",\"udli\":\"110100033066;110100033067\",\"poiid\":\"BV10013377\",\"lg\":\"1\",\"sp\":\"wang jing xi\"},{\"rs\":\"1201 448|1201 448\",\"udpx\":\"1204 448;1198 448\",\"su\":\"1\",\"udsu\":\"1;1\",\"n\":\"芍药居\",\"sid\":\"110100023282013\",\"p\":\"1201 448\",\"r\":\"110100023282|110100033066\",\"udsi\":\"110100033066005;110100033067014\",\"t\":\"1\",\"si\":\"110100023282013\",\"sl\":\"116.435914,39.977636\",\"udli\":\"110100033066;110100033067\",\"poiid\":\"BV10006575\",\"lg\":\"3\",\"sp\":\"shao yao ju\"},{\"rs\":\"1201 502\",\"udpx\":\"1204 502;1198 502\",\"su\":\"1\",\"udsu\":\"1;1\",\"n\":\"光熙门\",\"sid\":\"110100033066004\",\"p\":\"1201 502\",\"r\":\"110100033066\",\"udsi\":\"110100033066004;110100033067015\",\"t\":\"0\",\"si\":\"110100033066004\",\"sl\":\"116.431761,39.968337\",\"udli\":\"110100033066;110100033067\",\"poiid\":\"BV10013512\",\"lg\":\"2\",\"sp\":\"guang xi men\"},{\"rs\":\"1201 543\",\"udpx\":\"1204 543;1198 543\",\"su\":\"1\",\"udsu\":\"1;1\",\"n\":\"柳芳\",\"sid\":\"110100033066003\",\"p\":\"1201 543\",\"r\":\"110100033066\",\"udsi\":\"110100033066003;110100033067016\",\"t\":\"0\",\"si\":\"110100033066003\",\"sl\":\"116.432728,39.958157\",\"udli\":\"110100033066;110100033067\",\"poiid\":\"BV10013511\",\"lg\":\"2\",\"sp\":\"liu fang\"},{\"rs\":\"1179 586|1179 586|1179 586\",\"udpx\":\"1179 589;1178 583\",\"su\":\"1\",\"udsu\":\"1;1\",\"n\":\"东直门\",\"sid\":\"110100023096004\",\"p\":\"1179 586\",\"r\":\"110100023098|110100033066|110100023096\",\"udsi\":\"110100033066002;110100033067017\",\"t\":\"1\",\"si\":\"110100023096004\",\"sl\":\"116.435842,39.941626\",\"udli\":\"110100033066;110100033067\",\"poiid\":\"BV10002731\",\"lg\":\"3\",\"sp\":\"dong zhi men\"}],\"ln\":\"13号线\",\"su\":\"1\",\"kn\":\"地铁13号线\",\"c\":[\"858 585\",\"853 584\",\"849 580\",\"846 575\",\"844 569\",\"843 558\",\"843 523\",\"843 448\",\"843 418\",\"843 385\",\"843 327\",\"843 299\",\"845 286\",\"845 282\",\"846 277\",\"849 274\",\"853 270\",\"859 268\",\"865 268\",\"883 267\",\"931 267\",\"970 267\",\"1015 267\",\"1116 267\",\"1181 267\",\"1189 269\",\"1195 272\",\"1198 275\",\"1200 279\",\"1201 284\",\"1201 288\",\"1201 295\",\"1201 340\",\"1201 379\",\"1201 380\",\"1201 386\",\"1201 448\",\"1201 502\",\"1201 543\",\"1201 558\",\"1201 565\",\"1201 571\",\"1199 576\",\"1196 580\",\"1191 583\",\"1185 585\",\"1179 586\"],\"lo\":\"0\",\"lp\":[\"871 301\"],\"f\":[{\"c\":[\"1179 589\",\"1186 587\",\"1192 585\",\"1198 582\",\"1202 578\",\"1204 572\",\"1204 566\",\"1204 558\",\"1204 543\",\"1204 502\",\"1204 448\",\"1204 380\",\"1204 379\",\"1204 340\",\"1204 295\",\"1204 288\",\"1204 284\",\"1203 278\",\"1200 274\",\"1196 269\",\"1190 266\",\"1181 265\",\"1116 264\",\"1015 264\",\"931 264\",\"883 264\",\"865 265\",\"858 266\",\"852 268\",\"847 271\",\"843 276\",\"842 281\",\"842 286\",\"841 299\",\"841 327\",\"841 385\",\"841 418\",\"841 448\",\"841 523\",\"841 558\",\"841 570\",\"843 576\",\"847 582\",\"852 586\",\"858 587\"],\"li\":\"110100033066\"},{\"c\":[\"859 582\",\"854 581\",\"851 578\",\"848 574\",\"847 569\",\"846 558\",\"846 523\",\"846 448\",\"846 418\",\"846 385\",\"846 327\",\"846 299\",\"847 287\",\"848 282\",\"849 279\",\"851 276\",\"854 273\",\"860 271\",\"866 271\",\"883 270\",\"931 270\",\"1015 270\",\"1116 270\",\"1180 270\",\"1188 272\",\"1193 274\",\"1196 277\",\"1197 280\",\"1198 284\",\"1198 288\",\"1198 295\",\"1198 340\",\"1198 379\",\"1198 380\",\"1198 448\",\"1198 502\",\"1198 543\",\"1198 558\",\"1198 565\",\"1198 571\",\"1197 575\",\"1194 578\",\"1190 580\",\"1185 582\",\"1178 583\"],\"li\":\"110100033067\"}],\"ls\":\"110100033066\",\"cl\":\"FCD600\",\"la\":\"\",\"x\":12,\"li\":\"110100033066|110100033067\"},{\"st\":[{\"rs\":\"1258 293\",\"udpx\":\"1261 293;1255 293\",\"su\":\"1\",\"udsu\":\"1;1\",\"n\":\"善各庄\",\"sid\":\"900000028907001\",\"p\":\"1258 293\",\"r\":\"900000028907\",\"udsi\":\"900000028908012;900000028907001\",\"t\":\"0\",\"si\":\"900000028907001\",\"sl\":\"116.478195,40.027160\",\"udli\":\"900000028908;900000028907\",\"poiid\":\"BV10416596\",\"lg\":\"2\",\"sp\":\"shan ge zhuang\"},{\"rs\":\"1258 323\",\"udpx\":\"1261 323;1256 323\",\"su\":\"1\",\"udsu\":\"1;1\",\"n\":\"来广营\",\"sid\":\"900000028907002\",\"p\":\"1258 323\",\"r\":\"900000028907\",\"udsi\":\"900000028908011;900000028907002\",\"t\":\"0\",\"si\":\"900000028907002\",\"sl\":\"116.466994,40.020588\",\"udli\":\"900000028908;900000028907\",\"poiid\":\"BV10416588\",\"lg\":\"2\",\"sp\":\"lai guang ying\"},{\"rs\":\"1259 353\",\"udpx\":\"1262 353;1256 353\",\"su\":\"1\",\"udsu\":\"1;1\",\"n\":\"东湖渠\",\"sid\":\"900000028907003\",\"p\":\"1259 353\",\"r\":\"900000028907\",\"udsi\":\"900000028908010;900000028907003\",\"t\":\"0\",\"si\":\"900000028907003\",\"sl\":\"116.467412,40.010670\",\"udli\":\"900000028908;900000028907\",\"poiid\":\"BV10416590\",\"lg\":\"2\",\"sp\":\"dong hu qu\"},{\"rs\":\"1259 386|1259 386\",\"udpx\":\"1256 386;1262 386\",\"su\":\"1\",\"udsu\":\"1;1\",\"n\":\"望京\",\"sid\":\"110100023070003\",\"p\":\"1259 386\",\"r\":\"900000028907|110100023070\",\"udsi\":\"900000028907004;900000028908009\",\"t\":\"1\",\"si\":\"110100023070003\",\"sl\":\"116.469409,39.998521\",\"udli\":\"900000028907;900000028908\",\"poiid\":\"BV10013356\",\"lg\":\"1\",\"sp\":\"wang jing\"},{\"rs\":\"1265 425\",\"udpx\":\"1263 426;1268 422\",\"su\":\"1\",\"udsu\":\"1;1\",\"n\":\"阜通\",\"sid\":\"900000028907005\",\"p\":\"1267 424\",\"r\":\"900000028907\",\"udsi\":\"900000028907005;900000028908008\",\"t\":\"0\",\"si\":\"900000028907005\",\"sl\":\"116.471740,39.991699\",\"udli\":\"900000028907;900000028908\",\"poiid\":\"BV10416592\",\"lg\":\"2\",\"sp\":\"fu tong\"},{\"rs\":\"1300 456\",\"udpx\":\"1298 458;1302 454\",\"su\":\"1\",\"udsu\":\"1;1\",\"n\":\"望京南\",\"sid\":\"900000028907006\",\"p\":\"1300 456\",\"r\":\"900000028907\",\"udsi\":\"900000028907006;900000028908007\",\"t\":\"0\",\"si\":\"900000028907006\",\"sl\":\"116.481634,39.984634\",\"udli\":\"900000028907;900000028908\",\"poiid\":\"BV10416591\",\"lg\":\"2\",\"sp\":\"wang jing nan\"},{\"rs\":\"1337 522\",\"udpx\":\"1334 522;1339 522\",\"su\":\"1\",\"udsu\":\"1;1\",\"n\":\"将台\",\"sid\":\"900000028907008\",\"p\":\"1337 522\",\"r\":\"900000028907\",\"udsi\":\"900000028907008;900000028908005\",\"t\":\"0\",\"si\":\"900000028907008\",\"sl\":\"116.489496,39.971109\",\"udli\":\"900000028907;900000028908\",\"poiid\":\"BV10416595\",\"lg\":\"2\",\"sp\":\"jiang tai\"},{\"rs\":\"1337 554\",\"udpx\":\"1339 554;1334 554\",\"su\":\"1\",\"udsu\":\"1;1\",\"n\":\"东风北桥\",\"sid\":\"900000028907009\",\"p\":\"1337 554\",\"r\":\"900000028907\",\"udsi\":\"900000028908004;900000028907009\",\"t\":\"0\",\"si\":\"900000028907009\",\"sl\":\"116.485919,39.958375\",\"udli\":\"900000028908;900000028907\",\"poiid\":\"BV10416594\",\"lg\":\"2\",\"sp\":\"dong feng bei qiao\"},{\"rs\":\"1337 586\",\"udpx\":\"1334 586;1339 586\",\"su\":\"1\",\"udsu\":\"1;1\",\"n\":\"枣营\",\"sid\":\"900000028907010\",\"p\":\"1337 586\",\"r\":\"900000028907\",\"udsi\":\"900000028907010;900000028908003\",\"t\":\"0\",\"si\":\"900000028907010\",\"sl\":\"116.474947,39.944132\",\"udli\":\"900000028907;900000028908\",\"poiid\":\"BV10416587\",\"lg\":\"2\",\"sp\":\"zao ying\"},{\"rs\":\"1337 622\",\"udpx\":\"1334 622;1339 622\",\"su\":\"1\",\"udsu\":\"1;1\",\"n\":\"朝阳公园\",\"sid\":\"900000028907011\",\"p\":\"1336 622\",\"r\":\"900000028907\",\"udsi\":\"900000028907011;900000028908002\",\"t\":\"0\",\"si\":\"900000028907011\",\"sl\":\"116.478291,39.933492\",\"udli\":\"900000028907;900000028908\",\"poiid\":\"BV10416593\",\"lg\":\"2\",\"sp\":\"zhao yang gong yuan\"},{\"rs\":\"1337 659|1337 659\",\"udpx\":\"1339 659;1334 659\",\"su\":\"1\",\"udsu\":\"1;1\",\"n\":\"金台路\",\"sid\":\"110100023339008\",\"p\":\"1337 659\",\"r\":\"110100023339|900000028907\",\"udsi\":\"900000028908001;900000028907012\",\"t\":\"1\",\"si\":\"110100023339008\",\"sl\":\"116.478115,39.923556\",\"udli\":\"900000028908;900000028907\",\"poiid\":\"BV10008284\",\"lg\":\"1\",\"sp\":\"jin tai lu\"},{\"rs\":\"1337 720|1337 720\",\"udpx\":\"1339 720;1334 720\",\"su\":\"1\",\"udsu\":\"1;1\",\"n\":\"大望路\",\"sid\":\"110100023110022\",\"p\":\"1337 720\",\"r\":\"110100023110|900000028907\",\"udsi\":\"900000028908024;900000028907014\",\"t\":\"1\",\"si\":\"110100023110022\",\"sl\":\"116.475783,39.908287\",\"udli\":\"900000028908;900000028907\",\"poiid\":\"BV10013364\",\"lg\":\"1\",\"sp\":\"da wang lu\"},{\"rs\":\"1337 800|1337 800\",\"udpx\":\"1334 800;1339 800\",\"su\":\"1\",\"udsu\":\"1;1\",\"n\":\"九龙山\",\"sid\":\"110100023054014\",\"p\":\"1337 800\",\"r\":\"110100023054|900000028907\",\"udsi\":\"900000028907015;900000028908023\",\"t\":\"1\",\"si\":\"110100023054014\",\"sl\":\"116.478695,39.893222\",\"udli\":\"900000028907;900000028908\",\"poiid\":\"BV10006224\",\"lg\":\"1\",\"sp\":\"jiu long shan\"},{\"rs\":\"1337 829\",\"udpx\":\"1339 820;1334 820\",\"su\":\"1\",\"udsu\":\"1;1\",\"n\":\"平乐园\",\"sid\":\"900000028907016\",\"p\":\"1337 829\",\"r\":\"900000028907\",\"udsi\":\"900000028908022;900000028907016\",\"t\":\"0\",\"si\":\"900000028907016\",\"sl\":\"116.477307,39.885275\",\"udli\":\"900000028908;900000028907\",\"poiid\":\"BV10007475\",\"lg\":\"2\",\"sp\":\"ping le yuan\"},{\"rs\":\"1337 846\",\"udpx\":\"1339 842;1334 842\",\"su\":\"1\",\"udsu\":\"1;1\",\"n\":\"北工大西门\",\"sid\":\"900000028907017\",\"p\":\"1337 846\",\"r\":\"900000028907\",\"udsi\":\"900000028908021;900000028907017\",\"t\":\"0\",\"si\":\"900000028907017\",\"sl\":\"116.477319,39.875445\",\"udli\":\"900000028908;900000028907\",\"poiid\":\"BV10590953\",\"lg\":\"3\",\"sp\":\"bei gong da xi men\"},{\"rs\":\"1279 864|1279 864\",\"udpx\":\"1279 867;1279 861\",\"su\":\"1\",\"udsu\":\"1;1\",\"n\":\"十里河\",\"sid\":\"110100023282025\",\"p\":\"1279 864\",\"r\":\"110100023282|900000028907\",\"udsi\":\"900000028908019;900000028907019\",\"t\":\"1\",\"si\":\"110100023282025\",\"sl\":\"116.457983,39.866417\",\"udli\":\"900000028908;900000028907\",\"poiid\":\"BV10013367\",\"lg\":\"3\",\"sp\":\"shi li he\"},{\"rs\":\"1201 864\",\"udpx\":\"1201 861;1201 867\",\"su\":\"1\",\"udsu\":\"1;1\",\"n\":\"方庄\",\"sid\":\"900000028907020\",\"p\":\"1201 864\",\"r\":\"900000028907\",\"udsi\":\"900000028907020;900000028908018\",\"t\":\"0\",\"si\":\"900000028907020\",\"sl\":\"116.440244,39.865868\",\"udli\":\"900000028907;900000028908\",\"poiid\":\"BV10012561\",\"lg\":\"4\",\"sp\":\"fang zhuang\"},{\"rs\":\"1116 864|1116 864\",\"udpx\":\"1116 861;1116 867\",\"su\":\"1\",\"udsu\":\"1;1\",\"n\":\"蒲黄榆\",\"sid\":\"110100023100003\",\"p\":\"1116 864\",\"r\":\"110100023100|900000028907\",\"udsi\":\"900000028907021;900000028908017\",\"t\":\"1\",\"si\":\"110100023100003\",\"sl\":\"116.423720,39.865621\",\"udli\":\"900000028907;900000028908\",\"poiid\":\"BV10006603\",\"lg\":\"1\",\"sp\":\"pu huang yu\"},{\"rs\":\"1079 864\",\"udpx\":\"1079 861;1079 867\",\"su\":\"1\",\"udsu\":\"1;1\",\"n\":\"景泰\",\"sid\":\"900000028907022\",\"p\":\"1079 864\",\"r\":\"900000028907\",\"udsi\":\"900000028907022;900000028908016\",\"t\":\"0\",\"si\":\"900000028907022\",\"sl\":\"116.411027,39.865255\",\"udli\":\"900000028907;900000028908\",\"poiid\":\"BV10590951\",\"lg\":\"4\",\"sp\":\"jing tai\"},{\"rs\":\"1027 864|1027 864\",\"udpx\":\"1032 861;1032 867\",\"su\":\"1\",\"udsu\":\"1;1\",\"n\":\"永定门外\",\"sid\":\"900000028907023\",\"p\":\"1027 864\",\"r\":\"900000040279|900000028907\",\"udsi\":\"900000028907023;900000028908015\",\"t\":\"1\",\"si\":\"900000028907023\",\"sl\":\"116.399369,39.867435\",\"udli\":\"900000028907;900000028908\",\"poiid\":\"BV10013368\",\"lg\":\"1\",\"sp\":\"yong ding men wai\"},{\"rs\":\"928 864|928 864\",\"udpx\":\"928 861;928 867\",\"su\":\"1\",\"udsu\":\"1;1\",\"n\":\"北京南站\",\"sid\":\"110100023050026\",\"p\":\"928 864\",\"r\":\"110100023076|900000028907\",\"udsi\":\"900000028907025;900000028908013\",\"t\":\"1\",\"si\":\"110100023050026\",\"sl\":\"116.378963,39.865029\",\"udli\":\"900000028907;900000028908\",\"poiid\":\"BV10006454\",\"lg\":\"6\",\"sp\":\"bei jing nan zhan\"}],\"ln\":\"14号线东段\",\"su\":\"1\",\"kn\":\"地铁14号线东段\",\"c\":[\"1258 293\",\"1258 323\",\"1259 353\",\"1259 386\",\"1259 413\",\"1260 417\",\"1262 420\",\"1265 425\",\"1300 456\",\"1335 486\",\"1336 488\",\"1336 489\",\"1337 522\",\"1337 554\",\"1337 586\",\"1337 618\",\"1337 622\",\"1337 659\",\"1337 687\",\"1337 720\",\"1337 760\",\"1337 800\",\"1337 820\",\"1337 829\",\"1337 842\",\"1337 846\",\"1337 856\",\"1336 860\",\"1334 863\",\"1330 864\",\"1325 864\",\"1279 864\",\"1201 864\",\"1116 864\",\"1079 864\",\"1027 864\",\"978 864\",\"928 864\"],\"lo\":\"0\",\"lp\":[\"1402 573\"],\"f\":[{\"c\":[\"928 867\",\"978 867\",\"1032 867\",\"1079 867\",\"1116 867\",\"1201 867\",\"1279 867\",\"1325 867\",\"1331 866\",\"1335 865\",\"1338 861\",\"1339 857\",\"1339 842\",\"1339 820\",\"1339 800\",\"1339 760\",\"1339 720\",\"1339 687\",\"1339 659\",\"1339 622\",\"1339 618\",\"1339 586\",\"1339 554\",\"1339 522\",\"1339 489\",\"1339 486\",\"1337 484\",\"1302 454\",\"1268 422\",\"1264 418\",\"1263 416\",\"1262 413\",\"1262 386\",\"1262 353\",\"1261 323\",\"1261 293\"],\"li\":\"900000028908\"},{\"c\":[\"1255 293\",\"1256 323\",\"1256 353\",\"1256 386\",\"1256 414\",\"1257 418\",\"1260 422\",\"1263 426\",\"1298 458\",\"1333 488\",\"1334 489\",\"1334 490\",\"1334 522\",\"1334 554\",\"1334 586\",\"1334 618\",\"1334 622\",\"1334 659\",\"1334 687\",\"1334 720\",\"1334 760\",\"1334 800\",\"1334 820\",\"1334 842\",\"1334 856\",\"1333 859\",\"1332 860\",\"1330 861\",\"1325 861\",\"1279 861\",\"1201 861\",\"1116 861\",\"1079 861\",\"1032 861\",\"978 861\",\"928 861\"],\"li\":\"900000028907\"}],\"ls\":\"900000028907\",\"cl\":\"E4A8A3\",\"la\":\"\",\"x\":13,\"li\":\"900000028907|900000028908\"},{\"st\":[{\"rs\":\"650 852|650 852\",\"udpx\":\"650 855;650 849\",\"su\":\"1\",\"udsu\":\"1;1\",\"n\":\"西局\",\"sid\":\"110100023050032\",\"p\":\"650 852\",\"r\":\"110100023282|110100023068\",\"udsi\":\"110100023069008;110100023068002\",\"t\":\"1\",\"si\":\"110100023050032\",\"sl\":\"116.303819,39.866770\",\"udli\":\"110100023069;110100023068\",\"poiid\":\"BV10000215\",\"lg\":\"2\",\"sp\":\"xi ju\"},{\"rs\":\"619 852|619 852\",\"udpx\":\"620 855;620 849\",\"su\":\"1\",\"udsu\":\"1;1\",\"n\":\"七里庄\",\"sid\":\"110100023068003\",\"p\":\"619 852\",\"r\":\"110100023116|110100023068\",\"udsi\":\"110100023069007;110100023068003\",\"t\":\"1\",\"si\":\"110100023068003\",\"sl\":\"116.294292,39.866773\",\"udli\":\"110100023069;110100023068\",\"poiid\":\"BV10000636\",\"lg\":\"7\",\"sp\":\"qi li zhuang\"},{\"rs\":\"545 852\",\"udpx\":\"545 855;545 849\",\"su\":\"1\",\"udsu\":\"1;1\",\"n\":\"大井\",\"sid\":\"110100023068004\",\"p\":\"545 852\",\"r\":\"110100023068\",\"udsi\":\"110100023069006;110100023068004\",\"t\":\"0\",\"si\":\"110100023068004\",\"sl\":\"116.276061,39.865226\",\"udli\":\"110100023069;110100023068\",\"poiid\":\"BV10006219\",\"lg\":\"0\",\"sp\":\"da jing\"},{\"rs\":\"497 852\",\"udpx\":\"497 855;497 849\",\"su\":\"1\",\"udsu\":\"1;1\",\"n\":\"郭庄子\",\"sid\":\"110100023068005\",\"p\":\"497 852\",\"r\":\"110100023068\",\"udsi\":\"110100023069005;110100023068005\",\"t\":\"0\",\"si\":\"110100023068005\",\"sl\":\"116.253068,39.864841\",\"udli\":\"110100023069;110100023068\",\"poiid\":\"BV10013400\",\"lg\":\"0\",\"sp\":\"guo zhuang zi\"},{\"rs\":\"453 852\",\"udpx\":\"453 855;453 849\",\"su\":\"1\",\"udsu\":\"1;1\",\"n\":\"大瓦窑\",\"sid\":\"110100023068006\",\"p\":\"453 852\",\"r\":\"110100023068\",\"udsi\":\"110100023069004;110100023068006\",\"t\":\"0\",\"si\":\"110100023068006\",\"sl\":\"116.240480,39.859470\",\"udli\":\"110100023069;110100023068\",\"poiid\":\"BV10007072\",\"lg\":\"0\",\"sp\":\"da wa yao\"},{\"rs\":\"410 852\",\"udpx\":\"410 855;410 849\",\"su\":\"1\",\"udsu\":\"1;1\",\"n\":\"园博园\",\"sid\":\"110100023068007\",\"p\":\"410 852\",\"r\":\"110100023068\",\"udsi\":\"110100023069003;110100023068007\",\"t\":\"0\",\"si\":\"110100023068007\",\"sl\":\"116.201643,39.861328\",\"udli\":\"110100023069;110100023068\",\"poiid\":\"BV10013401\",\"lg\":\"0\",\"sp\":\"yuan bo yuan\"},{\"rs\":\"360 852\",\"udpx\":\"360 855;360 849\",\"su\":\"1\",\"udsu\":\"1;1\",\"n\":\"张郭庄\",\"sid\":\"110100023068008\",\"p\":\"360 852\",\"r\":\"110100023068\",\"udsi\":\"110100023069002;110100023068008\",\"t\":\"0\",\"si\":\"110100023068008\",\"sl\":\"116.187193,39.858100\",\"udli\":\"110100023069;110100023068\",\"poiid\":\"BV10006917\",\"lg\":\"0\",\"sp\":\"zhang guo zhuang\"}],\"ln\":\"14号线西段\",\"su\":\"1\",\"kn\":\"地铁14号线西段\",\"c\":[\"650 852\",\"620 852\",\"619 852\",\"545 852\",\"497 852\",\"453 852\",\"410 852\",\"360 852\"],\"lo\":\"0\",\"lp\":[\"424 884\"],\"f\":[{\"c\":[\"360 855\",\"410 855\",\"453 855\",\"497 855\",\"545 855\",\"620 855\",\"650 855\"],\"li\":\"110100023069\"},{\"c\":[\"650 849\",\"620 849\",\"545 849\",\"497 849\",\"453 849\",\"410 849\",\"360 849\"],\"li\":\"110100023068\"}],\"ls\":\"110100023068\",\"cl\":\"E4A8A3\",\"la\":\"\",\"x\":14,\"li\":\"110100023068|110100023069\"},{\"st\":[{\"rs\":\"1469 143\",\"udpx\":\"1469 146;1469 140\",\"su\":\"1\",\"udsu\":\"1;1\",\"n\":\"俸伯\",\"sid\":\"110100023070014\",\"p\":\"1469 143\",\"r\":\"110100023070\",\"udsi\":\"110100023070014;110100023071002\",\"t\":\"0\",\"si\":\"110100023070014\",\"sl\":\"116.684732,40.132573\",\"udli\":\"110100023070;110100023071\",\"poiid\":\"BV10002186\",\"lg\":\"4\",\"sp\":\"feng bo\"},{\"rs\":\"1434 143\",\"udpx\":\"1434 146;1434 140\",\"su\":\"1\",\"udsu\":\"1;1\",\"n\":\"顺义\",\"sid\":\"110100023070013\",\"p\":\"1434 143\",\"r\":\"110100023070\",\"udsi\":\"110100023070013;110100023071003\",\"t\":\"0\",\"si\":\"110100023070013\",\"sl\":\"116.657023,40.129994\",\"udli\":\"110100023070;110100023071\",\"poiid\":\"BV10013405\",\"lg\":\"4\",\"sp\":\"shun yi\"},{\"rs\":\"1396 143\",\"udpx\":\"1396 146;1396 140\",\"su\":\"1\",\"udsu\":\"1;1\",\"n\":\"石门\",\"sid\":\"110100023070012\",\"p\":\"1396 143\",\"r\":\"110100023070\",\"udsi\":\"110100023070012;110100023071004\",\"t\":\"0\",\"si\":\"110100023070012\",\"sl\":\"116.641117,40.129802\",\"udli\":\"110100023070;110100023071\",\"poiid\":\"BV10013404\",\"lg\":\"4\",\"sp\":\"shi men\"},{\"rs\":\"1357 143\",\"udpx\":\"1357 146;1357 140\",\"su\":\"1\",\"udsu\":\"1;1\",\"n\":\"南法信\",\"sid\":\"110100023070011\",\"p\":\"1357 143\",\"r\":\"110100023070\",\"udsi\":\"110100023070011;110100023071005\",\"t\":\"0\",\"si\":\"110100023070011\",\"sl\":\"116.609535,40.128478\",\"udli\":\"110100023070;110100023071\",\"poiid\":\"BV10002190\",\"lg\":\"0\",\"sp\":\"nan fa xin\"},{\"rs\":\"1344 177\",\"udpx\":\"1347 177;1341 177\",\"su\":\"1\",\"udsu\":\"1;1\",\"n\":\"后沙峪\",\"sid\":\"110100023070010\",\"p\":\"1344 177\",\"r\":\"110100023070\",\"udsi\":\"110100023070010;110100023071006\",\"t\":\"0\",\"si\":\"110100023070010\",\"sl\":\"116.564211,40.114127\",\"udli\":\"110100023070;110100023071\",\"poiid\":\"BV10009387\",\"lg\":\"2\",\"sp\":\"hou sha yu\"},{\"rs\":\"1344 211\",\"udpx\":\"1347 211;1341 211\",\"su\":\"1\",\"udsu\":\"1;1\",\"n\":\"花梨坎\",\"sid\":\"110100023070009\",\"p\":\"1344 211\",\"r\":\"110100023070\",\"udsi\":\"110100023070009;110100023071007\",\"t\":\"0\",\"si\":\"110100023070009\",\"sl\":\"116.557593,40.084436\",\"udli\":\"110100023070;110100023071\",\"poiid\":\"BV10002223\",\"lg\":\"2\",\"sp\":\"hua li kan\"},{\"rs\":\"1344 246\",\"udpx\":\"1347 246;1341 246\",\"su\":\"1\",\"udsu\":\"1;1\",\"n\":\"国展\",\"sid\":\"110100023070008\",\"p\":\"1344 246\",\"r\":\"110100023070\",\"udsi\":\"110100023070008;110100023071008\",\"t\":\"0\",\"si\":\"110100023070008\",\"sl\":\"116.555127,40.070030\",\"udli\":\"110100023070;110100023071\",\"poiid\":\"BV10013403\",\"lg\":\"2\",\"sp\":\"guo zhan\"},{\"rs\":\"1344 279\",\"udpx\":\"1347 279;1341 279\",\"su\":\"1\",\"udsu\":\"1;1\",\"n\":\"孙河\",\"sid\":\"110100023070007\",\"p\":\"1344 279\",\"r\":\"110100023070\",\"udsi\":\"110100023070007;110100023071009\",\"t\":\"0\",\"si\":\"110100023070007\",\"sl\":\"116.534700,40.045113\",\"udli\":\"110100023070;110100023071\",\"poiid\":\"BV10002193\",\"lg\":\"2\",\"sp\":\"sun he\"},{\"rs\":\"1344 313\",\"udpx\":\"1341 313;1347 313\",\"su\":\"1\",\"udsu\":\"1;1\",\"n\":\"马泉营\",\"sid\":\"110100023070006\",\"p\":\"1344 313\",\"r\":\"110100023070\",\"udsi\":\"110100023071010;110100023070006\",\"t\":\"0\",\"si\":\"110100023070006\",\"sl\":\"116.503480,40.033721\",\"udli\":\"110100023071;110100023070\",\"poiid\":\"BV10011274\",\"lg\":\"2\",\"sp\":\"ma quan ying\"},{\"rs\":\"1344 348\",\"udpx\":\"1341 348;1347 348\",\"su\":\"1\",\"udsu\":\"1;1\",\"n\":\"崔各庄\",\"sid\":\"110100023070005\",\"p\":\"1344 348\",\"r\":\"110100023070\",\"udsi\":\"110100023071011;110100023070005\",\"t\":\"0\",\"si\":\"110100023070005\",\"sl\":\"116.492968,40.022201\",\"udli\":\"110100023071;110100023070\",\"poiid\":\"BV10000963\",\"lg\":\"2\",\"sp\":\"cui ge zhuang\"},{\"rs\":\"1336 381\",\"udpx\":\"1335 378;1338 383\",\"su\":\"1\",\"udsu\":\"1;1\",\"n\":\"望京东\",\"sid\":\"110100023070004\",\"p\":\"1336 381\",\"r\":\"110100023070\",\"udsi\":\"110100023071012;110100023070004\",\"t\":\"0\",\"si\":\"110100023070004\",\"sl\":\"116.487105,40.003200\",\"udli\":\"110100023071;110100023070\",\"poiid\":\"BV10013402\",\"lg\":\"2\",\"sp\":\"wang jing dong\"},{\"rs\":\"1259 386|1259 386\",\"udpx\":\"1259 389;1259 383\",\"su\":\"1\",\"udsu\":\"1;1\",\"n\":\"望京\",\"sid\":\"110100023070003\",\"p\":\"1259 386\",\"r\":\"900000028907|110100023070\",\"udsi\":\"110100023070003;110100023071013\",\"t\":\"1\",\"si\":\"110100023070003\",\"sl\":\"116.469409,39.998521\",\"udli\":\"110100023070;110100023071\",\"poiid\":\"BV10013356\",\"lg\":\"1\",\"sp\":\"wang jing\"},{\"rs\":\"1201 386|1201 386\",\"udpx\":\"1201 389;1201 383\",\"su\":\"1\",\"udsu\":\"1;1\",\"n\":\"望京西\",\"sid\":\"110100023070002\",\"p\":\"1201 386\",\"r\":\"110100033066|110100023070\",\"udsi\":\"110100023070002;110100023071014\",\"t\":\"1\",\"si\":\"110100023070002\",\"sl\":\"116.449884,39.995724\",\"udli\":\"110100023070;110100023071\",\"poiid\":\"BV10013377\",\"lg\":\"1\",\"sp\":\"wang jing xi\"},{\"rs\":\"1160 386\",\"udpx\":\"1160 389;1160 383\",\"su\":\"1\",\"udsu\":\"1;1\",\"n\":\"关庄\",\"sid\":\"110100023070021\",\"p\":\"1160 386\",\"r\":\"110100023070\",\"udsi\":\"110100023070021;110100023071015\",\"t\":\"0\",\"si\":\"110100023070021\",\"sl\":\"116.430947,40.001134\",\"udli\":\"110100023070;110100023071\",\"poiid\":\"BV10416640\",\"lg\":\"4\",\"sp\":\"guan zhuang\"},{\"rs\":\"1116 386|1116 386\",\"udpx\":\"1116 388;1116 383\",\"su\":\"1\",\"udsu\":\"1;1\",\"n\":\"大屯路东\",\"sid\":\"110100023070020\",\"p\":\"1116 386\",\"r\":\"110100023100|110100023070\",\"udsi\":\"110100023070020;110100023071016\",\"t\":\"1\",\"si\":\"110100023070020\",\"sl\":\"116.417377,40.003841\",\"udli\":\"110100023070;110100023071\",\"poiid\":\"BV10013376\",\"lg\":\"1\",\"sp\":\"da tun lu dong\"},{\"rs\":\"1065 385\",\"udpx\":\"1065 382;1065 388\",\"su\":\"1\",\"udsu\":\"1;1\",\"n\":\"安立路\",\"sid\":\"110100023070019\",\"p\":\"1065 385\",\"r\":\"110100023070\",\"udsi\":\"110100023071017;110100023070019\",\"t\":\"0\",\"si\":\"110100023070019\",\"sl\":\"116.407845,40.002619\",\"udli\":\"110100023071;110100023070\",\"poiid\":\"BV10416647\",\"lg\":\"4\",\"sp\":\"an li lu\"},{\"rs\":\"1002 384|1002 384\",\"udpx\":\"1002 381;1002 387\",\"su\":\"1\",\"udsu\":\"1;1\",\"n\":\"奥林匹克公园\",\"sid\":\"110100023070018\",\"p\":\"1002 384\",\"r\":\"110100023114|110100023070\",\"udsi\":\"110100023071018;110100023070018\",\"t\":\"1\",\"si\":\"110100023070018\",\"sl\":\"116.391758,40.002207\",\"udli\":\"110100023071;110100023070\",\"poiid\":\"BV10013375\",\"lg\":\"1\",\"sp\":\"ao lin pi ke gong yuan\"},{\"rs\":\"976 384\",\"udpx\":\"976 381;976 387\",\"su\":\"1\",\"udsu\":\"1;1\",\"n\":\"北沙滩\",\"sid\":\"110100023070017\",\"p\":\"976 384\",\"r\":\"110100023070\",\"udsi\":\"110100023071019;110100023070017\",\"t\":\"0\",\"si\":\"110100023070017\",\"sl\":\"116.368143,40.001492\",\"udli\":\"110100023071;110100023070\",\"poiid\":\"BV10416650\",\"lg\":\"0\",\"sp\":\"bei sha tan\"},{\"rs\":\"923 384\",\"udpx\":\"923 381;923 386\",\"su\":\"1\",\"udsu\":\"1;1\",\"n\":\"六道口\",\"sid\":\"110100023070016\",\"p\":\"923 384\",\"r\":\"110100023070\",\"udsi\":\"110100023071020;110100023070016\",\"t\":\"0\",\"si\":\"110100023070016\",\"sl\":\"116.352670,40.000958\",\"udli\":\"110100023071;110100023070\",\"poiid\":\"BV10416642\",\"lg\":\"0\",\"sp\":\"liu dao kou\"},{\"rs\":\"883 383\",\"udpx\":\"883 380;883 386\",\"su\":\"1\",\"udsu\":\"1;1\",\"n\":\"清华东路西口\",\"sid\":\"110100023070015\",\"p\":\"883 383\",\"r\":\"110100023070\",\"udsi\":\"110100023071021;110100023070015\",\"t\":\"0\",\"si\":\"110100023070015\",\"sl\":\"116.339530,40.000673\",\"udli\":\"110100023071;110100023070\",\"poiid\":\"BV10416646\",\"lg\":\"4\",\"sp\":\"qing hua dong lu xi kou\"}],\"ln\":\"15号线\",\"su\":\"1\",\"kn\":\"地铁15号线\",\"c\":[\"883 383\",\"923 384\",\"976 384\",\"1002 384\",\"1065 385\",\"1116 386\",\"1160 386\",\"1201 386\",\"1259 386\",\"1318 386\",\"1326 385\",\"1332 383\",\"1336 381\",\"1340 377\",\"1342 373\",\"1343 367\",\"1344 359\",\"1344 348\",\"1344 313\",\"1344 279\",\"1344 246\",\"1344 211\",\"1344 177\",\"1344 147\",\"1344 145\",\"1344 144\",\"1346 143\",\"1348 143\",\"1351 143\",\"1357 143\",\"1396 143\",\"1434 143\",\"1469 143\"],\"lo\":\"0\",\"lp\":[\"1433 203\"],\"f\":[{\"c\":[\"1469 140\",\"1434 140\",\"1396 140\",\"1357 140\",\"1351 140\",\"1347 140\",\"1344 140\",\"1342 142\",\"1341 145\",\"1341 147\",\"1341 177\",\"1341 211\",\"1341 246\",\"1341 279\",\"1341 313\",\"1341 348\",\"1341 359\",\"1340 367\",\"1339 372\",\"1337 376\",\"1335 378\",\"1331 381\",\"1326 382\",\"1318 383\",\"1259 383\",\"1201 383\",\"1160 383\",\"1116 383\",\"1065 382\",\"1002 381\",\"976 381\",\"923 381\",\"883 380\"],\"li\":\"110100023071\"},{\"c\":[\"883 386\",\"923 386\",\"976 387\",\"1002 387\",\"1065 388\",\"1116 388\",\"1160 389\",\"1201 389\",\"1259 389\",\"1319 389\",\"1327 388\",\"1333 386\",\"1338 383\",\"1342 379\",\"1344 374\",\"1346 368\",\"1347 359\",\"1347 348\",\"1347 313\",\"1347 279\",\"1347 246\",\"1347 211\",\"1347 177\",\"1347 147\",\"1347 146\",\"1347 146\",\"1347 146\",\"1348 146\",\"1351 146\",\"1357 146\",\"1396 146\",\"1434 146\",\"1469 146\"],\"li\":\"110100023070\"}],\"ls\":\"110100023070\",\"cl\":\"793E8C\",\"la\":\"\",\"x\":15,\"li\":\"110100023070|110100023071\"},{\"st\":[{\"rs\":\"354 173\",\"udpx\":\"354 170;354 176\",\"su\":\"1\",\"udsu\":\"1;1\",\"n\":\"北安河\",\"sid\":\"900000062236001\",\"p\":\"354 173\",\"r\":\"900000062236\",\"udsi\":\"900000062237010;900000062236001\",\"t\":\"0\",\"si\":\"900000062236001\",\"sl\":\"116.130428,40.068128\",\"udli\":\"900000062237;900000062236\",\"poiid\":\"BV10740312\",\"lg\":\"0\",\"sp\":\"bei an he\"},{\"rs\":\"420 173\",\"udpx\":\"420 170;420 176\",\"su\":\"1\",\"udsu\":\"1;1\",\"n\":\"温阳路\",\"sid\":\"900000062236002\",\"p\":\"420 173\",\"r\":\"900000062236\",\"udsi\":\"900000062237009;900000062236002\",\"t\":\"0\",\"si\":\"900000062236002\",\"sl\":\"116.161361,40.068516\",\"udli\":\"900000062237;900000062236\",\"poiid\":\"BV10740317\",\"lg\":\"0\",\"sp\":\"wen yang lu\"},{\"rs\":\"481 173\",\"udpx\":\"481 170;481 176\",\"su\":\"1\",\"udsu\":\"1;1\",\"n\":\"稻香湖路\",\"sid\":\"900000062236003\",\"p\":\"481 173\",\"r\":\"900000062236\",\"udsi\":\"900000062237008;900000062236003\",\"t\":\"0\",\"si\":\"900000062236003\",\"sl\":\"116.188145,40.068936\",\"udli\":\"900000062237;900000062236\",\"poiid\":\"BV10711029\",\"lg\":\"0\",\"sp\":\"dao xiang hu lu\"},{\"rs\":\"541 173\",\"udpx\":\"541 170;541 176\",\"su\":\"1\",\"udsu\":\"1;1\",\"n\":\"屯佃\",\"sid\":\"900000062236004\",\"p\":\"541 173\",\"r\":\"900000062236\",\"udsi\":\"900000062237007;900000062236004\",\"t\":\"0\",\"si\":\"900000062236004\",\"sl\":\"116.215850,40.068454\",\"udli\":\"900000062237;900000062236\",\"poiid\":\"BV10740314\",\"lg\":\"0\",\"sp\":\"tun dian\"},{\"rs\":\"606 173\",\"udpx\":\"606 170;606 176\",\"su\":\"1\",\"udsu\":\"1;1\",\"n\":\"永丰\",\"sid\":\"900000062236005\",\"p\":\"606 173\",\"r\":\"900000062236\",\"udsi\":\"900000062237006;900000062236005\",\"t\":\"0\",\"si\":\"900000062236005\",\"sl\":\"116.238481,40.071868\",\"udli\":\"900000062237;900000062236\",\"poiid\":\"BV10740319\",\"lg\":\"0\",\"sp\":\"yong feng\"},{\"rs\":\"635 208\",\"udpx\":\"637 208;632 208\",\"su\":\"1\",\"udsu\":\"1;1\",\"n\":\"永丰南\",\"sid\":\"900000062236006\",\"p\":\"635 208\",\"r\":\"900000062236\",\"udsi\":\"900000062237005;900000062236006\",\"t\":\"0\",\"si\":\"900000062236006\",\"sl\":\"116.248154,40.065575\",\"udli\":\"900000062237;900000062236\",\"poiid\":\"BV10740315\",\"lg\":\"2\",\"sp\":\"yong feng nan\"},{\"rs\":\"635 239\",\"udpx\":\"638 239;632 239\",\"su\":\"1\",\"udsu\":\"1;1\",\"n\":\"西北旺\",\"sid\":\"900000062236007\",\"p\":\"635 239\",\"r\":\"900000062236\",\"udsi\":\"900000062237004;900000062236007\",\"t\":\"0\",\"si\":\"900000062236007\",\"sl\":\"116.257923,40.048703\",\"udli\":\"900000062237;900000062236\",\"poiid\":\"BV10740313\",\"lg\":\"2\",\"sp\":\"xi bei wang\"},{\"rs\":\"636 269\",\"udpx\":\"633 269;638 269\",\"su\":\"1\",\"udsu\":\"1;1\",\"n\":\"马连洼\",\"sid\":\"900000062236008\",\"p\":\"636 269\",\"r\":\"900000062236\",\"udsi\":\"900000062236008;900000062237003\",\"t\":\"0\",\"si\":\"900000062236008\",\"sl\":\"116.272520,40.032637\",\"udli\":\"900000062236;900000062237\",\"poiid\":\"BV10740318\",\"lg\":\"2\",\"sp\":\"ma lian wa\"},{\"rs\":\"636 299\",\"udpx\":\"633 299;639 299\",\"su\":\"1\",\"udsu\":\"1;1\",\"n\":\"农大南路\",\"sid\":\"900000062236009\",\"p\":\"636 299\",\"r\":\"900000062236\",\"udsi\":\"900000062236009;900000062237002\",\"t\":\"0\",\"si\":\"900000062236009\",\"sl\":\"116.282272,40.021398\",\"udli\":\"900000062236;900000062237\",\"poiid\":\"BV10740316\",\"lg\":\"2\",\"sp\":\"nong da nan lu\"},{\"rs\":\"636 331|636 331\",\"udpx\":\"634 331;639 331\",\"su\":\"1\",\"udsu\":\"1;1\",\"n\":\"西苑\",\"sid\":\"110100023076004\",\"p\":\"636 331\",\"r\":\"110100023076|900000062236\",\"udsi\":\"900000062236010;900000062237001\",\"t\":\"1\",\"si\":\"110100023076004\",\"sl\":\"116.290908,39.998258\",\"udli\":\"900000062236;900000062237\",\"poiid\":\"BV10000920\",\"lg\":\"4\",\"sp\":\"xi yuan\"}],\"ln\":\"16号线\",\"su\":\"1\",\"kn\":\"地铁16号线\",\"c\":[\"636 331\",\"636 315\",\"636 299\",\"636 269\",\"635 239\",\"635 208\",\"634 197\",\"634 189\",\"633 183\",\"630 178\",\"625 175\",\"618 173\",\"607 173\",\"606 173\",\"572 173\",\"541 173\",\"481 173\",\"420 173\",\"354 173\"],\"lo\":\"0\",\"lp\":[\"454 122\"],\"f\":[{\"c\":[\"354 176\",\"420 176\",\"481 176\",\"541 176\",\"572 176\",\"606 176\",\"607 176\",\"617 176\",\"624 178\",\"628 180\",\"630 184\",\"631 190\",\"632 197\",\"632 208\",\"632 239\",\"633 269\",\"633 299\",\"633 315\",\"634 331\"],\"li\":\"900000062236\"},{\"c\":[\"639 331\",\"639 315\",\"639 299\",\"638 269\",\"638 239\",\"637 208\",\"637 197\",\"637 189\",\"636 182\",\"632 176\",\"626 172\",\"618 170\",\"607 170\",\"606 170\",\"572 170\",\"541 170\",\"481 170\",\"420 170\",\"354 170\"],\"li\":\"900000062237\"}],\"ls\":\"900000062236\",\"cl\":\"6CB46B\",\"la\":\"\",\"x\":16,\"li\":\"900000062236|900000062237\"},{\"st\":[{\"rs\":\"1374 720|1374 728\",\"udpx\":\"1374 731;1374 726\",\"su\":\"1\",\"udsu\":\"1;1\",\"n\":\"四惠\",\"sid\":\"110100023110023\",\"p\":\"1374 724\",\"r\":\"110100023110|110100033086\",\"udsi\":\"110100033086002;110100033087014\",\"t\":\"1\",\"si\":\"110100023110023\",\"sl\":\"116.495456,39.908749\",\"udli\":\"110100033086;110100033087\",\"poiid\":\"BV10000275\",\"lg\":\"4\",\"sp\":\"si hui\"},{\"rs\":\"1409 720|1409 728\",\"udpx\":\"1409 731;1409 726\",\"su\":\"1\",\"udsu\":\"1;1\",\"n\":\"四惠东\",\"sid\":\"110100023110024\",\"p\":\"1409 724\",\"r\":\"110100023110|110100033086\",\"udsi\":\"110100033086003;110100033087013\",\"t\":\"1\",\"si\":\"110100023110024\",\"sl\":\"116.515664,39.908495\",\"udli\":\"110100033086;110100033087\",\"poiid\":\"BV10007589\",\"lg\":\"4\",\"sp\":\"si hui dong\"},{\"rs\":\"1463 728\",\"udpx\":\"1463 731;1463 726\",\"su\":\"1\",\"udsu\":\"1;1\",\"n\":\"高碑店\",\"sid\":\"110100033086004\",\"p\":\"1463 728\",\"r\":\"110100033086\",\"udsi\":\"110100033086004;110100033087012\",\"t\":\"0\",\"si\":\"110100033086004\",\"sl\":\"116.531421,39.909448\",\"udli\":\"110100033086;110100033087\",\"poiid\":\"BV10013517\",\"lg\":\"4\",\"sp\":\"gao bei dian\"},{\"rs\":\"1522 728\",\"udpx\":\"1522 731;1522 726\",\"su\":\"1\",\"udsu\":\"1;1\",\"n\":\"传媒大学\",\"sid\":\"110100033086005\",\"p\":\"1522 728\",\"r\":\"110100033086\",\"udsi\":\"110100033086005;110100033087011\",\"t\":\"0\",\"si\":\"110100033086005\",\"sl\":\"116.554639,39.909215\",\"udli\":\"110100033086;110100033087\",\"poiid\":\"BV10013518\",\"lg\":\"4\",\"sp\":\"chuan mei da xue\"},{\"rs\":\"1564 728\",\"udpx\":\"1564 726;1564 731\",\"su\":\"1\",\"udsu\":\"1;1\",\"n\":\"双桥\",\"sid\":\"110100033086006\",\"p\":\"1564 728\",\"r\":\"110100033086\",\"udsi\":\"110100033087010;110100033086006\",\"t\":\"0\",\"si\":\"110100033086006\",\"sl\":\"116.576709,39.910139\",\"udli\":\"110100033087;110100033086\",\"poiid\":\"BV10013519\",\"lg\":\"4\",\"sp\":\"shuang qiao\"},{\"rs\":\"1603 728\",\"udpx\":\"1603 731;1603 726\",\"su\":\"1\",\"udsu\":\"1;1\",\"n\":\"管庄\",\"sid\":\"110100033086007\",\"p\":\"1603 728\",\"r\":\"110100033086\",\"udsi\":\"110100033086007;110100033087009\",\"t\":\"0\",\"si\":\"110100033086007\",\"sl\":\"116.599002,39.909090\",\"udli\":\"110100033086;110100033087\",\"poiid\":\"BV10004294\",\"lg\":\"4\",\"sp\":\"guan zhuang\"},{\"rs\":\"1646 729\",\"udpx\":\"1646 731;1646 726\",\"su\":\"1\",\"udsu\":\"1;1\",\"n\":\"八里桥\",\"sid\":\"110100033086008\",\"p\":\"1646 729\",\"r\":\"110100033086\",\"udsi\":\"110100033086008;110100033087008\",\"t\":\"0\",\"si\":\"110100033086008\",\"sl\":\"116.618658,39.906121\",\"udli\":\"110100033086;110100033087\",\"poiid\":\"BV10001118\",\"lg\":\"0\",\"sp\":\"ba li qiao\"},{\"rs\":\"1688 775\",\"udpx\":\"1690 773;1686 777\",\"su\":\"1\",\"udsu\":\"1;1\",\"n\":\"通州北苑\",\"sid\":\"110100033086009\",\"p\":\"1688 775\",\"r\":\"110100033086\",\"udsi\":\"110100033087007;110100033086009\",\"t\":\"0\",\"si\":\"110100033086009\",\"sl\":\"116.637252,39.903864\",\"udli\":\"110100033087;110100033086\",\"poiid\":\"BV10004143\",\"lg\":\"2\",\"sp\":\"tong zhou bei yuan\"},{\"rs\":\"1711 809\",\"udpx\":\"1709 811;1714 808\",\"su\":\"1\",\"udsu\":\"1;1\",\"n\":\"果园\",\"sid\":\"110100033086010\",\"p\":\"1711 809\",\"r\":\"110100033086\",\"udsi\":\"110100033086010;110100033087006\",\"t\":\"0\",\"si\":\"110100033086010\",\"sl\":\"116.646606,39.893393\",\"udli\":\"110100033086;110100033087\",\"poiid\":\"BV10004141\",\"lg\":\"2\",\"sp\":\"guo yuan\"},{\"rs\":\"1732 840\",\"udpx\":\"1734 838;1730 842\",\"su\":\"1\",\"udsu\":\"1;1\",\"n\":\"九棵树\",\"sid\":\"110100033086011\",\"p\":\"1732 840\",\"r\":\"110100033086\",\"udsi\":\"110100033087005;110100033086011\",\"t\":\"0\",\"si\":\"110100033086011\",\"sl\":\"116.657533,39.890278\",\"udli\":\"110100033087;110100033086\",\"poiid\":\"BV10001298\",\"lg\":\"2\",\"sp\":\"jiu ke shu\"},{\"rs\":\"1753 871\",\"udpx\":\"1756 869;1751 873\",\"su\":\"1\",\"udsu\":\"1;1\",\"n\":\"梨园\",\"sid\":\"110100033086012\",\"p\":\"1753 871\",\"r\":\"110100033086\",\"udsi\":\"110100033087004;110100033086012\",\"t\":\"0\",\"si\":\"110100033086012\",\"sl\":\"116.668720,39.883677\",\"udli\":\"110100033087;110100033086\",\"poiid\":\"BV10002455\",\"lg\":\"2\",\"sp\":\"li yuan\"},{\"rs\":\"1775 904\",\"udpx\":\"1773 905;1778 902\",\"su\":\"1\",\"udsu\":\"1;1\",\"n\":\"临河里\",\"sid\":\"110100033086013\",\"p\":\"1775 904\",\"r\":\"110100033086\",\"udsi\":\"110100033086013;110100033087003\",\"t\":\"0\",\"si\":\"110100033086013\",\"sl\":\"116.678811,39.875496\",\"udli\":\"110100033086;110100033087\",\"poiid\":\"BV10013520\",\"lg\":\"2\",\"sp\":\"lin he li\"},{\"rs\":\"1798 937\",\"udpx\":\"1796 939;1801 936\",\"su\":\"1\",\"udsu\":\"1;1\",\"n\":\"土桥\",\"sid\":\"110100033086014\",\"p\":\"1798 937\",\"r\":\"110100033086\",\"udsi\":\"110100033086014;110100033087002\",\"t\":\"0\",\"si\":\"110100033086014\",\"sl\":\"116.686349,39.871926\",\"udli\":\"110100033086;110100033087\",\"poiid\":\"BV10004138\",\"lg\":\"2\",\"sp\":\"tu qiao\"},{\"rs\":\"1820 1000|1820 1000\",\"udpx\":\"1818 999;1823 1002\",\"su\":\"1\",\"udsu\":\"1;1\",\"n\":\"花庄\",\"sid\":\"110100023054032\",\"p\":\"1820 1000\",\"r\":\"110100023054|110100033086\",\"udsi\":\"110100033086015;110100033087016\",\"t\":\"1\",\"si\":\"110100023054032\",\"sl\":\"116.695495,39.856722\",\"udli\":\"110100033086;110100033087\",\"poiid\":\"BV11253781\",\"lg\":\"2\",\"sp\":\"HuaZhuang\"}],\"ln\":\"八通线\",\"su\":\"1\",\"kn\":\"地铁八通线\",\"c\":[\"1373 728\",\"1374 728\",\"1409 728\",\"1463 728\",\"1521 728\",\"1522 728\",\"1564 728\",\"1603 728\",\"1646 729\",\"1648 729\",\"1653 729\",\"1656 730\",\"1659 732\",\"1688 775\",\"1711 809\",\"1732 840\",\"1753 871\",\"1775 904\",\"1798 937\",\"1816 963\",\"1822 972\",\"1826 981\",\"1827 987\",\"1825 992\",\"1820 1000\"],\"lo\":\"0\",\"lp\":[\"1570 772\"],\"f\":[{\"c\":[\"1823 1002\",\"1828 993\",\"1830 987\",\"1829 980\",\"1825 971\",\"1818 961\",\"1801 936\",\"1778 902\",\"1756 869\",\"1734 838\",\"1714 808\",\"1690 773\",\"1661 730\",\"1657 728\",\"1653 726\",\"1648 726\",\"1646 726\",\"1603 726\",\"1564 726\",\"1522 726\",\"1521 726\",\"1463 726\",\"1409 726\",\"1374 726\",\"1373 726\"],\"li\":\"110100033087\"},{\"c\":[\"1373 731\",\"1374 731\",\"1409 731\",\"1463 731\",\"1521 731\",\"1522 731\",\"1564 731\",\"1603 731\",\"1646 731\",\"1648 731\",\"1652 732\",\"1655 733\",\"1657 734\",\"1686 777\",\"1709 811\",\"1730 842\",\"1751 873\",\"1773 905\",\"1796 939\",\"1814 964\",\"1820 974\",\"1823 982\",\"1824 987\",\"1823 991\",\"1818 999\"],\"li\":\"110100033086\"}],\"ls\":\"110100033086\",\"cl\":\"CC0000\",\"la\":\"\",\"x\":17,\"li\":\"110100033086|110100033087\"},{\"st\":[{\"rs\":\"520 0\",\"udpx\":\"520 -3;520 3\",\"su\":\"1\",\"udsu\":\"1;1\",\"n\":\"昌平西山口\",\"sid\":\"110100023118009\",\"p\":\"520 0\",\"r\":\"110100023118\",\"udsi\":\"110100023119013;110100023118009\",\"t\":\"0\",\"si\":\"110100023118009\",\"sl\":\"116.195371,40.244624\",\"udli\":\"110100023119;110100023118\",\"poiid\":\"BV10550714\",\"lg\":\"6\",\"sp\":\"chang ping xi shan kou\"},{\"rs\":\"586 13\",\"udpx\":\"584 15;588 11\",\"su\":\"1\",\"udsu\":\"1;1\",\"n\":\"十三陵景区\",\"sid\":\"110100023118010\",\"p\":\"586 13\",\"r\":\"110100023118\",\"udsi\":\"110100023118010;110100023119012\",\"t\":\"0\",\"si\":\"110100023118010\",\"sl\":\"116.207729,40.240255\",\"udli\":\"110100023118;110100023119\",\"poiid\":\"BV10013483\",\"lg\":\"2\",\"sp\":\"shi san ling jing qu\"},{\"rs\":\"654 48\",\"udpx\":\"654 45;654 51\",\"su\":\"1\",\"udsu\":\"1;1\",\"n\":\"昌平\",\"sid\":\"110100023118011\",\"p\":\"654 48\",\"r\":\"110100023118\",\"udsi\":\"110100023119011;110100023118011\",\"t\":\"0\",\"si\":\"110100023118011\",\"sl\":\"116.233590,40.220550\",\"udli\":\"110100023119;110100023118\",\"poiid\":\"BV10013482\",\"lg\":\"0\",\"sp\":\"chang ping\"},{\"rs\":\"733 48\",\"udpx\":\"733 45;733 51\",\"su\":\"1\",\"udsu\":\"1;1\",\"n\":\"昌平东关\",\"sid\":\"110100023118012\",\"p\":\"733 48\",\"r\":\"110100023118\",\"udsi\":\"110100023119010;110100023118012\",\"t\":\"0\",\"si\":\"110100023118012\",\"sl\":\"116.262059,40.221726\",\"udli\":\"110100023119;110100023118\",\"poiid\":\"BV10550716\",\"lg\":\"4\",\"sp\":\"chang ping dong guan\"},{\"rs\":\"818 48\",\"udpx\":\"818 51;818 45\",\"su\":\"1\",\"udsu\":\"1;1\",\"n\":\"北邵洼\",\"sid\":\"110100023118013\",\"p\":\"818 48\",\"r\":\"110100023118\",\"udsi\":\"110100023118013;110100023119009\",\"t\":\"0\",\"si\":\"110100023118013\",\"sl\":\"116.281949,40.222001\",\"udli\":\"110100023118;110100023119\",\"poiid\":\"BV10550715\",\"lg\":\"0\",\"sp\":\"bei shao wa\"},{\"rs\":\"843 82\",\"udpx\":\"846 82;841 82\",\"su\":\"1\",\"udsu\":\"1;1\",\"n\":\"南邵\",\"sid\":\"110100023118002\",\"p\":\"843 82\",\"r\":\"110100023118\",\"udsi\":\"110100023119008;110100023118002\",\"t\":\"0\",\"si\":\"110100023118002\",\"sl\":\"116.287534,40.207492\",\"udli\":\"110100023119;110100023118\",\"poiid\":\"BV10001633\",\"lg\":\"6\",\"sp\":\"nan shao\"},{\"rs\":\"843 113\",\"udpx\":\"846 113;841 113\",\"su\":\"1\",\"udsu\":\"1;1\",\"n\":\"沙河高教园\",\"sid\":\"110100023118003\",\"p\":\"843 113\",\"r\":\"110100023118\",\"udsi\":\"110100023119007;110100023118003\",\"t\":\"0\",\"si\":\"110100023118003\",\"sl\":\"116.280465,40.164666\",\"udli\":\"110100023119;110100023118\",\"poiid\":\"BV10013477\",\"lg\":\"6\",\"sp\":\"sha he gao jiao yuan\"},{\"rs\":\"843 144\",\"udpx\":\"841 144;846 144\",\"su\":\"1\",\"udsu\":\"1;1\",\"n\":\"沙河\",\"sid\":\"110100023118004\",\"p\":\"843 144\",\"r\":\"110100023118\",\"udsi\":\"110100023118004;110100023119006\",\"t\":\"0\",\"si\":\"110100023118004\",\"sl\":\"116.288865,40.148278\",\"udli\":\"110100023118;110100023119\",\"poiid\":\"BV10000338\",\"lg\":\"6\",\"sp\":\"sha he\"},{\"rs\":\"843 173\",\"udpx\":\"841 173;846 173\",\"su\":\"1\",\"udsu\":\"1;1\",\"n\":\"巩华城\",\"sid\":\"110100023118005\",\"p\":\"843 173\",\"r\":\"110100023118\",\"udsi\":\"110100023118005;110100023119005\",\"t\":\"0\",\"si\":\"110100023118005\",\"sl\":\"116.293979,40.130900\",\"udli\":\"110100023118;110100023119\",\"poiid\":\"BV10013478\",\"lg\":\"6\",\"sp\":\"gong hua cheng\"},{\"rs\":\"843 202|843 202\",\"udpx\":\"846 202;841 202\",\"su\":\"1\",\"udsu\":\"1;1\",\"n\":\"朱辛庄\",\"sid\":\"110100023114019\",\"p\":\"843 202\",\"r\":\"110100023114|110100023118\",\"udsi\":\"110100023119004;110100023118006\",\"t\":\"1\",\"si\":\"110100023114019\",\"sl\":\"116.313698,40.104297\",\"udli\":\"110100023119;110100023118\",\"poiid\":\"BV10000571\",\"lg\":\"6\",\"sp\":\"zhu xin zhuang\"},{\"rs\":\"843 230\",\"udpx\":\"846 230;841 230\",\"su\":\"1\",\"udsu\":\"1;1\",\"n\":\"生命科学园\",\"sid\":\"110100023118007\",\"p\":\"843 230\",\"r\":\"110100023118\",\"udsi\":\"110100023119003;110100023118007\",\"t\":\"0\",\"si\":\"110100023118007\",\"sl\":\"116.294230,40.094790\",\"udli\":\"110100023119;110100023118\",\"poiid\":\"BV10000877\",\"lg\":\"6\",\"sp\":\"sheng ming ke xue yuan\"},{\"rs\":\"843 299|843 299\",\"udpx\":\"846 299;841 299\",\"su\":\"1\",\"udsu\":\"1;1\",\"n\":\"西二旗\",\"sid\":\"110100023118008\",\"p\":\"843 299\",\"r\":\"110100033066|110100023118\",\"udsi\":\"110100023119002;110100023118008\",\"t\":\"1\",\"si\":\"110100023118008\",\"sl\":\"116.306295,40.053034\",\"udli\":\"110100023119;110100023118\",\"poiid\":\"BV10007027\",\"lg\":\"6\",\"sp\":\"xi er qi\"}],\"ln\":\"昌平线\",\"su\":\"1\",\"kn\":\"地铁昌平线\",\"c\":[\"843 299\",\"843 230\",\"843 202\",\"843 173\",\"843 144\",\"843 113\",\"843 82\",\"843 55\",\"843 53\",\"843 52\",\"842 50\",\"840 49\",\"837 48\",\"833 48\",\"818 48\",\"814 48\",\"733 48\",\"654 48\",\"629 48\",\"623 47\",\"619 45\",\"602 28\",\"586 13\",\"576 3\",\"574 2\",\"572 0\",\"570 0\",\"566 0\",\"520 0\"],\"lo\":\"0\",\"lp\":[\"871 123\"],\"f\":[{\"c\":[\"520 3\",\"566 3\",\"569 3\",\"571 3\",\"573 4\",\"574 5\",\"584 15\",\"600 30\",\"617 47\",\"622 50\",\"629 51\",\"654 51\",\"733 51\",\"814 51\",\"818 51\",\"833 51\",\"836 51\",\"838 52\",\"839 52\",\"840 53\",\"840 54\",\"841 56\",\"841 82\",\"841 113\",\"841 144\",\"841 173\",\"841 202\",\"841 230\",\"841 299\"],\"li\":\"110100023118\"},{\"c\":[\"846 299\",\"846 230\",\"846 202\",\"846 173\",\"846 144\",\"846 113\",\"846 82\",\"846 55\",\"846 53\",\"845 51\",\"844 48\",\"841 46\",\"838 45\",\"833 45\",\"818 45\",\"814 45\",\"733 45\",\"654 45\",\"630 45\",\"624 44\",\"621 42\",\"604 26\",\"588 11\",\"578 1\",\"576 -1\",\"573 -2\",\"570 -3\",\"566 -3\",\"520 -3\"],\"li\":\"110100023119\"}],\"ls\":\"110100023118\",\"cl\":\"EB81B9\",\"la\":\"\",\"x\":18,\"li\":\"110100023118|110100023119\"},{\"st\":[{\"rs\":\"869 935|869 935\",\"udpx\":\"872 935;866 935\",\"su\":\"1\",\"udsu\":\"1;1\",\"n\":\"草桥\",\"sid\":\"110100023282033\",\"p\":\"869 935\",\"r\":\"110100023282|900000076659\",\"udsi\":\"900000076659003;900000076660001\",\"t\":\"1\",\"si\":\"110100023282033\",\"sl\":\"116.351387,39.845869\",\"udli\":\"900000076659;900000076660\",\"poiid\":\"BV10000222\",\"lg\":\"0\",\"sp\":\"CaoQiao\"},{\"rs\":\"977 1229\",\"udpx\":\"980 1229;974 1229\",\"su\":\"1\",\"udsu\":\"1;1\",\"n\":\"大兴新城\",\"sid\":\"900000076659002\",\"p\":\"977 1229\",\"r\":\"900000076659\",\"udsi\":\"900000076659002;900000076660002\",\"t\":\"0\",\"si\":\"900000076659002\",\"sl\":\"116.365522,39.735583\",\"udli\":\"900000076659;900000076660\",\"poiid\":\"BV10877516\",\"lg\":\"2\",\"sp\":\"DaXing XinCheng\"},{\"rs\":\"977 1528\",\"udpx\":\"980 1528;974 1528\",\"su\":\"1\",\"udsu\":\"1;1\",\"n\":\"大兴机场\",\"sid\":\"900000076659001\",\"p\":\"977 1528\",\"r\":\"900000076659\",\"udsi\":\"900000076659001;900000076660003\",\"t\":\"0\",\"si\":\"900000076659001\",\"sl\":\"116.416725,39.511375\",\"udli\":\"900000076659;900000076660\",\"poiid\":\"BV11146181\",\"lg\":\"2\",\"sp\":\"DaXing JiChang\"}],\"ln\":\"大兴国际机场线\",\"su\":\"1\",\"kn\":\"北京大兴国际机场线\",\"c\":[\"869 935\",\"869 1000\",\"869 1002\",\"870 1004\",\"871 1006\",\"872 1007\",\"873 1008\",\"876 1010\",\"879 1011\",\"959 1037\",\"966 1039\",\"969 1040\",\"972 1042\",\"973 1044\",\"975 1045\",\"977 1049\",\"977 1229\",\"977 1528\"],\"lo\":\"0\",\"lp\":[\"1083 1352\"],\"f\":[{\"c\":[\"980 1528\",\"980 1229\",\"980 1049\",\"977 1044\",\"975 1042\",\"973 1040\",\"970 1038\",\"967 1036\",\"960 1034\",\"880 1009\",\"877 1007\",\"875 1006\",\"874 1005\",\"873 1004\",\"872 1003\",\"872 1001\",\"872 1000\",\"872 935\"],\"li\":\"900000076659\"},{\"c\":[\"866 935\",\"866 1000\",\"867 1003\",\"867 1005\",\"869 1007\",\"870 1009\",\"872 1011\",\"874 1012\",\"877 1014\",\"958 1039\",\"965 1042\",\"967 1043\",\"970 1044\",\"971 1046\",\"973 1047\",\"974 1050\",\"974 1229\",\"974 1528\"],\"li\":\"900000076660\"}],\"ls\":\"900000076659\",\"cl\":\"2249A3\",\"la\":\"\",\"x\":19,\"li\":\"900000076659|900000076660|900000115918|900000115919\"},{\"st\":[{\"rs\":\"327 1176|327 1176\",\"udpx\":\"327 1173;327 1179\",\"su\":\"1\",\"udsu\":\"1;1\",\"n\":\"阎村东\",\"sid\":\"110100023092013\",\"p\":\"327 1176\",\"r\":\"110100023092|900000029622\",\"udsi\":\"110100023092013;110100023093013\",\"t\":\"1\",\"si\":\"110100023092013\",\"sl\":\"116.100817,39.729028\",\"udli\":\"110100023092;110100023093\",\"poiid\":\"BV10561755\",\"lg\":\"4\",\"sp\":\"yan cun dong\"},{\"rs\":\"367 1176\",\"udpx\":\"367 1173;367 1179\",\"su\":\"1\",\"udsu\":\"1;1\",\"n\":\"苏庄\",\"sid\":\"110100023092012\",\"p\":\"367 1176\",\"r\":\"110100023092\",\"udsi\":\"110100023092012;110100023093002\",\"t\":\"0\",\"si\":\"110100023092012\",\"sl\":\"116.125306,39.723188\",\"udli\":\"110100023092;110100023093\",\"poiid\":\"BV10003977\",\"lg\":\"0\",\"sp\":\"su zhuang\"},{\"rs\":\"402 1176\",\"udpx\":\"402 1173;402 1179\",\"su\":\"1\",\"udsu\":\"1;1\",\"n\":\"良乡南关\",\"sid\":\"110100023092011\",\"p\":\"402 1176\",\"r\":\"110100023092\",\"udsi\":\"110100023092011;110100023093003\",\"t\":\"0\",\"si\":\"110100023092011\",\"sl\":\"116.140804,39.723202\",\"udli\":\"110100023092;110100023093\",\"poiid\":\"BV10013427\",\"lg\":\"4\",\"sp\":\"liang xiang nan guan\"},{\"rs\":\"439 1176\",\"udpx\":\"439 1179;439 1173\",\"su\":\"1\",\"udsu\":\"1;1\",\"n\":\"良乡大学城西\",\"sid\":\"110100023092010\",\"p\":\"439 1176\",\"r\":\"110100023092\",\"udsi\":\"110100023093004;110100023092010\",\"t\":\"0\",\"si\":\"110100023092010\",\"sl\":\"116.156282,39.723157\",\"udli\":\"110100023093;110100023092\",\"poiid\":\"BV10003994\",\"lg\":\"0\",\"sp\":\"liang xiang da xue cheng xi\"},{\"rs\":\"473 1175\",\"udpx\":\"473 1172;474 1178\",\"su\":\"1\",\"udsu\":\"1;1\",\"n\":\"良乡大学城\",\"sid\":\"110100023092009\",\"p\":\"473 1175\",\"r\":\"110100023092\",\"udsi\":\"110100023092009;110100023093005\",\"t\":\"0\",\"si\":\"110100023092009\",\"sl\":\"116.176541,39.723159\",\"udli\":\"110100023092;110100023093\",\"poiid\":\"BV10003965\",\"lg\":\"3\",\"sp\":\"liang xiang da xue cheng\"},{\"rs\":\"511 1149\",\"udpx\":\"509 1147;514 1151\",\"su\":\"1\",\"udsu\":\"1;1\",\"n\":\"良乡大学城北\",\"sid\":\"110100023092008\",\"p\":\"511 1149\",\"r\":\"110100023092\",\"udsi\":\"110100023092008;110100023093006\",\"t\":\"0\",\"si\":\"110100023092008\",\"sl\":\"116.183480,39.729906\",\"udli\":\"110100023092;110100023093\",\"poiid\":\"BV10003967\",\"lg\":\"2\",\"sp\":\"liang xiang da xue cheng bei\"},{\"rs\":\"529 1120\",\"udpx\":\"527 1119;532 1122\",\"su\":\"1\",\"udsu\":\"1;1\",\"n\":\"广阳城\",\"sid\":\"110100023092007\",\"p\":\"529 1120\",\"r\":\"110100023092\",\"udsi\":\"110100023092007;110100023093007\",\"t\":\"0\",\"si\":\"110100023092007\",\"sl\":\"116.184985,39.747930\",\"udli\":\"110100023092;110100023093\",\"poiid\":\"BV10013426\",\"lg\":\"2\",\"sp\":\"guang yang cheng\"},{\"rs\":\"547 1090\",\"udpx\":\"545 1089;550 1092\",\"su\":\"1\",\"udsu\":\"1;1\",\"n\":\"篱笆房\",\"sid\":\"110100023092006\",\"p\":\"548 1091\",\"r\":\"110100023092\",\"udsi\":\"110100023092006;110100023093008\",\"t\":\"0\",\"si\":\"110100023092006\",\"sl\":\"116.189486,39.760636\",\"udli\":\"110100023092;110100023093\",\"poiid\":\"BV10001096\",\"lg\":\"2\",\"sp\":\"li ba fang\"},{\"rs\":\"566 1061\",\"udpx\":\"564 1060;569 1063\",\"su\":\"1\",\"udsu\":\"1;1\",\"n\":\"长阳\",\"sid\":\"110100023092005\",\"p\":\"566 1061\",\"r\":\"110100023092\",\"udsi\":\"110100023092005;110100023093009\",\"t\":\"0\",\"si\":\"110100023092005\",\"sl\":\"116.212692,39.763871\",\"udli\":\"110100023092;110100023093\",\"poiid\":\"BV10013425\",\"lg\":\"2\",\"sp\":\"chang yang\"},{\"rs\":\"584 1032\",\"udpx\":\"586 1034;581 1031\",\"su\":\"1\",\"udsu\":\"1;1\",\"n\":\"稻田\",\"sid\":\"110100023092004\",\"p\":\"585 1033\",\"r\":\"110100023092\",\"udsi\":\"110100023093010;110100023092004\",\"t\":\"0\",\"si\":\"110100023092004\",\"sl\":\"116.218840,39.794885\",\"udli\":\"110100023093;110100023092\",\"poiid\":\"BV10013424\",\"lg\":\"2\",\"sp\":\"dao tian\"},{\"rs\":\"602 1005\",\"udpx\":\"604 1006;600 1003\",\"su\":\"1\",\"udsu\":\"1;1\",\"n\":\"大葆台\",\"sid\":\"110100023092003\",\"p\":\"602 1005\",\"r\":\"110100023092\",\"udsi\":\"110100023093011;110100023092003\",\"t\":\"0\",\"si\":\"110100023092003\",\"sl\":\"116.291681,39.807810\",\"udli\":\"110100023093;110100023092\",\"poiid\":\"BV10013423\",\"lg\":\"2\",\"sp\":\"da bao tai\"},{\"rs\":\"620 977|620 977\",\"udpx\":\"622 978;617 975\",\"su\":\"1\",\"udsu\":\"1;1\",\"n\":\"郭公庄\",\"sid\":\"110100023092002\",\"p\":\"620 977\",\"r\":\"110100023116|110100023092\",\"udsi\":\"110100023093012;110100023092002\",\"t\":\"1\",\"si\":\"110100023092002\",\"sl\":\"116.301889,39.814322\",\"udli\":\"110100023093;110100023092\",\"poiid\":\"BV10007779\",\"lg\":\"2\",\"sp\":\"guo gong zhuang\"}],\"ln\":\"房山线\",\"su\":\"1\",\"kn\":\"地铁房山线\",\"c\":[\"327 1176\",\"351 1176\",\"367 1176\",\"384 1176\",\"402 1176\",\"425 1176\",\"439 1176\",\"464 1176\",\"473 1175\",\"479 1174\",\"485 1172\",\"492 1169\",\"499 1164\",\"505 1158\",\"511 1149\",\"529 1120\",\"547 1092\",\"547 1090\",\"566 1062\",\"566 1061\",\"584 1033\",\"584 1032\",\"602 1005\",\"620 977\"],\"lo\":\"0\",\"lp\":[\"629 1117\"],\"f\":[{\"c\":[\"617 975\",\"600 1003\",\"582 1031\",\"581 1031\",\"564 1060\",\"545 1089\",\"545 1091\",\"527 1119\",\"509 1147\",\"503 1156\",\"497 1162\",\"490 1166\",\"484 1170\",\"479 1171\",\"473 1172\",\"464 1173\",\"439 1173\",\"425 1173\",\"402 1173\",\"384 1173\",\"367 1173\",\"351 1173\",\"327 1173\"],\"li\":\"110100023092\"},{\"c\":[\"327 1179\",\"351 1179\",\"367 1179\",\"384 1179\",\"402 1179\",\"425 1179\",\"439 1179\",\"464 1179\",\"474 1178\",\"480 1177\",\"486 1175\",\"493 1171\",\"501 1166\",\"507 1160\",\"514 1151\",\"532 1122\",\"549 1094\",\"550 1092\",\"569 1063\",\"586 1034\",\"587 1034\",\"604 1006\",\"622 978\"],\"li\":\"110100023093\"}],\"ls\":\"110100023092\",\"cl\":\"EE782E\",\"la\":\"\",\"x\":20,\"li\":\"110100023092|110100023093\"},{\"st\":[{\"rs\":\"1620 310\",\"udpx\":\"1617 310;1617 310\",\"su\":\"1\",\"udsu\":\"1;1\",\"n\":\"T3航站楼\",\"sid\":\"110100023096001\",\"p\":\"1620 310\",\"r\":\"110100023096\",\"udsi\":\"110100023097003;110100023096001\",\"t\":\"0\",\"si\":\"110100023096001\",\"sl\":\"116.615583,40.052657\",\"udli\":\"110100023097;110100023096\",\"poiid\":\"BV10009415\",\"lg\":\"1\",\"sp\":\"T3 hang zhan lou\"},{\"rs\":\"1571 307\",\"udpx\":\"1574 307;1574 307\",\"su\":\"1\",\"udsu\":\"1;1\",\"n\":\"T2航站楼\",\"sid\":\"110100023096002\",\"p\":\"1571 307\",\"r\":\"110100023096\",\"udsi\":\"110100023097004;110100023096002\",\"t\":\"0\",\"si\":\"110100023096002\",\"sl\":\"116.592808,40.079311\",\"udli\":\"110100023097;110100023096\",\"poiid\":\"BV10013428\",\"lg\":\"0\",\"sp\":\"T2 hang zhan lou\"},{\"rs\":\"1279 495|1279 495\",\"udpx\":\"1281 498;1277 493\",\"su\":\"1\",\"udsu\":\"1;1\",\"n\":\"三元桥\",\"sid\":\"110100023096003\",\"p\":\"1279 495\",\"r\":\"110100023282|110100023096\",\"udsi\":\"110100023097002;110100023096003\",\"t\":\"1\",\"si\":\"110100023096003\",\"sl\":\"116.456997,39.961508\",\"udli\":\"110100023097;110100023096\",\"poiid\":\"BV10000199\",\"lg\":\"3\",\"sp\":\"san yuan qiao\"},{\"rs\":\"1179 586|1179 586|1179 586\",\"udpx\":\"1179 583;1179 589\",\"su\":\"1\",\"udsu\":\"1;1\",\"n\":\"东直门\",\"sid\":\"110100023096004\",\"p\":\"1179 586\",\"r\":\"110100023098|110100033066|110100023096\",\"udsi\":\"110100023096004;110100023097001\",\"t\":\"1\",\"si\":\"110100023096004\",\"sl\":\"116.435842,39.941626\",\"udli\":\"110100023096;110100023097\",\"poiid\":\"BV10002731\",\"lg\":\"3\",\"sp\":\"dong zhi men\"}],\"ln\":\"首都机场线\",\"su\":\"1\",\"kn\":\"首都机场线\",\"c\":[\"1179 586\",\"1217 586\",\"1221 586\",\"1224 585\",\"1226 583\",\"1279 495\",\"1554 386\",\"1593 371\",\"1600 368\",\"1605 365\",\"1610 361\",\"1614 357\",\"1618 352\",\"1620 347\",\"1622 341\",\"1623 335\",\"1623 329\",\"1622 319\",\"1620 310\",\"1622 319\",\"1623 329\",\"1619 337\",\"1615 342\",\"1609 345\",\"1601 347\",\"1589 347\",\"1580 345\",\"1574 341\",\"1570 336\",\"1568 328\",\"1571 307\",\"1568 328\",\"1563 368\",\"1562 375\",\"1558 381\",\"1554 386\",\"1279 495\",\"1226 583\",\"1224 585\",\"1221 586\",\"1217 586\",\"1179 586\"],\"lo\":\"0\",\"lp\":[\"1535 432\"],\"f\":[{\"c\":[\"1617 310\",\"1619 320\",\"1620 328\",\"1617 335\",\"1613 339\",\"1608 342\",\"1600 344\",\"1589 344\",\"1581 343\",\"1576 339\",\"1573 335\",\"1571 328\",\"1574 307\",\"1568 306\",\"1560 367\",\"1559 374\",\"1556 379\",\"1552 383\",\"1277 493\",\"1224 581\",\"1222 582\",\"1220 583\",\"1217 583\",\"1179 583\"],\"li\":\"110100023096\"},{\"c\":[\"1179 589\",\"1217 589\",\"1221 588\",\"1225 587\",\"1228 584\",\"1281 498\",\"1555 388\",\"1594 373\",\"1601 370\",\"1607 367\",\"1612 363\",\"1616 359\",\"1620 354\",\"1623 348\",\"1625 341\",\"1626 335\",\"1626 329\",\"1625 319\",\"1623 309\",\"1617 310\",\"1619 320\",\"1620 328\",\"1617 335\",\"1613 339\",\"1608 342\",\"1600 344\",\"1589 344\",\"1581 343\",\"1576 339\",\"1573 335\",\"1571 328\",\"1574 307\"],\"li\":\"110100023097\"}],\"ls\":\"110100023096\",\"cl\":\"A49ABD\",\"la\":\"\",\"x\":21,\"li\":\"110100023096|110100023097\"},{\"st\":[{\"rs\":\"602 448|602 448\",\"udpx\":\"602 445;602 451\",\"su\":\"1\",\"udsu\":\"1;1\",\"n\":\"巴沟\",\"sid\":\"110100023060002\",\"p\":\"602 448\",\"r\":\"110100023282|110100023060\",\"udsi\":\"110100023060002;110100023061008\",\"t\":\"1\",\"si\":\"110100023060002\",\"sl\":\"116.293727,39.974179\",\"udli\":\"110100023060;110100023061\",\"poiid\":\"BV10013394\",\"lg\":\"4\",\"sp\":\"ba gou\"},{\"rs\":\"479 413\",\"udpx\":\"481 410;481 416\",\"su\":\"1\",\"udsu\":\"1;1\",\"n\":\"颐和园西门\",\"sid\":\"110100023060004\",\"p\":\"479 413\",\"r\":\"110100023060\",\"udsi\":\"110100023060004;110100023061006\",\"t\":\"0\",\"si\":\"110100023060004\",\"sl\":\"116.263248,39.985697\",\"udli\":\"110100023060;110100023061\",\"poiid\":\"BV10968850\",\"lg\":\"0\",\"sp\":\"yi he yuan xi men\"},{\"rs\":\"411 413\",\"udpx\":\"411 410;411 416\",\"su\":\"1\",\"udsu\":\"1;1\",\"n\":\"茶棚\",\"sid\":\"110100023060005\",\"p\":\"411 413\",\"r\":\"110100023060\",\"udsi\":\"110100023060005;110100023061005\",\"t\":\"0\",\"si\":\"110100023060005\",\"sl\":\"116.248100,39.982113\",\"udli\":\"110100023060;110100023061\",\"poiid\":\"BV10968847\",\"lg\":\"0\",\"sp\":\"cha peng\"},{\"rs\":\"354 400\",\"udpx\":\"356 401;351 401\",\"su\":\"1\",\"udsu\":\"1;1\",\"n\":\"万安\",\"sid\":\"110100023060006\",\"p\":\"354 400\",\"r\":\"110100023060\",\"udsi\":\"110100023060006;110100023061004\",\"t\":\"0\",\"si\":\"110100023060006\",\"sl\":\"116.231977,39.984001\",\"udli\":\"110100023060;110100023061\",\"poiid\":\"BV10968866\",\"lg\":\"2\",\"sp\":\"wan an\"},{\"rs\":\"340 373\",\"udpx\":\"340 370;340 375\",\"su\":\"1\",\"udsu\":\"1;1\",\"n\":\"植物园\",\"sid\":\"110100023060007\",\"p\":\"340 373\",\"r\":\"110100023060\",\"udsi\":\"110100023060007;110100023061003\",\"t\":\"0\",\"si\":\"110100023060007\",\"sl\":\"116.214853,39.993582\",\"udli\":\"110100023060;110100023061\",\"poiid\":\"BV10968849\",\"lg\":\"0\",\"sp\":\"zhi wu yuan\"},{\"rs\":\"291 373\",\"udpx\":\"291 370;291 375\",\"su\":\"1\",\"udsu\":\"1;1\",\"n\":\"香山\",\"sid\":\"110100023060009\",\"p\":\"291 373\",\"r\":\"110100023060\",\"udsi\":\"110100023060009;110100023061009\",\"t\":\"0\",\"si\":\"110100023060009\",\"sl\":\"116.204491,39.994056\",\"udli\":\"110100023060;110100023061\",\"poiid\":\"BV10968848\",\"lg\":\"0\",\"sp\":\"xiang shan\"}],\"ln\":\"西郊线\",\"su\":\"1\",\"kn\":\"西郊线\",\"c\":[\"602 448\",\"564 448\",\"536 448\",\"534 448\",\"532 447\",\"532 446\",\"532 432\",\"532 417\",\"531 415\",\"529 413\",\"526 413\",\"481 413\",\"479 413\",\"448 413\",\"411 413\",\"359 413\",\"356 413\",\"354 412\",\"354 410\",\"354 401\",\"354 400\",\"354 387\",\"354 377\",\"353 375\",\"351 373\",\"347 373\",\"340 373\",\"317 373\",\"291 373\"],\"lo\":\"0\",\"lp\":[\"391 444\"],\"f\":[{\"c\":[\"291 375\",\"317 375\",\"340 375\",\"347 375\",\"350 376\",\"350 376\",\"351 377\",\"351 387\",\"351 401\",\"351 410\",\"352 413\",\"355 415\",\"359 416\",\"411 416\",\"448 416\",\"481 416\",\"526 416\",\"528 416\",\"529 417\",\"529 418\",\"529 432\",\"529 446\",\"530 449\",\"533 451\",\"536 451\",\"564 451\",\"602 451\"],\"li\":\"110100023061\"},{\"c\":[\"602 445\",\"564 445\",\"536 445\",\"535 445\",\"535 445\",\"535 445\",\"535 432\",\"535 417\",\"534 413\",\"531 411\",\"527 410\",\"481 410\",\"448 410\",\"411 410\",\"359 410\",\"357 410\",\"357 410\",\"356 409\",\"356 401\",\"356 387\",\"356 376\",\"355 373\",\"352 371\",\"348 370\",\"340 370\",\"317 370\",\"291 370\"],\"li\":\"110100023060\"}],\"ls\":\"110100023060\",\"cl\":\"FC0601\",\"la\":\"\",\"x\":22,\"li\":\"110100023060|110100023061\"},{\"st\":[{\"rs\":\"327 1176|327 1176\",\"udpx\":\"327 1179;327 1173\",\"su\":\"1\",\"udsu\":\"1;1\",\"n\":\"阎村东\",\"sid\":\"110100023092013\",\"p\":\"327 1176\",\"r\":\"110100023092|900000029622\",\"udsi\":\"900000029622008;900000029623011\",\"t\":\"1\",\"si\":\"110100023092013\",\"sl\":\"116.100817,39.729028\",\"udli\":\"900000029622;900000029623\",\"poiid\":\"BV10561755\",\"lg\":\"4\",\"sp\":\"yan cun dong\"},{\"rs\":\"287 1176\",\"udpx\":\"287 1173;287 1179\",\"su\":\"1\",\"udsu\":\"1;1\",\"n\":\"紫草坞\",\"sid\":\"900000029622007\",\"p\":\"287 1176\",\"r\":\"900000029622\",\"udsi\":\"900000029623012;900000029622007\",\"t\":\"0\",\"si\":\"900000029622007\",\"sl\":\"116.086720,39.724606\",\"udli\":\"900000029623;900000029622\",\"poiid\":\"BV10420734\",\"lg\":\"0\",\"sp\":\"zi cao wu\"},{\"rs\":\"247 1176\",\"udpx\":\"247 1173;247 1179\",\"su\":\"1\",\"udsu\":\"1;1\",\"n\":\"阎村\",\"sid\":\"900000029622006\",\"p\":\"247 1176\",\"r\":\"900000029622\",\"udsi\":\"900000029623013;900000029622006\",\"t\":\"0\",\"si\":\"900000029622006\",\"sl\":\"116.080165,39.716731\",\"udli\":\"900000029623;900000029622\",\"poiid\":\"BV10420737\",\"lg\":\"4\",\"sp\":\"yan cun\"},{\"rs\":\"206 1176\",\"udpx\":\"206 1173;206 1179\",\"su\":\"1\",\"udsu\":\"1;1\",\"n\":\"星城\",\"sid\":\"900000029622005\",\"p\":\"206 1176\",\"r\":\"900000029622\",\"udsi\":\"900000029623014;900000029622005\",\"t\":\"0\",\"si\":\"900000029622005\",\"sl\":\"116.061370,39.713681\",\"udli\":\"900000029623;900000029622\",\"poiid\":\"BV10420735\",\"lg\":\"0\",\"sp\":\"xing cheng\"},{\"rs\":\"165 1176\",\"udpx\":\"165 1173;165 1179\",\"su\":\"1\",\"udsu\":\"1;1\",\"n\":\"大石河东\",\"sid\":\"900000029622010\",\"p\":\"165 1176\",\"r\":\"900000029622\",\"udsi\":\"900000029623015;900000029622010\",\"t\":\"0\",\"si\":\"900000029622010\",\"sl\":\"116.039906,39.709893\",\"udli\":\"900000029623;900000029622\",\"poiid\":\"BV10881795\",\"lg\":\"4\",\"sp\":\"da shi he dong\"},{\"rs\":\"124 1176\",\"udpx\":\"124 1173;124 1179\",\"su\":\"1\",\"udsu\":\"1;1\",\"n\":\"马各庄\",\"sid\":\"900000029622004\",\"p\":\"124 1176\",\"r\":\"900000029622\",\"udsi\":\"900000029623016;900000029622004\",\"t\":\"0\",\"si\":\"900000029622004\",\"sl\":\"116.016606,39.705103\",\"udli\":\"900000029623;900000029622\",\"poiid\":\"BV10420736\",\"lg\":\"0\",\"sp\":\"ma ge zhuang\"},{\"rs\":\"84 1176\",\"udpx\":\"84 1173;84 1179\",\"su\":\"1\",\"udsu\":\"1;1\",\"n\":\"饶乐府\",\"sid\":\"900000029620004\",\"p\":\"84 1176\",\"r\":\"900000029622\",\"udsi\":\"900000029623017;900000029622003\",\"t\":\"0\",\"si\":\"900000029620004\",\"sl\":\"116.006103,39.701471\",\"udli\":\"900000029623;900000029622\",\"poiid\":\"BV10420727\",\"lg\":\"4\",\"sp\":\"rao le fu\"},{\"rs\":\"43 1176\",\"udpx\":\"43 1173;43 1179\",\"su\":\"1\",\"udsu\":\"1;1\",\"n\":\"房山城关\",\"sid\":\"900000029622002\",\"p\":\"43 1176\",\"r\":\"900000029622\",\"udsi\":\"900000029623018;900000029622002\",\"t\":\"0\",\"si\":\"900000029622002\",\"sl\":\"115.989599,39.706061\",\"udli\":\"900000029623;900000029622\",\"poiid\":\"BV10420731\",\"lg\":\"0\",\"sp\":\"fang shan cheng guan\"},{\"rs\":\"0 1176\",\"udpx\":\"0 1179;0 1173\",\"su\":\"1\",\"udsu\":\"1;1\",\"n\":\"燕山\",\"sid\":\"900000029622001\",\"p\":\"0 1176\",\"r\":\"900000029622\",\"udsi\":\"900000029622001;900000029623019\",\"t\":\"0\",\"si\":\"900000029622001\",\"sl\":\"115.973395,39.719615\",\"udli\":\"900000029622;900000029623\",\"poiid\":\"BV10420733\",\"lg\":\"4\",\"sp\":\"yan shan\"}],\"ln\":\"燕房线\",\"su\":\"1\",\"kn\":\"地铁燕房线\",\"c\":[\"327 1176\",\"287 1176\",\"247 1176\",\"206 1176\",\"165 1176\",\"124 1176\",\"84 1176\",\"43 1176\",\"0 1176\"],\"lo\":\"0\",\"lp\":[\"61 1115\"],\"f\":[{\"c\":[\"0 1179\",\"43 1179\",\"84 1179\",\"124 1179\",\"165 1179\",\"206 1179\",\"247 1179\",\"287 1179\",\"327 1179\"],\"li\":\"900000029622\"},{\"c\":[\"327 1173\",\"287 1173\",\"247 1173\",\"206 1173\",\"165 1173\",\"124 1173\",\"84 1173\",\"43 1173\",\"0 1173\"],\"li\":\"900000029623\"}],\"ls\":\"900000029622\",\"cl\":\"EE782E\",\"la\":\"\",\"x\":23,\"li\":\"900000029622|900000029623\"},{\"st\":[{\"rs\":\"1116 935|1116 935|1116 935\",\"udpx\":\"1119 935;1113 935\",\"su\":\"1\",\"udsu\":\"1;1\",\"n\":\"宋家庄\",\"sid\":\"110100023100001\",\"p\":\"1116 935\",\"r\":\"110100023100|110100023282|110100023102\",\"udsi\":\"110100023102014;110100023103002\",\"t\":\"1\",\"si\":\"110100023100001\",\"sl\":\"116.428368,39.845849\",\"udli\":\"110100023102;110100023103\",\"poiid\":\"BV10000743\",\"lg\":\"3\",\"sp\":\"song jia zhuang\"},{\"rs\":\"1116 969\",\"udpx\":\"1113 970;1119 968\",\"su\":\"1\",\"udsu\":\"1;1\",\"n\":\"肖村\",\"sid\":\"110100023102013\",\"p\":\"1116 969\",\"r\":\"110100023102\",\"udsi\":\"110100023103003;110100023102013\",\"t\":\"0\",\"si\":\"110100023102013\",\"sl\":\"116.448364,39.834217\",\"udli\":\"110100023103;110100023102\",\"poiid\":\"BV10011446\",\"lg\":\"2\",\"sp\":\"xiao cun\"},{\"rs\":\"1136 999\",\"udpx\":\"1134 1001;1139 997\",\"su\":\"1\",\"udsu\":\"1;1\",\"n\":\"小红门\",\"sid\":\"110100023102012\",\"p\":\"1136 999\",\"r\":\"110100023102\",\"udsi\":\"110100023103004;110100023102012\",\"t\":\"0\",\"si\":\"110100023102012\",\"sl\":\"116.459226,39.827951\",\"udli\":\"110100023103;110100023102\",\"poiid\":\"BV10012008\",\"lg\":\"2\",\"sp\":\"xiao hong men\"},{\"rs\":\"1152 1023\",\"udpx\":\"1150 1025;1155 1022\",\"su\":\"1\",\"udsu\":\"1;1\",\"n\":\"旧宫\",\"sid\":\"110100023102011\",\"p\":\"1152 1023\",\"r\":\"110100023102\",\"udsi\":\"110100023103005;110100023102011\",\"t\":\"0\",\"si\":\"110100023102011\",\"sl\":\"116.460789,39.806910\",\"udli\":\"110100023103;110100023102\",\"poiid\":\"BV10000335\",\"lg\":\"2\",\"sp\":\"jiu gong\"},{\"rs\":\"1167 1046\",\"udpx\":\"1170 1044;1165 1047\",\"su\":\"1\",\"udsu\":\"1;1\",\"n\":\"亦庄桥\",\"sid\":\"110100023102010\",\"p\":\"1167 1046\",\"r\":\"110100023102\",\"udsi\":\"110100023102010;110100023103006\",\"t\":\"0\",\"si\":\"110100023102010\",\"sl\":\"116.480307,39.803011\",\"udli\":\"110100023102;110100023103\",\"poiid\":\"BV10013453\",\"lg\":\"2\",\"sp\":\"yi zhuang qiao\"},{\"rs\":\"1185 1072\",\"udpx\":\"1188 1071;1183 1074\",\"su\":\"1\",\"udsu\":\"1;1\",\"n\":\"亦庄文化园\",\"sid\":\"110100023102009\",\"p\":\"1185 1072\",\"r\":\"110100023102\",\"udsi\":\"110100023102009;110100023103007\",\"t\":\"0\",\"si\":\"110100023102009\",\"sl\":\"116.490632,39.806890\",\"udli\":\"110100023102;110100023103\",\"poiid\":\"BV10013452\",\"lg\":\"2\",\"sp\":\"yi zhuang wen hua yuan\"},{\"rs\":\"1201 1097\",\"udpx\":\"1204 1095;1199 1099\",\"su\":\"1\",\"udsu\":\"1;1\",\"n\":\"万源街\",\"sid\":\"110100023102008\",\"p\":\"1201 1097\",\"r\":\"110100023102\",\"udsi\":\"110100023102008;110100023103008\",\"t\":\"0\",\"si\":\"110100023102008\",\"sl\":\"116.505403,39.802971\",\"udli\":\"110100023102;110100023103\",\"poiid\":\"BV10013451\",\"lg\":\"2\",\"sp\":\"wan yuan jie\"},{\"rs\":\"1219 1122\",\"udpx\":\"1222 1121;1217 1124\",\"su\":\"1\",\"udsu\":\"1;1\",\"n\":\"荣京东街\",\"sid\":\"110100023102007\",\"p\":\"1219 1122\",\"r\":\"110100023102\",\"udsi\":\"110100023102007;110100023103009\",\"t\":\"0\",\"si\":\"110100023102007\",\"sl\":\"116.513321,39.793189\",\"udli\":\"110100023102;110100023103\",\"poiid\":\"BV10003511\",\"lg\":\"2\",\"sp\":\"rong jing dong jie\"},{\"rs\":\"1234 1147\",\"udpx\":\"1232 1148;1237 1145\",\"su\":\"1\",\"udsu\":\"1;1\",\"n\":\"荣昌东街\",\"sid\":\"110100023102006\",\"p\":\"1235 1147\",\"r\":\"110100023102\",\"udsi\":\"110100023103010;110100023102006\",\"t\":\"0\",\"si\":\"110100023102006\",\"sl\":\"116.521688,39.782832\",\"udli\":\"110100023103;110100023102\",\"poiid\":\"BV10013450\",\"lg\":\"2\",\"sp\":\"rong chang dong jie\"},{\"rs\":\"1273 1174\",\"udpx\":\"1272 1176;1273 1171\",\"su\":\"1\",\"udsu\":\"1;1\",\"n\":\"同济南路\",\"sid\":\"110100023102005\",\"p\":\"1273 1174\",\"r\":\"110100023102\",\"udsi\":\"110100023103011;110100023102005\",\"t\":\"0\",\"si\":\"110100023102005\",\"sl\":\"116.539901,39.772962\",\"udli\":\"110100023103;110100023102\",\"poiid\":\"BV10007921\",\"lg\":\"4\",\"sp\":\"tong ji nan lu\"},{\"rs\":\"1327 1174\",\"udpx\":\"1327 1176;1327 1171\",\"su\":\"1\",\"udsu\":\"1;1\",\"n\":\"经海路\",\"sid\":\"110100023102004\",\"p\":\"1327 1174\",\"r\":\"110100023102\",\"udsi\":\"110100023103012;110100023102004\",\"t\":\"0\",\"si\":\"110100023102004\",\"sl\":\"116.562321,39.783673\",\"udli\":\"110100023103;110100023102\",\"poiid\":\"BV10013449\",\"lg\":\"4\",\"sp\":\"jing hai lu\"},{\"rs\":\"1380 1174\",\"udpx\":\"1380 1176;1380 1171\",\"su\":\"1\",\"udsu\":\"1;1\",\"n\":\"次渠南\",\"sid\":\"110100023102003\",\"p\":\"1380 1174\",\"r\":\"110100023102\",\"udsi\":\"110100023103013;110100023102003\",\"t\":\"0\",\"si\":\"110100023102003\",\"sl\":\"116.581357,39.795118\",\"udli\":\"110100023103;110100023102\",\"poiid\":\"BV10013448\",\"lg\":\"4\",\"sp\":\"ci qu nan\"},{\"rs\":\"1432 1174\",\"udpx\":\"1432 1176;1432 1171\",\"su\":\"1\",\"udsu\":\"1;1\",\"n\":\"次渠\",\"sid\":\"110100023062002\",\"p\":\"1432 1174\",\"r\":\"110100023102\",\"udsi\":\"110100023103014;110100023102002\",\"t\":\"0\",\"si\":\"110100023062002\",\"sl\":\"116.591502,39.803500\",\"udli\":\"110100023103;110100023102\",\"poiid\":\"BV10011266\",\"lg\":\"4\",\"sp\":\"ci qu\"},{\"rs\":\"1479 1174\",\"udpx\":\"1479 1171;1479 1176\",\"su\":\"1\",\"udsu\":\"1;1\",\"n\":\"亦庄火车站\",\"sid\":\"110100023102015\",\"p\":\"1479 1174\",\"r\":\"110100023102\",\"udsi\":\"110100023102015;110100023103015\",\"t\":\"0\",\"si\":\"110100023102015\",\"sl\":\"116.601913,39.812607\",\"udli\":\"110100023102;110100023103\",\"poiid\":\"BV10013399\",\"lg\":\"2\",\"sp\":\"yi zhuang huo che zhan\"}],\"ln\":\"亦庄线\",\"su\":\"1\",\"kn\":\"地铁亦庄线\",\"c\":[\"1116 935\",\"1116 969\",\"1136 999\",\"1152 1023\",\"1167 1046\",\"1185 1072\",\"1201 1097\",\"1219 1122\",\"1234 1146\",\"1234 1147\",\"1242 1156\",\"1247 1162\",\"1253 1167\",\"1260 1171\",\"1267 1173\",\"1273 1174\",\"1327 1174\",\"1380 1174\",\"1432 1174\",\"1479 1174\"],\"lo\":\"0\",\"lp\":[\"1316 1129\"],\"f\":[{\"c\":[\"1479 1171\",\"1432 1171\",\"1380 1171\",\"1327 1171\",\"1273 1171\",\"1267 1170\",\"1261 1168\",\"1255 1165\",\"1249 1160\",\"1244 1154\",\"1237 1145\",\"1237 1144\",\"1222 1121\",\"1204 1095\",\"1188 1071\",\"1170 1044\",\"1155 1022\",\"1139 997\",\"1119 968\",\"1119 935\"],\"li\":\"110100023102\"},{\"c\":[\"1113 935\",\"1113 970\",\"1134 1001\",\"1150 1025\",\"1165 1047\",\"1183 1074\",\"1199 1099\",\"1217 1124\",\"1232 1148\",\"1239 1157\",\"1245 1164\",\"1252 1169\",\"1258 1173\",\"1266 1176\",\"1272 1176\",\"1327 1176\",\"1380 1176\",\"1432 1176\",\"1479 1176\"],\"li\":\"110100023103\"}],\"ls\":\"110100023102\",\"cl\":\"F0087D\",\"la\":\"\",\"x\":24,\"li\":\"110100023102|110100023103\"}],\"o\":\"1015,660\"}'"
      ]
     },
     "execution_count": 16,
     "metadata": {},
     "output_type": "execute_result"
    }
   ],
   "source": [
    "preProcessText"
   ]
  },
  {
   "cell_type": "code",
   "execution_count": 17,
   "metadata": {},
   "outputs": [],
   "source": [
    "# \"n\":\"金安桥\",\"sid\":\"110100023339035\",\"p\":\"270 684\",\"r\":\"900000069871|110100023339\",\"udsi\":\"900000069872015;900000069871002\",\"t\":\"1\",\"si\":\"110100023339035\",\"sl\":\"116.163167,39.923620\"\n",
    "#\"n\":\"(\\w+)\",\"sid\":\"\\d+\",\"p\":\"\\d+\\s+\\d+\",\"r\":\"900000069871\",\"udsi\":\"900000069871003;900000069872014\",\"t\":\"0\",\"si\":\"900000069871003\",\"sl\":\"116.134010,39.916030\"\n",
    "#高德地图的格式有变化且比较隐蔽，坑,正则没学好，只能写两个了汗\n",
    "stationLocation = {}\n",
    "stationLocationPatternFirst = re.compile(r'\"n\":\"(\\w+)\",\"sid\":\"\\d+\",\"p\":\"\\d+\\s+\\d+\",\"r\":\"\\d+(?:\\|\\d+)\",\"udsi\":\"\\d+;\\d+\",\"t\":\"\\d+\",\"si\":\"\\d+\",\"sl\":\"(\\d+.\\d+),(\\d+.\\d+)\"')\n",
    "stationLocationPatternSecond = re.compile(r'\"n\":\"(\\w+)\",\"sid\":\"\\d+\",\"p\":\"\\d+\\s+\\d+\",\"r\":\"\\d+[\\|\\d+]?\",\"udsi\":\"\\d+;\\d+\",\"t\":\"\\d+\",\"si\":\"\\d+\",\"sl\":\"(\\d+.\\d+),(\\d+.\\d+)\"')\n",
    "stationLocationList = getString(stationLocationPatternFirst,preProcessText) + getString(stationLocationPatternSecond,preProcessText)"
   ]
  },
  {
   "cell_type": "code",
   "execution_count": 18,
   "metadata": {},
   "outputs": [
    {
     "data": {
      "text/plain": [
       "[('金安桥', '116.163167', '39.923620'),\n",
       " ('公主坟', '116.309919', '39.907469'),\n",
       " ('军事博物馆', '116.321459', '39.907422'),\n",
       " ('复兴门', '116.356866', '39.907242'),\n",
       " ('西单', '116.374072', '39.907383'),\n",
       " ('东单', '116.418480', '39.908325'),\n",
       " ('建国门', '116.435806', '39.908501'),\n",
       " ('国贸', '116.461841', '39.909104'),\n",
       " ('大望路', '116.475783', '39.908287'),\n",
       " ('四惠', '116.495456', '39.908749'),\n",
       " ('四惠东', '116.515664', '39.908495'),\n",
       " ('鼓楼大街', '116.393776', '39.948972'),\n",
       " ('雍和宫', '116.417069', '39.949336'),\n",
       " ('朝阳门', '116.434584', '39.924499'),\n",
       " ('建国门', '116.435806', '39.908501'),\n",
       " ('崇文门', '116.417093', '39.901063'),\n",
       " ('宣武门', '116.374314', '39.899765'),\n",
       " ('复兴门', '116.356866', '39.907242'),\n",
       " ('车公庄', '116.354357', '39.932397'),\n",
       " ('角门西', '116.371154', '39.845850'),\n",
       " ('北京南站', '116.378963', '39.865029'),\n",
       " ('菜市口', '116.374425', '39.889296'),\n",
       " ('宣武门', '116.374314', '39.899765'),\n",
       " ('西单', '116.374072', '39.907383'),\n",
       " ('平安里', '116.372883', '39.933949'),\n",
       " ('国家图书馆', '116.325190', '39.943114'),\n",
       " ('海淀黄庄', '116.317564', '39.975996'),\n",
       " ('西苑', '116.290908', '39.998258'),\n",
       " ('蒲黄榆', '116.423720', '39.865621'),\n",
       " ('磁器口', '116.419940', '39.893172'),\n",
       " ('崇文门', '116.417093', '39.901063'),\n",
       " ('东单', '116.418480', '39.908325'),\n",
       " ('东四', '116.417493', '39.924370'),\n",
       " ('雍和宫', '116.417069', '39.949336'),\n",
       " ('惠新西街南口', '116.417537', '39.977121'),\n",
       " ('大屯路东', '116.417377', '40.003841'),\n",
       " ('立水桥', '116.412350', '40.053032'),\n",
       " ('金台路', '116.478115', '39.923556'),\n",
       " ('呼家楼', '116.461618', '39.923337'),\n",
       " ('朝阳门', '116.434584', '39.924499'),\n",
       " ('东四', '116.417493', '39.924370'),\n",
       " ('南锣鼓巷', '116.404192', '39.933848'),\n",
       " ('平安里', '116.372883', '39.933949'),\n",
       " ('车公庄', '116.354357', '39.932397'),\n",
       " ('白石桥南', '116.325680', '39.933022'),\n",
       " ('慈寿寺', '116.295467', '39.933268'),\n",
       " ('金安桥', '116.163167', '39.923620'),\n",
       " ('花庄', '116.695495', '39.856722'),\n",
       " ('九龙山', '116.478695', '39.893222'),\n",
       " ('双井', '116.461834', '39.893512'),\n",
       " ('磁器口', '116.419940', '39.893172'),\n",
       " ('珠市口', '116.398104', '39.891267'),\n",
       " ('菜市口', '116.374425', '39.889296'),\n",
       " ('北京西站', '116.321218', '39.894706'),\n",
       " ('南锣鼓巷', '116.404192', '39.933848'),\n",
       " ('鼓楼大街', '116.393776', '39.948972'),\n",
       " ('北土城', '116.394193', '39.976953'),\n",
       " ('奥林匹克公园', '116.391758', '40.002207'),\n",
       " ('霍营', '116.360286', '40.071857'),\n",
       " ('朱辛庄', '116.313698', '40.104297'),\n",
       " ('珠市口', '116.398104', '39.891267'),\n",
       " ('永定门外', '116.399369', '39.867435'),\n",
       " ('郭公庄', '116.301889', '39.814322'),\n",
       " ('七里庄', '116.294292', '39.866773'),\n",
       " ('六里桥', '116.302808', '39.880239'),\n",
       " ('北京西站', '116.321218', '39.894706'),\n",
       " ('军事博物馆', '116.321459', '39.907422'),\n",
       " ('白石桥南', '116.325680', '39.933022'),\n",
       " ('国家图书馆', '116.325190', '39.943114'),\n",
       " ('海淀黄庄', '116.317564', '39.975996'),\n",
       " ('知春路', '116.339960', '39.976476'),\n",
       " ('北土城', '116.394193', '39.976953'),\n",
       " ('惠新西街南口', '116.417537', '39.977121'),\n",
       " ('芍药居', '116.435914', '39.977636'),\n",
       " ('三元桥', '116.456997', '39.961508'),\n",
       " ('呼家楼', '116.461618', '39.923337'),\n",
       " ('国贸', '116.461841', '39.909104'),\n",
       " ('双井', '116.461834', '39.893512'),\n",
       " ('十里河', '116.457983', '39.866417'),\n",
       " ('角门西', '116.371154', '39.845850'),\n",
       " ('草桥', '116.351387', '39.845869'),\n",
       " ('西局', '116.303819', '39.866770'),\n",
       " ('六里桥', '116.302808', '39.880239'),\n",
       " ('公主坟', '116.309919', '39.907469'),\n",
       " ('慈寿寺', '116.295467', '39.933268'),\n",
       " ('知春路', '116.339960', '39.976476'),\n",
       " ('西二旗', '116.306295', '40.053034'),\n",
       " ('霍营', '116.360286', '40.071857'),\n",
       " ('立水桥', '116.412350', '40.053032'),\n",
       " ('望京西', '116.449884', '39.995724'),\n",
       " ('芍药居', '116.435914', '39.977636'),\n",
       " ('望京', '116.469409', '39.998521'),\n",
       " ('金台路', '116.478115', '39.923556'),\n",
       " ('大望路', '116.475783', '39.908287'),\n",
       " ('九龙山', '116.478695', '39.893222'),\n",
       " ('十里河', '116.457983', '39.866417'),\n",
       " ('蒲黄榆', '116.423720', '39.865621'),\n",
       " ('永定门外', '116.399369', '39.867435'),\n",
       " ('北京南站', '116.378963', '39.865029'),\n",
       " ('西局', '116.303819', '39.866770'),\n",
       " ('七里庄', '116.294292', '39.866773'),\n",
       " ('望京', '116.469409', '39.998521'),\n",
       " ('望京西', '116.449884', '39.995724'),\n",
       " ('大屯路东', '116.417377', '40.003841'),\n",
       " ('奥林匹克公园', '116.391758', '40.002207'),\n",
       " ('西苑', '116.290908', '39.998258'),\n",
       " ('四惠', '116.495456', '39.908749'),\n",
       " ('四惠东', '116.515664', '39.908495'),\n",
       " ('花庄', '116.695495', '39.856722'),\n",
       " ('朱辛庄', '116.313698', '40.104297'),\n",
       " ('西二旗', '116.306295', '40.053034'),\n",
       " ('草桥', '116.351387', '39.845869'),\n",
       " ('阎村东', '116.100817', '39.729028'),\n",
       " ('郭公庄', '116.301889', '39.814322'),\n",
       " ('三元桥', '116.456997', '39.961508'),\n",
       " ('巴沟', '116.293727', '39.974179'),\n",
       " ('阎村东', '116.100817', '39.729028'),\n",
       " ('四道桥', '116.134010', '39.916030'),\n",
       " ('桥户营', '116.125809', '39.912383'),\n",
       " ('上岸', '116.122225', '39.905138'),\n",
       " ('栗园庄', '116.123254', '39.895780'),\n",
       " ('小园', '116.114443', '39.890465'),\n",
       " ('石厂', '116.100334', '39.889378'),\n",
       " ('苹果园', '116.177388', '39.926727'),\n",
       " ('古城', '116.190337', '39.907450'),\n",
       " ('八角游乐园', '116.212684', '39.907442'),\n",
       " ('八宝山', '116.235948', '39.907440'),\n",
       " ('玉泉路', '116.252888', '39.907433'),\n",
       " ('五棵松', '116.273987', '39.907456'),\n",
       " ('万寿路', '116.294765', '39.907474'),\n",
       " ('木樨地', '116.337583', '39.907379'),\n",
       " ('南礼士路', '116.352583', '39.907234'),\n",
       " ('天安门西', '116.391278', '39.907472'),\n",
       " ('天安门东', '116.401216', '39.907780'),\n",
       " ('王府井', '116.411571', '39.908069'),\n",
       " ('永安里', '116.450497', '39.908454'),\n",
       " ('安定门', '116.408240', '39.949180'),\n",
       " ('东四十条', '116.434133', '39.933801'),\n",
       " ('北京站', '116.427287', '39.904983'),\n",
       " ('前门', '116.397937', '39.900192'),\n",
       " ('和平门', '116.384209', '39.900098'),\n",
       " ('长椿街', '116.363355', '39.899433'),\n",
       " ('阜成门', '116.356009', '39.923686'),\n",
       " ('天宫院', '116.319932', '39.670342'),\n",
       " ('生物医药基地', '116.321662', '39.686510'),\n",
       " ('义和庄', '116.319079', '39.712387'),\n",
       " ('黄村火车站', '116.332611', '39.722966'),\n",
       " ('黄村西大街', '116.332631', '39.731769'),\n",
       " ('清源路', '116.332513', '39.742724'),\n",
       " ('枣园', '116.332204', '39.753458'),\n",
       " ('高米店南', '116.331605', '39.763489'),\n",
       " ('高米店北', '116.330787', '39.773547'),\n",
       " ('西红门', '116.328689', '39.789800'),\n",
       " ('新宫', '116.365549', '39.812592'),\n",
       " ('公益西桥', '116.370796', '39.836135'),\n",
       " ('马家堡', '116.371361', '39.853109'),\n",
       " ('陶然亭', '116.374383', '39.878470'),\n",
       " ('灵境胡同', '116.373746', '39.915912'),\n",
       " ('西四', '116.373332', '39.924206'),\n",
       " ('新街口', '116.367742', '39.940667'),\n",
       " ('动物园', '116.339031', '39.938250'),\n",
       " ('魏公村', '116.323220', '39.957904'),\n",
       " ('人民大学', '116.321367', '39.966956'),\n",
       " ('中关村', '116.316467', '39.983991'),\n",
       " ('北京大学东门', '116.315842', '39.992212'),\n",
       " ('圆明园', '116.310186', '39.999662'),\n",
       " ('北宫门', '116.277647', '40.002373'),\n",
       " ('安河桥北', '116.269956', '40.012195'),\n",
       " ('刘家窑', '116.422119', '39.857521'),\n",
       " ('天坛东门', '116.420833', '39.882558'),\n",
       " ('灯市口', '116.417783', '39.917113'),\n",
       " ('张自忠路', '116.417156', '39.933592'),\n",
       " ('北新桥', '116.416884', '39.940782'),\n",
       " ('和平里北街', '116.418504', '39.958734'),\n",
       " ('和平西桥', '116.417975', '39.968386'),\n",
       " ('惠新西街北口', '116.417028', '39.987836'),\n",
       " ('北苑路北', '116.418089', '40.030436'),\n",
       " ('立水桥南', '116.414496', '40.041956'),\n",
       " ('天通苑南', '116.412661', '40.066458'),\n",
       " ('天通苑', '116.412759', '40.075222'),\n",
       " ('天通苑北', '116.412888', '40.083668'),\n",
       " ('潞城', '116.747434', '39.902652'),\n",
       " ('东夏园', '116.733850', '39.903147'),\n",
       " ('郝家府', '116.717826', '39.903195'),\n",
       " ('北运河东', '116.707056', '39.903268'),\n",
       " ('北运河西', '116.688358', '39.903024'),\n",
       " ('通州北关', '116.661131', '39.917962'),\n",
       " ('物资学院路', '116.639316', '39.926801'),\n",
       " ('草房', '116.615574', '39.924477'),\n",
       " ('常营', '116.599722', '39.925696'),\n",
       " ('黄渠', '116.578266', '39.924201'),\n",
       " ('褡裢坡', '116.563961', '39.924021'),\n",
       " ('青年路', '116.517429', '39.923168'),\n",
       " ('十里堡', '116.502045', '39.923076'),\n",
       " ('东大桥', '116.451657', '39.923054'),\n",
       " ('北海北', '116.386829', '39.933247'),\n",
       " ('车公庄西', '116.344082', '39.932466'),\n",
       " ('花园桥', '116.310683', '39.932340'),\n",
       " ('海淀五路居', '116.276531', '39.932584'),\n",
       " ('田村', '116.252914', '39.929503'),\n",
       " ('廖公庄', '116.227292', '39.932422'),\n",
       " ('西黄村', '116.206932', '39.933605'),\n",
       " ('杨庄', '116.187004', '39.927850'),\n",
       " ('高楼金', '116.684340', '39.863154'),\n",
       " ('群芳', '116.670792', '39.863515'),\n",
       " ('万盛东', '116.657379', '39.863491'),\n",
       " ('万盛西', '116.632160', '39.863328'),\n",
       " ('黑庄户', '116.599119', '39.858725'),\n",
       " ('郎辛庄', '116.569826', '39.856496'),\n",
       " ('黄厂', '116.553759', '39.848979'),\n",
       " ('焦化厂', '116.537247', '39.855488'),\n",
       " ('双合', '116.526836', '39.859691'),\n",
       " ('垡头', '116.511821', '39.860728'),\n",
       " ('欢乐谷景区', '116.500067', '39.866505'),\n",
       " ('南楼梓庄', '116.501084', '39.874578'),\n",
       " ('化工', '116.503439', '39.887369'),\n",
       " ('百子湾', '116.497768', '39.892530'),\n",
       " ('大郊亭', '116.487935', '39.893183'),\n",
       " ('广渠门外', '116.448998', '39.893648'),\n",
       " ('广渠门内', '116.433877', '39.893673'),\n",
       " ('桥湾', '116.408464', '39.892725'),\n",
       " ('虎坊桥', '116.384596', '39.889486'),\n",
       " ('广安门内', '116.358239', '39.889418'),\n",
       " ('达官营', '116.336455', '39.889884'),\n",
       " ('湾子', '116.327753', '39.889954'),\n",
       " ('中国美术馆', '116.410803', '39.923705'),\n",
       " ('什刹海', '116.396219', '39.937583'),\n",
       " ('安德里北街', '116.395145', '39.957227'),\n",
       " ('安华桥', '116.394655', '39.968507'),\n",
       " ('奥体中心', '116.393759', '39.985837'),\n",
       " ('森林公园南门', '116.392600', '40.010122'),\n",
       " ('林萃桥', '116.372998', '40.021906'),\n",
       " ('永泰庄', '116.354580', '40.037728'),\n",
       " ('西小口', '116.351644', '40.046873'),\n",
       " ('育新', '116.347328', '40.060039'),\n",
       " ('回龙观东大街', '116.363025', '40.081175'),\n",
       " ('平西府', '116.350425', '40.090607'),\n",
       " ('育知路', '116.326992', '40.087863'),\n",
       " ('天桥', '116.398712', '39.881920'),\n",
       " ('木樨园', '116.399839', '39.859262'),\n",
       " ('海户屯', '116.400301', '39.851805'),\n",
       " ('大红门南', '116.401045', '39.836715'),\n",
       " ('和义', '116.402073', '39.814838'),\n",
       " ('东高地', '116.409427', '39.805074'),\n",
       " ('火箭万源', '116.418627', '39.799287'),\n",
       " ('五福堂', '116.423903', '39.785046'),\n",
       " ('德茂', '116.441617', '39.772709'),\n",
       " ('瀛海', '116.448958', '39.760694'),\n",
       " ('丰台科技园', '116.297176', '39.825233'),\n",
       " ('科怡路', '116.297432', '39.832480'),\n",
       " ('丰台南路', '116.296748', '39.840444'),\n",
       " ('丰台东大街', '116.293857', '39.855111'),\n",
       " ('六里桥东', '116.315142', '39.886886'),\n",
       " ('白堆子', '116.325762', '39.923818'),\n",
       " ('苏州街', '116.306332', '39.975642'),\n",
       " ('知春里', '116.328709', '39.976334'),\n",
       " ('西土城', '116.354098', '39.976549'),\n",
       " ('牡丹园', '116.369844', '39.976603'),\n",
       " ('健德门', '116.381353', '39.976723'),\n",
       " ('安贞门', '116.405954', '39.977005'),\n",
       " ('太阳宫', '116.447469', '39.972678'),\n",
       " ('亮马桥', '116.461794', '39.949415'),\n",
       " ('农业展览馆', '116.461724', '39.941344'),\n",
       " ('团结湖', '116.461806', '39.933747'),\n",
       " ('金台夕照', '116.461743', '39.916838'),\n",
       " ('劲松', '116.461325', '39.884387'),\n",
       " ('潘家园', '116.460926', '39.875387'),\n",
       " ('分钟寺', '116.453976', '39.852227'),\n",
       " ('成寿寺', '116.447531', '39.845874'),\n",
       " ('石榴庄', '116.414103', '39.845905'),\n",
       " ('大红门', '116.399154', '39.845383'),\n",
       " ('角门东', '116.385649', '39.845135'),\n",
       " ('纪家庙', '116.333381', '39.844433'),\n",
       " ('首经贸', '116.320202', '39.844463'),\n",
       " ('丰台站', '116.304540', '39.849639'),\n",
       " ('泥洼', '116.304173', '39.858609'),\n",
       " ('莲花桥', '116.310347', '39.897867'),\n",
       " ('西钓鱼台', '116.298064', '39.923481'),\n",
       " ('长春桥', '116.294255', '39.958527'),\n",
       " ('火器营', '116.289058', '39.965938'),\n",
       " ('大钟寺', '116.345139', '39.966612'),\n",
       " ('五道口', '116.337742', '39.992894'),\n",
       " ('上地', '116.320193', '40.033007'),\n",
       " ('清河', '116.314797', '40.041090'),\n",
       " ('龙泽', '116.319429', '40.070882'),\n",
       " ('回龙观', '116.336116', '40.070800'),\n",
       " ('北苑', '116.434518', '40.042997'),\n",
       " ('光熙门', '116.431761', '39.968337'),\n",
       " ('柳芳', '116.432728', '39.958157'),\n",
       " ('善各庄', '116.478195', '40.027160'),\n",
       " ('来广营', '116.466994', '40.020588'),\n",
       " ('东湖渠', '116.467412', '40.010670'),\n",
       " ('阜通', '116.471740', '39.991699'),\n",
       " ('望京南', '116.481634', '39.984634'),\n",
       " ('将台', '116.489496', '39.971109'),\n",
       " ('东风北桥', '116.485919', '39.958375'),\n",
       " ('枣营', '116.474947', '39.944132'),\n",
       " ('朝阳公园', '116.478291', '39.933492'),\n",
       " ('平乐园', '116.477307', '39.885275'),\n",
       " ('北工大西门', '116.477319', '39.875445'),\n",
       " ('方庄', '116.440244', '39.865868'),\n",
       " ('景泰', '116.411027', '39.865255'),\n",
       " ('大井', '116.276061', '39.865226'),\n",
       " ('郭庄子', '116.253068', '39.864841'),\n",
       " ('大瓦窑', '116.240480', '39.859470'),\n",
       " ('园博园', '116.201643', '39.861328'),\n",
       " ('张郭庄', '116.187193', '39.858100'),\n",
       " ('俸伯', '116.684732', '40.132573'),\n",
       " ('顺义', '116.657023', '40.129994'),\n",
       " ('石门', '116.641117', '40.129802'),\n",
       " ('南法信', '116.609535', '40.128478'),\n",
       " ('后沙峪', '116.564211', '40.114127'),\n",
       " ('花梨坎', '116.557593', '40.084436'),\n",
       " ('国展', '116.555127', '40.070030'),\n",
       " ('孙河', '116.534700', '40.045113'),\n",
       " ('马泉营', '116.503480', '40.033721'),\n",
       " ('崔各庄', '116.492968', '40.022201'),\n",
       " ('望京东', '116.487105', '40.003200'),\n",
       " ('关庄', '116.430947', '40.001134'),\n",
       " ('安立路', '116.407845', '40.002619'),\n",
       " ('北沙滩', '116.368143', '40.001492'),\n",
       " ('六道口', '116.352670', '40.000958'),\n",
       " ('清华东路西口', '116.339530', '40.000673'),\n",
       " ('北安河', '116.130428', '40.068128'),\n",
       " ('温阳路', '116.161361', '40.068516'),\n",
       " ('稻香湖路', '116.188145', '40.068936'),\n",
       " ('屯佃', '116.215850', '40.068454'),\n",
       " ('永丰', '116.238481', '40.071868'),\n",
       " ('永丰南', '116.248154', '40.065575'),\n",
       " ('西北旺', '116.257923', '40.048703'),\n",
       " ('马连洼', '116.272520', '40.032637'),\n",
       " ('农大南路', '116.282272', '40.021398'),\n",
       " ('高碑店', '116.531421', '39.909448'),\n",
       " ('传媒大学', '116.554639', '39.909215'),\n",
       " ('双桥', '116.576709', '39.910139'),\n",
       " ('管庄', '116.599002', '39.909090'),\n",
       " ('八里桥', '116.618658', '39.906121'),\n",
       " ('通州北苑', '116.637252', '39.903864'),\n",
       " ('果园', '116.646606', '39.893393'),\n",
       " ('九棵树', '116.657533', '39.890278'),\n",
       " ('梨园', '116.668720', '39.883677'),\n",
       " ('临河里', '116.678811', '39.875496'),\n",
       " ('土桥', '116.686349', '39.871926'),\n",
       " ('昌平西山口', '116.195371', '40.244624'),\n",
       " ('十三陵景区', '116.207729', '40.240255'),\n",
       " ('昌平', '116.233590', '40.220550'),\n",
       " ('昌平东关', '116.262059', '40.221726'),\n",
       " ('北邵洼', '116.281949', '40.222001'),\n",
       " ('南邵', '116.287534', '40.207492'),\n",
       " ('沙河高教园', '116.280465', '40.164666'),\n",
       " ('沙河', '116.288865', '40.148278'),\n",
       " ('巩华城', '116.293979', '40.130900'),\n",
       " ('生命科学园', '116.294230', '40.094790'),\n",
       " ('大兴新城', '116.365522', '39.735583'),\n",
       " ('大兴机场', '116.416725', '39.511375'),\n",
       " ('苏庄', '116.125306', '39.723188'),\n",
       " ('良乡南关', '116.140804', '39.723202'),\n",
       " ('良乡大学城西', '116.156282', '39.723157'),\n",
       " ('良乡大学城', '116.176541', '39.723159'),\n",
       " ('良乡大学城北', '116.183480', '39.729906'),\n",
       " ('广阳城', '116.184985', '39.747930'),\n",
       " ('篱笆房', '116.189486', '39.760636'),\n",
       " ('长阳', '116.212692', '39.763871'),\n",
       " ('稻田', '116.218840', '39.794885'),\n",
       " ('大葆台', '116.291681', '39.807810'),\n",
       " ('T3航站楼', '116.615583', '40.052657'),\n",
       " ('T2航站楼', '116.592808', '40.079311'),\n",
       " ('颐和园西门', '116.263248', '39.985697'),\n",
       " ('茶棚', '116.248100', '39.982113'),\n",
       " ('万安', '116.231977', '39.984001'),\n",
       " ('植物园', '116.214853', '39.993582'),\n",
       " ('香山', '116.204491', '39.994056'),\n",
       " ('紫草坞', '116.086720', '39.724606'),\n",
       " ('阎村', '116.080165', '39.716731'),\n",
       " ('星城', '116.061370', '39.713681'),\n",
       " ('大石河东', '116.039906', '39.709893'),\n",
       " ('马各庄', '116.016606', '39.705103'),\n",
       " ('饶乐府', '116.006103', '39.701471'),\n",
       " ('房山城关', '115.989599', '39.706061'),\n",
       " ('燕山', '115.973395', '39.719615'),\n",
       " ('肖村', '116.448364', '39.834217'),\n",
       " ('小红门', '116.459226', '39.827951'),\n",
       " ('旧宫', '116.460789', '39.806910'),\n",
       " ('亦庄桥', '116.480307', '39.803011'),\n",
       " ('亦庄文化园', '116.490632', '39.806890'),\n",
       " ('万源街', '116.505403', '39.802971'),\n",
       " ('荣京东街', '116.513321', '39.793189'),\n",
       " ('荣昌东街', '116.521688', '39.782832'),\n",
       " ('同济南路', '116.539901', '39.772962'),\n",
       " ('经海路', '116.562321', '39.783673'),\n",
       " ('次渠南', '116.581357', '39.795118'),\n",
       " ('次渠', '116.591502', '39.803500'),\n",
       " ('亦庄火车站', '116.601913', '39.812607')]"
      ]
     },
     "execution_count": 18,
     "metadata": {},
     "output_type": "execute_result"
    }
   ],
   "source": [
    "stationLocationList"
   ]
  },
  {
   "cell_type": "code",
   "execution_count": 19,
   "metadata": {},
   "outputs": [],
   "source": [
    "#增设station坐标\n",
    "for name,longitude,latitude in stationLocationList:\n",
    "    if name not in stationLocation:\n",
    "        stationLocation[name] = [float(longitude),float(latitude)]"
   ]
  },
  {
   "cell_type": "code",
   "execution_count": 20,
   "metadata": {},
   "outputs": [],
   "source": [
    "import math\n",
    "\n",
    "def geo_distance(origin, destination):\n",
    "    \"\"\"\n",
    "    Calculate the Haversine distance.\n",
    "\n",
    "    Parameters\n",
    "    ----------\n",
    "    origin : tuple of float\n",
    "        (lat, long)\n",
    "    destination : tuple of float\n",
    "        (lat, long)\n",
    "\n",
    "    Returns\n",
    "    -------\n",
    "    distance_in_km : float\n",
    "\n",
    "    Examples\n",
    "    --------\n",
    "    >>> origin = (48.1372, 11.5756)  # Munich\n",
    "    >>> destination = (52.5186, 13.4083)  # Berlin\n",
    "    >>> round(distance(origin, destination), 1)\n",
    "    504.2\n",
    "    \"\"\"\n",
    "    lat1, lon1 = origin\n",
    "    lat2, lon2 = destination\n",
    "    radius = 6371  # km\n",
    "\n",
    "    dlat = math.radians(lat2 - lat1)\n",
    "    dlon = math.radians(lon2 - lon1)\n",
    "    a = (math.sin(dlat / 2) * math.sin(dlat / 2) +\n",
    "         math.cos(math.radians(lat1)) * math.cos(math.radians(lat2)) *\n",
    "         math.sin(dlon / 2) * math.sin(dlon / 2))\n",
    "    c = 2 * math.atan2(math.sqrt(a), math.sqrt(1 - a))\n",
    "    d = radius * c\n",
    "\n",
    "    return d\n"
   ]
  },
  {
   "cell_type": "code",
   "execution_count": 21,
   "metadata": {},
   "outputs": [],
   "source": [
    "def get_station_distance(station1,station2):\n",
    "    return geo_distance(stationLocation[station1],stationLocation[station2])"
   ]
  },
  {
   "cell_type": "code",
   "execution_count": 22,
   "metadata": {},
   "outputs": [
    {
     "data": {
      "text/plain": [
       "20.638175569493985"
      ]
     },
     "execution_count": 22,
     "metadata": {},
     "output_type": "execute_result"
    }
   ],
   "source": [
    "get_station_distance('双合','车公庄西')"
   ]
  },
  {
   "cell_type": "code",
   "execution_count": 23,
   "metadata": {},
   "outputs": [],
   "source": [
    "import networkx as nx\n",
    "import matplotlib.pyplot as plt\n",
    "plt.figure(3,figsize=(18,18))\n",
    "%matplotlib inline"
   ]
  },
  {
   "cell_type": "code",
   "execution_count": 24,
   "metadata": {},
   "outputs": [],
   "source": [
    "stationGraph = nx.Graph()"
   ]
  },
  {
   "cell_type": "code",
   "execution_count": 25,
   "metadata": {},
   "outputs": [],
   "source": [
    "stationGraph.add_nodes_from(list(stationLocation.keys()))"
   ]
  },
  {
   "cell_type": "code",
   "execution_count": 26,
   "metadata": {},
   "outputs": [
    {
     "data": {
      "text/plain": [
       "NodeView(('金安桥', '公主坟', '军事博物馆', '复兴门', '西单', '东单', '建国门', '国贸', '大望路', '四惠', '四惠东', '鼓楼大街', '雍和宫', '朝阳门', '崇文门', '宣武门', '车公庄', '角门西', '北京南站', '菜市口', '平安里', '国家图书馆', '海淀黄庄', '西苑', '蒲黄榆', '磁器口', '东四', '惠新西街南口', '大屯路东', '立水桥', '金台路', '呼家楼', '南锣鼓巷', '白石桥南', '慈寿寺', '花庄', '九龙山', '双井', '珠市口', '北京西站', '北土城', '奥林匹克公园', '霍营', '朱辛庄', '永定门外', '郭公庄', '七里庄', '六里桥', '知春路', '芍药居', '三元桥', '十里河', '草桥', '西局', '西二旗', '望京西', '望京', '阎村东', '巴沟', '四道桥', '桥户营', '上岸', '栗园庄', '小园', '石厂', '苹果园', '古城', '八角游乐园', '八宝山', '玉泉路', '五棵松', '万寿路', '木樨地', '南礼士路', '天安门西', '天安门东', '王府井', '永安里', '安定门', '东四十条', '北京站', '前门', '和平门', '长椿街', '阜成门', '天宫院', '生物医药基地', '义和庄', '黄村火车站', '黄村西大街', '清源路', '枣园', '高米店南', '高米店北', '西红门', '新宫', '公益西桥', '马家堡', '陶然亭', '灵境胡同', '西四', '新街口', '动物园', '魏公村', '人民大学', '中关村', '北京大学东门', '圆明园', '北宫门', '安河桥北', '刘家窑', '天坛东门', '灯市口', '张自忠路', '北新桥', '和平里北街', '和平西桥', '惠新西街北口', '北苑路北', '立水桥南', '天通苑南', '天通苑', '天通苑北', '潞城', '东夏园', '郝家府', '北运河东', '北运河西', '通州北关', '物资学院路', '草房', '常营', '黄渠', '褡裢坡', '青年路', '十里堡', '东大桥', '北海北', '车公庄西', '花园桥', '海淀五路居', '田村', '廖公庄', '西黄村', '杨庄', '高楼金', '群芳', '万盛东', '万盛西', '黑庄户', '郎辛庄', '黄厂', '焦化厂', '双合', '垡头', '欢乐谷景区', '南楼梓庄', '化工', '百子湾', '大郊亭', '广渠门外', '广渠门内', '桥湾', '虎坊桥', '广安门内', '达官营', '湾子', '中国美术馆', '什刹海', '安德里北街', '安华桥', '奥体中心', '森林公园南门', '林萃桥', '永泰庄', '西小口', '育新', '回龙观东大街', '平西府', '育知路', '天桥', '木樨园', '海户屯', '大红门南', '和义', '东高地', '火箭万源', '五福堂', '德茂', '瀛海', '丰台科技园', '科怡路', '丰台南路', '丰台东大街', '六里桥东', '白堆子', '苏州街', '知春里', '西土城', '牡丹园', '健德门', '安贞门', '太阳宫', '亮马桥', '农业展览馆', '团结湖', '金台夕照', '劲松', '潘家园', '分钟寺', '成寿寺', '石榴庄', '大红门', '角门东', '纪家庙', '首经贸', '丰台站', '泥洼', '莲花桥', '西钓鱼台', '长春桥', '火器营', '大钟寺', '五道口', '上地', '清河', '龙泽', '回龙观', '北苑', '光熙门', '柳芳', '善各庄', '来广营', '东湖渠', '阜通', '望京南', '将台', '东风北桥', '枣营', '朝阳公园', '平乐园', '北工大西门', '方庄', '景泰', '大井', '郭庄子', '大瓦窑', '园博园', '张郭庄', '俸伯', '顺义', '石门', '南法信', '后沙峪', '花梨坎', '国展', '孙河', '马泉营', '崔各庄', '望京东', '关庄', '安立路', '北沙滩', '六道口', '清华东路西口', '北安河', '温阳路', '稻香湖路', '屯佃', '永丰', '永丰南', '西北旺', '马连洼', '农大南路', '高碑店', '传媒大学', '双桥', '管庄', '八里桥', '通州北苑', '果园', '九棵树', '梨园', '临河里', '土桥', '昌平西山口', '十三陵景区', '昌平', '昌平东关', '北邵洼', '南邵', '沙河高教园', '沙河', '巩华城', '生命科学园', '大兴新城', '大兴机场', '苏庄', '良乡南关', '良乡大学城西', '良乡大学城', '良乡大学城北', '广阳城', '篱笆房', '长阳', '稻田', '大葆台', 'T3航站楼', 'T2航站楼', '颐和园西门', '茶棚', '万安', '植物园', '香山', '紫草坞', '阎村', '星城', '大石河东', '马各庄', '饶乐府', '房山城关', '燕山', '肖村', '小红门', '旧宫', '亦庄桥', '亦庄文化园', '万源街', '荣京东街', '荣昌东街', '同济南路', '经海路', '次渠南', '次渠', '亦庄火车站'))"
      ]
     },
     "execution_count": 26,
     "metadata": {},
     "output_type": "execute_result"
    }
   ],
   "source": [
    "stationGraph.nodes()"
   ]
  },
  {
   "cell_type": "code",
   "execution_count": 27,
   "metadata": {},
   "outputs": [
    {
     "data": {
      "image/png": "[encoded data removed]",
      "text/plain": [
       "<Figure size 432x288 with 1 Axes>"
      ]
     },
     "metadata": {},
     "output_type": "display_data"
    }
   ],
   "source": [
    "nx.draw(stationGraph,stationLocation,node_size = 10)"
   ]
  },
  {
   "cell_type": "markdown",
   "metadata": {},
   "source": [
    "##### 2. Preprocessing data"
   ]
  },
  {
   "cell_type": "markdown",
   "metadata": {},
   "source": [
    "# 将各号线相邻的地铁站点连接起来"
   ]
  },
  {
   "cell_type": "code",
   "execution_count": 28,
   "metadata": {},
   "outputs": [
    {
     "data": {
      "text/plain": [
       "defaultdict(list, {})"
      ]
     },
     "execution_count": 28,
     "metadata": {},
     "output_type": "execute_result"
    }
   ],
   "source": [
    "from collections import defaultdict\n",
    "stationsConnection = defaultdict(list)\n",
    "stationsConnection"
   ]
  },
  {
   "cell_type": "code",
   "execution_count": 29,
   "metadata": {},
   "outputs": [],
   "source": [
    "for line in allSubwayStation.keys():\n",
    "    for i,station in enumerate(allSubwayStation[line][:-1]):\n",
    "        if station == allSubwayStation[line][i+1]: continue\n",
    "        \n",
    "        if allSubwayStation[line][i+1] not in stationsConnection[station]:\n",
    "            stationsConnection[station].append(allSubwayStation[line][i+1])\n",
    "        if station not in stationsConnection[allSubwayStation[line][i+1]]:\n",
    "            stationsConnection[allSubwayStation[line][i+1]].append(station)"
   ]
  },
  {
   "cell_type": "code",
   "execution_count": 30,
   "metadata": {},
   "outputs": [],
   "source": [
    "stationsGraphConnection = nx.Graph(stationsConnection)"
   ]
  },
  {
   "cell_type": "code",
   "execution_count": 31,
   "metadata": {},
   "outputs": [
    {
     "data": {
      "text/plain": [
       "EdgeView([('巴沟', '苏州街'), ('苏州街', '海淀黄庄'), ('海淀黄庄', '知春里'), ('海淀黄庄', '中关村'), ('海淀黄庄', '人民大学'), ('知春里', '知春路'), ('知春路', '西土城'), ('知春路', '大钟寺'), ('知春路', '五道口'), ('西土城', '牡丹园'), ('牡丹园', '健德门'), ('健德门', '北土城'), ('北土城', '安贞门'), ('北土城', '奥体中心'), ('北土城', '安华桥'), ('安贞门', '惠新西街南口'), ('惠新西街南口', '芍药居'), ('惠新西街南口', '和平西桥'), ('惠新西街南口', '惠新西街北口'), ('芍药居', '太阳宫'), ('芍药居', '望京西'), ('芍药居', '光熙门'), ('太阳宫', '三元桥'), ('三元桥', '亮马桥'), ('三元桥', '东直门'), ('三元桥', 'T3航站楼'), ('亮马桥', '农业展览馆'), ('农业展览馆', '团结湖'), ('团结湖', '呼家楼'), ('呼家楼', '金台夕照'), ('呼家楼', '东大桥'), ('呼家楼', '金台路'), ('金台夕照', '国贸'), ('国贸', '双井'), ('国贸', '永安里'), ('国贸', '大望路'), ('双井', '劲松'), ('双井', '广渠门外'), ('双井', '九龙山'), ('劲松', '潘家园'), ('潘家园', '十里河'), ('十里河', '分钟寺'), ('十里河', '方庄'), ('十里河', '北工大西门'), ('分钟寺', '成寿寺'), ('成寿寺', '宋家庄'), ('宋家庄', '石榴庄'), ('宋家庄', '肖村'), ('宋家庄', '刘家窑'), ('石榴庄', '大红门'), ('大红门', '角门东'), ('角门东', '角门西'), ('角门西', '草桥'), ('角门西', '马家堡'), ('角门西', '公益西桥'), ('草桥', '纪家庙'), ('纪家庙', '首经贸'), ('首经贸', '丰台站'), ('丰台站', '泥洼'), ('泥洼', '西局'), ('西局', '六里桥'), ('西局', '七里庄'), ('六里桥', '莲花桥'), ('六里桥', '七里庄'), ('六里桥', '六里桥东'), ('莲花桥', '公主坟'), ('公主坟', '西钓鱼台'), ('公主坟', '万寿路'), ('公主坟', '军事博物馆'), ('西钓鱼台', '慈寿寺'), ('慈寿寺', '车道沟'), ('慈寿寺', '海淀五路居'), ('慈寿寺', '花园桥'), ('车道沟', '长春桥'), ('长春桥', '火器营'), ('肖村', '小红门'), ('小红门', '旧宫'), ('旧宫', '亦庄桥'), ('亦庄桥', '亦庄文化园'), ('亦庄文化园', '万源街'), ('万源街', '荣京东街'), ('荣京东街', '荣昌东街'), ('荣昌东街', '同济南路'), ('同济南路', '经海路'), ('经海路', '次渠南'), ('次渠南', '次渠'), ('东直门', '雍和宫'), ('东直门', '东四十条'), ('东直门', '柳芳'), ('T3航站楼', 'T2航站楼'), ('北京西站', '湾子'), ('北京西站', '六里桥东'), ('北京西站', '军事博物馆'), ('湾子', '达官营'), ('达官营', '广安门内'), ('广安门内', '菜市口'), ('菜市口', '虎坊桥'), ('菜市口', '宣武门'), ('菜市口', '陶然亭'), ('虎坊桥', '珠市口'), ('珠市口', '桥湾'), ('桥湾', '磁器口'), ('磁器口', '广渠门内'), ('磁器口', '天坛东门'), ('磁器口', '崇文门'), ('广渠门内', '广渠门外'), ('九龙山', '大郊亭'), ('九龙山', '北工大西门'), ('九龙山', '大望路'), ('大郊亭', '百子湾'), ('百子湾', '化工'), ('化工', '南楼梓庄'), ('南楼梓庄', '欢乐谷景区'), ('欢乐谷景区', '垡头'), ('垡头', '双合'), ('双合', '焦化厂'), ('积水潭', '鼓楼大街'), ('鼓楼大街', '安定门'), ('鼓楼大街', '安华桥'), ('鼓楼大街', '什刹海'), ('安定门', '雍和宫'), ('雍和宫', '北新桥'), ('雍和宫', '和平里北街'), ('东四十条', '朝阳门'), ('朝阳门', '建国门'), ('朝阳门', '东四'), ('朝阳门', '东大桥'), ('建国门', '北京站'), ('建国门', '东单'), ('建国门', '永安里'), ('北京站', '崇文门'), ('崇文门', '前门'), ('崇文门', '东单'), ('前门', '和平门'), ('和平门', '宣武门'), ('宣武门', '长椿街'), ('宣武门', '西单'), ('长椿街', '复兴门'), ('复兴门', '阜成门'), ('复兴门', '南礼士路'), ('复兴门', '西单'), ('阜成门', '车公庄'), ('车公庄', '西直门'), ('车公庄', '车公庄西'), ('车公庄', '平安里'), ('西直门', '动物园'), ('西直门', '新街口'), ('西直门', '大钟寺'), ('郭公庄', '丰台科技园'), ('郭公庄', '大葆台'), ('丰台科技园', '科怡路'), ('科怡路', '丰台南路'), ('丰台南路', '丰台东大街'), ('丰台东大街', '七里庄'), ('七里庄', '大井'), ('军事博物馆', '白堆子'), ('军事博物馆', '木樨地'), ('白堆子', '白石桥南'), ('白石桥南', '国家图书馆'), ('白石桥南', '花园桥'), ('白石桥南', '车公庄西'), ('国家图书馆', '魏公村'), ('国家图书馆', '动物园'), ('北京南站', '永定门外'), ('北京南站', '陶然亭'), ('北京南站', '马家堡'), ('永定门外', '景泰'), ('景泰', '蒲黄榆'), ('蒲黄榆', '方庄'), ('蒲黄榆', '刘家窑'), ('蒲黄榆', '天坛东门'), ('大望路', '金台路'), ('大望路', '四惠'), ('金台路', '枣营'), ('金台路', '十里堡'), ('枣营', '东风北桥'), ('东风北桥', '将台'), ('将台', '望京南'), ('望京南', '阜通'), ('阜通', '望京'), ('望京', '东湖渠'), ('望京', '崔各庄'), ('望京', '望京西'), ('东湖渠', '来广营'), ('来广营', '善各庄'), ('安河桥北', '北宫门'), ('北宫门', '西苑'), ('西苑', '圆明园'), ('圆明园', '北京大学东门'), ('北京大学东门', '中关村'), ('人民大学', '魏公村'), ('新街口', '平安里'), ('平安里', '西四'), ('平安里', '北海北'), ('西四', '灵境胡同'), ('灵境胡同', '西单'), ('西单', '天安门西'), ('公益西桥', '新宫'), ('新宫', '西红门'), ('西红门', '高米店北'), ('高米店北', '高米店南'), ('高米店南', '枣园'), ('枣园', '清源路'), ('清源路', '黄村西大街'), ('黄村西大街', '黄村火车站'), ('黄村火车站', '义和庄'), ('义和庄', '生物医药基地'), ('生物医药基地', '天宫院'), ('苹果园', '古城'), ('古城', '八角游乐园'), ('八角游乐园', '八宝山'), ('八宝山', '玉泉路'), ('玉泉路', '五棵松'), ('五棵松', '万寿路'), ('木樨地', '南礼士路'), ('天安门西', '天安门东'), ('天安门东', '王府井'), ('王府井', '东单'), ('东单', '灯市口'), ('四惠', '四惠东'), ('四惠东', '高碑店'), ('灯市口', '东四'), ('东四', '张自忠路'), ('东四', '南锣鼓巷'), ('张自忠路', '北新桥'), ('和平里北街', '和平西桥'), ('惠新西街北口', '大屯路东'), ('大屯路东', '北苑路北'), ('北苑路北', '立水桥南'), ('立水桥南', '立水桥'), ('立水桥', '天通苑南'), ('立水桥', '霍营'), ('立水桥', '北苑'), ('天通苑南', '天通苑'), ('天通苑', '天通苑北'), ('张郭庄', '园博园'), ('园博园', '大瓦窑'), ('大瓦窑', '郭庄子'), ('郭庄子', '大井'), ('朱辛庄', '育知路'), ('朱辛庄', '巩华城'), ('朱辛庄', '生命科学园'), ('育知路', '平西府'), ('平西府', '回龙观东大街'), ('回龙观东大街', '霍营'), ('霍营', '育新'), ('霍营', '回龙观'), ('育新', '西小口'), ('西小口', '永泰庄'), ('永泰庄', '林萃桥'), ('林萃桥', '森林公园南门'), ('森林公园南门', '奥林匹克公园'), ('奥林匹克公园', '奥体中心'), ('奥林匹克公园', '安立路'), ('奥林匹克公园', '北沙滩'), ('什刹海', '南锣鼓巷'), ('南锣鼓巷', '北海北'), ('高碑店', '传媒大学'), ('传媒大学', '双桥'), ('双桥', '管庄'), ('管庄', '八里桥'), ('八里桥', '通州北苑'), ('通州北苑', '果园'), ('果园', '九棵树'), ('九棵树', '梨园'), ('梨园', '临河里'), ('临河里', '土桥'), ('俸伯', '顺义'), ('顺义', '石门'), ('石门', '南法信'), ('南法信', '后沙峪'), ('后沙峪', '花梨坎'), ('花梨坎', '国展'), ('国展', '孙河'), ('孙河', '马泉营'), ('马泉营', '崔各庄'), ('望京西', '关庄'), ('望京西', '北苑'), ('关庄', '安立路'), ('北沙滩', '六道口'), ('六道口', '清华东路西口'), ('苏庄', '良乡南关'), ('良乡南关', '良乡大学城西'), ('良乡大学城西', '良乡大学城'), ('良乡大学城', '良乡大学城北'), ('良乡大学城北', '广阳城'), ('广阳城', '篱笆房'), ('篱笆房', '长阳'), ('长阳', '稻田'), ('稻田', '大葆台'), ('五道口', '上地'), ('上地', '西二旗'), ('西二旗', '龙泽'), ('西二旗', '生命科学园'), ('龙泽', '回龙观'), ('光熙门', '柳芳'), ('南邵', '沙河高教园'), ('沙河高教园', '沙河'), ('沙河', '巩华城'), ('十里堡', '青年路'), ('青年路', '褡裢坡'), ('褡裢坡', '黄渠'), ('黄渠', '常营'), ('常营', '草房'), ('草房', '物资学院路'), ('物资学院路', '通州北关'), ('通州北关', '北运河西'), ('北运河西', '郝家府'), ('郝家府', '东夏园'), ('东夏园', '潞城')])"
      ]
     },
     "execution_count": 31,
     "metadata": {},
     "output_type": "execute_result"
    }
   ],
   "source": [
    "stationsGraphConnection.edges"
   ]
  },
  {
   "cell_type": "code",
   "execution_count": 32,
   "metadata": {},
   "outputs": [],
   "source": [
    "#高德有些站点爬不到\n",
    "stationLocation['积水潭'] = (116.379185,39.954765)\n",
    "stationLocation['车道沟'] = (116.30724,39.951215)\n",
    "stationLocation['宋家庄'] = (116.42837,39.8457869613)\n",
    "stationLocation['西直门'] = (116.3554137,39.94030355)\n",
    "stationLocation['东直门'] = (116.4336633682,39.9411332638)\n",
    "#中文乱码\n",
    "plt.rcParams['font.sans-serif'] = [u'SimHei']\n",
    "plt.rcParams['axes.unicode_minus'] = False"
   ]
  },
  {
   "cell_type": "code",
   "execution_count": 33,
   "metadata": {},
   "outputs": [
    {
     "name": "stdout",
     "output_type": "stream",
     "text": [
      "Using matplotlib backend: MacOSX\n"
     ]
    },
    {
     "data": {
      "text/plain": [
       "'/Users/junjiexie/opt/anaconda3/lib/python3.7/site-packages/matplotlib/mpl-data/matplotlibrc'"
      ]
     },
     "execution_count": 33,
     "metadata": {},
     "output_type": "execute_result"
    }
   ],
   "source": [
    "import matplotlib\n",
    "import matplotlib.pyplot as plt\n",
    "%matplotlib \n",
    "matplotlib.matplotlib_fname()\n"
   ]
  },
  {
   "cell_type": "code",
   "execution_count": 34,
   "metadata": {},
   "outputs": [
    {
     "data": {
      "text/plain": [
       "<Figure size 3584x14400 with 0 Axes>"
      ]
     },
     "execution_count": 34,
     "metadata": {},
     "output_type": "execute_result"
    }
   ],
   "source": [
    "plt.figure(figsize = (100,100))"
   ]
  },
  {
   "cell_type": "code",
   "execution_count": 41,
   "metadata": {},
   "outputs": [
    {
     "name": "stderr",
     "output_type": "stream",
     "text": [
      "/Users/junjiexie/opt/anaconda3/lib/python3.7/site-packages/networkx/drawing/nx_pylab.py:579: MatplotlibDeprecationWarning: \n",
      "The iterable function was deprecated in Matplotlib 3.1 and will be removed in 3.3. Use np.iterable instead.\n",
      "  if not cb.iterable(width):\n",
      "findfont: Font family ['sans-serif'] not found. Falling back to DejaVu Sans.\n"
     ]
    }
   ],
   "source": [
    "nx.draw(stationsGraphConnection,stationLocation,with_labels = True,node_size = 10,font_size = 15)\n",
    "#mac显示字体bug一直没修复好，弄了2h最后放弃了，就是最后效果略丑"
   ]
  },
  {
   "cell_type": "markdown",
   "metadata": {},
   "source": [
    "Some tips:"
   ]
  },
  {
   "cell_type": "markdown",
   "metadata": {},
   "source": [
    "a. Find a suitable way to save the data you get from the web. (Note: The way you use to save the data should be able to be used to create the graph that your agent is going to explore)"
   ]
  },
  {
   "cell_type": "markdown",
   "metadata": {},
   "source": [
    "#### 3. Build the search agent"
   ]
  },
  {
   "cell_type": "markdown",
   "metadata": {},
   "source": [
    "# BFS First Edition"
   ]
  },
  {
   "cell_type": "code",
   "execution_count": 43,
   "metadata": {},
   "outputs": [],
   "source": [
    "def search_1(graph,start,destination):\n",
    "    pathes = [[start]]  # list 用来存储待搜索路径\n",
    "    visited = set() # set用来存储已搜索的节点\n",
    "    \n",
    "    while pathes:\n",
    "        path = pathes.pop(0)  #提取第一条路径\n",
    "        froniter = path[-1]   #提取即将要探索的节点\n",
    "        \n",
    "        if froniter in visited: continue  #检查如果该点已经探索过 则不用再探索\n",
    "            \n",
    "        successsors = graph[froniter]\n",
    "        \n",
    "        for city in successsors:      #遍历子节点\n",
    "            if city in path: continue  # check loop #检查会不会形成环\n",
    "            \n",
    "            new_path = path+[city]\n",
    "            \n",
    "            pathes.append(new_path)  #bfs     #将新路径加到list里面\n",
    "            #pathes = [new_path] + pathes #dfs\n",
    "            \n",
    "            if city == destination:  #检查目的地是不是已经搜索到了\n",
    "                return new_path\n",
    "        visited.add(froniter)"
   ]
  },
  {
   "cell_type": "code",
   "execution_count": 44,
   "metadata": {},
   "outputs": [
    {
     "data": {
      "text/plain": [
       "['朱辛庄',\n",
       " '育知路',\n",
       " '平西府',\n",
       " '回龙观东大街',\n",
       " '霍营',\n",
       " '立水桥',\n",
       " '北苑',\n",
       " '望京西',\n",
       " '关庄',\n",
       " '安立路',\n",
       " '奥林匹克公园',\n",
       " '北沙滩',\n",
       " '六道口']"
      ]
     },
     "execution_count": 44,
     "metadata": {},
     "output_type": "execute_result"
    }
   ],
   "source": [
    "search_1(stationsGraphConnection,\"朱辛庄\",\"六道口\")"
   ]
  },
  {
   "cell_type": "markdown",
   "metadata": {},
   "source": [
    "# Optimal search using variation of BFS"
   ]
  },
  {
   "cell_type": "code",
   "execution_count": 46,
   "metadata": {},
   "outputs": [],
   "source": [
    "def search_2(graph,start,destination,search_strategy):\n",
    "    pathes = [[start]]\n",
    "    visited = set()# ！\n",
    "    while pathes:\n",
    "        path = pathes.pop(0)\n",
    "        froniter = path[-1]\n",
    "        if froniter in visited : continue# ！\n",
    "            \n",
    "        if froniter == destination:# ！\n",
    "            return path# ！\n",
    "        \n",
    "        successsors = graph[froniter]\n",
    "        \n",
    "        for city in successsors:\n",
    "            if city in path: continue  # check loop\n",
    "            \n",
    "            new_path = path+[city]\n",
    "            \n",
    "            pathes.append(new_path)  #bfs\n",
    "            \n",
    "        pathes = search_strategy(pathes)\n",
    "        visited.add(froniter) # ！\n",
    "       # if pathes and (destination == pathes[0][-1]):\n",
    "       #     return pathes[0] "
   ]
  },
  {
   "cell_type": "code",
   "execution_count": 56,
   "metadata": {},
   "outputs": [],
   "source": [
    "def sort_by_distance(pathes):\n",
    "    def get_distance_of_path(path):\n",
    "        distance = 0\n",
    "        for i,_ in enumerate(path[:-1]):\n",
    "            distance += get_station_distance(path[i],path[i+1])\n",
    "        return distance\n",
    "    return sorted(pathes,key=get_distance_of_path)"
   ]
  },
  {
   "cell_type": "code",
   "execution_count": 61,
   "metadata": {},
   "outputs": [],
   "source": [
    "def sort_by_less_station(pathes):\n",
    "    '''换乘最少'''\n",
    "    return sorted(pathes,key=lambda x:len(x))"
   ]
  },
  {
   "cell_type": "code",
   "execution_count": 57,
   "metadata": {},
   "outputs": [],
   "source": [
    "def get_distance_of_path(path):\n",
    "    distance = 0\n",
    "    for i,_ in enumerate(path[:-1]):\n",
    "        distance += get_station_distance(path[i],path[i+1])\n",
    "    return distance"
   ]
  },
  {
   "cell_type": "code",
   "execution_count": 58,
   "metadata": {},
   "outputs": [
    {
     "data": {
      "text/plain": [
       "6.69032947634215"
      ]
     },
     "execution_count": 58,
     "metadata": {},
     "output_type": "execute_result"
    }
   ],
   "source": [
    "get_distance_of_path([\"朱辛庄\",\"六道口\"])"
   ]
  },
  {
   "cell_type": "code",
   "execution_count": 59,
   "metadata": {},
   "outputs": [
    {
     "data": {
      "text/plain": [
       "['朱辛庄',\n",
       " '育知路',\n",
       " '平西府',\n",
       " '回龙观东大街',\n",
       " '霍营',\n",
       " '立水桥',\n",
       " '北苑',\n",
       " '望京西',\n",
       " '关庄',\n",
       " '安立路',\n",
       " '奥林匹克公园',\n",
       " '北沙滩',\n",
       " '六道口']"
      ]
     },
     "execution_count": 59,
     "metadata": {},
     "output_type": "execute_result"
    }
   ],
   "source": [
    "search_2(stationsGraphConnection,\"朱辛庄\",\"六道口\",search_strategy=lambda x:x)"
   ]
  },
  {
   "cell_type": "code",
   "execution_count": 60,
   "metadata": {},
   "outputs": [
    {
     "data": {
      "text/plain": [
       "['朱辛庄',\n",
       " '育知路',\n",
       " '平西府',\n",
       " '回龙观东大街',\n",
       " '霍营',\n",
       " '育新',\n",
       " '西小口',\n",
       " '永泰庄',\n",
       " '林萃桥',\n",
       " '森林公园南门',\n",
       " '奥林匹克公园',\n",
       " '北沙滩',\n",
       " '六道口']"
      ]
     },
     "execution_count": 60,
     "metadata": {},
     "output_type": "execute_result"
    }
   ],
   "source": [
    "search_2(stationsGraphConnection,\"朱辛庄\",\"六道口\",search_strategy=lambda x:sort_by_distance(x))"
   ]
  },
  {
   "cell_type": "code",
   "execution_count": 63,
   "metadata": {},
   "outputs": [
    {
     "data": {
      "text/plain": [
       "['朱辛庄',\n",
       " '育知路',\n",
       " '平西府',\n",
       " '回龙观东大街',\n",
       " '霍营',\n",
       " '立水桥',\n",
       " '北苑',\n",
       " '望京西',\n",
       " '关庄',\n",
       " '安立路',\n",
       " '奥林匹克公园',\n",
       " '北沙滩',\n",
       " '六道口']"
      ]
     },
     "execution_count": 63,
     "metadata": {},
     "output_type": "execute_result"
    }
   ],
   "source": [
    "search_2(stationsGraphConnection,\"朱辛庄\",\"六道口\",search_strategy=lambda x:sort_by_less_station(x))"
   ]
  },
  {
   "cell_type": "markdown",
   "metadata": {},
   "source": [
    "Build the search agent based ont he graph you built."
   ]
  },
  {
   "cell_type": "markdown",
   "metadata": {},
   "source": [
    "for example, if you use Beijing subway graoh, and you run:"
   ]
  },
  {
   "cell_type": "markdown",
   "metadata": {},
   "source": [
    "\\>>> search(\"奥体中心“，”天安门“）"
   ]
  },
  {
   "cell_type": "markdown",
   "metadata": {},
   "source": [
    "You should get the result as follows: 奥体中心 -> A ->B ->C ... -> 天安门"
   ]
  },
  {
   "cell_type": "markdown",
   "metadata": {},
   "source": [
    "### (Optional) Improve your agent to make it able to find a path based on different strategies"
   ]
  },
  {
   "cell_type": "markdown",
   "metadata": {},
   "source": [
    "###  <评阅点> : 是否正确得到不同目标下的路径。"
   ]
  },
  {
   "cell_type": "markdown",
   "metadata": {},
   "source": [
    "Some ideas you might want to try:"
   ]
  },
  {
   "cell_type": "markdown",
   "metadata": {},
   "source": [
    "a. Find the shortest path between two stations."
   ]
  },
  {
   "cell_type": "markdown",
   "metadata": {},
   "source": [
    "b. Find the path that requires minimum transfers between two stations."
   ]
  },
  {
   "cell_type": "markdown",
   "metadata": {},
   "source": [
    "c. Combine the previous two ideas, find a more suitable path."
   ]
  },
  {
   "cell_type": "markdown",
   "metadata": {},
   "source": [
    "Compare your results with results obtained by using some apps such as Baidu map, A map, Google map or Apple map. If there is difference, try to explanate it."
   ]
  },
  {
   "cell_type": "markdown",
   "metadata": {},
   "source": [
    "## Congratulations ! You have finished the assignment of week 2."
   ]
  },
  {
   "cell_type": "markdown",
   "metadata": {},
   "source": [
    "![title](img/agent.png)"
   ]
  },
  {
   "cell_type": "markdown",
   "metadata": {},
   "source": [
    "### If you have any suggestions regarding the teaching, please feel free to send them to my eamil (eric.lee.xiao@gmail.com) "
   ]
  },
  {
   "cell_type": "code",
   "execution_count": null,
   "metadata": {},
   "outputs": [],
   "source": []
  }
 ],
 "metadata": {
  "history": [],
  "kernelspec": {
   "display_name": "Python 3",
   "language": "python",
   "name": "python3"
  },
  "language_info": {
   "codemirror_mode": {
    "name": "ipython",
    "version": 3
   },
   "file_extension": ".py",
   "mimetype": "text/x-python",
   "name": "python",
   "nbconvert_exporter": "python",
   "pygments_lexer": "ipython3",
   "version": "3.7.4"
  },
  "uuid": "f3293959-e30b-42bf-8be7-9df5541d7599"
 },
 "nbformat": 4,
 "nbformat_minor": 4
}
