{
 "cells": [
  {
   "cell_type": "markdown",
   "metadata": {},
   "source": [
    "# Assignment 4"
   ]
  },
  {
   "cell_type": "markdown",
   "metadata": {},
   "source": [
    "### 1. 复习上课内容以及复现课程代码"
   ]
  },
  {
   "cell_type": "markdown",
   "metadata": {},
   "source": [
    "在本部分，你需要复习上课内容和课程代码后，自己复现课程代码。"
   ]
  },
  {
   "cell_type": "markdown",
   "metadata": {},
   "source": [
    "### 2. 回答一下理论题目"
   ]
  },
  {
   "cell_type": "markdown",
   "metadata": {},
   "source": [
    "#### 1. What does a neuron compute?"
   ]
  },
  {
   "cell_type": "markdown",
   "metadata": {},
   "source": [
    "Ans: 神经元计算，模仿生物神经元的生物机理，简化出一种计算模型，接收多个输入，对每个输入乘上一个权重值，加上一个偏移量 ，然后在输出上加个激活函数，这样的计算过程便是神经元计算。"
   ]
  },
  {
   "cell_type": "markdown",
   "metadata": {},
   "source": [
    "####  2. Why we use non-linear activation funcitons in neural networks?"
   ]
  },
  {
   "cell_type": "markdown",
   "metadata": {},
   "source": [
    "Ans： 一方面是因为没有非线性激活函数的神经网络输出的值只能是线性的，而现实中很多情况是非线性的，在神经网络中加入非线性激活函数才更好地拟合现实中非线性的情况。\n",
    "    另一方面多层神经网络中，层与层之间若没有非线性激活函数相连，那么多层神经网络可以简化为一层。\n"
   ]
  },
  {
   "cell_type": "markdown",
   "metadata": {},
   "source": [
    "#### 3. What is the 'Logistic Loss' ?"
   ]
  },
  {
   "cell_type": "markdown",
   "metadata": {},
   "source": [
    "Ans: 逻辑回归模型使用的Loss函数为Logistic Loss函数\n",
    "\n",
    "$$ LogisticLoss = - y log \\hat y - (1 - y)log(1 - \\hat y)  $$\n",
    "\n",
    "$$ \\hat y 是模型预测值， y是真实值 $$"
   ]
  },
  {
   "cell_type": "markdown",
   "metadata": {},
   "source": [
    "#### 4. Assume that you are building a binary classifier for detecting if an image containing cats, which activation functions would you recommen using for the output layer ?\n",
    "\n",
    "A. ReLU    \n",
    "B. Leaky ReLU    \n",
    "C. sigmoid    \n",
    "D. tanh  "
   ]
  },
  {
   "cell_type": "markdown",
   "metadata": {},
   "source": [
    "Ans: 二分类输出概率，选择C sigmoid "
   ]
  },
  {
   "cell_type": "markdown",
   "metadata": {},
   "source": [
    "#### 5. Why we don't use zero initialization for all parameters ?"
   ]
  },
  {
   "cell_type": "markdown",
   "metadata": {},
   "source": [
    "Ans： 对于WX + b，对W矩阵的初始化不使用全0来初始化，是因为全0会导致所有的梯度下降反向传递后各个分支的W值完全相同，然后难以收敛到一个期望的状态。对于b来说则无所谓，全0初始化也没关系。"
   ]
  },
  {
   "cell_type": "markdown",
   "metadata": {},
   "source": [
    "#### 6. Can you implement the softmax function using python ? "
   ]
  },
  {
   "cell_type": "markdown",
   "metadata": {},
   "source": [
    "softmax 函数输入输出都是至少是个一维向量，并且输入向量和输出向量的维度是相等的。\n",
    "其中输入向量Z ,输出Y，z和y为Z和Y中的元素\n",
    "\n",
    "##  $$ y_n = \\frac {  e^{z_n}  }{  \\sum_{j=1}^m {e^{z_j}}  } $$\n",
    "\n",
    "n ： 当前的第n个元素\n",
    "\n",
    "m ： 输入的元素个数"
   ]
  },
  {
   "cell_type": "code",
   "execution_count": 5,
   "metadata": {
    "pycharm": {
     "is_executing": false
    }
   },
   "outputs": [
    {
     "name": "stdout",
     "output_type": "stream",
     "text": [
      "[0.011656230956039609, 0.03168492079612427, 0.0861285444362687, 0.23412165725273662, 0.6364086465588308]\n",
      "1.0\n",
      "[0.011655894183363012, 0.03168400535307716, 0.08612605600406874, 0.2341148929927061, 0.6363902593937069, 2.889207307800382e-05]\n",
      "0.9999999999999999\n"
     ]
    }
   ],
   "source": [
    "import math\n",
    "\n",
    "def softmax(Z:[]):\n",
    "    sumValue = sum([math.e ** z for z in Z])\n",
    "    return [math.e ** z / sumValue for z in Z]\n",
    "\n",
    "print(softmax([1,2,3,4,5]))\n",
    "print(sum(softmax([1,2,3,4,5])))\n",
    "print(softmax([1,2,3,4,5, -5]))\n",
    "print(sum(softmax([1,2,3,4,5, -5])))"
   ]
  },
  {
   "cell_type": "markdown",
   "metadata": {},
   "source": [
    "### 3.实践题"
   ]
  },
  {
   "cell_type": "markdown",
   "metadata": {},
   "source": [
    "#### In this practical part, you will build a simple digits recognizer to check if the digit in the image is larger than 5. This assignmnet will guide you step by step to finish your first small project in this course ."
   ]
  },
  {
   "cell_type": "markdown",
   "metadata": {},
   "source": [
    "#### 1 - Packages  \n",
    "sklearn is a famous package for machine learning.   \n",
    "matplotlib is a common package for vasualization."
   ]
  },
  {
   "cell_type": "code",
   "execution_count": 6,
   "metadata": {
    "pycharm": {
     "is_executing": false
    }
   },
   "outputs": [],
   "source": [
    "from sklearn import datasets\n",
    "import matplotlib.pyplot as plt\n",
    "from sklearn.model_selection import train_test_split"
   ]
  },
  {
   "cell_type": "markdown",
   "metadata": {},
   "source": [
    "#### 2 - Overvie of the dataset  \n",
    "    - a training set has m_train images labeled as 0 if the digit < 5 or 1 if the digit >= 5\n",
    "    - a test set contains m_test images labels as if the digit < 5 or 1 if the digit >= 5\n",
    "    - eah image if of shape (num_px, num_px ). Thus, each image is square(height=num_px and  width = num_px)"
   ]
  },
  {
   "cell_type": "code",
   "execution_count": 7,
   "metadata": {
    "pycharm": {
     "is_executing": false
    }
   },
   "outputs": [
    {
     "name": "stdout",
     "output_type": "stream",
     "text": [
      "1797\n",
      "[ 0.  0.  5. 13.  9.  1.  0.  0.  0.  0. 13. 15. 10. 15.  5.  0.  0.  3.\n",
      " 15.  2.  0. 11.  8.  0.  0.  4. 12.  0.  0.  8.  8.  0.  0.  5.  8.  0.\n",
      "  0.  9.  8.  0.  0.  4. 11.  0.  1. 12.  7.  0.  0.  2. 14.  5. 10. 12.\n",
      "  0.  0.  0.  0.  6. 13. 10.  0.  0.  0.]\n"
     ]
    },
    {
     "data": {
      "text/plain": [
       "<matplotlib.image.AxesImage at 0xc274c08>"
      ]
     },
     "execution_count": 7,
     "metadata": {},
     "output_type": "execute_result"
    },
    {
     "data": {
      "image/png": "[encoded data removed]",
      "text/plain": [
       "<Figure size 432x288 with 1 Axes>"
      ]
     },
     "metadata": {
      "needs_background": "light"
     },
     "output_type": "display_data"
    }
   ],
   "source": [
    "# Loading the data \n",
    "digits = datasets.load_digits()\n",
    "print(len(digits.data))\n",
    "print(digits.data[0])\n",
    "plt.imshow(digits.data[0].reshape([8,8]),cmap=plt.cm.gray_r)"
   ]
  },
  {
   "cell_type": "code",
   "execution_count": 8,
   "metadata": {
    "pycharm": {
     "is_executing": false
    }
   },
   "outputs": [
    {
     "data": {
      "image/png": "[encoded data removed]",
      "text/plain": [
       "<Figure size 432x288 with 100 Axes>"
      ]
     },
     "metadata": {},
     "output_type": "display_data"
    }
   ],
   "source": [
    "# Vilizating the data\n",
    "count = 100\n",
    "for i in range(0, count):\n",
    "    plt.subplot(count / 10, 10,i+1)\n",
    "    plt.imshow(digits.data[i].reshape([8,8]),cmap=plt.cm.gray_r)\n",
    "    plt.text(3,10,str(digits.target[i]))\n",
    "    plt.xticks([])\n",
    "    plt.yticks([])\n",
    "plt.show()"
   ]
  },
  {
   "cell_type": "code",
   "execution_count": 9,
   "metadata": {
    "pycharm": {
     "is_executing": false
    }
   },
   "outputs": [
    {
     "name": "stdout",
     "output_type": "stream",
     "text": [
      "1347\n",
      "450\n",
      "1347\n",
      "450\n"
     ]
    }
   ],
   "source": [
    "# Split the data into training set and test set \n",
    "X_train, X_test, y_train, y_test = train_test_split(digits.data, digits.target, test_size=0.25)\n",
    "\n",
    "print(len(X_train))\n",
    "print(len(X_test))\n",
    "print(len(y_train))\n",
    "print(len(y_test))"
   ]
  },
  {
   "cell_type": "code",
   "execution_count": 10,
   "metadata": {
    "pycharm": {
     "is_executing": false
    }
   },
   "outputs": [],
   "source": [
    "# reformulate the label. \n",
    "# If the digit is smaller than 5, the label is 0.\n",
    "# If the digit is larger than 5, the label is 1.\n",
    "\n",
    "y_train[y_train < 5 ] = 0\n",
    "y_train[y_train >= 5] = 1\n",
    "y_test[y_test < 5] = 0\n",
    "y_test[y_test >= 5] = 1"
   ]
  },
  {
   "cell_type": "code",
   "execution_count": 11,
   "metadata": {
    "pycharm": {
     "is_executing": false
    }
   },
   "outputs": [
    {
     "name": "stdout",
     "output_type": "stream",
     "text": [
      "(1347, 64)\n",
      "(450, 64)\n",
      "(1347,)\n",
      "(450,)\n"
     ]
    }
   ],
   "source": [
    "print(X_train.shape)\n",
    "print(X_test.shape)\n",
    "print(y_train.shape)\n",
    "print(y_test.shape)"
   ]
  },
  {
   "cell_type": "markdown",
   "metadata": {},
   "source": [
    "#### 3- Architecture of the neural network"
   ]
  },
  {
   "cell_type": "markdown",
   "metadata": {},
   "source": [
    "![title](./networks.png)"
   ]
  },
  {
   "cell_type": "code",
   "execution_count": 12,
   "metadata": {
    "pycharm": {
     "is_executing": false
    }
   },
   "outputs": [
    {
     "name": "stderr",
     "output_type": "stream",
     "text": [
      "'pwd' 不是内部或外部命令，也不是可运行的程序\n",
      "或批处理文件。\n"
     ]
    }
   ],
   "source": [
    "!pwd"
   ]
  },
  {
   "cell_type": "markdown",
   "metadata": {},
   "source": [
    "##### Mathematical expression of the algorithm:"
   ]
  },
  {
   "cell_type": "markdown",
   "metadata": {},
   "source": [
    "For one example $x^{(i)}$:   \n",
    " $$ z^{(i)} = w^T * x^{(i)} +b $$   \n",
    " $$ y^{(i)} = a^{(i)} = sigmoid(z^{(i)})$$   \n",
    " $$L(a^{(i)},y^{(i)}) = -y^{(i)} log(a^{(i)})-(1-y^{(i)})log(1-a^{(i)})$$"
   ]
  },
  {
   "cell_type": "markdown",
   "metadata": {},
   "source": [
    "The total cost over all training examples:\n",
    "$$ J = \\frac{1}{m}\\sum_{i=1}^{m}L(a^{(i)},y^{(i)}) $$"
   ]
  },
  {
   "cell_type": "markdown",
   "metadata": {},
   "source": [
    "#### 4 - Building the algorithm"
   ]
  },
  {
   "cell_type": "markdown",
   "metadata": {},
   "source": [
    "##### 4.1- Activation function    \n",
    "###### Exercise:\n",
    "Finish the sigmoid funciton "
   ]
  },
  {
   "cell_type": "code",
   "execution_count": 13,
   "metadata": {
    "pycharm": {
     "is_executing": false
    }
   },
   "outputs": [],
   "source": [
    "import numpy as np"
   ]
  },
  {
   "cell_type": "code",
   "execution_count": 14,
   "metadata": {
    "pycharm": {
     "is_executing": false
    }
   },
   "outputs": [
    {
     "name": "stdout",
     "output_type": "stream",
     "text": [
      "0.0\n",
      "0.04742587317756679\n",
      "0.11920292202211757\n",
      "0.3775406687981454\n",
      "0.5\n",
      "0.6224593312018546\n",
      "1.0\n"
     ]
    }
   ],
   "source": [
    "\n",
    "def sigmoid(z):\n",
    "    '''\n",
    "    Compute the sigmoid of z\n",
    "    Arguments: z -- a scalar or numpy array of any size.\n",
    "    \n",
    "    Return:\n",
    "    s -- sigmoid(z)\n",
    "    '''\n",
    "    s = 1 / (1 + np.e**-z)\n",
    "    \n",
    "    return s\n",
    "\n",
    "print(sigmoid(-float('inf')))\n",
    "print(sigmoid(-3))\n",
    "print(sigmoid(-2))\n",
    "print(sigmoid(-0.5))\n",
    "print(sigmoid(0))\n",
    "print(sigmoid(0.5))\n",
    "print(sigmoid(float('inf')))"
   ]
  },
  {
   "cell_type": "code",
   "execution_count": 15,
   "metadata": {
    "pycharm": {
     "is_executing": false
    }
   },
   "outputs": [
    {
     "name": "stdout",
     "output_type": "stream",
     "text": [
      "sigmoid([0,2]) = [0.5        0.88079708]\n"
     ]
    }
   ],
   "source": [
    "# Test your code \n",
    "# The result should be [0.5 0.88079708]\n",
    "print(\"sigmoid([0,2]) = \" + str(sigmoid(np.array([0,2]))))"
   ]
  },
  {
   "cell_type": "markdown",
   "metadata": {},
   "source": [
    "##### 4.1-Initializaing parameters\n",
    "###### Exercise:\n",
    "Finishe the initialize_parameters function below"
   ]
  },
  {
   "cell_type": "code",
   "execution_count": 16,
   "metadata": {
    "pycharm": {
     "is_executing": false
    }
   },
   "outputs": [
    {
     "data": {
      "text/plain": [
       "(array([[-2.24669255],\n",
       "        [-1.33274868],\n",
       "        [ 0.6659386 ],\n",
       "        [-0.3847559 ],\n",
       "        [-0.24298677],\n",
       "        [ 0.03908331],\n",
       "        [ 0.14931707],\n",
       "        [-1.03146879],\n",
       "        [ 0.08780328],\n",
       "        [-1.23166078],\n",
       "        [ 0.60299897],\n",
       "        [ 0.99331671],\n",
       "        [-0.12909868],\n",
       "        [ 0.714988  ],\n",
       "        [-0.96733884],\n",
       "        [ 0.53352856],\n",
       "        [ 0.44828614],\n",
       "        [ 0.09291265],\n",
       "        [-0.09131217],\n",
       "        [-0.935426  ],\n",
       "        [ 0.93477794],\n",
       "        [ 0.48986775],\n",
       "        [ 0.68596346],\n",
       "        [-0.30325323],\n",
       "        [ 0.09042381],\n",
       "        [ 0.47207062],\n",
       "        [-0.81043993],\n",
       "        [ 0.45792099],\n",
       "        [-0.20833629],\n",
       "        [ 1.38714005],\n",
       "        [-0.906098  ],\n",
       "        [ 0.31518439],\n",
       "        [-1.18332867],\n",
       "        [ 1.75044044],\n",
       "        [ 0.18846397],\n",
       "        [ 0.31445886],\n",
       "        [-0.12193844],\n",
       "        [-0.0424685 ],\n",
       "        [ 0.73188088],\n",
       "        [-1.33705882],\n",
       "        [ 0.14568001],\n",
       "        [ 0.30464367],\n",
       "        [ 1.36576659],\n",
       "        [ 0.77824776],\n",
       "        [ 1.66901718],\n",
       "        [-1.66598389],\n",
       "        [-0.69111336],\n",
       "        [-1.32873694],\n",
       "        [ 0.62070931],\n",
       "        [-0.92935999],\n",
       "        [ 0.78844061],\n",
       "        [-0.64424964],\n",
       "        [-0.26951835],\n",
       "        [-0.13628028],\n",
       "        [-0.21781493],\n",
       "        [ 0.07707171],\n",
       "        [-0.73964672],\n",
       "        [-0.11442966],\n",
       "        [ 0.20776169],\n",
       "        [-1.08332194],\n",
       "        [ 0.62377207],\n",
       "        [-0.12492395],\n",
       "        [ 0.39318697],\n",
       "        [ 1.5373106 ]]), 5e-05)"
      ]
     },
     "execution_count": 16,
     "metadata": {},
     "output_type": "execute_result"
    }
   ],
   "source": [
    "# Random innitialize the parameters\n",
    "\n",
    "def initialize_parameters(dim):\n",
    "    '''\n",
    "    Argument: dim -- size of the w vector\n",
    "    \n",
    "    Returns:\n",
    "    w -- initialized vector of shape (dim,1)\n",
    "    b -- initializaed scalar\n",
    "    '''\n",
    "    \n",
    "    w = np.random.randn(dim, 1)\n",
    "    b = 0.00005\n",
    "    \n",
    "    assert(w.shape == (dim,1))\n",
    "    assert(isinstance(b,float) or isinstance(b,int))\n",
    "    \n",
    "    return w,b\n",
    "\n",
    "w,b = initialize_parameters(64)\n",
    "w,b"
   ]
  },
  {
   "cell_type": "markdown",
   "metadata": {},
   "source": [
    "#### 4.3-Forward and backward propagation"
   ]
  },
  {
   "cell_type": "markdown",
   "metadata": {},
   "source": [
    "###### Some mathematical expressions\n",
    "Forward Propagation:   \n",
    ". X    \n",
    ". A = $\\sigma(w^T*X+b) = (a^{(1)},a^{(2)},...,a^{(m)}$   \n",
    ". J = $-\\frac{1}{m} \\sum_{i=1}^{m}y^{(i)}log(a^{(i)}+(1-y^{(i)})log(1-a^{(i)})$       "
   ]
  },
  {
   "cell_type": "markdown",
   "metadata": {},
   "source": [
    "Some derivative: \n",
    "$$\\frac{\\partial{J}}{\\partial{w}} = \\frac{1}{m}X*(A-Y)^T$$   \n",
    "$$\\frac{\\partial{J}}{\\partial{b}} = \\frac{1}{m}\\sum_{i=1}^m(a^{(i)}-y^{(i)}) $$"
   ]
  },
  {
   "cell_type": "markdown",
   "metadata": {},
   "source": [
    "###### Exercise:\n",
    "Finish the function below:"
   ]
  },
  {
   "cell_type": "code",
   "execution_count": 17,
   "metadata": {
    "pycharm": {
     "is_executing": false
    }
   },
   "outputs": [
    {
     "name": "stderr",
     "output_type": "stream",
     "text": [
      "D:\\ProgramData\\Anaconda3\\lib\\site-packages\\ipykernel_launcher.py:15: RuntimeWarning: divide by zero encountered in log\n",
      "  from ipykernel import kernelapp as app\n",
      "D:\\ProgramData\\Anaconda3\\lib\\site-packages\\ipykernel_launcher.py:15: RuntimeWarning: invalid value encountered in multiply\n",
      "  from ipykernel import kernelapp as app\n"
     ]
    },
    {
     "data": {
      "text/plain": [
       "({'dw': array([[ 0.00000000e+00],\n",
       "         [ 2.11545915e+00],\n",
       "         [ 3.92004786e+01],\n",
       "         [ 9.72093698e+01],\n",
       "         [ 9.55004822e+01],\n",
       "         [ 3.08481556e+01],\n",
       "         [ 1.72128901e+00],\n",
       "         [-2.78884938e-01],\n",
       "         [ 2.12778554e-02],\n",
       "         [ 1.53193040e+01],\n",
       "         [ 7.60534206e+01],\n",
       "         [ 1.08327412e+02],\n",
       "         [ 1.04901581e+02],\n",
       "         [ 7.42187073e+01],\n",
       "         [ 1.09408270e+01],\n",
       "         [ 2.75170256e-01],\n",
       "         [ 5.22434016e-02],\n",
       "         [ 2.02920216e+01],\n",
       "         [ 7.29883708e+01],\n",
       "         [ 6.87579015e+01],\n",
       "         [ 8.39674632e+01],\n",
       "         [ 8.12661297e+01],\n",
       "         [ 1.83751265e+01],\n",
       "         [ 6.48088904e-01],\n",
       "         [ 1.56249987e-02],\n",
       "         [ 2.26475840e+01],\n",
       "         [ 6.40237798e+01],\n",
       "         [ 5.32243967e+01],\n",
       "         [ 8.03868364e+01],\n",
       "         [ 6.66447209e+01],\n",
       "         [ 2.63478520e+01],\n",
       "         [ 3.12499181e-02],\n",
       "         [ 0.00000000e+00],\n",
       "         [ 2.99277970e+01],\n",
       "         [ 6.15578262e+01],\n",
       "         [ 6.33532994e+01],\n",
       "         [ 8.58710079e+01],\n",
       "         [ 6.59566084e+01],\n",
       "         [ 2.72434181e+01],\n",
       "         [ 0.00000000e+00],\n",
       "         [ 1.71874997e-01],\n",
       "         [ 2.18946553e+01],\n",
       "         [ 7.01926810e+01],\n",
       "         [ 7.18888131e+01],\n",
       "         [ 8.00691338e+01],\n",
       "         [ 6.59517829e+01],\n",
       "         [ 2.27007370e+01],\n",
       "         [ 1.56034326e-02],\n",
       "         [ 1.71874989e-01],\n",
       "         [ 6.86042617e+00],\n",
       "         [ 7.03131756e+01],\n",
       "         [ 9.04228664e+01],\n",
       "         [ 1.04510093e+02],\n",
       "         [ 8.23253583e+01],\n",
       "         [ 2.95312212e+01],\n",
       "         [ 3.01535679e+00],\n",
       "         [ 1.56250000e-02],\n",
       "         [ 2.15519968e+00],\n",
       "         [ 3.97384584e+01],\n",
       "         [ 9.87259321e+01],\n",
       "         [ 1.14831284e+02],\n",
       "         [ 6.65974621e+01],\n",
       "         [ 2.65121066e+01],\n",
       "         [ 7.29678488e+00]]), 'db': 8.727576412840145}, nan)"
      ]
     },
     "execution_count": 17,
     "metadata": {},
     "output_type": "execute_result"
    }
   ],
   "source": [
    "def propagate(w,b,X,Y):\n",
    "    '''\n",
    "    Implement the cost function and its gradient for the propagation\n",
    "    \n",
    "    Arguments:\n",
    "    w - weights\n",
    "    b - bias\n",
    "    X - data\n",
    "    Y - ground truth\n",
    "    '''\n",
    "    m = X.shape[1]\n",
    "#     print(m, \"w.shape\", w.shape, 'X.shape', X.shape)\n",
    "    A = sigmoid(np.dot(X, w) + b).reshape(-1)\n",
    "#     print(\"A.shape\", A.shape, \"Y.shape\", Y.shape, (A - Y).shape)\n",
    "    cost = -1/m * np.sum([y * np.log(a) + (1 - y)* np.log(1 - a) for y, a in zip(Y, A)])\n",
    "    \n",
    "    dw = 1/m * np.dot(X.T , (A - Y)).reshape(-1,1)\n",
    "#     print(\"dw.shape\", dw.shape)\n",
    "    db = 1/m * np.sum([a - y for y, a in zip(Y, A)])\n",
    "#     print(\"db\", db)\n",
    "    \n",
    "    assert(dw.shape == w.shape)\n",
    "    assert(db.dtype == float)\n",
    "    cost = np.squeeze(cost)\n",
    "    assert(cost.shape == ())\n",
    "    \n",
    "    grads = {'dw':dw,\n",
    "             'db':db}\n",
    "    return grads, cost\n",
    "\n",
    "# grads, cost = propagate(w,b,X_train[:30],y_train[:30])\n",
    "grads, cost = propagate(w,b,X_train,y_train)\n",
    "grads, cost"
   ]
  },
  {
   "cell_type": "markdown",
   "metadata": {},
   "source": [
    "##### 4.4 -Optimization"
   ]
  },
  {
   "cell_type": "markdown",
   "metadata": {},
   "source": [
    "###### Exercise:\n",
    "Minimizing the cost function using gradient descent.   \n",
    "$$\\theta = \\theta - \\alpha*d\\theta$$ where $\\alpha$ is the learning rate."
   ]
  },
  {
   "cell_type": "code",
   "execution_count": 18,
   "metadata": {
    "pycharm": {
     "is_executing": false
    }
   },
   "outputs": [
    {
     "name": "stderr",
     "output_type": "stream",
     "text": [
      "D:\\ProgramData\\Anaconda3\\lib\\site-packages\\ipykernel_launcher.py:15: RuntimeWarning: divide by zero encountered in log\n",
      "  from ipykernel import kernelapp as app\n",
      "D:\\ProgramData\\Anaconda3\\lib\\site-packages\\ipykernel_launcher.py:15: RuntimeWarning: invalid value encountered in multiply\n",
      "  from ipykernel import kernelapp as app\n"
     ]
    },
    {
     "name": "stdout",
     "output_type": "stream",
     "text": [
      "Cost after iteration 0: nan\n",
      "Cost after iteration 100: nan\n",
      "Cost after iteration 200: nan\n",
      "Cost after iteration 300: nan\n",
      "Cost after iteration 400: 10.983165\n",
      "Cost after iteration 500: 9.848305\n",
      "Cost after iteration 600: 8.986859\n",
      "Cost after iteration 700: 8.332920\n",
      "Cost after iteration 800: 9.840978\n",
      "Cost after iteration 900: 15.149395\n",
      "Cost after iteration 1000: 7.766300\n",
      "Cost after iteration 1100: 7.488885\n",
      "Cost after iteration 1200: 31.185200\n",
      "Cost after iteration 1300: 8.449105\n",
      "Cost after iteration 1400: 7.476232\n",
      "Cost after iteration 1500: 7.250817\n",
      "Cost after iteration 1600: 7.086719\n",
      "Cost after iteration 1700: 6.958745\n",
      "Cost after iteration 1800: 6.953595\n",
      "Cost after iteration 1900: 16.699111\n"
     ]
    }
   ],
   "source": [
    "def optimize(w, b, X, Y, num_iterations, learning_rate, print_cost=False):\n",
    "    '''\n",
    "    This function optimize w and b by running a gradient descen algorithm\n",
    "    \n",
    "    Arguments:\n",
    "    w - weights\n",
    "    b - bias\n",
    "    X - data\n",
    "    Y - ground truth\n",
    "    num_iterations -- number of iterations of the optimization loop\n",
    "    learning_rate -- learning rate of the gradient descent update rule\n",
    "    print_cost -- True to print the loss every 100 steps\n",
    "    \n",
    "    Returns:\n",
    "    params - dictionary containing the weights w and bias b\n",
    "    grads -- dictionary containing the gradients of the weights and bias with respect to the cost function\n",
    "    costs -- list of all the costs computed during the optimization, this will be used to plot the learning curve.\n",
    "    \n",
    "    '''\n",
    "    \n",
    "    costs = []\n",
    "    \n",
    "    for i in range(num_iterations):\n",
    "        \n",
    "        grads, cost = propagate(w,b,X,Y)\n",
    "        \n",
    "        dw = grads['dw']\n",
    "        db = grads['db']\n",
    "        \n",
    "        w = w - learning_rate * dw\n",
    "        b = b - learning_rate * db\n",
    "        \n",
    "        if i % 100 == 0:\n",
    "            costs.append(cost)\n",
    "        if print_cost and i % 100 == 0:\n",
    "            print (\"Cost after iteration %i: %f\" %(i, cost))\n",
    "    \n",
    "    params = {\"w\":w,\n",
    "              \"b\":b}\n",
    "    \n",
    "    grads = {\"dw\":dw,\n",
    "             \"db\":db}\n",
    "    \n",
    "    return params, grads, costs\n",
    "\n",
    "params, grads, costs = optimize(w,b,X_train,y_train, 2000, 0.001, print_cost=True)"
   ]
  },
  {
   "cell_type": "markdown",
   "metadata": {},
   "source": [
    "###### Exercise\n",
    "The previous function will output the learned w and b. We are able to use w and b to predict the labels for a dataset X. Implement the predict() function.    \n",
    "Two steps to finish this task:   \n",
    "1. Calculate $\\hat{Y} = A = \\sigma(w^T*X+b)$   \n",
    "2. Convert the entries of a into 0 (if activation <= 0.5) or 1 (if activation > 0.5), stores the predictions in a vector Y_prediction. If you wish, you can use an if/else statement in a for loop (though there is also a way to vectorize this)."
   ]
  },
  {
   "cell_type": "code",
   "execution_count": 19,
   "metadata": {
    "pycharm": {
     "is_executing": false
    }
   },
   "outputs": [
    {
     "data": {
      "text/plain": [
       "array([[ True,  True, False,  True, False,  True,  True, False,  True,\n",
       "         True,  True, False,  True, False,  True, False,  True,  True,\n",
       "         True,  True,  True,  True,  True,  True, False,  True, False,\n",
       "         True, False, False,  True,  True,  True,  True,  True,  True,\n",
       "        False,  True,  True,  True, False, False,  True,  True,  True,\n",
       "        False,  True,  True,  True,  True,  True,  True,  True, False,\n",
       "        False,  True,  True,  True,  True,  True,  True,  True, False,\n",
       "         True,  True,  True, False, False,  True,  True,  True,  True,\n",
       "         True, False,  True,  True,  True,  True,  True,  True, False,\n",
       "        False, False,  True, False, False,  True, False,  True,  True,\n",
       "         True, False, False, False,  True,  True,  True,  True,  True,\n",
       "        False,  True, False, False, False, False,  True,  True, False,\n",
       "         True, False,  True,  True, False,  True,  True,  True,  True,\n",
       "         True,  True,  True,  True,  True, False,  True,  True,  True,\n",
       "         True,  True,  True,  True,  True,  True,  True,  True,  True,\n",
       "         True,  True, False,  True,  True,  True,  True,  True, False,\n",
       "         True, False,  True,  True, False,  True,  True,  True, False,\n",
       "         True, False,  True,  True,  True,  True, False, False, False,\n",
       "         True,  True, False, False,  True,  True,  True,  True, False,\n",
       "         True,  True,  True,  True, False,  True, False, False,  True,\n",
       "         True, False, False,  True, False,  True, False,  True, False,\n",
       "        False, False,  True,  True,  True, False,  True, False, False,\n",
       "         True,  True,  True,  True,  True,  True, False,  True,  True,\n",
       "        False, False, False, False,  True, False,  True,  True, False,\n",
       "         True,  True, False,  True, False, False,  True, False,  True,\n",
       "         True,  True,  True,  True, False,  True, False, False,  True,\n",
       "         True, False, False,  True, False,  True,  True,  True,  True,\n",
       "         True, False, False,  True,  True,  True,  True,  True,  True,\n",
       "         True,  True,  True,  True,  True,  True,  True, False,  True,\n",
       "        False,  True,  True,  True, False,  True, False,  True,  True,\n",
       "         True, False, False, False, False,  True,  True,  True, False,\n",
       "         True, False,  True,  True, False,  True, False,  True,  True,\n",
       "         True,  True,  True,  True, False,  True, False,  True,  True,\n",
       "         True,  True, False,  True,  True, False, False,  True, False,\n",
       "        False, False,  True,  True,  True,  True,  True, False,  True,\n",
       "        False, False,  True, False,  True,  True,  True,  True,  True,\n",
       "         True,  True, False, False,  True,  True,  True,  True, False,\n",
       "         True, False,  True, False,  True,  True,  True,  True,  True,\n",
       "         True,  True,  True, False,  True, False,  True,  True,  True,\n",
       "         True,  True, False,  True,  True,  True,  True,  True,  True,\n",
       "         True,  True,  True, False,  True, False, False,  True,  True,\n",
       "         True,  True,  True,  True, False,  True,  True, False,  True,\n",
       "         True,  True,  True,  True,  True,  True,  True,  True,  True,\n",
       "         True,  True,  True,  True, False,  True,  True,  True,  True,\n",
       "         True,  True,  True,  True,  True,  True,  True,  True,  True,\n",
       "         True,  True,  True,  True,  True,  True,  True,  True, False,\n",
       "        False,  True,  True,  True,  True,  True,  True,  True, False,\n",
       "         True,  True,  True, False,  True,  True,  True,  True, False,\n",
       "        False, False,  True,  True, False,  True, False,  True,  True,\n",
       "        False, False, False,  True, False, False,  True,  True,  True]])"
      ]
     },
     "execution_count": 19,
     "metadata": {},
     "output_type": "execute_result"
    }
   ],
   "source": [
    "def predict(w, b, X):\n",
    "    '''\n",
    "    Predict whether the label is 0 or 1 using learned logistic regression parameters (w, b)\n",
    "    \n",
    "    Arguments:\n",
    "    w -- weights\n",
    "    b -- bias \n",
    "    X -- data \n",
    "    \n",
    "    Returns:\n",
    "    Y_prediction -- a numpy array (vector) containing all predictions (0/1) for the examples in X\n",
    "    '''\n",
    "    m = X.shape[0]\n",
    "    Y_prediction = np.zeros((1,m))\n",
    "    w = w.reshape(X.shape[1],1)\n",
    "    \n",
    "    A = sigmoid(np.dot(X, w) + b).reshape(-1)\n",
    "    \n",
    "    for i in range(A.shape[0]):\n",
    "        Y_prediction[0][i] = 1 if A[i] > 0.5 else 0\n",
    "    \n",
    "    assert(Y_prediction.shape == (1,m))\n",
    "    \n",
    "    return Y_prediction\n",
    "\n",
    "Y_prediction = predict(params['w'], params['b'], X_test)\n",
    "Y_prediction == y_test"
   ]
  },
  {
   "cell_type": "markdown",
   "metadata": {},
   "source": [
    "##### 5- Merge all functions into a model"
   ]
  },
  {
   "cell_type": "markdown",
   "metadata": {},
   "source": [
    "Congratulations !! You have finished all the necessary components for constructing a model. Now, Let's take the challenge to merge all the implemented function into one model."
   ]
  },
  {
   "cell_type": "code",
   "execution_count": 20,
   "metadata": {
    "pycharm": {
     "is_executing": false
    }
   },
   "outputs": [],
   "source": [
    "from collections import Counter"
   ]
  },
  {
   "cell_type": "code",
   "execution_count": 21,
   "metadata": {
    "pycharm": {
     "is_executing": false
    }
   },
   "outputs": [
    {
     "name": "stderr",
     "output_type": "stream",
     "text": [
      "D:\\ProgramData\\Anaconda3\\lib\\site-packages\\ipykernel_launcher.py:15: RuntimeWarning: divide by zero encountered in log\n",
      "  from ipykernel import kernelapp as app\n",
      "D:\\ProgramData\\Anaconda3\\lib\\site-packages\\ipykernel_launcher.py:15: RuntimeWarning: invalid value encountered in multiply\n",
      "  from ipykernel import kernelapp as app\n"
     ]
    },
    {
     "name": "stdout",
     "output_type": "stream",
     "text": [
      "Counter({True: 1213, False: 134})\n",
      "Counter({True: 404, False: 46})\n"
     ]
    },
    {
     "data": {
      "text/plain": [
       "{'w': array([[ 0.11381448],\n",
       "        [-0.6173637 ],\n",
       "        [ 1.40251809],\n",
       "        [ 1.69614571],\n",
       "        [-0.5371821 ],\n",
       "        [ 1.24210273],\n",
       "        [ 0.31614028],\n",
       "        [ 0.57672448],\n",
       "        [ 0.02342314],\n",
       "        [ 0.51004326],\n",
       "        [-1.13091421],\n",
       "        [-0.2796233 ],\n",
       "        [ 0.10635035],\n",
       "        [-0.35737728],\n",
       "        [-0.54042553],\n",
       "        [ 1.84219217],\n",
       "        [-0.70419907],\n",
       "        [-0.06371165],\n",
       "        [-1.58567381],\n",
       "        [-0.67884324],\n",
       "        [ 1.16525886],\n",
       "        [ 0.40381529],\n",
       "        [-1.51890256],\n",
       "        [-0.99291213],\n",
       "        [-0.05725528],\n",
       "        [ 0.23222969],\n",
       "        [ 0.66542613],\n",
       "        [-0.08013473],\n",
       "        [ 0.68482587],\n",
       "        [ 1.1504274 ],\n",
       "        [-0.15571637],\n",
       "        [-0.34428801],\n",
       "        [ 0.1136165 ],\n",
       "        [-0.76709616],\n",
       "        [-1.80554551],\n",
       "        [-0.53204163],\n",
       "        [-0.877883  ],\n",
       "        [-0.82384393],\n",
       "        [-1.08835328],\n",
       "        [-0.15158891],\n",
       "        [-0.11336393],\n",
       "        [-0.38458506],\n",
       "        [ 1.43148883],\n",
       "        [-2.65387163],\n",
       "        [ 0.10843963],\n",
       "        [-0.89916192],\n",
       "        [-0.97715799],\n",
       "        [-1.36081305],\n",
       "        [-0.7594122 ],\n",
       "        [-1.90725169],\n",
       "        [-0.88405371],\n",
       "        [-0.93954492],\n",
       "        [-0.80980969],\n",
       "        [ 0.85135426],\n",
       "        [ 0.30518758],\n",
       "        [ 0.15715651],\n",
       "        [ 0.61420095],\n",
       "        [-0.19970059],\n",
       "        [-1.60769346],\n",
       "        [ 0.08359355],\n",
       "        [ 0.62273768],\n",
       "        [-1.05506411],\n",
       "        [ 0.18706052],\n",
       "        [-0.35872992]]),\n",
       " 'b': 5e-05,\n",
       " 'training_accuracy': 0.9005196733481812,\n",
       " 'test_accuracy': 0.8977777777777778,\n",
       " 'cost': [680.6493144465927,\n",
       "  nan,\n",
       "  nan,\n",
       "  nan,\n",
       "  nan,\n",
       "  13.640536457388906,\n",
       "  12.237153785992513,\n",
       "  11.140354544949894,\n",
       "  10.249465211087589,\n",
       "  9.49733582533251,\n",
       "  8.848389565600964,\n",
       "  8.284247497425504,\n",
       "  8.156118787487884,\n",
       "  8.030143082382565,\n",
       "  8.078621872212839,\n",
       "  26.916009088807122,\n",
       "  8.014349902798013,\n",
       "  7.062803293305155,\n",
       "  7.0281724055709045,\n",
       "  7.021235790285667,\n",
       "  7.034575282602047,\n",
       "  7.064350189772241,\n",
       "  7.107161788752274,\n",
       "  7.159651460849351,\n",
       "  7.2180917588851194,\n",
       "  7.278720597626841,\n",
       "  7.338480739213759,\n",
       "  7.395923499166184,\n",
       "  7.453550797177559,\n",
       "  7.513601761167351,\n",
       "  7.565894228674435,\n",
       "  7.5862282873830535,\n",
       "  7.55881212161197,\n",
       "  7.4953245725631685,\n",
       "  7.420334826189961,\n",
       "  7.34504905594223,\n",
       "  7.274121907048224,\n",
       "  7.2049269920551495,\n",
       "  7.136209568943127,\n",
       "  7.067594336339418,\n",
       "  6.999411772445508,\n",
       "  6.932836783120799,\n",
       "  6.868074551747478,\n",
       "  6.80584179002139,\n",
       "  6.7461274977597165,\n",
       "  6.688980686413567,\n",
       "  6.634459455545816,\n",
       "  6.582392080340615,\n",
       "  6.532734202274604,\n",
       "  6.485841474197402]}"
      ]
     },
     "execution_count": 21,
     "metadata": {},
     "output_type": "execute_result"
    }
   ],
   "source": [
    "def model(X_train, Y_train, X_test, Y_test, num_iterations, learning_rate, print_cost):\n",
    "    \"\"\"\n",
    "    Build the logistic regression model by calling all the functions you have implemented.\n",
    "    Arguments:\n",
    "    X_train - training set\n",
    "    Y_train - training label\n",
    "    X_test - test set\n",
    "    Y_test - test label\n",
    "    num_iteration - hyperparameter representing the number of iterations to optimize the parameters\n",
    "    learning_rate -- hyperparameter representing the learning rate used in the update rule of optimize()\n",
    "    print_cost -- Set to true to print the cost every 100 iterations\n",
    "    \n",
    "    Returns:\n",
    "    d - dictionary should contain following information w,b,training_accuracy, test_accuracy,cost\n",
    "    eg: d = {\"w\":w,\n",
    "             \"b\":b,\n",
    "             \"training_accuracy\": traing_accuracy,\n",
    "             \"test_accuracy\":test_accuracy,\n",
    "             \"cost\":cost}\n",
    "    \"\"\"\n",
    "    w,b = initialize_parameters(X_train.shape[1])\n",
    "    params, grads, costs = optimize(w, b, X_train, Y_train, num_iterations, learning_rate, print_cost=print_cost)\n",
    "    \n",
    "    Y_prediction = predict(params['w'], params['b'], X_train)\n",
    "    counter = Counter(list((Y_prediction == Y_train).reshape(-1)))\n",
    "    print(counter)\n",
    "    traing_accuracy = counter[True]/len(Y_train)\n",
    "    \n",
    "    Y_prediction = predict(params['w'], params['b'], X_test)\n",
    "    counter = Counter(list((Y_prediction == Y_test).reshape(-1)))\n",
    "    print(counter)\n",
    "    test_accuracy = counter[True]/len(Y_test)\n",
    "    \n",
    "    return {\"w\":w,\n",
    "             \"b\":b,\n",
    "             \"training_accuracy\": traing_accuracy,\n",
    "             \"test_accuracy\":test_accuracy,\n",
    "             \"cost\":costs}\n",
    "\n",
    "result = model(X_train, y_train, X_test, y_test, 5000, 0.001, print_cost=False)\n",
    "result"
   ]
  },
  {
   "cell_type": "code",
   "execution_count": 22,
   "metadata": {
    "pycharm": {
     "is_executing": false
    }
   },
   "outputs": [],
   "source": [
    "import matplotlib.pyplot as plt"
   ]
  },
  {
   "cell_type": "code",
   "execution_count": 23,
   "metadata": {
    "pycharm": {
     "is_executing": false
    }
   },
   "outputs": [
    {
     "data": {
      "text/plain": [
       "<matplotlib.collections.PathCollection at 0x50b0dc8>"
      ]
     },
     "execution_count": 23,
     "metadata": {},
     "output_type": "execute_result"
    },
    {
     "data": {
      "image/png": "[encoded data removed]",
      "text/plain": [
       "<Figure size 432x288 with 1 Axes>"
      ]
     },
     "metadata": {
      "needs_background": "light"
     },
     "output_type": "display_data"
    }
   ],
   "source": [
    "plt.scatter(range(len(result['cost'])), result['cost'])"
   ]
  },
  {
   "cell_type": "markdown",
   "metadata": {},
   "source": [
    "### 用keras 看下能做到那一步"
   ]
  },
  {
   "cell_type": "code",
   "execution_count": 24,
   "metadata": {
    "pycharm": {
     "is_executing": false
    }
   },
   "outputs": [
    {
     "name": "stderr",
     "output_type": "stream",
     "text": [
      "Using TensorFlow backend.\n"
     ]
    }
   ],
   "source": [
    "import keras\n",
    "\n",
    "from keras.layers import Dense\n",
    "from keras.models import Sequential"
   ]
  },
  {
   "cell_type": "code",
   "execution_count": 25,
   "metadata": {
    "pycharm": {
     "is_executing": false
    }
   },
   "outputs": [
    {
     "ename": "AttributeError",
     "evalue": "module 'tensorflow' has no attribute 'get_default_graph'",
     "output_type": "error",
     "traceback": [
      "\u001b[1;31m---------------------------------------------------------------------------\u001b[0m",
      "\u001b[1;31mAttributeError\u001b[0m                            Traceback (most recent call last)",
      "\u001b[1;32m<ipython-input-25-d4543bb6e163>\u001b[0m in \u001b[0;36m<module>\u001b[1;34m\u001b[0m\n\u001b[1;32m----> 1\u001b[1;33m \u001b[0mmodel\u001b[0m \u001b[1;33m=\u001b[0m \u001b[0mSequential\u001b[0m\u001b[1;33m(\u001b[0m\u001b[1;33m)\u001b[0m\u001b[1;33m\u001b[0m\u001b[1;33m\u001b[0m\u001b[0m\n\u001b[0m\u001b[0;32m      2\u001b[0m \u001b[1;33m\u001b[0m\u001b[0m\n\u001b[0;32m      3\u001b[0m \u001b[0mmodel\u001b[0m\u001b[1;33m.\u001b[0m\u001b[0madd\u001b[0m\u001b[1;33m(\u001b[0m\u001b[0mDense\u001b[0m\u001b[1;33m(\u001b[0m\u001b[0munits\u001b[0m\u001b[1;33m=\u001b[0m\u001b[1;36m1\u001b[0m\u001b[1;33m,\u001b[0m \u001b[0mactivation\u001b[0m\u001b[1;33m=\u001b[0m\u001b[1;34m'sigmoid'\u001b[0m\u001b[1;33m)\u001b[0m\u001b[1;33m)\u001b[0m\u001b[1;33m\u001b[0m\u001b[1;33m\u001b[0m\u001b[0m\n\u001b[0;32m      4\u001b[0m \u001b[1;33m\u001b[0m\u001b[0m\n\u001b[0;32m      5\u001b[0m model.compile(loss='binary_crossentropy',\n",
      "\u001b[1;32mD:\\ProgramData\\Anaconda3\\lib\\site-packages\\keras\\engine\\sequential.py\u001b[0m in \u001b[0;36m__init__\u001b[1;34m(self, layers, name)\u001b[0m\n\u001b[0;32m     85\u001b[0m \u001b[1;33m\u001b[0m\u001b[0m\n\u001b[0;32m     86\u001b[0m     \u001b[1;32mdef\u001b[0m \u001b[0m__init__\u001b[0m\u001b[1;33m(\u001b[0m\u001b[0mself\u001b[0m\u001b[1;33m,\u001b[0m \u001b[0mlayers\u001b[0m\u001b[1;33m=\u001b[0m\u001b[1;32mNone\u001b[0m\u001b[1;33m,\u001b[0m \u001b[0mname\u001b[0m\u001b[1;33m=\u001b[0m\u001b[1;32mNone\u001b[0m\u001b[1;33m)\u001b[0m\u001b[1;33m:\u001b[0m\u001b[1;33m\u001b[0m\u001b[1;33m\u001b[0m\u001b[0m\n\u001b[1;32m---> 87\u001b[1;33m         \u001b[0msuper\u001b[0m\u001b[1;33m(\u001b[0m\u001b[0mSequential\u001b[0m\u001b[1;33m,\u001b[0m \u001b[0mself\u001b[0m\u001b[1;33m)\u001b[0m\u001b[1;33m.\u001b[0m\u001b[0m__init__\u001b[0m\u001b[1;33m(\u001b[0m\u001b[0mname\u001b[0m\u001b[1;33m=\u001b[0m\u001b[0mname\u001b[0m\u001b[1;33m)\u001b[0m\u001b[1;33m\u001b[0m\u001b[1;33m\u001b[0m\u001b[0m\n\u001b[0m\u001b[0;32m     88\u001b[0m         \u001b[0mself\u001b[0m\u001b[1;33m.\u001b[0m\u001b[0m_build_input_shape\u001b[0m \u001b[1;33m=\u001b[0m \u001b[1;32mNone\u001b[0m\u001b[1;33m\u001b[0m\u001b[1;33m\u001b[0m\u001b[0m\n\u001b[0;32m     89\u001b[0m \u001b[1;33m\u001b[0m\u001b[0m\n",
      "\u001b[1;32mD:\\ProgramData\\Anaconda3\\lib\\site-packages\\keras\\legacy\\interfaces.py\u001b[0m in \u001b[0;36mwrapper\u001b[1;34m(*args, **kwargs)\u001b[0m\n\u001b[0;32m     89\u001b[0m                 warnings.warn('Update your `' + object_name + '` call to the ' +\n\u001b[0;32m     90\u001b[0m                               'Keras 2 API: ' + signature, stacklevel=2)\n\u001b[1;32m---> 91\u001b[1;33m             \u001b[1;32mreturn\u001b[0m \u001b[0mfunc\u001b[0m\u001b[1;33m(\u001b[0m\u001b[1;33m*\u001b[0m\u001b[0margs\u001b[0m\u001b[1;33m,\u001b[0m \u001b[1;33m**\u001b[0m\u001b[0mkwargs\u001b[0m\u001b[1;33m)\u001b[0m\u001b[1;33m\u001b[0m\u001b[1;33m\u001b[0m\u001b[0m\n\u001b[0m\u001b[0;32m     92\u001b[0m         \u001b[0mwrapper\u001b[0m\u001b[1;33m.\u001b[0m\u001b[0m_original_function\u001b[0m \u001b[1;33m=\u001b[0m \u001b[0mfunc\u001b[0m\u001b[1;33m\u001b[0m\u001b[1;33m\u001b[0m\u001b[0m\n\u001b[0;32m     93\u001b[0m         \u001b[1;32mreturn\u001b[0m \u001b[0mwrapper\u001b[0m\u001b[1;33m\u001b[0m\u001b[1;33m\u001b[0m\u001b[0m\n",
      "\u001b[1;32mD:\\ProgramData\\Anaconda3\\lib\\site-packages\\keras\\engine\\network.py\u001b[0m in \u001b[0;36m__init__\u001b[1;34m(self, *args, **kwargs)\u001b[0m\n\u001b[0;32m     94\u001b[0m         \u001b[1;32melse\u001b[0m\u001b[1;33m:\u001b[0m\u001b[1;33m\u001b[0m\u001b[1;33m\u001b[0m\u001b[0m\n\u001b[0;32m     95\u001b[0m             \u001b[1;31m# Subclassed network\u001b[0m\u001b[1;33m\u001b[0m\u001b[1;33m\u001b[0m\u001b[1;33m\u001b[0m\u001b[0m\n\u001b[1;32m---> 96\u001b[1;33m             \u001b[0mself\u001b[0m\u001b[1;33m.\u001b[0m\u001b[0m_init_subclassed_network\u001b[0m\u001b[1;33m(\u001b[0m\u001b[1;33m**\u001b[0m\u001b[0mkwargs\u001b[0m\u001b[1;33m)\u001b[0m\u001b[1;33m\u001b[0m\u001b[1;33m\u001b[0m\u001b[0m\n\u001b[0m\u001b[0;32m     97\u001b[0m \u001b[1;33m\u001b[0m\u001b[0m\n\u001b[0;32m     98\u001b[0m     \u001b[1;32mdef\u001b[0m \u001b[0m_base_init\u001b[0m\u001b[1;33m(\u001b[0m\u001b[0mself\u001b[0m\u001b[1;33m,\u001b[0m \u001b[0mname\u001b[0m\u001b[1;33m=\u001b[0m\u001b[1;32mNone\u001b[0m\u001b[1;33m)\u001b[0m\u001b[1;33m:\u001b[0m\u001b[1;33m\u001b[0m\u001b[1;33m\u001b[0m\u001b[0m\n",
      "\u001b[1;32mD:\\ProgramData\\Anaconda3\\lib\\site-packages\\keras\\engine\\network.py\u001b[0m in \u001b[0;36m_init_subclassed_network\u001b[1;34m(self, name)\u001b[0m\n\u001b[0;32m    292\u001b[0m \u001b[1;33m\u001b[0m\u001b[0m\n\u001b[0;32m    293\u001b[0m     \u001b[1;32mdef\u001b[0m \u001b[0m_init_subclassed_network\u001b[0m\u001b[1;33m(\u001b[0m\u001b[0mself\u001b[0m\u001b[1;33m,\u001b[0m \u001b[0mname\u001b[0m\u001b[1;33m=\u001b[0m\u001b[1;32mNone\u001b[0m\u001b[1;33m)\u001b[0m\u001b[1;33m:\u001b[0m\u001b[1;33m\u001b[0m\u001b[1;33m\u001b[0m\u001b[0m\n\u001b[1;32m--> 294\u001b[1;33m         \u001b[0mself\u001b[0m\u001b[1;33m.\u001b[0m\u001b[0m_base_init\u001b[0m\u001b[1;33m(\u001b[0m\u001b[0mname\u001b[0m\u001b[1;33m=\u001b[0m\u001b[0mname\u001b[0m\u001b[1;33m)\u001b[0m\u001b[1;33m\u001b[0m\u001b[1;33m\u001b[0m\u001b[0m\n\u001b[0m\u001b[0;32m    295\u001b[0m         \u001b[0mself\u001b[0m\u001b[1;33m.\u001b[0m\u001b[0m_is_graph_network\u001b[0m \u001b[1;33m=\u001b[0m \u001b[1;32mFalse\u001b[0m\u001b[1;33m\u001b[0m\u001b[1;33m\u001b[0m\u001b[0m\n\u001b[0;32m    296\u001b[0m         \u001b[0mself\u001b[0m\u001b[1;33m.\u001b[0m\u001b[0m_expects_training_arg\u001b[0m \u001b[1;33m=\u001b[0m \u001b[0mhas_arg\u001b[0m\u001b[1;33m(\u001b[0m\u001b[0mself\u001b[0m\u001b[1;33m.\u001b[0m\u001b[0mcall\u001b[0m\u001b[1;33m,\u001b[0m \u001b[1;34m'training'\u001b[0m\u001b[1;33m)\u001b[0m\u001b[1;33m\u001b[0m\u001b[1;33m\u001b[0m\u001b[0m\n",
      "\u001b[1;32mD:\\ProgramData\\Anaconda3\\lib\\site-packages\\keras\\engine\\network.py\u001b[0m in \u001b[0;36m_base_init\u001b[1;34m(self, name)\u001b[0m\n\u001b[0;32m    107\u001b[0m         \u001b[1;32mif\u001b[0m \u001b[1;32mnot\u001b[0m \u001b[0mname\u001b[0m\u001b[1;33m:\u001b[0m\u001b[1;33m\u001b[0m\u001b[1;33m\u001b[0m\u001b[0m\n\u001b[0;32m    108\u001b[0m             \u001b[0mprefix\u001b[0m \u001b[1;33m=\u001b[0m \u001b[0mself\u001b[0m\u001b[1;33m.\u001b[0m\u001b[0m__class__\u001b[0m\u001b[1;33m.\u001b[0m\u001b[0m__name__\u001b[0m\u001b[1;33m.\u001b[0m\u001b[0mlower\u001b[0m\u001b[1;33m(\u001b[0m\u001b[1;33m)\u001b[0m\u001b[1;33m\u001b[0m\u001b[1;33m\u001b[0m\u001b[0m\n\u001b[1;32m--> 109\u001b[1;33m             \u001b[0mname\u001b[0m \u001b[1;33m=\u001b[0m \u001b[0mprefix\u001b[0m \u001b[1;33m+\u001b[0m \u001b[1;34m'_'\u001b[0m \u001b[1;33m+\u001b[0m \u001b[0mstr\u001b[0m\u001b[1;33m(\u001b[0m\u001b[0mK\u001b[0m\u001b[1;33m.\u001b[0m\u001b[0mget_uid\u001b[0m\u001b[1;33m(\u001b[0m\u001b[0mprefix\u001b[0m\u001b[1;33m)\u001b[0m\u001b[1;33m)\u001b[0m\u001b[1;33m\u001b[0m\u001b[1;33m\u001b[0m\u001b[0m\n\u001b[0m\u001b[0;32m    110\u001b[0m         \u001b[0mself\u001b[0m\u001b[1;33m.\u001b[0m\u001b[0mname\u001b[0m \u001b[1;33m=\u001b[0m \u001b[0mname\u001b[0m\u001b[1;33m\u001b[0m\u001b[1;33m\u001b[0m\u001b[0m\n\u001b[0;32m    111\u001b[0m \u001b[1;33m\u001b[0m\u001b[0m\n",
      "\u001b[1;32mD:\\ProgramData\\Anaconda3\\lib\\site-packages\\keras\\backend\\tensorflow_backend.py\u001b[0m in \u001b[0;36mget_uid\u001b[1;34m(prefix)\u001b[0m\n\u001b[0;32m     72\u001b[0m     \"\"\"\n\u001b[0;32m     73\u001b[0m     \u001b[1;32mglobal\u001b[0m \u001b[0m_GRAPH_UID_DICTS\u001b[0m\u001b[1;33m\u001b[0m\u001b[1;33m\u001b[0m\u001b[0m\n\u001b[1;32m---> 74\u001b[1;33m     \u001b[0mgraph\u001b[0m \u001b[1;33m=\u001b[0m \u001b[0mtf\u001b[0m\u001b[1;33m.\u001b[0m\u001b[0mget_default_graph\u001b[0m\u001b[1;33m(\u001b[0m\u001b[1;33m)\u001b[0m\u001b[1;33m\u001b[0m\u001b[1;33m\u001b[0m\u001b[0m\n\u001b[0m\u001b[0;32m     75\u001b[0m     \u001b[1;32mif\u001b[0m \u001b[0mgraph\u001b[0m \u001b[1;32mnot\u001b[0m \u001b[1;32min\u001b[0m \u001b[0m_GRAPH_UID_DICTS\u001b[0m\u001b[1;33m:\u001b[0m\u001b[1;33m\u001b[0m\u001b[1;33m\u001b[0m\u001b[0m\n\u001b[0;32m     76\u001b[0m         \u001b[0m_GRAPH_UID_DICTS\u001b[0m\u001b[1;33m[\u001b[0m\u001b[0mgraph\u001b[0m\u001b[1;33m]\u001b[0m \u001b[1;33m=\u001b[0m \u001b[0mdefaultdict\u001b[0m\u001b[1;33m(\u001b[0m\u001b[0mint\u001b[0m\u001b[1;33m)\u001b[0m\u001b[1;33m\u001b[0m\u001b[1;33m\u001b[0m\u001b[0m\n",
      "\u001b[1;31mAttributeError\u001b[0m: module 'tensorflow' has no attribute 'get_default_graph'"
     ]
    }
   ],
   "source": [
    "model = Sequential()\n",
    "\n",
    "model.add(Dense(units=1, activation='sigmoid'))\n",
    "\n",
    "model.compile(loss='binary_crossentropy',\n",
    "              optimizer='sgd',\n",
    "              metrics=['mse'])\n",
    "\n",
    "model.fit(X_train, y_train, epochs=500, batch_size=32)"
   ]
  },
  {
   "cell_type": "code",
   "execution_count": null,
   "metadata": {
    "pycharm": {
     "is_executing": false
    }
   },
   "outputs": [],
   "source": [
    "def see_result():\n",
    "    Y_prediction = model.predict(X_train)\n",
    "    Y_prediction = Y_prediction.reshape(-1)\n",
    "    for i in range(Y_prediction.shape[0]):\n",
    "            Y_prediction[i] = 1 if Y_prediction[i] > 0.5 else 0\n",
    "    counter = Counter(list((Y_prediction == y_train).reshape(-1)))\n",
    "    print(counter)\n",
    "    traing_accuracy = counter[True]/len(y_train)\n",
    "    \n",
    "    Y_prediction = model.predict(X_test)\n",
    "    Y_prediction = Y_prediction.reshape(-1)\n",
    "    for i in range(Y_prediction.shape[0]):\n",
    "            Y_prediction[i] = 1 if Y_prediction[i] > 0.5 else 0\n",
    "    counter = Counter(list((Y_prediction == y_test).reshape(-1)))\n",
    "    print(counter)\n",
    "    test_accuracy = counter[True]/len(y_test)\n",
    "    \n",
    "    print(traing_accuracy, test_accuracy)\n",
    "    # print([(yp, yt) for yp, yt in zip(Y_prediction.reshape(-1), y_test)])\n",
    "    "
   ]
  },
  {
   "cell_type": "code",
   "execution_count": null,
   "metadata": {
    "pycharm": {
     "is_executing": false,
     "name": "#%%\n"
    }
   },
   "outputs": [],
   "source": [
    "see_result()\n"
   ]
  },
  {
   "cell_type": "code",
   "execution_count": null,
   "metadata": {
    "pycharm": {
     "is_executing": false,
     "name": "#%%\n"
    }
   },
   "outputs": [],
   "source": [
    "model = Sequential()\n",
    "\n",
    "model.add(Dense(units=64, activation='relu'))\n",
    "model.add(Dense(units=1, activation='sigmoid'))\n",
    "\n",
    "model.compile(loss='binary_crossentropy',\n",
    "              optimizer='sgd',\n",
    "              metrics=['mse'])\n",
    "\n",
    "model.fit(X_train, y_train, epochs=500, batch_size=32)"
   ]
  },
  {
   "cell_type": "code",
   "execution_count": null,
   "metadata": {
    "pycharm": {
     "is_executing": false,
     "name": "#%%\n"
    }
   },
   "outputs": [],
   "source": [
    "see_result()"
   ]
  },
  {
   "cell_type": "markdown",
   "metadata": {},
   "source": [
    "### 用Keras尝试单层和多层网络，多层比单层结果好多了。"
   ]
  },
  {
   "cell_type": "markdown",
   "metadata": {},
   "source": [
    "### 4.选做题"
   ]
  },
  {
   "cell_type": "markdown",
   "metadata": {},
   "source": [
    "Congratulations on building your first logistic regression model. It is your time to analyze it further."
   ]
  },
  {
   "cell_type": "markdown",
   "metadata": {},
   "source": [
    "##### 4.1 Observe the effect of learning rate on the leraning process.   \n",
    "Hits: plot the learning curve with different learning rate"
   ]
  },
  {
   "cell_type": "markdown",
   "metadata": {},
   "source": [
    "现在学习率是0.001，换成0.01 或0.0001 都难以收敛。"
   ]
  },
  {
   "cell_type": "markdown",
   "metadata": {},
   "source": [
    "##### 4.2 Observe the effect of iteration_num on the test accuracy."
   ]
  },
  {
   "cell_type": "markdown",
   "metadata": {
    "pycharm": {
     "name": "#%% md\n"
    }
   },
   "source": [
    "设置迭代次数为10000时，可以观察到模型的cost会周期性变化\n"
   ]
  }
 ],
 "metadata": {
  "kernelspec": {
   "display_name": "Python 3",
   "language": "python",
   "name": "python3"
  },
  "language_info": {
   "codemirror_mode": {
    "name": "ipython",
    "version": 3
   },
   "file_extension": ".py",
   "mimetype": "text/x-python",
   "name": "python",
   "nbconvert_exporter": "python",
   "pygments_lexer": "ipython3",
   "version": "3.7.4"
  },
  "pycharm": {
   "stem_cell": {
    "cell_type": "raw",
    "metadata": {
     "collapsed": false
    },
    "source": []
   }
  }
 },
 "nbformat": 4,
 "nbformat_minor": 2
}
